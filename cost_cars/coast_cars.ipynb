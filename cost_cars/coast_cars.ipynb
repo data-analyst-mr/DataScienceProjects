{
 "cells": [
  {
   "cell_type": "markdown",
   "metadata": {},
   "source": [
    "# Определение стоимости автомобилей"
   ]
  },
  {
   "cell_type": "markdown",
   "metadata": {},
   "source": [
    "**Содержание:**  \n",
    "1. [Импорт данных и общая информация](#load_and_info)  \n",
    " 1.1. [Импорт библиотек](#import)  \n",
    " 1.2. [Импорт данных](#read)  \n",
    " 1.3. [Общая информация](#info)  \n",
    "    \n",
    "    \n",
    "2. [Подготовка данных](#preparation)  \n",
    " \n",
    " \n",
    "3. [Обучение моделей](#study)  \n",
    "\n",
    "\n",
    "4. [Анализ моделей](#analysis)  \n",
    " 4.1. [Сводная таблица](#union_table)  \n",
    " 4.2. [Проверка лучшей модели на тестовой выборке](#test)  \n",
    " 4.3. [Сравнение с dummy  моделью](#dummy)  \n",
    " \n",
    "\n",
    "6. [Общий вывод](#final)  "
   ]
  },
  {
   "cell_type": "markdown",
   "metadata": {},
   "source": [
    "**Заказчик исследования:** сервис по продаже автомобилей с пробегом.  \n",
    "**Цель исследования:** построить модель прогнозирования рыночной стоимости автомобиля.  \n",
    "**Инструменты:** для реализации проекта использованы модели LGBMRegressor, DecisionTreeRegressor и RandomForestRegressor.  \n",
    "\n",
    "**Особенности проекта:** \n",
    "Значение метрики MRSE не должно превышать 2500.\n",
    "Заказчику важны:\n",
    "- качество предсказания;\n",
    "- скорость предсказания;\n",
    "- время обучения.\n",
    "\n",
    "**Исходные данные:**  \n",
    "Исходные данные представлены в датасете autos.csv\n",
    "В датасете содержатся следующие признаки:  \n",
    "\n",
    "- DateCrawled — дата скачивания анкеты из базы;\n",
    "- VehicleType — тип автомобильного кузова;\n",
    "- RegistrationYear — год регистрации автомобиля;\n",
    "- Gearbox — тип коробки передач;\n",
    "- Power — мощность (л. с.);\n",
    "- Model — модель автомобиля;\n",
    "- Kilometer — пробег (км);\n",
    "- RegistrationMonth — месяц регистрации автомобиля;\n",
    "- FuelType — тип топлива;\n",
    "- Brand — марка автомобиля;\n",
    "- Repaired — была машина в ремонте или нет;\n",
    "- DateCreated — дата создания анкеты;\n",
    "- NumberOfPictures — количество фотографий автомобиля;\n",
    "- PostalCode — почтовый индекс владельца анкеты (пользователя);\n",
    "- LastSeen — дата последней активности пользователя.  \n",
    "\n",
    "Целевой признак:\n",
    "- Price — цена (евро)."
   ]
  },
  {
   "cell_type": "markdown",
   "metadata": {},
   "source": [
    "## Импорт данных и общая информация\n",
    "<a id=\"load_and_info\"></a>"
   ]
  },
  {
   "cell_type": "markdown",
   "metadata": {},
   "source": [
    "### Импорт библиотек\n",
    "<a id=\"import\"></a>"
   ]
  },
  {
   "cell_type": "code",
   "execution_count": 1,
   "metadata": {},
   "outputs": [
    {
     "name": "stderr",
     "output_type": "stream",
     "text": [
      "D:\\Programs\\anaconda3\\Lib\\site-packages\\numba\\core\\decorators.py:262: NumbaDeprecationWarning: \u001b[1mnumba.generated_jit is deprecated. Please see the documentation at: https://numba.readthedocs.io/en/stable/reference/deprecation.html#deprecation-of-generated-jit for more information and advice on a suitable replacement.\u001b[0m\n",
      "  warnings.warn(msg, NumbaDeprecationWarning)\n",
      "C:\\Users\\bond_\\AppData\\Roaming\\Python\\Python311\\site-packages\\visions\\backends\\shared\\nan_handling.py:50: NumbaDeprecationWarning: \u001b[1mThe 'nopython' keyword argument was not supplied to the 'numba.jit' decorator. The implicit default value for this argument is currently False, but it will be changed to True in Numba 0.59.0. See https://numba.readthedocs.io/en/stable/reference/deprecation.html#deprecation-of-object-mode-fall-back-behaviour-when-using-jit for details.\u001b[0m\n",
      "  @nb.jit\n"
     ]
    }
   ],
   "source": [
    "import numpy as np\n",
    "import pandas as pd\n",
    "\n",
    "from sklearn.dummy import DummyRegressor\n",
    "from sklearn.ensemble import RandomForestRegressor\n",
    "from sklearn.metrics import mean_squared_error, r2_score\n",
    "from sklearn.model_selection import train_test_split, GridSearchCV, RandomizedSearchCV\n",
    "from sklearn.preprocessing import OneHotEncoder, StandardScaler\n",
    "from sklearn.tree import DecisionTreeRegressor\n",
    "\n",
    "import lightgbm as lgb\n",
    "import timeit\n",
    "import ydata_profiling\n",
    "import datetime\n",
    "\n",
    "\n",
    "from optuna.distributions import FloatDistribution as floatd\n",
    "from optuna.distributions import IntDistribution as intd\n",
    "import optuna\n",
    "from optuna.integration import OptunaSearchCV"
   ]
  },
  {
   "cell_type": "markdown",
   "metadata": {},
   "source": [
    "### Импорт данных\n",
    "<a id=\"read\"></a>"
   ]
  },
  {
   "cell_type": "code",
   "execution_count": 2,
   "metadata": {},
   "outputs": [],
   "source": [
    "try:\n",
    "    df = pd.read_csv('/datasets/autos.csv')\n",
    "except:\n",
    "    df = pd.read_csv('https://code.s3.yandex.net/datasets/autos.csv')"
   ]
  },
  {
   "cell_type": "markdown",
   "metadata": {},
   "source": [
    "### Общая информация\n",
    "<a id=\"info\"></a>"
   ]
  },
  {
   "cell_type": "code",
   "execution_count": 3,
   "metadata": {},
   "outputs": [],
   "source": [
    "# df.profile_report()"
   ]
  },
  {
   "cell_type": "code",
   "execution_count": 4,
   "metadata": {},
   "outputs": [
    {
     "data": {
      "text/html": [
       "<div>\n",
       "<style scoped>\n",
       "    .dataframe tbody tr th:only-of-type {\n",
       "        vertical-align: middle;\n",
       "    }\n",
       "\n",
       "    .dataframe tbody tr th {\n",
       "        vertical-align: top;\n",
       "    }\n",
       "\n",
       "    .dataframe thead th {\n",
       "        text-align: right;\n",
       "    }\n",
       "</style>\n",
       "<table border=\"1\" class=\"dataframe\">\n",
       "  <thead>\n",
       "    <tr style=\"text-align: right;\">\n",
       "      <th></th>\n",
       "      <th>DateCrawled</th>\n",
       "      <th>Price</th>\n",
       "      <th>VehicleType</th>\n",
       "      <th>RegistrationYear</th>\n",
       "      <th>Gearbox</th>\n",
       "      <th>Power</th>\n",
       "      <th>Model</th>\n",
       "      <th>Kilometer</th>\n",
       "      <th>RegistrationMonth</th>\n",
       "      <th>FuelType</th>\n",
       "      <th>Brand</th>\n",
       "      <th>Repaired</th>\n",
       "      <th>DateCreated</th>\n",
       "      <th>NumberOfPictures</th>\n",
       "      <th>PostalCode</th>\n",
       "      <th>LastSeen</th>\n",
       "    </tr>\n",
       "  </thead>\n",
       "  <tbody>\n",
       "    <tr>\n",
       "      <th>0</th>\n",
       "      <td>2016-03-24 11:52:17</td>\n",
       "      <td>480</td>\n",
       "      <td>NaN</td>\n",
       "      <td>1993</td>\n",
       "      <td>manual</td>\n",
       "      <td>0</td>\n",
       "      <td>golf</td>\n",
       "      <td>150000</td>\n",
       "      <td>0</td>\n",
       "      <td>petrol</td>\n",
       "      <td>volkswagen</td>\n",
       "      <td>NaN</td>\n",
       "      <td>2016-03-24 00:00:00</td>\n",
       "      <td>0</td>\n",
       "      <td>70435</td>\n",
       "      <td>2016-04-07 03:16:57</td>\n",
       "    </tr>\n",
       "    <tr>\n",
       "      <th>1</th>\n",
       "      <td>2016-03-24 10:58:45</td>\n",
       "      <td>18300</td>\n",
       "      <td>coupe</td>\n",
       "      <td>2011</td>\n",
       "      <td>manual</td>\n",
       "      <td>190</td>\n",
       "      <td>NaN</td>\n",
       "      <td>125000</td>\n",
       "      <td>5</td>\n",
       "      <td>gasoline</td>\n",
       "      <td>audi</td>\n",
       "      <td>yes</td>\n",
       "      <td>2016-03-24 00:00:00</td>\n",
       "      <td>0</td>\n",
       "      <td>66954</td>\n",
       "      <td>2016-04-07 01:46:50</td>\n",
       "    </tr>\n",
       "    <tr>\n",
       "      <th>2</th>\n",
       "      <td>2016-03-14 12:52:21</td>\n",
       "      <td>9800</td>\n",
       "      <td>suv</td>\n",
       "      <td>2004</td>\n",
       "      <td>auto</td>\n",
       "      <td>163</td>\n",
       "      <td>grand</td>\n",
       "      <td>125000</td>\n",
       "      <td>8</td>\n",
       "      <td>gasoline</td>\n",
       "      <td>jeep</td>\n",
       "      <td>NaN</td>\n",
       "      <td>2016-03-14 00:00:00</td>\n",
       "      <td>0</td>\n",
       "      <td>90480</td>\n",
       "      <td>2016-04-05 12:47:46</td>\n",
       "    </tr>\n",
       "    <tr>\n",
       "      <th>3</th>\n",
       "      <td>2016-03-17 16:54:04</td>\n",
       "      <td>1500</td>\n",
       "      <td>small</td>\n",
       "      <td>2001</td>\n",
       "      <td>manual</td>\n",
       "      <td>75</td>\n",
       "      <td>golf</td>\n",
       "      <td>150000</td>\n",
       "      <td>6</td>\n",
       "      <td>petrol</td>\n",
       "      <td>volkswagen</td>\n",
       "      <td>no</td>\n",
       "      <td>2016-03-17 00:00:00</td>\n",
       "      <td>0</td>\n",
       "      <td>91074</td>\n",
       "      <td>2016-03-17 17:40:17</td>\n",
       "    </tr>\n",
       "    <tr>\n",
       "      <th>4</th>\n",
       "      <td>2016-03-31 17:25:20</td>\n",
       "      <td>3600</td>\n",
       "      <td>small</td>\n",
       "      <td>2008</td>\n",
       "      <td>manual</td>\n",
       "      <td>69</td>\n",
       "      <td>fabia</td>\n",
       "      <td>90000</td>\n",
       "      <td>7</td>\n",
       "      <td>gasoline</td>\n",
       "      <td>skoda</td>\n",
       "      <td>no</td>\n",
       "      <td>2016-03-31 00:00:00</td>\n",
       "      <td>0</td>\n",
       "      <td>60437</td>\n",
       "      <td>2016-04-06 10:17:21</td>\n",
       "    </tr>\n",
       "  </tbody>\n",
       "</table>\n",
       "</div>"
      ],
      "text/plain": [
       "           DateCrawled  Price VehicleType  RegistrationYear Gearbox  Power  \\\n",
       "0  2016-03-24 11:52:17    480         NaN              1993  manual      0   \n",
       "1  2016-03-24 10:58:45  18300       coupe              2011  manual    190   \n",
       "2  2016-03-14 12:52:21   9800         suv              2004    auto    163   \n",
       "3  2016-03-17 16:54:04   1500       small              2001  manual     75   \n",
       "4  2016-03-31 17:25:20   3600       small              2008  manual     69   \n",
       "\n",
       "   Model  Kilometer  RegistrationMonth  FuelType       Brand Repaired  \\\n",
       "0   golf     150000                  0    petrol  volkswagen      NaN   \n",
       "1    NaN     125000                  5  gasoline        audi      yes   \n",
       "2  grand     125000                  8  gasoline        jeep      NaN   \n",
       "3   golf     150000                  6    petrol  volkswagen       no   \n",
       "4  fabia      90000                  7  gasoline       skoda       no   \n",
       "\n",
       "           DateCreated  NumberOfPictures  PostalCode             LastSeen  \n",
       "0  2016-03-24 00:00:00                 0       70435  2016-04-07 03:16:57  \n",
       "1  2016-03-24 00:00:00                 0       66954  2016-04-07 01:46:50  \n",
       "2  2016-03-14 00:00:00                 0       90480  2016-04-05 12:47:46  \n",
       "3  2016-03-17 00:00:00                 0       91074  2016-03-17 17:40:17  \n",
       "4  2016-03-31 00:00:00                 0       60437  2016-04-06 10:17:21  "
      ]
     },
     "execution_count": 4,
     "metadata": {},
     "output_type": "execute_result"
    }
   ],
   "source": [
    "df.head()"
   ]
  },
  {
   "cell_type": "code",
   "execution_count": 5,
   "metadata": {},
   "outputs": [],
   "source": [
    "object_list = ['VehicleType', 'Gearbox', 'Model', 'FuelType', 'Brand', 'Repaired']\n",
    "\n",
    "def inf(df_info):\n",
    "    print()\n",
    "    print('Общая информация:')\n",
    "    display(df_info.info(memory_usage='deep'))\n",
    "    print('_' * 50)\n",
    "    print()\n",
    "    print('Уникальные значения строковых признаков:')\n",
    "    for i in object_list:\n",
    "        print('{}:'.format(i))\n",
    "        print(df_info[i].unique())\n",
    "        print()\n",
    "    print('Описательная статистика строковых значений:')\n",
    "    display(df_info.describe(include='object').T)\n",
    "    print('_' * 50)\n",
    "    print()\n",
    "    print('Описательная статистика числовых значений:')\n",
    "    display(df_info.describe().T)\n",
    "    print('_' * 50)\n",
    "    print()\n",
    "    print('Процент пропущенных значений:')\n",
    "    display(df_info.isna().mean()*100)\n",
    "    print('_' * 50)\n",
    "    print()\n",
    "    print('Случайная выборка датафрейма:')\n",
    "    display(df_info.sample(n = 5, random_state = 0))\n",
    "    print('_' * 100)"
   ]
  },
  {
   "cell_type": "code",
   "execution_count": 6,
   "metadata": {},
   "outputs": [
    {
     "name": "stdout",
     "output_type": "stream",
     "text": [
      "\n",
      "Общая информация:\n",
      "<class 'pandas.core.frame.DataFrame'>\n",
      "RangeIndex: 354369 entries, 0 to 354368\n",
      "Data columns (total 16 columns):\n",
      " #   Column             Non-Null Count   Dtype \n",
      "---  ------             --------------   ----- \n",
      " 0   DateCrawled        354369 non-null  object\n",
      " 1   Price              354369 non-null  int64 \n",
      " 2   VehicleType        316879 non-null  object\n",
      " 3   RegistrationYear   354369 non-null  int64 \n",
      " 4   Gearbox            334536 non-null  object\n",
      " 5   Power              354369 non-null  int64 \n",
      " 6   Model              334664 non-null  object\n",
      " 7   Kilometer          354369 non-null  int64 \n",
      " 8   RegistrationMonth  354369 non-null  int64 \n",
      " 9   FuelType           321474 non-null  object\n",
      " 10  Brand              354369 non-null  object\n",
      " 11  Repaired           283215 non-null  object\n",
      " 12  DateCreated        354369 non-null  object\n",
      " 13  NumberOfPictures   354369 non-null  int64 \n",
      " 14  PostalCode         354369 non-null  int64 \n",
      " 15  LastSeen           354369 non-null  object\n",
      "dtypes: int64(7), object(9)\n",
      "memory usage: 217.0 MB\n"
     ]
    },
    {
     "data": {
      "text/plain": [
       "None"
      ]
     },
     "metadata": {},
     "output_type": "display_data"
    },
    {
     "name": "stdout",
     "output_type": "stream",
     "text": [
      "__________________________________________________\n",
      "\n",
      "Уникальные значения строковых признаков:\n",
      "VehicleType:\n",
      "[nan 'coupe' 'suv' 'small' 'sedan' 'convertible' 'bus' 'wagon' 'other']\n",
      "\n",
      "Gearbox:\n",
      "['manual' 'auto' nan]\n",
      "\n",
      "Model:\n",
      "['golf' nan 'grand' 'fabia' '3er' '2_reihe' 'other' 'c_max' '3_reihe'\n",
      " 'passat' 'navara' 'ka' 'polo' 'twingo' 'a_klasse' 'scirocco' '5er'\n",
      " 'meriva' 'arosa' 'c4' 'civic' 'transporter' 'punto' 'e_klasse' 'clio'\n",
      " 'kadett' 'kangoo' 'corsa' 'one' 'fortwo' '1er' 'b_klasse' 'signum'\n",
      " 'astra' 'a8' 'jetta' 'fiesta' 'c_klasse' 'micra' 'vito' 'sprinter' '156'\n",
      " 'escort' 'forester' 'xc_reihe' 'scenic' 'a4' 'a1' 'insignia' 'combo'\n",
      " 'focus' 'tt' 'a6' 'jazz' 'omega' 'slk' '7er' '80' '147' '100' 'z_reihe'\n",
      " 'sportage' 'sorento' 'v40' 'ibiza' 'mustang' 'eos' 'touran' 'getz' 'a3'\n",
      " 'almera' 'megane' 'lupo' 'r19' 'zafira' 'caddy' 'mondeo' 'cordoba' 'colt'\n",
      " 'impreza' 'vectra' 'berlingo' 'tiguan' 'i_reihe' 'espace' 'sharan'\n",
      " '6_reihe' 'panda' 'up' 'seicento' 'ceed' '5_reihe' 'yeti' 'octavia' 'mii'\n",
      " 'rx_reihe' '6er' 'modus' 'fox' 'matiz' 'beetle' 'c1' 'rio' 'touareg'\n",
      " 'logan' 'spider' 'cuore' 's_max' 'a2' 'galaxy' 'c3' 'viano' 's_klasse'\n",
      " '1_reihe' 'avensis' 'roomster' 'sl' 'kaefer' 'santa' 'cooper' 'leon'\n",
      " '4_reihe' 'a5' '500' 'laguna' 'ptcruiser' 'clk' 'primera' 'x_reihe'\n",
      " 'exeo' '159' 'transit' 'juke' 'qashqai' 'carisma' 'accord' 'corolla'\n",
      " 'lanos' 'phaeton' 'verso' 'swift' 'rav' 'picanto' 'boxster' 'kalos'\n",
      " 'superb' 'stilo' 'alhambra' 'mx_reihe' 'roadster' 'ypsilon' 'cayenne'\n",
      " 'galant' 'justy' '90' 'sirion' 'crossfire' 'agila' 'duster' 'cr_reihe'\n",
      " 'v50' 'c_reihe' 'v_klasse' 'm_klasse' 'yaris' 'c5' 'aygo' 'cc' 'carnival'\n",
      " 'fusion' '911' 'bora' 'forfour' 'm_reihe' 'cl' 'tigra' '300c' 'spark'\n",
      " 'v70' 'kuga' 'x_type' 'ducato' 's_type' 'x_trail' 'toledo' 'altea'\n",
      " 'voyager' 'calibra' 'bravo' 'antara' 'tucson' 'citigo' 'jimny' 'wrangler'\n",
      " 'lybra' 'q7' 'lancer' 'captiva' 'c2' 'discovery' 'freelander' 'sandero'\n",
      " 'note' '900' 'cherokee' 'clubman' 'samara' 'defender' '601' 'cx_reihe'\n",
      " 'legacy' 'pajero' 'auris' 'niva' 's60' 'nubira' 'vivaro' 'g_klasse'\n",
      " 'lodgy' '850' 'range_rover' 'q3' 'serie_2' 'glk' 'charade' 'croma'\n",
      " 'outlander' 'doblo' 'musa' 'move' '9000' 'v60' '145' 'aveo' '200' 'b_max'\n",
      " 'range_rover_sport' 'terios' 'rangerover' 'q5' 'range_rover_evoque'\n",
      " 'materia' 'delta' 'gl' 'kalina' 'amarok' 'elefantino' 'i3' 'kappa'\n",
      " 'serie_3' 'serie_1']\n",
      "\n",
      "FuelType:\n",
      "['petrol' 'gasoline' nan 'lpg' 'other' 'hybrid' 'cng' 'electric']\n",
      "\n",
      "Brand:\n",
      "['volkswagen' 'audi' 'jeep' 'skoda' 'bmw' 'peugeot' 'ford' 'mazda'\n",
      " 'nissan' 'renault' 'mercedes_benz' 'opel' 'seat' 'citroen' 'honda' 'fiat'\n",
      " 'mini' 'smart' 'hyundai' 'sonstige_autos' 'alfa_romeo' 'subaru' 'volvo'\n",
      " 'mitsubishi' 'kia' 'suzuki' 'lancia' 'toyota' 'chevrolet' 'dacia'\n",
      " 'daihatsu' 'trabant' 'saab' 'chrysler' 'jaguar' 'daewoo' 'porsche'\n",
      " 'rover' 'land_rover' 'lada']\n",
      "\n",
      "Repaired:\n",
      "[nan 'yes' 'no']\n",
      "\n",
      "Описательная статистика строковых значений:\n"
     ]
    },
    {
     "data": {
      "text/html": [
       "<div>\n",
       "<style scoped>\n",
       "    .dataframe tbody tr th:only-of-type {\n",
       "        vertical-align: middle;\n",
       "    }\n",
       "\n",
       "    .dataframe tbody tr th {\n",
       "        vertical-align: top;\n",
       "    }\n",
       "\n",
       "    .dataframe thead th {\n",
       "        text-align: right;\n",
       "    }\n",
       "</style>\n",
       "<table border=\"1\" class=\"dataframe\">\n",
       "  <thead>\n",
       "    <tr style=\"text-align: right;\">\n",
       "      <th></th>\n",
       "      <th>count</th>\n",
       "      <th>unique</th>\n",
       "      <th>top</th>\n",
       "      <th>freq</th>\n",
       "    </tr>\n",
       "  </thead>\n",
       "  <tbody>\n",
       "    <tr>\n",
       "      <th>DateCrawled</th>\n",
       "      <td>354369</td>\n",
       "      <td>271174</td>\n",
       "      <td>2016-03-24 14:49:47</td>\n",
       "      <td>7</td>\n",
       "    </tr>\n",
       "    <tr>\n",
       "      <th>VehicleType</th>\n",
       "      <td>316879</td>\n",
       "      <td>8</td>\n",
       "      <td>sedan</td>\n",
       "      <td>91457</td>\n",
       "    </tr>\n",
       "    <tr>\n",
       "      <th>Gearbox</th>\n",
       "      <td>334536</td>\n",
       "      <td>2</td>\n",
       "      <td>manual</td>\n",
       "      <td>268251</td>\n",
       "    </tr>\n",
       "    <tr>\n",
       "      <th>Model</th>\n",
       "      <td>334664</td>\n",
       "      <td>250</td>\n",
       "      <td>golf</td>\n",
       "      <td>29232</td>\n",
       "    </tr>\n",
       "    <tr>\n",
       "      <th>FuelType</th>\n",
       "      <td>321474</td>\n",
       "      <td>7</td>\n",
       "      <td>petrol</td>\n",
       "      <td>216352</td>\n",
       "    </tr>\n",
       "    <tr>\n",
       "      <th>Brand</th>\n",
       "      <td>354369</td>\n",
       "      <td>40</td>\n",
       "      <td>volkswagen</td>\n",
       "      <td>77013</td>\n",
       "    </tr>\n",
       "    <tr>\n",
       "      <th>Repaired</th>\n",
       "      <td>283215</td>\n",
       "      <td>2</td>\n",
       "      <td>no</td>\n",
       "      <td>247161</td>\n",
       "    </tr>\n",
       "    <tr>\n",
       "      <th>DateCreated</th>\n",
       "      <td>354369</td>\n",
       "      <td>109</td>\n",
       "      <td>2016-04-03 00:00:00</td>\n",
       "      <td>13719</td>\n",
       "    </tr>\n",
       "    <tr>\n",
       "      <th>LastSeen</th>\n",
       "      <td>354369</td>\n",
       "      <td>179150</td>\n",
       "      <td>2016-04-06 13:45:54</td>\n",
       "      <td>17</td>\n",
       "    </tr>\n",
       "  </tbody>\n",
       "</table>\n",
       "</div>"
      ],
      "text/plain": [
       "              count  unique                  top    freq\n",
       "DateCrawled  354369  271174  2016-03-24 14:49:47       7\n",
       "VehicleType  316879       8                sedan   91457\n",
       "Gearbox      334536       2               manual  268251\n",
       "Model        334664     250                 golf   29232\n",
       "FuelType     321474       7               petrol  216352\n",
       "Brand        354369      40           volkswagen   77013\n",
       "Repaired     283215       2                   no  247161\n",
       "DateCreated  354369     109  2016-04-03 00:00:00   13719\n",
       "LastSeen     354369  179150  2016-04-06 13:45:54      17"
      ]
     },
     "metadata": {},
     "output_type": "display_data"
    },
    {
     "name": "stdout",
     "output_type": "stream",
     "text": [
      "__________________________________________________\n",
      "\n",
      "Описательная статистика числовых значений:\n"
     ]
    },
    {
     "data": {
      "text/html": [
       "<div>\n",
       "<style scoped>\n",
       "    .dataframe tbody tr th:only-of-type {\n",
       "        vertical-align: middle;\n",
       "    }\n",
       "\n",
       "    .dataframe tbody tr th {\n",
       "        vertical-align: top;\n",
       "    }\n",
       "\n",
       "    .dataframe thead th {\n",
       "        text-align: right;\n",
       "    }\n",
       "</style>\n",
       "<table border=\"1\" class=\"dataframe\">\n",
       "  <thead>\n",
       "    <tr style=\"text-align: right;\">\n",
       "      <th></th>\n",
       "      <th>count</th>\n",
       "      <th>mean</th>\n",
       "      <th>std</th>\n",
       "      <th>min</th>\n",
       "      <th>25%</th>\n",
       "      <th>50%</th>\n",
       "      <th>75%</th>\n",
       "      <th>max</th>\n",
       "    </tr>\n",
       "  </thead>\n",
       "  <tbody>\n",
       "    <tr>\n",
       "      <th>Price</th>\n",
       "      <td>354369.0</td>\n",
       "      <td>4416.656776</td>\n",
       "      <td>4514.158514</td>\n",
       "      <td>0.0</td>\n",
       "      <td>1050.0</td>\n",
       "      <td>2700.0</td>\n",
       "      <td>6400.0</td>\n",
       "      <td>20000.0</td>\n",
       "    </tr>\n",
       "    <tr>\n",
       "      <th>RegistrationYear</th>\n",
       "      <td>354369.0</td>\n",
       "      <td>2004.234448</td>\n",
       "      <td>90.227958</td>\n",
       "      <td>1000.0</td>\n",
       "      <td>1999.0</td>\n",
       "      <td>2003.0</td>\n",
       "      <td>2008.0</td>\n",
       "      <td>9999.0</td>\n",
       "    </tr>\n",
       "    <tr>\n",
       "      <th>Power</th>\n",
       "      <td>354369.0</td>\n",
       "      <td>110.094337</td>\n",
       "      <td>189.850405</td>\n",
       "      <td>0.0</td>\n",
       "      <td>69.0</td>\n",
       "      <td>105.0</td>\n",
       "      <td>143.0</td>\n",
       "      <td>20000.0</td>\n",
       "    </tr>\n",
       "    <tr>\n",
       "      <th>Kilometer</th>\n",
       "      <td>354369.0</td>\n",
       "      <td>128211.172535</td>\n",
       "      <td>37905.341530</td>\n",
       "      <td>5000.0</td>\n",
       "      <td>125000.0</td>\n",
       "      <td>150000.0</td>\n",
       "      <td>150000.0</td>\n",
       "      <td>150000.0</td>\n",
       "    </tr>\n",
       "    <tr>\n",
       "      <th>RegistrationMonth</th>\n",
       "      <td>354369.0</td>\n",
       "      <td>5.714645</td>\n",
       "      <td>3.726421</td>\n",
       "      <td>0.0</td>\n",
       "      <td>3.0</td>\n",
       "      <td>6.0</td>\n",
       "      <td>9.0</td>\n",
       "      <td>12.0</td>\n",
       "    </tr>\n",
       "    <tr>\n",
       "      <th>NumberOfPictures</th>\n",
       "      <td>354369.0</td>\n",
       "      <td>0.000000</td>\n",
       "      <td>0.000000</td>\n",
       "      <td>0.0</td>\n",
       "      <td>0.0</td>\n",
       "      <td>0.0</td>\n",
       "      <td>0.0</td>\n",
       "      <td>0.0</td>\n",
       "    </tr>\n",
       "    <tr>\n",
       "      <th>PostalCode</th>\n",
       "      <td>354369.0</td>\n",
       "      <td>50508.689087</td>\n",
       "      <td>25783.096248</td>\n",
       "      <td>1067.0</td>\n",
       "      <td>30165.0</td>\n",
       "      <td>49413.0</td>\n",
       "      <td>71083.0</td>\n",
       "      <td>99998.0</td>\n",
       "    </tr>\n",
       "  </tbody>\n",
       "</table>\n",
       "</div>"
      ],
      "text/plain": [
       "                      count           mean           std     min       25%  \\\n",
       "Price              354369.0    4416.656776   4514.158514     0.0    1050.0   \n",
       "RegistrationYear   354369.0    2004.234448     90.227958  1000.0    1999.0   \n",
       "Power              354369.0     110.094337    189.850405     0.0      69.0   \n",
       "Kilometer          354369.0  128211.172535  37905.341530  5000.0  125000.0   \n",
       "RegistrationMonth  354369.0       5.714645      3.726421     0.0       3.0   \n",
       "NumberOfPictures   354369.0       0.000000      0.000000     0.0       0.0   \n",
       "PostalCode         354369.0   50508.689087  25783.096248  1067.0   30165.0   \n",
       "\n",
       "                        50%       75%       max  \n",
       "Price                2700.0    6400.0   20000.0  \n",
       "RegistrationYear     2003.0    2008.0    9999.0  \n",
       "Power                 105.0     143.0   20000.0  \n",
       "Kilometer          150000.0  150000.0  150000.0  \n",
       "RegistrationMonth       6.0       9.0      12.0  \n",
       "NumberOfPictures        0.0       0.0       0.0  \n",
       "PostalCode          49413.0   71083.0   99998.0  "
      ]
     },
     "metadata": {},
     "output_type": "display_data"
    },
    {
     "name": "stdout",
     "output_type": "stream",
     "text": [
      "__________________________________________________\n",
      "\n",
      "Процент пропущенных значений:\n"
     ]
    },
    {
     "data": {
      "text/plain": [
       "DateCrawled           0.000000\n",
       "Price                 0.000000\n",
       "VehicleType          10.579368\n",
       "RegistrationYear      0.000000\n",
       "Gearbox               5.596709\n",
       "Power                 0.000000\n",
       "Model                 5.560588\n",
       "Kilometer             0.000000\n",
       "RegistrationMonth     0.000000\n",
       "FuelType              9.282697\n",
       "Brand                 0.000000\n",
       "Repaired             20.079070\n",
       "DateCreated           0.000000\n",
       "NumberOfPictures      0.000000\n",
       "PostalCode            0.000000\n",
       "LastSeen              0.000000\n",
       "dtype: float64"
      ]
     },
     "metadata": {},
     "output_type": "display_data"
    },
    {
     "name": "stdout",
     "output_type": "stream",
     "text": [
      "__________________________________________________\n",
      "\n",
      "Случайная выборка датафрейма:\n"
     ]
    },
    {
     "data": {
      "text/html": [
       "<div>\n",
       "<style scoped>\n",
       "    .dataframe tbody tr th:only-of-type {\n",
       "        vertical-align: middle;\n",
       "    }\n",
       "\n",
       "    .dataframe tbody tr th {\n",
       "        vertical-align: top;\n",
       "    }\n",
       "\n",
       "    .dataframe thead th {\n",
       "        text-align: right;\n",
       "    }\n",
       "</style>\n",
       "<table border=\"1\" class=\"dataframe\">\n",
       "  <thead>\n",
       "    <tr style=\"text-align: right;\">\n",
       "      <th></th>\n",
       "      <th>DateCrawled</th>\n",
       "      <th>Price</th>\n",
       "      <th>VehicleType</th>\n",
       "      <th>RegistrationYear</th>\n",
       "      <th>Gearbox</th>\n",
       "      <th>Power</th>\n",
       "      <th>Model</th>\n",
       "      <th>Kilometer</th>\n",
       "      <th>RegistrationMonth</th>\n",
       "      <th>FuelType</th>\n",
       "      <th>Brand</th>\n",
       "      <th>Repaired</th>\n",
       "      <th>DateCreated</th>\n",
       "      <th>NumberOfPictures</th>\n",
       "      <th>PostalCode</th>\n",
       "      <th>LastSeen</th>\n",
       "    </tr>\n",
       "  </thead>\n",
       "  <tbody>\n",
       "    <tr>\n",
       "      <th>349159</th>\n",
       "      <td>2016-03-29 19:43:50</td>\n",
       "      <td>400</td>\n",
       "      <td>wagon</td>\n",
       "      <td>2002</td>\n",
       "      <td>manual</td>\n",
       "      <td>116</td>\n",
       "      <td>focus</td>\n",
       "      <td>150000</td>\n",
       "      <td>0</td>\n",
       "      <td>gasoline</td>\n",
       "      <td>ford</td>\n",
       "      <td>NaN</td>\n",
       "      <td>2016-03-29 00:00:00</td>\n",
       "      <td>0</td>\n",
       "      <td>66564</td>\n",
       "      <td>2016-03-29 19:43:50</td>\n",
       "    </tr>\n",
       "    <tr>\n",
       "      <th>338382</th>\n",
       "      <td>2016-03-12 22:52:22</td>\n",
       "      <td>1300</td>\n",
       "      <td>small</td>\n",
       "      <td>2003</td>\n",
       "      <td>NaN</td>\n",
       "      <td>0</td>\n",
       "      <td>clio</td>\n",
       "      <td>150000</td>\n",
       "      <td>12</td>\n",
       "      <td>petrol</td>\n",
       "      <td>renault</td>\n",
       "      <td>no</td>\n",
       "      <td>2016-03-12 00:00:00</td>\n",
       "      <td>0</td>\n",
       "      <td>44357</td>\n",
       "      <td>2016-03-22 13:16:32</td>\n",
       "    </tr>\n",
       "    <tr>\n",
       "      <th>70027</th>\n",
       "      <td>2016-03-27 15:48:19</td>\n",
       "      <td>500</td>\n",
       "      <td>bus</td>\n",
       "      <td>2000</td>\n",
       "      <td>manual</td>\n",
       "      <td>0</td>\n",
       "      <td>other</td>\n",
       "      <td>150000</td>\n",
       "      <td>4</td>\n",
       "      <td>gasoline</td>\n",
       "      <td>peugeot</td>\n",
       "      <td>NaN</td>\n",
       "      <td>2016-03-27 00:00:00</td>\n",
       "      <td>0</td>\n",
       "      <td>53121</td>\n",
       "      <td>2016-04-07 13:17:49</td>\n",
       "    </tr>\n",
       "    <tr>\n",
       "      <th>39627</th>\n",
       "      <td>2016-03-10 21:39:18</td>\n",
       "      <td>5200</td>\n",
       "      <td>wagon</td>\n",
       "      <td>2007</td>\n",
       "      <td>manual</td>\n",
       "      <td>125</td>\n",
       "      <td>focus</td>\n",
       "      <td>150000</td>\n",
       "      <td>11</td>\n",
       "      <td>petrol</td>\n",
       "      <td>ford</td>\n",
       "      <td>no</td>\n",
       "      <td>2016-03-10 00:00:00</td>\n",
       "      <td>0</td>\n",
       "      <td>93333</td>\n",
       "      <td>2016-04-06 22:15:21</td>\n",
       "    </tr>\n",
       "    <tr>\n",
       "      <th>318707</th>\n",
       "      <td>2016-03-10 23:54:50</td>\n",
       "      <td>9200</td>\n",
       "      <td>sedan</td>\n",
       "      <td>2009</td>\n",
       "      <td>manual</td>\n",
       "      <td>160</td>\n",
       "      <td>insignia</td>\n",
       "      <td>150000</td>\n",
       "      <td>5</td>\n",
       "      <td>gasoline</td>\n",
       "      <td>opel</td>\n",
       "      <td>no</td>\n",
       "      <td>2016-03-10 00:00:00</td>\n",
       "      <td>0</td>\n",
       "      <td>70378</td>\n",
       "      <td>2016-03-29 18:46:45</td>\n",
       "    </tr>\n",
       "  </tbody>\n",
       "</table>\n",
       "</div>"
      ],
      "text/plain": [
       "                DateCrawled  Price VehicleType  RegistrationYear Gearbox  \\\n",
       "349159  2016-03-29 19:43:50    400       wagon              2002  manual   \n",
       "338382  2016-03-12 22:52:22   1300       small              2003     NaN   \n",
       "70027   2016-03-27 15:48:19    500         bus              2000  manual   \n",
       "39627   2016-03-10 21:39:18   5200       wagon              2007  manual   \n",
       "318707  2016-03-10 23:54:50   9200       sedan              2009  manual   \n",
       "\n",
       "        Power     Model  Kilometer  RegistrationMonth  FuelType    Brand  \\\n",
       "349159    116     focus     150000                  0  gasoline     ford   \n",
       "338382      0      clio     150000                 12    petrol  renault   \n",
       "70027       0     other     150000                  4  gasoline  peugeot   \n",
       "39627     125     focus     150000                 11    petrol     ford   \n",
       "318707    160  insignia     150000                  5  gasoline     opel   \n",
       "\n",
       "       Repaired          DateCreated  NumberOfPictures  PostalCode  \\\n",
       "349159      NaN  2016-03-29 00:00:00                 0       66564   \n",
       "338382       no  2016-03-12 00:00:00                 0       44357   \n",
       "70027       NaN  2016-03-27 00:00:00                 0       53121   \n",
       "39627        no  2016-03-10 00:00:00                 0       93333   \n",
       "318707       no  2016-03-10 00:00:00                 0       70378   \n",
       "\n",
       "                   LastSeen  \n",
       "349159  2016-03-29 19:43:50  \n",
       "338382  2016-03-22 13:16:32  \n",
       "70027   2016-04-07 13:17:49  \n",
       "39627   2016-04-06 22:15:21  \n",
       "318707  2016-03-29 18:46:45  "
      ]
     },
     "metadata": {},
     "output_type": "display_data"
    },
    {
     "name": "stdout",
     "output_type": "stream",
     "text": [
      "____________________________________________________________________________________________________\n"
     ]
    }
   ],
   "source": [
    "inf(df)"
   ]
  },
  {
   "cell_type": "markdown",
   "metadata": {},
   "source": [
    "**Вывод:**\n",
    "1. Датасет состоит из 354369 строк и 16 признаков.  \n",
    "2. Количество пропущенных значений - 181077 (3.2%). Из них:  \n",
    "- VehicleType - 37490 (10.6%);  \n",
    "- Gearbox - 19833 (5.6%);  \n",
    "- Model - 19705 (5.6%);  \n",
    "- FuelType - 32895 (9.3%);\n",
    "- Repaired - 71154 (20.1%).\n",
    "\n",
    "3. Полных дубликатов - 4. Поскольку отсутствуют id анкеты или пользователей, разместивших объявления, нельзя однозначно определить, относятся ли дублирующиеся анкеты к одним и тем же автомобилям. Целесообразно оставить дубликаты.\n",
    "4. Чаще других встречаются, цены, лежащие в диапазоне 0-2000;\n",
    "5. Наиболее количество анкет по типам кузова автомобилей:\n",
    "- sedan - 91457 (25.8%);\n",
    "- small - 79831\t(22.5%);\n",
    "- wagon - 65166\t(18.4%).\n",
    "6. Тип коробки передач:\n",
    "- manual - 268251 (75.7%);\n",
    "- auto - 66285 (18.7%).\n",
    "7. В 40225 (11.4%) анкет указано нулевое значение мощности двигателя.\n",
    "8. Наиболее широко представлены модели:\n",
    "- golf - 29232 (8.2%);\n",
    "- 3er - 19761 (5.6%).\n",
    "9. 238209 автомобилей (67.2%) имеют пробег 150000 км.\n",
    "10. Наиболее количество анкет по типам топлива:\n",
    "- petrol - 216352 (61.1%);\n",
    "- gasoline - 98720 (27.9%).\n",
    "11. Ремонтировался ли автомобиль:\n",
    "- False\t(247161) 69.7%;\n",
    "- True (36054) 10.2%.\n",
    "12. Наиболее количество анкет по брендам:\n",
    "- volkswagen - 77013 (21.7%);\n",
    "- opel - 39931 (11.3%);\n",
    "- bmw - 36914 (10.4%).\n",
    "13. У 100% анкет отсутствуют приложенные фотографии.\n",
    "14. Присутствуют аномальные значения признаков RegistrationYear, Power, Price.\n",
    "15. Корреляция между RegistrationYear и VehicleType - 100%."
   ]
  },
  {
   "cell_type": "markdown",
   "metadata": {},
   "source": [
    "## Подготовка данных\n",
    "<a id=\"preparation\"></a>"
   ]
  },
  {
   "cell_type": "markdown",
   "metadata": {},
   "source": [
    "Приводим названия признаков к нижнему регистру:"
   ]
  },
  {
   "cell_type": "code",
   "execution_count": 7,
   "metadata": {},
   "outputs": [],
   "source": [
    "df.columns = map(str.lower, df.columns)"
   ]
  },
  {
   "cell_type": "markdown",
   "metadata": {},
   "source": [
    "Пропуски присутствуют только у категориальных признаков. Заменяем их на значение \"other\":"
   ]
  },
  {
   "cell_type": "code",
   "execution_count": 8,
   "metadata": {},
   "outputs": [],
   "source": [
    "df[['vehicletype', 'fueltype', 'repaired', 'gearbox', 'model']] =\\\n",
    "df[['vehicletype', 'fueltype', 'repaired', 'gearbox', 'model']].fillna('other')"
   ]
  },
  {
   "cell_type": "markdown",
   "metadata": {},
   "source": [
    "Приводим даты к типу datetime:"
   ]
  },
  {
   "cell_type": "code",
   "execution_count": 9,
   "metadata": {},
   "outputs": [],
   "source": [
    "df['datecrawled'] = pd.to_datetime(df['datecrawled'], format='%Y%m%d %H:%M:%S.%f')\n",
    "df['datecreated'] = pd.to_datetime(df['datecreated'], format='%Y%m%d %H:%M:%S.%f')\n",
    "df['lastseen'] = pd.to_datetime(df['lastseen'], format='%Y%m%d %H:%M:%S.%f')"
   ]
  },
  {
   "cell_type": "markdown",
   "metadata": {},
   "source": [
    "Обрабатываем аномальные значения registrationyear - оставляем автомобили, зарегистрированные в период c 1930 до даты последнего скачивания анкеты:"
   ]
  },
  {
   "cell_type": "code",
   "execution_count": 10,
   "metadata": {
    "scrolled": true
   },
   "outputs": [
    {
     "name": "stdout",
     "output_type": "stream",
     "text": [
      "Количество удаленных строк: 14713\n"
     ]
    }
   ],
   "source": [
    "min_year = 1930\n",
    "max_year =  df['datecrawled'].dt.isocalendar().year.astype('int64').max()\n",
    "print('Количество удаленных строк: {}'.format(df.query('registrationyear < @min_year | registrationyear > @max_year').shape[0]))\n",
    "df = df.loc[(df['registrationyear'] >= min_year) & (df['registrationyear'] <= max_year)].reset_index(drop=True)"
   ]
  },
  {
   "cell_type": "code",
   "execution_count": 11,
   "metadata": {},
   "outputs": [
    {
     "data": {
      "text/html": [
       "<div>\n",
       "<style scoped>\n",
       "    .dataframe tbody tr th:only-of-type {\n",
       "        vertical-align: middle;\n",
       "    }\n",
       "\n",
       "    .dataframe tbody tr th {\n",
       "        vertical-align: top;\n",
       "    }\n",
       "\n",
       "    .dataframe thead th {\n",
       "        text-align: right;\n",
       "    }\n",
       "</style>\n",
       "<table border=\"1\" class=\"dataframe\">\n",
       "  <thead>\n",
       "    <tr style=\"text-align: right;\">\n",
       "      <th></th>\n",
       "      <th>datecrawled</th>\n",
       "      <th>price</th>\n",
       "      <th>vehicletype</th>\n",
       "      <th>registrationyear</th>\n",
       "      <th>gearbox</th>\n",
       "      <th>power</th>\n",
       "      <th>model</th>\n",
       "      <th>kilometer</th>\n",
       "      <th>registrationmonth</th>\n",
       "      <th>fueltype</th>\n",
       "      <th>brand</th>\n",
       "      <th>repaired</th>\n",
       "      <th>datecreated</th>\n",
       "      <th>numberofpictures</th>\n",
       "      <th>postalcode</th>\n",
       "      <th>lastseen</th>\n",
       "    </tr>\n",
       "  </thead>\n",
       "  <tbody>\n",
       "    <tr>\n",
       "      <th>0</th>\n",
       "      <td>2016-03-24 11:52:17</td>\n",
       "      <td>480</td>\n",
       "      <td>other</td>\n",
       "      <td>1993</td>\n",
       "      <td>manual</td>\n",
       "      <td>0</td>\n",
       "      <td>golf</td>\n",
       "      <td>150000</td>\n",
       "      <td>0</td>\n",
       "      <td>petrol</td>\n",
       "      <td>volkswagen</td>\n",
       "      <td>other</td>\n",
       "      <td>2016-03-24</td>\n",
       "      <td>0</td>\n",
       "      <td>70435</td>\n",
       "      <td>2016-04-07 03:16:57</td>\n",
       "    </tr>\n",
       "    <tr>\n",
       "      <th>1</th>\n",
       "      <td>2016-03-24 10:58:45</td>\n",
       "      <td>18300</td>\n",
       "      <td>coupe</td>\n",
       "      <td>2011</td>\n",
       "      <td>manual</td>\n",
       "      <td>190</td>\n",
       "      <td>other</td>\n",
       "      <td>125000</td>\n",
       "      <td>5</td>\n",
       "      <td>gasoline</td>\n",
       "      <td>audi</td>\n",
       "      <td>yes</td>\n",
       "      <td>2016-03-24</td>\n",
       "      <td>0</td>\n",
       "      <td>66954</td>\n",
       "      <td>2016-04-07 01:46:50</td>\n",
       "    </tr>\n",
       "    <tr>\n",
       "      <th>2</th>\n",
       "      <td>2016-03-14 12:52:21</td>\n",
       "      <td>9800</td>\n",
       "      <td>suv</td>\n",
       "      <td>2004</td>\n",
       "      <td>auto</td>\n",
       "      <td>163</td>\n",
       "      <td>grand</td>\n",
       "      <td>125000</td>\n",
       "      <td>8</td>\n",
       "      <td>gasoline</td>\n",
       "      <td>jeep</td>\n",
       "      <td>other</td>\n",
       "      <td>2016-03-14</td>\n",
       "      <td>0</td>\n",
       "      <td>90480</td>\n",
       "      <td>2016-04-05 12:47:46</td>\n",
       "    </tr>\n",
       "    <tr>\n",
       "      <th>3</th>\n",
       "      <td>2016-03-17 16:54:04</td>\n",
       "      <td>1500</td>\n",
       "      <td>small</td>\n",
       "      <td>2001</td>\n",
       "      <td>manual</td>\n",
       "      <td>75</td>\n",
       "      <td>golf</td>\n",
       "      <td>150000</td>\n",
       "      <td>6</td>\n",
       "      <td>petrol</td>\n",
       "      <td>volkswagen</td>\n",
       "      <td>no</td>\n",
       "      <td>2016-03-17</td>\n",
       "      <td>0</td>\n",
       "      <td>91074</td>\n",
       "      <td>2016-03-17 17:40:17</td>\n",
       "    </tr>\n",
       "    <tr>\n",
       "      <th>4</th>\n",
       "      <td>2016-03-31 17:25:20</td>\n",
       "      <td>3600</td>\n",
       "      <td>small</td>\n",
       "      <td>2008</td>\n",
       "      <td>manual</td>\n",
       "      <td>69</td>\n",
       "      <td>fabia</td>\n",
       "      <td>90000</td>\n",
       "      <td>7</td>\n",
       "      <td>gasoline</td>\n",
       "      <td>skoda</td>\n",
       "      <td>no</td>\n",
       "      <td>2016-03-31</td>\n",
       "      <td>0</td>\n",
       "      <td>60437</td>\n",
       "      <td>2016-04-06 10:17:21</td>\n",
       "    </tr>\n",
       "  </tbody>\n",
       "</table>\n",
       "</div>"
      ],
      "text/plain": [
       "          datecrawled  price vehicletype  registrationyear gearbox  power  \\\n",
       "0 2016-03-24 11:52:17    480       other              1993  manual      0   \n",
       "1 2016-03-24 10:58:45  18300       coupe              2011  manual    190   \n",
       "2 2016-03-14 12:52:21   9800         suv              2004    auto    163   \n",
       "3 2016-03-17 16:54:04   1500       small              2001  manual     75   \n",
       "4 2016-03-31 17:25:20   3600       small              2008  manual     69   \n",
       "\n",
       "   model  kilometer  registrationmonth  fueltype       brand repaired  \\\n",
       "0   golf     150000                  0    petrol  volkswagen    other   \n",
       "1  other     125000                  5  gasoline        audi      yes   \n",
       "2  grand     125000                  8  gasoline        jeep    other   \n",
       "3   golf     150000                  6    petrol  volkswagen       no   \n",
       "4  fabia      90000                  7  gasoline       skoda       no   \n",
       "\n",
       "  datecreated  numberofpictures  postalcode            lastseen  \n",
       "0  2016-03-24                 0       70435 2016-04-07 03:16:57  \n",
       "1  2016-03-24                 0       66954 2016-04-07 01:46:50  \n",
       "2  2016-03-14                 0       90480 2016-04-05 12:47:46  \n",
       "3  2016-03-17                 0       91074 2016-03-17 17:40:17  \n",
       "4  2016-03-31                 0       60437 2016-04-06 10:17:21  "
      ]
     },
     "execution_count": 11,
     "metadata": {},
     "output_type": "execute_result"
    }
   ],
   "source": [
    "df.head()"
   ]
  },
  {
   "cell_type": "markdown",
   "metadata": {},
   "source": [
    "Обрабатываем аномальные значения power - для каждой модели автомобиля заменяем выбросы на медианные значения, оставшиеся нулевые значения удаляем:"
   ]
  },
  {
   "cell_type": "code",
   "execution_count": 12,
   "metadata": {
    "scrolled": true
   },
   "outputs": [],
   "source": [
    "# rows_numbers_start = df.shape[0]\n",
    "# for i in df['model'].unique():\n",
    "#     df_tmp = df.loc[(df['model'] == i) & (df['power'] != 0)].reset_index(drop=True)\n",
    "#     try:\n",
    "#         min = np.percentile(df_tmp['power'], 25)\n",
    "#         max = np.percentile(df_tmp['power'], 75)\n",
    "#         df.loc[(df['model'] == i) & ((df['power'] < min) | (df['power'] > max)), 'power'] =\\\n",
    "#         df.loc[(df['model'] == i)]['power'].median()\n",
    "#     except:\n",
    "#         print('Не обработана модель {}'.format(i))\n",
    "# print('Количество удаленных строк с нулевым значением {}: {}'.format('power', df.query('power == 0').shape[0]))\n",
    "# df = df.loc[df['power'] != 0].reset_index(drop=True)\n",
    "rows_numbers_start = df.shape[0]\n",
    "df['power'] = (df\n",
    "               .groupby(['model'], dropna=False)['power']\n",
    "               .transform(lambda x: x.mask(x==0, x[x!=0].median() if x[x!=0].count()!=0 else 0))\n",
    "              )"
   ]
  },
  {
   "cell_type": "markdown",
   "metadata": {},
   "source": [
    "Удаляем анкеты, у которых значения целевого признака price равны нулю:"
   ]
  },
  {
   "cell_type": "code",
   "execution_count": 13,
   "metadata": {},
   "outputs": [],
   "source": [
    "df = df.loc[df['price'] >= 100].reset_index(drop=True)"
   ]
  },
  {
   "cell_type": "markdown",
   "metadata": {},
   "source": [
    "Определяем возраст автомобиля на момент подачи объявления:"
   ]
  },
  {
   "cell_type": "code",
   "execution_count": 14,
   "metadata": {},
   "outputs": [],
   "source": [
    "df['years_old'] = pd.to_datetime(df['datecreated'], errors='coerce').dt.year.astype('int64') - df['registrationyear']"
   ]
  },
  {
   "cell_type": "markdown",
   "metadata": {},
   "source": [
    "Удаляем признаки, лишние для решения задачи прогнозирования, чтобы не создавали \"шумы\". В том числе удаляем признак NumberOfPictures, так как в нем лишь одно уникальное значение. Признаки времени 'registrationmonth', 'datecreated', 'registrationyear' исключаем в виду того, что ввели новый признак, предположительно напрямую влияющий на цену автомобиля - его возраст (years_old).\n",
    "Признаки datecrawled и lastseen описывают взаимодействие пользователей с платформой и, предположительно, на стоимость влияния не оказывают."
   ]
  },
  {
   "cell_type": "code",
   "execution_count": 15,
   "metadata": {},
   "outputs": [],
   "source": [
    "df = df.drop(['datecrawled', 'registrationmonth', 'datecreated', 'postalcode', 'lastseen', 'registrationyear'], axis=1)"
   ]
  },
  {
   "cell_type": "markdown",
   "metadata": {},
   "source": [
    "В поле model присутствуют 250 уникальных значений. Поскольку редко встречающиеся значения для обучения модели играют незначительную роль, а также с учетом необходимости проведения OHE-кодирования для обучения моделей DecisionTreeRegressor и RandomForestRegressor, оставляем только 10 наиболее часто встречающихся моделей. Остальные заменяем значением \"other\":"
   ]
  },
  {
   "cell_type": "code",
   "execution_count": 16,
   "metadata": {},
   "outputs": [],
   "source": [
    "list_trim = list(df['model'].value_counts().reset_index().head(10)['index'])\n",
    "df.loc[~df['model'].isin(list_trim), 'model'] = 'other'"
   ]
  },
  {
   "cell_type": "markdown",
   "metadata": {},
   "source": [
    "Разделяем признаки на числовые, категориальные и целевой:"
   ]
  },
  {
   "cell_type": "code",
   "execution_count": 17,
   "metadata": {},
   "outputs": [],
   "source": [
    "target_feature = 'price'\n",
    "categorical_features = ['vehicletype', 'gearbox',  'model', 'fueltype', 'brand', 'repaired']\n",
    "numerical_features = ['power', 'kilometer', 'years_old']"
   ]
  },
  {
   "cell_type": "markdown",
   "metadata": {},
   "source": [
    "Для обучения модели LGBMRegressor меняем тип категориальных признаков на \"category\":"
   ]
  },
  {
   "cell_type": "code",
   "execution_count": 18,
   "metadata": {},
   "outputs": [],
   "source": [
    "df[categorical_features] = df[categorical_features].apply(lambda x: x.astype('category'))"
   ]
  },
  {
   "cell_type": "code",
   "execution_count": 19,
   "metadata": {},
   "outputs": [
    {
     "name": "stdout",
     "output_type": "stream",
     "text": [
      "Количество удаленных строк: 12377 (3.64%)\n"
     ]
    }
   ],
   "source": [
    "rows_del = rows_numbers_start - df.shape[0]\n",
    "print('Количество удаленных строк: {} ({:.2%})'.format(rows_del, rows_del / rows_numbers_start))"
   ]
  },
  {
   "cell_type": "markdown",
   "metadata": {},
   "source": [
    "**Вывод:**  \n",
    "1. Названия признаков приведены к нижнему регистру.\n",
    "2. Обработаны анамальные значения признаков registrationyear, power, price.\n",
    "3. Добавлен признак \"years_old\" - возраст автомобиля на момент подачи объявления;\n",
    "4. Удалены признаки, лишние для решения задачи прогнозирования:\n",
    "- datecrawled;\n",
    "- registrationmonth;\n",
    "- datecreated;\n",
    "- postalcode;\n",
    "- lastseen;\n",
    "- registrationyear.\n",
    "\n",
    "5. Пропущенные значения заменены на \"other\";\n",
    "6. Для признака model оставлены только 10 наиболее часто встречающихся значений. Остальные заменены на \"other\".\n",
    "7. признаки разделены на числовые, категориальные и целевой.\n",
    "8. Для категориальных данных тип изменен на \"category\".\n",
    "9. Количество удаленных строк: 13196 (3.73%)."
   ]
  },
  {
   "cell_type": "markdown",
   "metadata": {},
   "source": [
    "## Обучение моделей\n",
    "<a id=\"study\"></a>"
   ]
  },
  {
   "cell_type": "markdown",
   "metadata": {},
   "source": [
    "Задаем общий параметр random_state:"
   ]
  },
  {
   "cell_type": "code",
   "execution_count": 20,
   "metadata": {},
   "outputs": [],
   "source": [
    "RS = np.random.RandomState(5)"
   ]
  },
  {
   "cell_type": "markdown",
   "metadata": {},
   "source": [
    "Разбиваем датафрейм на обучающую, валидационную и тестовую выборки:"
   ]
  },
  {
   "cell_type": "code",
   "execution_count": 21,
   "metadata": {},
   "outputs": [],
   "source": [
    "features = df.drop('price', axis=1)\n",
    "target = df['price']\n",
    "X_train, X_test, y_train, y_test = train_test_split(\n",
    "    features, target, test_size=0.3, random_state=RS)\n",
    "X_train = X_train.reset_index(drop=True)\n",
    "X_test = X_test.reset_index(drop=True)\n",
    "y_train = y_train.reset_index(drop=True)\n",
    "y_test = y_test.reset_index(drop=True)"
   ]
  },
  {
   "cell_type": "markdown",
   "metadata": {},
   "source": [
    "Функция обучения модели и ее проверки на валидационной выборке:"
   ]
  },
  {
   "cell_type": "code",
   "execution_count": 22,
   "metadata": {},
   "outputs": [],
   "source": [
    "def predict_function(model, params, X_train=X_train):\n",
    "    optuna.logging.set_verbosity(optuna.logging.WARNING)                               # отключаем логгирование\n",
    "    model = OptunaSearchCV(model, params, scoring='r2', cv=5)                     # передаем данные в OptunaSearchCV\n",
    "    model.fit(X_train, y_train)\n",
    "    start_time = timeit.default_timer()\n",
    "    model.best_estimator_.fit(X_train, y_train)\n",
    "    time_fit = timeit.default_timer() - start_time\n",
    "    pred = model.best_estimator_.predict(X_train)\n",
    "    rmse_valid = int(mean_squared_error(y_train, pred, squared=False))\n",
    "    r2_valid = model.best_score_\n",
    "    return model, rmse_valid, r2_valid, time_fit"
   ]
  },
  {
   "cell_type": "markdown",
   "metadata": {},
   "source": [
    "**Обучение модели LGBMRegressor**"
   ]
  },
  {
   "cell_type": "markdown",
   "metadata": {},
   "source": [
    "Задаем сетку гиперпараметров для GridSearchCV:"
   ]
  },
  {
   "cell_type": "code",
   "execution_count": 49,
   "metadata": {},
   "outputs": [],
   "source": [
    "params_lgb = {'learning_rate' : floatd(0.005, 0.5, False, 0.005),         # значения гиперпараметров модели для подбора\n",
    "              'max_depth' : intd(2, 30, False, 1),\n",
    "              'num_leaves' : intd(2, 30, False, 1),\n",
    "              'n_estimators' : intd(50, 250, False, 50)}"
   ]
  },
  {
   "cell_type": "markdown",
   "metadata": {},
   "source": [
    "Обучаем модель LGBMRegressor:"
   ]
  },
  {
   "cell_type": "code",
   "execution_count": 50,
   "metadata": {},
   "outputs": [
    {
     "name": "stderr",
     "output_type": "stream",
     "text": [
      "C:\\Users\\bond_\\AppData\\Local\\Temp\\ipykernel_9528\\4246448081.py:3: ExperimentalWarning: OptunaSearchCV is experimental (supported from v0.17.0). The interface can change in the future.\n",
      "  model = OptunaSearchCV(model, params, scoring='r2', cv=5)                     # передаем данные в OptunaSearchCV\n"
     ]
    },
    {
     "name": "stdout",
     "output_type": "stream",
     "text": [
      "[LightGBM] [Info] Auto-choosing row-wise multi-threading, the overhead of testing was 0.003767 seconds.\n",
      "You can set `force_row_wise=true` to remove the overhead.\n",
      "And if memory is not enough, you can set `force_col_wise=true`.\n",
      "[LightGBM] [Info] Total Bins 419\n",
      "[LightGBM] [Info] Number of data points in the train set: 183276, number of used features: 9\n",
      "[LightGBM] [Info] Start training from score 4642.785897\n",
      "[LightGBM] [Info] Auto-choosing row-wise multi-threading, the overhead of testing was 0.002823 seconds.\n",
      "You can set `force_row_wise=true` to remove the overhead.\n",
      "And if memory is not enough, you can set `force_col_wise=true`.\n",
      "[LightGBM] [Info] Total Bins 418\n",
      "[LightGBM] [Info] Number of data points in the train set: 183276, number of used features: 9\n",
      "[LightGBM] [Info] Start training from score 4637.711342\n",
      "[LightGBM] [Info] Auto-choosing row-wise multi-threading, the overhead of testing was 0.002719 seconds.\n",
      "You can set `force_row_wise=true` to remove the overhead.\n",
      "And if memory is not enough, you can set `force_col_wise=true`.\n",
      "[LightGBM] [Info] Total Bins 420\n",
      "[LightGBM] [Info] Number of data points in the train set: 183276, number of used features: 9\n",
      "[LightGBM] [Info] Start training from score 4632.272562\n",
      "[LightGBM] [Info] Auto-choosing row-wise multi-threading, the overhead of testing was 0.003273 seconds.\n",
      "You can set `force_row_wise=true` to remove the overhead.\n",
      "And if memory is not enough, you can set `force_col_wise=true`.\n",
      "[LightGBM] [Info] Total Bins 420\n",
      "[LightGBM] [Info] Number of data points in the train set: 183276, number of used features: 9\n",
      "[LightGBM] [Info] Start training from score 4637.316479\n",
      "[LightGBM] [Info] Auto-choosing row-wise multi-threading, the overhead of testing was 0.003759 seconds.\n",
      "You can set `force_row_wise=true` to remove the overhead.\n",
      "And if memory is not enough, you can set `force_col_wise=true`.\n",
      "[LightGBM] [Info] Total Bins 420\n",
      "[LightGBM] [Info] Number of data points in the train set: 183276, number of used features: 9\n",
      "[LightGBM] [Info] Start training from score 4633.239066\n",
      "[LightGBM] [Info] Auto-choosing row-wise multi-threading, the overhead of testing was 0.003561 seconds.\n",
      "You can set `force_row_wise=true` to remove the overhead.\n",
      "And if memory is not enough, you can set `force_col_wise=true`.\n",
      "[LightGBM] [Info] Total Bins 419\n",
      "[LightGBM] [Info] Number of data points in the train set: 183276, number of used features: 9\n",
      "[LightGBM] [Info] Start training from score 4642.785897\n",
      "[LightGBM] [Info] Auto-choosing row-wise multi-threading, the overhead of testing was 0.002559 seconds.\n",
      "You can set `force_row_wise=true` to remove the overhead.\n",
      "And if memory is not enough, you can set `force_col_wise=true`.\n",
      "[LightGBM] [Info] Total Bins 418\n",
      "[LightGBM] [Info] Number of data points in the train set: 183276, number of used features: 9\n",
      "[LightGBM] [Info] Start training from score 4637.711342\n",
      "[LightGBM] [Info] Auto-choosing row-wise multi-threading, the overhead of testing was 0.003282 seconds.\n",
      "You can set `force_row_wise=true` to remove the overhead.\n",
      "And if memory is not enough, you can set `force_col_wise=true`.\n",
      "[LightGBM] [Info] Total Bins 420\n",
      "[LightGBM] [Info] Number of data points in the train set: 183276, number of used features: 9\n",
      "[LightGBM] [Info] Start training from score 4632.272562\n",
      "[LightGBM] [Info] Auto-choosing row-wise multi-threading, the overhead of testing was 0.002520 seconds.\n",
      "You can set `force_row_wise=true` to remove the overhead.\n",
      "And if memory is not enough, you can set `force_col_wise=true`.\n",
      "[LightGBM] [Info] Total Bins 420\n",
      "[LightGBM] [Info] Number of data points in the train set: 183276, number of used features: 9\n",
      "[LightGBM] [Info] Start training from score 4637.316479\n",
      "[LightGBM] [Info] Auto-choosing row-wise multi-threading, the overhead of testing was 0.003282 seconds.\n",
      "You can set `force_row_wise=true` to remove the overhead.\n",
      "And if memory is not enough, you can set `force_col_wise=true`.\n",
      "[LightGBM] [Info] Total Bins 420\n",
      "[LightGBM] [Info] Number of data points in the train set: 183276, number of used features: 9\n",
      "[LightGBM] [Info] Start training from score 4633.239066\n",
      "[LightGBM] [Info] Auto-choosing row-wise multi-threading, the overhead of testing was 0.004011 seconds.\n",
      "You can set `force_row_wise=true` to remove the overhead.\n",
      "And if memory is not enough, you can set `force_col_wise=true`.\n",
      "[LightGBM] [Info] Total Bins 419\n",
      "[LightGBM] [Info] Number of data points in the train set: 183276, number of used features: 9\n",
      "[LightGBM] [Info] Start training from score 4642.785897\n",
      "[LightGBM] [Info] Auto-choosing row-wise multi-threading, the overhead of testing was 0.003502 seconds.\n",
      "You can set `force_row_wise=true` to remove the overhead.\n",
      "And if memory is not enough, you can set `force_col_wise=true`.\n",
      "[LightGBM] [Info] Total Bins 418\n",
      "[LightGBM] [Info] Number of data points in the train set: 183276, number of used features: 9\n",
      "[LightGBM] [Info] Start training from score 4637.711342\n",
      "[LightGBM] [Info] Auto-choosing row-wise multi-threading, the overhead of testing was 0.003382 seconds.\n",
      "You can set `force_row_wise=true` to remove the overhead.\n",
      "And if memory is not enough, you can set `force_col_wise=true`.\n",
      "[LightGBM] [Info] Total Bins 420\n",
      "[LightGBM] [Info] Number of data points in the train set: 183276, number of used features: 9\n",
      "[LightGBM] [Info] Start training from score 4632.272562\n",
      "[LightGBM] [Info] Auto-choosing row-wise multi-threading, the overhead of testing was 0.003012 seconds.\n",
      "You can set `force_row_wise=true` to remove the overhead.\n",
      "And if memory is not enough, you can set `force_col_wise=true`.\n",
      "[LightGBM] [Info] Total Bins 420\n",
      "[LightGBM] [Info] Number of data points in the train set: 183276, number of used features: 9\n",
      "[LightGBM] [Info] Start training from score 4637.316479\n",
      "[LightGBM] [Info] Auto-choosing row-wise multi-threading, the overhead of testing was 0.002578 seconds.\n",
      "You can set `force_row_wise=true` to remove the overhead.\n",
      "And if memory is not enough, you can set `force_col_wise=true`.\n",
      "[LightGBM] [Info] Total Bins 420\n",
      "[LightGBM] [Info] Number of data points in the train set: 183276, number of used features: 9\n",
      "[LightGBM] [Info] Start training from score 4633.239066\n",
      "[LightGBM] [Info] Auto-choosing row-wise multi-threading, the overhead of testing was 0.002689 seconds.\n",
      "You can set `force_row_wise=true` to remove the overhead.\n",
      "And if memory is not enough, you can set `force_col_wise=true`.\n",
      "[LightGBM] [Info] Total Bins 419\n",
      "[LightGBM] [Info] Number of data points in the train set: 183276, number of used features: 9\n",
      "[LightGBM] [Info] Start training from score 4642.785897\n",
      "[LightGBM] [Info] Auto-choosing row-wise multi-threading, the overhead of testing was 0.002668 seconds.\n",
      "You can set `force_row_wise=true` to remove the overhead.\n",
      "And if memory is not enough, you can set `force_col_wise=true`.\n",
      "[LightGBM] [Info] Total Bins 418\n",
      "[LightGBM] [Info] Number of data points in the train set: 183276, number of used features: 9\n",
      "[LightGBM] [Info] Start training from score 4637.711342\n",
      "[LightGBM] [Info] Auto-choosing row-wise multi-threading, the overhead of testing was 0.003458 seconds.\n",
      "You can set `force_row_wise=true` to remove the overhead.\n",
      "And if memory is not enough, you can set `force_col_wise=true`.\n",
      "[LightGBM] [Info] Total Bins 420\n",
      "[LightGBM] [Info] Number of data points in the train set: 183276, number of used features: 9\n",
      "[LightGBM] [Info] Start training from score 4632.272562\n",
      "[LightGBM] [Info] Auto-choosing row-wise multi-threading, the overhead of testing was 0.003504 seconds.\n",
      "You can set `force_row_wise=true` to remove the overhead.\n",
      "And if memory is not enough, you can set `force_col_wise=true`.\n",
      "[LightGBM] [Info] Total Bins 420\n",
      "[LightGBM] [Info] Number of data points in the train set: 183276, number of used features: 9\n",
      "[LightGBM] [Info] Start training from score 4637.316479\n",
      "[LightGBM] [Info] Auto-choosing row-wise multi-threading, the overhead of testing was 0.003393 seconds.\n",
      "You can set `force_row_wise=true` to remove the overhead.\n",
      "And if memory is not enough, you can set `force_col_wise=true`.\n",
      "[LightGBM] [Info] Total Bins 420\n",
      "[LightGBM] [Info] Number of data points in the train set: 183276, number of used features: 9\n",
      "[LightGBM] [Info] Start training from score 4633.239066\n",
      "[LightGBM] [Info] Auto-choosing row-wise multi-threading, the overhead of testing was 0.003546 seconds.\n",
      "You can set `force_row_wise=true` to remove the overhead.\n",
      "And if memory is not enough, you can set `force_col_wise=true`.\n",
      "[LightGBM] [Info] Total Bins 419\n",
      "[LightGBM] [Info] Number of data points in the train set: 183276, number of used features: 9\n",
      "[LightGBM] [Info] Start training from score 4642.785897\n"
     ]
    },
    {
     "name": "stdout",
     "output_type": "stream",
     "text": [
      "[LightGBM] [Info] Auto-choosing row-wise multi-threading, the overhead of testing was 0.002832 seconds.\n",
      "You can set `force_row_wise=true` to remove the overhead.\n",
      "And if memory is not enough, you can set `force_col_wise=true`.\n",
      "[LightGBM] [Info] Total Bins 418\n",
      "[LightGBM] [Info] Number of data points in the train set: 183276, number of used features: 9\n",
      "[LightGBM] [Info] Start training from score 4637.711342\n",
      "[LightGBM] [Info] Auto-choosing row-wise multi-threading, the overhead of testing was 0.003411 seconds.\n",
      "You can set `force_row_wise=true` to remove the overhead.\n",
      "And if memory is not enough, you can set `force_col_wise=true`.\n",
      "[LightGBM] [Info] Total Bins 420\n",
      "[LightGBM] [Info] Number of data points in the train set: 183276, number of used features: 9\n",
      "[LightGBM] [Info] Start training from score 4632.272562\n",
      "[LightGBM] [Info] Auto-choosing row-wise multi-threading, the overhead of testing was 0.002684 seconds.\n",
      "You can set `force_row_wise=true` to remove the overhead.\n",
      "And if memory is not enough, you can set `force_col_wise=true`.\n",
      "[LightGBM] [Info] Total Bins 420\n",
      "[LightGBM] [Info] Number of data points in the train set: 183276, number of used features: 9\n",
      "[LightGBM] [Info] Start training from score 4637.316479\n",
      "[LightGBM] [Info] Auto-choosing row-wise multi-threading, the overhead of testing was 0.003815 seconds.\n",
      "You can set `force_row_wise=true` to remove the overhead.\n",
      "And if memory is not enough, you can set `force_col_wise=true`.\n",
      "[LightGBM] [Info] Total Bins 420\n",
      "[LightGBM] [Info] Number of data points in the train set: 183276, number of used features: 9\n",
      "[LightGBM] [Info] Start training from score 4633.239066\n",
      "[LightGBM] [Info] Auto-choosing row-wise multi-threading, the overhead of testing was 0.003271 seconds.\n",
      "You can set `force_row_wise=true` to remove the overhead.\n",
      "And if memory is not enough, you can set `force_col_wise=true`.\n",
      "[LightGBM] [Info] Total Bins 419\n",
      "[LightGBM] [Info] Number of data points in the train set: 183276, number of used features: 9\n",
      "[LightGBM] [Info] Start training from score 4642.785897\n",
      "[LightGBM] [Info] Auto-choosing row-wise multi-threading, the overhead of testing was 0.003633 seconds.\n",
      "You can set `force_row_wise=true` to remove the overhead.\n",
      "And if memory is not enough, you can set `force_col_wise=true`.\n",
      "[LightGBM] [Info] Total Bins 418\n",
      "[LightGBM] [Info] Number of data points in the train set: 183276, number of used features: 9\n",
      "[LightGBM] [Info] Start training from score 4637.711342\n",
      "[LightGBM] [Info] Auto-choosing row-wise multi-threading, the overhead of testing was 0.003890 seconds.\n",
      "You can set `force_row_wise=true` to remove the overhead.\n",
      "And if memory is not enough, you can set `force_col_wise=true`.\n",
      "[LightGBM] [Info] Total Bins 420\n",
      "[LightGBM] [Info] Number of data points in the train set: 183276, number of used features: 9\n",
      "[LightGBM] [Info] Start training from score 4632.272562\n",
      "[LightGBM] [Info] Auto-choosing row-wise multi-threading, the overhead of testing was 0.003886 seconds.\n",
      "You can set `force_row_wise=true` to remove the overhead.\n",
      "And if memory is not enough, you can set `force_col_wise=true`.\n",
      "[LightGBM] [Info] Total Bins 420\n",
      "[LightGBM] [Info] Number of data points in the train set: 183276, number of used features: 9\n",
      "[LightGBM] [Info] Start training from score 4637.316479\n",
      "[LightGBM] [Info] Auto-choosing row-wise multi-threading, the overhead of testing was 0.003353 seconds.\n",
      "You can set `force_row_wise=true` to remove the overhead.\n",
      "And if memory is not enough, you can set `force_col_wise=true`.\n",
      "[LightGBM] [Info] Total Bins 420\n",
      "[LightGBM] [Info] Number of data points in the train set: 183276, number of used features: 9\n",
      "[LightGBM] [Info] Start training from score 4633.239066\n",
      "[LightGBM] [Info] Auto-choosing row-wise multi-threading, the overhead of testing was 0.003645 seconds.\n",
      "You can set `force_row_wise=true` to remove the overhead.\n",
      "And if memory is not enough, you can set `force_col_wise=true`.\n",
      "[LightGBM] [Info] Total Bins 419\n",
      "[LightGBM] [Info] Number of data points in the train set: 183276, number of used features: 9\n",
      "[LightGBM] [Info] Start training from score 4642.785897\n",
      "[LightGBM] [Info] Auto-choosing row-wise multi-threading, the overhead of testing was 0.004417 seconds.\n",
      "You can set `force_row_wise=true` to remove the overhead.\n",
      "And if memory is not enough, you can set `force_col_wise=true`.\n",
      "[LightGBM] [Info] Total Bins 418\n",
      "[LightGBM] [Info] Number of data points in the train set: 183276, number of used features: 9\n",
      "[LightGBM] [Info] Start training from score 4637.711342\n",
      "[LightGBM] [Info] Auto-choosing row-wise multi-threading, the overhead of testing was 0.002944 seconds.\n",
      "You can set `force_row_wise=true` to remove the overhead.\n",
      "And if memory is not enough, you can set `force_col_wise=true`.\n",
      "[LightGBM] [Info] Total Bins 420\n",
      "[LightGBM] [Info] Number of data points in the train set: 183276, number of used features: 9\n",
      "[LightGBM] [Info] Start training from score 4632.272562\n",
      "[LightGBM] [Info] Auto-choosing row-wise multi-threading, the overhead of testing was 0.003506 seconds.\n",
      "You can set `force_row_wise=true` to remove the overhead.\n",
      "And if memory is not enough, you can set `force_col_wise=true`.\n",
      "[LightGBM] [Info] Total Bins 420\n",
      "[LightGBM] [Info] Number of data points in the train set: 183276, number of used features: 9\n",
      "[LightGBM] [Info] Start training from score 4637.316479\n",
      "[LightGBM] [Info] Auto-choosing row-wise multi-threading, the overhead of testing was 0.003306 seconds.\n",
      "You can set `force_row_wise=true` to remove the overhead.\n",
      "And if memory is not enough, you can set `force_col_wise=true`.\n",
      "[LightGBM] [Info] Total Bins 420\n",
      "[LightGBM] [Info] Number of data points in the train set: 183276, number of used features: 9\n",
      "[LightGBM] [Info] Start training from score 4633.239066\n",
      "[LightGBM] [Info] Auto-choosing row-wise multi-threading, the overhead of testing was 0.003745 seconds.\n",
      "You can set `force_row_wise=true` to remove the overhead.\n",
      "And if memory is not enough, you can set `force_col_wise=true`.\n",
      "[LightGBM] [Info] Total Bins 419\n",
      "[LightGBM] [Info] Number of data points in the train set: 183276, number of used features: 9\n",
      "[LightGBM] [Info] Start training from score 4642.785897\n",
      "[LightGBM] [Info] Auto-choosing row-wise multi-threading, the overhead of testing was 0.003236 seconds.\n",
      "You can set `force_row_wise=true` to remove the overhead.\n",
      "And if memory is not enough, you can set `force_col_wise=true`.\n",
      "[LightGBM] [Info] Total Bins 418\n",
      "[LightGBM] [Info] Number of data points in the train set: 183276, number of used features: 9\n",
      "[LightGBM] [Info] Start training from score 4637.711342\n",
      "[LightGBM] [Info] Auto-choosing row-wise multi-threading, the overhead of testing was 0.003530 seconds.\n",
      "You can set `force_row_wise=true` to remove the overhead.\n",
      "And if memory is not enough, you can set `force_col_wise=true`.\n",
      "[LightGBM] [Info] Total Bins 420\n",
      "[LightGBM] [Info] Number of data points in the train set: 183276, number of used features: 9\n",
      "[LightGBM] [Info] Start training from score 4632.272562\n",
      "[LightGBM] [Info] Auto-choosing row-wise multi-threading, the overhead of testing was 0.003500 seconds.\n",
      "You can set `force_row_wise=true` to remove the overhead.\n",
      "And if memory is not enough, you can set `force_col_wise=true`.\n",
      "[LightGBM] [Info] Total Bins 420\n",
      "[LightGBM] [Info] Number of data points in the train set: 183276, number of used features: 9\n",
      "[LightGBM] [Info] Start training from score 4637.316479\n",
      "[LightGBM] [Info] Auto-choosing row-wise multi-threading, the overhead of testing was 0.003257 seconds.\n",
      "You can set `force_row_wise=true` to remove the overhead.\n",
      "And if memory is not enough, you can set `force_col_wise=true`.\n",
      "[LightGBM] [Info] Total Bins 420\n",
      "[LightGBM] [Info] Number of data points in the train set: 183276, number of used features: 9\n",
      "[LightGBM] [Info] Start training from score 4633.239066\n",
      "[LightGBM] [Info] Auto-choosing row-wise multi-threading, the overhead of testing was 0.004266 seconds.\n",
      "You can set `force_row_wise=true` to remove the overhead.\n",
      "And if memory is not enough, you can set `force_col_wise=true`.\n",
      "[LightGBM] [Info] Total Bins 419\n",
      "[LightGBM] [Info] Number of data points in the train set: 183276, number of used features: 9\n",
      "[LightGBM] [Info] Start training from score 4642.785897\n",
      "[LightGBM] [Info] Auto-choosing row-wise multi-threading, the overhead of testing was 0.003685 seconds.\n",
      "You can set `force_row_wise=true` to remove the overhead.\n",
      "And if memory is not enough, you can set `force_col_wise=true`.\n",
      "[LightGBM] [Info] Total Bins 418\n",
      "[LightGBM] [Info] Number of data points in the train set: 183276, number of used features: 9\n",
      "[LightGBM] [Info] Start training from score 4637.711342\n"
     ]
    },
    {
     "name": "stdout",
     "output_type": "stream",
     "text": [
      "[LightGBM] [Info] Auto-choosing row-wise multi-threading, the overhead of testing was 0.003472 seconds.\n",
      "You can set `force_row_wise=true` to remove the overhead.\n",
      "And if memory is not enough, you can set `force_col_wise=true`.\n",
      "[LightGBM] [Info] Total Bins 420\n",
      "[LightGBM] [Info] Number of data points in the train set: 183276, number of used features: 9\n",
      "[LightGBM] [Info] Start training from score 4632.272562\n",
      "[LightGBM] [Info] Auto-choosing row-wise multi-threading, the overhead of testing was 0.003878 seconds.\n",
      "You can set `force_row_wise=true` to remove the overhead.\n",
      "And if memory is not enough, you can set `force_col_wise=true`.\n",
      "[LightGBM] [Info] Total Bins 420\n",
      "[LightGBM] [Info] Number of data points in the train set: 183276, number of used features: 9\n",
      "[LightGBM] [Info] Start training from score 4637.316479\n",
      "[LightGBM] [Info] Auto-choosing row-wise multi-threading, the overhead of testing was 0.002877 seconds.\n",
      "You can set `force_row_wise=true` to remove the overhead.\n",
      "And if memory is not enough, you can set `force_col_wise=true`.\n",
      "[LightGBM] [Info] Total Bins 420\n",
      "[LightGBM] [Info] Number of data points in the train set: 183276, number of used features: 9\n",
      "[LightGBM] [Info] Start training from score 4633.239066\n",
      "[LightGBM] [Info] Auto-choosing row-wise multi-threading, the overhead of testing was 0.003866 seconds.\n",
      "You can set `force_row_wise=true` to remove the overhead.\n",
      "And if memory is not enough, you can set `force_col_wise=true`.\n",
      "[LightGBM] [Info] Total Bins 419\n",
      "[LightGBM] [Info] Number of data points in the train set: 183276, number of used features: 9\n",
      "[LightGBM] [Info] Start training from score 4642.785897\n",
      "[LightGBM] [Info] Auto-choosing row-wise multi-threading, the overhead of testing was 0.002927 seconds.\n",
      "You can set `force_row_wise=true` to remove the overhead.\n",
      "And if memory is not enough, you can set `force_col_wise=true`.\n",
      "[LightGBM] [Info] Total Bins 418\n",
      "[LightGBM] [Info] Number of data points in the train set: 183276, number of used features: 9\n",
      "[LightGBM] [Info] Start training from score 4637.711342\n",
      "[LightGBM] [Info] Auto-choosing row-wise multi-threading, the overhead of testing was 0.003843 seconds.\n",
      "You can set `force_row_wise=true` to remove the overhead.\n",
      "And if memory is not enough, you can set `force_col_wise=true`.\n",
      "[LightGBM] [Info] Total Bins 420\n",
      "[LightGBM] [Info] Number of data points in the train set: 183276, number of used features: 9\n",
      "[LightGBM] [Info] Start training from score 4632.272562\n",
      "[LightGBM] [Info] Auto-choosing row-wise multi-threading, the overhead of testing was 0.003344 seconds.\n",
      "You can set `force_row_wise=true` to remove the overhead.\n",
      "And if memory is not enough, you can set `force_col_wise=true`.\n",
      "[LightGBM] [Info] Total Bins 420\n",
      "[LightGBM] [Info] Number of data points in the train set: 183276, number of used features: 9\n",
      "[LightGBM] [Info] Start training from score 4637.316479\n",
      "[LightGBM] [Info] Auto-choosing row-wise multi-threading, the overhead of testing was 0.003632 seconds.\n",
      "You can set `force_row_wise=true` to remove the overhead.\n",
      "And if memory is not enough, you can set `force_col_wise=true`.\n",
      "[LightGBM] [Info] Total Bins 420\n",
      "[LightGBM] [Info] Number of data points in the train set: 183276, number of used features: 9\n",
      "[LightGBM] [Info] Start training from score 4633.239066\n",
      "[LightGBM] [Info] Auto-choosing row-wise multi-threading, the overhead of testing was 0.004426 seconds.\n",
      "You can set `force_row_wise=true` to remove the overhead.\n",
      "And if memory is not enough, you can set `force_col_wise=true`.\n",
      "[LightGBM] [Info] Total Bins 420\n",
      "[LightGBM] [Info] Number of data points in the train set: 229095, number of used features: 9\n",
      "[LightGBM] [Info] Start training from score 4636.665069\n",
      "[LightGBM] [Info] Auto-choosing row-wise multi-threading, the overhead of testing was 0.005331 seconds.\n",
      "You can set `force_row_wise=true` to remove the overhead.\n",
      "And if memory is not enough, you can set `force_col_wise=true`.\n",
      "[LightGBM] [Info] Total Bins 420\n",
      "[LightGBM] [Info] Number of data points in the train set: 229095, number of used features: 9\n",
      "[LightGBM] [Info] Start training from score 4636.665069\n"
     ]
    }
   ],
   "source": [
    "model_lgb, rmse_lgb, r2_lgb, time_fit_lgb = predict_function(lgb.LGBMRegressor(objective = \"rmse\",\n",
    "                                                                               random_state=RS),\n",
    "                                                             params_lgb)"
   ]
  },
  {
   "cell_type": "markdown",
   "metadata": {},
   "source": [
    "**Подготовка данных для обучения моделей DecisionTreeRegressor и RandomForestRegressor**"
   ]
  },
  {
   "cell_type": "markdown",
   "metadata": {},
   "source": [
    "Обучаем scaler и encoder на обучающей выборке:"
   ]
  },
  {
   "cell_type": "code",
   "execution_count": 25,
   "metadata": {},
   "outputs": [
    {
     "data": {
      "text/html": [
       "<style>#sk-container-id-1 {color: black;background-color: white;}#sk-container-id-1 pre{padding: 0;}#sk-container-id-1 div.sk-toggleable {background-color: white;}#sk-container-id-1 label.sk-toggleable__label {cursor: pointer;display: block;width: 100%;margin-bottom: 0;padding: 0.3em;box-sizing: border-box;text-align: center;}#sk-container-id-1 label.sk-toggleable__label-arrow:before {content: \"▸\";float: left;margin-right: 0.25em;color: #696969;}#sk-container-id-1 label.sk-toggleable__label-arrow:hover:before {color: black;}#sk-container-id-1 div.sk-estimator:hover label.sk-toggleable__label-arrow:before {color: black;}#sk-container-id-1 div.sk-toggleable__content {max-height: 0;max-width: 0;overflow: hidden;text-align: left;background-color: #f0f8ff;}#sk-container-id-1 div.sk-toggleable__content pre {margin: 0.2em;color: black;border-radius: 0.25em;background-color: #f0f8ff;}#sk-container-id-1 input.sk-toggleable__control:checked~div.sk-toggleable__content {max-height: 200px;max-width: 100%;overflow: auto;}#sk-container-id-1 input.sk-toggleable__control:checked~label.sk-toggleable__label-arrow:before {content: \"▾\";}#sk-container-id-1 div.sk-estimator input.sk-toggleable__control:checked~label.sk-toggleable__label {background-color: #d4ebff;}#sk-container-id-1 div.sk-label input.sk-toggleable__control:checked~label.sk-toggleable__label {background-color: #d4ebff;}#sk-container-id-1 input.sk-hidden--visually {border: 0;clip: rect(1px 1px 1px 1px);clip: rect(1px, 1px, 1px, 1px);height: 1px;margin: -1px;overflow: hidden;padding: 0;position: absolute;width: 1px;}#sk-container-id-1 div.sk-estimator {font-family: monospace;background-color: #f0f8ff;border: 1px dotted black;border-radius: 0.25em;box-sizing: border-box;margin-bottom: 0.5em;}#sk-container-id-1 div.sk-estimator:hover {background-color: #d4ebff;}#sk-container-id-1 div.sk-parallel-item::after {content: \"\";width: 100%;border-bottom: 1px solid gray;flex-grow: 1;}#sk-container-id-1 div.sk-label:hover label.sk-toggleable__label {background-color: #d4ebff;}#sk-container-id-1 div.sk-serial::before {content: \"\";position: absolute;border-left: 1px solid gray;box-sizing: border-box;top: 0;bottom: 0;left: 50%;z-index: 0;}#sk-container-id-1 div.sk-serial {display: flex;flex-direction: column;align-items: center;background-color: white;padding-right: 0.2em;padding-left: 0.2em;position: relative;}#sk-container-id-1 div.sk-item {position: relative;z-index: 1;}#sk-container-id-1 div.sk-parallel {display: flex;align-items: stretch;justify-content: center;background-color: white;position: relative;}#sk-container-id-1 div.sk-item::before, #sk-container-id-1 div.sk-parallel-item::before {content: \"\";position: absolute;border-left: 1px solid gray;box-sizing: border-box;top: 0;bottom: 0;left: 50%;z-index: -1;}#sk-container-id-1 div.sk-parallel-item {display: flex;flex-direction: column;z-index: 1;position: relative;background-color: white;}#sk-container-id-1 div.sk-parallel-item:first-child::after {align-self: flex-end;width: 50%;}#sk-container-id-1 div.sk-parallel-item:last-child::after {align-self: flex-start;width: 50%;}#sk-container-id-1 div.sk-parallel-item:only-child::after {width: 0;}#sk-container-id-1 div.sk-dashed-wrapped {border: 1px dashed gray;margin: 0 0.4em 0.5em 0.4em;box-sizing: border-box;padding-bottom: 0.4em;background-color: white;}#sk-container-id-1 div.sk-label label {font-family: monospace;font-weight: bold;display: inline-block;line-height: 1.2em;}#sk-container-id-1 div.sk-label-container {text-align: center;}#sk-container-id-1 div.sk-container {/* jupyter's `normalize.less` sets `[hidden] { display: none; }` but bootstrap.min.css set `[hidden] { display: none !important; }` so we also need the `!important` here to be able to override the default hidden behavior on the sphinx rendered scikit-learn.org. See: https://github.com/scikit-learn/scikit-learn/issues/21755 */display: inline-block !important;position: relative;}#sk-container-id-1 div.sk-text-repr-fallback {display: none;}</style><div id=\"sk-container-id-1\" class=\"sk-top-container\"><div class=\"sk-text-repr-fallback\"><pre>OneHotEncoder(drop=&#x27;first&#x27;, handle_unknown=&#x27;ignore&#x27;)</pre><b>In a Jupyter environment, please rerun this cell to show the HTML representation or trust the notebook. <br />On GitHub, the HTML representation is unable to render, please try loading this page with nbviewer.org.</b></div><div class=\"sk-container\" hidden><div class=\"sk-item\"><div class=\"sk-estimator sk-toggleable\"><input class=\"sk-toggleable__control sk-hidden--visually\" id=\"sk-estimator-id-1\" type=\"checkbox\" checked><label for=\"sk-estimator-id-1\" class=\"sk-toggleable__label sk-toggleable__label-arrow\">OneHotEncoder</label><div class=\"sk-toggleable__content\"><pre>OneHotEncoder(drop=&#x27;first&#x27;, handle_unknown=&#x27;ignore&#x27;)</pre></div></div></div></div></div>"
      ],
      "text/plain": [
       "OneHotEncoder(drop='first', handle_unknown='ignore')"
      ]
     },
     "execution_count": 25,
     "metadata": {},
     "output_type": "execute_result"
    }
   ],
   "source": [
    "scaler = StandardScaler()\n",
    "scaler.fit(X_train[numerical_features])\n",
    "\n",
    "encoder = OneHotEncoder(handle_unknown='ignore', drop='first')\n",
    "encoder.fit(X_train[categorical_features])"
   ]
  },
  {
   "cell_type": "markdown",
   "metadata": {},
   "source": [
    "Функция масштабирования и кодирования признаков:"
   ]
  },
  {
   "cell_type": "code",
   "execution_count": 26,
   "metadata": {},
   "outputs": [],
   "source": [
    "def df_transform(data):\n",
    "    # Масштабирование\n",
    "    data = data.reset_index(drop=True)\n",
    "    data[numerical_features] = scaler.transform(data[numerical_features])\n",
    "    \n",
    "    # Прямое кодирование (OHE)\n",
    "    encoder_df = pd.DataFrame(encoder.transform(data[categorical_features]).toarray())\n",
    "    data = data.join(encoder_df)\n",
    "    \n",
    "    # Удаление ненужных столбцов\n",
    "    data = data.drop(categorical_features, axis=1)\n",
    "    \n",
    "    # Перевод названий всех столбцов в str \n",
    "    data.columns = data.columns.astype(str)\n",
    "    return data"
   ]
  },
  {
   "cell_type": "markdown",
   "metadata": {},
   "source": [
    "Масштабируем и кодируем данные обучающей, валидационной и тестовой выборок:"
   ]
  },
  {
   "cell_type": "code",
   "execution_count": 27,
   "metadata": {
    "scrolled": true
   },
   "outputs": [],
   "source": [
    "X_train_ohe = df_transform(X_train)\n",
    "X_test_ohe = df_transform(X_test)"
   ]
  },
  {
   "cell_type": "markdown",
   "metadata": {},
   "source": [
    "**Обучение модели DecisionTreeRegressor**"
   ]
  },
  {
   "cell_type": "markdown",
   "metadata": {},
   "source": [
    "Задаем сетку гиперпараметров для GridSearchCV:"
   ]
  },
  {
   "cell_type": "code",
   "execution_count": 28,
   "metadata": {},
   "outputs": [],
   "source": [
    "params_dtr = {'min_samples_leaf' : intd(2, 30, False, 1)}                          # значения гиперпараметров модели для подбора"
   ]
  },
  {
   "cell_type": "markdown",
   "metadata": {},
   "source": [
    "Обучаем модель DecisionTreeRegressor:"
   ]
  },
  {
   "cell_type": "code",
   "execution_count": 29,
   "metadata": {},
   "outputs": [
    {
     "name": "stderr",
     "output_type": "stream",
     "text": [
      "C:\\Users\\bond_\\AppData\\Local\\Temp\\ipykernel_9528\\4246448081.py:3: ExperimentalWarning: OptunaSearchCV is experimental (supported from v0.17.0). The interface can change in the future.\n",
      "  model = OptunaSearchCV(model, params, scoring='r2', cv=5)                     # передаем данные в OptunaSearchCV\n"
     ]
    }
   ],
   "source": [
    "model_dtr, rmse_dtr, r2_dtr, time_fit_dtr, = predict_function(DecisionTreeRegressor(random_state=RS),\n",
    "                                                              params_dtr,\n",
    "                                                              X_train_ohe)"
   ]
  },
  {
   "cell_type": "markdown",
   "metadata": {},
   "source": [
    "**Обучение модели RandomForestRegressor**"
   ]
  },
  {
   "cell_type": "markdown",
   "metadata": {},
   "source": [
    "Задаем сетку гиперпараметров для GridSearchCV:"
   ]
  },
  {
   "cell_type": "code",
   "execution_count": 30,
   "metadata": {},
   "outputs": [],
   "source": [
    "params_rfr = {'min_samples_leaf' : intd(2, 10, False, 4)} "
   ]
  },
  {
   "cell_type": "markdown",
   "metadata": {},
   "source": [
    "Обучаем модель RandomForestRegressor:"
   ]
  },
  {
   "cell_type": "code",
   "execution_count": 31,
   "metadata": {},
   "outputs": [
    {
     "name": "stderr",
     "output_type": "stream",
     "text": [
      "C:\\Users\\bond_\\AppData\\Local\\Temp\\ipykernel_9528\\4246448081.py:3: ExperimentalWarning: OptunaSearchCV is experimental (supported from v0.17.0). The interface can change in the future.\n",
      "  model = OptunaSearchCV(model, params, scoring='r2', cv=5)                     # передаем данные в OptunaSearchCV\n"
     ]
    }
   ],
   "source": [
    "model_rfr, rmse_rfr, r2_rfr, time_fit_rfr = predict_function(RandomForestRegressor(random_state=RS),\n",
    "                                                             params_rfr,\n",
    "                                                             X_train_ohe)"
   ]
  },
  {
   "cell_type": "markdown",
   "metadata": {},
   "source": [
    "**Вывод:**  \n",
    "Обучены и проверены на валидационных выборках модели LGBMRegressor, DecisionTreeRegressor и RandomForestRegressor.  "
   ]
  },
  {
   "cell_type": "markdown",
   "metadata": {},
   "source": [
    "## Анализ моделей\n",
    "<a id=\"analysis\"></a>"
   ]
  },
  {
   "cell_type": "markdown",
   "metadata": {},
   "source": [
    "### Сводная таблица\n",
    "<a id=\"union_table\"></a>"
   ]
  },
  {
   "cell_type": "markdown",
   "metadata": {},
   "source": [
    "Собираем результаты в таблицу. Добавляем в нее метрику major_metric - произведение важных для заказчика параметров: rmse, time_fit и time_pred."
   ]
  },
  {
   "cell_type": "code",
   "execution_count": 51,
   "metadata": {},
   "outputs": [
    {
     "data": {
      "text/html": [
       "<div>\n",
       "<style scoped>\n",
       "    .dataframe tbody tr th:only-of-type {\n",
       "        vertical-align: middle;\n",
       "    }\n",
       "\n",
       "    .dataframe tbody tr th {\n",
       "        vertical-align: top;\n",
       "    }\n",
       "\n",
       "    .dataframe thead th {\n",
       "        text-align: right;\n",
       "    }\n",
       "</style>\n",
       "<table border=\"1\" class=\"dataframe\">\n",
       "  <thead>\n",
       "    <tr style=\"text-align: right;\">\n",
       "      <th></th>\n",
       "      <th>model_type</th>\n",
       "      <th>rmse</th>\n",
       "      <th>r2</th>\n",
       "      <th>time_fit</th>\n",
       "    </tr>\n",
       "  </thead>\n",
       "  <tbody>\n",
       "    <tr>\n",
       "      <th>0</th>\n",
       "      <td>LGBMRegressor</td>\n",
       "      <td>1471</td>\n",
       "      <td>0.872155</td>\n",
       "      <td>0.588197</td>\n",
       "    </tr>\n",
       "    <tr>\n",
       "      <th>1</th>\n",
       "      <td>DecisionTreeRegressor</td>\n",
       "      <td>1604</td>\n",
       "      <td>0.840785</td>\n",
       "      <td>1.555368</td>\n",
       "    </tr>\n",
       "    <tr>\n",
       "      <th>2</th>\n",
       "      <td>RandomForestRegressor</td>\n",
       "      <td>1147</td>\n",
       "      <td>0.870710</td>\n",
       "      <td>131.909897</td>\n",
       "    </tr>\n",
       "  </tbody>\n",
       "</table>\n",
       "</div>"
      ],
      "text/plain": [
       "              model_type  rmse        r2    time_fit\n",
       "0          LGBMRegressor  1471  0.872155    0.588197\n",
       "1  DecisionTreeRegressor  1604  0.840785    1.555368\n",
       "2  RandomForestRegressor  1147  0.870710  131.909897"
      ]
     },
     "execution_count": 51,
     "metadata": {},
     "output_type": "execute_result"
    }
   ],
   "source": [
    "df_best_model = pd.DataFrame({'model_type' : ['LGBMRegressor', 'DecisionTreeRegressor', 'RandomForestRegressor'],\n",
    "                              'rmse' : [rmse_lgb, rmse_dtr, rmse_rfr],\n",
    "                              'r2' : [r2_lgb, r2_dtr, r2_rfr],\n",
    "                              'time_fit' : [time_fit_lgb, time_fit_dtr, time_fit_rfr],\n",
    "                              'model' : [model_lgb, model_dtr, model_rfr]})\n",
    "df_best_model[['model_type', 'rmse', 'r2', 'time_fit']]"
   ]
  },
  {
   "cell_type": "markdown",
   "metadata": {},
   "source": [
    "Определяем лучшую модель: значение rmse должно быть меньше 2500, а значение major_metric - минимальное среди всех моделей:"
   ]
  },
  {
   "cell_type": "code",
   "execution_count": 61,
   "metadata": {},
   "outputs": [
    {
     "name": "stdout",
     "output_type": "stream",
     "text": [
      "Лучшая модель: LGBMRegressor(learning_rate=0.3, max_depth=27, n_estimators=250, num_leaves=30,\n",
      "              objective='rmse',\n",
      "              random_state=RandomState(MT19937) at 0x2A9902B0240)\n",
      "RMSE лучшей модели: 1471\n",
      "R2 лучшей модели: 0.872\n"
     ]
    }
   ],
   "source": [
    "best_model_row = df_best_model.loc[(df_best_model['rmse'] < 2500) & (df_best_model['r2'] == df_best_model['r2'].max())]\n",
    "best_model = best_model_row.iloc[0, 4]\n",
    "print('Лучшая модель: {}'.format(best_model.best_estimator_))\n",
    "print('RMSE лучшей модели: {}'.format(best_model_row.iloc[0, 1]))\n",
    "print('R2 лучшей модели: {:.3f}'.format(best_model_row.iloc[0, 2]))"
   ]
  },
  {
   "cell_type": "markdown",
   "metadata": {},
   "source": [
    "### Проверка лучшей модели на тестовой выборке\n",
    "<a id=\"test\"></a>"
   ]
  },
  {
   "cell_type": "markdown",
   "metadata": {},
   "source": [
    "Функция расчёта метрик:"
   ]
  },
  {
   "cell_type": "code",
   "execution_count": 62,
   "metadata": {},
   "outputs": [],
   "source": [
    "def test_metrics(X_test):\n",
    "    start_time = timeit.default_timer()\n",
    "    pred = best_model.best_estimator_.predict(X_test)\n",
    "    time_pred = (timeit.default_timer() - start_time)\n",
    "    rmse_test = int(mean_squared_error(y_test, pred, squared=False))\n",
    "    r2_test = r2_score(y_test, pred).round(4)\n",
    "    print('RMSE: {}'.format(rmse_test))\n",
    "    print('R2: {}'.format(r2_test))\n",
    "    print('Время предсказания: {:.1f}'.format(time_pred))\n",
    "    return rmse_test, r2_test, time_pred"
   ]
  },
  {
   "cell_type": "markdown",
   "metadata": {},
   "source": [
    "Рассчитываем метрики лучшей модели на тестовой выборке:"
   ]
  },
  {
   "cell_type": "code",
   "execution_count": 63,
   "metadata": {
    "scrolled": false
   },
   "outputs": [
    {
     "name": "stdout",
     "output_type": "stream",
     "text": [
      "RMSE: 1597\n",
      "R2: 0.8766\n",
      "Время предсказания: 0.1\n"
     ]
    }
   ],
   "source": [
    "if best_model_row.iloc[0, 0] == 'LGBMRegressor':\n",
    "    rmse_test, r2_test, time_pred_test = test_metrics(X_test)\n",
    "else:\n",
    "    rmse_test, r2_test, time_pred_test = test_metrics(X_test_ohe)"
   ]
  },
  {
   "cell_type": "markdown",
   "metadata": {},
   "source": [
    "### Сравнение с dummy  моделью \n",
    "<a id=\"dummy\"></a>"
   ]
  },
  {
   "cell_type": "markdown",
   "metadata": {},
   "source": [
    "Обучаем dummy и делаем оценку (по умолчанию для dummy модели используется метрика R2):"
   ]
  },
  {
   "cell_type": "code",
   "execution_count": 59,
   "metadata": {},
   "outputs": [
    {
     "name": "stdout",
     "output_type": "stream",
     "text": [
      "R2 dummy модели: -0.1400\n"
     ]
    }
   ],
   "source": [
    "dummy = DummyRegressor(strategy=\"median\")\n",
    "dummy.fit(X_test_ohe, y_test)\n",
    "r2_dummy = dummy.score(X_test,y_test)\n",
    "print('R2 dummy модели: {:.4f}'.format(r2_dummy))"
   ]
  },
  {
   "cell_type": "markdown",
   "metadata": {},
   "source": [
    "Сравниваем метрику R2 лучшей модели и dummy модели:"
   ]
  },
  {
   "cell_type": "code",
   "execution_count": 60,
   "metadata": {},
   "outputs": [
    {
     "name": "stdout",
     "output_type": "stream",
     "text": [
      "R2 лучшей модели: 0.8766\n",
      "R2 dummy модели: -0.1400\n",
      "Лучшая модель адекватна.\n"
     ]
    }
   ],
   "source": [
    "print('R2 лучшей модели: {:.4f}'.format(r2_test))\n",
    "print('R2 dummy модели: {:.4f}'.format(r2_dummy))\n",
    "if r2_test > r2_dummy:\n",
    "    print(\"Лучшая модель адекватна.\")\n",
    "else:\n",
    "    print(\"Лучшая модель неадекватна.\")"
   ]
  },
  {
   "cell_type": "markdown",
   "metadata": {},
   "source": [
    "**Вывод:**  \n",
    "\n",
    "Обучены модели LGBMRegressor, DecisionTreeRegresso и RandomForestRegressor. Значения целевой метрики RMSE каждой модели удовлетворяют требованию - не более 2500.  \n",
    "По метрике R2 Лучшая модель - LGBMRegressor:\n",
    "- LGBMRegressor: 0.872;\n",
    "- DecisionTreeRegressor: 0.841;\n",
    "- RandomForestRegressor: 0.871.\n",
    "\n",
    "Гиперпараметры лучшей модели LGBMRegressor:  \n",
    "- learning_rate: 0.3;\n",
    "- max_depth: 27;\n",
    "- n_estimators: 250;\n",
    "- num_leaves: 30.\n",
    "Метрики лучшей модели LGBMRegressor:  \n",
    "- RMSE: 1471;  \n",
    "- R2: 0.872.  \n",
    "Время обучения лучшей модели LGBMRegressor: 0.6 секунд.   \n",
    "\n",
    "На тестовой выборке данная модель показала следующие результаты:\n",
    "- RMSE: 1597;  \n",
    "- R2: 0.877.  \n",
    "- Время предсказания: 0.01 секунд.\n",
    "\n",
    "\n",
    "Сравнение данной модели с dummy моделью показало ее адекватность."
   ]
  },
  {
   "cell_type": "markdown",
   "metadata": {},
   "source": [
    "## Общий вывод\n",
    "<a id=\"final\"></a>"
   ]
  },
  {
   "cell_type": "markdown",
   "metadata": {},
   "source": [
    "**Импорт данных и общая информация**  \n",
    "\n",
    "1. Датасет состоит из 354369 строк и 16 признаков.  \n",
    "2. Количество пропущенных значений - 181077 (3.2%). Из них:  \n",
    "- VehicleType - 37490 (10.6%);  \n",
    "- Gearbox - 19833 (5.6%);  \n",
    "- Model - 19705 (5.6%);  \n",
    "- FuelType - 32895 (9.3%);\n",
    "- Repaired - 71154 (20.1%).\n",
    "\n",
    "3. Полных дубликатов - 4. Поскольку отсутствуют id анкеты или пользователей, разместивших объявления, нельзя однозначно определить, относятся ли дублирующиеся анкеты к одним и тем же автомобилям. Целесообразно оставить дубликаты.\n",
    "4. Чаще других встречаются, цены, лежащие в диапазоне 0-2000;\n",
    "5. Наиболее количество анкет по типам кузова автомобилей:\n",
    "- sedan - 91457 (25.8%);\n",
    "- small - 79831\t(22.5%);\n",
    "- wagon - 65166\t(18.4%).\n",
    "6. Тип коробки передач:\n",
    "- manual - 268251 (75.7%);\n",
    "- auto - 66285 (18.7%).\n",
    "7. В 40225 (11.4%) анкет указано нулевое значение мощности двигателя.\n",
    "8. Наиболее широко представлены модели:\n",
    "- golf - 29232 (8.2%);\n",
    "- 3er - 19761 (5.6%).\n",
    "9. 238209 автомобилей (67.2%) имеют пробег 150000 км.\n",
    "10. Наиболее количество анкет по типам топлива:\n",
    "- petrol - 216352 (61.1%);\n",
    "- gasoline - 98720 (27.9%).\n",
    "11. Ремонтировался ли автомобиль:\n",
    "- False\t(247161) 69.7%;\n",
    "- True (36054) 10.2%.\n",
    "12. Наиболее количество анкет по брендам:\n",
    "- volkswagen - 77013 (21.7%);\n",
    "- opel - 39931 (11.3%);\n",
    "- bmw - 36914 (10.4%).\n",
    "13. У 100% анкет отсутствуют приложенные фотографии.\n",
    "14. Корреляция между RegistrationYear и VehicleType - 100%  \n",
    "\n",
    "\n",
    "**Подготовка данных**  \n",
    "\n",
    "1. Названия признаков приведены к нижнему регистру.\n",
    "2. Обработаны анамальные значения признаков registrationyear, power, price.  \n",
    "3. Добавлен признак \"years_old\" - возраст автомобиля на момент подачи объявления;\n",
    "4. Удалены признаки, лишние для решения задачи прогнозирования:\n",
    "- datecrawled;\n",
    "- registrationmonth;\n",
    "- datecreated;\n",
    "- postalcode;\n",
    "- lastseen;\n",
    "- registrationyear.\n",
    "\n",
    "5. Пропущенные значения заменены на \"other\";\n",
    "6. Для признака model оставлены только 10 наиболее часто встречающихся значений. Остальные заменены на \"other\".\n",
    "7. признаки разделены на числовые, категориальные и целевой.\n",
    "8. Для категориальных данных тип изменен на \"category\".  \n",
    "9. Количество удаленных строк: 13196 (3.73%).\n",
    "\n",
    "\n",
    "**Обучение моделей**  \n",
    "\n",
    "Обучены и проверены на валидационных выборках модели LGBMRegressor, DecisionTreeRegressor и RandomForestRegressor.\n",
    "\n",
    "**Анализ моделей**\n",
    "\n",
    "Обучены модели LGBMRegressor, DecisionTreeRegresso и RandomForestRegressor. Значения целевой метрики RMSE каждой модели удовлетворяют требованию - не более 2500.  \n",
    "По метрике R2 Лучшая модель - LGBMRegressor:\n",
    "- LGBMRegressor: 0.872;\n",
    "- DecisionTreeRegressor: 0.841;\n",
    "- RandomForestRegressor: 0.871.\n",
    "\n",
    "Гиперпараметры лучшей модели LGBMRegressor:  \n",
    "- learning_rate: 0.3;\n",
    "- max_depth: 27;\n",
    "- n_estimators: 250;\n",
    "- num_leaves: 30.\n",
    "Метрики лучшей модели LGBMRegressor:  \n",
    "- RMSE: 1471;  \n",
    "- R2: 0.872.  \n",
    "Время обучения лучшей модели LGBMRegressor: 0.6 секунд.   \n",
    "\n",
    "На тестовой выборке данная модель показала следующие результаты:\n",
    "- RMSE: 1597;  \n",
    "- R2: 0.877.  \n",
    "- Время предсказания: 0.01 секунд.\n",
    "\n",
    "\n",
    "Сравнение данной модели с dummy моделью показало ее адекватность."
   ]
  }
 ],
 "metadata": {
  "ExecuteTimeLog": [
   {
    "duration": 466,
    "start_time": "2023-05-11T04:04:14.436Z"
   },
   {
    "duration": 1602,
    "start_time": "2023-05-11T04:04:15.386Z"
   },
   {
    "duration": 13609,
    "start_time": "2023-05-11T04:05:07.056Z"
   },
   {
    "duration": 2009,
    "start_time": "2023-05-11T04:05:20.667Z"
   },
   {
    "duration": 1526,
    "start_time": "2023-05-11T04:05:22.678Z"
   },
   {
    "duration": 3,
    "start_time": "2023-05-11T04:05:25.756Z"
   },
   {
    "duration": 3,
    "start_time": "2023-05-11T04:05:26.106Z"
   },
   {
    "duration": 74,
    "start_time": "2023-05-11T04:05:26.456Z"
   },
   {
    "duration": 61,
    "start_time": "2023-05-11T04:05:26.816Z"
   },
   {
    "duration": 72,
    "start_time": "2023-05-11T04:05:27.137Z"
   },
   {
    "duration": 33,
    "start_time": "2023-05-11T04:05:27.407Z"
   },
   {
    "duration": 25,
    "start_time": "2023-05-11T04:05:27.696Z"
   },
   {
    "duration": 3,
    "start_time": "2023-05-11T04:05:27.996Z"
   },
   {
    "duration": 180,
    "start_time": "2023-05-11T04:05:28.286Z"
   },
   {
    "duration": 3,
    "start_time": "2023-05-11T04:05:28.586Z"
   },
   {
    "duration": 91,
    "start_time": "2023-05-11T04:05:29.336Z"
   },
   {
    "duration": 3,
    "start_time": "2023-05-11T04:05:29.886Z"
   },
   {
    "duration": 3,
    "start_time": "2023-05-11T04:05:30.376Z"
   },
   {
    "duration": 64809,
    "start_time": "2023-05-11T04:05:30.756Z"
   },
   {
    "duration": 4,
    "start_time": "2023-05-11T04:06:35.568Z"
   },
   {
    "duration": 170,
    "start_time": "2023-05-11T04:06:35.574Z"
   },
   {
    "duration": 0,
    "start_time": "2023-05-11T04:06:35.746Z"
   },
   {
    "duration": 0,
    "start_time": "2023-05-11T04:06:35.747Z"
   },
   {
    "duration": 0,
    "start_time": "2023-05-11T04:06:35.748Z"
   },
   {
    "duration": 0,
    "start_time": "2023-05-11T04:06:35.749Z"
   },
   {
    "duration": 0,
    "start_time": "2023-05-11T04:06:35.750Z"
   },
   {
    "duration": 7192,
    "start_time": "2023-05-11T05:55:39.741Z"
   },
   {
    "duration": 5,
    "start_time": "2023-05-11T05:55:52.296Z"
   },
   {
    "duration": 1809,
    "start_time": "2023-05-11T05:55:53.304Z"
   },
   {
    "duration": 3,
    "start_time": "2023-05-11T05:55:56.644Z"
   },
   {
    "duration": 3,
    "start_time": "2023-05-11T05:55:57.496Z"
   },
   {
    "duration": 71,
    "start_time": "2023-05-11T05:55:57.873Z"
   },
   {
    "duration": 52,
    "start_time": "2023-05-11T05:55:58.256Z"
   },
   {
    "duration": 74,
    "start_time": "2023-05-11T05:55:58.616Z"
   },
   {
    "duration": 28,
    "start_time": "2023-05-11T05:55:58.968Z"
   },
   {
    "duration": 23,
    "start_time": "2023-05-11T05:55:59.345Z"
   },
   {
    "duration": 2,
    "start_time": "2023-05-11T05:55:59.721Z"
   },
   {
    "duration": 165,
    "start_time": "2023-05-11T05:56:00.056Z"
   },
   {
    "duration": 2,
    "start_time": "2023-05-11T05:56:00.433Z"
   },
   {
    "duration": 78,
    "start_time": "2023-05-11T05:56:01.426Z"
   },
   {
    "duration": 3,
    "start_time": "2023-05-11T05:56:02.044Z"
   },
   {
    "duration": 3,
    "start_time": "2023-05-11T05:56:02.480Z"
   },
   {
    "duration": 65812,
    "start_time": "2023-05-11T05:56:02.884Z"
   },
   {
    "duration": 60,
    "start_time": "2023-05-11T05:57:08.698Z"
   },
   {
    "duration": 39,
    "start_time": "2023-05-11T05:57:08.759Z"
   },
   {
    "duration": 0,
    "start_time": "2023-05-11T05:57:08.800Z"
   },
   {
    "duration": 0,
    "start_time": "2023-05-11T05:57:08.801Z"
   },
   {
    "duration": 0,
    "start_time": "2023-05-11T05:57:08.802Z"
   },
   {
    "duration": 0,
    "start_time": "2023-05-11T05:57:08.803Z"
   },
   {
    "duration": 0,
    "start_time": "2023-05-11T05:57:08.804Z"
   },
   {
    "duration": 28,
    "start_time": "2023-05-11T05:59:51.325Z"
   },
   {
    "duration": 50,
    "start_time": "2023-05-11T05:59:58.182Z"
   },
   {
    "duration": 4,
    "start_time": "2023-05-11T06:00:01.215Z"
   },
   {
    "duration": 1578,
    "start_time": "2023-05-11T06:00:01.779Z"
   },
   {
    "duration": 3,
    "start_time": "2023-05-11T06:00:03.359Z"
   },
   {
    "duration": 15443,
    "start_time": "2023-05-11T06:00:03.363Z"
   },
   {
    "duration": 4,
    "start_time": "2023-05-11T06:00:18.808Z"
   },
   {
    "duration": 4,
    "start_time": "2023-05-11T06:01:28.780Z"
   },
   {
    "duration": 4,
    "start_time": "2023-05-11T06:02:31.796Z"
   },
   {
    "duration": 1308,
    "start_time": "2023-05-11T06:02:32.052Z"
   },
   {
    "duration": 2,
    "start_time": "2023-05-11T06:02:33.362Z"
   },
   {
    "duration": 27,
    "start_time": "2023-05-11T06:02:33.365Z"
   },
   {
    "duration": 72,
    "start_time": "2023-05-11T06:02:33.394Z"
   },
   {
    "duration": 51,
    "start_time": "2023-05-11T06:02:33.468Z"
   },
   {
    "duration": 91,
    "start_time": "2023-05-11T06:02:33.521Z"
   },
   {
    "duration": 42,
    "start_time": "2023-05-11T06:02:33.614Z"
   },
   {
    "duration": 24,
    "start_time": "2023-05-11T06:02:33.819Z"
   },
   {
    "duration": 2,
    "start_time": "2023-05-11T06:02:34.077Z"
   },
   {
    "duration": 166,
    "start_time": "2023-05-11T06:02:34.348Z"
   },
   {
    "duration": 3,
    "start_time": "2023-05-11T06:02:34.640Z"
   },
   {
    "duration": 73,
    "start_time": "2023-05-11T06:02:34.955Z"
   },
   {
    "duration": 4,
    "start_time": "2023-05-11T06:02:35.240Z"
   },
   {
    "duration": 2,
    "start_time": "2023-05-11T06:02:35.555Z"
   },
   {
    "duration": 68717,
    "start_time": "2023-05-11T06:02:35.955Z"
   },
   {
    "duration": 4,
    "start_time": "2023-05-11T06:03:44.674Z"
   },
   {
    "duration": 108,
    "start_time": "2023-05-11T06:03:44.679Z"
   },
   {
    "duration": 4,
    "start_time": "2023-05-11T06:03:44.789Z"
   },
   {
    "duration": 1616,
    "start_time": "2023-05-11T06:03:44.795Z"
   },
   {
    "duration": 3,
    "start_time": "2023-05-11T06:03:46.413Z"
   },
   {
    "duration": 15674,
    "start_time": "2023-05-11T06:03:46.418Z"
   },
   {
    "duration": 5,
    "start_time": "2023-05-11T06:04:02.094Z"
   },
   {
    "duration": 32,
    "start_time": "2023-05-11T06:05:17.326Z"
   },
   {
    "duration": 1854,
    "start_time": "2023-05-11T06:06:56.064Z"
   },
   {
    "duration": 1502,
    "start_time": "2023-05-11T06:06:57.919Z"
   },
   {
    "duration": 2,
    "start_time": "2023-05-11T06:06:59.423Z"
   },
   {
    "duration": 14,
    "start_time": "2023-05-11T06:06:59.428Z"
   },
   {
    "duration": 81,
    "start_time": "2023-05-11T06:06:59.444Z"
   },
   {
    "duration": 73,
    "start_time": "2023-05-11T06:06:59.527Z"
   },
   {
    "duration": 82,
    "start_time": "2023-05-11T06:06:59.602Z"
   },
   {
    "duration": 29,
    "start_time": "2023-05-11T06:06:59.685Z"
   },
   {
    "duration": 29,
    "start_time": "2023-05-11T06:06:59.716Z"
   },
   {
    "duration": 9,
    "start_time": "2023-05-11T06:06:59.747Z"
   },
   {
    "duration": 169,
    "start_time": "2023-05-11T06:06:59.758Z"
   },
   {
    "duration": 3,
    "start_time": "2023-05-11T06:07:00.479Z"
   },
   {
    "duration": 75,
    "start_time": "2023-05-11T06:07:00.991Z"
   },
   {
    "duration": 2,
    "start_time": "2023-05-11T06:07:02.280Z"
   },
   {
    "duration": 1509,
    "start_time": "2023-05-11T06:07:02.974Z"
   },
   {
    "duration": 0,
    "start_time": "2023-05-11T06:07:04.485Z"
   },
   {
    "duration": 3,
    "start_time": "2023-05-11T06:08:09.185Z"
   },
   {
    "duration": 1941,
    "start_time": "2023-05-11T06:09:33.988Z"
   },
   {
    "duration": 1772,
    "start_time": "2023-05-11T06:09:35.931Z"
   },
   {
    "duration": 2,
    "start_time": "2023-05-11T06:09:37.705Z"
   },
   {
    "duration": 7,
    "start_time": "2023-05-11T06:09:37.709Z"
   },
   {
    "duration": 80,
    "start_time": "2023-05-11T06:09:37.717Z"
   },
   {
    "duration": 70,
    "start_time": "2023-05-11T06:09:37.798Z"
   },
   {
    "duration": 112,
    "start_time": "2023-05-11T06:09:37.870Z"
   },
   {
    "duration": 28,
    "start_time": "2023-05-11T06:09:37.984Z"
   },
   {
    "duration": 43,
    "start_time": "2023-05-11T06:09:38.014Z"
   },
   {
    "duration": 3,
    "start_time": "2023-05-11T06:09:38.060Z"
   },
   {
    "duration": 184,
    "start_time": "2023-05-11T06:09:38.065Z"
   },
   {
    "duration": 4,
    "start_time": "2023-05-11T06:09:38.251Z"
   },
   {
    "duration": 71,
    "start_time": "2023-05-11T06:09:38.257Z"
   },
   {
    "duration": 2,
    "start_time": "2023-05-11T06:09:38.330Z"
   },
   {
    "duration": 1869,
    "start_time": "2023-05-11T06:09:50.368Z"
   },
   {
    "duration": 1379,
    "start_time": "2023-05-11T06:09:52.239Z"
   },
   {
    "duration": 3,
    "start_time": "2023-05-11T06:09:53.620Z"
   },
   {
    "duration": 19,
    "start_time": "2023-05-11T06:09:53.625Z"
   },
   {
    "duration": 78,
    "start_time": "2023-05-11T06:09:53.645Z"
   },
   {
    "duration": 59,
    "start_time": "2023-05-11T06:09:53.725Z"
   },
   {
    "duration": 87,
    "start_time": "2023-05-11T06:09:53.785Z"
   },
   {
    "duration": 39,
    "start_time": "2023-05-11T06:09:53.874Z"
   },
   {
    "duration": 28,
    "start_time": "2023-05-11T06:09:53.915Z"
   },
   {
    "duration": 17,
    "start_time": "2023-05-11T06:09:53.946Z"
   },
   {
    "duration": 191,
    "start_time": "2023-05-11T06:09:53.965Z"
   },
   {
    "duration": 2,
    "start_time": "2023-05-11T06:09:54.158Z"
   },
   {
    "duration": 71,
    "start_time": "2023-05-11T06:09:54.162Z"
   },
   {
    "duration": 3,
    "start_time": "2023-05-11T06:09:54.235Z"
   },
   {
    "duration": 8760,
    "start_time": "2023-05-11T06:09:54.548Z"
   },
   {
    "duration": 153,
    "start_time": "2023-05-11T06:10:23.163Z"
   },
   {
    "duration": 79,
    "start_time": "2023-05-11T06:10:33.134Z"
   },
   {
    "duration": 4,
    "start_time": "2023-05-11T06:10:34.937Z"
   },
   {
    "duration": 4,
    "start_time": "2023-05-11T06:10:39.325Z"
   },
   {
    "duration": 4,
    "start_time": "2023-05-11T06:11:47.067Z"
   },
   {
    "duration": 4,
    "start_time": "2023-05-11T06:11:47.490Z"
   },
   {
    "duration": 5,
    "start_time": "2023-05-11T06:12:25.322Z"
   },
   {
    "duration": 1413,
    "start_time": "2023-05-11T06:12:25.554Z"
   },
   {
    "duration": 2,
    "start_time": "2023-05-11T06:12:26.969Z"
   },
   {
    "duration": 5,
    "start_time": "2023-05-11T06:12:26.973Z"
   },
   {
    "duration": 100,
    "start_time": "2023-05-11T06:12:26.980Z"
   },
   {
    "duration": 52,
    "start_time": "2023-05-11T06:12:27.082Z"
   },
   {
    "duration": 89,
    "start_time": "2023-05-11T06:12:27.136Z"
   },
   {
    "duration": 40,
    "start_time": "2023-05-11T06:12:27.226Z"
   },
   {
    "duration": 27,
    "start_time": "2023-05-11T06:12:27.268Z"
   },
   {
    "duration": 3,
    "start_time": "2023-05-11T06:12:27.298Z"
   },
   {
    "duration": 182,
    "start_time": "2023-05-11T06:12:27.386Z"
   },
   {
    "duration": 2,
    "start_time": "2023-05-11T06:12:27.874Z"
   },
   {
    "duration": 73,
    "start_time": "2023-05-11T06:12:28.114Z"
   },
   {
    "duration": 4,
    "start_time": "2023-05-11T06:12:28.322Z"
   },
   {
    "duration": 3,
    "start_time": "2023-05-11T06:12:28.570Z"
   },
   {
    "duration": 68190,
    "start_time": "2023-05-11T06:12:28.785Z"
   },
   {
    "duration": 3,
    "start_time": "2023-05-11T06:13:36.977Z"
   },
   {
    "duration": 92,
    "start_time": "2023-05-11T06:13:36.982Z"
   },
   {
    "duration": 4,
    "start_time": "2023-05-11T06:13:37.076Z"
   },
   {
    "duration": 1566,
    "start_time": "2023-05-11T06:13:37.081Z"
   },
   {
    "duration": 6,
    "start_time": "2023-05-11T06:13:38.649Z"
   },
   {
    "duration": 15258,
    "start_time": "2023-05-11T06:13:38.657Z"
   },
   {
    "duration": 5,
    "start_time": "2023-05-11T06:13:53.917Z"
   },
   {
    "duration": 951,
    "start_time": "2023-05-11T07:10:12.012Z"
   },
   {
    "duration": 34907,
    "start_time": "2023-05-11T07:10:28.068Z"
   },
   {
    "duration": 2137,
    "start_time": "2023-05-11T19:06:40.188Z"
   },
   {
    "duration": 960,
    "start_time": "2023-05-11T19:06:42.327Z"
   },
   {
    "duration": 37873,
    "start_time": "2023-05-11T19:06:43.288Z"
   },
   {
    "duration": 187,
    "start_time": "2023-05-11T19:32:14.841Z"
   },
   {
    "duration": 5,
    "start_time": "2023-05-11T19:40:11.062Z"
   },
   {
    "duration": 1898,
    "start_time": "2023-05-11T19:40:51.609Z"
   },
   {
    "duration": 928,
    "start_time": "2023-05-11T19:40:53.509Z"
   },
   {
    "duration": 2007,
    "start_time": "2023-05-11T19:42:25.024Z"
   },
   {
    "duration": 960,
    "start_time": "2023-05-11T19:42:27.033Z"
   },
   {
    "duration": 4,
    "start_time": "2023-05-11T19:42:27.994Z"
   },
   {
    "duration": 5,
    "start_time": "2023-05-11T19:42:28.000Z"
   },
   {
    "duration": 109,
    "start_time": "2023-05-11T19:42:28.007Z"
   },
   {
    "duration": 82,
    "start_time": "2023-05-11T19:42:28.118Z"
   },
   {
    "duration": 95,
    "start_time": "2023-05-11T19:42:28.545Z"
   },
   {
    "duration": 59,
    "start_time": "2023-05-11T19:42:29.295Z"
   },
   {
    "duration": 4,
    "start_time": "2023-05-11T19:42:29.864Z"
   },
   {
    "duration": 209,
    "start_time": "2023-05-11T19:42:31.464Z"
   },
   {
    "duration": 3,
    "start_time": "2023-05-11T19:42:33.004Z"
   },
   {
    "duration": 94,
    "start_time": "2023-05-11T19:42:33.615Z"
   },
   {
    "duration": 5,
    "start_time": "2023-05-11T19:42:34.525Z"
   },
   {
    "duration": 3,
    "start_time": "2023-05-11T19:42:36.424Z"
   },
   {
    "duration": 1995,
    "start_time": "2023-05-11T19:46:12.194Z"
   },
   {
    "duration": 862,
    "start_time": "2023-05-11T19:46:14.195Z"
   },
   {
    "duration": 37864,
    "start_time": "2023-05-11T19:46:15.060Z"
   },
   {
    "duration": 4,
    "start_time": "2023-05-11T19:54:09.534Z"
   },
   {
    "duration": 89,
    "start_time": "2023-05-11T19:54:09.935Z"
   },
   {
    "duration": 39,
    "start_time": "2023-05-11T19:54:10.314Z"
   },
   {
    "duration": 92,
    "start_time": "2023-05-11T19:54:10.744Z"
   },
   {
    "duration": 49,
    "start_time": "2023-05-11T19:54:11.295Z"
   },
   {
    "duration": 3,
    "start_time": "2023-05-11T19:54:11.735Z"
   },
   {
    "duration": 195,
    "start_time": "2023-05-11T19:54:12.178Z"
   },
   {
    "duration": 3,
    "start_time": "2023-05-11T19:54:13.204Z"
   },
   {
    "duration": 178,
    "start_time": "2023-05-11T19:54:13.905Z"
   },
   {
    "duration": 4,
    "start_time": "2023-05-11T19:54:14.574Z"
   },
   {
    "duration": 3,
    "start_time": "2023-05-11T19:54:15.585Z"
   },
   {
    "duration": 354,
    "start_time": "2023-05-11T19:54:18.794Z"
   },
   {
    "duration": 3,
    "start_time": "2023-05-11T19:54:44.184Z"
   },
   {
    "duration": 169,
    "start_time": "2023-05-11T19:54:44.978Z"
   },
   {
    "duration": 3,
    "start_time": "2023-05-11T19:54:49.772Z"
   },
   {
    "duration": 78,
    "start_time": "2023-05-11T19:54:50.635Z"
   },
   {
    "duration": 5,
    "start_time": "2023-05-11T19:54:52.276Z"
   },
   {
    "duration": 3,
    "start_time": "2023-05-11T19:54:53.815Z"
   },
   {
    "duration": 2096,
    "start_time": "2023-05-11T19:58:09.549Z"
   },
   {
    "duration": 987,
    "start_time": "2023-05-11T19:58:11.651Z"
   },
   {
    "duration": 3,
    "start_time": "2023-05-11T19:58:12.639Z"
   },
   {
    "duration": 13,
    "start_time": "2023-05-11T19:58:12.644Z"
   },
   {
    "duration": 96,
    "start_time": "2023-05-11T19:58:12.661Z"
   },
   {
    "duration": 73,
    "start_time": "2023-05-11T19:58:12.760Z"
   },
   {
    "duration": 123,
    "start_time": "2023-05-11T19:58:12.838Z"
   },
   {
    "duration": 59,
    "start_time": "2023-05-11T19:58:12.964Z"
   },
   {
    "duration": 4,
    "start_time": "2023-05-11T19:58:13.025Z"
   },
   {
    "duration": 221,
    "start_time": "2023-05-11T19:58:13.031Z"
   },
   {
    "duration": 4,
    "start_time": "2023-05-11T19:58:13.254Z"
   },
   {
    "duration": 119,
    "start_time": "2023-05-11T19:58:13.260Z"
   },
   {
    "duration": 5,
    "start_time": "2023-05-11T19:58:13.381Z"
   },
   {
    "duration": 4,
    "start_time": "2023-05-11T19:58:13.389Z"
   },
   {
    "duration": 2030,
    "start_time": "2023-05-11T20:14:35.672Z"
   },
   {
    "duration": 871,
    "start_time": "2023-05-11T20:14:38.662Z"
   },
   {
    "duration": 3,
    "start_time": "2023-05-11T20:14:41.538Z"
   },
   {
    "duration": 3,
    "start_time": "2023-05-11T20:14:42.512Z"
   },
   {
    "duration": 97,
    "start_time": "2023-05-11T20:14:43.211Z"
   },
   {
    "duration": 80,
    "start_time": "2023-05-11T20:14:43.744Z"
   },
   {
    "duration": 105,
    "start_time": "2023-05-11T20:14:44.284Z"
   },
   {
    "duration": 50,
    "start_time": "2023-05-11T20:14:44.801Z"
   },
   {
    "duration": 3,
    "start_time": "2023-05-11T20:14:45.252Z"
   },
   {
    "duration": 201,
    "start_time": "2023-05-11T20:14:45.712Z"
   },
   {
    "duration": 2,
    "start_time": "2023-05-11T20:14:46.643Z"
   },
   {
    "duration": 99,
    "start_time": "2023-05-11T20:14:47.352Z"
   },
   {
    "duration": 4,
    "start_time": "2023-05-11T20:14:48.001Z"
   },
   {
    "duration": 3,
    "start_time": "2023-05-11T20:14:49.922Z"
   },
   {
    "duration": 2162,
    "start_time": "2023-05-11T22:35:36.925Z"
   },
   {
    "duration": 2197,
    "start_time": "2023-05-11T22:35:39.090Z"
   },
   {
    "duration": 1922,
    "start_time": "2023-05-11T22:35:41.289Z"
   },
   {
    "duration": 867,
    "start_time": "2023-05-11T22:35:43.213Z"
   },
   {
    "duration": 35139,
    "start_time": "2023-05-11T22:35:44.082Z"
   },
   {
    "duration": 4,
    "start_time": "2023-05-11T22:36:19.222Z"
   },
   {
    "duration": 155,
    "start_time": "2023-05-11T22:36:19.227Z"
   },
   {
    "duration": 87,
    "start_time": "2023-05-11T22:36:19.383Z"
   },
   {
    "duration": 122,
    "start_time": "2023-05-11T22:36:19.472Z"
   },
   {
    "duration": 61,
    "start_time": "2023-05-11T22:36:19.596Z"
   },
   {
    "duration": 3,
    "start_time": "2023-05-11T22:36:19.659Z"
   },
   {
    "duration": 179,
    "start_time": "2023-05-11T22:36:19.663Z"
   },
   {
    "duration": 2,
    "start_time": "2023-05-11T22:36:19.844Z"
   },
   {
    "duration": 77,
    "start_time": "2023-05-11T22:36:19.848Z"
   },
   {
    "duration": 4,
    "start_time": "2023-05-11T22:36:19.926Z"
   },
   {
    "duration": 5,
    "start_time": "2023-05-11T22:36:19.931Z"
   },
   {
    "duration": 2352,
    "start_time": "2023-05-11T22:37:28.565Z"
   },
   {
    "duration": 2019,
    "start_time": "2023-05-11T22:37:30.920Z"
   },
   {
    "duration": 1965,
    "start_time": "2023-05-11T22:37:32.941Z"
   },
   {
    "duration": 814,
    "start_time": "2023-05-11T22:37:34.908Z"
   },
   {
    "duration": 36215,
    "start_time": "2023-05-11T22:37:35.724Z"
   },
   {
    "duration": 17,
    "start_time": "2023-05-11T22:38:11.942Z"
   },
   {
    "duration": 124,
    "start_time": "2023-05-11T22:38:11.961Z"
   },
   {
    "duration": 86,
    "start_time": "2023-05-11T22:38:12.087Z"
   },
   {
    "duration": 136,
    "start_time": "2023-05-11T22:38:12.175Z"
   },
   {
    "duration": 60,
    "start_time": "2023-05-11T22:38:12.313Z"
   },
   {
    "duration": 3,
    "start_time": "2023-05-11T22:38:12.375Z"
   },
   {
    "duration": 175,
    "start_time": "2023-05-11T22:38:12.380Z"
   },
   {
    "duration": 3,
    "start_time": "2023-05-11T22:38:12.557Z"
   },
   {
    "duration": 87,
    "start_time": "2023-05-11T22:38:12.562Z"
   },
   {
    "duration": 5,
    "start_time": "2023-05-11T22:38:12.651Z"
   },
   {
    "duration": 12,
    "start_time": "2023-05-11T22:38:12.657Z"
   },
   {
    "duration": 19,
    "start_time": "2023-05-11T22:38:12.671Z"
   },
   {
    "duration": 70,
    "start_time": "2023-05-11T22:38:12.692Z"
   },
   {
    "duration": 4,
    "start_time": "2023-05-11T22:38:12.764Z"
   },
   {
    "duration": 1635,
    "start_time": "2023-05-11T22:38:12.770Z"
   },
   {
    "duration": 2,
    "start_time": "2023-05-11T22:38:14.407Z"
   },
   {
    "duration": 15976,
    "start_time": "2023-05-11T22:38:14.411Z"
   },
   {
    "duration": 181,
    "start_time": "2023-05-11T22:38:30.389Z"
   },
   {
    "duration": 0,
    "start_time": "2023-05-11T22:38:30.571Z"
   },
   {
    "duration": 1,
    "start_time": "2023-05-11T22:38:30.572Z"
   },
   {
    "duration": 0,
    "start_time": "2023-05-11T22:38:30.574Z"
   },
   {
    "duration": 2079,
    "start_time": "2023-05-11T22:38:50.424Z"
   },
   {
    "duration": 2058,
    "start_time": "2023-05-11T22:38:52.506Z"
   },
   {
    "duration": 1873,
    "start_time": "2023-05-11T22:38:54.566Z"
   },
   {
    "duration": 790,
    "start_time": "2023-05-11T22:38:56.441Z"
   },
   {
    "duration": 35932,
    "start_time": "2023-05-11T22:38:57.233Z"
   },
   {
    "duration": 4,
    "start_time": "2023-05-11T22:39:33.166Z"
   },
   {
    "duration": 190,
    "start_time": "2023-05-11T22:39:33.171Z"
   },
   {
    "duration": 36,
    "start_time": "2023-05-11T22:39:33.362Z"
   },
   {
    "duration": 163,
    "start_time": "2023-05-11T22:39:33.400Z"
   },
   {
    "duration": 48,
    "start_time": "2023-05-11T22:39:33.565Z"
   },
   {
    "duration": 3,
    "start_time": "2023-05-11T22:39:33.615Z"
   },
   {
    "duration": 198,
    "start_time": "2023-05-11T22:39:33.620Z"
   },
   {
    "duration": 3,
    "start_time": "2023-05-11T22:39:33.820Z"
   },
   {
    "duration": 86,
    "start_time": "2023-05-11T22:39:33.824Z"
   },
   {
    "duration": 5,
    "start_time": "2023-05-11T22:39:33.912Z"
   },
   {
    "duration": 3,
    "start_time": "2023-05-11T22:39:33.919Z"
   },
   {
    "duration": 93556,
    "start_time": "2023-05-11T22:39:33.924Z"
   },
   {
    "duration": 97,
    "start_time": "2023-05-11T22:41:07.482Z"
   },
   {
    "duration": 5,
    "start_time": "2023-05-11T22:41:07.581Z"
   },
   {
    "duration": 1508,
    "start_time": "2023-05-11T22:41:07.588Z"
   },
   {
    "duration": 4,
    "start_time": "2023-05-11T22:41:09.098Z"
   },
   {
    "duration": 15296,
    "start_time": "2023-05-11T22:41:09.104Z"
   },
   {
    "duration": 13,
    "start_time": "2023-05-11T22:41:24.401Z"
   },
   {
    "duration": 8,
    "start_time": "2023-05-11T22:41:24.415Z"
   },
   {
    "duration": 5,
    "start_time": "2023-05-11T22:41:24.425Z"
   },
   {
    "duration": 241,
    "start_time": "2023-05-11T22:41:24.431Z"
   },
   {
    "duration": 2229,
    "start_time": "2023-05-11T22:53:08.847Z"
   },
   {
    "duration": 2024,
    "start_time": "2023-05-11T22:53:11.079Z"
   },
   {
    "duration": 1946,
    "start_time": "2023-05-11T22:53:13.105Z"
   },
   {
    "duration": 831,
    "start_time": "2023-05-11T22:53:15.056Z"
   },
   {
    "duration": 36778,
    "start_time": "2023-05-11T22:53:15.889Z"
   },
   {
    "duration": 5,
    "start_time": "2023-05-11T22:53:52.669Z"
   },
   {
    "duration": 130,
    "start_time": "2023-05-11T22:53:52.675Z"
   },
   {
    "duration": 83,
    "start_time": "2023-05-11T22:53:52.807Z"
   },
   {
    "duration": 137,
    "start_time": "2023-05-11T22:53:52.892Z"
   },
   {
    "duration": 72,
    "start_time": "2023-05-11T22:53:53.031Z"
   },
   {
    "duration": 3,
    "start_time": "2023-05-11T22:53:53.105Z"
   },
   {
    "duration": 182,
    "start_time": "2023-05-11T22:53:53.109Z"
   },
   {
    "duration": 2,
    "start_time": "2023-05-11T22:53:53.293Z"
   },
   {
    "duration": 87,
    "start_time": "2023-05-11T22:53:53.298Z"
   },
   {
    "duration": 4,
    "start_time": "2023-05-11T22:53:53.387Z"
   },
   {
    "duration": 8,
    "start_time": "2023-05-11T22:53:53.393Z"
   },
   {
    "duration": 185677,
    "start_time": "2023-05-11T22:53:53.403Z"
   },
   {
    "duration": 106,
    "start_time": "2023-05-11T22:56:59.082Z"
   },
   {
    "duration": 4,
    "start_time": "2023-05-11T22:56:59.189Z"
   },
   {
    "duration": 1601,
    "start_time": "2023-05-11T22:56:59.194Z"
   },
   {
    "duration": 3,
    "start_time": "2023-05-11T22:57:00.797Z"
   },
   {
    "duration": 30054,
    "start_time": "2023-05-11T22:57:00.801Z"
   },
   {
    "duration": 20,
    "start_time": "2023-05-11T22:57:30.858Z"
   },
   {
    "duration": 32,
    "start_time": "2023-05-11T22:57:30.879Z"
   },
   {
    "duration": 39,
    "start_time": "2023-05-11T22:57:30.916Z"
   },
   {
    "duration": 216,
    "start_time": "2023-05-11T22:57:30.957Z"
   },
   {
    "duration": 2322,
    "start_time": "2023-05-11T23:16:28.478Z"
   },
   {
    "duration": 2020,
    "start_time": "2023-05-11T23:16:30.802Z"
   },
   {
    "duration": 1883,
    "start_time": "2023-05-11T23:16:32.824Z"
   },
   {
    "duration": 812,
    "start_time": "2023-05-11T23:16:34.709Z"
   },
   {
    "duration": 35660,
    "start_time": "2023-05-11T23:16:35.523Z"
   },
   {
    "duration": 4,
    "start_time": "2023-05-11T23:17:11.185Z"
   },
   {
    "duration": 204,
    "start_time": "2023-05-11T23:17:11.191Z"
   },
   {
    "duration": 93,
    "start_time": "2023-05-11T23:17:11.397Z"
   },
   {
    "duration": 138,
    "start_time": "2023-05-11T23:17:11.492Z"
   },
   {
    "duration": 70,
    "start_time": "2023-05-11T23:17:11.633Z"
   },
   {
    "duration": 3,
    "start_time": "2023-05-11T23:17:11.705Z"
   },
   {
    "duration": 192,
    "start_time": "2023-05-11T23:17:11.710Z"
   },
   {
    "duration": 3,
    "start_time": "2023-05-11T23:17:11.904Z"
   },
   {
    "duration": 78,
    "start_time": "2023-05-11T23:17:11.909Z"
   },
   {
    "duration": 4,
    "start_time": "2023-05-11T23:17:11.989Z"
   },
   {
    "duration": 15,
    "start_time": "2023-05-11T23:17:11.994Z"
   },
   {
    "duration": 177764,
    "start_time": "2023-05-11T23:17:12.011Z"
   },
   {
    "duration": 91,
    "start_time": "2023-05-11T23:20:09.777Z"
   },
   {
    "duration": 3,
    "start_time": "2023-05-11T23:20:09.870Z"
   },
   {
    "duration": 1520,
    "start_time": "2023-05-11T23:20:09.875Z"
   },
   {
    "duration": 2,
    "start_time": "2023-05-11T23:20:11.397Z"
   },
   {
    "duration": 19726,
    "start_time": "2023-05-11T23:20:11.401Z"
   },
   {
    "duration": 3,
    "start_time": "2023-05-11T23:20:31.129Z"
   },
   {
    "duration": 250,
    "start_time": "2023-05-11T23:20:31.134Z"
   },
   {
    "duration": 14,
    "start_time": "2023-05-11T23:20:31.387Z"
   },
   {
    "duration": 43,
    "start_time": "2023-05-11T23:20:31.403Z"
   },
   {
    "duration": 31,
    "start_time": "2023-05-11T23:20:31.448Z"
   },
   {
    "duration": 177,
    "start_time": "2023-05-11T23:20:31.484Z"
   },
   {
    "duration": 16,
    "start_time": "2023-05-11T23:21:00.699Z"
   },
   {
    "duration": 312027,
    "start_time": "2023-05-11T23:21:08.479Z"
   },
   {
    "duration": 15,
    "start_time": "2023-05-11T23:29:25.331Z"
   },
   {
    "duration": 11,
    "start_time": "2023-05-11T23:29:43.379Z"
   },
   {
    "duration": 3,
    "start_time": "2023-05-11T23:30:19.999Z"
   },
   {
    "duration": 2025,
    "start_time": "2023-05-11T23:49:44.109Z"
   },
   {
    "duration": 1949,
    "start_time": "2023-05-11T23:49:46.136Z"
   },
   {
    "duration": 1797,
    "start_time": "2023-05-11T23:49:48.087Z"
   },
   {
    "duration": 783,
    "start_time": "2023-05-11T23:49:49.885Z"
   },
   {
    "duration": 34616,
    "start_time": "2023-05-11T23:49:50.670Z"
   },
   {
    "duration": 3,
    "start_time": "2023-05-11T23:50:25.288Z"
   },
   {
    "duration": 168,
    "start_time": "2023-05-11T23:50:25.292Z"
   },
   {
    "duration": 35,
    "start_time": "2023-05-11T23:50:25.462Z"
   },
   {
    "duration": 134,
    "start_time": "2023-05-11T23:50:25.499Z"
   },
   {
    "duration": 58,
    "start_time": "2023-05-11T23:50:25.635Z"
   },
   {
    "duration": 3,
    "start_time": "2023-05-11T23:50:25.694Z"
   },
   {
    "duration": 175,
    "start_time": "2023-05-11T23:50:25.698Z"
   },
   {
    "duration": 3,
    "start_time": "2023-05-11T23:50:25.875Z"
   },
   {
    "duration": 78,
    "start_time": "2023-05-11T23:50:25.881Z"
   },
   {
    "duration": 3,
    "start_time": "2023-05-11T23:50:25.961Z"
   },
   {
    "duration": 11,
    "start_time": "2023-05-11T23:50:25.966Z"
   },
   {
    "duration": 56600,
    "start_time": "2023-05-11T23:50:25.979Z"
   },
   {
    "duration": 123,
    "start_time": "2023-05-11T23:51:22.580Z"
   },
   {
    "duration": 4,
    "start_time": "2023-05-11T23:51:22.705Z"
   },
   {
    "duration": 1574,
    "start_time": "2023-05-11T23:51:22.710Z"
   },
   {
    "duration": 3,
    "start_time": "2023-05-11T23:51:24.286Z"
   },
   {
    "duration": 8156,
    "start_time": "2023-05-11T23:51:24.290Z"
   },
   {
    "duration": 9,
    "start_time": "2023-05-11T23:51:32.448Z"
   },
   {
    "duration": 2050,
    "start_time": "2023-05-11T23:54:53.790Z"
   },
   {
    "duration": 1906,
    "start_time": "2023-05-11T23:54:55.843Z"
   },
   {
    "duration": 1818,
    "start_time": "2023-05-11T23:54:57.751Z"
   },
   {
    "duration": 746,
    "start_time": "2023-05-11T23:54:59.571Z"
   },
   {
    "duration": 34652,
    "start_time": "2023-05-11T23:55:00.319Z"
   },
   {
    "duration": 4,
    "start_time": "2023-05-11T23:55:34.974Z"
   },
   {
    "duration": 118,
    "start_time": "2023-05-11T23:55:34.980Z"
   },
   {
    "duration": 87,
    "start_time": "2023-05-11T23:55:35.099Z"
   },
   {
    "duration": 136,
    "start_time": "2023-05-11T23:55:35.187Z"
   },
   {
    "duration": 70,
    "start_time": "2023-05-11T23:55:35.324Z"
   },
   {
    "duration": 3,
    "start_time": "2023-05-11T23:55:35.396Z"
   },
   {
    "duration": 183,
    "start_time": "2023-05-11T23:55:35.400Z"
   },
   {
    "duration": 3,
    "start_time": "2023-05-11T23:55:35.584Z"
   },
   {
    "duration": 77,
    "start_time": "2023-05-11T23:55:35.589Z"
   },
   {
    "duration": 3,
    "start_time": "2023-05-11T23:55:35.668Z"
   },
   {
    "duration": 24,
    "start_time": "2023-05-11T23:55:35.673Z"
   },
   {
    "duration": 48981,
    "start_time": "2023-05-11T23:55:35.699Z"
   },
   {
    "duration": 106,
    "start_time": "2023-05-11T23:56:24.682Z"
   },
   {
    "duration": 3,
    "start_time": "2023-05-11T23:56:24.790Z"
   },
   {
    "duration": 1501,
    "start_time": "2023-05-11T23:56:24.795Z"
   },
   {
    "duration": 3,
    "start_time": "2023-05-11T23:56:26.297Z"
   },
   {
    "duration": 7217,
    "start_time": "2023-05-11T23:56:26.301Z"
   },
   {
    "duration": 3,
    "start_time": "2023-05-11T23:56:33.519Z"
   },
   {
    "duration": 392471,
    "start_time": "2023-05-11T23:56:33.524Z"
   },
   {
    "duration": 13,
    "start_time": "2023-05-12T00:03:05.996Z"
   },
   {
    "duration": 4,
    "start_time": "2023-05-12T00:03:06.010Z"
   },
   {
    "duration": 6,
    "start_time": "2023-05-12T00:03:06.015Z"
   },
   {
    "duration": 239,
    "start_time": "2023-05-12T00:03:06.023Z"
   },
   {
    "duration": 2207,
    "start_time": "2023-05-12T00:05:29.671Z"
   },
   {
    "duration": 1979,
    "start_time": "2023-05-12T00:05:31.880Z"
   },
   {
    "duration": 1799,
    "start_time": "2023-05-12T00:05:33.861Z"
   },
   {
    "duration": 830,
    "start_time": "2023-05-12T00:05:35.662Z"
   },
   {
    "duration": 2060,
    "start_time": "2023-05-12T00:06:44.004Z"
   },
   {
    "duration": 1923,
    "start_time": "2023-05-12T00:06:46.067Z"
   },
   {
    "duration": 1795,
    "start_time": "2023-05-12T00:06:47.992Z"
   },
   {
    "duration": 775,
    "start_time": "2023-05-12T00:06:49.788Z"
   },
   {
    "duration": 34346,
    "start_time": "2023-05-12T00:06:50.565Z"
   },
   {
    "duration": 3,
    "start_time": "2023-05-12T00:07:24.913Z"
   },
   {
    "duration": 157,
    "start_time": "2023-05-12T00:07:24.918Z"
   },
   {
    "duration": 87,
    "start_time": "2023-05-12T00:07:25.077Z"
   },
   {
    "duration": 130,
    "start_time": "2023-05-12T00:07:25.166Z"
   },
   {
    "duration": 92,
    "start_time": "2023-05-12T00:07:25.298Z"
   },
   {
    "duration": 3,
    "start_time": "2023-05-12T00:07:25.391Z"
   },
   {
    "duration": 188,
    "start_time": "2023-05-12T00:07:25.396Z"
   },
   {
    "duration": 2,
    "start_time": "2023-05-12T00:07:25.586Z"
   },
   {
    "duration": 81,
    "start_time": "2023-05-12T00:07:25.591Z"
   },
   {
    "duration": 3,
    "start_time": "2023-05-12T00:07:25.674Z"
   },
   {
    "duration": 6,
    "start_time": "2023-05-12T00:07:25.679Z"
   },
   {
    "duration": 59597,
    "start_time": "2023-05-12T00:07:25.686Z"
   },
   {
    "duration": 112,
    "start_time": "2023-05-12T00:08:25.285Z"
   },
   {
    "duration": 5,
    "start_time": "2023-05-12T00:08:25.398Z"
   },
   {
    "duration": 1546,
    "start_time": "2023-05-12T00:08:25.405Z"
   },
   {
    "duration": 4,
    "start_time": "2023-05-12T00:08:26.953Z"
   },
   {
    "duration": 13877,
    "start_time": "2023-05-12T00:08:26.959Z"
   },
   {
    "duration": 3,
    "start_time": "2023-05-12T00:08:40.838Z"
   },
   {
    "duration": 820868,
    "start_time": "2023-05-12T00:08:40.842Z"
   },
   {
    "duration": 12,
    "start_time": "2023-05-12T00:22:21.712Z"
   },
   {
    "duration": 4,
    "start_time": "2023-05-12T00:22:21.725Z"
   },
   {
    "duration": 30,
    "start_time": "2023-05-12T00:22:21.731Z"
   },
   {
    "duration": 195,
    "start_time": "2023-05-12T00:22:21.763Z"
   },
   {
    "duration": 2003,
    "start_time": "2023-05-12T04:13:13.030Z"
   },
   {
    "duration": 5,
    "start_time": "2023-05-12T04:13:25.839Z"
   },
   {
    "duration": 1115,
    "start_time": "2023-05-12T04:13:26.730Z"
   },
   {
    "duration": 16,
    "start_time": "2023-05-12T04:13:27.934Z"
   },
   {
    "duration": 22532,
    "start_time": "2023-05-12T04:13:41.327Z"
   },
   {
    "duration": 1298,
    "start_time": "2023-05-12T04:14:03.862Z"
   },
   {
    "duration": 1254,
    "start_time": "2023-05-12T04:14:05.162Z"
   },
   {
    "duration": 51628,
    "start_time": "2023-05-12T04:14:06.427Z"
   },
   {
    "duration": 9,
    "start_time": "2023-05-12T04:15:42.426Z"
   },
   {
    "duration": 132,
    "start_time": "2023-05-12T04:16:11.026Z"
   },
   {
    "duration": 51,
    "start_time": "2023-05-12T04:16:34.060Z"
   },
   {
    "duration": 169,
    "start_time": "2023-05-12T04:16:57.002Z"
   },
   {
    "duration": 89,
    "start_time": "2023-05-12T04:17:34.114Z"
   },
   {
    "duration": 122,
    "start_time": "2023-05-12T04:17:42.699Z"
   },
   {
    "duration": 133,
    "start_time": "2023-05-12T04:17:45.705Z"
   },
   {
    "duration": 4,
    "start_time": "2023-05-12T04:17:56.245Z"
   },
   {
    "duration": 266,
    "start_time": "2023-05-12T04:18:09.420Z"
   },
   {
    "duration": 4,
    "start_time": "2023-05-12T04:18:43.627Z"
   },
   {
    "duration": 71,
    "start_time": "2023-05-12T04:18:56.968Z"
   },
   {
    "duration": 2,
    "start_time": "2023-05-12T04:21:55.238Z"
   },
   {
    "duration": 121,
    "start_time": "2023-05-12T04:22:21.134Z"
   },
   {
    "duration": 4,
    "start_time": "2023-05-12T04:23:03.242Z"
   },
   {
    "duration": 5,
    "start_time": "2023-05-12T04:23:23.034Z"
   },
   {
    "duration": 2494,
    "start_time": "2023-05-12T19:16:07.791Z"
   },
   {
    "duration": 5,
    "start_time": "2023-05-12T19:16:28.885Z"
   },
   {
    "duration": 927,
    "start_time": "2023-05-12T19:16:29.486Z"
   },
   {
    "duration": 41266,
    "start_time": "2023-05-12T19:16:30.692Z"
   },
   {
    "duration": 15,
    "start_time": "2023-05-12T19:17:11.963Z"
   },
   {
    "duration": 10,
    "start_time": "2023-05-12T19:17:11.989Z"
   },
   {
    "duration": 4,
    "start_time": "2023-05-12T19:17:23.450Z"
   },
   {
    "duration": 8,
    "start_time": "2023-05-12T19:17:59.846Z"
   },
   {
    "duration": 10,
    "start_time": "2023-05-12T19:18:00.752Z"
   },
   {
    "duration": 9,
    "start_time": "2023-05-12T19:18:08.998Z"
   },
   {
    "duration": 4,
    "start_time": "2023-05-12T19:18:09.398Z"
   },
   {
    "duration": 14,
    "start_time": "2023-05-12T19:18:21.959Z"
   },
   {
    "duration": 9,
    "start_time": "2023-05-12T19:18:22.354Z"
   },
   {
    "duration": 14,
    "start_time": "2023-05-12T19:18:45.129Z"
   },
   {
    "duration": 5,
    "start_time": "2023-05-12T19:18:45.549Z"
   },
   {
    "duration": 12,
    "start_time": "2023-05-12T19:18:59.879Z"
   },
   {
    "duration": 4,
    "start_time": "2023-05-12T19:19:00.708Z"
   },
   {
    "duration": 36,
    "start_time": "2023-05-12T19:25:41.475Z"
   },
   {
    "duration": 19,
    "start_time": "2023-05-12T19:26:01.045Z"
   },
   {
    "duration": 9,
    "start_time": "2023-05-12T19:26:31.246Z"
   },
   {
    "duration": 17,
    "start_time": "2023-05-12T19:28:17.052Z"
   },
   {
    "duration": 126,
    "start_time": "2023-05-12T19:39:41.892Z"
   },
   {
    "duration": 37,
    "start_time": "2023-05-12T19:39:52.824Z"
   },
   {
    "duration": 298,
    "start_time": "2023-05-12T19:40:28.901Z"
   },
   {
    "duration": 131,
    "start_time": "2023-05-12T19:40:57.690Z"
   },
   {
    "duration": 152,
    "start_time": "2023-05-12T19:40:58.503Z"
   },
   {
    "duration": 259,
    "start_time": "2023-05-12T19:41:25.444Z"
   },
   {
    "duration": 58,
    "start_time": "2023-05-12T19:42:20.891Z"
   },
   {
    "duration": 188,
    "start_time": "2023-05-12T19:42:21.898Z"
   },
   {
    "duration": 90,
    "start_time": "2023-05-12T19:43:14.750Z"
   },
   {
    "duration": 198,
    "start_time": "2023-05-12T19:43:15.852Z"
   },
   {
    "duration": 52,
    "start_time": "2023-05-12T19:45:23.298Z"
   },
   {
    "duration": 6,
    "start_time": "2023-05-12T19:45:42.554Z"
   },
   {
    "duration": 1000,
    "start_time": "2023-05-12T19:45:42.983Z"
   },
   {
    "duration": 41792,
    "start_time": "2023-05-12T19:45:43.986Z"
   },
   {
    "duration": 4,
    "start_time": "2023-05-12T19:46:25.780Z"
   },
   {
    "duration": 97,
    "start_time": "2023-05-12T19:46:25.785Z"
   },
   {
    "duration": 72,
    "start_time": "2023-05-12T19:58:53.108Z"
   },
   {
    "duration": 180,
    "start_time": "2023-05-12T19:58:55.125Z"
   },
   {
    "duration": 52,
    "start_time": "2023-05-12T19:59:56.990Z"
   },
   {
    "duration": 41,
    "start_time": "2023-05-12T20:00:10.694Z"
   },
   {
    "duration": 95,
    "start_time": "2023-05-12T20:03:07.416Z"
   },
   {
    "duration": 72,
    "start_time": "2023-05-12T20:03:20.784Z"
   },
   {
    "duration": 40,
    "start_time": "2023-05-12T20:03:23.092Z"
   },
   {
    "duration": 10563,
    "start_time": "2023-05-12T20:08:08.537Z"
   },
   {
    "duration": 4,
    "start_time": "2023-05-12T20:09:23.976Z"
   },
   {
    "duration": 857,
    "start_time": "2023-05-12T20:09:24.398Z"
   },
   {
    "duration": 38696,
    "start_time": "2023-05-12T20:09:25.263Z"
   },
   {
    "duration": 4,
    "start_time": "2023-05-12T20:10:03.963Z"
   },
   {
    "duration": 288,
    "start_time": "2023-05-12T20:10:03.971Z"
   },
   {
    "duration": 77,
    "start_time": "2023-05-12T20:10:04.261Z"
   },
   {
    "duration": 0,
    "start_time": "2023-05-12T20:10:04.339Z"
   },
   {
    "duration": 9519,
    "start_time": "2023-05-12T20:10:19.308Z"
   },
   {
    "duration": 11646,
    "start_time": "2023-05-12T20:13:02.419Z"
   },
   {
    "duration": 3,
    "start_time": "2023-05-12T20:18:07.984Z"
   },
   {
    "duration": 754,
    "start_time": "2023-05-12T20:18:08.330Z"
   },
   {
    "duration": 40149,
    "start_time": "2023-05-12T20:18:09.086Z"
   },
   {
    "duration": 10,
    "start_time": "2023-05-12T20:18:49.262Z"
   },
   {
    "duration": 119,
    "start_time": "2023-05-12T20:18:49.284Z"
   },
   {
    "duration": 224,
    "start_time": "2023-05-12T20:18:49.458Z"
   },
   {
    "duration": 244,
    "start_time": "2023-05-12T20:21:03.252Z"
   },
   {
    "duration": 259,
    "start_time": "2023-05-12T20:21:30.488Z"
   },
   {
    "duration": 221,
    "start_time": "2023-05-12T20:21:51.788Z"
   },
   {
    "duration": 250,
    "start_time": "2023-05-12T20:22:03.347Z"
   },
   {
    "duration": 6372,
    "start_time": "2023-05-12T20:22:16.596Z"
   },
   {
    "duration": 214,
    "start_time": "2023-05-12T20:22:23.888Z"
   },
   {
    "duration": 165,
    "start_time": "2023-05-12T20:22:47.316Z"
   },
   {
    "duration": 222,
    "start_time": "2023-05-12T20:23:09.990Z"
   },
   {
    "duration": 306,
    "start_time": "2023-05-12T20:25:45.198Z"
   },
   {
    "duration": 265,
    "start_time": "2023-05-12T20:26:03.753Z"
   },
   {
    "duration": 148,
    "start_time": "2023-05-12T20:26:47.603Z"
   },
   {
    "duration": 57,
    "start_time": "2023-05-12T20:27:38.042Z"
   },
   {
    "duration": 66,
    "start_time": "2023-05-12T20:27:55.833Z"
   },
   {
    "duration": 39,
    "start_time": "2023-05-12T20:28:45.031Z"
   },
   {
    "duration": 8487,
    "start_time": "2023-05-12T20:29:15.720Z"
   },
   {
    "duration": 179,
    "start_time": "2023-05-12T20:29:32.172Z"
   },
   {
    "duration": 19,
    "start_time": "2023-05-12T20:31:35.886Z"
   },
   {
    "duration": 5050,
    "start_time": "2023-05-12T20:31:37.879Z"
   },
   {
    "duration": 4,
    "start_time": "2023-05-12T20:34:19.429Z"
   },
   {
    "duration": 870,
    "start_time": "2023-05-12T20:34:19.867Z"
   },
   {
    "duration": 44362,
    "start_time": "2023-05-12T20:34:20.740Z"
   },
   {
    "duration": 4,
    "start_time": "2023-05-12T20:35:05.104Z"
   },
   {
    "duration": 85,
    "start_time": "2023-05-12T20:35:05.109Z"
   },
   {
    "duration": 172,
    "start_time": "2023-05-12T20:35:05.199Z"
   },
   {
    "duration": 16965,
    "start_time": "2023-05-12T20:35:05.373Z"
   },
   {
    "duration": 323,
    "start_time": "2023-05-12T20:45:54.105Z"
   },
   {
    "duration": 85,
    "start_time": "2023-05-12T20:46:30.106Z"
   },
   {
    "duration": 377,
    "start_time": "2023-05-12T20:46:31.447Z"
   },
   {
    "duration": 4164,
    "start_time": "2023-05-12T20:46:56.856Z"
   },
   {
    "duration": 4,
    "start_time": "2023-05-12T20:49:35.847Z"
   },
   {
    "duration": 803,
    "start_time": "2023-05-12T20:49:36.246Z"
   },
   {
    "duration": 41740,
    "start_time": "2023-05-12T20:49:37.052Z"
   },
   {
    "duration": 6,
    "start_time": "2023-05-12T20:50:18.794Z"
   },
   {
    "duration": 196,
    "start_time": "2023-05-12T20:50:18.802Z"
   },
   {
    "duration": 77,
    "start_time": "2023-05-12T20:50:30.316Z"
   },
   {
    "duration": 16348,
    "start_time": "2023-05-12T20:50:32.155Z"
   },
   {
    "duration": 76,
    "start_time": "2023-05-12T20:50:49.796Z"
   },
   {
    "duration": 4236,
    "start_time": "2023-05-12T20:50:50.696Z"
   },
   {
    "duration": 1118,
    "start_time": "2023-05-12T20:51:47.436Z"
   },
   {
    "duration": 6798,
    "start_time": "2023-05-12T20:52:19.921Z"
   },
   {
    "duration": 3550,
    "start_time": "2023-05-12T20:54:12.848Z"
   },
   {
    "duration": 1062,
    "start_time": "2023-05-12T20:54:16.403Z"
   },
   {
    "duration": 47243,
    "start_time": "2023-05-12T20:54:17.469Z"
   },
   {
    "duration": 4,
    "start_time": "2023-05-12T20:55:11.505Z"
   },
   {
    "duration": 155,
    "start_time": "2023-05-12T20:55:11.836Z"
   },
   {
    "duration": 136,
    "start_time": "2023-05-12T20:55:13.643Z"
   },
   {
    "duration": 37718,
    "start_time": "2023-05-12T20:56:12.205Z"
   },
   {
    "duration": 110,
    "start_time": "2023-05-12T21:04:59.490Z"
   },
   {
    "duration": 4,
    "start_time": "2023-05-12T21:07:36.023Z"
   },
   {
    "duration": 908,
    "start_time": "2023-05-12T21:07:36.389Z"
   },
   {
    "duration": 43654,
    "start_time": "2023-05-12T21:07:37.300Z"
   },
   {
    "duration": 7,
    "start_time": "2023-05-12T21:08:20.958Z"
   },
   {
    "duration": 242,
    "start_time": "2023-05-12T21:08:20.969Z"
   },
   {
    "duration": 162,
    "start_time": "2023-05-12T21:08:21.215Z"
   },
   {
    "duration": 33878,
    "start_time": "2023-05-12T21:08:21.379Z"
   },
   {
    "duration": 88,
    "start_time": "2023-05-12T21:08:55.259Z"
   },
   {
    "duration": 44,
    "start_time": "2023-05-12T21:08:55.348Z"
   },
   {
    "duration": 74,
    "start_time": "2023-05-12T21:08:55.394Z"
   },
   {
    "duration": 3,
    "start_time": "2023-05-12T21:08:55.470Z"
   },
   {
    "duration": 188,
    "start_time": "2023-05-12T21:08:55.475Z"
   },
   {
    "duration": 11341,
    "start_time": "2023-05-12T21:08:55.665Z"
   },
   {
    "duration": 40,
    "start_time": "2023-05-12T21:10:36.310Z"
   },
   {
    "duration": 2149,
    "start_time": "2023-05-12T21:12:13.433Z"
   },
   {
    "duration": 1043,
    "start_time": "2023-05-12T21:12:15.584Z"
   },
   {
    "duration": 42684,
    "start_time": "2023-05-12T21:12:16.629Z"
   },
   {
    "duration": 4,
    "start_time": "2023-05-12T21:12:59.316Z"
   },
   {
    "duration": 255,
    "start_time": "2023-05-12T21:12:59.321Z"
   },
   {
    "duration": 41703,
    "start_time": "2023-05-12T21:12:59.577Z"
   },
   {
    "duration": 215,
    "start_time": "2023-05-12T21:13:41.292Z"
   },
   {
    "duration": 39822,
    "start_time": "2023-05-12T21:13:41.513Z"
   },
   {
    "duration": 35925,
    "start_time": "2023-05-12T21:14:21.337Z"
   },
   {
    "duration": 42752,
    "start_time": "2023-05-12T21:14:57.274Z"
   },
   {
    "duration": 161,
    "start_time": "2023-05-12T21:15:40.028Z"
   },
   {
    "duration": 2153,
    "start_time": "2023-05-12T21:17:46.116Z"
   },
   {
    "duration": 964,
    "start_time": "2023-05-12T21:17:48.278Z"
   },
   {
    "duration": 42580,
    "start_time": "2023-05-12T21:17:49.243Z"
   },
   {
    "duration": 4,
    "start_time": "2023-05-12T21:18:31.826Z"
   },
   {
    "duration": 270,
    "start_time": "2023-05-12T21:18:31.832Z"
   },
   {
    "duration": 166,
    "start_time": "2023-05-12T21:18:32.104Z"
   },
   {
    "duration": 34540,
    "start_time": "2023-05-12T21:18:32.272Z"
   },
   {
    "duration": 40185,
    "start_time": "2023-05-12T21:19:06.814Z"
   },
   {
    "duration": 15786,
    "start_time": "2023-05-12T21:23:02.353Z"
   },
   {
    "duration": 0,
    "start_time": "2023-05-12T21:23:18.141Z"
   },
   {
    "duration": 5,
    "start_time": "2023-05-12T21:24:44.318Z"
   },
   {
    "duration": 30295,
    "start_time": "2023-05-12T21:24:50.287Z"
   },
   {
    "duration": 36353,
    "start_time": "2023-05-12T21:25:20.584Z"
   },
   {
    "duration": 1972,
    "start_time": "2023-05-12T21:28:23.607Z"
   },
   {
    "duration": 895,
    "start_time": "2023-05-12T21:28:25.583Z"
   },
   {
    "duration": 40069,
    "start_time": "2023-05-12T21:28:26.479Z"
   },
   {
    "duration": 9,
    "start_time": "2023-05-12T21:29:06.559Z"
   },
   {
    "duration": 293,
    "start_time": "2023-05-12T21:29:06.572Z"
   },
   {
    "duration": 190,
    "start_time": "2023-05-12T21:29:06.868Z"
   },
   {
    "duration": 119,
    "start_time": "2023-05-12T21:29:07.060Z"
   },
   {
    "duration": 134,
    "start_time": "2023-05-12T21:29:07.181Z"
   },
   {
    "duration": 117,
    "start_time": "2023-05-12T21:29:48.736Z"
   },
   {
    "duration": 124,
    "start_time": "2023-05-12T21:29:49.338Z"
   },
   {
    "duration": 37314,
    "start_time": "2023-05-12T21:29:56.295Z"
   },
   {
    "duration": 32556,
    "start_time": "2023-05-12T21:31:48.992Z"
   },
   {
    "duration": 37943,
    "start_time": "2023-05-12T21:32:47.292Z"
   },
   {
    "duration": 17448,
    "start_time": "2023-05-12T21:38:27.790Z"
   },
   {
    "duration": 32339,
    "start_time": "2023-05-12T21:39:42.894Z"
   },
   {
    "duration": 1892,
    "start_time": "2023-05-12T21:43:14.732Z"
   },
   {
    "duration": 853,
    "start_time": "2023-05-12T21:43:16.626Z"
   },
   {
    "duration": 38455,
    "start_time": "2023-05-12T21:43:17.481Z"
   },
   {
    "duration": 4,
    "start_time": "2023-05-12T21:43:55.938Z"
   },
   {
    "duration": 297,
    "start_time": "2023-05-12T21:43:55.961Z"
   },
   {
    "duration": 146,
    "start_time": "2023-05-12T21:43:56.263Z"
   },
   {
    "duration": 31839,
    "start_time": "2023-05-12T21:43:56.411Z"
   },
   {
    "duration": 38738,
    "start_time": "2023-05-12T21:44:28.252Z"
   },
   {
    "duration": 102,
    "start_time": "2023-05-12T21:48:17.319Z"
   },
   {
    "duration": 38299,
    "start_time": "2023-05-12T21:48:22.882Z"
   },
   {
    "duration": 3,
    "start_time": "2023-05-12T21:51:26.238Z"
   },
   {
    "duration": 733,
    "start_time": "2023-05-12T21:51:26.588Z"
   },
   {
    "duration": 36908,
    "start_time": "2023-05-12T21:51:27.323Z"
   },
   {
    "duration": 4,
    "start_time": "2023-05-12T21:52:04.233Z"
   },
   {
    "duration": 191,
    "start_time": "2023-05-12T21:52:04.269Z"
   },
   {
    "duration": 116,
    "start_time": "2023-05-12T21:52:04.463Z"
   },
   {
    "duration": 28724,
    "start_time": "2023-05-12T21:52:04.581Z"
   },
   {
    "duration": 3,
    "start_time": "2023-05-12T21:58:18.154Z"
   },
   {
    "duration": 704,
    "start_time": "2023-05-12T21:58:22.438Z"
   },
   {
    "duration": 37327,
    "start_time": "2023-05-12T21:58:23.144Z"
   },
   {
    "duration": 3,
    "start_time": "2023-05-12T21:59:00.473Z"
   },
   {
    "duration": 200,
    "start_time": "2023-05-12T21:59:00.478Z"
   },
   {
    "duration": 117,
    "start_time": "2023-05-12T21:59:00.681Z"
   },
   {
    "duration": 27664,
    "start_time": "2023-05-12T21:59:00.800Z"
   },
   {
    "duration": 71,
    "start_time": "2023-05-12T21:59:28.466Z"
   },
   {
    "duration": 53,
    "start_time": "2023-05-12T21:59:28.539Z"
   },
   {
    "duration": 64,
    "start_time": "2023-05-12T21:59:28.594Z"
   },
   {
    "duration": 4,
    "start_time": "2023-05-12T21:59:28.660Z"
   },
   {
    "duration": 207,
    "start_time": "2023-05-12T21:59:28.667Z"
   },
   {
    "duration": 3,
    "start_time": "2023-05-12T21:59:28.876Z"
   },
   {
    "duration": 98,
    "start_time": "2023-05-12T21:59:28.881Z"
   },
   {
    "duration": 5,
    "start_time": "2023-05-12T21:59:28.981Z"
   },
   {
    "duration": 6,
    "start_time": "2023-05-12T21:59:28.989Z"
   },
   {
    "duration": 77,
    "start_time": "2023-05-12T22:00:37.698Z"
   },
   {
    "duration": 4,
    "start_time": "2023-05-12T22:00:44.848Z"
   },
   {
    "duration": 434,
    "start_time": "2023-05-12T22:03:13.626Z"
   },
   {
    "duration": 1779,
    "start_time": "2023-05-12T22:03:14.827Z"
   },
   {
    "duration": 5,
    "start_time": "2023-05-12T22:03:32.428Z"
   },
   {
    "duration": 3,
    "start_time": "2023-05-12T22:03:34.507Z"
   },
   {
    "duration": 78649,
    "start_time": "2023-05-12T22:03:46.278Z"
   },
   {
    "duration": 5,
    "start_time": "2023-05-12T22:07:20.239Z"
   },
   {
    "duration": 4,
    "start_time": "2023-05-12T22:07:23.938Z"
   },
   {
    "duration": 105,
    "start_time": "2023-05-12T22:07:25.068Z"
   },
   {
    "duration": 6,
    "start_time": "2023-05-12T22:07:56.688Z"
   },
   {
    "duration": 2,
    "start_time": "2023-05-12T22:07:57.969Z"
   },
   {
    "duration": 1907,
    "start_time": "2023-05-12T22:10:00.379Z"
   },
   {
    "duration": 879,
    "start_time": "2023-05-12T22:10:02.288Z"
   },
   {
    "duration": 36102,
    "start_time": "2023-05-12T22:10:03.169Z"
   },
   {
    "duration": 3,
    "start_time": "2023-05-12T22:10:39.273Z"
   },
   {
    "duration": 195,
    "start_time": "2023-05-12T22:10:39.278Z"
   },
   {
    "duration": 156,
    "start_time": "2023-05-12T22:10:39.475Z"
   },
   {
    "duration": 27842,
    "start_time": "2023-05-12T22:10:39.632Z"
   },
   {
    "duration": 81,
    "start_time": "2023-05-12T22:11:07.476Z"
   },
   {
    "duration": 34,
    "start_time": "2023-05-12T22:11:07.559Z"
   },
   {
    "duration": 64,
    "start_time": "2023-05-12T22:11:07.596Z"
   },
   {
    "duration": 3,
    "start_time": "2023-05-12T22:11:07.661Z"
   },
   {
    "duration": 177,
    "start_time": "2023-05-12T22:11:07.665Z"
   },
   {
    "duration": 2,
    "start_time": "2023-05-12T22:11:07.844Z"
   },
   {
    "duration": 77,
    "start_time": "2023-05-12T22:11:07.848Z"
   },
   {
    "duration": 6,
    "start_time": "2023-05-12T22:11:07.927Z"
   },
   {
    "duration": 4,
    "start_time": "2023-05-12T22:11:07.934Z"
   },
   {
    "duration": 68735,
    "start_time": "2023-05-12T22:11:07.940Z"
   },
   {
    "duration": 4,
    "start_time": "2023-05-12T22:16:40.029Z"
   },
   {
    "duration": 690,
    "start_time": "2023-05-12T22:16:40.559Z"
   },
   {
    "duration": 35028,
    "start_time": "2023-05-12T22:16:41.251Z"
   },
   {
    "duration": 3,
    "start_time": "2023-05-12T22:17:16.282Z"
   },
   {
    "duration": 204,
    "start_time": "2023-05-12T22:17:16.287Z"
   },
   {
    "duration": 129,
    "start_time": "2023-05-12T22:17:16.493Z"
   },
   {
    "duration": 28556,
    "start_time": "2023-05-12T22:17:16.624Z"
   },
   {
    "duration": 90,
    "start_time": "2023-05-12T22:17:45.182Z"
   },
   {
    "duration": 42,
    "start_time": "2023-05-12T22:17:45.274Z"
   },
   {
    "duration": 73,
    "start_time": "2023-05-12T22:17:45.318Z"
   },
   {
    "duration": 3,
    "start_time": "2023-05-12T22:17:45.393Z"
   },
   {
    "duration": 189,
    "start_time": "2023-05-12T22:17:45.398Z"
   },
   {
    "duration": 168,
    "start_time": "2023-05-12T22:17:45.589Z"
   },
   {
    "duration": 0,
    "start_time": "2023-05-12T22:17:45.758Z"
   },
   {
    "duration": 0,
    "start_time": "2023-05-12T22:17:45.759Z"
   },
   {
    "duration": 0,
    "start_time": "2023-05-12T22:17:45.761Z"
   },
   {
    "duration": 0,
    "start_time": "2023-05-12T22:17:45.762Z"
   },
   {
    "duration": 3,
    "start_time": "2023-05-12T22:21:19.070Z"
   },
   {
    "duration": 85,
    "start_time": "2023-05-12T22:21:21.820Z"
   },
   {
    "duration": 6,
    "start_time": "2023-05-12T22:21:24.939Z"
   },
   {
    "duration": 5,
    "start_time": "2023-05-12T22:21:26.969Z"
   },
   {
    "duration": 93948,
    "start_time": "2023-05-12T22:21:28.522Z"
   },
   {
    "duration": 6,
    "start_time": "2023-05-12T22:23:32.390Z"
   },
   {
    "duration": 3,
    "start_time": "2023-05-12T22:23:33.771Z"
   },
   {
    "duration": 182847,
    "start_time": "2023-05-12T22:23:34.330Z"
   },
   {
    "duration": 7,
    "start_time": "2023-05-12T22:27:52.049Z"
   },
   {
    "duration": 3,
    "start_time": "2023-05-12T22:27:54.110Z"
   },
   {
    "duration": 125518,
    "start_time": "2023-05-12T22:27:54.760Z"
   },
   {
    "duration": 9,
    "start_time": "2023-05-12T22:32:27.866Z"
   },
   {
    "duration": 3,
    "start_time": "2023-05-12T22:32:29.030Z"
   },
   {
    "duration": 102408,
    "start_time": "2023-05-12T22:32:30.060Z"
   },
   {
    "duration": 2,
    "start_time": "2023-05-12T22:35:28.430Z"
   },
   {
    "duration": 2,
    "start_time": "2023-05-12T22:35:51.330Z"
   },
   {
    "duration": 4,
    "start_time": "2023-05-12T22:38:38.360Z"
   },
   {
    "duration": 4,
    "start_time": "2023-05-12T22:39:09.577Z"
   },
   {
    "duration": 3,
    "start_time": "2023-05-12T22:39:10.790Z"
   },
   {
    "duration": 1913,
    "start_time": "2023-05-12T22:46:15.301Z"
   },
   {
    "duration": 866,
    "start_time": "2023-05-12T22:46:17.216Z"
   },
   {
    "duration": 39652,
    "start_time": "2023-05-12T22:46:18.083Z"
   },
   {
    "duration": 21,
    "start_time": "2023-05-12T22:46:57.737Z"
   },
   {
    "duration": 198,
    "start_time": "2023-05-12T22:46:57.766Z"
   },
   {
    "duration": 214,
    "start_time": "2023-05-12T22:46:57.966Z"
   },
   {
    "duration": 29364,
    "start_time": "2023-05-12T22:46:58.182Z"
   },
   {
    "duration": 78,
    "start_time": "2023-05-12T22:47:27.548Z"
   },
   {
    "duration": 47,
    "start_time": "2023-05-12T22:47:27.628Z"
   },
   {
    "duration": 48,
    "start_time": "2023-05-12T22:47:27.678Z"
   },
   {
    "duration": 2,
    "start_time": "2023-05-12T22:47:27.728Z"
   },
   {
    "duration": 190,
    "start_time": "2023-05-12T22:47:27.732Z"
   },
   {
    "duration": 3,
    "start_time": "2023-05-12T22:47:27.924Z"
   },
   {
    "duration": 89,
    "start_time": "2023-05-12T22:47:27.929Z"
   },
   {
    "duration": 476,
    "start_time": "2023-05-12T22:47:28.020Z"
   },
   {
    "duration": 192,
    "start_time": "2023-05-12T22:47:42.195Z"
   },
   {
    "duration": 12,
    "start_time": "2023-05-12T22:48:13.641Z"
   },
   {
    "duration": 15,
    "start_time": "2023-05-12T22:48:52.301Z"
   },
   {
    "duration": 14,
    "start_time": "2023-05-12T22:49:16.211Z"
   },
   {
    "duration": 167,
    "start_time": "2023-05-12T22:49:35.651Z"
   },
   {
    "duration": 15,
    "start_time": "2023-05-12T22:49:52.472Z"
   },
   {
    "duration": 4,
    "start_time": "2023-05-12T22:50:06.351Z"
   },
   {
    "duration": 4,
    "start_time": "2023-05-12T22:50:16.631Z"
   },
   {
    "duration": 16,
    "start_time": "2023-05-12T22:51:44.612Z"
   },
   {
    "duration": 2,
    "start_time": "2023-05-12T22:52:00.975Z"
   },
   {
    "duration": 4,
    "start_time": "2023-05-12T22:52:05.701Z"
   },
   {
    "duration": 14,
    "start_time": "2023-05-12T22:52:14.191Z"
   },
   {
    "duration": 14,
    "start_time": "2023-05-12T22:52:18.092Z"
   },
   {
    "duration": 19,
    "start_time": "2023-05-12T22:52:33.995Z"
   },
   {
    "duration": 22,
    "start_time": "2023-05-12T22:52:46.551Z"
   },
   {
    "duration": 15,
    "start_time": "2023-05-12T22:53:18.031Z"
   },
   {
    "duration": 6,
    "start_time": "2023-05-12T22:53:27.011Z"
   },
   {
    "duration": 4,
    "start_time": "2023-05-12T22:53:42.691Z"
   },
   {
    "duration": 4,
    "start_time": "2023-05-12T22:54:40.690Z"
   },
   {
    "duration": 4,
    "start_time": "2023-05-12T22:54:42.731Z"
   },
   {
    "duration": 76682,
    "start_time": "2023-05-12T22:54:43.502Z"
   },
   {
    "duration": 2,
    "start_time": "2023-05-12T22:56:42.102Z"
   },
   {
    "duration": 94,
    "start_time": "2023-05-12T22:56:42.621Z"
   },
   {
    "duration": 4,
    "start_time": "2023-05-12T22:56:48.894Z"
   },
   {
    "duration": 4,
    "start_time": "2023-05-12T22:56:49.871Z"
   },
   {
    "duration": 16,
    "start_time": "2023-05-12T22:57:02.097Z"
   },
   {
    "duration": 4,
    "start_time": "2023-05-12T22:59:02.042Z"
   },
   {
    "duration": 4,
    "start_time": "2023-05-12T23:01:17.542Z"
   },
   {
    "duration": 3,
    "start_time": "2023-05-12T23:01:19.522Z"
   },
   {
    "duration": 2433,
    "start_time": "2023-05-12T23:15:53.555Z"
   },
   {
    "duration": 2200,
    "start_time": "2023-05-12T23:15:55.991Z"
   },
   {
    "duration": 1813,
    "start_time": "2023-05-12T23:15:58.192Z"
   },
   {
    "duration": 798,
    "start_time": "2023-05-12T23:16:00.007Z"
   },
   {
    "duration": 36277,
    "start_time": "2023-05-12T23:16:00.808Z"
   },
   {
    "duration": 3,
    "start_time": "2023-05-12T23:16:37.087Z"
   },
   {
    "duration": 191,
    "start_time": "2023-05-12T23:16:37.091Z"
   },
   {
    "duration": 161,
    "start_time": "2023-05-12T23:16:37.287Z"
   },
   {
    "duration": 28839,
    "start_time": "2023-05-12T23:16:37.450Z"
   },
   {
    "duration": 87,
    "start_time": "2023-05-12T23:17:06.290Z"
   },
   {
    "duration": 35,
    "start_time": "2023-05-12T23:17:06.379Z"
   },
   {
    "duration": 63,
    "start_time": "2023-05-12T23:17:06.416Z"
   },
   {
    "duration": 3,
    "start_time": "2023-05-12T23:17:06.480Z"
   },
   {
    "duration": 185,
    "start_time": "2023-05-12T23:17:06.486Z"
   },
   {
    "duration": 3,
    "start_time": "2023-05-12T23:17:06.673Z"
   },
   {
    "duration": 93,
    "start_time": "2023-05-12T23:17:06.678Z"
   },
   {
    "duration": 4,
    "start_time": "2023-05-12T23:17:06.772Z"
   },
   {
    "duration": 173,
    "start_time": "2023-05-12T23:17:06.778Z"
   },
   {
    "duration": 0,
    "start_time": "2023-05-12T23:17:06.952Z"
   },
   {
    "duration": 0,
    "start_time": "2023-05-12T23:17:06.954Z"
   },
   {
    "duration": 0,
    "start_time": "2023-05-12T23:17:06.956Z"
   },
   {
    "duration": 0,
    "start_time": "2023-05-12T23:17:06.957Z"
   },
   {
    "duration": 0,
    "start_time": "2023-05-12T23:17:06.957Z"
   },
   {
    "duration": 0,
    "start_time": "2023-05-12T23:17:06.964Z"
   },
   {
    "duration": 0,
    "start_time": "2023-05-12T23:17:06.966Z"
   },
   {
    "duration": 0,
    "start_time": "2023-05-12T23:17:06.967Z"
   },
   {
    "duration": 0,
    "start_time": "2023-05-12T23:17:06.968Z"
   },
   {
    "duration": 0,
    "start_time": "2023-05-12T23:17:06.969Z"
   },
   {
    "duration": 0,
    "start_time": "2023-05-12T23:17:06.972Z"
   },
   {
    "duration": 0,
    "start_time": "2023-05-12T23:17:06.973Z"
   },
   {
    "duration": 0,
    "start_time": "2023-05-12T23:17:06.974Z"
   },
   {
    "duration": 0,
    "start_time": "2023-05-12T23:17:06.975Z"
   },
   {
    "duration": 0,
    "start_time": "2023-05-12T23:17:06.976Z"
   },
   {
    "duration": 0,
    "start_time": "2023-05-12T23:17:06.977Z"
   },
   {
    "duration": 2182,
    "start_time": "2023-05-12T23:17:44.796Z"
   },
   {
    "duration": 2004,
    "start_time": "2023-05-12T23:17:46.980Z"
   },
   {
    "duration": 1810,
    "start_time": "2023-05-12T23:17:48.986Z"
   },
   {
    "duration": 797,
    "start_time": "2023-05-12T23:17:50.797Z"
   },
   {
    "duration": 35399,
    "start_time": "2023-05-12T23:17:51.597Z"
   },
   {
    "duration": 4,
    "start_time": "2023-05-12T23:18:26.998Z"
   },
   {
    "duration": 195,
    "start_time": "2023-05-12T23:18:27.003Z"
   },
   {
    "duration": 195,
    "start_time": "2023-05-12T23:18:27.200Z"
   },
   {
    "duration": 29017,
    "start_time": "2023-05-12T23:18:27.398Z"
   },
   {
    "duration": 90,
    "start_time": "2023-05-12T23:18:56.417Z"
   },
   {
    "duration": 49,
    "start_time": "2023-05-12T23:18:56.509Z"
   },
   {
    "duration": 55,
    "start_time": "2023-05-12T23:18:56.560Z"
   },
   {
    "duration": 3,
    "start_time": "2023-05-12T23:18:56.616Z"
   },
   {
    "duration": 183,
    "start_time": "2023-05-12T23:18:56.622Z"
   },
   {
    "duration": 3,
    "start_time": "2023-05-12T23:18:56.806Z"
   },
   {
    "duration": 86,
    "start_time": "2023-05-12T23:18:56.811Z"
   },
   {
    "duration": 4,
    "start_time": "2023-05-12T23:18:56.899Z"
   },
   {
    "duration": 12,
    "start_time": "2023-05-12T23:18:56.904Z"
   },
   {
    "duration": 155669,
    "start_time": "2023-05-12T23:18:56.917Z"
   },
   {
    "duration": 55,
    "start_time": "2023-05-12T23:21:32.658Z"
   },
   {
    "duration": 6,
    "start_time": "2023-05-12T23:21:32.715Z"
   },
   {
    "duration": 1514,
    "start_time": "2023-05-12T23:21:32.723Z"
   },
   {
    "duration": 3,
    "start_time": "2023-05-12T23:21:34.238Z"
   },
   {
    "duration": 14593,
    "start_time": "2023-05-12T23:21:34.242Z"
   },
   {
    "duration": 3,
    "start_time": "2023-05-12T23:21:48.836Z"
   },
   {
    "duration": 810696,
    "start_time": "2023-05-12T23:21:48.840Z"
   },
   {
    "duration": 20,
    "start_time": "2023-05-12T23:35:19.538Z"
   },
   {
    "duration": 1366,
    "start_time": "2023-05-12T23:35:19.559Z"
   },
   {
    "duration": 0,
    "start_time": "2023-05-12T23:35:20.927Z"
   },
   {
    "duration": 0,
    "start_time": "2023-05-12T23:35:20.928Z"
   },
   {
    "duration": 4,
    "start_time": "2023-05-12T23:42:08.639Z"
   },
   {
    "duration": 6,
    "start_time": "2023-05-12T23:43:29.009Z"
   },
   {
    "duration": 5,
    "start_time": "2023-05-12T23:43:39.448Z"
   },
   {
    "duration": 14,
    "start_time": "2023-05-12T23:45:05.769Z"
   },
   {
    "duration": 15,
    "start_time": "2023-05-12T23:48:21.667Z"
   },
   {
    "duration": 5,
    "start_time": "2023-05-12T23:50:21.357Z"
   },
   {
    "duration": 9,
    "start_time": "2023-05-12T23:50:43.627Z"
   },
   {
    "duration": 10,
    "start_time": "2023-05-12T23:52:09.616Z"
   },
   {
    "duration": 6,
    "start_time": "2023-05-12T23:54:08.454Z"
   },
   {
    "duration": 6,
    "start_time": "2023-05-12T23:54:38.266Z"
   },
   {
    "duration": 15,
    "start_time": "2023-05-12T23:55:12.156Z"
   },
   {
    "duration": 7,
    "start_time": "2023-05-12T23:55:14.316Z"
   },
   {
    "duration": 7,
    "start_time": "2023-05-12T23:55:36.416Z"
   },
   {
    "duration": 6,
    "start_time": "2023-05-12T23:55:46.796Z"
   },
   {
    "duration": 7,
    "start_time": "2023-05-12T23:55:53.475Z"
   },
   {
    "duration": 16,
    "start_time": "2023-05-12T23:56:05.455Z"
   },
   {
    "duration": 6,
    "start_time": "2023-05-12T23:56:07.586Z"
   },
   {
    "duration": 18,
    "start_time": "2023-05-12T23:57:01.885Z"
   },
   {
    "duration": 7,
    "start_time": "2023-05-12T23:57:04.766Z"
   },
   {
    "duration": 7,
    "start_time": "2023-05-12T23:57:11.345Z"
   },
   {
    "duration": 8,
    "start_time": "2023-05-12T23:57:29.365Z"
   },
   {
    "duration": 4,
    "start_time": "2023-05-12T23:58:03.005Z"
   },
   {
    "duration": 4,
    "start_time": "2023-05-13T00:00:27.964Z"
   },
   {
    "duration": 18,
    "start_time": "2023-05-13T00:00:28.855Z"
   },
   {
    "duration": 18,
    "start_time": "2023-05-13T00:00:37.665Z"
   },
   {
    "duration": 4,
    "start_time": "2023-05-13T00:01:11.275Z"
   },
   {
    "duration": 29,
    "start_time": "2023-05-13T00:01:11.995Z"
   },
   {
    "duration": 4,
    "start_time": "2023-05-13T00:02:00.444Z"
   },
   {
    "duration": 29,
    "start_time": "2023-05-13T00:02:01.265Z"
   },
   {
    "duration": 4,
    "start_time": "2023-05-13T00:02:15.635Z"
   },
   {
    "duration": 32,
    "start_time": "2023-05-13T00:02:16.295Z"
   },
   {
    "duration": 4,
    "start_time": "2023-05-13T00:02:22.035Z"
   },
   {
    "duration": 17,
    "start_time": "2023-05-13T00:02:22.696Z"
   },
   {
    "duration": 4,
    "start_time": "2023-05-13T00:03:06.487Z"
   },
   {
    "duration": 29,
    "start_time": "2023-05-13T00:03:07.315Z"
   },
   {
    "duration": 4,
    "start_time": "2023-05-13T00:03:25.045Z"
   },
   {
    "duration": 15,
    "start_time": "2023-05-13T00:03:25.845Z"
   },
   {
    "duration": 3,
    "start_time": "2023-05-13T00:06:07.645Z"
   },
   {
    "duration": 12,
    "start_time": "2023-05-13T00:10:20.754Z"
   },
   {
    "duration": 18,
    "start_time": "2023-05-13T00:10:35.054Z"
   },
   {
    "duration": 3,
    "start_time": "2023-05-13T00:10:47.634Z"
   },
   {
    "duration": 15,
    "start_time": "2023-05-13T00:10:51.524Z"
   },
   {
    "duration": 14,
    "start_time": "2023-05-13T00:11:01.244Z"
   },
   {
    "duration": 5,
    "start_time": "2023-05-13T00:12:21.068Z"
   },
   {
    "duration": 5,
    "start_time": "2023-05-13T00:12:43.525Z"
   },
   {
    "duration": 4,
    "start_time": "2023-05-13T00:14:08.916Z"
   },
   {
    "duration": 6,
    "start_time": "2023-05-13T00:14:34.765Z"
   },
   {
    "duration": 13,
    "start_time": "2023-05-13T00:16:11.384Z"
   },
   {
    "duration": 6,
    "start_time": "2023-05-13T00:16:21.903Z"
   },
   {
    "duration": 7,
    "start_time": "2023-05-13T00:16:32.454Z"
   },
   {
    "duration": 4,
    "start_time": "2023-05-13T00:16:39.304Z"
   },
   {
    "duration": 6,
    "start_time": "2023-05-13T00:16:59.394Z"
   },
   {
    "duration": 5,
    "start_time": "2023-05-13T00:17:00.844Z"
   },
   {
    "duration": 4,
    "start_time": "2023-05-13T00:17:01.874Z"
   },
   {
    "duration": 15,
    "start_time": "2023-05-13T00:17:32.904Z"
   },
   {
    "duration": 5,
    "start_time": "2023-05-13T00:17:40.734Z"
   },
   {
    "duration": 4,
    "start_time": "2023-05-13T00:18:47.214Z"
   },
   {
    "duration": 36,
    "start_time": "2023-05-13T00:18:48.054Z"
   },
   {
    "duration": 4,
    "start_time": "2023-05-13T00:22:34.174Z"
   },
   {
    "duration": 16,
    "start_time": "2023-05-13T00:22:34.975Z"
   },
   {
    "duration": 6,
    "start_time": "2023-05-13T00:23:11.004Z"
   },
   {
    "duration": 6,
    "start_time": "2023-05-13T00:23:47.704Z"
   },
   {
    "duration": 6,
    "start_time": "2023-05-13T00:32:34.116Z"
   },
   {
    "duration": 4,
    "start_time": "2023-05-13T00:38:23.825Z"
   },
   {
    "duration": 21,
    "start_time": "2023-05-13T00:58:51.965Z"
   },
   {
    "duration": 13,
    "start_time": "2023-05-13T01:14:12.447Z"
   },
   {
    "duration": 1811,
    "start_time": "2023-05-13T01:18:53.256Z"
   },
   {
    "duration": 753,
    "start_time": "2023-05-13T01:18:55.069Z"
   },
   {
    "duration": 34166,
    "start_time": "2023-05-13T01:18:55.823Z"
   },
   {
    "duration": 4,
    "start_time": "2023-05-13T01:19:29.991Z"
   },
   {
    "duration": 191,
    "start_time": "2023-05-13T01:19:29.996Z"
   },
   {
    "duration": 179,
    "start_time": "2023-05-13T01:19:30.189Z"
   },
   {
    "duration": 27005,
    "start_time": "2023-05-13T01:19:30.369Z"
   },
   {
    "duration": 33041,
    "start_time": "2023-05-13T01:20:17.266Z"
   },
   {
    "duration": 4,
    "start_time": "2023-05-13T01:24:20.636Z"
   },
   {
    "duration": 677,
    "start_time": "2023-05-13T01:24:21.126Z"
   },
   {
    "duration": 34879,
    "start_time": "2023-05-13T01:24:21.805Z"
   },
   {
    "duration": 3,
    "start_time": "2023-05-13T01:24:56.686Z"
   },
   {
    "duration": 176,
    "start_time": "2023-05-13T01:24:56.691Z"
   },
   {
    "duration": 141,
    "start_time": "2023-05-13T01:24:56.869Z"
   },
   {
    "duration": 13201,
    "start_time": "2023-05-13T01:24:57.012Z"
   },
   {
    "duration": 33444,
    "start_time": "2023-05-13T01:25:10.215Z"
   },
   {
    "duration": 196,
    "start_time": "2023-05-13T01:25:43.661Z"
   },
   {
    "duration": 31,
    "start_time": "2023-05-13T01:25:43.859Z"
   },
   {
    "duration": 82,
    "start_time": "2023-05-13T01:25:43.892Z"
   },
   {
    "duration": 3,
    "start_time": "2023-05-13T01:25:43.977Z"
   },
   {
    "duration": 198,
    "start_time": "2023-05-13T01:25:43.982Z"
   },
   {
    "duration": 4,
    "start_time": "2023-05-13T01:25:44.182Z"
   },
   {
    "duration": 84,
    "start_time": "2023-05-13T01:25:44.188Z"
   },
   {
    "duration": 4,
    "start_time": "2023-05-13T01:25:44.274Z"
   },
   {
    "duration": 10,
    "start_time": "2023-05-13T01:25:44.280Z"
   },
   {
    "duration": 67584,
    "start_time": "2023-05-13T01:25:44.291Z"
   },
   {
    "duration": 117,
    "start_time": "2023-05-13T01:26:51.878Z"
   },
   {
    "duration": 5,
    "start_time": "2023-05-13T01:26:51.997Z"
   },
   {
    "duration": 1519,
    "start_time": "2023-05-13T01:26:52.004Z"
   },
   {
    "duration": 3,
    "start_time": "2023-05-13T01:26:53.525Z"
   },
   {
    "duration": 15450,
    "start_time": "2023-05-13T01:26:53.530Z"
   },
   {
    "duration": 2,
    "start_time": "2023-05-13T01:27:08.982Z"
   },
   {
    "duration": 2011,
    "start_time": "2023-05-13T01:38:55.319Z"
   },
   {
    "duration": 1867,
    "start_time": "2023-05-13T01:38:57.332Z"
   },
   {
    "duration": 1784,
    "start_time": "2023-05-13T01:38:59.202Z"
   },
   {
    "duration": 823,
    "start_time": "2023-05-13T01:39:00.988Z"
   },
   {
    "duration": 34463,
    "start_time": "2023-05-13T01:39:01.813Z"
   },
   {
    "duration": 4,
    "start_time": "2023-05-13T01:39:36.277Z"
   },
   {
    "duration": 183,
    "start_time": "2023-05-13T01:39:36.282Z"
   },
   {
    "duration": 155,
    "start_time": "2023-05-13T01:39:36.467Z"
   },
   {
    "duration": 13420,
    "start_time": "2023-05-13T01:39:36.624Z"
   },
   {
    "duration": 78,
    "start_time": "2023-05-13T01:39:50.045Z"
   },
   {
    "duration": 31574,
    "start_time": "2023-05-13T01:39:50.124Z"
   },
   {
    "duration": 158,
    "start_time": "2023-05-13T01:40:21.699Z"
   },
   {
    "duration": 27,
    "start_time": "2023-05-13T01:40:21.859Z"
   },
   {
    "duration": 91,
    "start_time": "2023-05-13T01:40:21.888Z"
   },
   {
    "duration": 3,
    "start_time": "2023-05-13T01:40:21.981Z"
   },
   {
    "duration": 164,
    "start_time": "2023-05-13T01:40:21.985Z"
   },
   {
    "duration": 7,
    "start_time": "2023-05-13T01:40:22.150Z"
   },
   {
    "duration": 65,
    "start_time": "2023-05-13T01:40:22.158Z"
   },
   {
    "duration": 4,
    "start_time": "2023-05-13T01:40:22.224Z"
   },
   {
    "duration": 6,
    "start_time": "2023-05-13T01:40:22.230Z"
   },
   {
    "duration": 66143,
    "start_time": "2023-05-13T01:40:22.238Z"
   },
   {
    "duration": 114,
    "start_time": "2023-05-13T01:41:28.383Z"
   },
   {
    "duration": 3,
    "start_time": "2023-05-13T01:41:28.499Z"
   },
   {
    "duration": 1575,
    "start_time": "2023-05-13T01:41:28.504Z"
   },
   {
    "duration": 3,
    "start_time": "2023-05-13T01:41:30.080Z"
   },
   {
    "duration": 14751,
    "start_time": "2023-05-13T01:41:30.084Z"
   },
   {
    "duration": 3,
    "start_time": "2023-05-13T01:41:44.837Z"
   },
   {
    "duration": 2346,
    "start_time": "2023-05-13T01:43:28.778Z"
   },
   {
    "duration": 2111,
    "start_time": "2023-05-13T01:43:31.126Z"
   },
   {
    "duration": 1803,
    "start_time": "2023-05-13T01:43:33.240Z"
   },
   {
    "duration": 778,
    "start_time": "2023-05-13T01:43:35.045Z"
   },
   {
    "duration": 2038,
    "start_time": "2023-05-13T01:44:09.999Z"
   },
   {
    "duration": 1893,
    "start_time": "2023-05-13T01:44:12.039Z"
   },
   {
    "duration": 1839,
    "start_time": "2023-05-13T01:44:13.934Z"
   },
   {
    "duration": 772,
    "start_time": "2023-05-13T01:44:15.775Z"
   },
   {
    "duration": 34750,
    "start_time": "2023-05-13T01:44:16.548Z"
   },
   {
    "duration": 3,
    "start_time": "2023-05-13T01:44:51.300Z"
   },
   {
    "duration": 180,
    "start_time": "2023-05-13T01:44:51.304Z"
   },
   {
    "duration": 156,
    "start_time": "2023-05-13T01:44:51.486Z"
   },
   {
    "duration": 13192,
    "start_time": "2023-05-13T01:44:51.657Z"
   },
   {
    "duration": 35,
    "start_time": "2023-05-13T01:45:04.858Z"
   },
   {
    "duration": 15108,
    "start_time": "2023-05-13T01:45:04.895Z"
   },
   {
    "duration": 8,
    "start_time": "2023-05-13T01:45:20.005Z"
   },
   {
    "duration": 43,
    "start_time": "2023-05-13T01:45:20.014Z"
   },
   {
    "duration": 15,
    "start_time": "2023-05-13T01:45:20.059Z"
   },
   {
    "duration": 19,
    "start_time": "2023-05-13T01:45:20.076Z"
   },
   {
    "duration": 69,
    "start_time": "2023-05-13T01:45:20.097Z"
   },
   {
    "duration": 3,
    "start_time": "2023-05-13T01:45:20.168Z"
   },
   {
    "duration": 42,
    "start_time": "2023-05-13T01:45:20.172Z"
   },
   {
    "duration": 4,
    "start_time": "2023-05-13T01:45:20.215Z"
   },
   {
    "duration": 12,
    "start_time": "2023-05-13T01:45:20.221Z"
   },
   {
    "duration": 10633,
    "start_time": "2023-05-13T01:45:20.235Z"
   },
   {
    "duration": 89,
    "start_time": "2023-05-13T01:45:30.870Z"
   },
   {
    "duration": 18,
    "start_time": "2023-05-13T01:45:30.961Z"
   },
   {
    "duration": 80,
    "start_time": "2023-05-13T01:45:30.980Z"
   },
   {
    "duration": 3,
    "start_time": "2023-05-13T01:45:31.062Z"
   },
   {
    "duration": 439,
    "start_time": "2023-05-13T01:45:31.066Z"
   },
   {
    "duration": 2,
    "start_time": "2023-05-13T01:45:31.507Z"
   },
   {
    "duration": 18089,
    "start_time": "2023-05-13T01:45:31.513Z"
   },
   {
    "duration": 16,
    "start_time": "2023-05-13T01:45:49.603Z"
   },
   {
    "duration": 6,
    "start_time": "2023-05-13T01:45:49.620Z"
   },
   {
    "duration": 7,
    "start_time": "2023-05-13T01:45:49.628Z"
   },
   {
    "duration": 26,
    "start_time": "2023-05-13T01:45:49.637Z"
   },
   {
    "duration": 95,
    "start_time": "2023-05-13T01:45:49.665Z"
   },
   {
    "duration": 0,
    "start_time": "2023-05-13T01:45:49.762Z"
   },
   {
    "duration": 0,
    "start_time": "2023-05-13T01:45:49.763Z"
   },
   {
    "duration": 6,
    "start_time": "2023-05-13T06:03:01.997Z"
   },
   {
    "duration": 4,
    "start_time": "2023-05-13T06:03:03.807Z"
   },
   {
    "duration": 2217,
    "start_time": "2023-05-13T06:06:17.576Z"
   },
   {
    "duration": 1962,
    "start_time": "2023-05-13T06:06:19.797Z"
   },
   {
    "duration": 1841,
    "start_time": "2023-05-13T06:06:21.761Z"
   },
   {
    "duration": 835,
    "start_time": "2023-05-13T06:06:23.604Z"
   },
   {
    "duration": 34969,
    "start_time": "2023-05-13T06:06:24.441Z"
   },
   {
    "duration": 4,
    "start_time": "2023-05-13T06:06:59.412Z"
   },
   {
    "duration": 170,
    "start_time": "2023-05-13T06:06:59.418Z"
   },
   {
    "duration": 180,
    "start_time": "2023-05-13T06:06:59.590Z"
   },
   {
    "duration": 13612,
    "start_time": "2023-05-13T06:06:59.772Z"
   },
   {
    "duration": 84,
    "start_time": "2023-05-13T06:07:13.386Z"
   },
   {
    "duration": 32740,
    "start_time": "2023-05-13T06:07:13.472Z"
   },
   {
    "duration": 146,
    "start_time": "2023-05-13T06:07:46.214Z"
   },
   {
    "duration": 27,
    "start_time": "2023-05-13T06:07:46.362Z"
   },
   {
    "duration": 83,
    "start_time": "2023-05-13T06:07:46.392Z"
   },
   {
    "duration": 3,
    "start_time": "2023-05-13T06:07:46.477Z"
   },
   {
    "duration": 182,
    "start_time": "2023-05-13T06:07:46.481Z"
   },
   {
    "duration": 3,
    "start_time": "2023-05-13T06:07:46.664Z"
   },
   {
    "duration": 73,
    "start_time": "2023-05-13T06:07:46.669Z"
   },
   {
    "duration": 16,
    "start_time": "2023-05-13T06:07:46.743Z"
   },
   {
    "duration": 8,
    "start_time": "2023-05-13T06:07:46.760Z"
   },
   {
    "duration": 61302,
    "start_time": "2023-05-13T06:07:46.770Z"
   },
   {
    "duration": 109,
    "start_time": "2023-05-13T06:08:48.074Z"
   },
   {
    "duration": 4,
    "start_time": "2023-05-13T06:08:48.185Z"
   },
   {
    "duration": 1477,
    "start_time": "2023-05-13T06:08:48.191Z"
   },
   {
    "duration": 2,
    "start_time": "2023-05-13T06:08:49.670Z"
   },
   {
    "duration": 14253,
    "start_time": "2023-05-13T06:08:49.673Z"
   },
   {
    "duration": 4,
    "start_time": "2023-05-13T06:09:03.928Z"
   },
   {
    "duration": 823710,
    "start_time": "2023-05-13T06:09:03.934Z"
   },
   {
    "duration": 20,
    "start_time": "2023-05-13T06:22:47.645Z"
   },
   {
    "duration": 7,
    "start_time": "2023-05-13T06:22:47.666Z"
   },
   {
    "duration": 7,
    "start_time": "2023-05-13T06:22:47.674Z"
   },
   {
    "duration": 29,
    "start_time": "2023-05-13T06:22:47.682Z"
   },
   {
    "duration": 5,
    "start_time": "2023-05-13T06:22:47.713Z"
   },
   {
    "duration": 5,
    "start_time": "2023-05-13T06:22:47.719Z"
   },
   {
    "duration": 2076,
    "start_time": "2023-05-13T06:52:56.504Z"
   },
   {
    "duration": 1942,
    "start_time": "2023-05-13T06:52:58.582Z"
   },
   {
    "duration": 1769,
    "start_time": "2023-05-13T06:53:00.526Z"
   },
   {
    "duration": 770,
    "start_time": "2023-05-13T06:53:02.296Z"
   },
   {
    "duration": 34936,
    "start_time": "2023-05-13T06:53:03.068Z"
   },
   {
    "duration": 3,
    "start_time": "2023-05-13T06:53:38.006Z"
   },
   {
    "duration": 177,
    "start_time": "2023-05-13T06:53:38.011Z"
   },
   {
    "duration": 179,
    "start_time": "2023-05-13T06:53:38.190Z"
   },
   {
    "duration": 13856,
    "start_time": "2023-05-13T06:53:38.371Z"
   },
   {
    "duration": 86,
    "start_time": "2023-05-13T06:53:52.229Z"
   },
   {
    "duration": 81,
    "start_time": "2023-05-13T06:53:52.317Z"
   },
   {
    "duration": 39,
    "start_time": "2023-05-13T06:53:52.400Z"
   },
   {
    "duration": 57,
    "start_time": "2023-05-13T06:53:52.441Z"
   },
   {
    "duration": 3,
    "start_time": "2023-05-13T06:53:52.499Z"
   },
   {
    "duration": 172,
    "start_time": "2023-05-13T06:53:52.504Z"
   },
   {
    "duration": 3,
    "start_time": "2023-05-13T06:53:52.678Z"
   },
   {
    "duration": 2187,
    "start_time": "2023-05-13T06:54:50.508Z"
   },
   {
    "duration": 1970,
    "start_time": "2023-05-13T06:54:52.698Z"
   },
   {
    "duration": 1831,
    "start_time": "2023-05-13T06:54:54.670Z"
   },
   {
    "duration": 794,
    "start_time": "2023-05-13T06:54:56.503Z"
   },
   {
    "duration": 35058,
    "start_time": "2023-05-13T06:54:57.299Z"
   },
   {
    "duration": 3,
    "start_time": "2023-05-13T06:55:32.359Z"
   },
   {
    "duration": 201,
    "start_time": "2023-05-13T06:55:32.364Z"
   },
   {
    "duration": 165,
    "start_time": "2023-05-13T06:55:32.566Z"
   },
   {
    "duration": 13714,
    "start_time": "2023-05-13T06:55:32.733Z"
   },
   {
    "duration": 76,
    "start_time": "2023-05-13T06:55:46.449Z"
   },
   {
    "duration": 88,
    "start_time": "2023-05-13T06:55:46.526Z"
   },
   {
    "duration": 51,
    "start_time": "2023-05-13T06:55:46.616Z"
   },
   {
    "duration": 48,
    "start_time": "2023-05-13T06:55:46.668Z"
   },
   {
    "duration": 14,
    "start_time": "2023-05-13T06:55:46.720Z"
   },
   {
    "duration": 163,
    "start_time": "2023-05-13T06:55:46.736Z"
   },
   {
    "duration": 3,
    "start_time": "2023-05-13T06:55:46.901Z"
   },
   {
    "duration": 5,
    "start_time": "2023-05-13T06:55:46.906Z"
   },
   {
    "duration": 84,
    "start_time": "2023-05-13T06:55:46.912Z"
   },
   {
    "duration": 4,
    "start_time": "2023-05-13T06:55:46.997Z"
   },
   {
    "duration": 5,
    "start_time": "2023-05-13T06:55:47.002Z"
   },
   {
    "duration": 63465,
    "start_time": "2023-05-13T06:55:47.009Z"
   },
   {
    "duration": 110,
    "start_time": "2023-05-13T06:56:50.475Z"
   },
   {
    "duration": 4,
    "start_time": "2023-05-13T06:56:50.586Z"
   },
   {
    "duration": 1402,
    "start_time": "2023-05-13T06:56:50.591Z"
   },
   {
    "duration": 3,
    "start_time": "2023-05-13T06:56:51.995Z"
   },
   {
    "duration": 14267,
    "start_time": "2023-05-13T06:56:51.999Z"
   },
   {
    "duration": 3,
    "start_time": "2023-05-13T06:57:06.267Z"
   },
   {
    "duration": 825266,
    "start_time": "2023-05-13T06:57:06.271Z"
   },
   {
    "duration": 22,
    "start_time": "2023-05-13T07:10:51.539Z"
   },
   {
    "duration": 6,
    "start_time": "2023-05-13T07:10:51.563Z"
   },
   {
    "duration": 10,
    "start_time": "2023-05-13T07:10:51.570Z"
   },
   {
    "duration": 24,
    "start_time": "2023-05-13T07:10:51.581Z"
   },
   {
    "duration": 5,
    "start_time": "2023-05-13T07:10:51.607Z"
   },
   {
    "duration": 31,
    "start_time": "2023-05-13T07:10:51.613Z"
   },
   {
    "duration": 1343,
    "start_time": "2023-06-01T22:58:22.560Z"
   },
   {
    "duration": 0,
    "start_time": "2023-06-01T22:58:23.905Z"
   },
   {
    "duration": 0,
    "start_time": "2023-06-01T22:58:23.906Z"
   },
   {
    "duration": 9,
    "start_time": "2023-06-01T22:58:25.040Z"
   },
   {
    "duration": 9,
    "start_time": "2023-06-01T22:58:25.580Z"
   },
   {
    "duration": 10,
    "start_time": "2023-06-01T22:58:35.560Z"
   },
   {
    "duration": 15250,
    "start_time": "2023-06-01T22:58:43.620Z"
   },
   {
    "duration": 1974,
    "start_time": "2023-06-01T22:58:58.873Z"
   },
   {
    "duration": 1125,
    "start_time": "2023-06-01T22:59:00.849Z"
   },
   {
    "duration": 2827,
    "start_time": "2023-06-01T22:59:01.977Z"
   },
   {
    "duration": 28356,
    "start_time": "2023-06-01T22:59:04.806Z"
   },
   {
    "duration": 3,
    "start_time": "2023-06-01T22:59:33.163Z"
   },
   {
    "duration": 115,
    "start_time": "2023-06-01T22:59:33.168Z"
   },
   {
    "duration": 131,
    "start_time": "2023-06-01T22:59:33.286Z"
   },
   {
    "duration": 14216,
    "start_time": "2023-06-01T22:59:33.418Z"
   },
   {
    "duration": 92,
    "start_time": "2023-06-01T22:59:47.635Z"
   },
   {
    "duration": 83,
    "start_time": "2023-06-01T22:59:47.729Z"
   },
   {
    "duration": 53,
    "start_time": "2023-06-01T22:59:47.814Z"
   },
   {
    "duration": 48,
    "start_time": "2023-06-01T22:59:47.868Z"
   },
   {
    "duration": 3,
    "start_time": "2023-06-01T22:59:47.917Z"
   },
   {
    "duration": 177,
    "start_time": "2023-06-01T22:59:47.922Z"
   },
   {
    "duration": 3,
    "start_time": "2023-06-01T22:59:48.101Z"
   },
   {
    "duration": 7,
    "start_time": "2023-06-01T22:59:48.106Z"
   },
   {
    "duration": 6,
    "start_time": "2023-06-01T22:59:48.114Z"
   },
   {
    "duration": 2135,
    "start_time": "2023-06-03T01:30:39.999Z"
   },
   {
    "duration": 4,
    "start_time": "2023-06-03T01:30:47.579Z"
   },
   {
    "duration": 765,
    "start_time": "2023-06-03T01:30:48.089Z"
   },
   {
    "duration": 26502,
    "start_time": "2023-06-03T01:30:48.857Z"
   },
   {
    "duration": 2034,
    "start_time": "2023-06-03T01:39:32.630Z"
   },
   {
    "duration": 4,
    "start_time": "2023-06-03T01:39:35.988Z"
   },
   {
    "duration": 699,
    "start_time": "2023-06-03T01:39:39.338Z"
   },
   {
    "duration": 26090,
    "start_time": "2023-06-03T01:39:40.308Z"
   }
  ],
  "kernelspec": {
   "display_name": "Python 3 (ipykernel)",
   "language": "python",
   "name": "python3"
  },
  "language_info": {
   "codemirror_mode": {
    "name": "ipython",
    "version": 3
   },
   "file_extension": ".py",
   "mimetype": "text/x-python",
   "name": "python",
   "nbconvert_exporter": "python",
   "pygments_lexer": "ipython3",
   "version": "3.11.4"
  },
  "toc": {
   "base_numbering": 1,
   "nav_menu": {},
   "number_sections": true,
   "sideBar": true,
   "skip_h1_title": true,
   "title_cell": "Table of Contents",
   "title_sidebar": "Contents",
   "toc_cell": false,
   "toc_position": {
    "height": "calc(100% - 180px)",
    "left": "10px",
    "top": "150px",
    "width": "288px"
   },
   "toc_section_display": true,
   "toc_window_display": true
  }
 },
 "nbformat": 4,
 "nbformat_minor": 2
}
