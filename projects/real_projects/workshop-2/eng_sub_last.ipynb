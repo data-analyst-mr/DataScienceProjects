{
 "cells": [
  {
   "cell_type": "markdown",
   "id": "1994fa35",
   "metadata": {},
   "source": [
    "Автор: Шестаков Михаил Сергеевич  \n",
    "Telegram: https://t.me/mshestakov1  \n",
    "email: mikhail-shestakov-2022@bk.ru"
   ]
  },
  {
   "cell_type": "markdown",
   "id": "44f855d0",
   "metadata": {},
   "source": [
    "# Определение уровня сложности англоязычных фильмов"
   ]
  },
  {
   "cell_type": "markdown",
   "id": "1fdb35a4",
   "metadata": {},
   "source": [
    "**Содержание:**  \n",
    "1. [Импорт данных и общая информация](#section_1)  \n",
    " 1.1. [Импорт библиотек](#section_1_1)  \n",
    " 1.2. [Загрузка данных](#section_1_2)  \n",
    " 1.3. [Общая информация](#section_1_3)  \n",
    "    \n",
    "    \n",
    "2. [Предобработка данных](#section_2)  \n",
    " 2.1. [Названия признаков](#section_2_1)  \n",
    " 2.2. [Дубликаты](#section_2_2)  \n",
    " 2.3. [Уровни английского языка](#section_2_3)  \n",
    " 2.4. [Объединение датафреймов](#section_2_4)  \n",
    " 2.5. [Обработка субтитров](#section_2_5)  \n",
    " \n",
    "3. [Расчёт дополнительных признаков](#section_3)  \n",
    " 3.1. [Признаки оценок качества текста субтитров](#section_3_1)  \n",
    " 3.2. [Доли слов различного уровня](#section_3_2)  \n",
    " 3.3. [Доли слов по частям речи](#section_3_3)  \n",
    "\n",
    "4. [Обучение нейросети](#section_4)  \n",
    " 4.1. [Разделение выборки на обучающую и тестовую](#section_4_1)  \n",
    " 4.2. [Балансировка классов](#section_4_2)  \n",
    " 4.3. [Векторизация текста](#section_4_3)  \n",
    " 4.3. [Обучение](#section_4_4)  \n",
    "\n",
    "5. [Оценка качества модели](#section_5)  \n",
    " 5.1. [Оценка на тестовой выборке](#section_5_1)  \n",
    " 5.2. [Матрица ошибок](#section_5_2) \n",
    "\n",
    "6. [Общий вывод](#section_6)  "
   ]
  },
  {
   "cell_type": "markdown",
   "id": "fd36cbaf",
   "metadata": {},
   "source": [
    "**Цель исследования:** построить модель оценки уровня сложности фильмов на основе субтитров для изучения английского языка.  \n",
    "**Инструменты:** для реализации проекта использованы модели CatBoostClassifier, LogisticRegression и RandomForestRegressor.  \n",
    "\n",
    "**Особенности проекта:** \n",
    "Качество модели оценивается метрикой balanced accuracy.\n",
    "\n",
    "**Исходные данные:**  \n",
    "Исходные данные представлены в датасете в репозитории GitGub.\n",
    "В датасете содержатся следующие признаки:  \n",
    "\n",
    "- Movie — название фильма;\n",
    "- Level — уровень знания языка;\n",
    "\n",
    "В репозитории на GitGub представлены субтитры к соответствующим файлам."
   ]
  },
  {
   "cell_type": "markdown",
   "id": "621d8651",
   "metadata": {},
   "source": [
    "## Импорт библиотек общая информация\n",
    "<a id=\"section_1\"></a>"
   ]
  },
  {
   "cell_type": "markdown",
   "id": "757e4390",
   "metadata": {},
   "source": [
    "### Импорт библиотек\n",
    "<a id=\"section_1_1\"></a>"
   ]
  },
  {
   "cell_type": "code",
   "execution_count": 1,
   "id": "5c41b624",
   "metadata": {},
   "outputs": [
    {
     "name": "stdout",
     "output_type": "stream",
     "text": [
      "WARNING:tensorflow:From C:\\Users\\bond_\\anaconda3\\Lib\\site-packages\\keras\\src\\losses.py:2976: The name tf.losses.sparse_softmax_cross_entropy is deprecated. Please use tf.compat.v1.losses.sparse_softmax_cross_entropy instead.\n",
      "\n"
     ]
    }
   ],
   "source": [
    "import chardet\n",
    "import difflib\n",
    "import fitz\n",
    "import numpy as np\n",
    "import optuna\n",
    "import pandas as pd\n",
    "import pathlib\n",
    "import pysrt\n",
    "import re\n",
    "import spacy\n",
    "import swifter\n",
    "import textstat\n",
    "import torch\n",
    "import transformers as ppb\n",
    "\n",
    "from imblearn.pipeline import make_pipeline, Pipeline\n",
    "from nltk.tokenize import sent_tokenize\n",
    "from optuna.distributions import CategoricalDistribution as catd\n",
    "from optuna.distributions import FloatDistribution as floatd\n",
    "from optuna.distributions import IntDistribution as intd\n",
    "from optuna.integration import OptunaSearchCV\n",
    "from os import listdir, walk\n",
    "from os.path import isfile, join\n",
    "from sklearn import metrics\n",
    "from sklearn.base import BaseEstimator, TransformerMixin\n",
    "from sklearn.metrics import f1_score\n",
    "from sklearn.model_selection import StratifiedKFold\n",
    "from sklearn.model_selection import train_test_split\n",
    "from sklearn.preprocessing import OrdinalEncoder\n",
    "from sklearn.preprocessing import StandardScaler\n",
    "from sklearn.utils import class_weight\n",
    "from skorch import NeuralNetClassifier\n",
    "from skorch.callbacks import EarlyStopping\n",
    "from torch import nn\n",
    "from torch import tensor\n",
    "from tqdm import notebook"
   ]
  },
  {
   "cell_type": "markdown",
   "id": "c8be4040",
   "metadata": {},
   "source": [
    "### Загрузка данных\n",
    "<a id=\"section_1_2\"></a>"
   ]
  },
  {
   "cell_type": "markdown",
   "id": "5a045caf",
   "metadata": {},
   "source": [
    "Загружаем датасет, содержащий названия фильмов и соответствующих им уровней английского языка:"
   ]
  },
  {
   "cell_type": "code",
   "execution_count": 2,
   "id": "d2cf45fb",
   "metadata": {},
   "outputs": [],
   "source": [
    "df = pd.read_excel(\"./data/English_level/English_scores/movies_labels.xlsx\")"
   ]
  },
  {
   "cell_type": "markdown",
   "id": "94a3e599",
   "metadata": {},
   "source": [
    "Получаем пути к файлам с субтитрами:"
   ]
  },
  {
   "cell_type": "code",
   "execution_count": 3,
   "id": "f952ddda",
   "metadata": {},
   "outputs": [],
   "source": [
    "filenames_path = \"./data/English_level/English_scores/Subtitles_all\"\n",
    "filenames = next(walk(filenames_path), ([], [], []))"
   ]
  },
  {
   "cell_type": "markdown",
   "id": "c8b2f7ed",
   "metadata": {},
   "source": [
    "Загружаем словари \"The Oxford 5000™ by CEFR level (American English)\" и \"The Oxford 5000™ by CEFR level\" (соответствие слов уровням знания английского языка):"
   ]
  },
  {
   "cell_type": "code",
   "execution_count": 4,
   "id": "7e54eab7",
   "metadata": {},
   "outputs": [],
   "source": [
    "level_path = './data/English_level/Oxford_CEFR_level'\n",
    "files_level_list = [filepath for filepath in pathlib.Path(level_path).glob('**/*.pdf')]"
   ]
  },
  {
   "cell_type": "code",
   "execution_count": 5,
   "id": "1220a458",
   "metadata": {},
   "outputs": [],
   "source": [
    "text = []\n",
    "current_level = None\n",
    "words_by_level = {'A1' : [], 'A2' : [], 'B1' : [], 'B2' : [], 'C1' : []}\n",
    "exclude_words = {'prep.', 'adv.', 'n.', 'adj.', 'v.', 'det.', 'conj.', 'indefinite', 'pron.',\n",
    "                'auxiliary', 'modal', 'modal', 'det./pron./adv.', 'det./adj.', 'det./number',\n",
    "                'number/det.', 'adj./pron.', 'adv./prep.', 'det./', 'conj./prep.', '©'}\n",
    "for path in files_level_list:\n",
    "    doc = fitz.open(path)\n",
    "    for page in doc:\n",
    "        blocks = page.get_text('dict')['blocks']\n",
    "        for block in blocks:\n",
    "            if 'lines' in block:\n",
    "                for line in block['lines']:\n",
    "                    for span in line['spans']:\n",
    "                        text = span['text']\n",
    "                        if text in ['A1', 'A2', 'B1', 'B2', 'C1']:\n",
    "                            current_level = text\n",
    "                        elif current_level:\n",
    "                            try:\n",
    "                                word = text.split()[0]\n",
    "                            except:\n",
    "                                pass\n",
    "                            word = word.strip(' ,\\'\"')\n",
    "                            word = re.sub(r'\\d+$', '', word)\n",
    "                            if word and word not in exclude_words and not word.startswith('('):\n",
    "                                words_by_level[current_level].append(word)\n",
    "words_by_level[current_level] = list(set(words_by_level[current_level]))\n",
    "data = {'A1': words_by_level['A1'], 'A2': words_by_level['A2'], 'B1': words_by_level['B1'],\n",
    "        'B2': words_by_level['B2'], 'C1': words_by_level['C1']}\n",
    "word_level = pd.DataFrame.from_dict(data, orient='index').T\n",
    "word_level.columns = map(str.lower, word_level.columns)"
   ]
  },
  {
   "cell_type": "markdown",
   "id": "1dc7f13a",
   "metadata": {},
   "source": [
    "### Общая информация\n",
    "<a id=\"section_1_3\"></a>"
   ]
  },
  {
   "cell_type": "markdown",
   "id": "68c7759b",
   "metadata": {},
   "source": [
    "Общая информация по датафрейму, содержащему названия фильмов и соответствующих им уровней английского языка:"
   ]
  },
  {
   "cell_type": "code",
   "execution_count": 6,
   "id": "c5f4daa0",
   "metadata": {
    "scrolled": true
   },
   "outputs": [
    {
     "name": "stdout",
     "output_type": "stream",
     "text": [
      "Размер датафрейма:\n",
      "(241, 3)\n",
      "__________________________________________________\n",
      "\n",
      "Общая информация о датафрейме:\n",
      "<class 'pandas.core.frame.DataFrame'>\n",
      "RangeIndex: 241 entries, 0 to 240\n",
      "Data columns (total 3 columns):\n",
      " #   Column  Non-Null Count  Dtype \n",
      "---  ------  --------------  ----- \n",
      " 0   id      241 non-null    int64 \n",
      " 1   Movie   241 non-null    object\n",
      " 2   Level   241 non-null    object\n",
      "dtypes: int64(1), object(2)\n",
      "memory usage: 36.2 KB\n",
      "None\n",
      "__________________________________________________\n",
      "\n",
      "Несколько строк датафрейма:\n"
     ]
    },
    {
     "data": {
      "text/html": [
       "<div>\n",
       "<style scoped>\n",
       "    .dataframe tbody tr th:only-of-type {\n",
       "        vertical-align: middle;\n",
       "    }\n",
       "\n",
       "    .dataframe tbody tr th {\n",
       "        vertical-align: top;\n",
       "    }\n",
       "\n",
       "    .dataframe thead th {\n",
       "        text-align: right;\n",
       "    }\n",
       "</style>\n",
       "<table border=\"1\" class=\"dataframe\">\n",
       "  <thead>\n",
       "    <tr style=\"text-align: right;\">\n",
       "      <th></th>\n",
       "      <th>id</th>\n",
       "      <th>Movie</th>\n",
       "      <th>Level</th>\n",
       "    </tr>\n",
       "  </thead>\n",
       "  <tbody>\n",
       "    <tr>\n",
       "      <th>109</th>\n",
       "      <td>109</td>\n",
       "      <td>We_are_the_Millers(2013)</td>\n",
       "      <td>B1</td>\n",
       "    </tr>\n",
       "    <tr>\n",
       "      <th>71</th>\n",
       "      <td>71</td>\n",
       "      <td>Ready_or_not(2019)</td>\n",
       "      <td>A2/A2+</td>\n",
       "    </tr>\n",
       "    <tr>\n",
       "      <th>37</th>\n",
       "      <td>37</td>\n",
       "      <td>Groundhog_day(1993)</td>\n",
       "      <td>B1</td>\n",
       "    </tr>\n",
       "    <tr>\n",
       "      <th>74</th>\n",
       "      <td>74</td>\n",
       "      <td>Soul(2020)</td>\n",
       "      <td>B1</td>\n",
       "    </tr>\n",
       "    <tr>\n",
       "      <th>108</th>\n",
       "      <td>108</td>\n",
       "      <td>Warm_bodies(2013)</td>\n",
       "      <td>B1</td>\n",
       "    </tr>\n",
       "  </tbody>\n",
       "</table>\n",
       "</div>"
      ],
      "text/plain": [
       "      id                     Movie   Level\n",
       "109  109  We_are_the_Millers(2013)      B1\n",
       "71    71        Ready_or_not(2019)  A2/A2+\n",
       "37    37       Groundhog_day(1993)      B1\n",
       "74    74                Soul(2020)      B1\n",
       "108  108         Warm_bodies(2013)      B1"
      ]
     },
     "metadata": {},
     "output_type": "display_data"
    },
    {
     "name": "stdout",
     "output_type": "stream",
     "text": [
      "__________________________________________________\n",
      "\n",
      "Количество дубликатов:\n",
      "4\n",
      "__________________________________________________\n",
      "\n",
      "Описательная статистика строковых значений:\n"
     ]
    },
    {
     "data": {
      "text/html": [
       "<div>\n",
       "<style scoped>\n",
       "    .dataframe tbody tr th:only-of-type {\n",
       "        vertical-align: middle;\n",
       "    }\n",
       "\n",
       "    .dataframe tbody tr th {\n",
       "        vertical-align: top;\n",
       "    }\n",
       "\n",
       "    .dataframe thead th {\n",
       "        text-align: right;\n",
       "    }\n",
       "</style>\n",
       "<table border=\"1\" class=\"dataframe\">\n",
       "  <thead>\n",
       "    <tr style=\"text-align: right;\">\n",
       "      <th></th>\n",
       "      <th>count</th>\n",
       "      <th>unique</th>\n",
       "      <th>top</th>\n",
       "      <th>freq</th>\n",
       "    </tr>\n",
       "  </thead>\n",
       "  <tbody>\n",
       "    <tr>\n",
       "      <th>Movie</th>\n",
       "      <td>241</td>\n",
       "      <td>237</td>\n",
       "      <td>Powder(1995)</td>\n",
       "      <td>2</td>\n",
       "    </tr>\n",
       "    <tr>\n",
       "      <th>Level</th>\n",
       "      <td>241</td>\n",
       "      <td>7</td>\n",
       "      <td>B2</td>\n",
       "      <td>101</td>\n",
       "    </tr>\n",
       "  </tbody>\n",
       "</table>\n",
       "</div>"
      ],
      "text/plain": [
       "      count unique           top freq\n",
       "Movie   241    237  Powder(1995)    2\n",
       "Level   241      7            B2  101"
      ]
     },
     "metadata": {},
     "output_type": "display_data"
    },
    {
     "name": "stdout",
     "output_type": "stream",
     "text": [
      "_____\n",
      "Описательная статистика числовых значений:\n"
     ]
    },
    {
     "data": {
      "text/html": [
       "<div>\n",
       "<style scoped>\n",
       "    .dataframe tbody tr th:only-of-type {\n",
       "        vertical-align: middle;\n",
       "    }\n",
       "\n",
       "    .dataframe tbody tr th {\n",
       "        vertical-align: top;\n",
       "    }\n",
       "\n",
       "    .dataframe thead th {\n",
       "        text-align: right;\n",
       "    }\n",
       "</style>\n",
       "<table border=\"1\" class=\"dataframe\">\n",
       "  <thead>\n",
       "    <tr style=\"text-align: right;\">\n",
       "      <th></th>\n",
       "      <th>count</th>\n",
       "      <th>mean</th>\n",
       "      <th>std</th>\n",
       "      <th>min</th>\n",
       "      <th>25%</th>\n",
       "      <th>50%</th>\n",
       "      <th>75%</th>\n",
       "      <th>max</th>\n",
       "    </tr>\n",
       "  </thead>\n",
       "  <tbody>\n",
       "    <tr>\n",
       "      <th>id</th>\n",
       "      <td>241.0</td>\n",
       "      <td>120.0</td>\n",
       "      <td>69.714896</td>\n",
       "      <td>0.0</td>\n",
       "      <td>60.0</td>\n",
       "      <td>120.0</td>\n",
       "      <td>180.0</td>\n",
       "      <td>240.0</td>\n",
       "    </tr>\n",
       "  </tbody>\n",
       "</table>\n",
       "</div>"
      ],
      "text/plain": [
       "    count   mean        std  min   25%    50%    75%    max\n",
       "id  241.0  120.0  69.714896  0.0  60.0  120.0  180.0  240.0"
      ]
     },
     "metadata": {},
     "output_type": "display_data"
    },
    {
     "name": "stdout",
     "output_type": "stream",
     "text": [
      "__________________________________________________\n",
      "\n",
      "Количество пропусков:\n",
      "id       0\n",
      "Movie    0\n",
      "Level    0\n",
      "dtype: int64\n",
      "\n",
      "Количество пропусков в процентах:\n",
      "id       0.0\n",
      "Movie    0.0\n",
      "Level    0.0\n",
      "dtype: float64\n"
     ]
    }
   ],
   "source": [
    "print('Размер датафрейма:')\n",
    "print(df.shape)\n",
    "print('_' * 50)\n",
    "print()\n",
    "print('Общая информация о датафрейме:')\n",
    "print(df.info(memory_usage='deep'))\n",
    "print('_' * 50)\n",
    "print()\n",
    "print('Несколько строк датафрейма:')\n",
    "display(df.sample(random_state=0, n=5))\n",
    "print('_' * 50)\n",
    "print()\n",
    "print('Количество дубликатов:')\n",
    "print(df['Movie'].duplicated().sum())\n",
    "print('_' * 50)  \n",
    "print()\n",
    "print('Описательная статистика строковых значений:')\n",
    "display(df.describe(include='object').T)\n",
    "print('_' * 5)\n",
    "print('Описательная статистика числовых значений:')\n",
    "display(df.describe().T)\n",
    "print('_' * 50)\n",
    "print()\n",
    "print('Количество пропусков:')\n",
    "print(df.isna().sum())\n",
    "print()\n",
    "print('Количество пропусков в процентах:')\n",
    "print(df.isna().mean()*100)  "
   ]
  },
  {
   "cell_type": "markdown",
   "id": "69fc93b3",
   "metadata": {},
   "source": [
    "Общая информация по датафрейму, содержащему данные словарей \"The Oxford 5000™ by CEFR level (American English)\" и \"The Oxford 5000™ by CEFR level\" (соответствие слов уровням знания английского языка):"
   ]
  },
  {
   "cell_type": "code",
   "execution_count": 7,
   "id": "2ab060b0",
   "metadata": {
    "scrolled": true
   },
   "outputs": [
    {
     "name": "stdout",
     "output_type": "stream",
     "text": [
      "<class 'pandas.core.frame.DataFrame'>\n",
      "RangeIndex: 2881 entries, 0 to 2880\n",
      "Data columns (total 5 columns):\n",
      " #   Column  Non-Null Count  Dtype \n",
      "---  ------  --------------  ----- \n",
      " 0   a1      1923 non-null   object\n",
      " 1   a2      1781 non-null   object\n",
      " 2   b1      1630 non-null   object\n",
      " 3   b2      2881 non-null   object\n",
      " 4   c1      1369 non-null   object\n",
      "dtypes: object(5)\n",
      "memory usage: 112.7+ KB\n"
     ]
    }
   ],
   "source": [
    "word_level.info()"
   ]
  },
  {
   "cell_type": "markdown",
   "id": "c8fcbcdb",
   "metadata": {},
   "source": [
    "**Вывод:**  \n",
    "1. Загружены данные по названиям фильмов и соответствующих им уровней английского языка. Датафрейм состоит из 241-го наблюдения и 3-х признаков:\n",
    "- \"id\" - идентификатор фильма (формат данных - int64);\n",
    "- \"Movie\" - название фильма  (формат данных - object);\n",
    "- \"Level\" - соответствующий уровень английского языка (формат данных - object).  \n",
    "\n",
    "  Количество уникальных значений:\n",
    "- \"Movie\" - 237;\n",
    "- \"Level\" - 7.\n",
    "\n",
    "\n",
    "  В датафрейме присутствуют 4 дубликата. Пропуски отсутствуют.  \n",
    "\n",
    "2. Загружены данные из словарей \"The Oxford 5000™ by CEFR level (American English)\" и \"The Oxford 5000™ by CEFR level\" (соответствие слов уровням знания английского языка). Датафрейм состоит из 2881 строк и 5 признаков:\n",
    "- \"a1\" - 1923 слова;\n",
    "- \"a2\" - 1781 слово;\n",
    "- \"b1\" - 1630 слов;\n",
    "- \"b2\" - 2881 слово;\n",
    "- \"c1\" - 1369 слов."
   ]
  },
  {
   "cell_type": "markdown",
   "id": "c1a59493",
   "metadata": {},
   "source": [
    "## Предобработка данных\n",
    "<a id=\"section_2\"></a>"
   ]
  },
  {
   "cell_type": "markdown",
   "id": "34817291",
   "metadata": {},
   "source": [
    "Создаем функцию вывода информации по датафрейму после промежуточных преобразований:"
   ]
  },
  {
   "cell_type": "code",
   "execution_count": 9,
   "id": "6f565370",
   "metadata": {},
   "outputs": [],
   "source": [
    "def dataframe_info(df_info):\n",
    "    print('Общая информация о датафрейме:')\n",
    "    print(df.info(memory_usage='deep'))\n",
    "    print('_' * 50)\n",
    "    print()\n",
    "    print('Несколько строк датафрейма:')\n",
    "    display(df_info.sample(random_state=0, n=5))\n",
    "    print('_' * 50)\n",
    "    print()\n",
    "    print('Описательная статистика строковых значений:')\n",
    "    display(df.describe(include='object').T)\n",
    "    print('_' * 5)\n",
    "    print('Описательная статистика числовых значений:')\n",
    "    display(df.describe().T)\n",
    "    print('_' * 50)\n",
    "    print()"
   ]
  },
  {
   "cell_type": "markdown",
   "id": "aacf69e9",
   "metadata": {},
   "source": [
    "### Названия признаков\n",
    "<a id=\"section_2_1\"></a>"
   ]
  },
  {
   "cell_type": "markdown",
   "id": "cb3f7dcd",
   "metadata": {},
   "source": [
    "Переводим \"верблюжий\" регистр названий столбцов в \"змеиный\":"
   ]
  },
  {
   "cell_type": "code",
   "execution_count": 10,
   "id": "ae1f4d5f",
   "metadata": {},
   "outputs": [],
   "source": [
    "def camel_to_snake(str):\n",
    "    snake_register = ''\n",
    "    for i in str:\n",
    "        if i.isupper():\n",
    "            snake_register += '_' + i.lower()\n",
    "        else:\n",
    "            snake_register += i\n",
    "    return snake_register.lstrip('_')"
   ]
  },
  {
   "cell_type": "code",
   "execution_count": 11,
   "id": "5e875790",
   "metadata": {},
   "outputs": [],
   "source": [
    "for column in df.columns:\n",
    "    column_new = camel_to_snake(column)\n",
    "    df = df.rename(columns={column : column_new})"
   ]
  },
  {
   "cell_type": "markdown",
   "id": "583cd61f",
   "metadata": {},
   "source": [
    "Выводим информацию по датафрейму:"
   ]
  },
  {
   "cell_type": "code",
   "execution_count": 12,
   "id": "57c12d7d",
   "metadata": {
    "scrolled": true
   },
   "outputs": [
    {
     "name": "stdout",
     "output_type": "stream",
     "text": [
      "Общая информация о датафрейме:\n",
      "<class 'pandas.core.frame.DataFrame'>\n",
      "RangeIndex: 241 entries, 0 to 240\n",
      "Data columns (total 3 columns):\n",
      " #   Column  Non-Null Count  Dtype \n",
      "---  ------  --------------  ----- \n",
      " 0   id      241 non-null    int64 \n",
      " 1   movie   241 non-null    object\n",
      " 2   level   241 non-null    object\n",
      "dtypes: int64(1), object(2)\n",
      "memory usage: 36.2 KB\n",
      "None\n",
      "__________________________________________________\n",
      "\n",
      "Несколько строк датафрейма:\n"
     ]
    },
    {
     "data": {
      "text/html": [
       "<div>\n",
       "<style scoped>\n",
       "    .dataframe tbody tr th:only-of-type {\n",
       "        vertical-align: middle;\n",
       "    }\n",
       "\n",
       "    .dataframe tbody tr th {\n",
       "        vertical-align: top;\n",
       "    }\n",
       "\n",
       "    .dataframe thead th {\n",
       "        text-align: right;\n",
       "    }\n",
       "</style>\n",
       "<table border=\"1\" class=\"dataframe\">\n",
       "  <thead>\n",
       "    <tr style=\"text-align: right;\">\n",
       "      <th></th>\n",
       "      <th>id</th>\n",
       "      <th>movie</th>\n",
       "      <th>level</th>\n",
       "    </tr>\n",
       "  </thead>\n",
       "  <tbody>\n",
       "    <tr>\n",
       "      <th>109</th>\n",
       "      <td>109</td>\n",
       "      <td>We_are_the_Millers(2013)</td>\n",
       "      <td>B1</td>\n",
       "    </tr>\n",
       "    <tr>\n",
       "      <th>71</th>\n",
       "      <td>71</td>\n",
       "      <td>Ready_or_not(2019)</td>\n",
       "      <td>A2/A2+</td>\n",
       "    </tr>\n",
       "    <tr>\n",
       "      <th>37</th>\n",
       "      <td>37</td>\n",
       "      <td>Groundhog_day(1993)</td>\n",
       "      <td>B1</td>\n",
       "    </tr>\n",
       "    <tr>\n",
       "      <th>74</th>\n",
       "      <td>74</td>\n",
       "      <td>Soul(2020)</td>\n",
       "      <td>B1</td>\n",
       "    </tr>\n",
       "    <tr>\n",
       "      <th>108</th>\n",
       "      <td>108</td>\n",
       "      <td>Warm_bodies(2013)</td>\n",
       "      <td>B1</td>\n",
       "    </tr>\n",
       "  </tbody>\n",
       "</table>\n",
       "</div>"
      ],
      "text/plain": [
       "      id                     movie   level\n",
       "109  109  We_are_the_Millers(2013)      B1\n",
       "71    71        Ready_or_not(2019)  A2/A2+\n",
       "37    37       Groundhog_day(1993)      B1\n",
       "74    74                Soul(2020)      B1\n",
       "108  108         Warm_bodies(2013)      B1"
      ]
     },
     "metadata": {},
     "output_type": "display_data"
    },
    {
     "name": "stdout",
     "output_type": "stream",
     "text": [
      "__________________________________________________\n",
      "\n",
      "Описательная статистика строковых значений:\n"
     ]
    },
    {
     "data": {
      "text/html": [
       "<div>\n",
       "<style scoped>\n",
       "    .dataframe tbody tr th:only-of-type {\n",
       "        vertical-align: middle;\n",
       "    }\n",
       "\n",
       "    .dataframe tbody tr th {\n",
       "        vertical-align: top;\n",
       "    }\n",
       "\n",
       "    .dataframe thead th {\n",
       "        text-align: right;\n",
       "    }\n",
       "</style>\n",
       "<table border=\"1\" class=\"dataframe\">\n",
       "  <thead>\n",
       "    <tr style=\"text-align: right;\">\n",
       "      <th></th>\n",
       "      <th>count</th>\n",
       "      <th>unique</th>\n",
       "      <th>top</th>\n",
       "      <th>freq</th>\n",
       "    </tr>\n",
       "  </thead>\n",
       "  <tbody>\n",
       "    <tr>\n",
       "      <th>movie</th>\n",
       "      <td>241</td>\n",
       "      <td>237</td>\n",
       "      <td>Powder(1995)</td>\n",
       "      <td>2</td>\n",
       "    </tr>\n",
       "    <tr>\n",
       "      <th>level</th>\n",
       "      <td>241</td>\n",
       "      <td>7</td>\n",
       "      <td>B2</td>\n",
       "      <td>101</td>\n",
       "    </tr>\n",
       "  </tbody>\n",
       "</table>\n",
       "</div>"
      ],
      "text/plain": [
       "      count unique           top freq\n",
       "movie   241    237  Powder(1995)    2\n",
       "level   241      7            B2  101"
      ]
     },
     "metadata": {},
     "output_type": "display_data"
    },
    {
     "name": "stdout",
     "output_type": "stream",
     "text": [
      "_____\n",
      "Описательная статистика числовых значений:\n"
     ]
    },
    {
     "data": {
      "text/html": [
       "<div>\n",
       "<style scoped>\n",
       "    .dataframe tbody tr th:only-of-type {\n",
       "        vertical-align: middle;\n",
       "    }\n",
       "\n",
       "    .dataframe tbody tr th {\n",
       "        vertical-align: top;\n",
       "    }\n",
       "\n",
       "    .dataframe thead th {\n",
       "        text-align: right;\n",
       "    }\n",
       "</style>\n",
       "<table border=\"1\" class=\"dataframe\">\n",
       "  <thead>\n",
       "    <tr style=\"text-align: right;\">\n",
       "      <th></th>\n",
       "      <th>count</th>\n",
       "      <th>mean</th>\n",
       "      <th>std</th>\n",
       "      <th>min</th>\n",
       "      <th>25%</th>\n",
       "      <th>50%</th>\n",
       "      <th>75%</th>\n",
       "      <th>max</th>\n",
       "    </tr>\n",
       "  </thead>\n",
       "  <tbody>\n",
       "    <tr>\n",
       "      <th>id</th>\n",
       "      <td>241.0</td>\n",
       "      <td>120.0</td>\n",
       "      <td>69.714896</td>\n",
       "      <td>0.0</td>\n",
       "      <td>60.0</td>\n",
       "      <td>120.0</td>\n",
       "      <td>180.0</td>\n",
       "      <td>240.0</td>\n",
       "    </tr>\n",
       "  </tbody>\n",
       "</table>\n",
       "</div>"
      ],
      "text/plain": [
       "    count   mean        std  min   25%    50%    75%    max\n",
       "id  241.0  120.0  69.714896  0.0  60.0  120.0  180.0  240.0"
      ]
     },
     "metadata": {},
     "output_type": "display_data"
    },
    {
     "name": "stdout",
     "output_type": "stream",
     "text": [
      "__________________________________________________\n",
      "\n"
     ]
    }
   ],
   "source": [
    "dataframe_info(df)"
   ]
  },
  {
   "cell_type": "markdown",
   "id": "64c474af",
   "metadata": {},
   "source": [
    "### Дубликаты\n",
    "<a id=\"section_2_2\"></a>"
   ]
  },
  {
   "cell_type": "markdown",
   "id": "186151b4",
   "metadata": {},
   "source": [
    "Удаляем дубликаты по названиям фильмов:"
   ]
  },
  {
   "cell_type": "code",
   "execution_count": 13,
   "id": "32f8b1e5",
   "metadata": {},
   "outputs": [],
   "source": [
    "df = df.drop_duplicates(['movie']).reset_index(drop=True)"
   ]
  },
  {
   "cell_type": "markdown",
   "id": "2b813ac9",
   "metadata": {},
   "source": [
    "Выводим информацию по датафрейму:"
   ]
  },
  {
   "cell_type": "code",
   "execution_count": 14,
   "id": "8f245d7c",
   "metadata": {},
   "outputs": [
    {
     "name": "stdout",
     "output_type": "stream",
     "text": [
      "Общая информация о датафрейме:\n",
      "<class 'pandas.core.frame.DataFrame'>\n",
      "RangeIndex: 237 entries, 0 to 236\n",
      "Data columns (total 3 columns):\n",
      " #   Column  Non-Null Count  Dtype \n",
      "---  ------  --------------  ----- \n",
      " 0   id      237 non-null    int64 \n",
      " 1   movie   237 non-null    object\n",
      " 2   level   237 non-null    object\n",
      "dtypes: int64(1), object(2)\n",
      "memory usage: 35.6 KB\n",
      "None\n",
      "__________________________________________________\n",
      "\n",
      "Несколько строк датафрейма:\n"
     ]
    },
    {
     "data": {
      "text/html": [
       "<div>\n",
       "<style scoped>\n",
       "    .dataframe tbody tr th:only-of-type {\n",
       "        vertical-align: middle;\n",
       "    }\n",
       "\n",
       "    .dataframe tbody tr th {\n",
       "        vertical-align: top;\n",
       "    }\n",
       "\n",
       "    .dataframe thead th {\n",
       "        text-align: right;\n",
       "    }\n",
       "</style>\n",
       "<table border=\"1\" class=\"dataframe\">\n",
       "  <thead>\n",
       "    <tr style=\"text-align: right;\">\n",
       "      <th></th>\n",
       "      <th>id</th>\n",
       "      <th>movie</th>\n",
       "      <th>level</th>\n",
       "    </tr>\n",
       "  </thead>\n",
       "  <tbody>\n",
       "    <tr>\n",
       "      <th>173</th>\n",
       "      <td>177</td>\n",
       "      <td>Suits.S01E06.1080p.BluRay.AAC5.1.x265-DTG.02.EN</td>\n",
       "      <td>B2</td>\n",
       "    </tr>\n",
       "    <tr>\n",
       "      <th>152</th>\n",
       "      <td>156</td>\n",
       "      <td>Suits.Episode 1- Denial</td>\n",
       "      <td>B2</td>\n",
       "    </tr>\n",
       "    <tr>\n",
       "      <th>106</th>\n",
       "      <td>110</td>\n",
       "      <td>While_You_Were_Sleeping(1995)</td>\n",
       "      <td>B1</td>\n",
       "    </tr>\n",
       "    <tr>\n",
       "      <th>111</th>\n",
       "      <td>115</td>\n",
       "      <td>The Walking Dead-S01E04-Vatos.English</td>\n",
       "      <td>A2</td>\n",
       "    </tr>\n",
       "    <tr>\n",
       "      <th>125</th>\n",
       "      <td>129</td>\n",
       "      <td>Seven.Worlds.One.Planet.S01E06.2160p.BluRay.Re...</td>\n",
       "      <td>B1</td>\n",
       "    </tr>\n",
       "  </tbody>\n",
       "</table>\n",
       "</div>"
      ],
      "text/plain": [
       "      id                                              movie level\n",
       "173  177    Suits.S01E06.1080p.BluRay.AAC5.1.x265-DTG.02.EN    B2\n",
       "152  156                            Suits.Episode 1- Denial    B2\n",
       "106  110                      While_You_Were_Sleeping(1995)    B1\n",
       "111  115              The Walking Dead-S01E04-Vatos.English    A2\n",
       "125  129  Seven.Worlds.One.Planet.S01E06.2160p.BluRay.Re...    B1"
      ]
     },
     "metadata": {},
     "output_type": "display_data"
    },
    {
     "name": "stdout",
     "output_type": "stream",
     "text": [
      "__________________________________________________\n",
      "\n",
      "Описательная статистика строковых значений:\n"
     ]
    },
    {
     "data": {
      "text/html": [
       "<div>\n",
       "<style scoped>\n",
       "    .dataframe tbody tr th:only-of-type {\n",
       "        vertical-align: middle;\n",
       "    }\n",
       "\n",
       "    .dataframe tbody tr th {\n",
       "        vertical-align: top;\n",
       "    }\n",
       "\n",
       "    .dataframe thead th {\n",
       "        text-align: right;\n",
       "    }\n",
       "</style>\n",
       "<table border=\"1\" class=\"dataframe\">\n",
       "  <thead>\n",
       "    <tr style=\"text-align: right;\">\n",
       "      <th></th>\n",
       "      <th>count</th>\n",
       "      <th>unique</th>\n",
       "      <th>top</th>\n",
       "      <th>freq</th>\n",
       "    </tr>\n",
       "  </thead>\n",
       "  <tbody>\n",
       "    <tr>\n",
       "      <th>movie</th>\n",
       "      <td>237</td>\n",
       "      <td>237</td>\n",
       "      <td>10_Cloverfield_lane(2016)</td>\n",
       "      <td>1</td>\n",
       "    </tr>\n",
       "    <tr>\n",
       "      <th>level</th>\n",
       "      <td>237</td>\n",
       "      <td>7</td>\n",
       "      <td>B2</td>\n",
       "      <td>101</td>\n",
       "    </tr>\n",
       "  </tbody>\n",
       "</table>\n",
       "</div>"
      ],
      "text/plain": [
       "      count unique                        top freq\n",
       "movie   237    237  10_Cloverfield_lane(2016)    1\n",
       "level   237      7                         B2  101"
      ]
     },
     "metadata": {},
     "output_type": "display_data"
    },
    {
     "name": "stdout",
     "output_type": "stream",
     "text": [
      "_____\n",
      "Описательная статистика числовых значений:\n"
     ]
    },
    {
     "data": {
      "text/html": [
       "<div>\n",
       "<style scoped>\n",
       "    .dataframe tbody tr th:only-of-type {\n",
       "        vertical-align: middle;\n",
       "    }\n",
       "\n",
       "    .dataframe tbody tr th {\n",
       "        vertical-align: top;\n",
       "    }\n",
       "\n",
       "    .dataframe thead th {\n",
       "        text-align: right;\n",
       "    }\n",
       "</style>\n",
       "<table border=\"1\" class=\"dataframe\">\n",
       "  <thead>\n",
       "    <tr style=\"text-align: right;\">\n",
       "      <th></th>\n",
       "      <th>count</th>\n",
       "      <th>mean</th>\n",
       "      <th>std</th>\n",
       "      <th>min</th>\n",
       "      <th>25%</th>\n",
       "      <th>50%</th>\n",
       "      <th>75%</th>\n",
       "      <th>max</th>\n",
       "    </tr>\n",
       "  </thead>\n",
       "  <tbody>\n",
       "    <tr>\n",
       "      <th>id</th>\n",
       "      <td>237.0</td>\n",
       "      <td>120.780591</td>\n",
       "      <td>69.990271</td>\n",
       "      <td>0.0</td>\n",
       "      <td>60.0</td>\n",
       "      <td>122.0</td>\n",
       "      <td>181.0</td>\n",
       "      <td>240.0</td>\n",
       "    </tr>\n",
       "  </tbody>\n",
       "</table>\n",
       "</div>"
      ],
      "text/plain": [
       "    count        mean        std  min   25%    50%    75%    max\n",
       "id  237.0  120.780591  69.990271  0.0  60.0  122.0  181.0  240.0"
      ]
     },
     "metadata": {},
     "output_type": "display_data"
    },
    {
     "name": "stdout",
     "output_type": "stream",
     "text": [
      "__________________________________________________\n",
      "\n"
     ]
    }
   ],
   "source": [
    "dataframe_info(df)"
   ]
  },
  {
   "cell_type": "markdown",
   "id": "a33d3394",
   "metadata": {},
   "source": [
    "### Уровни английского языка\n",
    "<a id=\"section_2_3\"></a>"
   ]
  },
  {
   "cell_type": "markdown",
   "id": "9106c228",
   "metadata": {},
   "source": [
    "Выводим представленные в датафрейме уровни английского языка и количество фильмов, соответствующих каждому уровню:"
   ]
  },
  {
   "cell_type": "code",
   "execution_count": 15,
   "id": "9b5f55b6",
   "metadata": {},
   "outputs": [],
   "source": [
    "def level_preprocessing(df_lvl):\n",
    "    df_lvl = df_lvl['level'].value_counts().sort_index().reset_index()\n",
    "    df_lvl['percent'] = (100 * df_lvl['count'] / df_lvl['count'].sum()).round(1)\n",
    "    display(df_lvl)\n",
    "#     display(df['level'].value_counts().sort_index().reset_index())"
   ]
  },
  {
   "cell_type": "code",
   "execution_count": 16,
   "id": "0f264419",
   "metadata": {},
   "outputs": [
    {
     "data": {
      "text/html": [
       "<div>\n",
       "<style scoped>\n",
       "    .dataframe tbody tr th:only-of-type {\n",
       "        vertical-align: middle;\n",
       "    }\n",
       "\n",
       "    .dataframe tbody tr th {\n",
       "        vertical-align: top;\n",
       "    }\n",
       "\n",
       "    .dataframe thead th {\n",
       "        text-align: right;\n",
       "    }\n",
       "</style>\n",
       "<table border=\"1\" class=\"dataframe\">\n",
       "  <thead>\n",
       "    <tr style=\"text-align: right;\">\n",
       "      <th></th>\n",
       "      <th>level</th>\n",
       "      <th>count</th>\n",
       "      <th>percent</th>\n",
       "    </tr>\n",
       "  </thead>\n",
       "  <tbody>\n",
       "    <tr>\n",
       "      <th>0</th>\n",
       "      <td>A2</td>\n",
       "      <td>6</td>\n",
       "      <td>2.5</td>\n",
       "    </tr>\n",
       "    <tr>\n",
       "      <th>1</th>\n",
       "      <td>A2/A2+</td>\n",
       "      <td>26</td>\n",
       "      <td>11.0</td>\n",
       "    </tr>\n",
       "    <tr>\n",
       "      <th>2</th>\n",
       "      <td>A2/A2+, B1</td>\n",
       "      <td>4</td>\n",
       "      <td>1.7</td>\n",
       "    </tr>\n",
       "    <tr>\n",
       "      <th>3</th>\n",
       "      <td>B1</td>\n",
       "      <td>52</td>\n",
       "      <td>21.9</td>\n",
       "    </tr>\n",
       "    <tr>\n",
       "      <th>4</th>\n",
       "      <td>B1, B2</td>\n",
       "      <td>8</td>\n",
       "      <td>3.4</td>\n",
       "    </tr>\n",
       "    <tr>\n",
       "      <th>5</th>\n",
       "      <td>B2</td>\n",
       "      <td>101</td>\n",
       "      <td>42.6</td>\n",
       "    </tr>\n",
       "    <tr>\n",
       "      <th>6</th>\n",
       "      <td>C1</td>\n",
       "      <td>40</td>\n",
       "      <td>16.9</td>\n",
       "    </tr>\n",
       "  </tbody>\n",
       "</table>\n",
       "</div>"
      ],
      "text/plain": [
       "        level  count  percent\n",
       "0          A2      6      2.5\n",
       "1      A2/A2+     26     11.0\n",
       "2  A2/A2+, B1      4      1.7\n",
       "3          B1     52     21.9\n",
       "4      B1, B2      8      3.4\n",
       "5          B2    101     42.6\n",
       "6          C1     40     16.9"
      ]
     },
     "metadata": {},
     "output_type": "display_data"
    }
   ],
   "source": [
    "level_preprocessing(df)"
   ]
  },
  {
   "cell_type": "markdown",
   "id": "f0fdf4a9",
   "metadata": {},
   "source": [
    "В датафрейме присутствуют промежуточные уровни \"A2/A2+\", \"A2/A2+, B1\", \"B1, B2\". Избавляемся от них, переопределяя уровни таким образом, чтобы фильмы промежуточных уровней добавлялись к граничным уровням, наименее представленным в датаврейме, чтобы уменьшить дисбаланс классов.  \n",
    "Переназначаем уровни следующим образом:\n",
    "- \"A2/A2+\" в \"A2\";\n",
    "- \"A2/A2+, B1\" в \"B1\";\n",
    "- \"B1, B2\" в \"B1\"."
   ]
  },
  {
   "cell_type": "code",
   "execution_count": 17,
   "id": "6673009f",
   "metadata": {},
   "outputs": [],
   "source": [
    "df['level'] = df['level'].replace({'A2/A2+' : 'A2', 'A2/A2+, B1' : 'B1', 'B1, B2' : 'B1'})"
   ]
  },
  {
   "cell_type": "code",
   "execution_count": 18,
   "id": "019155f8",
   "metadata": {
    "scrolled": true
   },
   "outputs": [
    {
     "data": {
      "text/html": [
       "<div>\n",
       "<style scoped>\n",
       "    .dataframe tbody tr th:only-of-type {\n",
       "        vertical-align: middle;\n",
       "    }\n",
       "\n",
       "    .dataframe tbody tr th {\n",
       "        vertical-align: top;\n",
       "    }\n",
       "\n",
       "    .dataframe thead th {\n",
       "        text-align: right;\n",
       "    }\n",
       "</style>\n",
       "<table border=\"1\" class=\"dataframe\">\n",
       "  <thead>\n",
       "    <tr style=\"text-align: right;\">\n",
       "      <th></th>\n",
       "      <th>level</th>\n",
       "      <th>count</th>\n",
       "      <th>percent</th>\n",
       "    </tr>\n",
       "  </thead>\n",
       "  <tbody>\n",
       "    <tr>\n",
       "      <th>0</th>\n",
       "      <td>A2</td>\n",
       "      <td>32</td>\n",
       "      <td>13.5</td>\n",
       "    </tr>\n",
       "    <tr>\n",
       "      <th>1</th>\n",
       "      <td>B1</td>\n",
       "      <td>64</td>\n",
       "      <td>27.0</td>\n",
       "    </tr>\n",
       "    <tr>\n",
       "      <th>2</th>\n",
       "      <td>B2</td>\n",
       "      <td>101</td>\n",
       "      <td>42.6</td>\n",
       "    </tr>\n",
       "    <tr>\n",
       "      <th>3</th>\n",
       "      <td>C1</td>\n",
       "      <td>40</td>\n",
       "      <td>16.9</td>\n",
       "    </tr>\n",
       "  </tbody>\n",
       "</table>\n",
       "</div>"
      ],
      "text/plain": [
       "  level  count  percent\n",
       "0    A2     32     13.5\n",
       "1    B1     64     27.0\n",
       "2    B2    101     42.6\n",
       "3    C1     40     16.9"
      ]
     },
     "metadata": {},
     "output_type": "display_data"
    }
   ],
   "source": [
    "level_preprocessing(df)"
   ]
  },
  {
   "cell_type": "markdown",
   "id": "bb12b34c",
   "metadata": {},
   "source": [
    "В датафрейме осталось 4 класса: \"A2\", \"B1\", \"B2\" и \"C1\". Присутствует дисбаланс классов."
   ]
  },
  {
   "cell_type": "markdown",
   "id": "6ae6e4a6",
   "metadata": {},
   "source": [
    "Выводим информацию по датафрейму:"
   ]
  },
  {
   "cell_type": "code",
   "execution_count": 19,
   "id": "5ac9ab33",
   "metadata": {},
   "outputs": [
    {
     "name": "stdout",
     "output_type": "stream",
     "text": [
      "Общая информация о датафрейме:\n",
      "<class 'pandas.core.frame.DataFrame'>\n",
      "RangeIndex: 237 entries, 0 to 236\n",
      "Data columns (total 3 columns):\n",
      " #   Column  Non-Null Count  Dtype \n",
      "---  ------  --------------  ----- \n",
      " 0   id      237 non-null    int64 \n",
      " 1   movie   237 non-null    object\n",
      " 2   level   237 non-null    object\n",
      "dtypes: int64(1), object(2)\n",
      "memory usage: 35.5 KB\n",
      "None\n",
      "__________________________________________________\n",
      "\n",
      "Несколько строк датафрейма:\n"
     ]
    },
    {
     "data": {
      "text/html": [
       "<div>\n",
       "<style scoped>\n",
       "    .dataframe tbody tr th:only-of-type {\n",
       "        vertical-align: middle;\n",
       "    }\n",
       "\n",
       "    .dataframe tbody tr th {\n",
       "        vertical-align: top;\n",
       "    }\n",
       "\n",
       "    .dataframe thead th {\n",
       "        text-align: right;\n",
       "    }\n",
       "</style>\n",
       "<table border=\"1\" class=\"dataframe\">\n",
       "  <thead>\n",
       "    <tr style=\"text-align: right;\">\n",
       "      <th></th>\n",
       "      <th>id</th>\n",
       "      <th>movie</th>\n",
       "      <th>level</th>\n",
       "    </tr>\n",
       "  </thead>\n",
       "  <tbody>\n",
       "    <tr>\n",
       "      <th>173</th>\n",
       "      <td>177</td>\n",
       "      <td>Suits.S01E06.1080p.BluRay.AAC5.1.x265-DTG.02.EN</td>\n",
       "      <td>B2</td>\n",
       "    </tr>\n",
       "    <tr>\n",
       "      <th>152</th>\n",
       "      <td>156</td>\n",
       "      <td>Suits.Episode 1- Denial</td>\n",
       "      <td>B2</td>\n",
       "    </tr>\n",
       "    <tr>\n",
       "      <th>106</th>\n",
       "      <td>110</td>\n",
       "      <td>While_You_Were_Sleeping(1995)</td>\n",
       "      <td>B1</td>\n",
       "    </tr>\n",
       "    <tr>\n",
       "      <th>111</th>\n",
       "      <td>115</td>\n",
       "      <td>The Walking Dead-S01E04-Vatos.English</td>\n",
       "      <td>A2</td>\n",
       "    </tr>\n",
       "    <tr>\n",
       "      <th>125</th>\n",
       "      <td>129</td>\n",
       "      <td>Seven.Worlds.One.Planet.S01E06.2160p.BluRay.Re...</td>\n",
       "      <td>B1</td>\n",
       "    </tr>\n",
       "  </tbody>\n",
       "</table>\n",
       "</div>"
      ],
      "text/plain": [
       "      id                                              movie level\n",
       "173  177    Suits.S01E06.1080p.BluRay.AAC5.1.x265-DTG.02.EN    B2\n",
       "152  156                            Suits.Episode 1- Denial    B2\n",
       "106  110                      While_You_Were_Sleeping(1995)    B1\n",
       "111  115              The Walking Dead-S01E04-Vatos.English    A2\n",
       "125  129  Seven.Worlds.One.Planet.S01E06.2160p.BluRay.Re...    B1"
      ]
     },
     "metadata": {},
     "output_type": "display_data"
    },
    {
     "name": "stdout",
     "output_type": "stream",
     "text": [
      "__________________________________________________\n",
      "\n",
      "Описательная статистика строковых значений:\n"
     ]
    },
    {
     "data": {
      "text/html": [
       "<div>\n",
       "<style scoped>\n",
       "    .dataframe tbody tr th:only-of-type {\n",
       "        vertical-align: middle;\n",
       "    }\n",
       "\n",
       "    .dataframe tbody tr th {\n",
       "        vertical-align: top;\n",
       "    }\n",
       "\n",
       "    .dataframe thead th {\n",
       "        text-align: right;\n",
       "    }\n",
       "</style>\n",
       "<table border=\"1\" class=\"dataframe\">\n",
       "  <thead>\n",
       "    <tr style=\"text-align: right;\">\n",
       "      <th></th>\n",
       "      <th>count</th>\n",
       "      <th>unique</th>\n",
       "      <th>top</th>\n",
       "      <th>freq</th>\n",
       "    </tr>\n",
       "  </thead>\n",
       "  <tbody>\n",
       "    <tr>\n",
       "      <th>movie</th>\n",
       "      <td>237</td>\n",
       "      <td>237</td>\n",
       "      <td>10_Cloverfield_lane(2016)</td>\n",
       "      <td>1</td>\n",
       "    </tr>\n",
       "    <tr>\n",
       "      <th>level</th>\n",
       "      <td>237</td>\n",
       "      <td>4</td>\n",
       "      <td>B2</td>\n",
       "      <td>101</td>\n",
       "    </tr>\n",
       "  </tbody>\n",
       "</table>\n",
       "</div>"
      ],
      "text/plain": [
       "      count unique                        top freq\n",
       "movie   237    237  10_Cloverfield_lane(2016)    1\n",
       "level   237      4                         B2  101"
      ]
     },
     "metadata": {},
     "output_type": "display_data"
    },
    {
     "name": "stdout",
     "output_type": "stream",
     "text": [
      "_____\n",
      "Описательная статистика числовых значений:\n"
     ]
    },
    {
     "data": {
      "text/html": [
       "<div>\n",
       "<style scoped>\n",
       "    .dataframe tbody tr th:only-of-type {\n",
       "        vertical-align: middle;\n",
       "    }\n",
       "\n",
       "    .dataframe tbody tr th {\n",
       "        vertical-align: top;\n",
       "    }\n",
       "\n",
       "    .dataframe thead th {\n",
       "        text-align: right;\n",
       "    }\n",
       "</style>\n",
       "<table border=\"1\" class=\"dataframe\">\n",
       "  <thead>\n",
       "    <tr style=\"text-align: right;\">\n",
       "      <th></th>\n",
       "      <th>count</th>\n",
       "      <th>mean</th>\n",
       "      <th>std</th>\n",
       "      <th>min</th>\n",
       "      <th>25%</th>\n",
       "      <th>50%</th>\n",
       "      <th>75%</th>\n",
       "      <th>max</th>\n",
       "    </tr>\n",
       "  </thead>\n",
       "  <tbody>\n",
       "    <tr>\n",
       "      <th>id</th>\n",
       "      <td>237.0</td>\n",
       "      <td>120.780591</td>\n",
       "      <td>69.990271</td>\n",
       "      <td>0.0</td>\n",
       "      <td>60.0</td>\n",
       "      <td>122.0</td>\n",
       "      <td>181.0</td>\n",
       "      <td>240.0</td>\n",
       "    </tr>\n",
       "  </tbody>\n",
       "</table>\n",
       "</div>"
      ],
      "text/plain": [
       "    count        mean        std  min   25%    50%    75%    max\n",
       "id  237.0  120.780591  69.990271  0.0  60.0  122.0  181.0  240.0"
      ]
     },
     "metadata": {},
     "output_type": "display_data"
    },
    {
     "name": "stdout",
     "output_type": "stream",
     "text": [
      "__________________________________________________\n",
      "\n"
     ]
    }
   ],
   "source": [
    "dataframe_info(df)"
   ]
  },
  {
   "cell_type": "markdown",
   "id": "3b6f0082",
   "metadata": {},
   "source": [
    "### Объединение датафреймов\n",
    "<a id=\"section_2_4\"></a>"
   ]
  },
  {
   "cell_type": "markdown",
   "id": "72c635fe",
   "metadata": {},
   "source": [
    "Необходимо добавить субтитры в датафрейм, содержащий названия фильмов и уровни."
   ]
  },
  {
   "cell_type": "markdown",
   "id": "214a80ed",
   "metadata": {},
   "source": [
    "Собираем в список имен файлов:"
   ]
  },
  {
   "cell_type": "code",
   "execution_count": 20,
   "id": "46c39f57",
   "metadata": {},
   "outputs": [],
   "source": [
    "onlyfiles = []\n",
    "for i in filenames[1]:\n",
    "    onlyfiles += [f for f in listdir(filenames[0]+'\\\\'+i) if isfile(join(filenames[0]+'\\\\'+i, f))]"
   ]
  },
  {
   "cell_type": "markdown",
   "id": "25227452",
   "metadata": {},
   "source": [
    "Удаляем из названий фильмов лишние символы:"
   ]
  },
  {
   "cell_type": "code",
   "execution_count": 21,
   "id": "1f481648",
   "metadata": {},
   "outputs": [],
   "source": [
    "df['movie'] = df.apply(lambda x: ' '.join(re.split(r',|-| |\\|/|_|!|&|\\'|\\(|\\)|\\+|:|\\.', x['movie'])).lower().strip(), axis=1)"
   ]
  },
  {
   "cell_type": "markdown",
   "id": "7fe48fad",
   "metadata": {},
   "source": [
    "Эпизоды сериала \"Suits\" в датафрейме имеют различные маски названий, отчего могут возникнуть сложности при подборе файлов с субтитрами. Приводим их к единообразию:"
   ]
  },
  {
   "cell_type": "code",
   "execution_count": 22,
   "id": "c544fc97",
   "metadata": {},
   "outputs": [],
   "source": [
    "def movie_name(text):\n",
    "    word = text.split()\n",
    "    if ('suits' in text) and ('episode' not in text):\n",
    "        for i in range(1, len(word)):\n",
    "            if word[i-1] == 'suits':\n",
    "                text = text.split()[i-1] + \" \" + text.split()[i] + \" EngSub\"\n",
    "    return text"
   ]
  },
  {
   "cell_type": "code",
   "execution_count": 23,
   "id": "ae644d7b",
   "metadata": {},
   "outputs": [],
   "source": [
    "df['movie'] = df.apply(lambda x: movie_name(x['movie']), axis=1)"
   ]
  },
  {
   "cell_type": "markdown",
   "id": "428ac674",
   "metadata": {},
   "source": [
    "Добавляем в датафрейм названия файлов:"
   ]
  },
  {
   "cell_type": "code",
   "execution_count": 24,
   "id": "b125b21f",
   "metadata": {},
   "outputs": [],
   "source": [
    "out_dir = '.'\n",
    "\n",
    "files_dict = {}\n",
    "for filepath in pathlib.Path(filenames_path).glob('**/*.srt'):\n",
    "    file_name = str(filepath).split('\\\\')[-1]\n",
    "    files_dict[file_name] = filepath\n",
    "df_sub = pd.DataFrame(files_dict.items(), columns=['file_name', 'file_path'])"
   ]
  },
  {
   "cell_type": "code",
   "execution_count": 25,
   "id": "fe4ac57b",
   "metadata": {},
   "outputs": [
    {
     "data": {
      "application/vnd.jupyter.widget-view+json": {
       "model_id": "224be4e0986b47e1a094ffb6eebbb356",
       "version_major": 2,
       "version_minor": 0
      },
      "text/plain": [
       "Pandas Apply:   0%|          | 0/237 [00:00<?, ?it/s]"
      ]
     },
     "metadata": {},
     "output_type": "display_data"
    }
   ],
   "source": [
    "df['file_name'] = df['movie'].swifter.apply(lambda x: (difflib.get_close_matches(x, df_sub['file_name'])[:1] or [None])[0])"
   ]
  },
  {
   "cell_type": "markdown",
   "id": "26f4c6ec",
   "metadata": {},
   "source": [
    "Добавляем в датафрейм пути к файлам субтитров:"
   ]
  },
  {
   "cell_type": "code",
   "execution_count": 26,
   "id": "43d63c5c",
   "metadata": {},
   "outputs": [],
   "source": [
    "df = df.merge(df_sub,\n",
    "              how = 'left',\n",
    "              left_on='file_name',\n",
    "              right_on='file_name'\n",
    "             )[['movie', 'level', 'file_path']]"
   ]
  },
  {
   "cell_type": "markdown",
   "id": "d5312502",
   "metadata": {},
   "source": [
    "Добавляем в датафрейм субтитры:"
   ]
  },
  {
   "cell_type": "code",
   "execution_count": 27,
   "id": "d8068531",
   "metadata": {},
   "outputs": [],
   "source": [
    "def detected_encoding(file_path):\n",
    "    rawdata = open(file_path, 'rb').read()\n",
    "    result = chardet.detect(rawdata)\n",
    "    return result['encoding']"
   ]
  },
  {
   "cell_type": "code",
   "execution_count": 28,
   "id": "cf27e028",
   "metadata": {},
   "outputs": [
    {
     "data": {
      "application/vnd.jupyter.widget-view+json": {
       "model_id": "0b59b606de70432e8508ff2088a4b30e",
       "version_major": 2,
       "version_minor": 0
      },
      "text/plain": [
       "Pandas Apply:   0%|          | 0/237 [00:00<?, ?it/s]"
      ]
     },
     "metadata": {},
     "output_type": "display_data"
    }
   ],
   "source": [
    "def get_subs_text(path):\n",
    "    encoding = detected_encoding(path)\n",
    "    subs = pysrt.open(str(path), encoding=encoding)\n",
    "    return ' '.join([sub.text for sub in subs])\n",
    "\n",
    "df['subs'] = df['file_path'].swifter.apply(get_subs_text)"
   ]
  },
  {
   "cell_type": "markdown",
   "id": "42872c73",
   "metadata": {},
   "source": [
    "Удаляем из датафрейма названия фильмов и пути к файлам с субтитрами:"
   ]
  },
  {
   "cell_type": "code",
   "execution_count": 29,
   "id": "66ab5ad8",
   "metadata": {},
   "outputs": [],
   "source": [
    "df = df.drop(['movie', 'file_path'],axis=1)"
   ]
  },
  {
   "cell_type": "markdown",
   "id": "78789fa0",
   "metadata": {},
   "source": [
    "Выводим информацию по датафрейму:"
   ]
  },
  {
   "cell_type": "code",
   "execution_count": 30,
   "id": "88fedffd",
   "metadata": {},
   "outputs": [
    {
     "name": "stdout",
     "output_type": "stream",
     "text": [
      "Общая информация о датафрейме:\n",
      "<class 'pandas.core.frame.DataFrame'>\n",
      "RangeIndex: 237 entries, 0 to 236\n",
      "Data columns (total 2 columns):\n",
      " #   Column  Non-Null Count  Dtype \n",
      "---  ------  --------------  ----- \n",
      " 0   level   237 non-null    object\n",
      " 1   subs    237 non-null    object\n",
      "dtypes: object(2)\n",
      "memory usage: 15.7 MB\n",
      "None\n",
      "__________________________________________________\n",
      "\n",
      "Несколько строк датафрейма:\n"
     ]
    },
    {
     "data": {
      "text/html": [
       "<div>\n",
       "<style scoped>\n",
       "    .dataframe tbody tr th:only-of-type {\n",
       "        vertical-align: middle;\n",
       "    }\n",
       "\n",
       "    .dataframe tbody tr th {\n",
       "        vertical-align: top;\n",
       "    }\n",
       "\n",
       "    .dataframe thead th {\n",
       "        text-align: right;\n",
       "    }\n",
       "</style>\n",
       "<table border=\"1\" class=\"dataframe\">\n",
       "  <thead>\n",
       "    <tr style=\"text-align: right;\">\n",
       "      <th></th>\n",
       "      <th>level</th>\n",
       "      <th>subs</th>\n",
       "    </tr>\n",
       "  </thead>\n",
       "  <tbody>\n",
       "    <tr>\n",
       "      <th>173</th>\n",
       "      <td>B2</td>\n",
       "      <td>Harvey, I don't need a perp-walk\\nor a front-p...</td>\n",
       "    </tr>\n",
       "    <tr>\n",
       "      <th>152</th>\n",
       "      <td>B2</td>\n",
       "      <td>You're the most amazing woman\\nI have ever met...</td>\n",
       "    </tr>\n",
       "    <tr>\n",
       "      <th>106</th>\n",
       "      <td>B1</td>\n",
       "      <td>LUCY: &lt;i&gt;Okay, there are two things that&lt;/i&gt;\\n...</td>\n",
       "    </tr>\n",
       "    <tr>\n",
       "      <th>111</th>\n",
       "      <td>A2</td>\n",
       "      <td>( birds chirping ) - What?\\n- Nothing. It's no...</td>\n",
       "    </tr>\n",
       "    <tr>\n",
       "      <th>125</th>\n",
       "      <td>B1</td>\n",
       "      <td>One continent on our planet changes more drama...</td>\n",
       "    </tr>\n",
       "  </tbody>\n",
       "</table>\n",
       "</div>"
      ],
      "text/plain": [
       "    level                                               subs\n",
       "173    B2  Harvey, I don't need a perp-walk\\nor a front-p...\n",
       "152    B2  You're the most amazing woman\\nI have ever met...\n",
       "106    B1  LUCY: <i>Okay, there are two things that</i>\\n...\n",
       "111    A2  ( birds chirping ) - What?\\n- Nothing. It's no...\n",
       "125    B1  One continent on our planet changes more drama..."
      ]
     },
     "metadata": {},
     "output_type": "display_data"
    },
    {
     "name": "stdout",
     "output_type": "stream",
     "text": [
      "__________________________________________________\n",
      "\n",
      "Описательная статистика строковых значений:\n"
     ]
    },
    {
     "data": {
      "text/html": [
       "<div>\n",
       "<style scoped>\n",
       "    .dataframe tbody tr th:only-of-type {\n",
       "        vertical-align: middle;\n",
       "    }\n",
       "\n",
       "    .dataframe tbody tr th {\n",
       "        vertical-align: top;\n",
       "    }\n",
       "\n",
       "    .dataframe thead th {\n",
       "        text-align: right;\n",
       "    }\n",
       "</style>\n",
       "<table border=\"1\" class=\"dataframe\">\n",
       "  <thead>\n",
       "    <tr style=\"text-align: right;\">\n",
       "      <th></th>\n",
       "      <th>count</th>\n",
       "      <th>unique</th>\n",
       "      <th>top</th>\n",
       "      <th>freq</th>\n",
       "    </tr>\n",
       "  </thead>\n",
       "  <tbody>\n",
       "    <tr>\n",
       "      <th>level</th>\n",
       "      <td>237</td>\n",
       "      <td>4</td>\n",
       "      <td>B2</td>\n",
       "      <td>101</td>\n",
       "    </tr>\n",
       "    <tr>\n",
       "      <th>subs</th>\n",
       "      <td>237</td>\n",
       "      <td>237</td>\n",
       "      <td>&lt;font color=\"#ffff80\"&gt;&lt;b&gt;Fixed &amp; Synced by boz...</td>\n",
       "      <td>1</td>\n",
       "    </tr>\n",
       "  </tbody>\n",
       "</table>\n",
       "</div>"
      ],
      "text/plain": [
       "      count unique                                                top freq\n",
       "level   237      4                                                 B2  101\n",
       "subs    237    237  <font color=\"#ffff80\"><b>Fixed & Synced by boz...    1"
      ]
     },
     "metadata": {},
     "output_type": "display_data"
    },
    {
     "name": "stdout",
     "output_type": "stream",
     "text": [
      "_____\n",
      "Описательная статистика числовых значений:\n"
     ]
    },
    {
     "data": {
      "text/html": [
       "<div>\n",
       "<style scoped>\n",
       "    .dataframe tbody tr th:only-of-type {\n",
       "        vertical-align: middle;\n",
       "    }\n",
       "\n",
       "    .dataframe tbody tr th {\n",
       "        vertical-align: top;\n",
       "    }\n",
       "\n",
       "    .dataframe thead th {\n",
       "        text-align: right;\n",
       "    }\n",
       "</style>\n",
       "<table border=\"1\" class=\"dataframe\">\n",
       "  <thead>\n",
       "    <tr style=\"text-align: right;\">\n",
       "      <th></th>\n",
       "      <th>count</th>\n",
       "      <th>unique</th>\n",
       "      <th>top</th>\n",
       "      <th>freq</th>\n",
       "    </tr>\n",
       "  </thead>\n",
       "  <tbody>\n",
       "    <tr>\n",
       "      <th>level</th>\n",
       "      <td>237</td>\n",
       "      <td>4</td>\n",
       "      <td>B2</td>\n",
       "      <td>101</td>\n",
       "    </tr>\n",
       "    <tr>\n",
       "      <th>subs</th>\n",
       "      <td>237</td>\n",
       "      <td>237</td>\n",
       "      <td>&lt;font color=\"#ffff80\"&gt;&lt;b&gt;Fixed &amp; Synced by boz...</td>\n",
       "      <td>1</td>\n",
       "    </tr>\n",
       "  </tbody>\n",
       "</table>\n",
       "</div>"
      ],
      "text/plain": [
       "      count unique                                                top freq\n",
       "level   237      4                                                 B2  101\n",
       "subs    237    237  <font color=\"#ffff80\"><b>Fixed & Synced by boz...    1"
      ]
     },
     "metadata": {},
     "output_type": "display_data"
    },
    {
     "name": "stdout",
     "output_type": "stream",
     "text": [
      "__________________________________________________\n",
      "\n"
     ]
    }
   ],
   "source": [
    "dataframe_info(df)"
   ]
  },
  {
   "cell_type": "markdown",
   "id": "584969a5",
   "metadata": {},
   "source": [
    "### Обработка субтитров\n",
    "<a id=\"section_2_5\"></a>"
   ]
  },
  {
   "cell_type": "markdown",
   "id": "9e637549",
   "metadata": {},
   "source": [
    "Очищаем субтитры от лишних символов:"
   ]
  },
  {
   "cell_type": "code",
   "execution_count": 31,
   "id": "97821b3a",
   "metadata": {},
   "outputs": [],
   "source": [
    "HTML = r'<.*?>'\n",
    "TAG = r'{.*?}'\n",
    "COMMENTS = r'[\\(\\[][A-Z ]+[\\)\\]]'\n",
    "LETTERS = r'[^a-zA-Z\\'.,!? ]'\n",
    "SPACES = r'([ ])\\1+'\n",
    "DOTS = r'[\\.]+'\n",
    "MARKS = r'[\\']+'"
   ]
  },
  {
   "cell_type": "code",
   "execution_count": 32,
   "id": "131abaaf",
   "metadata": {},
   "outputs": [],
   "source": [
    "def clean_subs(txt):\n",
    "    txt = re.sub(HTML, ' ', txt)                   # html тэги меняем на пробел\n",
    "    txt = re.sub(TAG, ' ', txt)                    # тэги меняем на пробел\n",
    "    txt = re.sub(COMMENTS, ' ', txt)               # комменты меняем на пробел\n",
    "    txt = \".\".join(txt.split('.')[1:-1])           # удаляем первый и последний субтитр (обычно это реклама)   \n",
    "    txt = re.sub(LETTERS, ' ', txt)                # все что не буквы меняем на пробел\n",
    "    txt = re.sub(SPACES, r'\\1', txt)               # повторяющиеся пробелы меняем на один пробел\n",
    "    txt = re.sub(DOTS, r'.', txt)                  # многоточие меняем на точку\n",
    "    txt = txt.replace(\"''\", '')                    # удаляем пустые кавычки\n",
    "    txt = txt.replace(\" n't\", \"n't\")               # удаляем пробелы в отрицаниях\n",
    "    txt = txt.encode('ascii', 'ignore').decode()   # удаляем все что не ascii символы\n",
    "    txt = txt.strip()                              # удаляем пробелы в начале и в конце текста\n",
    "    return txt"
   ]
  },
  {
   "cell_type": "code",
   "execution_count": 33,
   "id": "2bd5a9c5",
   "metadata": {},
   "outputs": [
    {
     "data": {
      "application/vnd.jupyter.widget-view+json": {
       "model_id": "68fda38f6cec4e77b3c437aa83754f29",
       "version_major": 2,
       "version_minor": 0
      },
      "text/plain": [
       "Pandas Apply:   0%|          | 0/237 [00:00<?, ?it/s]"
      ]
     },
     "metadata": {},
     "output_type": "display_data"
    }
   ],
   "source": [
    "df['subs'] = df.swifter.apply(lambda x: clean_subs(x['subs']), axis=1)"
   ]
  },
  {
   "cell_type": "markdown",
   "id": "5745ba42",
   "metadata": {},
   "source": [
    "Поскольку в датафрейме недостаточно наблюдений для полноценного обучения модели, разделяем каждое наблюдение на несколько, содержащих по 70 предложений:"
   ]
  },
  {
   "cell_type": "code",
   "execution_count": 34,
   "id": "edb0bd8f",
   "metadata": {},
   "outputs": [],
   "source": [
    "def separate_symbol(txt):\n",
    "    list_sent = []                                      # список для хранения токенов\n",
    "    num_sentence = 70                                   # максимальное количество токенов в наблюдении\n",
    "    for sentence in sent_tokenize(txt):                 # проходим циклом ро токенам\n",
    "        list_sent.append(sentence)                      # добавляем токены в список\n",
    "        if len(list_sent) % num_sentence == 0:          # после каждого максимального количества токенов в наблюдении\n",
    "            list_sent.append('#')                       # добавляем символ, по которому будет производиться разделение\n",
    "    txt = ' '.join(list_sent)                           # объединяем список в текст\n",
    "    txt = re.sub(r'\\s+(?=(?:[\\#]))', r'', txt)\n",
    "    return txt"
   ]
  },
  {
   "cell_type": "code",
   "execution_count": 35,
   "id": "566c9bcd",
   "metadata": {},
   "outputs": [],
   "source": [
    "df['subs'] = df.apply(lambda x: separate_symbol(x['subs']), axis=1)        # добавляем в субтитры знаки разделения\n",
    "df = (                                                                     # разделяем субтитры\n",
    "    df\n",
    "    .set_index(['level'])                                                  # признак level переносится без изменений\n",
    "    .apply(lambda x: x.str.split('#').explode())                           # разделяем субтитры по символу '#'\n",
    "    .reset_index()\n",
    "    )"
   ]
  },
  {
   "cell_type": "markdown",
   "id": "60327530",
   "metadata": {},
   "source": [
    "Поскольку при разделении от субтитров могут остаться \"хвосты\" малого размера, которые могут восприниматься моделью как выбросы, оставляем для решения поставленной задачи только наблюдения,  50 и более предложений:"
   ]
  },
  {
   "cell_type": "code",
   "execution_count": 36,
   "id": "17d01476",
   "metadata": {},
   "outputs": [],
   "source": [
    "df['length'] = df.apply(lambda x: len(sent_tokenize(x['subs'])), axis=1)         # добавляем признак - количество токенов\n",
    "df = df.loc[df['length'] >= 50].reset_index(drop=True)                           # удаляем наблюдения, в которых менее 50 токенов"
   ]
  },
  {
   "cell_type": "markdown",
   "id": "71377a9d",
   "metadata": {},
   "source": [
    "Определяем процент субтитров каждого классов после генерации дополнительных признаков:"
   ]
  },
  {
   "cell_type": "code",
   "execution_count": 37,
   "id": "1ed736ec",
   "metadata": {
    "scrolled": true
   },
   "outputs": [
    {
     "data": {
      "text/html": [
       "<div>\n",
       "<style scoped>\n",
       "    .dataframe tbody tr th:only-of-type {\n",
       "        vertical-align: middle;\n",
       "    }\n",
       "\n",
       "    .dataframe tbody tr th {\n",
       "        vertical-align: top;\n",
       "    }\n",
       "\n",
       "    .dataframe thead th {\n",
       "        text-align: right;\n",
       "    }\n",
       "</style>\n",
       "<table border=\"1\" class=\"dataframe\">\n",
       "  <thead>\n",
       "    <tr style=\"text-align: right;\">\n",
       "      <th></th>\n",
       "      <th>level</th>\n",
       "      <th>count</th>\n",
       "      <th>percent</th>\n",
       "    </tr>\n",
       "  </thead>\n",
       "  <tbody>\n",
       "    <tr>\n",
       "      <th>0</th>\n",
       "      <td>A2</td>\n",
       "      <td>637</td>\n",
       "      <td>14.4</td>\n",
       "    </tr>\n",
       "    <tr>\n",
       "      <th>1</th>\n",
       "      <td>B1</td>\n",
       "      <td>1363</td>\n",
       "      <td>30.8</td>\n",
       "    </tr>\n",
       "    <tr>\n",
       "      <th>2</th>\n",
       "      <td>B2</td>\n",
       "      <td>1858</td>\n",
       "      <td>42.0</td>\n",
       "    </tr>\n",
       "    <tr>\n",
       "      <th>3</th>\n",
       "      <td>C1</td>\n",
       "      <td>566</td>\n",
       "      <td>12.8</td>\n",
       "    </tr>\n",
       "  </tbody>\n",
       "</table>\n",
       "</div>"
      ],
      "text/plain": [
       "  level  count  percent\n",
       "0    A2    637     14.4\n",
       "1    B1   1363     30.8\n",
       "2    B2   1858     42.0\n",
       "3    C1    566     12.8"
      ]
     },
     "metadata": {},
     "output_type": "display_data"
    }
   ],
   "source": [
    "level_preprocessing(df)"
   ]
  },
  {
   "cell_type": "markdown",
   "id": "12067b8d",
   "metadata": {},
   "source": [
    "**Вывод:**  \n",
    "1. Объеденены датафреймы, содержащие названия фильмов и субтитров.  \n",
    "2. Субтитры очищены от посторонних символов.  \n",
    "3. Сгенерированы дополнительные признаки путем разделения субтитров. Количество признаков увеличено с 237 до 4424."
   ]
  },
  {
   "cell_type": "markdown",
   "id": "cd0b105c",
   "metadata": {},
   "source": [
    "## Расчёт дополнительных признаков\n",
    "<a id=\"section_3\"></a>"
   ]
  },
  {
   "cell_type": "markdown",
   "id": "63db6896",
   "metadata": {},
   "source": [
    "### Признаки оценок качества текста субтитров\n",
    "<a id=\"section_3_1\"></a>"
   ]
  },
  {
   "cell_type": "markdown",
   "id": "61e31e7b",
   "metadata": {},
   "source": [
    "Создаем признаки оценки качества текста субтитров:"
   ]
  },
  {
   "cell_type": "code",
   "execution_count": 38,
   "id": "ac333144",
   "metadata": {},
   "outputs": [],
   "source": [
    "def text_stat(df):\n",
    "    '''функция оценки качества текста субтитров'''\n",
    "    \n",
    "    # количество слов, присутствующих в тексте;\n",
    "    df['words'] = df.apply(lambda x: textstat.lexicon_count(x['subs']), axis=1)\n",
    "    # среднее количество слов в предложении;\n",
    "    df['words'] = df['words'] / df['length']\n",
    "    # показатель легкости чтения Флеша\n",
    "    df['fre'] = df.apply(lambda x: textstat.flesch_reading_ease(x['subs']), axis=1)\n",
    "    # показатель удобочитаемости , который оценивает годы обучения, необходимые для понимания написанного\n",
    "    df['si'] = df.apply(lambda x: textstat.smog_index(x['subs']), axis=1)\n",
    "    # формула уровня успеваемости Флеша-Кинкейда\n",
    "    df['fkd'] = df.apply(lambda x: textstat.flesch_kincaid_grade(x['subs']), axis=1)\n",
    "    # уровень оценки текста с помощью формулы Коулмана-Ляу\n",
    "    df['cli'] = df.apply(lambda x: textstat.coleman_liau_index(x['subs']), axis=1)\n",
    "    # автоматический индекс удобочитаемости\n",
    "    df['ari'] = df.apply(lambda x: textstat.automated_readability_index(x['subs']), axis=1)\n",
    "    # уровень обучения, используя формулу Нью-Дейла-Чолла\n",
    "    df['dcrs'] = df.apply(lambda x: textstat.dale_chall_readability_score(x['subs']), axis=1)\n",
    "    # коэффициент сложных слов\n",
    "    df['dw'] = df.apply(lambda x: textstat.difficult_words(x['subs']), axis=1)\n",
    "    # уровень оценки текста по формуле Linsear\n",
    "    df['lwf'] = df.apply(lambda x: textstat.linsear_write_formula(x['subs']), axis=1)\n",
    "    # индекс FOG\n",
    "    df['gf'] = df.apply(lambda x: textstat.gunning_fog(x['subs']), axis=1)\n",
    "    return df"
   ]
  },
  {
   "cell_type": "code",
   "execution_count": 39,
   "id": "ad3746ee",
   "metadata": {},
   "outputs": [],
   "source": [
    "df = text_stat(df)"
   ]
  },
  {
   "cell_type": "markdown",
   "id": "a9062ef7",
   "metadata": {},
   "source": [
    "Выводим информацию по датафрейму:"
   ]
  },
  {
   "cell_type": "code",
   "execution_count": 40,
   "id": "12803550",
   "metadata": {},
   "outputs": [
    {
     "name": "stdout",
     "output_type": "stream",
     "text": [
      "Общая информация о датафрейме:\n",
      "<class 'pandas.core.frame.DataFrame'>\n",
      "RangeIndex: 4424 entries, 0 to 4423\n",
      "Data columns (total 13 columns):\n",
      " #   Column  Non-Null Count  Dtype  \n",
      "---  ------  --------------  -----  \n",
      " 0   level   4424 non-null   object \n",
      " 1   subs    4424 non-null   object \n",
      " 2   length  4424 non-null   int64  \n",
      " 3   words   4424 non-null   float64\n",
      " 4   fre     4424 non-null   float64\n",
      " 5   si      4424 non-null   float64\n",
      " 6   fkd     4424 non-null   float64\n",
      " 7   cli     4424 non-null   float64\n",
      " 8   ari     4424 non-null   float64\n",
      " 9   dcrs    4424 non-null   float64\n",
      " 10  dw      4424 non-null   int64  \n",
      " 11  lwf     4424 non-null   float64\n",
      " 12  gf      4424 non-null   float64\n",
      "dtypes: float64(9), int64(2), object(2)\n",
      "memory usage: 9.9 MB\n",
      "None\n",
      "__________________________________________________\n",
      "\n",
      "Несколько строк датафрейма:\n"
     ]
    },
    {
     "data": {
      "text/html": [
       "<div>\n",
       "<style scoped>\n",
       "    .dataframe tbody tr th:only-of-type {\n",
       "        vertical-align: middle;\n",
       "    }\n",
       "\n",
       "    .dataframe tbody tr th {\n",
       "        vertical-align: top;\n",
       "    }\n",
       "\n",
       "    .dataframe thead th {\n",
       "        text-align: right;\n",
       "    }\n",
       "</style>\n",
       "<table border=\"1\" class=\"dataframe\">\n",
       "  <thead>\n",
       "    <tr style=\"text-align: right;\">\n",
       "      <th></th>\n",
       "      <th>level</th>\n",
       "      <th>subs</th>\n",
       "      <th>length</th>\n",
       "      <th>words</th>\n",
       "      <th>fre</th>\n",
       "      <th>si</th>\n",
       "      <th>fkd</th>\n",
       "      <th>cli</th>\n",
       "      <th>ari</th>\n",
       "      <th>dcrs</th>\n",
       "      <th>dw</th>\n",
       "      <th>lwf</th>\n",
       "      <th>gf</th>\n",
       "    </tr>\n",
       "  </thead>\n",
       "  <tbody>\n",
       "    <tr>\n",
       "      <th>220</th>\n",
       "      <td>B2</td>\n",
       "      <td>. a handsome young prince. lived in a beautifu...</td>\n",
       "      <td>70</td>\n",
       "      <td>7.971429</td>\n",
       "      <td>86.71</td>\n",
       "      <td>6.9</td>\n",
       "      <td>3.7</td>\n",
       "      <td>5.54</td>\n",
       "      <td>4.2</td>\n",
       "      <td>6.65</td>\n",
       "      <td>50</td>\n",
       "      <td>5.111111</td>\n",
       "      <td>4.86</td>\n",
       "    </tr>\n",
       "    <tr>\n",
       "      <th>1332</th>\n",
       "      <td>B1</td>\n",
       "      <td>These things are a test of character. And I h...</td>\n",
       "      <td>69</td>\n",
       "      <td>4.710145</td>\n",
       "      <td>97.50</td>\n",
       "      <td>6.3</td>\n",
       "      <td>1.6</td>\n",
       "      <td>3.84</td>\n",
       "      <td>3.0</td>\n",
       "      <td>6.06</td>\n",
       "      <td>24</td>\n",
       "      <td>2.733333</td>\n",
       "      <td>4.19</td>\n",
       "    </tr>\n",
       "    <tr>\n",
       "      <th>3448</th>\n",
       "      <td>B2</td>\n",
       "      <td>Offered only to our most exclusive members. Yo...</td>\n",
       "      <td>70</td>\n",
       "      <td>5.214286</td>\n",
       "      <td>88.43</td>\n",
       "      <td>7.0</td>\n",
       "      <td>3.0</td>\n",
       "      <td>4.49</td>\n",
       "      <td>3.4</td>\n",
       "      <td>6.69</td>\n",
       "      <td>40</td>\n",
       "      <td>3.214286</td>\n",
       "      <td>4.96</td>\n",
       "    </tr>\n",
       "    <tr>\n",
       "      <th>2905</th>\n",
       "      <td>B1</td>\n",
       "      <td>Ladies and gentlemen, I'm sure you've noticed...</td>\n",
       "      <td>69</td>\n",
       "      <td>4.637681</td>\n",
       "      <td>99.23</td>\n",
       "      <td>5.3</td>\n",
       "      <td>0.9</td>\n",
       "      <td>2.77</td>\n",
       "      <td>2.5</td>\n",
       "      <td>6.25</td>\n",
       "      <td>30</td>\n",
       "      <td>2.857143</td>\n",
       "      <td>2.90</td>\n",
       "    </tr>\n",
       "    <tr>\n",
       "      <th>841</th>\n",
       "      <td>B2</td>\n",
       "      <td>Once they have that location, they bomb the v...</td>\n",
       "      <td>69</td>\n",
       "      <td>9.130435</td>\n",
       "      <td>94.96</td>\n",
       "      <td>6.9</td>\n",
       "      <td>2.5</td>\n",
       "      <td>4.90</td>\n",
       "      <td>4.2</td>\n",
       "      <td>6.92</td>\n",
       "      <td>54</td>\n",
       "      <td>7.833333</td>\n",
       "      <td>5.41</td>\n",
       "    </tr>\n",
       "  </tbody>\n",
       "</table>\n",
       "</div>"
      ],
      "text/plain": [
       "     level                                               subs  length  \\\n",
       "220     B2  . a handsome young prince. lived in a beautifu...      70   \n",
       "1332    B1   These things are a test of character. And I h...      69   \n",
       "3448    B2  Offered only to our most exclusive members. Yo...      70   \n",
       "2905    B1   Ladies and gentlemen, I'm sure you've noticed...      69   \n",
       "841     B2   Once they have that location, they bomb the v...      69   \n",
       "\n",
       "         words    fre   si  fkd   cli  ari  dcrs  dw       lwf    gf  \n",
       "220   7.971429  86.71  6.9  3.7  5.54  4.2  6.65  50  5.111111  4.86  \n",
       "1332  4.710145  97.50  6.3  1.6  3.84  3.0  6.06  24  2.733333  4.19  \n",
       "3448  5.214286  88.43  7.0  3.0  4.49  3.4  6.69  40  3.214286  4.96  \n",
       "2905  4.637681  99.23  5.3  0.9  2.77  2.5  6.25  30  2.857143  2.90  \n",
       "841   9.130435  94.96  6.9  2.5  4.90  4.2  6.92  54  7.833333  5.41  "
      ]
     },
     "metadata": {},
     "output_type": "display_data"
    },
    {
     "name": "stdout",
     "output_type": "stream",
     "text": [
      "__________________________________________________\n",
      "\n",
      "Описательная статистика строковых значений:\n"
     ]
    },
    {
     "data": {
      "text/html": [
       "<div>\n",
       "<style scoped>\n",
       "    .dataframe tbody tr th:only-of-type {\n",
       "        vertical-align: middle;\n",
       "    }\n",
       "\n",
       "    .dataframe tbody tr th {\n",
       "        vertical-align: top;\n",
       "    }\n",
       "\n",
       "    .dataframe thead th {\n",
       "        text-align: right;\n",
       "    }\n",
       "</style>\n",
       "<table border=\"1\" class=\"dataframe\">\n",
       "  <thead>\n",
       "    <tr style=\"text-align: right;\">\n",
       "      <th></th>\n",
       "      <th>count</th>\n",
       "      <th>unique</th>\n",
       "      <th>top</th>\n",
       "      <th>freq</th>\n",
       "    </tr>\n",
       "  </thead>\n",
       "  <tbody>\n",
       "    <tr>\n",
       "      <th>level</th>\n",
       "      <td>4424</td>\n",
       "      <td>4</td>\n",
       "      <td>B2</td>\n",
       "      <td>1858</td>\n",
       "    </tr>\n",
       "    <tr>\n",
       "      <th>subs</th>\n",
       "      <td>4424</td>\n",
       "      <td>4424</td>\n",
       "      <td>Enjoy The Flick BEN ON PHONE Michelle, please ...</td>\n",
       "      <td>1</td>\n",
       "    </tr>\n",
       "  </tbody>\n",
       "</table>\n",
       "</div>"
      ],
      "text/plain": [
       "      count unique                                                top  freq\n",
       "level  4424      4                                                 B2  1858\n",
       "subs   4424   4424  Enjoy The Flick BEN ON PHONE Michelle, please ...     1"
      ]
     },
     "metadata": {},
     "output_type": "display_data"
    },
    {
     "name": "stdout",
     "output_type": "stream",
     "text": [
      "_____\n",
      "Описательная статистика числовых значений:\n"
     ]
    },
    {
     "data": {
      "text/html": [
       "<div>\n",
       "<style scoped>\n",
       "    .dataframe tbody tr th:only-of-type {\n",
       "        vertical-align: middle;\n",
       "    }\n",
       "\n",
       "    .dataframe tbody tr th {\n",
       "        vertical-align: top;\n",
       "    }\n",
       "\n",
       "    .dataframe thead th {\n",
       "        text-align: right;\n",
       "    }\n",
       "</style>\n",
       "<table border=\"1\" class=\"dataframe\">\n",
       "  <thead>\n",
       "    <tr style=\"text-align: right;\">\n",
       "      <th></th>\n",
       "      <th>count</th>\n",
       "      <th>mean</th>\n",
       "      <th>std</th>\n",
       "      <th>min</th>\n",
       "      <th>25%</th>\n",
       "      <th>50%</th>\n",
       "      <th>75%</th>\n",
       "      <th>max</th>\n",
       "    </tr>\n",
       "  </thead>\n",
       "  <tbody>\n",
       "    <tr>\n",
       "      <th>length</th>\n",
       "      <td>4424.0</td>\n",
       "      <td>68.951401</td>\n",
       "      <td>1.091201</td>\n",
       "      <td>50.000000</td>\n",
       "      <td>69.000000</td>\n",
       "      <td>69.000000</td>\n",
       "      <td>69.000000</td>\n",
       "      <td>70.000000</td>\n",
       "    </tr>\n",
       "    <tr>\n",
       "      <th>words</th>\n",
       "      <td>4424.0</td>\n",
       "      <td>5.897678</td>\n",
       "      <td>1.794363</td>\n",
       "      <td>2.333333</td>\n",
       "      <td>4.652174</td>\n",
       "      <td>5.507246</td>\n",
       "      <td>6.800000</td>\n",
       "      <td>18.608696</td>\n",
       "    </tr>\n",
       "    <tr>\n",
       "      <th>fre</th>\n",
       "      <td>4424.0</td>\n",
       "      <td>95.470002</td>\n",
       "      <td>5.500522</td>\n",
       "      <td>62.680000</td>\n",
       "      <td>90.460000</td>\n",
       "      <td>97.090000</td>\n",
       "      <td>98.410000</td>\n",
       "      <td>108.800000</td>\n",
       "    </tr>\n",
       "    <tr>\n",
       "      <th>si</th>\n",
       "      <td>4424.0</td>\n",
       "      <td>6.182030</td>\n",
       "      <td>0.818341</td>\n",
       "      <td>3.100000</td>\n",
       "      <td>5.700000</td>\n",
       "      <td>6.200000</td>\n",
       "      <td>6.700000</td>\n",
       "      <td>11.200000</td>\n",
       "    </tr>\n",
       "    <tr>\n",
       "      <th>fkd</th>\n",
       "      <td>4424.0</td>\n",
       "      <td>1.886325</td>\n",
       "      <td>1.014171</td>\n",
       "      <td>-0.800000</td>\n",
       "      <td>1.200000</td>\n",
       "      <td>1.700000</td>\n",
       "      <td>2.500000</td>\n",
       "      <td>8.700000</td>\n",
       "    </tr>\n",
       "    <tr>\n",
       "      <th>cli</th>\n",
       "      <td>4424.0</td>\n",
       "      <td>3.179882</td>\n",
       "      <td>1.314047</td>\n",
       "      <td>-1.610000</td>\n",
       "      <td>2.330000</td>\n",
       "      <td>3.150000</td>\n",
       "      <td>3.960000</td>\n",
       "      <td>10.090000</td>\n",
       "    </tr>\n",
       "    <tr>\n",
       "      <th>ari</th>\n",
       "      <td>4424.0</td>\n",
       "      <td>2.568671</td>\n",
       "      <td>1.082527</td>\n",
       "      <td>-0.500000</td>\n",
       "      <td>1.900000</td>\n",
       "      <td>2.500000</td>\n",
       "      <td>3.100000</td>\n",
       "      <td>9.900000</td>\n",
       "    </tr>\n",
       "    <tr>\n",
       "      <th>dcrs</th>\n",
       "      <td>4424.0</td>\n",
       "      <td>6.179919</td>\n",
       "      <td>0.535996</td>\n",
       "      <td>0.960000</td>\n",
       "      <td>5.820000</td>\n",
       "      <td>6.130000</td>\n",
       "      <td>6.500000</td>\n",
       "      <td>9.260000</td>\n",
       "    </tr>\n",
       "    <tr>\n",
       "      <th>dw</th>\n",
       "      <td>4424.0</td>\n",
       "      <td>31.224005</td>\n",
       "      <td>15.361048</td>\n",
       "      <td>3.000000</td>\n",
       "      <td>21.000000</td>\n",
       "      <td>29.000000</td>\n",
       "      <td>38.000000</td>\n",
       "      <td>197.000000</td>\n",
       "    </tr>\n",
       "    <tr>\n",
       "      <th>lwf</th>\n",
       "      <td>4424.0</td>\n",
       "      <td>3.261656</td>\n",
       "      <td>1.628396</td>\n",
       "      <td>1.260870</td>\n",
       "      <td>2.437500</td>\n",
       "      <td>2.928571</td>\n",
       "      <td>3.666667</td>\n",
       "      <td>50.000000</td>\n",
       "    </tr>\n",
       "    <tr>\n",
       "      <th>gf</th>\n",
       "      <td>4424.0</td>\n",
       "      <td>4.112848</td>\n",
       "      <td>0.888035</td>\n",
       "      <td>1.920000</td>\n",
       "      <td>3.500000</td>\n",
       "      <td>4.020000</td>\n",
       "      <td>4.610000</td>\n",
       "      <td>10.060000</td>\n",
       "    </tr>\n",
       "  </tbody>\n",
       "</table>\n",
       "</div>"
      ],
      "text/plain": [
       "         count       mean        std        min        25%        50%  \\\n",
       "length  4424.0  68.951401   1.091201  50.000000  69.000000  69.000000   \n",
       "words   4424.0   5.897678   1.794363   2.333333   4.652174   5.507246   \n",
       "fre     4424.0  95.470002   5.500522  62.680000  90.460000  97.090000   \n",
       "si      4424.0   6.182030   0.818341   3.100000   5.700000   6.200000   \n",
       "fkd     4424.0   1.886325   1.014171  -0.800000   1.200000   1.700000   \n",
       "cli     4424.0   3.179882   1.314047  -1.610000   2.330000   3.150000   \n",
       "ari     4424.0   2.568671   1.082527  -0.500000   1.900000   2.500000   \n",
       "dcrs    4424.0   6.179919   0.535996   0.960000   5.820000   6.130000   \n",
       "dw      4424.0  31.224005  15.361048   3.000000  21.000000  29.000000   \n",
       "lwf     4424.0   3.261656   1.628396   1.260870   2.437500   2.928571   \n",
       "gf      4424.0   4.112848   0.888035   1.920000   3.500000   4.020000   \n",
       "\n",
       "              75%         max  \n",
       "length  69.000000   70.000000  \n",
       "words    6.800000   18.608696  \n",
       "fre     98.410000  108.800000  \n",
       "si       6.700000   11.200000  \n",
       "fkd      2.500000    8.700000  \n",
       "cli      3.960000   10.090000  \n",
       "ari      3.100000    9.900000  \n",
       "dcrs     6.500000    9.260000  \n",
       "dw      38.000000  197.000000  \n",
       "lwf      3.666667   50.000000  \n",
       "gf       4.610000   10.060000  "
      ]
     },
     "metadata": {},
     "output_type": "display_data"
    },
    {
     "name": "stdout",
     "output_type": "stream",
     "text": [
      "__________________________________________________\n",
      "\n"
     ]
    }
   ],
   "source": [
    "dataframe_info(df)"
   ]
  },
  {
   "cell_type": "markdown",
   "id": "6fccbf71",
   "metadata": {},
   "source": [
    "### Доли слов различного уровня\n",
    "<a id=\"section_3_2\"></a>"
   ]
  },
  {
   "cell_type": "markdown",
   "id": "ee8e7e9f",
   "metadata": {},
   "source": [
    "Для определения в субтитрах доли слов по уровню сложности и доли слов по частям речи производим лемматизацию субтитров. Для этого загружаем модель \"en_core_web_lg\":"
   ]
  },
  {
   "cell_type": "code",
   "execution_count": 41,
   "id": "fd6becde",
   "metadata": {},
   "outputs": [],
   "source": [
    "sp = spacy.load('en_core_web_lg')"
   ]
  },
  {
   "cell_type": "markdown",
   "id": "56ca4f02",
   "metadata": {},
   "source": [
    "Производим лемматизацию:"
   ]
  },
  {
   "cell_type": "code",
   "execution_count": 42,
   "id": "7011ac3e",
   "metadata": {},
   "outputs": [],
   "source": [
    "def lemmatisation(text):\n",
    "    lemma_text = []                              # список для хранения лемматизированных слов\n",
    "    for word in sp(text.lower()):                # проходим по субтитрам\n",
    "        if word.lemma_.isalpha():                # если лемма слова - текст\n",
    "            lemma_text.append(word.lemma_)       # добавляем лемму в список\n",
    "    return ' '.join(lemma_text)                  # объединяем список лемм в текст"
   ]
  },
  {
   "cell_type": "code",
   "execution_count": 43,
   "id": "02c6f0b7",
   "metadata": {},
   "outputs": [
    {
     "data": {
      "application/vnd.jupyter.widget-view+json": {
       "model_id": "bb5610ac002a4d31b1b61fdf2f750bc4",
       "version_major": 2,
       "version_minor": 0
      },
      "text/plain": [
       "Pandas Apply:   0%|          | 0/4424 [00:00<?, ?it/s]"
      ]
     },
     "metadata": {},
     "output_type": "display_data"
    }
   ],
   "source": [
    "df['subtitles_mod'] = df.swifter.apply(lambda x: lemmatisation(x['subs']), axis=1)"
   ]
  },
  {
   "cell_type": "markdown",
   "id": "335ecaa9",
   "metadata": {},
   "source": [
    "Определяем доли слов по уровню сложности:"
   ]
  },
  {
   "cell_type": "code",
   "execution_count": 44,
   "id": "fc54c5a1",
   "metadata": {},
   "outputs": [],
   "source": [
    "def words_sort(text, level):\n",
    "    n = 0                                       # инициализируем переменную количества слов\n",
    "    for i in text.split():                      # проходим по лемматизированному тексту\n",
    "        # если слово есть в словари  \"The Oxford 5000™ by CEFR level (American English)\" и \"The Oxford 5000™ by CEFR level\"\n",
    "        if i in list(word_level[level]):\n",
    "            n += 1                              # увеличиваем счетчик\n",
    "    koef = n / len(text.split())                # считаем долю\n",
    "    return koef"
   ]
  },
  {
   "cell_type": "code",
   "execution_count": 45,
   "id": "49f33273",
   "metadata": {
    "scrolled": false
   },
   "outputs": [
    {
     "data": {
      "application/vnd.jupyter.widget-view+json": {
       "model_id": "f160d67bfe4e448ab0cf9b8e631e11a7",
       "version_major": 2,
       "version_minor": 0
      },
      "text/plain": [
       "Pandas Apply:   0%|          | 0/4424 [00:00<?, ?it/s]"
      ]
     },
     "metadata": {},
     "output_type": "display_data"
    },
    {
     "data": {
      "application/vnd.jupyter.widget-view+json": {
       "model_id": "618ecab7d5d149d5b0c4632639648dd7",
       "version_major": 2,
       "version_minor": 0
      },
      "text/plain": [
       "Pandas Apply:   0%|          | 0/4424 [00:00<?, ?it/s]"
      ]
     },
     "metadata": {},
     "output_type": "display_data"
    },
    {
     "data": {
      "application/vnd.jupyter.widget-view+json": {
       "model_id": "800dc1f34f3d4f3595c6a9dc2346dc7d",
       "version_major": 2,
       "version_minor": 0
      },
      "text/plain": [
       "Pandas Apply:   0%|          | 0/4424 [00:00<?, ?it/s]"
      ]
     },
     "metadata": {},
     "output_type": "display_data"
    },
    {
     "data": {
      "application/vnd.jupyter.widget-view+json": {
       "model_id": "8b3c541641d3428ebe4042f72d05b20c",
       "version_major": 2,
       "version_minor": 0
      },
      "text/plain": [
       "Pandas Apply:   0%|          | 0/4424 [00:00<?, ?it/s]"
      ]
     },
     "metadata": {},
     "output_type": "display_data"
    },
    {
     "data": {
      "application/vnd.jupyter.widget-view+json": {
       "model_id": "c42872ef713d489d893e2bcd0302b9b0",
       "version_major": 2,
       "version_minor": 0
      },
      "text/plain": [
       "Pandas Apply:   0%|          | 0/4424 [00:00<?, ?it/s]"
      ]
     },
     "metadata": {},
     "output_type": "display_data"
    }
   ],
   "source": [
    "words_sort_list = {'a_1' : 'a1', 'a_2' : 'a2',                             # словарь уровней слов\n",
    "                   'b_1' : 'b1', 'b_2' : 'b2', 'c_1' : 'c1'}\n",
    "for key, value in words_sort_list.items():                                 # рассчитываем долю слов каждого уровня\n",
    "    df[key] = df.swifter.apply(lambda x: words_sort(x['subtitles_mod'], value), axis=1)"
   ]
  },
  {
   "cell_type": "markdown",
   "id": "843faf64",
   "metadata": {},
   "source": [
    "### Доли слов по частям речи\n",
    "<a id=\"section_3_3\"></a>"
   ]
  },
  {
   "cell_type": "markdown",
   "id": "6b27ea85",
   "metadata": {},
   "source": [
    "Определяем доли слов по частям речи. Для этого создаем словарь название признака - часть речи:"
   ]
  },
  {
   "cell_type": "code",
   "execution_count": 46,
   "id": "02977cf7",
   "metadata": {},
   "outputs": [],
   "source": [
    "word_form_dict = {}                                                   # словарь для хранение частей речи\n",
    "def word_form_pos(df):\n",
    "    for sen in df['subtitles_mod']:                                   # перебираем субтитры\n",
    "        for word in sp(sen):                                          # перебираем слова в субтитрах\n",
    "            word_form_dict['form_'+(word.pos_).lower()] = word.pos_   # определяем части речи, присутствующие в субтитрах\n",
    "    return word_form_dict"
   ]
  },
  {
   "cell_type": "code",
   "execution_count": 47,
   "id": "6b3b50f2",
   "metadata": {},
   "outputs": [],
   "source": [
    "word_form_dict = word_form_pos(df)"
   ]
  },
  {
   "cell_type": "markdown",
   "id": "9977916c",
   "metadata": {},
   "source": [
    "Добавляем в датафрейм доли слов по частям речи:"
   ]
  },
  {
   "cell_type": "code",
   "execution_count": 48,
   "id": "66ee8d22",
   "metadata": {},
   "outputs": [],
   "source": [
    "def word_form(text, form):\n",
    "    n = 0                                        # инициализируем переменную количества слов\n",
    "    for word in sp(text):                        # проходим по словам\n",
    "        if word.pos_ == form:                    # если слово соответствует рассматриваемой части речи\n",
    "            n += 1                               # увеличиваем счетчик\n",
    "    return n / len(text)"
   ]
  },
  {
   "cell_type": "code",
   "execution_count": 49,
   "id": "f66832b1",
   "metadata": {},
   "outputs": [
    {
     "data": {
      "application/vnd.jupyter.widget-view+json": {
       "model_id": "8266879ae45a4eecb3898f849e5229d7",
       "version_major": 2,
       "version_minor": 0
      },
      "text/plain": [
       "Pandas Apply:   0%|          | 0/4424 [00:00<?, ?it/s]"
      ]
     },
     "metadata": {},
     "output_type": "display_data"
    },
    {
     "data": {
      "application/vnd.jupyter.widget-view+json": {
       "model_id": "5d1853bdc3784ed08c3f36d141f6156f",
       "version_major": 2,
       "version_minor": 0
      },
      "text/plain": [
       "Pandas Apply:   0%|          | 0/4424 [00:00<?, ?it/s]"
      ]
     },
     "metadata": {},
     "output_type": "display_data"
    },
    {
     "data": {
      "application/vnd.jupyter.widget-view+json": {
       "model_id": "1b7e59be378d416eb8f7775238b0eabf",
       "version_major": 2,
       "version_minor": 0
      },
      "text/plain": [
       "Pandas Apply:   0%|          | 0/4424 [00:00<?, ?it/s]"
      ]
     },
     "metadata": {},
     "output_type": "display_data"
    },
    {
     "data": {
      "application/vnd.jupyter.widget-view+json": {
       "model_id": "42764bbc739746f79f2f5dc964fa10f7",
       "version_major": 2,
       "version_minor": 0
      },
      "text/plain": [
       "Pandas Apply:   0%|          | 0/4424 [00:00<?, ?it/s]"
      ]
     },
     "metadata": {},
     "output_type": "display_data"
    },
    {
     "data": {
      "application/vnd.jupyter.widget-view+json": {
       "model_id": "e8bc18983a654005be130a65ed490642",
       "version_major": 2,
       "version_minor": 0
      },
      "text/plain": [
       "Pandas Apply:   0%|          | 0/4424 [00:00<?, ?it/s]"
      ]
     },
     "metadata": {},
     "output_type": "display_data"
    },
    {
     "data": {
      "application/vnd.jupyter.widget-view+json": {
       "model_id": "22177ab166394814801e6db5d1440452",
       "version_major": 2,
       "version_minor": 0
      },
      "text/plain": [
       "Pandas Apply:   0%|          | 0/4424 [00:00<?, ?it/s]"
      ]
     },
     "metadata": {},
     "output_type": "display_data"
    },
    {
     "data": {
      "application/vnd.jupyter.widget-view+json": {
       "model_id": "47962fe117474182987612a58aa52c43",
       "version_major": 2,
       "version_minor": 0
      },
      "text/plain": [
       "Pandas Apply:   0%|          | 0/4424 [00:00<?, ?it/s]"
      ]
     },
     "metadata": {},
     "output_type": "display_data"
    },
    {
     "data": {
      "application/vnd.jupyter.widget-view+json": {
       "model_id": "54f76d0dcf5c410694b079fc2a466692",
       "version_major": 2,
       "version_minor": 0
      },
      "text/plain": [
       "Pandas Apply:   0%|          | 0/4424 [00:00<?, ?it/s]"
      ]
     },
     "metadata": {},
     "output_type": "display_data"
    },
    {
     "data": {
      "application/vnd.jupyter.widget-view+json": {
       "model_id": "7cbf1a1e5d6f407ca4bf20e4d01aec90",
       "version_major": 2,
       "version_minor": 0
      },
      "text/plain": [
       "Pandas Apply:   0%|          | 0/4424 [00:00<?, ?it/s]"
      ]
     },
     "metadata": {},
     "output_type": "display_data"
    },
    {
     "data": {
      "application/vnd.jupyter.widget-view+json": {
       "model_id": "3cb879a78d5b433abea6cabedbb6b80b",
       "version_major": 2,
       "version_minor": 0
      },
      "text/plain": [
       "Pandas Apply:   0%|          | 0/4424 [00:00<?, ?it/s]"
      ]
     },
     "metadata": {},
     "output_type": "display_data"
    },
    {
     "data": {
      "application/vnd.jupyter.widget-view+json": {
       "model_id": "c660ff40e73743e59384921538a73186",
       "version_major": 2,
       "version_minor": 0
      },
      "text/plain": [
       "Pandas Apply:   0%|          | 0/4424 [00:00<?, ?it/s]"
      ]
     },
     "metadata": {},
     "output_type": "display_data"
    },
    {
     "data": {
      "application/vnd.jupyter.widget-view+json": {
       "model_id": "0335b38ea04a4b25a36eca2295ab6679",
       "version_major": 2,
       "version_minor": 0
      },
      "text/plain": [
       "Pandas Apply:   0%|          | 0/4424 [00:00<?, ?it/s]"
      ]
     },
     "metadata": {},
     "output_type": "display_data"
    },
    {
     "data": {
      "application/vnd.jupyter.widget-view+json": {
       "model_id": "e669a5d814134bd483a55469e739608e",
       "version_major": 2,
       "version_minor": 0
      },
      "text/plain": [
       "Pandas Apply:   0%|          | 0/4424 [00:00<?, ?it/s]"
      ]
     },
     "metadata": {},
     "output_type": "display_data"
    },
    {
     "data": {
      "application/vnd.jupyter.widget-view+json": {
       "model_id": "7d8d353a1a5940c6865cd06dd3d92b58",
       "version_major": 2,
       "version_minor": 0
      },
      "text/plain": [
       "Pandas Apply:   0%|          | 0/4424 [00:00<?, ?it/s]"
      ]
     },
     "metadata": {},
     "output_type": "display_data"
    },
    {
     "data": {
      "application/vnd.jupyter.widget-view+json": {
       "model_id": "8dd7ecce68cf4f7f9e233fca879a6b1b",
       "version_major": 2,
       "version_minor": 0
      },
      "text/plain": [
       "Pandas Apply:   0%|          | 0/4424 [00:00<?, ?it/s]"
      ]
     },
     "metadata": {},
     "output_type": "display_data"
    },
    {
     "data": {
      "application/vnd.jupyter.widget-view+json": {
       "model_id": "ff2c4835fcc3469980d0237f8c652af6",
       "version_major": 2,
       "version_minor": 0
      },
      "text/plain": [
       "Pandas Apply:   0%|          | 0/4424 [00:00<?, ?it/s]"
      ]
     },
     "metadata": {},
     "output_type": "display_data"
    },
    {
     "data": {
      "application/vnd.jupyter.widget-view+json": {
       "model_id": "28305a06c8274c2bb2e4783ee16b6fcd",
       "version_major": 2,
       "version_minor": 0
      },
      "text/plain": [
       "Pandas Apply:   0%|          | 0/4424 [00:00<?, ?it/s]"
      ]
     },
     "metadata": {},
     "output_type": "display_data"
    }
   ],
   "source": [
    "for key, value in word_form_dict.items():                               # проходим по словарю частей речи\n",
    "    df[key] = df.swifter.apply(lambda x: word_form(x['subtitles_mod'], value), axis=1)"
   ]
  },
  {
   "cell_type": "markdown",
   "id": "463b3ea1",
   "metadata": {},
   "source": [
    "Удаляем признаки \"subtitles_mod\", \"length\", которые использовались для feature engineering:"
   ]
  },
  {
   "cell_type": "code",
   "execution_count": 50,
   "id": "afc8e3a8",
   "metadata": {},
   "outputs": [],
   "source": [
    "df = df.drop(['subtitles_mod', 'length'], axis=1)"
   ]
  },
  {
   "cell_type": "markdown",
   "id": "a658868c",
   "metadata": {},
   "source": [
    "Выводим информацию по датафрейму:"
   ]
  },
  {
   "cell_type": "code",
   "execution_count": 51,
   "id": "d7fda544",
   "metadata": {},
   "outputs": [
    {
     "name": "stdout",
     "output_type": "stream",
     "text": [
      "Общая информация о датафрейме:\n",
      "<class 'pandas.core.frame.DataFrame'>\n",
      "RangeIndex: 4424 entries, 0 to 4423\n",
      "Data columns (total 34 columns):\n",
      " #   Column      Non-Null Count  Dtype  \n",
      "---  ------      --------------  -----  \n",
      " 0   level       4424 non-null   object \n",
      " 1   subs        4424 non-null   object \n",
      " 2   words       4424 non-null   float64\n",
      " 3   fre         4424 non-null   float64\n",
      " 4   si          4424 non-null   float64\n",
      " 5   fkd         4424 non-null   float64\n",
      " 6   cli         4424 non-null   float64\n",
      " 7   ari         4424 non-null   float64\n",
      " 8   dcrs        4424 non-null   float64\n",
      " 9   dw          4424 non-null   int64  \n",
      " 10  lwf         4424 non-null   float64\n",
      " 11  gf          4424 non-null   float64\n",
      " 12  a_1         4424 non-null   float64\n",
      " 13  a_2         4424 non-null   float64\n",
      " 14  b_1         4424 non-null   float64\n",
      " 15  b_2         4424 non-null   float64\n",
      " 16  c_1         4424 non-null   float64\n",
      " 17  form_verb   4424 non-null   float64\n",
      " 18  form_det    4424 non-null   float64\n",
      " 19  form_noun   4424 non-null   float64\n",
      " 20  form_propn  4424 non-null   float64\n",
      " 21  form_adp    4424 non-null   float64\n",
      " 22  form_intj   4424 non-null   float64\n",
      " 23  form_aux    4424 non-null   float64\n",
      " 24  form_part   4424 non-null   float64\n",
      " 25  form_adv    4424 non-null   float64\n",
      " 26  form_pron   4424 non-null   float64\n",
      " 27  form_adj    4424 non-null   float64\n",
      " 28  form_sconj  4424 non-null   float64\n",
      " 29  form_cconj  4424 non-null   float64\n",
      " 30  form_num    4424 non-null   float64\n",
      " 31  form_x      4424 non-null   float64\n",
      " 32  form_punct  4424 non-null   float64\n",
      " 33  form_sym    4424 non-null   float64\n",
      "dtypes: float64(31), int64(1), object(2)\n",
      "memory usage: 10.6 MB\n",
      "None\n",
      "__________________________________________________\n",
      "\n",
      "Несколько строк датафрейма:\n"
     ]
    },
    {
     "data": {
      "text/html": [
       "<div>\n",
       "<style scoped>\n",
       "    .dataframe tbody tr th:only-of-type {\n",
       "        vertical-align: middle;\n",
       "    }\n",
       "\n",
       "    .dataframe tbody tr th {\n",
       "        vertical-align: top;\n",
       "    }\n",
       "\n",
       "    .dataframe thead th {\n",
       "        text-align: right;\n",
       "    }\n",
       "</style>\n",
       "<table border=\"1\" class=\"dataframe\">\n",
       "  <thead>\n",
       "    <tr style=\"text-align: right;\">\n",
       "      <th></th>\n",
       "      <th>level</th>\n",
       "      <th>subs</th>\n",
       "      <th>words</th>\n",
       "      <th>fre</th>\n",
       "      <th>si</th>\n",
       "      <th>fkd</th>\n",
       "      <th>cli</th>\n",
       "      <th>ari</th>\n",
       "      <th>dcrs</th>\n",
       "      <th>dw</th>\n",
       "      <th>...</th>\n",
       "      <th>form_part</th>\n",
       "      <th>form_adv</th>\n",
       "      <th>form_pron</th>\n",
       "      <th>form_adj</th>\n",
       "      <th>form_sconj</th>\n",
       "      <th>form_cconj</th>\n",
       "      <th>form_num</th>\n",
       "      <th>form_x</th>\n",
       "      <th>form_punct</th>\n",
       "      <th>form_sym</th>\n",
       "    </tr>\n",
       "  </thead>\n",
       "  <tbody>\n",
       "    <tr>\n",
       "      <th>220</th>\n",
       "      <td>B2</td>\n",
       "      <td>. a handsome young prince. lived in a beautifu...</td>\n",
       "      <td>7.971429</td>\n",
       "      <td>86.71</td>\n",
       "      <td>6.9</td>\n",
       "      <td>3.7</td>\n",
       "      <td>5.54</td>\n",
       "      <td>4.2</td>\n",
       "      <td>6.65</td>\n",
       "      <td>50</td>\n",
       "      <td>...</td>\n",
       "      <td>0.007423</td>\n",
       "      <td>0.007423</td>\n",
       "      <td>0.026158</td>\n",
       "      <td>0.019088</td>\n",
       "      <td>0.005302</td>\n",
       "      <td>0.004949</td>\n",
       "      <td>0.001767</td>\n",
       "      <td>0.0</td>\n",
       "      <td>0.0</td>\n",
       "      <td>0.0</td>\n",
       "    </tr>\n",
       "    <tr>\n",
       "      <th>1332</th>\n",
       "      <td>B1</td>\n",
       "      <td>These things are a test of character. And I h...</td>\n",
       "      <td>4.710145</td>\n",
       "      <td>97.50</td>\n",
       "      <td>6.3</td>\n",
       "      <td>1.6</td>\n",
       "      <td>3.84</td>\n",
       "      <td>3.0</td>\n",
       "      <td>6.06</td>\n",
       "      <td>24</td>\n",
       "      <td>...</td>\n",
       "      <td>0.007486</td>\n",
       "      <td>0.008734</td>\n",
       "      <td>0.039925</td>\n",
       "      <td>0.007486</td>\n",
       "      <td>0.005614</td>\n",
       "      <td>0.002495</td>\n",
       "      <td>0.001248</td>\n",
       "      <td>0.0</td>\n",
       "      <td>0.0</td>\n",
       "      <td>0.0</td>\n",
       "    </tr>\n",
       "    <tr>\n",
       "      <th>3448</th>\n",
       "      <td>B2</td>\n",
       "      <td>Offered only to our most exclusive members. Yo...</td>\n",
       "      <td>5.214286</td>\n",
       "      <td>88.43</td>\n",
       "      <td>7.0</td>\n",
       "      <td>3.0</td>\n",
       "      <td>4.49</td>\n",
       "      <td>3.4</td>\n",
       "      <td>6.69</td>\n",
       "      <td>40</td>\n",
       "      <td>...</td>\n",
       "      <td>0.007151</td>\n",
       "      <td>0.008801</td>\n",
       "      <td>0.045105</td>\n",
       "      <td>0.009351</td>\n",
       "      <td>0.009901</td>\n",
       "      <td>0.002750</td>\n",
       "      <td>0.003850</td>\n",
       "      <td>0.0</td>\n",
       "      <td>0.0</td>\n",
       "      <td>0.0</td>\n",
       "    </tr>\n",
       "    <tr>\n",
       "      <th>2905</th>\n",
       "      <td>B1</td>\n",
       "      <td>Ladies and gentlemen, I'm sure you've noticed...</td>\n",
       "      <td>4.637681</td>\n",
       "      <td>99.23</td>\n",
       "      <td>5.3</td>\n",
       "      <td>0.9</td>\n",
       "      <td>2.77</td>\n",
       "      <td>2.5</td>\n",
       "      <td>6.25</td>\n",
       "      <td>30</td>\n",
       "      <td>...</td>\n",
       "      <td>0.009446</td>\n",
       "      <td>0.008186</td>\n",
       "      <td>0.045970</td>\n",
       "      <td>0.005668</td>\n",
       "      <td>0.001889</td>\n",
       "      <td>0.003149</td>\n",
       "      <td>0.000000</td>\n",
       "      <td>0.0</td>\n",
       "      <td>0.0</td>\n",
       "      <td>0.0</td>\n",
       "    </tr>\n",
       "    <tr>\n",
       "      <th>841</th>\n",
       "      <td>B2</td>\n",
       "      <td>Once they have that location, they bomb the v...</td>\n",
       "      <td>9.130435</td>\n",
       "      <td>94.96</td>\n",
       "      <td>6.9</td>\n",
       "      <td>2.5</td>\n",
       "      <td>4.90</td>\n",
       "      <td>4.2</td>\n",
       "      <td>6.92</td>\n",
       "      <td>54</td>\n",
       "      <td>...</td>\n",
       "      <td>0.009464</td>\n",
       "      <td>0.010410</td>\n",
       "      <td>0.040379</td>\n",
       "      <td>0.010410</td>\n",
       "      <td>0.005047</td>\n",
       "      <td>0.002524</td>\n",
       "      <td>0.001262</td>\n",
       "      <td>0.0</td>\n",
       "      <td>0.0</td>\n",
       "      <td>0.0</td>\n",
       "    </tr>\n",
       "  </tbody>\n",
       "</table>\n",
       "<p>5 rows × 34 columns</p>\n",
       "</div>"
      ],
      "text/plain": [
       "     level                                               subs     words  \\\n",
       "220     B2  . a handsome young prince. lived in a beautifu...  7.971429   \n",
       "1332    B1   These things are a test of character. And I h...  4.710145   \n",
       "3448    B2  Offered only to our most exclusive members. Yo...  5.214286   \n",
       "2905    B1   Ladies and gentlemen, I'm sure you've noticed...  4.637681   \n",
       "841     B2   Once they have that location, they bomb the v...  9.130435   \n",
       "\n",
       "        fre   si  fkd   cli  ari  dcrs  dw  ...  form_part  form_adv  \\\n",
       "220   86.71  6.9  3.7  5.54  4.2  6.65  50  ...   0.007423  0.007423   \n",
       "1332  97.50  6.3  1.6  3.84  3.0  6.06  24  ...   0.007486  0.008734   \n",
       "3448  88.43  7.0  3.0  4.49  3.4  6.69  40  ...   0.007151  0.008801   \n",
       "2905  99.23  5.3  0.9  2.77  2.5  6.25  30  ...   0.009446  0.008186   \n",
       "841   94.96  6.9  2.5  4.90  4.2  6.92  54  ...   0.009464  0.010410   \n",
       "\n",
       "      form_pron  form_adj  form_sconj  form_cconj  form_num  form_x  \\\n",
       "220    0.026158  0.019088    0.005302    0.004949  0.001767     0.0   \n",
       "1332   0.039925  0.007486    0.005614    0.002495  0.001248     0.0   \n",
       "3448   0.045105  0.009351    0.009901    0.002750  0.003850     0.0   \n",
       "2905   0.045970  0.005668    0.001889    0.003149  0.000000     0.0   \n",
       "841    0.040379  0.010410    0.005047    0.002524  0.001262     0.0   \n",
       "\n",
       "      form_punct  form_sym  \n",
       "220          0.0       0.0  \n",
       "1332         0.0       0.0  \n",
       "3448         0.0       0.0  \n",
       "2905         0.0       0.0  \n",
       "841          0.0       0.0  \n",
       "\n",
       "[5 rows x 34 columns]"
      ]
     },
     "metadata": {},
     "output_type": "display_data"
    },
    {
     "name": "stdout",
     "output_type": "stream",
     "text": [
      "__________________________________________________\n",
      "\n",
      "Описательная статистика строковых значений:\n"
     ]
    },
    {
     "data": {
      "text/html": [
       "<div>\n",
       "<style scoped>\n",
       "    .dataframe tbody tr th:only-of-type {\n",
       "        vertical-align: middle;\n",
       "    }\n",
       "\n",
       "    .dataframe tbody tr th {\n",
       "        vertical-align: top;\n",
       "    }\n",
       "\n",
       "    .dataframe thead th {\n",
       "        text-align: right;\n",
       "    }\n",
       "</style>\n",
       "<table border=\"1\" class=\"dataframe\">\n",
       "  <thead>\n",
       "    <tr style=\"text-align: right;\">\n",
       "      <th></th>\n",
       "      <th>count</th>\n",
       "      <th>unique</th>\n",
       "      <th>top</th>\n",
       "      <th>freq</th>\n",
       "    </tr>\n",
       "  </thead>\n",
       "  <tbody>\n",
       "    <tr>\n",
       "      <th>level</th>\n",
       "      <td>4424</td>\n",
       "      <td>4</td>\n",
       "      <td>B2</td>\n",
       "      <td>1858</td>\n",
       "    </tr>\n",
       "    <tr>\n",
       "      <th>subs</th>\n",
       "      <td>4424</td>\n",
       "      <td>4424</td>\n",
       "      <td>Enjoy The Flick BEN ON PHONE Michelle, please ...</td>\n",
       "      <td>1</td>\n",
       "    </tr>\n",
       "  </tbody>\n",
       "</table>\n",
       "</div>"
      ],
      "text/plain": [
       "      count unique                                                top  freq\n",
       "level  4424      4                                                 B2  1858\n",
       "subs   4424   4424  Enjoy The Flick BEN ON PHONE Michelle, please ...     1"
      ]
     },
     "metadata": {},
     "output_type": "display_data"
    },
    {
     "name": "stdout",
     "output_type": "stream",
     "text": [
      "_____\n",
      "Описательная статистика числовых значений:\n"
     ]
    },
    {
     "data": {
      "text/html": [
       "<div>\n",
       "<style scoped>\n",
       "    .dataframe tbody tr th:only-of-type {\n",
       "        vertical-align: middle;\n",
       "    }\n",
       "\n",
       "    .dataframe tbody tr th {\n",
       "        vertical-align: top;\n",
       "    }\n",
       "\n",
       "    .dataframe thead th {\n",
       "        text-align: right;\n",
       "    }\n",
       "</style>\n",
       "<table border=\"1\" class=\"dataframe\">\n",
       "  <thead>\n",
       "    <tr style=\"text-align: right;\">\n",
       "      <th></th>\n",
       "      <th>count</th>\n",
       "      <th>mean</th>\n",
       "      <th>std</th>\n",
       "      <th>min</th>\n",
       "      <th>25%</th>\n",
       "      <th>50%</th>\n",
       "      <th>75%</th>\n",
       "      <th>max</th>\n",
       "    </tr>\n",
       "  </thead>\n",
       "  <tbody>\n",
       "    <tr>\n",
       "      <th>words</th>\n",
       "      <td>4424.0</td>\n",
       "      <td>5.897678</td>\n",
       "      <td>1.794363</td>\n",
       "      <td>2.333333</td>\n",
       "      <td>4.652174</td>\n",
       "      <td>5.507246</td>\n",
       "      <td>6.800000</td>\n",
       "      <td>18.608696</td>\n",
       "    </tr>\n",
       "    <tr>\n",
       "      <th>fre</th>\n",
       "      <td>4424.0</td>\n",
       "      <td>95.470002</td>\n",
       "      <td>5.500522</td>\n",
       "      <td>62.680000</td>\n",
       "      <td>90.460000</td>\n",
       "      <td>97.090000</td>\n",
       "      <td>98.410000</td>\n",
       "      <td>108.800000</td>\n",
       "    </tr>\n",
       "    <tr>\n",
       "      <th>si</th>\n",
       "      <td>4424.0</td>\n",
       "      <td>6.182030</td>\n",
       "      <td>0.818341</td>\n",
       "      <td>3.100000</td>\n",
       "      <td>5.700000</td>\n",
       "      <td>6.200000</td>\n",
       "      <td>6.700000</td>\n",
       "      <td>11.200000</td>\n",
       "    </tr>\n",
       "    <tr>\n",
       "      <th>fkd</th>\n",
       "      <td>4424.0</td>\n",
       "      <td>1.886325</td>\n",
       "      <td>1.014171</td>\n",
       "      <td>-0.800000</td>\n",
       "      <td>1.200000</td>\n",
       "      <td>1.700000</td>\n",
       "      <td>2.500000</td>\n",
       "      <td>8.700000</td>\n",
       "    </tr>\n",
       "    <tr>\n",
       "      <th>cli</th>\n",
       "      <td>4424.0</td>\n",
       "      <td>3.179882</td>\n",
       "      <td>1.314047</td>\n",
       "      <td>-1.610000</td>\n",
       "      <td>2.330000</td>\n",
       "      <td>3.150000</td>\n",
       "      <td>3.960000</td>\n",
       "      <td>10.090000</td>\n",
       "    </tr>\n",
       "    <tr>\n",
       "      <th>ari</th>\n",
       "      <td>4424.0</td>\n",
       "      <td>2.568671</td>\n",
       "      <td>1.082527</td>\n",
       "      <td>-0.500000</td>\n",
       "      <td>1.900000</td>\n",
       "      <td>2.500000</td>\n",
       "      <td>3.100000</td>\n",
       "      <td>9.900000</td>\n",
       "    </tr>\n",
       "    <tr>\n",
       "      <th>dcrs</th>\n",
       "      <td>4424.0</td>\n",
       "      <td>6.179919</td>\n",
       "      <td>0.535996</td>\n",
       "      <td>0.960000</td>\n",
       "      <td>5.820000</td>\n",
       "      <td>6.130000</td>\n",
       "      <td>6.500000</td>\n",
       "      <td>9.260000</td>\n",
       "    </tr>\n",
       "    <tr>\n",
       "      <th>dw</th>\n",
       "      <td>4424.0</td>\n",
       "      <td>31.224005</td>\n",
       "      <td>15.361048</td>\n",
       "      <td>3.000000</td>\n",
       "      <td>21.000000</td>\n",
       "      <td>29.000000</td>\n",
       "      <td>38.000000</td>\n",
       "      <td>197.000000</td>\n",
       "    </tr>\n",
       "    <tr>\n",
       "      <th>lwf</th>\n",
       "      <td>4424.0</td>\n",
       "      <td>3.261656</td>\n",
       "      <td>1.628396</td>\n",
       "      <td>1.260870</td>\n",
       "      <td>2.437500</td>\n",
       "      <td>2.928571</td>\n",
       "      <td>3.666667</td>\n",
       "      <td>50.000000</td>\n",
       "    </tr>\n",
       "    <tr>\n",
       "      <th>gf</th>\n",
       "      <td>4424.0</td>\n",
       "      <td>4.112848</td>\n",
       "      <td>0.888035</td>\n",
       "      <td>1.920000</td>\n",
       "      <td>3.500000</td>\n",
       "      <td>4.020000</td>\n",
       "      <td>4.610000</td>\n",
       "      <td>10.060000</td>\n",
       "    </tr>\n",
       "    <tr>\n",
       "      <th>a_1</th>\n",
       "      <td>4424.0</td>\n",
       "      <td>0.809228</td>\n",
       "      <td>0.049929</td>\n",
       "      <td>0.472973</td>\n",
       "      <td>0.779759</td>\n",
       "      <td>0.815573</td>\n",
       "      <td>0.844267</td>\n",
       "      <td>0.945498</td>\n",
       "    </tr>\n",
       "    <tr>\n",
       "      <th>a_2</th>\n",
       "      <td>4424.0</td>\n",
       "      <td>0.109771</td>\n",
       "      <td>0.021924</td>\n",
       "      <td>0.045213</td>\n",
       "      <td>0.094629</td>\n",
       "      <td>0.108173</td>\n",
       "      <td>0.122998</td>\n",
       "      <td>0.221805</td>\n",
       "    </tr>\n",
       "    <tr>\n",
       "      <th>b_1</th>\n",
       "      <td>4424.0</td>\n",
       "      <td>0.086351</td>\n",
       "      <td>0.018300</td>\n",
       "      <td>0.021459</td>\n",
       "      <td>0.073854</td>\n",
       "      <td>0.085642</td>\n",
       "      <td>0.098406</td>\n",
       "      <td>0.190476</td>\n",
       "    </tr>\n",
       "    <tr>\n",
       "      <th>b_2</th>\n",
       "      <td>4424.0</td>\n",
       "      <td>0.069230</td>\n",
       "      <td>0.017719</td>\n",
       "      <td>0.011952</td>\n",
       "      <td>0.057143</td>\n",
       "      <td>0.067847</td>\n",
       "      <td>0.080247</td>\n",
       "      <td>0.154135</td>\n",
       "    </tr>\n",
       "    <tr>\n",
       "      <th>c_1</th>\n",
       "      <td>4424.0</td>\n",
       "      <td>0.025748</td>\n",
       "      <td>0.009938</td>\n",
       "      <td>0.000000</td>\n",
       "      <td>0.018868</td>\n",
       "      <td>0.024780</td>\n",
       "      <td>0.031333</td>\n",
       "      <td>0.102649</td>\n",
       "    </tr>\n",
       "    <tr>\n",
       "      <th>form_verb</th>\n",
       "      <td>4424.0</td>\n",
       "      <td>0.037914</td>\n",
       "      <td>0.005478</td>\n",
       "      <td>0.018788</td>\n",
       "      <td>0.034431</td>\n",
       "      <td>0.038040</td>\n",
       "      <td>0.041481</td>\n",
       "      <td>0.063193</td>\n",
       "    </tr>\n",
       "    <tr>\n",
       "      <th>form_det</th>\n",
       "      <td>4424.0</td>\n",
       "      <td>0.013603</td>\n",
       "      <td>0.003523</td>\n",
       "      <td>0.001650</td>\n",
       "      <td>0.011312</td>\n",
       "      <td>0.013434</td>\n",
       "      <td>0.015708</td>\n",
       "      <td>0.030457</td>\n",
       "    </tr>\n",
       "    <tr>\n",
       "      <th>form_noun</th>\n",
       "      <td>4424.0</td>\n",
       "      <td>0.030433</td>\n",
       "      <td>0.006445</td>\n",
       "      <td>0.010989</td>\n",
       "      <td>0.026001</td>\n",
       "      <td>0.030021</td>\n",
       "      <td>0.034525</td>\n",
       "      <td>0.055629</td>\n",
       "    </tr>\n",
       "    <tr>\n",
       "      <th>form_propn</th>\n",
       "      <td>4424.0</td>\n",
       "      <td>0.007856</td>\n",
       "      <td>0.005044</td>\n",
       "      <td>0.000000</td>\n",
       "      <td>0.004435</td>\n",
       "      <td>0.006891</td>\n",
       "      <td>0.010107</td>\n",
       "      <td>0.065945</td>\n",
       "    </tr>\n",
       "    <tr>\n",
       "      <th>form_adp</th>\n",
       "      <td>4424.0</td>\n",
       "      <td>0.014946</td>\n",
       "      <td>0.003412</td>\n",
       "      <td>0.000000</td>\n",
       "      <td>0.012711</td>\n",
       "      <td>0.014950</td>\n",
       "      <td>0.017207</td>\n",
       "      <td>0.031189</td>\n",
       "    </tr>\n",
       "    <tr>\n",
       "      <th>form_intj</th>\n",
       "      <td>4424.0</td>\n",
       "      <td>0.007492</td>\n",
       "      <td>0.005415</td>\n",
       "      <td>0.000000</td>\n",
       "      <td>0.003538</td>\n",
       "      <td>0.006047</td>\n",
       "      <td>0.010155</td>\n",
       "      <td>0.041389</td>\n",
       "    </tr>\n",
       "    <tr>\n",
       "      <th>form_aux</th>\n",
       "      <td>4424.0</td>\n",
       "      <td>0.015705</td>\n",
       "      <td>0.003610</td>\n",
       "      <td>0.003413</td>\n",
       "      <td>0.013244</td>\n",
       "      <td>0.015695</td>\n",
       "      <td>0.018049</td>\n",
       "      <td>0.032175</td>\n",
       "    </tr>\n",
       "    <tr>\n",
       "      <th>form_part</th>\n",
       "      <td>4424.0</td>\n",
       "      <td>0.008944</td>\n",
       "      <td>0.003391</td>\n",
       "      <td>0.000862</td>\n",
       "      <td>0.006404</td>\n",
       "      <td>0.008621</td>\n",
       "      <td>0.011185</td>\n",
       "      <td>0.025204</td>\n",
       "    </tr>\n",
       "    <tr>\n",
       "      <th>form_adv</th>\n",
       "      <td>4424.0</td>\n",
       "      <td>0.012725</td>\n",
       "      <td>0.003741</td>\n",
       "      <td>0.001907</td>\n",
       "      <td>0.010129</td>\n",
       "      <td>0.012339</td>\n",
       "      <td>0.014861</td>\n",
       "      <td>0.037069</td>\n",
       "    </tr>\n",
       "    <tr>\n",
       "      <th>form_pron</th>\n",
       "      <td>4424.0</td>\n",
       "      <td>0.044476</td>\n",
       "      <td>0.008377</td>\n",
       "      <td>0.010507</td>\n",
       "      <td>0.039123</td>\n",
       "      <td>0.044805</td>\n",
       "      <td>0.050237</td>\n",
       "      <td>0.073789</td>\n",
       "    </tr>\n",
       "    <tr>\n",
       "      <th>form_adj</th>\n",
       "      <td>4424.0</td>\n",
       "      <td>0.011196</td>\n",
       "      <td>0.003459</td>\n",
       "      <td>0.001438</td>\n",
       "      <td>0.008693</td>\n",
       "      <td>0.010946</td>\n",
       "      <td>0.013404</td>\n",
       "      <td>0.024145</td>\n",
       "    </tr>\n",
       "    <tr>\n",
       "      <th>form_sconj</th>\n",
       "      <td>4424.0</td>\n",
       "      <td>0.005288</td>\n",
       "      <td>0.002258</td>\n",
       "      <td>0.000000</td>\n",
       "      <td>0.003652</td>\n",
       "      <td>0.005139</td>\n",
       "      <td>0.006702</td>\n",
       "      <td>0.014553</td>\n",
       "    </tr>\n",
       "    <tr>\n",
       "      <th>form_cconj</th>\n",
       "      <td>4424.0</td>\n",
       "      <td>0.004552</td>\n",
       "      <td>0.002022</td>\n",
       "      <td>0.000000</td>\n",
       "      <td>0.003132</td>\n",
       "      <td>0.004440</td>\n",
       "      <td>0.005861</td>\n",
       "      <td>0.016554</td>\n",
       "    </tr>\n",
       "    <tr>\n",
       "      <th>form_num</th>\n",
       "      <td>4424.0</td>\n",
       "      <td>0.001290</td>\n",
       "      <td>0.001467</td>\n",
       "      <td>0.000000</td>\n",
       "      <td>0.000464</td>\n",
       "      <td>0.000957</td>\n",
       "      <td>0.001719</td>\n",
       "      <td>0.025248</td>\n",
       "    </tr>\n",
       "    <tr>\n",
       "      <th>form_x</th>\n",
       "      <td>4424.0</td>\n",
       "      <td>0.000109</td>\n",
       "      <td>0.000418</td>\n",
       "      <td>0.000000</td>\n",
       "      <td>0.000000</td>\n",
       "      <td>0.000000</td>\n",
       "      <td>0.000000</td>\n",
       "      <td>0.008152</td>\n",
       "    </tr>\n",
       "    <tr>\n",
       "      <th>form_punct</th>\n",
       "      <td>4424.0</td>\n",
       "      <td>0.000002</td>\n",
       "      <td>0.000039</td>\n",
       "      <td>0.000000</td>\n",
       "      <td>0.000000</td>\n",
       "      <td>0.000000</td>\n",
       "      <td>0.000000</td>\n",
       "      <td>0.000963</td>\n",
       "    </tr>\n",
       "    <tr>\n",
       "      <th>form_sym</th>\n",
       "      <td>4424.0</td>\n",
       "      <td>0.000003</td>\n",
       "      <td>0.000041</td>\n",
       "      <td>0.000000</td>\n",
       "      <td>0.000000</td>\n",
       "      <td>0.000000</td>\n",
       "      <td>0.000000</td>\n",
       "      <td>0.001028</td>\n",
       "    </tr>\n",
       "  </tbody>\n",
       "</table>\n",
       "</div>"
      ],
      "text/plain": [
       "             count       mean        std        min        25%        50%  \\\n",
       "words       4424.0   5.897678   1.794363   2.333333   4.652174   5.507246   \n",
       "fre         4424.0  95.470002   5.500522  62.680000  90.460000  97.090000   \n",
       "si          4424.0   6.182030   0.818341   3.100000   5.700000   6.200000   \n",
       "fkd         4424.0   1.886325   1.014171  -0.800000   1.200000   1.700000   \n",
       "cli         4424.0   3.179882   1.314047  -1.610000   2.330000   3.150000   \n",
       "ari         4424.0   2.568671   1.082527  -0.500000   1.900000   2.500000   \n",
       "dcrs        4424.0   6.179919   0.535996   0.960000   5.820000   6.130000   \n",
       "dw          4424.0  31.224005  15.361048   3.000000  21.000000  29.000000   \n",
       "lwf         4424.0   3.261656   1.628396   1.260870   2.437500   2.928571   \n",
       "gf          4424.0   4.112848   0.888035   1.920000   3.500000   4.020000   \n",
       "a_1         4424.0   0.809228   0.049929   0.472973   0.779759   0.815573   \n",
       "a_2         4424.0   0.109771   0.021924   0.045213   0.094629   0.108173   \n",
       "b_1         4424.0   0.086351   0.018300   0.021459   0.073854   0.085642   \n",
       "b_2         4424.0   0.069230   0.017719   0.011952   0.057143   0.067847   \n",
       "c_1         4424.0   0.025748   0.009938   0.000000   0.018868   0.024780   \n",
       "form_verb   4424.0   0.037914   0.005478   0.018788   0.034431   0.038040   \n",
       "form_det    4424.0   0.013603   0.003523   0.001650   0.011312   0.013434   \n",
       "form_noun   4424.0   0.030433   0.006445   0.010989   0.026001   0.030021   \n",
       "form_propn  4424.0   0.007856   0.005044   0.000000   0.004435   0.006891   \n",
       "form_adp    4424.0   0.014946   0.003412   0.000000   0.012711   0.014950   \n",
       "form_intj   4424.0   0.007492   0.005415   0.000000   0.003538   0.006047   \n",
       "form_aux    4424.0   0.015705   0.003610   0.003413   0.013244   0.015695   \n",
       "form_part   4424.0   0.008944   0.003391   0.000862   0.006404   0.008621   \n",
       "form_adv    4424.0   0.012725   0.003741   0.001907   0.010129   0.012339   \n",
       "form_pron   4424.0   0.044476   0.008377   0.010507   0.039123   0.044805   \n",
       "form_adj    4424.0   0.011196   0.003459   0.001438   0.008693   0.010946   \n",
       "form_sconj  4424.0   0.005288   0.002258   0.000000   0.003652   0.005139   \n",
       "form_cconj  4424.0   0.004552   0.002022   0.000000   0.003132   0.004440   \n",
       "form_num    4424.0   0.001290   0.001467   0.000000   0.000464   0.000957   \n",
       "form_x      4424.0   0.000109   0.000418   0.000000   0.000000   0.000000   \n",
       "form_punct  4424.0   0.000002   0.000039   0.000000   0.000000   0.000000   \n",
       "form_sym    4424.0   0.000003   0.000041   0.000000   0.000000   0.000000   \n",
       "\n",
       "                  75%         max  \n",
       "words        6.800000   18.608696  \n",
       "fre         98.410000  108.800000  \n",
       "si           6.700000   11.200000  \n",
       "fkd          2.500000    8.700000  \n",
       "cli          3.960000   10.090000  \n",
       "ari          3.100000    9.900000  \n",
       "dcrs         6.500000    9.260000  \n",
       "dw          38.000000  197.000000  \n",
       "lwf          3.666667   50.000000  \n",
       "gf           4.610000   10.060000  \n",
       "a_1          0.844267    0.945498  \n",
       "a_2          0.122998    0.221805  \n",
       "b_1          0.098406    0.190476  \n",
       "b_2          0.080247    0.154135  \n",
       "c_1          0.031333    0.102649  \n",
       "form_verb    0.041481    0.063193  \n",
       "form_det     0.015708    0.030457  \n",
       "form_noun    0.034525    0.055629  \n",
       "form_propn   0.010107    0.065945  \n",
       "form_adp     0.017207    0.031189  \n",
       "form_intj    0.010155    0.041389  \n",
       "form_aux     0.018049    0.032175  \n",
       "form_part    0.011185    0.025204  \n",
       "form_adv     0.014861    0.037069  \n",
       "form_pron    0.050237    0.073789  \n",
       "form_adj     0.013404    0.024145  \n",
       "form_sconj   0.006702    0.014553  \n",
       "form_cconj   0.005861    0.016554  \n",
       "form_num     0.001719    0.025248  \n",
       "form_x       0.000000    0.008152  \n",
       "form_punct   0.000000    0.000963  \n",
       "form_sym     0.000000    0.001028  "
      ]
     },
     "metadata": {},
     "output_type": "display_data"
    },
    {
     "name": "stdout",
     "output_type": "stream",
     "text": [
      "__________________________________________________\n",
      "\n"
     ]
    }
   ],
   "source": [
    "dataframe_info(df)"
   ]
  },
  {
   "cell_type": "markdown",
   "id": "e878c652",
   "metadata": {},
   "source": [
    "**Вывод:**  \n",
    "В датарейм добавлены следующие признаки:  \n",
    "- words - среднее количество слов в предложении;\n",
    "- fre - показатель легкости чтения Флеша;\n",
    "- si - показатель удобочитаемости , который оценивает годы обучения, необходимые для понимания написанного;\n",
    "- fkd - формула уровня успеваемости Флеша-Кинкейда;\n",
    "- cli - уровень оценки текста с помощью формулы Коулмана-Ляу;\n",
    "- ari - автоматический индекс удобочитаемости;\n",
    "- dcrs - уровень обучения, используя формулу Нью-Дейла-Чолла;\n",
    "- dw - коэффициент сложных слов;\n",
    "- lwf -  уровень оценки текста по формуле Linsear;\n",
    "- gf - индекс FOG;\n",
    "- a_1, a_2, b_1, b_2, c_1 - доля слов соответствующего уровня;\n",
    "- Признаки долей частей речи в субтитрах."
   ]
  },
  {
   "cell_type": "markdown",
   "id": "920e2d5c",
   "metadata": {},
   "source": [
    "## Обучение нейросети\n",
    "<a id=\"section_4\"></a>"
   ]
  },
  {
   "cell_type": "markdown",
   "id": "15172649",
   "metadata": {},
   "source": [
    "### Разделение выборки на обучающую и тестовую\n",
    "<a id=\"section_4_1\"></a>"
   ]
  },
  {
   "cell_type": "markdown",
   "id": "4fb40128",
   "metadata": {},
   "source": [
    "Задаем параметр random_state:"
   ]
  },
  {
   "cell_type": "code",
   "execution_count": 52,
   "id": "de8b1e47",
   "metadata": {},
   "outputs": [],
   "source": [
    "RS = 42"
   ]
  },
  {
   "cell_type": "markdown",
   "id": "4546e869",
   "metadata": {},
   "source": [
    "Выделяем из выборки целевую переменную:"
   ]
  },
  {
   "cell_type": "code",
   "execution_count": 53,
   "id": "1b3f9bcd",
   "metadata": {},
   "outputs": [],
   "source": [
    "features = df.drop(['level'], axis=1)\n",
    "target = df['level']"
   ]
  },
  {
   "cell_type": "markdown",
   "id": "5e0e1f0e",
   "metadata": {},
   "source": [
    "Разделение выборки на обучающую и тестовую. Поскольку обучение будет происходить с применением кросс-валидации, валидационная выборка не требуется."
   ]
  },
  {
   "cell_type": "code",
   "execution_count": 54,
   "id": "3e03a698",
   "metadata": {},
   "outputs": [],
   "source": [
    "X_train, X_test, y_train, y_test = train_test_split(\n",
    "    features, target, test_size=0.3, stratify=target, random_state=RS)\n",
    "X_train = X_train.reset_index(drop=True)\n",
    "X_test = X_test.reset_index(drop=True)\n",
    "y_train = y_train.reset_index(drop=True)\n",
    "y_test = y_test.reset_index(drop=True)"
   ]
  },
  {
   "cell_type": "markdown",
   "id": "9154d0f4",
   "metadata": {},
   "source": [
    "В исходном датафрейме целевая переменная имеет текстовый тип. Закодируем целевую переменную обучающей выборки с помощью OrdinalEncoder, результат преобразуем в тензор."
   ]
  },
  {
   "cell_type": "code",
   "execution_count": 55,
   "id": "c267865c",
   "metadata": {},
   "outputs": [],
   "source": [
    "def ord_encoder(y):\n",
    "    encoder = OrdinalEncoder()\n",
    "    y = y.reset_index()\n",
    "    y = encoder.fit_transform(y[['level']])\n",
    "    y = pd.DataFrame(data=y)\n",
    "    y = tensor(np.array(y), dtype=torch.long).reshape(-1)\n",
    "    return y, encoder"
   ]
  },
  {
   "cell_type": "code",
   "execution_count": 56,
   "id": "4f882a70",
   "metadata": {},
   "outputs": [],
   "source": [
    "y_train, encoder = ord_encoder(y_train)"
   ]
  },
  {
   "cell_type": "markdown",
   "id": "7e84634a",
   "metadata": {},
   "source": [
    "### Балансировка классов\n",
    "<a id=\"section_4_2\"></a>"
   ]
  },
  {
   "cell_type": "markdown",
   "id": "f0661e73",
   "metadata": {},
   "source": [
    "Рассчитываем веса классов:"
   ]
  },
  {
   "cell_type": "code",
   "execution_count": 57,
   "id": "d6c26155",
   "metadata": {},
   "outputs": [],
   "source": [
    "weights = class_weight.compute_class_weight(\n",
    "    class_weight='balanced',\n",
    "    classes=np.unique(pd.DataFrame(y_train.numpy())),\n",
    "    y=pd.DataFrame(y_train.numpy()).values.reshape(-1)\n",
    ")\n",
    "class_weights = tensor(np.array(weights), dtype=torch.float32)"
   ]
  },
  {
   "cell_type": "markdown",
   "id": "769e7131",
   "metadata": {},
   "source": [
    "### Векторизация текста\n",
    "<a id=\"section_4_3\"></a>"
   ]
  },
  {
   "cell_type": "markdown",
   "id": "927dd2e9",
   "metadata": {},
   "source": [
    "Загружаем предобученную модель BERT и автотокенизатор. Поскольку векторизация будет производиться с учетои регистра, загружаем модель \"bert-base-uncased\":"
   ]
  },
  {
   "cell_type": "code",
   "execution_count": 58,
   "id": "e298f6d8",
   "metadata": {},
   "outputs": [],
   "source": [
    "model = ppb.AutoModel.from_pretrained('bert-base-uncased')\n",
    "tokenizer = ppb.AutoTokenizer.from_pretrained('bert-base-uncased')"
   ]
  },
  {
   "cell_type": "markdown",
   "id": "79210298",
   "metadata": {},
   "source": [
    "Задаем обучение на GPU, если такая возможность имеется:"
   ]
  },
  {
   "cell_type": "code",
   "execution_count": 59,
   "id": "62d8e1b6",
   "metadata": {},
   "outputs": [],
   "source": [
    "device = torch.device('cuda' if torch.cuda.is_available() else 'cpu')\n",
    "model = model.to(device)"
   ]
  },
  {
   "cell_type": "markdown",
   "id": "66274a19",
   "metadata": {},
   "source": [
    "Задаем условия стратификации и перемешивания данных при кросс-валидации: "
   ]
  },
  {
   "cell_type": "code",
   "execution_count": 60,
   "id": "f622ca33",
   "metadata": {},
   "outputs": [],
   "source": [
    "model_dict = {}                                                             # словарь, для добавления в него лучших моделей\n",
    "n_counts = 4                                                                # количество подгрупп при кросс-валидации\n",
    "skf = StratifiedKFold(n_splits=n_counts, shuffle = True, random_state=RS)   # параметры стратификации/кросс-валидации"
   ]
  },
  {
   "cell_type": "markdown",
   "id": "30113851",
   "metadata": {},
   "source": [
    "Векторизтруем текст:"
   ]
  },
  {
   "cell_type": "code",
   "execution_count": 99,
   "id": "3ee7203b",
   "metadata": {},
   "outputs": [],
   "source": [
    "class subs_vectorization(BaseEstimator, TransformerMixin):\n",
    "    '''Класс обучения и трансформации датафреймов для обработки пропусков значений признаков \"make\" и \"transmission\"'''\n",
    "    \n",
    "    def fit(self, X, y=None):\n",
    "        '''функция обучения'''\n",
    "        X = X.copy()                                                               # делаем копию датафрейма входных признаков\n",
    "        X_stat = X.drop(['subs'], axis=1)                                          # выделяем полученные ранее признаки\n",
    "        tokenized = X['subs'].apply(                                               # токенизируем субтитры\n",
    "            lambda x: tokenizer.encode(x, padding=True, truncation=True, max_length=512, add_special_tokens = True))\n",
    "       # инициализируем переменную максимальной длины эмбендинга\n",
    "        max_len = 0\n",
    "        for i in tokenized.values:                                                 # определяем максимальную длину признака\n",
    "            if len(i) > max_len:\n",
    "                max_len = len(i)\n",
    "        self.max_len = max_len\n",
    "        \n",
    "        scaler = StandardScaler()                                                  # инициализируем StandardScaler\n",
    "        self.X_scaler = scaler.fit(X_stat)                                         # обучаем StandardScaler\n",
    "        return self\n",
    "\n",
    "    def transform(self, X):\n",
    "        '''функция трансформации'''\n",
    "        X = X.copy()                                                   # делаем копию датафрейма входных признаков\n",
    "        X_stat = X.drop(['subs'], axis=1)                              # выделяем полученные ранее признаки\n",
    "        MAX_LENGTH = self.max_len                                      # задаем максимальную длину эмбеддинга (получена в функции fit)\n",
    "        tokenized = X['subs'].apply(                                   # токенизируем субтитры\n",
    "            lambda x: tokenizer.encode(x, padding=True, truncation=True, max_length=MAX_LENGTH, add_special_tokens = True))\n",
    "        padded = np.array([i + [0]*(MAX_LENGTH - len(i)) for i in tokenized.values])   # увеличиваем длину признаков до максимальной\n",
    "        attention_mask = np.where(padded != 0, 1, 0)                                   # указываем нулевые и не нулевые значения\n",
    "        batch_size = 128                                                                           # размер батча\n",
    "        embeddings = []                                                                            # список для векторов признаков\n",
    "        for i in notebook.tqdm(range(padded.shape[0] // batch_size)):                              # выделяем батчи из выборки\n",
    "            batch = torch.LongTensor(padded[batch_size*i:batch_size*(i+1)])                        # преобразовываем данные в формат тензоров\n",
    "            attention_mask_batch = torch.LongTensor(attention_mask[batch_size*i:batch_size*(i+1)]) # преобразовываем данные в формат тензоров\n",
    "            batch_embeddings = model(batch, attention_mask=attention_mask_batch.to(device))        # получаем эмбеддинги\n",
    "            embeddings.append(batch_embeddings[0][:,0,:].detach().cpu().numpy())                   # добавляем батчи в список\n",
    "            i_last = i                                                                             # индекс последней строки батча\n",
    "        # обработка остатка, не попавшего в цикл\n",
    "        batch = torch.LongTensor(padded[batch_size*(i_last+1):X.shape[0]])                        # преобразовываем данные в формат тензоров\n",
    "        attention_mask_batch = torch.LongTensor(attention_mask[batch_size*(i_last+1):X.shape[0]]) # преобразовываем данные в формат тензоров\n",
    "        batch_embeddings = model(batch.to(device), attention_mask=attention_mask_batch.to(device))  # получаем эмбеддинги для батча\n",
    "        embeddings.append(batch_embeddings[0][:,0,:].detach().cpu().numpy())                        # добавляем батчи в список\n",
    "        X = np.concatenate(embeddings)                                                              # объединяем эмбеддинги\n",
    "        X = pd.DataFrame(X)                                                                         # создаем датафрейм\n",
    "        # производим нормализацию признаков, полученных до векторизации субтитров\n",
    "        X_stat = self.X_scaler.transform(X_stat)\n",
    "        # объединяем признаки, полученных до векторизации субтитров, в датафрейм\n",
    "        X_stat = pd.DataFrame(X_stat)\n",
    "        # объединяем все признаки в общий датафрейм\n",
    "        X = pd.merge(X, X_stat, left_index=True, right_index=True)\n",
    "        # преобразовываем датафрейм в тензор\n",
    "        X = tensor(np.array(X), dtype=torch.float32)\n",
    "        return X"
   ]
  },
  {
   "cell_type": "markdown",
   "id": "5a950ad4",
   "metadata": {},
   "source": [
    "### Обучение\n",
    "<a id=\"section_4_4\"></a>"
   ]
  },
  {
   "cell_type": "markdown",
   "id": "08807e50",
   "metadata": {},
   "source": [
    "Задаем архитектуру нейросети - полносвязная нейронная сеть с batchnormalization после промежуточных слоев:"
   ]
  },
  {
   "cell_type": "code",
   "execution_count": 100,
   "id": "9709c229",
   "metadata": {},
   "outputs": [],
   "source": [
    "class Net(nn.Module):\n",
    "    def __init__(self, n_in_neurons, n_hidden_neurons_1, n_hidden_neurons_2, n_hidden_neurons_3, n_out_neurons, activation_1, activation_2, activation_3):\n",
    "        super().__init__()\n",
    "        activation_dict = {'ReLU' : nn.ReLU(), 'LeakyReLU' : nn.LeakyReLU()}\n",
    "        \n",
    "        self.dense0 = nn.Linear(n_in_neurons, n_hidden_neurons_1)\n",
    "        self.nonlin0 = activation_dict.get(activation_1)                                            \n",
    "        self.bn0 = nn.BatchNorm1d(n_hidden_neurons_1)\n",
    "        self.dense1 = nn.Linear(n_hidden_neurons_1, n_hidden_neurons_2)\n",
    "        self.nonlin1 = activation_dict.get(activation_2) \n",
    "        self.bn1 = nn.BatchNorm1d(n_hidden_neurons_2)\n",
    "        self.dense2 = nn.Linear(n_hidden_neurons_2, n_hidden_neurons_3)\n",
    "        self.nonlin2 = activation_dict.get(activation_3) \n",
    "        self.bn2 = nn.BatchNorm1d(n_hidden_neurons_3)\n",
    "        self.output = nn.Linear(n_hidden_neurons_3, n_out_neurons)\n",
    "        self.softmax = nn.Softmax(dim=1)\n",
    "\n",
    "    def forward(self, X, **kwargs):\n",
    "        X = self.bn0(self.nonlin0(self.dense0(X)))\n",
    "        X = self.bn1(self.nonlin1(self.dense1(X)))\n",
    "        X = self.bn2(self.nonlin2(self.dense2(X)))\n",
    "        X = self.softmax(self.output(X))\n",
    "        return X"
   ]
  },
  {
   "cell_type": "markdown",
   "id": "58e7d8af",
   "metadata": {},
   "source": [
    "Инициализируем модель NeuralNetClassifier:"
   ]
  },
  {
   "cell_type": "code",
   "execution_count": 101,
   "id": "efca3876",
   "metadata": {},
   "outputs": [],
   "source": [
    "skorch_classifier = NeuralNetClassifier(\n",
    "    Net,\n",
    "    optimizer=torch.optim.Adam, \n",
    "    batch_size=128,\n",
    "    max_epochs=200000,\n",
    "    iterator_train__shuffle=True,\n",
    "    criterion = nn.CrossEntropyLoss,\n",
    "    criterion__weight=class_weights,\n",
    "    verbose=False,\n",
    "    callbacks=[EarlyStopping(patience=200, monitor='valid_loss')],\n",
    ")"
   ]
  },
  {
   "cell_type": "markdown",
   "id": "b1f7ede2",
   "metadata": {},
   "source": [
    "Создаем пайплайн для обучения модели:"
   ]
  },
  {
   "cell_type": "code",
   "execution_count": 102,
   "id": "a4c9d02b",
   "metadata": {},
   "outputs": [],
   "source": [
    "pipeline = Pipeline(steps=[('subs_vectorization', subs_vectorization()),\n",
    "                           ('model', skorch_classifier)])"
   ]
  },
  {
   "cell_type": "markdown",
   "id": "c46bdb6f",
   "metadata": {},
   "source": [
    "Вычисляем размер входного и выходного тензоров:"
   ]
  },
  {
   "cell_type": "code",
   "execution_count": 103,
   "id": "727478f1",
   "metadata": {
    "scrolled": true
   },
   "outputs": [
    {
     "data": {
      "application/vnd.jupyter.widget-view+json": {
       "model_id": "e8be2961b03e4539996878de2754b813",
       "version_major": 2,
       "version_minor": 0
      },
      "text/plain": [
       "  0%|          | 0/24 [00:00<?, ?it/s]"
      ]
     },
     "metadata": {},
     "output_type": "display_data"
    }
   ],
   "source": [
    "pipeline_n_in_neurons = Pipeline(steps=[('subs_vectorization', subs_vectorization())])\n",
    "X_train_pred = pipeline_n_in_neurons.fit_transform(X_train)                              \n",
    "value_n_in_neurons = X_train_pred.shape[1]                                               # количество ядер на входном слое\n",
    "value_n_out_neurons = len(y_train.unique())                                              # количество ядер на выходном слое"
   ]
  },
  {
   "cell_type": "markdown",
   "id": "5b4a2838",
   "metadata": {},
   "source": [
    "Задаем сетку подбора гиперпараметров:"
   ]
  },
  {
   "cell_type": "code",
   "execution_count": 104,
   "id": "8967e591",
   "metadata": {},
   "outputs": [],
   "source": [
    "params_nn = {\n",
    "    'lr' : floatd(0.00001, 0.00001, False, 0.1),\n",
    "    'module__n_in_neurons' : intd(value_n_in_neurons, value_n_in_neurons, False, 1),\n",
    "    'module__n_hidden_neurons_1': intd(4096, 8192, False, 4096),\n",
    "    'module__n_hidden_neurons_2': intd(1024, 2048, False, 1024),\n",
    "    'module__n_hidden_neurons_3': intd(128, 256, False, 128),\n",
    "    'module__n_out_neurons' : intd(value_n_out_neurons, value_n_out_neurons, False, 1),\n",
    "    'module__activation_1' : catd(['ReLU', 'LeakyReLU']),\n",
    "    'module__activation_2' : catd(['ReLU', 'LeakyReLU']),\n",
    "    'module__activation_3' : catd(['ReLU', 'LeakyReLU'])\n",
    "}\n",
    "\n",
    "\n",
    "new_params = {'model__' + key: params_nn[key] for key in params_nn}"
   ]
  },
  {
   "cell_type": "markdown",
   "id": "a2823282",
   "metadata": {},
   "source": [
    "Обучаем модель с помощью OptunaSearchCV. Для сокращения времени обучения назначаем параметр n_trials=1.  \n",
    "Поскольку классификация многоклассовая, с дисбалансом, за метрику качества принимаем \"f1_macro\"."
   ]
  },
  {
   "cell_type": "code",
   "execution_count": 106,
   "id": "e18cd5a2",
   "metadata": {
    "scrolled": true
   },
   "outputs": [
    {
     "name": "stderr",
     "output_type": "stream",
     "text": [
      "C:\\Users\\bond_\\AppData\\Local\\Temp\\ipykernel_31580\\16349279.py:2: ExperimentalWarning: OptunaSearchCV is experimental (supported from v0.17.0). The interface can change in the future.\n",
      "  model_nn = OptunaSearchCV(pipeline,\n"
     ]
    },
    {
     "data": {
      "application/vnd.jupyter.widget-view+json": {
       "model_id": "be0f67a799154428bd44dd58048b8a2f",
       "version_major": 2,
       "version_minor": 0
      },
      "text/plain": [
       "  0%|          | 0/18 [00:00<?, ?it/s]"
      ]
     },
     "metadata": {},
     "output_type": "display_data"
    },
    {
     "data": {
      "application/vnd.jupyter.widget-view+json": {
       "model_id": "639fd471cf91493ca0b212b79b500dd7",
       "version_major": 2,
       "version_minor": 0
      },
      "text/plain": [
       "  0%|          | 0/6 [00:00<?, ?it/s]"
      ]
     },
     "metadata": {},
     "output_type": "display_data"
    },
    {
     "data": {
      "application/vnd.jupyter.widget-view+json": {
       "model_id": "b8cad87c7f9c4379aebfa516d7de58fb",
       "version_major": 2,
       "version_minor": 0
      },
      "text/plain": [
       "  0%|          | 0/18 [00:00<?, ?it/s]"
      ]
     },
     "metadata": {},
     "output_type": "display_data"
    },
    {
     "data": {
      "application/vnd.jupyter.widget-view+json": {
       "model_id": "dba248faee59490780881445975f832a",
       "version_major": 2,
       "version_minor": 0
      },
      "text/plain": [
       "  0%|          | 0/6 [00:00<?, ?it/s]"
      ]
     },
     "metadata": {},
     "output_type": "display_data"
    },
    {
     "data": {
      "application/vnd.jupyter.widget-view+json": {
       "model_id": "c0d671cebc2946d4a6950afc57b036ad",
       "version_major": 2,
       "version_minor": 0
      },
      "text/plain": [
       "  0%|          | 0/18 [00:00<?, ?it/s]"
      ]
     },
     "metadata": {},
     "output_type": "display_data"
    },
    {
     "data": {
      "application/vnd.jupyter.widget-view+json": {
       "model_id": "78e058b8ae0e4e64b6dfa0926d239e7e",
       "version_major": 2,
       "version_minor": 0
      },
      "text/plain": [
       "  0%|          | 0/6 [00:00<?, ?it/s]"
      ]
     },
     "metadata": {},
     "output_type": "display_data"
    },
    {
     "data": {
      "application/vnd.jupyter.widget-view+json": {
       "model_id": "9206f71cc41843bdb44c22146dc888eb",
       "version_major": 2,
       "version_minor": 0
      },
      "text/plain": [
       "  0%|          | 0/18 [00:00<?, ?it/s]"
      ]
     },
     "metadata": {},
     "output_type": "display_data"
    },
    {
     "data": {
      "application/vnd.jupyter.widget-view+json": {
       "model_id": "221302d00c994a5c81fd24fcf4c9956a",
       "version_major": 2,
       "version_minor": 0
      },
      "text/plain": [
       "  0%|          | 0/6 [00:00<?, ?it/s]"
      ]
     },
     "metadata": {},
     "output_type": "display_data"
    },
    {
     "data": {
      "application/vnd.jupyter.widget-view+json": {
       "model_id": "6683889a1afb4f1ea09556cf5e0e32d2",
       "version_major": 2,
       "version_minor": 0
      },
      "text/plain": [
       "  0%|          | 0/24 [00:00<?, ?it/s]"
      ]
     },
     "metadata": {},
     "output_type": "display_data"
    },
    {
     "data": {
      "text/html": [
       "<style>#sk-container-id-3 {color: black;background-color: white;}#sk-container-id-3 pre{padding: 0;}#sk-container-id-3 div.sk-toggleable {background-color: white;}#sk-container-id-3 label.sk-toggleable__label {cursor: pointer;display: block;width: 100%;margin-bottom: 0;padding: 0.3em;box-sizing: border-box;text-align: center;}#sk-container-id-3 label.sk-toggleable__label-arrow:before {content: \"▸\";float: left;margin-right: 0.25em;color: #696969;}#sk-container-id-3 label.sk-toggleable__label-arrow:hover:before {color: black;}#sk-container-id-3 div.sk-estimator:hover label.sk-toggleable__label-arrow:before {color: black;}#sk-container-id-3 div.sk-toggleable__content {max-height: 0;max-width: 0;overflow: hidden;text-align: left;background-color: #f0f8ff;}#sk-container-id-3 div.sk-toggleable__content pre {margin: 0.2em;color: black;border-radius: 0.25em;background-color: #f0f8ff;}#sk-container-id-3 input.sk-toggleable__control:checked~div.sk-toggleable__content {max-height: 200px;max-width: 100%;overflow: auto;}#sk-container-id-3 input.sk-toggleable__control:checked~label.sk-toggleable__label-arrow:before {content: \"▾\";}#sk-container-id-3 div.sk-estimator input.sk-toggleable__control:checked~label.sk-toggleable__label {background-color: #d4ebff;}#sk-container-id-3 div.sk-label input.sk-toggleable__control:checked~label.sk-toggleable__label {background-color: #d4ebff;}#sk-container-id-3 input.sk-hidden--visually {border: 0;clip: rect(1px 1px 1px 1px);clip: rect(1px, 1px, 1px, 1px);height: 1px;margin: -1px;overflow: hidden;padding: 0;position: absolute;width: 1px;}#sk-container-id-3 div.sk-estimator {font-family: monospace;background-color: #f0f8ff;border: 1px dotted black;border-radius: 0.25em;box-sizing: border-box;margin-bottom: 0.5em;}#sk-container-id-3 div.sk-estimator:hover {background-color: #d4ebff;}#sk-container-id-3 div.sk-parallel-item::after {content: \"\";width: 100%;border-bottom: 1px solid gray;flex-grow: 1;}#sk-container-id-3 div.sk-label:hover label.sk-toggleable__label {background-color: #d4ebff;}#sk-container-id-3 div.sk-serial::before {content: \"\";position: absolute;border-left: 1px solid gray;box-sizing: border-box;top: 0;bottom: 0;left: 50%;z-index: 0;}#sk-container-id-3 div.sk-serial {display: flex;flex-direction: column;align-items: center;background-color: white;padding-right: 0.2em;padding-left: 0.2em;position: relative;}#sk-container-id-3 div.sk-item {position: relative;z-index: 1;}#sk-container-id-3 div.sk-parallel {display: flex;align-items: stretch;justify-content: center;background-color: white;position: relative;}#sk-container-id-3 div.sk-item::before, #sk-container-id-3 div.sk-parallel-item::before {content: \"\";position: absolute;border-left: 1px solid gray;box-sizing: border-box;top: 0;bottom: 0;left: 50%;z-index: -1;}#sk-container-id-3 div.sk-parallel-item {display: flex;flex-direction: column;z-index: 1;position: relative;background-color: white;}#sk-container-id-3 div.sk-parallel-item:first-child::after {align-self: flex-end;width: 50%;}#sk-container-id-3 div.sk-parallel-item:last-child::after {align-self: flex-start;width: 50%;}#sk-container-id-3 div.sk-parallel-item:only-child::after {width: 0;}#sk-container-id-3 div.sk-dashed-wrapped {border: 1px dashed gray;margin: 0 0.4em 0.5em 0.4em;box-sizing: border-box;padding-bottom: 0.4em;background-color: white;}#sk-container-id-3 div.sk-label label {font-family: monospace;font-weight: bold;display: inline-block;line-height: 1.2em;}#sk-container-id-3 div.sk-label-container {text-align: center;}#sk-container-id-3 div.sk-container {/* jupyter's `normalize.less` sets `[hidden] { display: none; }` but bootstrap.min.css set `[hidden] { display: none !important; }` so we also need the `!important` here to be able to override the default hidden behavior on the sphinx rendered scikit-learn.org. See: https://github.com/scikit-learn/scikit-learn/issues/21755 */display: inline-block !important;position: relative;}#sk-container-id-3 div.sk-text-repr-fallback {display: none;}</style><div id=\"sk-container-id-3\" class=\"sk-top-container\"><div class=\"sk-text-repr-fallback\"><pre>OptunaSearchCV(cv=StratifiedKFold(n_splits=4, random_state=42, shuffle=True),\n",
       "               estimator=Pipeline(steps=[(&#x27;subs_vectorization&#x27;,\n",
       "                                          subs_vectorization()),\n",
       "                                         (&#x27;model&#x27;,\n",
       "                                          &lt;class &#x27;skorch.classifier.NeuralNetClassifier&#x27;&gt;[uninitialized](\n",
       "  module=&lt;class &#x27;__main__.Net&#x27;&gt;,\n",
       "))]),\n",
       "               n_jobs=1, n_trials=1,\n",
       "               param_distributions={&#x27;model__lr&#x27;: FloatDistribution(high=1e-05, log=False, low=1e-0...\n",
       "                                    &#x27;model__module__n_hidden_neurons_2&#x27;: IntDistribution(high=2048, log=False, low=1024, step=1024),\n",
       "                                    &#x27;model__module__n_hidden_neurons_3&#x27;: IntDistribution(high=256, log=False, low=128, step=128),\n",
       "                                    &#x27;model__module__n_in_neurons&#x27;: IntDistribution(high=800, log=False, low=800, step=1),\n",
       "                                    &#x27;model__module__n_out_neurons&#x27;: IntDistribution(high=4, log=False, low=4, step=1)},\n",
       "               scoring=&#x27;f1_macro&#x27;, verbose=False)</pre><b>In a Jupyter environment, please rerun this cell to show the HTML representation or trust the notebook. <br />On GitHub, the HTML representation is unable to render, please try loading this page with nbviewer.org.</b></div><div class=\"sk-container\" hidden><div class=\"sk-item sk-dashed-wrapped\"><div class=\"sk-label-container\"><div class=\"sk-label sk-toggleable\"><input class=\"sk-toggleable__control sk-hidden--visually\" id=\"sk-estimator-id-9\" type=\"checkbox\" ><label for=\"sk-estimator-id-9\" class=\"sk-toggleable__label sk-toggleable__label-arrow\">OptunaSearchCV</label><div class=\"sk-toggleable__content\"><pre>OptunaSearchCV(cv=StratifiedKFold(n_splits=4, random_state=42, shuffle=True),\n",
       "               estimator=Pipeline(steps=[(&#x27;subs_vectorization&#x27;,\n",
       "                                          subs_vectorization()),\n",
       "                                         (&#x27;model&#x27;,\n",
       "                                          &lt;class &#x27;skorch.classifier.NeuralNetClassifier&#x27;&gt;[uninitialized](\n",
       "  module=&lt;class &#x27;__main__.Net&#x27;&gt;,\n",
       "))]),\n",
       "               n_jobs=1, n_trials=1,\n",
       "               param_distributions={&#x27;model__lr&#x27;: FloatDistribution(high=1e-05, log=False, low=1e-0...\n",
       "                                    &#x27;model__module__n_hidden_neurons_2&#x27;: IntDistribution(high=2048, log=False, low=1024, step=1024),\n",
       "                                    &#x27;model__module__n_hidden_neurons_3&#x27;: IntDistribution(high=256, log=False, low=128, step=128),\n",
       "                                    &#x27;model__module__n_in_neurons&#x27;: IntDistribution(high=800, log=False, low=800, step=1),\n",
       "                                    &#x27;model__module__n_out_neurons&#x27;: IntDistribution(high=4, log=False, low=4, step=1)},\n",
       "               scoring=&#x27;f1_macro&#x27;, verbose=False)</pre></div></div></div><div class=\"sk-parallel\"><div class=\"sk-parallel-item\"><div class=\"sk-item\"><div class=\"sk-label-container\"><div class=\"sk-label sk-toggleable\"><input class=\"sk-toggleable__control sk-hidden--visually\" id=\"sk-estimator-id-10\" type=\"checkbox\" ><label for=\"sk-estimator-id-10\" class=\"sk-toggleable__label sk-toggleable__label-arrow\">estimator: Pipeline</label><div class=\"sk-toggleable__content\"><pre>Pipeline(steps=[(&#x27;subs_vectorization&#x27;, subs_vectorization()),\n",
       "                (&#x27;model&#x27;,\n",
       "                 &lt;class &#x27;skorch.classifier.NeuralNetClassifier&#x27;&gt;[uninitialized](\n",
       "  module=&lt;class &#x27;__main__.Net&#x27;&gt;,\n",
       "))])</pre></div></div></div><div class=\"sk-serial\"><div class=\"sk-item\"><div class=\"sk-serial\"><div class=\"sk-item\"><div class=\"sk-estimator sk-toggleable\"><input class=\"sk-toggleable__control sk-hidden--visually\" id=\"sk-estimator-id-11\" type=\"checkbox\" ><label for=\"sk-estimator-id-11\" class=\"sk-toggleable__label sk-toggleable__label-arrow\">subs_vectorization</label><div class=\"sk-toggleable__content\"><pre>subs_vectorization()</pre></div></div></div><div class=\"sk-item\"><div class=\"sk-estimator sk-toggleable\"><input class=\"sk-toggleable__control sk-hidden--visually\" id=\"sk-estimator-id-12\" type=\"checkbox\" ><label for=\"sk-estimator-id-12\" class=\"sk-toggleable__label sk-toggleable__label-arrow\">NeuralNetClassifier</label><div class=\"sk-toggleable__content\"><pre>&lt;class &#x27;skorch.classifier.NeuralNetClassifier&#x27;&gt;[uninitialized](\n",
       "  module=&lt;class &#x27;__main__.Net&#x27;&gt;,\n",
       ")</pre></div></div></div></div></div></div></div></div></div></div></div></div>"
      ],
      "text/plain": [
       "OptunaSearchCV(cv=StratifiedKFold(n_splits=4, random_state=42, shuffle=True),\n",
       "               estimator=Pipeline(steps=[('subs_vectorization',\n",
       "                                          subs_vectorization()),\n",
       "                                         ('model',\n",
       "                                          <class 'skorch.classifier.NeuralNetClassifier'>[uninitialized](\n",
       "  module=<class '__main__.Net'>,\n",
       "))]),\n",
       "               n_jobs=1, n_trials=1,\n",
       "               param_distributions={'model__lr': FloatDistribution(high=1e-05, log=False, low=1e-0...\n",
       "                                    'model__module__n_hidden_neurons_2': IntDistribution(high=2048, log=False, low=1024, step=1024),\n",
       "                                    'model__module__n_hidden_neurons_3': IntDistribution(high=256, log=False, low=128, step=128),\n",
       "                                    'model__module__n_in_neurons': IntDistribution(high=800, log=False, low=800, step=1),\n",
       "                                    'model__module__n_out_neurons': IntDistribution(high=4, log=False, low=4, step=1)},\n",
       "               scoring='f1_macro', verbose=False)"
      ]
     },
     "execution_count": 106,
     "metadata": {},
     "output_type": "execute_result"
    }
   ],
   "source": [
    "optuna.logging.set_verbosity(optuna.logging.WARNING)\n",
    "model_nn = OptunaSearchCV(pipeline,\n",
    "                          new_params,\n",
    "                          scoring=\"f1_macro\",\n",
    "                          cv=skf,\n",
    "                          n_trials=1,\n",
    "                          verbose=False)\n",
    "model_nn.fit(X_train, y_train)"
   ]
  },
  {
   "cell_type": "code",
   "execution_count": 107,
   "id": "deaee176",
   "metadata": {},
   "outputs": [
    {
     "name": "stdout",
     "output_type": "stream",
     "text": [
      "Значение f1_macro для лучшей модели на кросс валидации - 0.6021479122644315\n",
      "\n",
      "Параметры лучшей модели:\n"
     ]
    },
    {
     "data": {
      "text/plain": [
       "{'model__lr': 1e-05,\n",
       " 'model__module__n_in_neurons': 800,\n",
       " 'model__module__n_hidden_neurons_1': 4096,\n",
       " 'model__module__n_hidden_neurons_2': 2048,\n",
       " 'model__module__n_hidden_neurons_3': 256,\n",
       " 'model__module__n_out_neurons': 4,\n",
       " 'model__module__activation_1': 'ReLU',\n",
       " 'model__module__activation_2': 'ReLU',\n",
       " 'model__module__activation_3': 'ReLU'}"
      ]
     },
     "execution_count": 107,
     "metadata": {},
     "output_type": "execute_result"
    }
   ],
   "source": [
    "print('Значение f1_macro для лучшей модели на кросс валидации - {}'.format(model_nn.best_score_))\n",
    "print('')\n",
    "print('Параметры лучшей модели:')\n",
    "model_nn.best_params_"
   ]
  },
  {
   "cell_type": "markdown",
   "id": "2b808515",
   "metadata": {},
   "source": [
    "**Вывод:**\n",
    "Обучена модель NeuralNetClassifier. Целевая метрика - f1_macro.  \n",
    "Значение f1_macro для лучшей модели на кросс валидации - 0.60.  \n",
    "Параметры лучшей модели:  \n",
    "- lr: 1e-05;\n",
    "- n_in_neurons: 800;\n",
    "- n_hidden_neurons_1: 4096;\n",
    "- n_hidden_neurons_2: 2048;\n",
    "- n_hidden_neurons_3: 256;\n",
    "- n_out_neurons: 4;\n",
    "- activation_1: ReLU;\n",
    "- activation_2: ReLU;\n",
    "- activation_3: ReLU;"
   ]
  },
  {
   "cell_type": "markdown",
   "id": "87c3a09a",
   "metadata": {},
   "source": [
    "## Оценка качества модели\n",
    "<a id=\"section_5\"></a>"
   ]
  },
  {
   "cell_type": "markdown",
   "id": "ccd34765",
   "metadata": {},
   "source": [
    "### Оценка на тестовой выборке\n",
    "<a id=\"section_5_1\"></a>"
   ]
  },
  {
   "cell_type": "markdown",
   "id": "6f741d59",
   "metadata": {},
   "source": [
    "Рассчитываем значение метрики f1_macro на тестовой выборке:"
   ]
  },
  {
   "cell_type": "code",
   "execution_count": 108,
   "id": "49c87213",
   "metadata": {},
   "outputs": [
    {
     "data": {
      "application/vnd.jupyter.widget-view+json": {
       "model_id": "77b76a56b9b64497aa6c2db261b5f079",
       "version_major": 2,
       "version_minor": 0
      },
      "text/plain": [
       "  0%|          | 0/10 [00:00<?, ?it/s]"
      ]
     },
     "metadata": {},
     "output_type": "display_data"
    }
   ],
   "source": [
    "pred_test = model_nn.best_estimator_.predict(X_test)"
   ]
  },
  {
   "cell_type": "markdown",
   "id": "22cc4d50",
   "metadata": {},
   "source": [
    "Преобразовываем результаты из тензора в серию текстовых значений:"
   ]
  },
  {
   "cell_type": "code",
   "execution_count": 109,
   "id": "53c63404",
   "metadata": {},
   "outputs": [],
   "source": [
    "pred_dict = {}\n",
    "for i in zip(pred_test.tolist(), encoder.inverse_transform(pred_test.reshape(-1, 1))[:][:, 0].tolist()):\n",
    "    pred_dict[i[0]] = i[1]\n",
    "    \n",
    "pred_list = []\n",
    "for i in pred_test:\n",
    "    pred_list.append(pred_dict.get(i))\n",
    "pred_test = pd.Series(pred_list)"
   ]
  },
  {
   "cell_type": "markdown",
   "id": "68ad6a50",
   "metadata": {},
   "source": [
    "Делаем предсказание на тестовой выборке:"
   ]
  },
  {
   "cell_type": "code",
   "execution_count": 110,
   "id": "97894a29",
   "metadata": {},
   "outputs": [
    {
     "name": "stdout",
     "output_type": "stream",
     "text": [
      "Значение f1_macro на тестовой выборке - 0.6306559809280587.\n"
     ]
    }
   ],
   "source": [
    "f1_test = f1_score(y_test, pred_test, average='macro')\n",
    "print('Значение f1_macro на тестовой выборке - {}.'.format(f1_test))"
   ]
  },
  {
   "cell_type": "markdown",
   "id": "7e06444f",
   "metadata": {},
   "source": [
    "### Матрица ошибок\n",
    "<a id=\"section_5_2\"></a>"
   ]
  },
  {
   "cell_type": "markdown",
   "id": "4933b9aa",
   "metadata": {},
   "source": [
    "Выводим матрицу ошибок:"
   ]
  },
  {
   "cell_type": "code",
   "execution_count": 111,
   "id": "bf62157f",
   "metadata": {},
   "outputs": [
    {
     "data": {
      "text/html": [
       "<div>\n",
       "<style scoped>\n",
       "    .dataframe tbody tr th:only-of-type {\n",
       "        vertical-align: middle;\n",
       "    }\n",
       "\n",
       "    .dataframe tbody tr th {\n",
       "        vertical-align: top;\n",
       "    }\n",
       "\n",
       "    .dataframe thead th {\n",
       "        text-align: right;\n",
       "    }\n",
       "</style>\n",
       "<table border=\"1\" class=\"dataframe\">\n",
       "  <thead>\n",
       "    <tr style=\"text-align: right;\">\n",
       "      <th>Predicted</th>\n",
       "      <th>A2</th>\n",
       "      <th>B1</th>\n",
       "      <th>B2</th>\n",
       "      <th>C1</th>\n",
       "    </tr>\n",
       "    <tr>\n",
       "      <th>Actual</th>\n",
       "      <th></th>\n",
       "      <th></th>\n",
       "      <th></th>\n",
       "      <th></th>\n",
       "    </tr>\n",
       "  </thead>\n",
       "  <tbody>\n",
       "    <tr>\n",
       "      <th>A2</th>\n",
       "      <td>122</td>\n",
       "      <td>33</td>\n",
       "      <td>31</td>\n",
       "      <td>5</td>\n",
       "    </tr>\n",
       "    <tr>\n",
       "      <th>B1</th>\n",
       "      <td>54</td>\n",
       "      <td>263</td>\n",
       "      <td>72</td>\n",
       "      <td>20</td>\n",
       "    </tr>\n",
       "    <tr>\n",
       "      <th>B2</th>\n",
       "      <td>33</td>\n",
       "      <td>83</td>\n",
       "      <td>400</td>\n",
       "      <td>42</td>\n",
       "    </tr>\n",
       "    <tr>\n",
       "      <th>C1</th>\n",
       "      <td>11</td>\n",
       "      <td>10</td>\n",
       "      <td>58</td>\n",
       "      <td>91</td>\n",
       "    </tr>\n",
       "  </tbody>\n",
       "</table>\n",
       "</div>"
      ],
      "text/plain": [
       "Predicted   A2   B1   B2  C1\n",
       "Actual                      \n",
       "A2         122   33   31   5\n",
       "B1          54  263   72  20\n",
       "B2          33   83  400  42\n",
       "C1          11   10   58  91"
      ]
     },
     "execution_count": 111,
     "metadata": {},
     "output_type": "execute_result"
    }
   ],
   "source": [
    "pd.crosstab(y_test, pred_test, rownames=['Actual'], colnames=['Predicted'])"
   ]
  },
  {
   "cell_type": "markdown",
   "id": "e5b88dd9",
   "metadata": {},
   "source": [
    "Выводим значения метрик по классам:"
   ]
  },
  {
   "cell_type": "code",
   "execution_count": 112,
   "id": "68e33813",
   "metadata": {
    "scrolled": true
   },
   "outputs": [
    {
     "name": "stdout",
     "output_type": "stream",
     "text": [
      "              precision    recall  f1-score   support\n",
      "\n",
      "          A2      0.555     0.639     0.594       191\n",
      "          B1      0.676     0.643     0.659       409\n",
      "          B2      0.713     0.717     0.715       558\n",
      "          C1      0.576     0.535     0.555       170\n",
      "\n",
      "    accuracy                          0.660      1328\n",
      "   macro avg      0.630     0.633     0.631      1328\n",
      "weighted avg      0.661     0.660     0.660      1328\n",
      "\n"
     ]
    }
   ],
   "source": [
    "print(metrics.classification_report(y_test, pd.Series(pred_list), digits=3))"
   ]
  },
  {
   "cell_type": "markdown",
   "id": "d978bcab",
   "metadata": {},
   "source": [
    "**Вывод:**  \n",
    "1. Значение f1_macro на тестовой выборке - 0.63.\n",
    "2. Наибольшая метрика f1 - при определении фильмов уровня B2 (наиболее представленных в выборке) - 0.715.\n",
    "3. Наименьшая метрика f1 - при определении фильмов уровня C1 (наименее представленных в выборке) - 0.555.\n",
    "4. В матрице ошибок чем дальше от главной диагонали, тем меньше предсказаний. То есть на ошибки в основном приходятся предсказания смежных классов, что в рамках поставленной задачи не представляется критическим недостатком так как:\n",
    "- разметка данных проводилась вручную, отчего принадлежность фильма к определенному уровню сложности определена субъективными мнениями экспертов, каковые (мнения), могут различаться.\n",
    "- человек, владеющий определенным уровнем английского языка с высокой долей вероятности способен воспринимать смежные уровни.\n",
    "5. Основная проблема в прогнозировании - недостаток данных. Разделение субтитров на несколько наблюдений позволило увеличить размер выборки, но при этом была нарушена структура текста, что для BERT является негативным фактором."
   ]
  },
  {
   "cell_type": "markdown",
   "id": "958e2c2e",
   "metadata": {},
   "source": [
    "## Общий вывод\n",
    "<a id=\"section_6\"></a>"
   ]
  },
  {
   "cell_type": "markdown",
   "id": "e70670bd",
   "metadata": {},
   "source": [
    "**Импорт библиотек общая информация**  \n",
    " \n",
    "Датафрейм, содержащий названия фильмов и категории:  \n",
    "1. Загружены данные по названиям фильмов и соответствующих им уровней английского языка. Датафрейм состоит из 241-го наблюдения и 3-х признаков:\n",
    "- \"id\" - идентификатор фильма (формат данных - int64);\n",
    "- \"Movie\" - название фильма  (формат данных - object);\n",
    "- \"Level\" - соответствующий уровень английского языка (формат данных - object).  \n",
    "\n",
    "  Количество уникальных значений:\n",
    "- \"Movie\" - 237;\n",
    "- \"Level\" - 7.\n",
    "\n",
    "\n",
    "  В датафрейме присутствуют 4 дубликата. Пропуски отсутствуют.  \n",
    "\n",
    "2. Загружены данные из словарей \"The Oxford 5000™ by CEFR level (American English)\" и \"The Oxford 5000™ by CEFR level\" (соответствие слов уровням знания английского языка). Датафрейм состоит из 2881 строк и 5 признаков:\n",
    "- \"a1\" - 1923 слова;\n",
    "- \"a2\" - 1781 слово;\n",
    "- \"b1\" - 1630 слов;\n",
    "- \"b2\" - 2881 слово;\n",
    "- \"c1\" - 1369 слов.\n",
    "\n",
    "\n",
    "**Предобработка данных**  \n",
    "\n",
    "1. Объеденены датафреймы, содержащие названия фильмов и субтитров.  \n",
    "2. Субтитры очищены от посторонних символов.  \n",
    "3. Сгенерированы дополнительные признаки путем разделения субтитров. Количество признаков увеличено с 237 до 4424.  \n",
    "\n",
    "\n",
    "**Расчёт дополнительных признаков**  \n",
    "\n",
    "В датарейм добавлены следующие признаки:  \n",
    "- words - среднее количество слов в предложении;\n",
    "- fre - показатель легкости чтения Флеша;\n",
    "- si - показатель удобочитаемости , который оценивает годы обучения, необходимые для понимания написанного;\n",
    "- fkd - формула уровня успеваемости Флеша-Кинкейда;\n",
    "- cli - уровень оценки текста с помощью формулы Коулмана-Ляу;\n",
    "- ari - автоматический индекс удобочитаемости;\n",
    "- dcrs - уровень обучения, используя формулу Нью-Дейла-Чолла;\n",
    "- dw - коэффициент сложных слов;\n",
    "- lwf -  уровень оценки текста по формуле Linsear;\n",
    "- gf - индекс FOG;\n",
    "- a_1, a_2, b_1, b_2, c_1 - доля слов соответствующего уровня;\n",
    "- Признаки долей частей речи в субтитрах.  \n",
    "\n",
    "\n",
    "**Обучение нейросети**  \n",
    "\n",
    "Обучена модель NeuralNetClassifier. Целевая метрика - f1_macro.  \n",
    "Значение f1_macro для лучшей модели на кросс валидации - 0.60.  \n",
    "Параметры лучшей модели:  \n",
    "- lr: 1e-05;\n",
    "- n_in_neurons: 800;\n",
    "- n_hidden_neurons_1: 4096;\n",
    "- n_hidden_neurons_2: 2048;\n",
    "- n_hidden_neurons_3: 256;\n",
    "- n_out_neurons: 4;\n",
    "- activation_1: ReLU;\n",
    "- activation_2: ReLU;\n",
    "- activation_3: ReLU;  \n",
    "\n",
    "\n",
    "**Оценка качества модели**  \n",
    "\n",
    "1. Значение f1_macro на тестовой выборке - 0.63.\n",
    "2. Наибольшая метрика f1 - при определении фильмов уровня B2 (наиболее представленных в выборке) - 0.715.\n",
    "3. Наименьшая метрика f1 - при определении фильмов уровня C1 (наименее представленных в выборке) - 0.555.\n",
    "4. В матрице ошибок чем дальше от главной диагонали, тем меньше предсказаний. То есть на ошибки в основном приходятся предсказания смежных классов, что в рамках поставленной задачи не представляется критическим недостатком так как:\n",
    "- разметка данных проводилась вручную, отчего принадлежность фильма к определенному уровню сложности определена субъективными мнениями экспертов, каковые (мнения), могут различаться.\n",
    "- человек, владеющий определенным уровнем английского языка с высокой долей вероятности способен воспринимать смежные уровни.\n",
    "5. Основная проблема в прогнозировании - недостаток данных. Разделение субтитров на несколько наблюдений позволило увеличить размер выборки, но при этом была нарушена структура текста, что для BERT является негативным фактором."
   ]
  }
 ],
 "metadata": {
  "kernelspec": {
   "display_name": "Python 3 (ipykernel)",
   "language": "python",
   "name": "python3"
  },
  "language_info": {
   "codemirror_mode": {
    "name": "ipython",
    "version": 3
   },
   "file_extension": ".py",
   "mimetype": "text/x-python",
   "name": "python",
   "nbconvert_exporter": "python",
   "pygments_lexer": "ipython3",
   "version": "3.11.5"
  }
 },
 "nbformat": 4,
 "nbformat_minor": 5
}
