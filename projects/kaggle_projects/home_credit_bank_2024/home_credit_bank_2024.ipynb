{
 "cells": [
  {
   "cell_type": "markdown",
   "id": "5c96e7c2",
   "metadata": {},
   "source": [
    "# Оценка рисков по выполнению долговых обязательств"
   ]
  },
  {
   "cell_type": "markdown",
   "id": "2d6447ba",
   "metadata": {
    "jp-MarkdownHeadingCollapsed": true
   },
   "source": [
    "**Содержание:**  \n",
    "<a id=\"start\"></a>\n",
    "1. [Импорт библиотек](#section_1)\n",
    "\n",
    "\n",
    "2. [Загрузка и предобработка данных](#section_2)  \n",
    " 2.1. [Разделение выборки на обучающую и тестовую](#section_2_1)  \n",
    " 2.2. [Функции загрузки и предобработки данных](#section_2_2)  \n",
    " 2.3. [Предобработка данных](#section_2_3)  \n",
    " \n",
    " \n",
    "3. [Отбор признаков по важности (RFE)](#section_3)  \n",
    "\n",
    "\n",
    "4. [Подбор гиперпараметров LightGBM](#section_4)\n",
    "   \n",
    "\n",
    "5. [Обучение модели](#section_5)\n",
    "\n",
    "  \n",
    "6. [Расчет метрик](#section_6)\n",
    "\n",
    "\n",
    "7. [Submission](#section_7)  \n",
    "\n",
    "\n",
    "8. [Общий вывод](#section_8)"
   ]
  },
  {
   "cell_type": "markdown",
   "id": "f27db218",
   "metadata": {},
   "source": [
    "[Страница соревнования](https://www.kaggle.com/competitions/home-credit-credit-risk-model-stability/overview)\n",
    "\n",
    "**Заказчик исследования:** Home Credit Bank.  \n",
    "**Цель исследования:** создание модели оценки надежности заемщика.  \n",
    "\n",
    "**Исходные данные:**  \n",
    "Исходные данные представлены в датасетах:  \n",
    "\n",
    "***Base_table***  \n",
    "Базовая таблица хранит основную информацию о наблюдении и case_id. Это уникальная идентификация каждого наблюдения, она  используется для присоединения других таблиц.  \n",
    "\n",
    "***static_0***  \n",
    "Свойства: глубина=0, внутренний источник данных.  \n",
    "\n",
    "***static_cb_0***  \n",
    "Свойства: глубина=0, внешний источник данных.  \n",
    "\n",
    "***applprev_1***  \n",
    "Свойства: глубина=1, внутренний источник данных.  \n",
    "\n",
    "***other_1***  \n",
    "Свойства: глубина=1, внутренний источник данных.  \n",
    "\n",
    "***tax_registry_a_1***  \n",
    "Свойства: глубина=1, внешний источник данных, поставщик налогового реестра A.  \n",
    "\n",
    "***tax_registry_b_1***  \n",
    "Свойства: глубина=1, внешний источник данных, поставщик налогового реестра B.  \n",
    "\n",
    "***tax_registry_c_1***  \n",
    "Свойства: глубина=1, внешний источник данных, поставщик налогового реестра C.  \n",
    "\n",
    "***credit_bureau_a_1***  \n",
    "Свойства: глубина=1, внешний источник данных, поставщик кредитного бюро A.  \n",
    "\n",
    "***credit_bureau_b_1***  \n",
    "Свойства: глубина=1, внешний источник данных, поставщик кредитного бюро B.  \n",
    "\n",
    "***deposit_1***  \n",
    "Свойства: глубина=1, внутренний источник данных.  \n",
    "\n",
    "***person_1***  \n",
    "Свойства: глубина=1, внутренний источник данных.  \n",
    "\n",
    "***debitcard_1***  \n",
    "Свойства: глубина=1, внутренний источник данных.  \n",
    "\n",
    "***applprev_2***  \n",
    "Свойства: глубина=2, внутренний источник данных.  \n",
    "\n",
    "***person_2***  \n",
    "Свойства: глубина=2, внутренний источник данных.  \n",
    "\n",
    "***credit_bureau_a_2***  \n",
    "Свойства: глубина=2, внешний источник данных, поставщик кредитного бюро A.  \n",
    "\n",
    "***credit_bureau_b_2***  \n",
    "Свойства: глубина=2, внешний источник данных, поставщик кредитного бюро B.  \n",
    "\n",
    "\n",
    "глубина=0 — это статические функции, напрямую привязанные к определенному case_id.  \n",
    "глубина=1 — каждый case_id имеет связанную историческую запись, проиндексированную по num_group1.  \n",
    "глубина=2 — каждый case_id имеет связанную историческую запись, проиндексированную по num_group1 и num_group2.  \n",
    "\n",
    "**Описание признаков**\n",
    "\n",
    "- case_id - Это уникальный идентификатор для каждого кредитного дела. По этому признаку производится объединение таблиц;  \n",
    "- date_decision - дата принятия решения об одобрении кредита;  \n",
    "- WEEK_NUM - номер недели принятия решения об одобрении кредита, используемый для агрегации;  \n",
    "- MONTH - месяц принятия решения об одобрении кредита, используемый для агрегации;  \n",
    "- target - целевой признак. Определяется по истечении определенного периода времени в зависимости от того, допустил ли клиент дефолт по конкретному кредитному делу (займу);  \n",
    "- num_group1 - индексация, используемая для исторических записей case_id в таблицах глубины 1 и глубины 2;  \n",
    "- num_group2 - индексация исторических записей case_id таблиц глубины 2.  \n",
    "\n",
    "Все остальные необработанные столбцы в таблицах служат предикторами.  \n",
    "Для таблиц с глубиной 0 предикторы могут напрямую использоваться как признаки. Однако для таблиц с глубиной 1 и 2 может потребоваться использовать функции агрегации, которые сожмут исторические записи, связанные с каждым case_id в один признак.\n",
    "В случае, если num_group1 или num_group2 обозначает индекс лица (это ясно из определений предиктора), нулевой индекс имеет особое значение. Когда num_groupN равен 0, это заявитель (лицо, которое обратилось за кредитом).  \n",
    "\n",
    "Признаки разделены на группы:  \n",
    "P - Transform DPD (Дни просрочки)  \n",
    "M - Маскировка категорий  \n",
    "A - Преобразовать сумму  \n",
    "D - Дата преобразования  \n",
    "T — Неопределенное преобразование  \n",
    "L — Неопределенное преобразование  \n",
    "Принадлежность к группе определяется заглавной буквой в конце имени предиктора (например, maxdbddpdtollast6m_4187119P).  \n",
    "\n",
    "[Подробная информация по данным](https://www.kaggle.com/competitions/home-credit-credit-risk-model-stability/data)\n",
    "\n",
    "  \n",
    "**Целевая метрика:**  \n",
    "Целевая метрика - stability metric:  \n",
    "stability metric = mean(gini) + 88,0 ⋅ min(0, a) − 0,5 ⋅ std(residuals)  \n",
    "\n",
    "Показатель gini рассчитывается для прогнозов, соответствующих каждому WEEK_NUM:  \n",
    "gini = 2 ⋅ AUC − 1  \n",
    "\n",
    "Линейная регрессия, а ⋅ х + b, проходит через недельные показатели gini, a falling_rate рассчитывается как min(0, а).  \n",
    "\n",
    "Изменчивость прогнозов рассчитывается путем взятия стандартного отклонения остатков из приведенной выше линейной регрессии с применением штрафа к изменчивости модели."
   ]
  },
  {
   "cell_type": "markdown",
   "id": "6594a7f9",
   "metadata": {},
   "source": [
    "## Импорт библиотек\n",
    "<a id=\"section_1\"></a>"
   ]
  },
  {
   "cell_type": "code",
   "execution_count": 1,
   "id": "ee095f1c",
   "metadata": {},
   "outputs": [],
   "source": [
    "import gc\n",
    "import numpy as np\n",
    "import os\n",
    "import pandas as pd\n",
    "import re\n",
    "\n",
    "import lightgbm as lgb\n",
    "import phik\n",
    "import polars as pl\n",
    "\n",
    "from catboost import CatBoostClassifier, Pool\n",
    "import category_encoders as ce\n",
    "from glob import glob\n",
    "from hyperopt import fmin, tpe, hp, STATUS_OK, Trials\n",
    "from pathlib import Path\n",
    "from sklearn.base import BaseEstimator, TransformerMixin, RegressorMixin\n",
    "from sklearn.feature_selection import RFE\n",
    "from sklearn.metrics import roc_auc_score\n",
    "from sklearn.model_selection import StratifiedGroupKFold, StratifiedKFold, train_test_split, cross_val_score\n",
    "from sklearn.pipeline import make_pipeline, Pipeline\n",
    "from sklearn.preprocessing import StandardScaler,OneHotEncoder,LabelEncoder"
   ]
  },
  {
   "cell_type": "markdown",
   "id": "ad0ddb86",
   "metadata": {},
   "source": [
    "[К содержанию](#start)"
   ]
  },
  {
   "cell_type": "markdown",
   "id": "86f0be06",
   "metadata": {},
   "source": [
    "## Загрузка и предобработка данных\n",
    "<a id=\"section_2\"></a>"
   ]
  },
  {
   "cell_type": "markdown",
   "id": "bf957fc8",
   "metadata": {},
   "source": [
    "### Разделение выборки на обучающую и тестовую\n",
    "<a id=\"#section_2_1\"></a>"
   ]
  },
  {
   "cell_type": "markdown",
   "id": "6f113006",
   "metadata": {},
   "source": [
    "Задаем константы:"
   ]
  },
  {
   "cell_type": "code",
   "execution_count": 2,
   "id": "600a6335",
   "metadata": {},
   "outputs": [],
   "source": [
    "RS=42                                                # random_state\n",
    "NUM_SAMPLE_TRAIN = 100000                            # количество наблюдений в обучающей выборке\n",
    "NUM_SAMPLE_TEST = int(NUM_SAMPLE_TRAIN*0.25)         # количество наблюдений в тестовой выборке"
   ]
  },
  {
   "cell_type": "markdown",
   "id": "441e6e98",
   "metadata": {},
   "source": [
    "Задаем пути к исходным данным:"
   ]
  },
  {
   "cell_type": "code",
   "execution_count": 3,
   "id": "9d872bef",
   "metadata": {},
   "outputs": [],
   "source": [
    "ROOT = Path('/kaggle/input/home-credit-credit-risk-model-stability')                   # путь kaggle\n",
    "if os.path.exists(ROOT) == False:\n",
    "    ROOT = Path('D:/ds/Jupiter/Project_data_sciense/kaggle/HomeCredit/data/')          # путь локальный\n",
    "\n",
    "TRAIN_DIR       = ROOT / 'parquet_files' / 'train'\n",
    "TEST_DIR        = ROOT / 'parquet_files' / 'test'"
   ]
  },
  {
   "cell_type": "markdown",
   "id": "edf488b6",
   "metadata": {},
   "source": [
    "Разделение данных производим следующим образом: разделяем данные на тестовую выборку и выборку, предназначенную для предобработки данных. Из последней после предобработки данных будет выделена обучающая выборка. Таким образом, при предобработке будут максимально учтены взаимосвязи признаков, а обучение по времени уложится в заданные организаторами соревнования лимиты (не более 12 часов)."
   ]
  },
  {
   "cell_type": "code",
   "execution_count": 4,
   "id": "433f7602",
   "metadata": {},
   "outputs": [],
   "source": [
    "data = pl.read_parquet(TRAIN_DIR / 'train_base.parquet')                                # загрузка основного датафрейма\n",
    "data = data.with_columns((pl.col('target').cast(pl.String) + pl.col('WEEK_NUM')         # создание признака для стратификации                     \n",
    "                          .cast(pl.String)).alias('stratify'))\n",
    "TRAIN_SIZE = NUM_SAMPLE_TRAIN / data.shape[0]                                           # доля данных для обучающей выборки\n",
    "TEST_SIZE = NUM_SAMPLE_TEST / data.shape[0]                                             # доля данных для тестовой выборки\n",
    "# разделение данных на тестовую выборку и выборку для предобработки данных\n",
    "X_preprocessing, X_test, y_preprocessing, y_test = train_test_split(\n",
    "    data,\n",
    "    data.select(pl.col('target')),\n",
    "    stratify=data.select(pl.col('stratify')),\n",
    "    test_size=TEST_SIZE,\n",
    "    random_state=RS)\n",
    "# выделяем данные для стратификации (будут использованы при выделении из X_preprocessing обучающей выборки)\n",
    "data_stratify = X_preprocessing['stratify']\n",
    "weeks_stratify = X_preprocessing['WEEK_NUM']\n",
    "# список case_id обучающей выборки\n",
    "id_preprocessing_list = X_preprocessing.sort(pl.col('case_id'))['case_id'].explode().unique().to_list()\n",
    "# список case_id тестовой выборки\n",
    "id_test_list = X_test.sort(pl.col('case_id'))['case_id'].explode().unique().to_list()\n",
    "del data"
   ]
  },
  {
   "cell_type": "markdown",
   "id": "56702b9f",
   "metadata": {},
   "source": [
    "### Функции загрузки и предобработки данных\n",
    "<a id=\"#section_2_2\"></a>"
   ]
  },
  {
   "cell_type": "code",
   "execution_count": 5,
   "id": "422f247c",
   "metadata": {},
   "outputs": [],
   "source": [
    "class Pipeline:\n",
    "    '''Класс предобработки данных'''\n",
    "    \n",
    "    def fill_null_str(df):\n",
    "        '''Функция обработки пропусков строковых признаков'''\n",
    "        \n",
    "        for col in df.columns:                                                            # проходим по названиям признаков\n",
    "            # если признак категориальный или булевый\n",
    "            if (pd.api.types.is_numeric_dtype(df[col]) != True) | (pd.api.types.is_bool_dtype(df[col]) == True):\n",
    "                df = df.astype({col : 'category'})                                        # изменяем тип на категориальный\n",
    "        return df\n",
    "\n",
    "    def set_table_dtypes(df):\n",
    "        '''Функция изменения типа данных'''\n",
    "        \n",
    "        for col in df.columns:\n",
    "            # если признак - case_id, WEEK_NUM, num_group1, num_group2 или признак, содержащий количество дней\n",
    "            if (col in ['case_id', 'WEEK_NUM', 'num_group1', 'num_group2']) | (col[-1] in ('P',)):              \n",
    "                df = df.with_columns(pl.col(col).cast(pl.Int64))                          # изменяем тип на целочисленный\n",
    "            elif col[-1] in ('A',):                                                       # если признак - сумма средств                                                   \n",
    "                df = df.with_columns(pl.col(col).cast(pl.Float64))                        # изменяем тип на float\n",
    "            elif col[-1] in ('M',):                                                       # если признак - закодированные текстовые значения \n",
    "                df = df.with_columns(pl.col(col).cast(pl.String))                         # изменяем тип на строковый\n",
    "            elif (col[-1] in ('D',)) | (col in ['date_decision']):                        # если признак - дата\n",
    "                df = df.with_columns(pl.col(col).cast(pl.Date))                           # изменяем тип на Date\n",
    "        return df\n",
    "\n",
    "    def handle_dates(df):\n",
    "        '''Функция получения количества дней из признаков типа Date'''\n",
    "        \n",
    "        for col in df.columns:\n",
    "            if col[-1] in ('D',):                                                          # если признак - дата\n",
    "                df = df.with_columns(pl.col(col) - pl.col('date_decision'))                # из признака вычитаем date_decision\n",
    "                df = df.with_columns(pl.col(col).dt.total_days())                          # получаем количество дней\n",
    "        df = df.drop('date_decision', 'MONTH')                                             # удаляем признаки date_decision и MONTH\n",
    "        return df\n",
    "\n",
    "    def filter_cols(df):\n",
    "        for col in df.columns:\n",
    "            if col not in [\"target\", \"case_id\", \"WEEK_NUM\"]:\n",
    "                isnull = df[col].is_null().mean()\n",
    "                if isnull > 0.7:\n",
    "                    df = df.drop(col)\n",
    "        \n",
    "        for col in df.columns:\n",
    "            if (col not in [\"target\", \"case_id\", \"WEEK_NUM\"]) & (df[col].dtype == pl.String):\n",
    "                freq = df[col].n_unique()\n",
    "                if (freq == 1) | (freq > 200):\n",
    "                    df = df.drop(col)\n",
    "        \n",
    "        return df"
   ]
  },
  {
   "cell_type": "code",
   "execution_count": 6,
   "id": "57ea200a",
   "metadata": {},
   "outputs": [],
   "source": [
    "class Aggregator:\n",
    "    '''Класс создание агрегированных признаков'''\n",
    "    \n",
    "    def num_expr(df):\n",
    "        '''Агрегация числовых признаков (количество дней и средств)'''\n",
    "        \n",
    "        cols = [col for col in df.columns if col[-1] in (\"P\", \"A\")]                # получаем список признаков\n",
    "        expr_max = [pl.max(col).alias(f\"max_{col}\") for col in cols]               # агрегируем максимальные значения\n",
    "        expr_last = [pl.last(col).alias(f\"last_{col}\") for col in cols]            # агрегируем последние значения\n",
    "        expr_mean = [pl.mean(col).alias(f\"mean_{col}\") for col in cols]            # агрегируем средние значения\n",
    "        return expr_max +expr_last+expr_mean\n",
    "    \n",
    "    def date_expr(df):\n",
    "        '''Агрегация признаков дат'''\n",
    "        \n",
    "        cols = [col for col in df.columns if col[-1] in (\"D\")]                     # получаем список признаков\n",
    "        expr_max = [pl.max(col).alias(f\"max_{col}\") for col in cols]               # агрегируем максимальные значения\n",
    "        expr_last = [pl.last(col).alias(f\"last_{col}\") for col in cols]            # агрегируем последние значения\n",
    "        expr_mean = [pl.mean(col).alias(f\"mean_{col}\") for col in cols]            # агрегируем средние значения\n",
    "        return  expr_max +expr_last+expr_mean\n",
    "    \n",
    "    def str_expr(df):\n",
    "        '''Агрегация строковых признаков'''\n",
    "        \n",
    "        cols = [col for col in df.columns if col[-1] in (\"M\",)]                    # получаем список признаков\n",
    "        expr_max = [pl.max(col).alias(f\"max_{col}\") for col in cols]               # агрегируем максимальное значения\n",
    "        expr_last = [pl.last(col).alias(f\"last_{col}\") for col in cols]            # агрегируем последние значения\n",
    "        return  expr_max +expr_last\n",
    "    \n",
    "    def other_expr(df):\n",
    "        '''Агрегация прочих признаков'''\n",
    "        \n",
    "        cols = [col for col in df.columns if col[-1] in (\"T\", \"L\")]                # получаем список признаков\n",
    "        expr_max = [pl.max(col).alias(f\"max_{col}\") for col in cols]               # агрегируем максимальные значения\n",
    "        expr_last = [pl.last(col).alias(f\"last_{col}\") for col in cols]            # агрегируем последние значения\n",
    "        return  expr_max +expr_last\n",
    "    \n",
    "    def count_expr(df):\n",
    "        '''Агрегация признаков num_group1/num_group2'''\n",
    "        \n",
    "        cols = [col for col in df.columns if \"num_group\" in col]                   # получаем список признаков\n",
    "        expr_max = [pl.max(col).alias(f\"max_{col}\") for col in cols]               # агрегируем максимальные значения\n",
    "        expr_last = [pl.last(col).alias(f\"last_{col}\") for col in cols]            # агрегируем последние значения\n",
    "        return  expr_max +expr_last\n",
    "    \n",
    "    def get_exprs(df):\n",
    "        '''Функция создания датафрейма с агрегированными признаками'''\n",
    "        \n",
    "        exprs = Aggregator.num_expr(df) + \\\n",
    "                Aggregator.date_expr(df) + \\\n",
    "                Aggregator.str_expr(df) + \\\n",
    "                Aggregator.other_expr(df) + \\\n",
    "                Aggregator.count_expr(df)\n",
    "\n",
    "        return exprs"
   ]
  },
  {
   "cell_type": "code",
   "execution_count": 7,
   "id": "3acdfd96",
   "metadata": {},
   "outputs": [],
   "source": [
    "class ReadData:\n",
    "    '''Класс чтения данных'''\n",
    "    \n",
    "    def read_file(path, id_ind=[], depth=None):\n",
    "        '''Чтение данных, содержащихся в единственном файле'''\n",
    "\n",
    "        df = pl.read_parquet(path)                                         # читаем файл\n",
    "        df = df.pipe(Pipeline.set_table_dtypes)                            # преобразовываем типы данных\n",
    "        if id_ind != []:                                                   # если список case_id не пуст\n",
    "            df = df.filter(pl.col('case_id').is_in(id_ind))                # выбираем наблюдения с значениями case_id , указанными в списке\n",
    "        if depth in [1,2]:                                                 # если в словаре датафрейм находится на глубине 1 или 2\n",
    "            df = df.group_by('case_id').agg(Aggregator.get_exprs(df))      # отправляем датафрейм на агрегацию признаков\n",
    "        return df\n",
    "\n",
    "    def read_files(regex_path, id_ind=[], depth=None):\n",
    "        '''Чтение данных, содержащихся в нескольких файлах файле'''\n",
    "        \n",
    "        chunks = []                                                        # инициализируем пустой список\n",
    "    \n",
    "        for path in glob(str(regex_path)):                                 # перебираем пути к файлам\n",
    "            df = pl.read_parquet(path)                                     # читаем файл\n",
    "            df = df.pipe(Pipeline.set_table_dtypes)                        # преобразовываем типы данных\n",
    "            if id_ind != []:                                               # если список case_id не пуст\n",
    "                df = df.filter(pl.col('case_id').is_in(id_ind))            # выбираем наблюдения с значениями case_id , указанными в списке\n",
    "            if depth in [1,2]:                                             # если в словаре датафрейм находится на глубине 1 или 2\n",
    "                df = df.group_by('case_id').agg(Aggregator.get_exprs(df))  # отправляем датафрейм на агрегацию признаков\n",
    "            chunks.append(df)                                              # добавляем датафрейм в список\n",
    "    \n",
    "        df = pl.concat(chunks, how='vertical_relaxed')                     # конкатенируем датафреймы списка\n",
    "        if id_ind == []:                                                   # если список case_id пуст\n",
    "            df = df.unique(subset=['case_id'])                             # получаем уникальные case_id\n",
    "        return df"
   ]
  },
  {
   "cell_type": "code",
   "execution_count": 8,
   "id": "a7c679a7",
   "metadata": {},
   "outputs": [],
   "source": [
    "class JoinDataFrame:\n",
    "    '''Класс объединения датафреймов в один'''\n",
    "\n",
    "    def feature_eng(df_base, depth_0, depth_1, depth_2):\n",
    "        '''Функция объединения данных в датафрейм, подготовленный для создания агрегированных признаков'''\n",
    "        df_base = (                                                              # добавляем признаки - месяц и день недели\n",
    "            df_base\n",
    "            .with_columns(\n",
    "                month_decision = pl.col('date_decision').dt.month(),\n",
    "                weekday_decision = pl.col('date_decision').dt.weekday(),\n",
    "            )\n",
    "        )\n",
    "        # проходим по датафреймам находящимся на глубине 0-2 словаря датафреймов\n",
    "        for i, df in enumerate(depth_0 + depth_1 + depth_2):\n",
    "            df_base = df_base.join(df, how='left', on='case_id', suffix=f'_{i}')   # присоединяем датафреймы к базовому по case_id\n",
    "        df_base = df_base.pipe(Pipeline.handle_dates)                              # из дат получаем количество дней\n",
    "        return df_base"
   ]
  },
  {
   "cell_type": "code",
   "execution_count": 9,
   "id": "ab848b1b",
   "metadata": {},
   "outputs": [],
   "source": [
    "def reduce_mem_usage(df):\n",
    "    '''Функция оптимизации по используемой памяти'''\n",
    "    \n",
    "    start_mem = df.memory_usage().sum() / 1024**2                                # начальное значение используемой памяти\n",
    "    print('Memory usage of dataframe is {:.2f} MB'.format(start_mem))\n",
    "    \n",
    "    for col in df.columns:                                                       # перебираем признаки\n",
    "        col_type = df[col].dtype                                                 # получаем тип данных признака\n",
    "        if str(col_type)=='category':                                            # если тип признака - category\n",
    "            continue                                                             # продолжаем\n",
    "        \n",
    "        if (col_type != object) & (str(col_type) !='bool'):                      # если тип признака не object и не bool\n",
    "            c_min = df[col].min()                                                # получаем минимальное значение признака\n",
    "            c_max = df[col].max()                                                # получаем максимальное значение признака\n",
    "            # если тип данных - целочисленные\n",
    "            if str(col_type)[:3] == 'int':\n",
    "                # проверяем в какой диапазон попадают значения и назначаем соответствующий тип\n",
    "                if c_min > np.iinfo(np.int8).min and c_max < np.iinfo(np.int8).max:\n",
    "                    df[col] = df[col].astype(np.int8)\n",
    "                elif c_min > np.iinfo(np.int16).min and c_max < np.iinfo(np.int16).max:\n",
    "                    df[col] = df[col].astype(np.int16)\n",
    "                elif c_min > np.iinfo(np.int32).min and c_max < np.iinfo(np.int32).max:\n",
    "                    df[col] = df[col].astype(np.int32)\n",
    "                elif c_min > np.iinfo(np.int64).min and c_max < np.iinfo(np.int64).max:\n",
    "                    df[col] = df[col].astype(np.int64)  \n",
    "            # если тип данных - не целочисленные\n",
    "            else:\n",
    "                # проверяем в какой диапазон попадают значения и назначаем соответствующий тип\n",
    "                if c_min > np.finfo(np.float16).min and c_max < np.finfo(np.float16).max:\n",
    "                    df[col] = df[col].astype(np.float16)\n",
    "                elif c_min > np.finfo(np.float32).min and c_max < np.finfo(np.float32).max:\n",
    "                    df[col] = df[col].astype(np.float32)\n",
    "                else:\n",
    "                    df[col] = df[col].astype(np.float64)\n",
    "        else:\n",
    "            continue\n",
    "    end_mem = df.memory_usage().sum() / 1024**2                                  # конечное значение используемой памяти\n",
    "    print('Memory usage after optimization is: {:.2f} MB'.format(end_mem))\n",
    "    print('Decreased by {:.1f}%'.format(100 * (start_mem - end_mem) / start_mem))\n",
    "    \n",
    "    return df"
   ]
  },
  {
   "cell_type": "code",
   "execution_count": 10,
   "id": "393832a4",
   "metadata": {},
   "outputs": [],
   "source": [
    "def read_file_dict(data_type='train', id_ind=[]):\n",
    "    '''Функция загрузки датафреймов в словарь\n",
    "       Параметр 'data_type' - тип загружаемых данных (обучающая или тестовая)\n",
    "       Параметр 'id_ind' - список case_id, на которых будет основана обучающая выборка'''\n",
    "    \n",
    "    # указываем путь до конечной папки\n",
    "    if data_type == 'train':\n",
    "        path = TRAIN_DIR\n",
    "    else:\n",
    "        path = TEST_DIR\n",
    "    # загрузка датафреймов в словарь\n",
    "    data_store = {\n",
    "        'df_base': ReadData.read_file(path / str(data_type+'_base.parquet'), id_ind=id_ind),\n",
    "        'depth_0': [\n",
    "            ReadData.read_file(path / str(data_type+'_static_cb_0.parquet'), id_ind=id_ind),\n",
    "            ReadData.read_files(path / str(data_type+'_static_0_*.parquet'), id_ind=id_ind),\n",
    "        ],\n",
    "        'depth_1': [\n",
    "            ReadData.read_files(path / str(data_type+'_applprev_1_*.parquet'), id_ind=id_ind, depth=1),\n",
    "            ReadData.read_file(path / str(data_type+'_tax_registry_a_1.parquet'), id_ind=id_ind, depth=1),\n",
    "            ReadData.read_file(path / str(data_type+'_tax_registry_b_1.parquet'), id_ind=id_ind, depth=1),\n",
    "            ReadData.read_file(path / str(data_type+'_tax_registry_c_1.parquet'), id_ind=id_ind, depth=1),\n",
    "            ReadData.read_files(path / str(data_type+'_credit_bureau_a_1_*.parquet'), id_ind=id_ind, depth=1),\n",
    "            ReadData.read_file(path / str(data_type+'_credit_bureau_b_1.parquet'), id_ind=id_ind, depth=1),\n",
    "            ReadData.read_file(path / str(data_type+'_other_1.parquet'), id_ind=id_ind, depth=1),\n",
    "            ReadData.read_file(path / str(data_type+'_person_1.parquet'), id_ind=id_ind, depth=1),\n",
    "            ReadData.read_file(path / str(data_type+'_deposit_1.parquet'), id_ind=id_ind, depth=1),\n",
    "            ReadData.read_file(path / str(data_type+'_debitcard_1.parquet'), id_ind=id_ind, depth=1),\n",
    "        ],\n",
    "        'depth_2': [\n",
    "            ReadData.read_file(path / str(data_type+'_credit_bureau_b_2.parquet'), id_ind=id_ind, depth=2),\n",
    "            ReadData.read_files(path / str(data_type+'_credit_bureau_a_2_*.parquet'), id_ind=id_ind, depth=2),\n",
    "            ReadData.read_file(path / str(data_type+'_applprev_2.parquet'), id_ind=id_ind, depth=2),\n",
    "            ReadData.read_file(path / str(data_type+'_person_2.parquet'), id_ind=id_ind, depth=2)\n",
    "        ]\n",
    "    }\n",
    "    return data_store"
   ]
  },
  {
   "cell_type": "code",
   "execution_count": 11,
   "id": "03b637a8",
   "metadata": {},
   "outputs": [],
   "source": [
    "def data_preprocessing(data_store):\n",
    "    '''Функция преобразования обучающих данных.\n",
    "       'data_store' - словарь датафреймов.'''\n",
    "    \n",
    "    # объединяем данные в датафрейм, подготовленный для агрегации признаков                                             \n",
    "    df = JoinDataFrame.feature_eng(**data_store)  \n",
    "    df = df.pipe(Pipeline.filter_cols)                                # отсеиваем малоинформативные признаки\n",
    "    df = df.to_pandas()                                               # преобразовываем датафрейм из polars в pandas\n",
    "    df = df.pipe(Pipeline.fill_null_str)\n",
    "    df = reduce_mem_usage(df)                                         # оптимизируем датафрейм по памяти\n",
    "    return df"
   ]
  },
  {
   "cell_type": "code",
   "execution_count": 12,
   "id": "dd51b036",
   "metadata": {},
   "outputs": [],
   "source": [
    "class CorrFilter:\n",
    "    '''Класс фильтрации признаков по степени корреляции'''\n",
    "    \n",
    "    def reduce_group(df, list_features):\n",
    "        '''функция получения списка признаков'''\n",
    "        \n",
    "        use = []                                                    # инициализируем список используемых признаков\n",
    "        # перебираем список оставшихся после фильтрации по порогу корреляции признаков (получаем подсписки)\n",
    "        for sublist in list_features:\n",
    "            sublist_len = 0                                         # инициализируем переменную (длина подсписка)\n",
    "            value_current = sublist[0]                              # получаем первое значение подсписка\n",
    "            for value in sublist:                                   # проходим по значениям подсписка\n",
    "                sublist_len_current = df[value].nunique()           # количество уникальных значений признака\n",
    "                if sublist_len_current > sublist_len:               # если количество уникальных значений признака больше текущего значения переменной\n",
    "                    sublist_len = sublist_len_current               # переменной присваивается значение количества уникальных значений признака\n",
    "                    value_current = value                           # обновляем значение текущего признака\n",
    "            use.append(value_current)                               # добавляем текущее значение признака в список используемых признаков\n",
    "        print('Use these',use)\n",
    "        return use\n",
    "    \n",
    "    \n",
    "    def cat_columns_by_correlation(matrix, threshold):\n",
    "        '''функция фильтрации категориальных признаков'''\n",
    "        \n",
    "        correlation_matrix = matrix.phik_matrix().values           # рассчитываем матрицу корреляций\n",
    "        remaining_cols = list(matrix.phik_matrix().columns)  \n",
    "        correlation_matrix = pd.DataFrame(data=correlation_matrix, columns=remaining_cols, index=remaining_cols)\n",
    "        groups = []                                                # инициализируем список                    # список признаков\n",
    "        while remaining_cols:                                      # перебираем список, пока в нем есть значения\n",
    "            col = remaining_cols.pop(0)                            # выбираем первое значение списка, удаляя его из списка\n",
    "            group = [col]                                          # инициализируем список текущим признаком\n",
    "            for c in remaining_cols:                               # перебираем значения списка признаков\n",
    "                if correlation_matrix.loc[col, c] >= threshold:    # если корреляция признаков превышает или равен пороговому значению\n",
    "                    group.append(c)                                # добавляем текущий признак в список\n",
    "            groups.append(group)                                   # собираем списки признаков в общий список\n",
    "            remaining_cols = [c for c in remaining_cols if c not in group] # из списка списков создаем список признаков\n",
    "        return groups\n",
    "    \n",
    "    def num_columns_by_correlation(matrix, threshold):\n",
    "        '''функция фильтрации числовых признаков'''\n",
    "        \n",
    "        correlation_matrix = matrix.corr()                         # рассчитываем матрицу корреляций\n",
    "        groups = []                                                # инициализируем список\n",
    "        remaining_cols = list(matrix.columns)                      # список признаков\n",
    "        while remaining_cols:                                      # перебираем список, пока в нем есть значения\n",
    "            col = remaining_cols.pop(0)                            # выбираем первое значение списка, удаляя его из списка\n",
    "            group = [col]                                          # инициализируем список текущим признаком\n",
    "            for c in remaining_cols:                               # перебираем значения списка признаков\n",
    "                if correlation_matrix.loc[col, c] >= threshold:    # если корреляция признаков превышает или равен пороговому значению\n",
    "                    group.append(c)                                # добавляем текущий признак в список\n",
    "            groups.append(group)                                   # собираем списки признаков в общий список\n",
    "            remaining_cols = [c for c in remaining_cols if c not in group]  # из списка списков создаем список признаков\n",
    "        return groups"
   ]
  },
  {
   "cell_type": "code",
   "execution_count": 13,
   "id": "37c7a75e",
   "metadata": {},
   "outputs": [],
   "source": [
    "def cat_num_separae(df):\n",
    "    '''функция создания списков количественных и категориальных признаков'''\n",
    "    \n",
    "    num_cols = []                                                           # инициализация списка числовых признаков\n",
    "    cat_cols = df.select_dtypes(include=['category']).columns.to_list()     # список категориальных признаков\n",
    "    for i in df.columns:                                                    # цикл по признакам\n",
    "        if i not in cat_cols:                                               # если признак не категориальный\n",
    "            num_cols.append(i)                                              # добавляем признак в список количественных\n",
    "    return num_cols, cat_cols"
   ]
  },
  {
   "cell_type": "code",
   "execution_count": 14,
   "id": "632fb781",
   "metadata": {},
   "outputs": [],
   "source": [
    "def columns_sync(df, union_features_list):\n",
    "    '''функция синхронизации перечня и типа признаков тестовой выборки с обучающей'''\n",
    "    \n",
    "    df_standard = df_preprocessing.copy(deep=True)                                  # создаем копию обучающей выборки\n",
    "    df_standard['case_id'] = df_preprocessing_sync['case_id']                       # добавляем признак case_id в эталонную выборку\n",
    "    list_test_id = df['case_id'].to_list()                                  # список case_id тестовой выборки\n",
    "    df_united = pd.concat([df_standard, df], ignore_index=True)             # объединение эталонной и тестовой выборок\n",
    "    df = df_united.loc[df_united['case_id'].isin(list_test_id)]             # выделяем тестовые наблюдения\n",
    "    df = df[union_features_list].reset_index(drop=True)                     # оставляем только признаки, входящие в эталонную выборку\n",
    "    return df"
   ]
  },
  {
   "cell_type": "code",
   "execution_count": 15,
   "id": "f8f35e7f",
   "metadata": {},
   "outputs": [],
   "source": [
    "def cat_fillna(df):\n",
    "    '''функция заполнения пропусков категориальных признаков'''\n",
    "    \n",
    "    for col in cat_cols:\n",
    "        df = df.astype({col : 'object'})                          # изменяем тип на строковый\n",
    "        df[col] = df[col].fillna('unknown').infer_objects(copy=False)\n",
    "        df = df.astype({col : 'category'})                         # изменяем тип на категориальный\n",
    "        df[col] = df[col].cat.remove_unused_categories()\n",
    "    return df"
   ]
  },
  {
   "cell_type": "code",
   "execution_count": 16,
   "id": "45f9540d",
   "metadata": {},
   "outputs": [],
   "source": [
    "def one_unique_target(df):\n",
    "    '''функция удаления из выборки наблюдений с теми значениями WEEK_NUM для которых присутствует только одно значение таргет'''\n",
    "    \n",
    "    target_nunique = df.groupby('WEEK_NUM')['target'].nunique().reset_index()\n",
    "    target_nunique_drop_lost = (target_nunique.loc[target_nunique['target'] == 1]['WEEK_NUM']).to_list()\n",
    "    df = df.loc[~df['WEEK_NUM'].isin(target_nunique_drop_lost)].reset_index(drop=True)\n",
    "    return df"
   ]
  },
  {
   "cell_type": "code",
   "execution_count": 17,
   "id": "25f5e3e3",
   "metadata": {},
   "outputs": [],
   "source": [
    "def col_number(df):\n",
    "    '''функция подсчета количества признаков'''\n",
    "    \n",
    "    print('Количество категориальных признаков: {}'.format(len(cat_cols)))\n",
    "    print('категориальные признаки: {}'.format(cat_cols))\n",
    "    print()\n",
    "    print('Количество числовых признаков: {}'.format(len(num_cols)))\n",
    "    print('Числовые признаки: {}'.format(num_cols))\n",
    "    print()\n",
    "    print('Общее количество признаков: {}'.format(df.shape[1]))"
   ]
  },
  {
   "cell_type": "markdown",
   "id": "2da70ea7",
   "metadata": {},
   "source": [
    "### Предобработка данных\n",
    "<a id=\"#section_2_3\"></a>"
   ]
  },
  {
   "cell_type": "markdown",
   "id": "1ec03d9d",
   "metadata": {},
   "source": [
    "Предобработка данных включает в себя следующие этапы:\n",
    "- получение агрегированных признаков (min, max, mean, first, last) для каждого значения case_id;\n",
    "- заполнение пропусков нечисловых признаков значением 'unknown';\n",
    "- преобразование типов данных;\n",
    "- генерация новых признаков из дат;\n",
    "- фильтрация признаков по порогу количества пропущенных значений и количеству уникальных значений;\n",
    "- фильтрация признаков по пороговому значению корреляции."
   ]
  },
  {
   "cell_type": "markdown",
   "id": "21df94fa",
   "metadata": {},
   "source": [
    "**Обучающая выборка**"
   ]
  },
  {
   "cell_type": "markdown",
   "id": "a1df90a9",
   "metadata": {},
   "source": [
    "Предобрабатывается вся исходная выборка за исключением элементов, выделенных в тестовую подвыборку, дабы максимально точно определить признаки с высокой степенью корреляции. После предобработки выделим обучающую выборку в количестве наблюдений, соответствующем значению NUM_SAMPLE_TRAIN."
   ]
  },
  {
   "cell_type": "markdown",
   "id": "47856388",
   "metadata": {},
   "source": [
    "Загружаем датафреймы в словарь, осуществляем предобработку данных, агрегируем данные и объединяем их в один датафрейм:"
   ]
  },
  {
   "cell_type": "code",
   "execution_count": 18,
   "id": "2eaa4069",
   "metadata": {},
   "outputs": [
    {
     "name": "stdout",
     "output_type": "stream",
     "text": [
      "Memory usage of dataframe is 4251.96 MB\n",
      "Memory usage after optimization is: 1502.35 MB\n",
      "Decreased by 64.7%\n"
     ]
    }
   ],
   "source": [
    "data_store = read_file_dict(id_ind=id_preprocessing_list)                                # получаем словарь датафреймов\n",
    "# предобработка данных - получаем объединенный датафрейм и список рассматриваемых case_id\n",
    "df_preprocessing = data_preprocessing(data_store)\n",
    "del data_store                                               # удаляем список из памяти"
   ]
  },
  {
   "cell_type": "markdown",
   "id": "0d25be7b",
   "metadata": {},
   "source": [
    "Выделяем целевую переменную:"
   ]
  },
  {
   "cell_type": "code",
   "execution_count": 19,
   "id": "3c5ed12b",
   "metadata": {},
   "outputs": [],
   "source": [
    "y_preprocessing = df_preprocessing['target']\n",
    "# weeks = df_preprocessing['WEEK_NUM']\n",
    "df_preprocessing_sync = df_preprocessing[['case_id', 'WEEK_NUM', 'target']]\n",
    "df_preprocessing = df_preprocessing.drop(['case_id', 'WEEK_NUM', 'target'], axis=1)"
   ]
  },
  {
   "cell_type": "markdown",
   "id": "0ea6a881",
   "metadata": {},
   "source": [
    "Создаем списки числовых и категориальных признаков:"
   ]
  },
  {
   "cell_type": "code",
   "execution_count": 20,
   "id": "2d5551b4",
   "metadata": {},
   "outputs": [],
   "source": [
    "num_cols, cat_cols = cat_num_separae(df_preprocessing)"
   ]
  },
  {
   "cell_type": "markdown",
   "id": "bf300dd7",
   "metadata": {},
   "source": [
    "Заполняем пропущенные значения категориальных признаков на 'unknown':"
   ]
  },
  {
   "cell_type": "code",
   "execution_count": 21,
   "id": "914882a8",
   "metadata": {},
   "outputs": [
    {
     "name": "stderr",
     "output_type": "stream",
     "text": [
      "C:\\Users\\bond_\\AppData\\Local\\Temp\\ipykernel_31932\\3227710926.py:6: FutureWarning: Downcasting object dtype arrays on .fillna, .ffill, .bfill is deprecated and will change in a future version. Call result.infer_objects(copy=False) instead. To opt-in to the future behavior, set `pd.set_option('future.no_silent_downcasting', True)`\n",
      "  df[col] = df[col].fillna('unknown').infer_objects(copy=False)\n"
     ]
    }
   ],
   "source": [
    "df_preprocessing = cat_fillna(df_preprocessing)"
   ]
  },
  {
   "cell_type": "markdown",
   "id": "2cb7f409",
   "metadata": {},
   "source": [
    "Задаем порог уровня корреляции:"
   ]
  },
  {
   "cell_type": "code",
   "execution_count": 22,
   "id": "be546618",
   "metadata": {},
   "outputs": [],
   "source": [
    "THRESHOLD=0.9"
   ]
  },
  {
   "cell_type": "markdown",
   "id": "32065f8c",
   "metadata": {},
   "source": [
    "Отсеиваем числовые признаки по порогу корреляции:"
   ]
  },
  {
   "cell_type": "code",
   "execution_count": 23,
   "id": "ca30468b",
   "metadata": {},
   "outputs": [
    {
     "name": "stdout",
     "output_type": "stream",
     "text": [
      "Use these ['month_decision', 'weekday_decision', 'max_birth_259D', 'days180_256L', 'days30_165L', 'days360_512L', 'firstquarter_103L', 'fourthquarter_440L', 'pmtscount_423L', 'pmtssum_45A', 'responsedate_1012D', 'responsedate_4527233D', 'secondquarter_766L', 'thirdquarter_1082L', 'max_actualdpd_943P', 'amtinstpaidbefduel24m_4187115A', 'annuity_780A', 'annuitynextmonth_57A', 'applicationcnt_361L', 'applications30d_658L', 'applicationscnt_1086L', 'applicationscnt_464L', 'applicationscnt_867L', 'mindbddpdlast24m_3658935P', 'avginstallast24m_3658937A', 'avgmaxdpdlast9m_3716943P', 'avgoutstandbalancel6m_4187114A', 'avgpmtlast12m_4525200A', 'clientscnt_1022L', 'clientscnt_100L', 'clientscnt_1071L', 'clientscnt_1130L', 'clientscnt_157L', 'clientscnt_257L', 'clientscnt_304L', 'clientscnt_360L', 'clientscnt_493L', 'clientscnt_533L', 'clientscnt_887L', 'clientscnt_946L', 'cntincpaycont9m_3716944L', 'cntpmts24_3658933L', 'commnoinclast6m_3546845L', 'disbursedcredamount_1113A', 'currdebtcredtyperange_828A', 'datefirstoffer_1144D', 'maxdpdinstldate_3546855D', 'daysoverduetolerancedd_3976961L', 'deferredmnthsnum_166L', 'downpmt_116A', 'lastapprdate_640D', 'eir_270L', 'firstclxcampaign_1125D', 'firstdatedue_489D', 'homephncnt_628L', 'max_firstnonzeroinstldate_307D', 'lastapprcredamount_781A', 'lastrejectcredamount_222A', 'lastrejectdate_50D', 'maininc_215A', 'mastercontrelectronic_519L', 'mastercontrexist_109L', 'maxannuity_159A', 'maxdebt4_972A', 'maxdpdfrom6mto36m_3546853P', 'maxdpdinstlnum_3546846P', 'maxdpdlast12m_727P', 'maxdpdlast3m_392P', 'maxdpdlast6m_474P', 'maxdpdtolerance_374P', 'maxinstallast24m_3658928A', 'maxlnamtstart6m_4525199A', 'mobilephncnt_593L', 'numinstlswithoutdpd_562L', 'numactivecreds_622L', 'numactivecredschannel_414L', 'numactiverelcontr_750L', 'numcontrs3months_479L', 'numinstlallpaidearly3d_817L', 'numinstls_657L', 'numinstlswithdpd10_728L', 'numinstlswithdpd5_4187116L', 'numinstpaidearly5d_1087L', 'numinstpaidlastcontr_4325080L', 'numinstpaidlate1d_3546852L', 'numinstregularpaid_973L', 'numinsttopaygr_769L', 'numnotactivated_1143L', 'numpmtchanneldd_318L', 'numrejects9m_859L', 'pctinstlsallpaidearl3d_427L', 'pctinstlsallpaidlate4d_3546849L', 'pctinstlsallpaidlate1d_3546856L', 'pmtnum_254L', 'posfpd10lastmonth_333P', 'posfpd30lastmonth_3976960P', 'posfstqpd30lastmonth_3976962P', 'price_1097A', 'sellerplacecnt_915L', 'sellerplacescnt_216L', 'totalsettled_863A', 'max_annuity_853A', 'max_credacc_credlmt_575A', 'max_credamount_590A', 'max_currdebt_94A', 'max_downpmt_134A', 'max_mainoccupationinc_437A', 'mean_maxdpdtolerance_577P', 'last_credacc_credlmt_575A', 'last_currdebt_94A', 'last_downpmt_134A', 'last_mainoccupationinc_437A', 'last_maxdpdtolerance_577P', 'mean_actualdpd_943P', 'mean_annuity_853A', 'mean_credacc_credlmt_575A', 'mean_credamount_590A', 'mean_currdebt_94A', 'mean_downpmt_134A', 'mean_mainoccupationinc_437A', 'max_dtlastpmt_581D', 'max_employedfrom_700D', 'last_firstnonzeroinstldate_307D', 'last_dtlastpmtallstes_3545839D', 'mean_approvaldate_319D', 'mean_firstnonzeroinstldate_307D', 'mean_dtlastpmt_581D', 'max_byoccupationinc_3656910L', 'max_childnum_21L', 'max_pmtnum_8L', 'last_pmtnum_8L', 'max_num_group1', 'last_num_group1', 'last_pmtamount_36A', 'max_processingdate_168D', 'last_processingdate_168D', 'max_credlmt_230A', 'mean_credlmt_935A', 'mean_totaloutstanddebtvalue_39A', 'max_overdueamountmax2_14A', 'mean_pmts_dpd_1073P', 'max_numberofoverdueinstlmax_1151L', 'mean_instlamount_768A', 'mean_monthlyinstlamount_332A', 'max_monthlyinstlamount_674A', 'max_totaloutstanddebtvalue_668A', 'mean_totaldebtoverduevalue_718A', 'max_overdueamountmax2_398A', 'max_residualamount_488A', 'mean_residualamount_856A', 'max_totalamount_6A', 'mean_credlmt_230A', 'mean_dpdmax_757P', 'mean_monthlyinstlamount_674A', 'mean_outstandingamount_354A', 'mean_outstandingamount_362A', 'mean_overdueamount_31A', 'mean_overdueamount_659A', 'mean_overdueamountmax2_14A', 'mean_overdueamountmax2_398A', 'mean_totalamount_6A', 'mean_totaloutstanddebtvalue_668A', 'max_dateofcredend_289D', 'max_dateofcredend_353D', 'max_dateofcredstart_181D', 'max_dateofcredstart_739D', 'max_dateofrealrepmt_138D', 'max_lastupdate_1112D', 'max_numberofoverdueinstlmaxdat_148D', 'mean_numberofoverdueinstlmaxdat_641D', 'max_overdueamountmax2date_1142D', 'max_refreshdate_3813885D', 'last_refreshdate_3813885D', 'mean_dateofcredend_289D', 'mean_dateofcredend_353D', 'mean_dateofcredstart_181D', 'mean_dateofcredstart_739D', 'mean_lastupdate_1112D', 'mean_numberofoverdueinstlmaxdat_148D', 'mean_refreshdate_3813885D', 'max_dpdmaxdatemonth_442T', 'max_dpdmaxdatemonth_89T', 'max_dpdmaxdateyear_596T', 'max_nominalrate_281L', 'max_nominalrate_498L', 'max_numberofcontrsvalue_258L', 'max_num_group1_6', 'max_numberofinstls_229L', 'max_numberofinstls_320L', 'max_numberofoutstandinstls_520L', 'max_numberofoverdueinstls_725L', 'max_numberofoverdueinstls_834L', 'max_overdueamountmaxdatemonth_284T', 'max_periodicityofpmts_1102L', 'max_periodicityofpmts_837L', 'last_num_group1_6', 'max_mainoccupationinc_384A', 'max_empl_employedfrom_271D', 'max_num_group1_9', 'mean_pmts_dpd_303P', 'mean_pmts_overdue_1140A', 'mean_pmts_overdue_1152A', 'max_collater_valueofguarantee_1124L', 'max_collater_valueofguarantee_876L', 'max_pmts_month_158T', 'max_pmts_month_706T', 'max_pmts_year_1139T', 'last_pmts_month_158T', 'last_pmts_month_706T', 'max_num_group1_13', 'max_num_group2_13', 'last_num_group2_13', 'max_num_group2_14', 'last_num_group2_14', 'max_num_group1_15', 'max_num_group2_15']\n"
     ]
    }
   ],
   "source": [
    "num_corr = CorrFilter.num_columns_by_correlation(df_preprocessing[num_cols], THRESHOLD)\n",
    "num_feature_list = CorrFilter.reduce_group(df_preprocessing[num_cols], num_corr)"
   ]
  },
  {
   "cell_type": "markdown",
   "id": "2b33adf8",
   "metadata": {},
   "source": [
    "Определяем количество признаков:"
   ]
  },
  {
   "cell_type": "code",
   "execution_count": 24,
   "id": "a40da3d6",
   "metadata": {},
   "outputs": [
    {
     "name": "stdout",
     "output_type": "stream",
     "text": [
      "Количество категориальных признаков: 114\n",
      "категориальные признаки: ['description_5085714M', 'education_1103M', 'education_88M', 'maritalst_385M', 'maritalst_893M', 'requesttype_4525192L', 'credtype_322L', 'disbursementtype_67L', 'inittransactioncode_186L', 'isbidproduct_1095L', 'lastapprcommoditycat_1041M', 'lastcancelreason_561M', 'lastrejectcommoditycat_161M', 'lastrejectcommodtypec_5251769M', 'lastrejectreason_759M', 'lastrejectreasonclient_4145040M', 'lastst_736L', 'opencred_647L', 'paytype1st_925L', 'paytype_783L', 'twobodfilling_608L', 'max_cancelreason_3545846M', 'max_education_1138M', 'max_postype_4733339M', 'max_rejectreason_755M', 'max_rejectreasonclient_4145042M', 'last_cancelreason_3545846M', 'last_education_1138M', 'last_postype_4733339M', 'last_rejectreason_755M', 'last_rejectreasonclient_4145042M', 'max_credtype_587L', 'max_familystate_726L', 'max_inittransactioncode_279L', 'max_isbidproduct_390L', 'max_status_219L', 'last_credtype_587L', 'last_familystate_726L', 'last_inittransactioncode_279L', 'last_isbidproduct_390L', 'last_status_219L', 'max_classificationofcontr_13M', 'max_classificationofcontr_400M', 'max_contractst_545M', 'max_contractst_964M', 'max_description_351M', 'max_financialinstitution_382M', 'max_financialinstitution_591M', 'max_purposeofcred_426M', 'max_purposeofcred_874M', 'max_subjectrole_182M', 'max_subjectrole_93M', 'last_classificationofcontr_13M', 'last_classificationofcontr_400M', 'last_contractst_545M', 'last_contractst_964M', 'last_description_351M', 'last_financialinstitution_382M', 'last_financialinstitution_591M', 'last_purposeofcred_426M', 'last_purposeofcred_874M', 'last_subjectrole_182M', 'last_subjectrole_93M', 'max_education_927M', 'max_empladdr_district_926M', 'max_empladdr_zipcode_114M', 'max_language1_981M', 'last_education_927M', 'last_empladdr_district_926M', 'last_empladdr_zipcode_114M', 'last_language1_981M', 'max_contaddr_matchlist_1032L', 'max_contaddr_smempladdr_334L', 'max_empl_employedtotal_800L', 'max_empl_industry_691L', 'max_familystate_447L', 'max_incometype_1044T', 'max_relationshiptoclient_415T', 'max_relationshiptoclient_642T', 'max_remitter_829L', 'max_role_1084L', 'max_safeguarantyflag_411L', 'max_sex_738L', 'max_type_25L', 'last_contaddr_matchlist_1032L', 'last_contaddr_smempladdr_334L', 'last_incometype_1044T', 'last_relationshiptoclient_642T', 'last_role_1084L', 'last_safeguarantyflag_411L', 'last_sex_738L', 'last_type_25L', 'max_collater_typofvalofguarant_298M', 'max_collater_typofvalofguarant_407M', 'max_collaterals_typeofguarante_359M', 'max_collaterals_typeofguarante_669M', 'max_subjectroles_name_541M', 'max_subjectroles_name_838M', 'last_collater_typofvalofguarant_298M', 'last_collater_typofvalofguarant_407M', 'last_collaterals_typeofguarante_359M', 'last_collaterals_typeofguarante_669M', 'last_subjectroles_name_541M', 'last_subjectroles_name_838M', 'max_cacccardblochreas_147M', 'last_cacccardblochreas_147M', 'max_conts_type_509L', 'last_conts_type_509L', 'max_conts_role_79M', 'max_empls_economicalst_849M', 'max_empls_employer_name_740M', 'last_conts_role_79M', 'last_empls_economicalst_849M', 'last_empls_employer_name_740M']\n",
      "\n",
      "Количество числовых признаков: 216\n",
      "Числовые признаки: ['month_decision', 'weekday_decision', 'max_birth_259D', 'days180_256L', 'days30_165L', 'days360_512L', 'firstquarter_103L', 'fourthquarter_440L', 'pmtscount_423L', 'pmtssum_45A', 'responsedate_1012D', 'responsedate_4527233D', 'secondquarter_766L', 'thirdquarter_1082L', 'max_actualdpd_943P', 'amtinstpaidbefduel24m_4187115A', 'annuity_780A', 'annuitynextmonth_57A', 'applicationcnt_361L', 'applications30d_658L', 'applicationscnt_1086L', 'applicationscnt_464L', 'applicationscnt_867L', 'mindbddpdlast24m_3658935P', 'avginstallast24m_3658937A', 'avgmaxdpdlast9m_3716943P', 'avgoutstandbalancel6m_4187114A', 'avgpmtlast12m_4525200A', 'clientscnt_1022L', 'clientscnt_100L', 'clientscnt_1071L', 'clientscnt_1130L', 'clientscnt_157L', 'clientscnt_257L', 'clientscnt_304L', 'clientscnt_360L', 'clientscnt_493L', 'clientscnt_533L', 'clientscnt_887L', 'clientscnt_946L', 'cntincpaycont9m_3716944L', 'cntpmts24_3658933L', 'commnoinclast6m_3546845L', 'disbursedcredamount_1113A', 'currdebtcredtyperange_828A', 'datefirstoffer_1144D', 'maxdpdinstldate_3546855D', 'daysoverduetolerancedd_3976961L', 'deferredmnthsnum_166L', 'downpmt_116A', 'lastapprdate_640D', 'eir_270L', 'firstclxcampaign_1125D', 'firstdatedue_489D', 'homephncnt_628L', 'max_firstnonzeroinstldate_307D', 'lastapprcredamount_781A', 'lastrejectcredamount_222A', 'lastrejectdate_50D', 'maininc_215A', 'mastercontrelectronic_519L', 'mastercontrexist_109L', 'maxannuity_159A', 'maxdebt4_972A', 'maxdpdfrom6mto36m_3546853P', 'maxdpdinstlnum_3546846P', 'maxdpdlast12m_727P', 'maxdpdlast3m_392P', 'maxdpdlast6m_474P', 'maxdpdtolerance_374P', 'maxinstallast24m_3658928A', 'maxlnamtstart6m_4525199A', 'mobilephncnt_593L', 'numinstlswithoutdpd_562L', 'numactivecreds_622L', 'numactivecredschannel_414L', 'numactiverelcontr_750L', 'numcontrs3months_479L', 'numinstlallpaidearly3d_817L', 'numinstls_657L', 'numinstlswithdpd10_728L', 'numinstlswithdpd5_4187116L', 'numinstpaidearly5d_1087L', 'numinstpaidlastcontr_4325080L', 'numinstpaidlate1d_3546852L', 'numinstregularpaid_973L', 'numinsttopaygr_769L', 'numnotactivated_1143L', 'numpmtchanneldd_318L', 'numrejects9m_859L', 'pctinstlsallpaidearl3d_427L', 'pctinstlsallpaidlate4d_3546849L', 'pctinstlsallpaidlate1d_3546856L', 'pmtnum_254L', 'posfpd10lastmonth_333P', 'posfpd30lastmonth_3976960P', 'posfstqpd30lastmonth_3976962P', 'price_1097A', 'sellerplacecnt_915L', 'sellerplacescnt_216L', 'totalsettled_863A', 'max_annuity_853A', 'max_credacc_credlmt_575A', 'max_credamount_590A', 'max_currdebt_94A', 'max_downpmt_134A', 'max_mainoccupationinc_437A', 'mean_maxdpdtolerance_577P', 'last_credacc_credlmt_575A', 'last_currdebt_94A', 'last_downpmt_134A', 'last_mainoccupationinc_437A', 'last_maxdpdtolerance_577P', 'mean_actualdpd_943P', 'mean_annuity_853A', 'mean_credacc_credlmt_575A', 'mean_credamount_590A', 'mean_currdebt_94A', 'mean_downpmt_134A', 'mean_mainoccupationinc_437A', 'max_dtlastpmt_581D', 'max_employedfrom_700D', 'last_firstnonzeroinstldate_307D', 'last_dtlastpmtallstes_3545839D', 'mean_approvaldate_319D', 'mean_firstnonzeroinstldate_307D', 'mean_dtlastpmt_581D', 'max_byoccupationinc_3656910L', 'max_childnum_21L', 'max_pmtnum_8L', 'last_pmtnum_8L', 'max_num_group1', 'last_num_group1', 'last_pmtamount_36A', 'max_processingdate_168D', 'last_processingdate_168D', 'max_credlmt_230A', 'mean_credlmt_935A', 'mean_totaloutstanddebtvalue_39A', 'max_overdueamountmax2_14A', 'mean_pmts_dpd_1073P', 'max_numberofoverdueinstlmax_1151L', 'mean_instlamount_768A', 'mean_monthlyinstlamount_332A', 'max_monthlyinstlamount_674A', 'max_totaloutstanddebtvalue_668A', 'mean_totaldebtoverduevalue_718A', 'max_overdueamountmax2_398A', 'max_residualamount_488A', 'mean_residualamount_856A', 'max_totalamount_6A', 'mean_credlmt_230A', 'mean_dpdmax_757P', 'mean_monthlyinstlamount_674A', 'mean_outstandingamount_354A', 'mean_outstandingamount_362A', 'mean_overdueamount_31A', 'mean_overdueamount_659A', 'mean_overdueamountmax2_14A', 'mean_overdueamountmax2_398A', 'mean_totalamount_6A', 'mean_totaloutstanddebtvalue_668A', 'max_dateofcredend_289D', 'max_dateofcredend_353D', 'max_dateofcredstart_181D', 'max_dateofcredstart_739D', 'max_dateofrealrepmt_138D', 'max_lastupdate_1112D', 'max_numberofoverdueinstlmaxdat_148D', 'mean_numberofoverdueinstlmaxdat_641D', 'max_overdueamountmax2date_1142D', 'max_refreshdate_3813885D', 'last_refreshdate_3813885D', 'mean_dateofcredend_289D', 'mean_dateofcredend_353D', 'mean_dateofcredstart_181D', 'mean_dateofcredstart_739D', 'mean_lastupdate_1112D', 'mean_numberofoverdueinstlmaxdat_148D', 'mean_refreshdate_3813885D', 'max_dpdmaxdatemonth_442T', 'max_dpdmaxdatemonth_89T', 'max_dpdmaxdateyear_596T', 'max_nominalrate_281L', 'max_nominalrate_498L', 'max_numberofcontrsvalue_258L', 'max_num_group1_6', 'max_numberofinstls_229L', 'max_numberofinstls_320L', 'max_numberofoutstandinstls_520L', 'max_numberofoverdueinstls_725L', 'max_numberofoverdueinstls_834L', 'max_overdueamountmaxdatemonth_284T', 'max_periodicityofpmts_1102L', 'max_periodicityofpmts_837L', 'last_num_group1_6', 'max_mainoccupationinc_384A', 'max_empl_employedfrom_271D', 'max_num_group1_9', 'mean_pmts_dpd_303P', 'mean_pmts_overdue_1140A', 'mean_pmts_overdue_1152A', 'max_collater_valueofguarantee_1124L', 'max_collater_valueofguarantee_876L', 'max_pmts_month_158T', 'max_pmts_month_706T', 'max_pmts_year_1139T', 'last_pmts_month_158T', 'last_pmts_month_706T', 'max_num_group1_13', 'max_num_group2_13', 'last_num_group2_13', 'max_num_group2_14', 'last_num_group2_14', 'max_num_group1_15', 'max_num_group2_15']\n",
      "\n",
      "Общее количество признаков: 330\n"
     ]
    }
   ],
   "source": [
    "union_features_list = num_feature_list + cat_cols           # Объединяем списки числовых и категориальных признаков\n",
    "df_preprocessing = df_preprocessing[union_features_list]            # Оставляем в датафрейме отфильтрованные признаки\n",
    "num_cols, cat_cols = cat_num_separae(df_preprocessing)              # Обновляем списки числовых и категориальных признаков\n",
    "col_number(df_preprocessing)                                        # Определяем количество признаков"
   ]
  },
  {
   "cell_type": "markdown",
   "id": "9013077b",
   "metadata": {
    "execution": {
     "iopub.execute_input": "2024-07-28T20:34:10.387595Z",
     "iopub.status.busy": "2024-07-28T20:34:10.386691Z",
     "iopub.status.idle": "2024-07-28T20:34:10.394409Z",
     "shell.execute_reply": "2024-07-28T20:34:10.393176Z",
     "shell.execute_reply.started": "2024-07-28T20:34:10.387556Z"
    }
   },
   "source": [
    "Подготавливаем датафрейм к выделению обучающей подвыборки: добавляем необходимые признаки."
   ]
  },
  {
   "cell_type": "code",
   "execution_count": 25,
   "id": "f6fdec68",
   "metadata": {},
   "outputs": [],
   "source": [
    "data = df_preprocessing.copy(deep=True)                                      # копия датафрейма\n",
    "data['stratify'] = data_stratify                                             # признак, по которому производится стратификация\n",
    "# добавляем признаки 'case_id', 'WEEK_NUM', 'target'\n",
    "data[['case_id', 'WEEK_NUM', 'target']] = df_preprocessing_sync[['case_id', 'WEEK_NUM', 'target']]"
   ]
  },
  {
   "cell_type": "markdown",
   "id": "a168afca",
   "metadata": {},
   "source": [
    "Выделяем обучающую выборку:"
   ]
  },
  {
   "cell_type": "code",
   "execution_count": 26,
   "id": "f0162951",
   "metadata": {},
   "outputs": [],
   "source": [
    "df_train, df_drop, y, y_drop = train_test_split(\n",
    "    data,\n",
    "    y_preprocessing,\n",
    "    stratify=data_stratify,\n",
    "    train_size=TRAIN_SIZE,\n",
    "    random_state=RS)"
   ]
  },
  {
   "cell_type": "markdown",
   "id": "d4558b63",
   "metadata": {},
   "source": [
    "Поскольку модель прогнозирования основывается на группировании наблюдений по признаку WEEK_NUM, удаляем из выборки признаки с теми значениями WEEK_NUM для которых присутствует только одно значение таргет:"
   ]
  },
  {
   "cell_type": "code",
   "execution_count": 27,
   "id": "9c57c3ce",
   "metadata": {},
   "outputs": [],
   "source": [
    "df_train['target'] = y                            # добавляем целевой признак\n",
    "#Поскольку модель прогнозирования основывается на группировании наблюдений по признаку WEEK_NUM, удаляем из выборки признаки\n",
    "#с теми значениями WEEK_NUM для которых присутствует только одно значение таргет:\n",
    "df_train = one_unique_target(df_train)\n",
    "y = df_train['target']                            # выделяем целевой признак"
   ]
  },
  {
   "cell_type": "markdown",
   "id": "cadfedcf",
   "metadata": {},
   "source": [
    "Выделяем признак WEEK_NUM, по которому будет производится группировка наблюдений при обучении:"
   ]
  },
  {
   "cell_type": "code",
   "execution_count": 28,
   "id": "1669255b",
   "metadata": {},
   "outputs": [],
   "source": [
    "weeks = df_train['WEEK_NUM']\n",
    "df_train_sync = df_train[['case_id', 'WEEK_NUM', 'target']]                        # данные для расчета итоговой метрики\n",
    "df_train = df_train.drop(['case_id', 'WEEK_NUM', 'target', 'stratify'], axis=1)"
   ]
  },
  {
   "cell_type": "markdown",
   "id": "6cea6274",
   "metadata": {},
   "source": [
    "**Тестовая выборка**"
   ]
  },
  {
   "cell_type": "markdown",
   "id": "1f148b47",
   "metadata": {},
   "source": [
    "Загружаем датафреймы в словарь, осуществляем предобработку данных, агрегируем данные и объединяем их в один датафрейм:"
   ]
  },
  {
   "cell_type": "code",
   "execution_count": 29,
   "id": "265c3d56",
   "metadata": {},
   "outputs": [],
   "source": [
    "data_store = read_file_dict(id_ind=id_test_list)   "
   ]
  },
  {
   "cell_type": "code",
   "execution_count": 30,
   "id": "ad24657d",
   "metadata": {},
   "outputs": [
    {
     "name": "stdout",
     "output_type": "stream",
     "text": [
      "Memory usage of dataframe is 72.39 MB\n",
      "Memory usage after optimization is: 25.00 MB\n",
      "Decreased by 65.5%\n"
     ]
    }
   ],
   "source": [
    "data_store = read_file_dict(id_ind=id_test_list)                                # получаем словарь датафреймов\n",
    "# предобработка данных - получаем объединенный датафрейм и список рассматриваемых case_id\n",
    "df_test = data_preprocessing(data_store)\n",
    "del data_store                                                                   # удаляем список из памяти"
   ]
  },
  {
   "cell_type": "markdown",
   "id": "92d162f9",
   "metadata": {},
   "source": [
    "Поскольку модель прогнозирования основывается на группировании наблюдений по признаку WEEK_NUM, удаляем из выборки признаки с теми значениями WEEK_NUM для которых присутствует только одно значение таргет:"
   ]
  },
  {
   "cell_type": "code",
   "execution_count": 31,
   "id": "5e566a01",
   "metadata": {},
   "outputs": [],
   "source": [
    "df_test = one_unique_target(df_test)"
   ]
  },
  {
   "cell_type": "markdown",
   "id": "96f6296c",
   "metadata": {},
   "source": [
    "Выделяем целевую переменную и признак, WEEK_NUM, по которому будет производится группировка наблюдений при проверке модели:"
   ]
  },
  {
   "cell_type": "code",
   "execution_count": 32,
   "id": "ff24a10a",
   "metadata": {},
   "outputs": [],
   "source": [
    "y_test = df_test['target']\n",
    "weeks_test = df_test['WEEK_NUM']\n",
    "df_test_sync = df_test[['case_id', 'WEEK_NUM', 'target']]"
   ]
  },
  {
   "cell_type": "markdown",
   "id": "dea3f809",
   "metadata": {},
   "source": [
    "Синхронизируем набор признаков с в обучающей выборкой:"
   ]
  },
  {
   "cell_type": "code",
   "execution_count": 33,
   "id": "f57492d7",
   "metadata": {},
   "outputs": [],
   "source": [
    "df_test = columns_sync(df_test, union_features_list)"
   ]
  },
  {
   "cell_type": "markdown",
   "id": "b190d1fd",
   "metadata": {},
   "source": [
    "Заполняем пропущенные значения категориальных признаков на 'unknown':"
   ]
  },
  {
   "cell_type": "code",
   "execution_count": 34,
   "id": "52ad466a",
   "metadata": {},
   "outputs": [
    {
     "name": "stderr",
     "output_type": "stream",
     "text": [
      "C:\\Users\\bond_\\AppData\\Local\\Temp\\ipykernel_31932\\3227710926.py:6: FutureWarning: Downcasting object dtype arrays on .fillna, .ffill, .bfill is deprecated and will change in a future version. Call result.infer_objects(copy=False) instead. To opt-in to the future behavior, set `pd.set_option('future.no_silent_downcasting', True)`\n",
      "  df[col] = df[col].fillna('unknown').infer_objects(copy=False)\n",
      "C:\\Users\\bond_\\AppData\\Local\\Temp\\ipykernel_31932\\3227710926.py:6: FutureWarning: Downcasting object dtype arrays on .fillna, .ffill, .bfill is deprecated and will change in a future version. Call result.infer_objects(copy=False) instead. To opt-in to the future behavior, set `pd.set_option('future.no_silent_downcasting', True)`\n",
      "  df[col] = df[col].fillna('unknown').infer_objects(copy=False)\n"
     ]
    }
   ],
   "source": [
    "df_test = cat_fillna(df_test)"
   ]
  },
  {
   "cell_type": "markdown",
   "id": "4a55ea9c",
   "metadata": {},
   "source": [
    "**Тестовая выборка (submission)**"
   ]
  },
  {
   "cell_type": "markdown",
   "id": "e6d2c18d",
   "metadata": {},
   "source": [
    "Загружаем датафреймы в словарь, осуществляем предобработку данных, агрегируем данные и объединяем их в один датафрейм:"
   ]
  },
  {
   "cell_type": "code",
   "execution_count": 35,
   "id": "86978fc1",
   "metadata": {},
   "outputs": [
    {
     "name": "stdout",
     "output_type": "stream",
     "text": [
      "Memory usage of dataframe is 0.04 MB\n",
      "Memory usage after optimization is: 0.02 MB\n",
      "Decreased by 45.3%\n"
     ]
    }
   ],
   "source": [
    "data_store = read_file_dict(data_type='test')\n",
    "df_test_kaggle = data_preprocessing(data_store)\n",
    "del data_store"
   ]
  },
  {
   "cell_type": "markdown",
   "id": "aff45dd7",
   "metadata": {},
   "source": [
    "Выделяем целевую переменную и признак, WEEK_NUM, по которому будет производится группировка наблюдений при проверке модели:"
   ]
  },
  {
   "cell_type": "code",
   "execution_count": 36,
   "id": "33c9db96",
   "metadata": {},
   "outputs": [],
   "source": [
    "df_test_kaggle_sync = df_test_kaggle[['case_id', 'WEEK_NUM']]"
   ]
  },
  {
   "cell_type": "markdown",
   "id": "4e3b434f",
   "metadata": {},
   "source": [
    "Синхронизируем набор признаков с в обучающей выборкой:"
   ]
  },
  {
   "cell_type": "code",
   "execution_count": 37,
   "id": "467cc7c5",
   "metadata": {},
   "outputs": [],
   "source": [
    "df_test_kaggle = columns_sync(df_test_kaggle, union_features_list)"
   ]
  },
  {
   "cell_type": "markdown",
   "id": "e91c70a0",
   "metadata": {},
   "source": [
    "Заполняем пропущенные значения категориальных признаков на 'unknown':"
   ]
  },
  {
   "cell_type": "code",
   "execution_count": 38,
   "id": "3f515722",
   "metadata": {},
   "outputs": [
    {
     "name": "stderr",
     "output_type": "stream",
     "text": [
      "C:\\Users\\bond_\\AppData\\Local\\Temp\\ipykernel_31932\\3227710926.py:6: FutureWarning: Downcasting object dtype arrays on .fillna, .ffill, .bfill is deprecated and will change in a future version. Call result.infer_objects(copy=False) instead. To opt-in to the future behavior, set `pd.set_option('future.no_silent_downcasting', True)`\n",
      "  df[col] = df[col].fillna('unknown').infer_objects(copy=False)\n",
      "C:\\Users\\bond_\\AppData\\Local\\Temp\\ipykernel_31932\\3227710926.py:6: FutureWarning: Downcasting object dtype arrays on .fillna, .ffill, .bfill is deprecated and will change in a future version. Call result.infer_objects(copy=False) instead. To opt-in to the future behavior, set `pd.set_option('future.no_silent_downcasting', True)`\n",
      "  df[col] = df[col].fillna('unknown').infer_objects(copy=False)\n"
     ]
    }
   ],
   "source": [
    "df_test_kaggle = cat_fillna(df_test_kaggle)"
   ]
  },
  {
   "cell_type": "markdown",
   "id": "5901b0ea",
   "metadata": {},
   "source": [
    "***Вывод:***  \n",
    "1. Получены 3 выборки:\n",
    "   - обучающая - df_preprocessing;\n",
    "   - тестовая - df_test;\n",
    "   - тестовая для выгрузки в kaggle -df_test_kaggle.\n",
    "\n",
    "2. Выполнена следующая предобработка:\n",
    "   - получение агрегированных признаков (min, max, mean, first, last) для каждого значения case_id;\n",
    "   - заполнение пропусков нечисловых признаков значением 'unknown';\n",
    "   - преобразование типов данных;\n",
    "   - генерация новых признаков из дат;\n",
    "   - фильтрация признаков по порогу количества пропущенных значений и количеству уникальных значений;\n",
    "   - фильтрация признаков по пороговому значению корреляции.\n",
    "\n",
    "3. По результатам предобработки выборки имеют следующее количество признаков:\n",
    "   - количество категориальных признаков: 38;\n",
    "   - количество числовых признаков: 137;\n",
    "   - общее количество признаков: 175."
   ]
  },
  {
   "cell_type": "markdown",
   "id": "19306a17",
   "metadata": {},
   "source": [
    "[К содержанию](#start)"
   ]
  },
  {
   "cell_type": "markdown",
   "id": "f80efc32",
   "metadata": {},
   "source": [
    "## Отбор признаков по важности (RFE)\n",
    "<a id=\"#section_3\"></a>"
   ]
  },
  {
   "cell_type": "markdown",
   "id": "c0569215",
   "metadata": {},
   "source": [
    "Если количество признаков велико, целесообразно его (количество) сократить, чтобы уменьшить время обучения модели. Ставим максимальное количество признаков - 300:"
   ]
  },
  {
   "cell_type": "code",
   "execution_count": 39,
   "id": "0e36fa79",
   "metadata": {},
   "outputs": [],
   "source": [
    "def rfe_calc(X_train, y_train):\n",
    "    '''функция отбора признаков по важности'''\n",
    "    \n",
    "    X_rfe = X_train.copy(deep=True)                                           # копия обучающей выборки\n",
    "    encoder = ce.CatBoostEncoder()                                            # инициализация кодировщика\n",
    "    encoder.fit(X_rfe[cat_cols], y_train)                                     # обучение кодировщика\n",
    "    X_rfe[cat_cols] = encoder.transform(X_rfe[cat_cols])                      # кодировка категориальных признаков\n",
    "    X = X_rfe.values                                                          # значения входных признаков\n",
    "    Y = y_train.values                                                        # значения целевого признака\n",
    "    model = CatBoostClassifier(task_type='GPU',                               # инициализация модели catboost\n",
    "                               verbose=1000,\n",
    "                               random_state=RS)\n",
    "    rfe = RFE(model, n_features_to_select=300, step=3)                              # инициализация модели rfe\n",
    "    fit = rfe.fit(X, Y)                                                             # обучение модели rfe\n",
    "    df_feature = pd.DataFrame(rfe.support_, index=X_rfe.columns, columns=['Rank'])  # объединение признаков со значениями значимости в датафрейм\n",
    "    df_feature = df_feature.query('Rank == True')                                   # выделяем признаки, проходящих по порогу значимости\n",
    "    list_feature = df_feature.index                                                 # перечень отобранных признаков\n",
    "    list_feature = list_feature.to_list()                                           # список отобранных признаков\n",
    "    return list_feature"
   ]
  },
  {
   "cell_type": "code",
   "execution_count": 40,
   "id": "78e0f4ea",
   "metadata": {},
   "outputs": [
    {
     "name": "stdout",
     "output_type": "stream",
     "text": [
      "Learning rate set to 0.026193\n",
      "0:\tlearn: 0.6496764\ttotal: 165ms\tremaining: 2m 44s\n",
      "999:\tlearn: 0.0995325\ttotal: 18.3s\tremaining: 0us\n",
      "Learning rate set to 0.026193\n",
      "0:\tlearn: 0.6490167\ttotal: 9.76ms\tremaining: 9.75s\n",
      "999:\tlearn: 0.0997412\ttotal: 9.33s\tremaining: 0us\n",
      "Learning rate set to 0.026193\n",
      "0:\tlearn: 0.6486813\ttotal: 10.6ms\tremaining: 10.6s\n",
      "999:\tlearn: 0.0996906\ttotal: 1m 49s\tremaining: 0us\n",
      "Learning rate set to 0.026193\n",
      "0:\tlearn: 0.6499440\ttotal: 9.55ms\tremaining: 9.54s\n",
      "999:\tlearn: 0.0996708\ttotal: 9.16s\tremaining: 0us\n",
      "Learning rate set to 0.026193\n",
      "0:\tlearn: 0.6495327\ttotal: 9.75ms\tremaining: 9.74s\n",
      "999:\tlearn: 0.0997250\ttotal: 8.61s\tremaining: 0us\n",
      "Learning rate set to 0.026193\n",
      "0:\tlearn: 0.6489096\ttotal: 12.4ms\tremaining: 12.4s\n",
      "999:\tlearn: 0.0996480\ttotal: 8.53s\tremaining: 0us\n",
      "Learning rate set to 0.026193\n",
      "0:\tlearn: 0.6490747\ttotal: 9.58ms\tremaining: 9.57s\n",
      "999:\tlearn: 0.0996277\ttotal: 8.45s\tremaining: 0us\n",
      "Learning rate set to 0.026193\n",
      "0:\tlearn: 0.6496030\ttotal: 9.51ms\tremaining: 9.5s\n",
      "999:\tlearn: 0.0996687\ttotal: 8.49s\tremaining: 0us\n",
      "Learning rate set to 0.026193\n",
      "0:\tlearn: 0.6494718\ttotal: 10.1ms\tremaining: 10.1s\n",
      "999:\tlearn: 0.0996759\ttotal: 8.6s\tremaining: 0us\n",
      "Learning rate set to 0.026193\n",
      "0:\tlearn: 0.6497578\ttotal: 9.84ms\tremaining: 9.83s\n",
      "999:\tlearn: 0.0997136\ttotal: 8.46s\tremaining: 0us\n",
      "Learning rate set to 0.026193\n",
      "0:\tlearn: 0.6493004\ttotal: 9.59ms\tremaining: 9.58s\n",
      "999:\tlearn: 0.0997017\ttotal: 8.28s\tremaining: 0us\n",
      "Количество категориальных признаков: 92\n",
      "категориальные признаки: ['description_5085714M', 'education_1103M', 'education_88M', 'maritalst_385M', 'maritalst_893M', 'requesttype_4525192L', 'credtype_322L', 'disbursementtype_67L', 'inittransactioncode_186L', 'lastapprcommoditycat_1041M', 'lastcancelreason_561M', 'lastrejectcommoditycat_161M', 'lastrejectcommodtypec_5251769M', 'lastrejectreason_759M', 'lastrejectreasonclient_4145040M', 'lastst_736L', 'max_cancelreason_3545846M', 'max_education_1138M', 'max_postype_4733339M', 'max_rejectreason_755M', 'max_rejectreasonclient_4145042M', 'last_cancelreason_3545846M', 'last_education_1138M', 'last_postype_4733339M', 'last_rejectreason_755M', 'last_rejectreasonclient_4145042M', 'max_credtype_587L', 'max_familystate_726L', 'max_isbidproduct_390L', 'max_status_219L', 'last_credtype_587L', 'last_familystate_726L', 'last_inittransactioncode_279L', 'last_status_219L', 'max_classificationofcontr_13M', 'max_classificationofcontr_400M', 'max_contractst_545M', 'max_contractst_964M', 'max_description_351M', 'max_financialinstitution_382M', 'max_financialinstitution_591M', 'max_purposeofcred_426M', 'max_purposeofcred_874M', 'max_subjectrole_182M', 'max_subjectrole_93M', 'last_classificationofcontr_400M', 'last_contractst_964M', 'last_description_351M', 'last_financialinstitution_382M', 'last_financialinstitution_591M', 'last_purposeofcred_426M', 'last_purposeofcred_874M', 'last_subjectrole_93M', 'max_education_927M', 'max_language1_981M', 'last_empladdr_district_926M', 'last_language1_981M', 'max_contaddr_matchlist_1032L', 'max_contaddr_smempladdr_334L', 'max_empl_employedtotal_800L', 'max_empl_industry_691L', 'max_familystate_447L', 'max_incometype_1044T', 'max_relationshiptoclient_415T', 'max_relationshiptoclient_642T', 'max_remitter_829L', 'max_safeguarantyflag_411L', 'max_sex_738L', 'max_type_25L', 'last_contaddr_smempladdr_334L', 'last_incometype_1044T', 'last_relationshiptoclient_642T', 'last_role_1084L', 'last_sex_738L', 'last_type_25L', 'max_collater_typofvalofguarant_298M', 'max_collater_typofvalofguarant_407M', 'max_collaterals_typeofguarante_359M', 'max_collaterals_typeofguarante_669M', 'max_subjectroles_name_838M', 'last_collater_typofvalofguarant_407M', 'last_collaterals_typeofguarante_669M', 'last_subjectroles_name_541M', 'last_subjectroles_name_838M', 'max_cacccardblochreas_147M', 'last_cacccardblochreas_147M', 'max_conts_type_509L', 'last_conts_type_509L', 'max_conts_role_79M', 'max_empls_economicalst_849M', 'max_empls_employer_name_740M', 'last_conts_role_79M']\n",
      "\n",
      "Количество числовых признаков: 208\n",
      "Числовые признаки: ['month_decision', 'weekday_decision', 'max_birth_259D', 'days180_256L', 'days30_165L', 'days360_512L', 'firstquarter_103L', 'fourthquarter_440L', 'pmtscount_423L', 'pmtssum_45A', 'responsedate_1012D', 'responsedate_4527233D', 'secondquarter_766L', 'thirdquarter_1082L', 'max_actualdpd_943P', 'amtinstpaidbefduel24m_4187115A', 'annuity_780A', 'annuitynextmonth_57A', 'applicationcnt_361L', 'applications30d_658L', 'applicationscnt_1086L', 'applicationscnt_464L', 'applicationscnt_867L', 'mindbddpdlast24m_3658935P', 'avginstallast24m_3658937A', 'avgmaxdpdlast9m_3716943P', 'avgoutstandbalancel6m_4187114A', 'avgpmtlast12m_4525200A', 'clientscnt_1022L', 'clientscnt_100L', 'clientscnt_1071L', 'clientscnt_1130L', 'clientscnt_157L', 'clientscnt_257L', 'clientscnt_304L', 'clientscnt_360L', 'clientscnt_493L', 'clientscnt_533L', 'clientscnt_887L', 'clientscnt_946L', 'cntincpaycont9m_3716944L', 'cntpmts24_3658933L', 'commnoinclast6m_3546845L', 'disbursedcredamount_1113A', 'currdebtcredtyperange_828A', 'datefirstoffer_1144D', 'maxdpdinstldate_3546855D', 'daysoverduetolerancedd_3976961L', 'downpmt_116A', 'lastapprdate_640D', 'eir_270L', 'firstclxcampaign_1125D', 'firstdatedue_489D', 'homephncnt_628L', 'max_firstnonzeroinstldate_307D', 'lastapprcredamount_781A', 'lastrejectcredamount_222A', 'lastrejectdate_50D', 'maininc_215A', 'maxannuity_159A', 'maxdebt4_972A', 'maxdpdfrom6mto36m_3546853P', 'maxdpdinstlnum_3546846P', 'maxdpdlast12m_727P', 'maxdpdlast3m_392P', 'maxdpdlast6m_474P', 'maxdpdtolerance_374P', 'maxinstallast24m_3658928A', 'maxlnamtstart6m_4525199A', 'mobilephncnt_593L', 'numinstlswithoutdpd_562L', 'numactivecreds_622L', 'numactivecredschannel_414L', 'numactiverelcontr_750L', 'numcontrs3months_479L', 'numinstlallpaidearly3d_817L', 'numinstls_657L', 'numinstlswithdpd10_728L', 'numinstlswithdpd5_4187116L', 'numinstpaidearly5d_1087L', 'numinstpaidlastcontr_4325080L', 'numinstpaidlate1d_3546852L', 'numinstregularpaid_973L', 'numinsttopaygr_769L', 'numnotactivated_1143L', 'numrejects9m_859L', 'pctinstlsallpaidearl3d_427L', 'pctinstlsallpaidlate4d_3546849L', 'pctinstlsallpaidlate1d_3546856L', 'pmtnum_254L', 'posfpd10lastmonth_333P', 'posfpd30lastmonth_3976960P', 'posfstqpd30lastmonth_3976962P', 'price_1097A', 'sellerplacecnt_915L', 'sellerplacescnt_216L', 'totalsettled_863A', 'max_annuity_853A', 'max_credacc_credlmt_575A', 'max_credamount_590A', 'max_currdebt_94A', 'max_downpmt_134A', 'max_mainoccupationinc_437A', 'mean_maxdpdtolerance_577P', 'last_credacc_credlmt_575A', 'last_currdebt_94A', 'last_downpmt_134A', 'last_mainoccupationinc_437A', 'last_maxdpdtolerance_577P', 'mean_actualdpd_943P', 'mean_annuity_853A', 'mean_credacc_credlmt_575A', 'mean_credamount_590A', 'mean_currdebt_94A', 'mean_downpmt_134A', 'mean_mainoccupationinc_437A', 'max_dtlastpmt_581D', 'max_employedfrom_700D', 'last_firstnonzeroinstldate_307D', 'last_dtlastpmtallstes_3545839D', 'mean_approvaldate_319D', 'mean_firstnonzeroinstldate_307D', 'mean_dtlastpmt_581D', 'max_byoccupationinc_3656910L', 'max_childnum_21L', 'max_pmtnum_8L', 'last_pmtnum_8L', 'max_num_group1', 'last_num_group1', 'last_pmtamount_36A', 'max_processingdate_168D', 'last_processingdate_168D', 'max_credlmt_230A', 'mean_credlmt_935A', 'mean_totaloutstanddebtvalue_39A', 'max_overdueamountmax2_14A', 'mean_pmts_dpd_1073P', 'max_numberofoverdueinstlmax_1151L', 'mean_instlamount_768A', 'mean_monthlyinstlamount_332A', 'max_monthlyinstlamount_674A', 'max_totaloutstanddebtvalue_668A', 'mean_totaldebtoverduevalue_718A', 'max_overdueamountmax2_398A', 'max_residualamount_488A', 'mean_residualamount_856A', 'max_totalamount_6A', 'mean_credlmt_230A', 'mean_dpdmax_757P', 'mean_monthlyinstlamount_674A', 'mean_outstandingamount_354A', 'mean_outstandingamount_362A', 'mean_overdueamount_31A', 'mean_overdueamount_659A', 'mean_overdueamountmax2_14A', 'mean_overdueamountmax2_398A', 'mean_totalamount_6A', 'mean_totaloutstanddebtvalue_668A', 'max_dateofcredend_289D', 'max_dateofcredend_353D', 'max_dateofcredstart_181D', 'max_dateofcredstart_739D', 'max_dateofrealrepmt_138D', 'max_lastupdate_1112D', 'max_numberofoverdueinstlmaxdat_148D', 'mean_numberofoverdueinstlmaxdat_641D', 'max_overdueamountmax2date_1142D', 'max_refreshdate_3813885D', 'last_refreshdate_3813885D', 'mean_dateofcredend_289D', 'mean_dateofcredend_353D', 'mean_dateofcredstart_181D', 'mean_dateofcredstart_739D', 'mean_lastupdate_1112D', 'mean_numberofoverdueinstlmaxdat_148D', 'mean_refreshdate_3813885D', 'max_dpdmaxdatemonth_442T', 'max_dpdmaxdatemonth_89T', 'max_dpdmaxdateyear_596T', 'max_nominalrate_281L', 'max_nominalrate_498L', 'max_numberofcontrsvalue_258L', 'max_num_group1_6', 'max_numberofinstls_229L', 'max_numberofinstls_320L', 'max_numberofoutstandinstls_520L', 'max_numberofoverdueinstls_725L', 'max_overdueamountmaxdatemonth_284T', 'max_periodicityofpmts_837L', 'last_num_group1_6', 'max_mainoccupationinc_384A', 'max_empl_employedfrom_271D', 'max_num_group1_9', 'mean_pmts_dpd_303P', 'mean_pmts_overdue_1140A', 'mean_pmts_overdue_1152A', 'max_collater_valueofguarantee_1124L', 'max_collater_valueofguarantee_876L', 'max_pmts_year_1139T', 'last_pmts_month_158T', 'last_pmts_month_706T', 'max_num_group1_13', 'max_num_group2_13', 'last_num_group2_13', 'max_num_group2_14', 'last_num_group2_14', 'max_num_group1_15', 'max_num_group2_15']\n",
      "\n",
      "Общее количество признаков: 300\n"
     ]
    }
   ],
   "source": [
    "if df_train.shape[1] > 300:                                                       # если количество признаков превышает порог\n",
    "    list_feature = rfe_calc(df_train, y)\n",
    "    df_train = df_train[list_feature]\n",
    "    df_test = df_test[list_feature]\n",
    "    df_test_kaggle = df_test_kaggle[list_feature]\n",
    "    num_cols, cat_cols = cat_num_separae(df_train)\n",
    "    col_number(df_train)\n",
    "else:\n",
    "    col_number(df_train)"
   ]
  },
  {
   "cell_type": "markdown",
   "id": "96d3f261",
   "metadata": {},
   "source": [
    "[К содержанию](#start)"
   ]
  },
  {
   "cell_type": "markdown",
   "id": "db2852c9",
   "metadata": {},
   "source": [
    "## Подбор гиперпараметров LightGBM\n",
    "<a id=\"#section_4\"></a>"
   ]
  },
  {
   "cell_type": "markdown",
   "id": "0f7c91d3",
   "metadata": {},
   "source": [
    "Обучатся будут две модели - CatBoostClassifier и LGBMClassifier. Время подбора параметров для CatBoostClassifier не укладывается во временные ограничения соревнования, поэтому будем использовать гиперпараметры по умолчанию. Для LGBMClassifier параметры будут подобраны с методом hyperopt. При этом, в целях экономии времени, подбираться параметры будут на 20% от обучающей выборки."
   ]
  },
  {
   "cell_type": "markdown",
   "id": "50db25d2",
   "metadata": {},
   "source": [
    "Задаем пространство значений гиперпараметров:"
   ]
  },
  {
   "cell_type": "code",
   "execution_count": 41,
   "id": "8bf0dfc1",
   "metadata": {},
   "outputs": [],
   "source": [
    "space_lgbm = {\n",
    "    'colsample_bynode' : hp.uniform('colsample_bynode', 0.5, 0.9),\n",
    "    'learning_rate': hp.uniform('learning_rate', 0.001, 0.1),\n",
    "    'max_depth': hp.quniform('max_depth', 6, 10, 1),\n",
    "    'subsample': hp.uniform('subsample', 0.5, 1),\n",
    "    'min_child_weight': hp.uniform('min_child_weight', 0.1, 10),\n",
    "    'reg_lambda': hp.uniform('reg_lambda', 0.1, 10),\n",
    "    'reg_alpha': hp.uniform('reg_alpha', 0.1, 10),\n",
    "    'num_leaves': hp.quniform('num_leaves', 8, 128, 1),\n",
    "}"
   ]
  },
  {
   "cell_type": "markdown",
   "id": "5a723f9e",
   "metadata": {},
   "source": [
    "Подготавливаем 20%-ю подвыборку из обучающей выборки:"
   ]
  },
  {
   "cell_type": "code",
   "execution_count": 42,
   "id": "4cde81d1",
   "metadata": {},
   "outputs": [],
   "source": [
    "df = df_train.copy(deep=True)\n",
    "df['WEEK_NUM'] = weeks\n",
    "sample_df, sample_df_drop, sample_y, sample_y_drop = train_test_split(\n",
    "    df,\n",
    "    y,\n",
    "    stratify=df['WEEK_NUM'],\n",
    "    train_size=0.20,\n",
    "    random_state=RS)\n",
    "sample_df = sample_df.drop(['WEEK_NUM'], axis=1)\n",
    "sample_df[cat_cols] = sample_df[cat_cols].astype('category')"
   ]
  },
  {
   "cell_type": "markdown",
   "id": "b872f63d",
   "metadata": {},
   "source": [
    "Задаем параметры кросс-валидации:"
   ]
  },
  {
   "cell_type": "code",
   "execution_count": 43,
   "id": "227c071f",
   "metadata": {},
   "outputs": [],
   "source": [
    "skf = StratifiedKFold(n_splits=4, shuffle=True, random_state=RS)   # параметры стратификации/кросс-валидации"
   ]
  },
  {
   "cell_type": "markdown",
   "id": "1385afb1",
   "metadata": {},
   "source": [
    "Задаем метод подбора гиперпараметров:"
   ]
  },
  {
   "cell_type": "code",
   "execution_count": 44,
   "id": "16844f7a",
   "metadata": {},
   "outputs": [],
   "source": [
    "def objective_lgbm(params):\n",
    "  \n",
    "    # преобразование гиперпараметров в соответствующие типы\n",
    "    params['max_depth'] = int(params['max_depth'])\n",
    "    params['num_leaves'] = int(params['num_leaves'])\n",
    "    \n",
    "    # создание LGBMClassifier с указанными гиперпараметрами\n",
    "    model = lgb.LGBMClassifier(\n",
    "        **params,\n",
    "        boosting_type = 'gbdt',\n",
    "        objective = 'binary',\n",
    "        metric = 'auc',\n",
    "        n_estimators = 3000,\n",
    "        extra_trees = True,\n",
    "        device = 'gpu',\n",
    "        verbose = -1,\n",
    "        random_state=RS)\n",
    "    \n",
    "    pipeline = make_pipeline(\n",
    "        model)\n",
    "    \n",
    "    # кросс-валидация\n",
    "    scores = cross_val_score(pipeline,\n",
    "                             sample_df,\n",
    "                             sample_y,\n",
    "                             cv=skf,\n",
    "                             scoring='roc_auc',\n",
    "                             error_score='raise')\n",
    "    \n",
    "    # расчет среднего значения метрики\n",
    "    mean_score = np.mean(scores)\n",
    "    \n",
    "    print('mean_score: ', mean_score)\n",
    "    \n",
    "    return {'loss': 1 - mean_score, 'status': STATUS_OK}"
   ]
  },
  {
   "cell_type": "markdown",
   "id": "3711769d",
   "metadata": {},
   "source": [
    "Подбираем гиперпараметры:"
   ]
  },
  {
   "cell_type": "code",
   "execution_count": 45,
   "id": "6f6b6534",
   "metadata": {},
   "outputs": [
    {
     "name": "stdout",
     "output_type": "stream",
     "text": [
      "mean_score:                                            \n",
      "0.7935701901235761                                     \n",
      "mean_score:                                                                        \n",
      "0.7959013730728872                                                                 \n",
      "mean_score:                                                                         \n",
      "0.804214806512001                                                                   \n",
      "mean_score:                                                                         \n",
      "0.8071594492729042                                                                  \n",
      "mean_score:                                                                         \n",
      "0.8046352751614447                                                                  \n",
      "mean_score:                                                                         \n",
      "0.8005633823189078                                                                  \n",
      "mean_score:                                                                         \n",
      "0.805110982859276                                                                   \n",
      "mean_score:                                                                         \n",
      "0.8041832477102903                                                                  \n",
      "mean_score:                                                                         \n",
      "0.7708745844997195                                                                  \n",
      "mean_score:                                                                         \n",
      "0.787770701801175                                                                   \n",
      "mean_score:                                                                          \n",
      "0.8011022943065563                                                                   \n",
      "mean_score:                                                                          \n",
      "0.8016349004780731                                                                   \n",
      "mean_score:                                                                          \n",
      "0.7782852063671207                                                                   \n",
      "mean_score:                                                                          \n",
      "0.7721366145901032                                                                   \n",
      "mean_score:                                                                          \n",
      "0.7921576303446374                                                                   \n",
      "mean_score:                                                                          \n",
      "0.8052086784277485                                                                   \n",
      "mean_score:                                                                          \n",
      "0.7858850918816358                                                                   \n",
      "mean_score:                                                                          \n",
      "0.8061480146932947                                                                   \n",
      "mean_score:                                                                          \n",
      "0.8109374306508831                                                                   \n",
      "mean_score:                                                                          \n",
      "0.8089328597515161                                                                   \n",
      "mean_score:                                                                          \n",
      "0.8099113956054059                                                                   \n",
      "mean_score:                                                                          \n",
      "0.8089490651540898                                                                   \n",
      "mean_score:                                                                          \n",
      "0.8096053480453852                                                                 \n",
      "mean_score:                                                                        \n",
      "0.8093331577149505                                                                 \n",
      "mean_score:                                                                          \n",
      "0.8059166313646638                                                                   \n",
      "mean_score:                                                                          \n",
      "0.8098233395641863                                                                   \n",
      "mean_score:                                                                          \n",
      "0.8059904956044548                                                                   \n",
      "mean_score:                                                                          \n",
      "0.8093769665428158                                                                   \n",
      "mean_score:                                                                          \n",
      "0.7964892455370871                                                                   \n",
      "mean_score:                                                                          \n",
      "0.8047326660891536                                                                   \n",
      "mean_score:                                                                          \n",
      "0.7986639644948373                                                                   \n",
      "mean_score:                                                                          \n",
      "0.7791403825257661                                                                   \n",
      "mean_score:                                                                          \n",
      "0.8067262971653251                                                                   \n",
      "mean_score:                                                                          \n",
      "0.8044810130043465                                                                   \n",
      "mean_score:                                                                          \n",
      "0.7913128837978272                                                                   \n",
      "mean_score:                                                                          \n",
      "0.807439944160091                                                                    \n",
      "mean_score:                                                                          \n",
      "0.8108454662915738                                                                   \n",
      "mean_score:                                                                          \n",
      "0.8109639517345997                                                                   \n",
      "mean_score:                                                                          \n",
      "0.7877878087422686                                                                   \n",
      "mean_score:                                                                          \n",
      "0.8041883027655634                                                                   \n",
      "mean_score:                                                                          \n",
      "0.8072631633540245                                                                   \n",
      "mean_score:                                                                          \n",
      "0.8100043258988439                                                                   \n",
      "mean_score:                                                                          \n",
      "0.8072269309171837                                                                   \n",
      "mean_score:                                                                          \n",
      "0.7883426413057607                                                                   \n",
      "mean_score:                                                                          \n",
      "0.8101837345410912                                                                   \n",
      "mean_score:                                                                          \n",
      "0.8026783941637368                                                                   \n",
      "mean_score:                                                                          \n",
      "0.7713028995063929                                                                   \n",
      "mean_score:                                                                          \n",
      "0.7947601986792758                                                                   \n",
      "mean_score:                                                                          \n",
      "0.8067487093138638                                                                   \n",
      "mean_score:                                                                          \n",
      "0.8077233913382558                                                                   \n",
      "mean_score:                                                                          \n",
      "0.8070755294111587                                                                   \n",
      "mean_score:                                                                          \n",
      "0.7987342745923857                                                                   \n",
      "mean_score:                                                                          \n",
      "0.8072050487940386                                                                   \n",
      "mean_score:                                                                          \n",
      "0.8075885939922266                                                                   \n",
      "mean_score:                                                                          \n",
      "0.8019978440350248                                                                   \n",
      "mean_score:                                                                          \n",
      "0.7990971339396956                                                                   \n",
      "mean_score:                                                                          \n",
      "0.8086105473468217                                                                   \n",
      "mean_score:                                                                          \n",
      "0.7923360953435437                                                                   \n",
      "mean_score:                                                                          \n",
      "0.7941537728495434                                                                   \n",
      "mean_score:                                                                          \n",
      "0.8089404609100823                                                                   \n",
      "mean_score:                                                                          \n",
      "0.806634600295467                                                                  \n",
      "mean_score:                                                                        \n",
      "0.7817579079788735                                                                 \n",
      "mean_score:                                                                        \n",
      "0.805534297299268                                                                  \n",
      "mean_score:                                                                        \n",
      "0.7959123847219536                                                                 \n",
      "mean_score:                                                                        \n",
      "0.8098856373619756                                                                 \n",
      "mean_score:                                                                        \n",
      "0.8106495104546766                                                                 \n",
      "mean_score:                                                                        \n",
      "0.8101607576926002                                                                 \n",
      "mean_score:                                                                        \n",
      "0.7866959985361391                                                                 \n",
      "mean_score:                                                                          \n",
      "0.8097472586294077                                                                   \n",
      "mean_score:                                                                          \n",
      "0.81034453285246                                                                     \n",
      "mean_score:                                                                          \n",
      "0.8077269727247942                                                                   \n",
      "mean_score:                                                                          \n",
      "0.8090509910186948                                                                   \n",
      "mean_score:                                                                          \n",
      "0.8094342811112026                                                                   \n",
      "mean_score:                                                                          \n",
      "0.8057546070599778                                                                   \n",
      "mean_score:                                                                          \n",
      "0.8113489507874889                                                                   \n",
      "mean_score:                                                                          \n",
      "0.8104559075342467                                                                 \n",
      "mean_score:                                                                        \n",
      "0.8087178601517596                                                                 \n",
      "mean_score:                                                                        \n",
      "0.8037238642992331                                                                 \n",
      "mean_score:                                                                        \n",
      "0.8088538265257599                                                                 \n",
      "mean_score:                                                                        \n",
      "0.8103352004427248                                                                 \n",
      "mean_score:                                                                        \n",
      "0.8087633655562354                                                                 \n",
      "mean_score:                                                                        \n",
      "0.8068444135719788                                                                 \n",
      "mean_score:                                                                          \n",
      "0.8029268348983778                                                                   \n",
      "mean_score:                                                                          \n",
      "0.8012168788617552                                                                   \n",
      "mean_score:                                                                          \n",
      "0.7993349989340051                                                                   \n",
      "mean_score:                                                                          \n",
      "0.8096221404386986                                                                 \n",
      "mean_score:                                                                        \n",
      "0.7928908387438853                                                                 \n",
      "mean_score:                                                                        \n",
      "0.8091339721906079                                                                 \n",
      "mean_score:                                                                        \n",
      "0.7811750707559133                                                                 \n",
      "mean_score:                                                                          \n",
      "0.8106591054003544                                                                   \n",
      "mean_score:                                                                          \n",
      "0.7982789852559814                                                                   \n",
      "mean_score:                                                                          \n",
      "0.8085047329781602                                                                   \n",
      "mean_score:                                                                          \n",
      "0.8073294957843662                                                                   \n",
      "mean_score:                                                                          \n",
      "0.805062787699765                                                                  \n",
      "mean_score:                                                                        \n",
      "0.8033497728717351                                                                 \n",
      "mean_score:                                                                        \n",
      "0.8080407997696817                                                                 \n",
      "mean_score:                                                                        \n",
      "0.8078160095606675                                                                 \n",
      "mean_score:                                                                        \n",
      "0.7750046662048676                                                                 \n",
      "mean_score:                                                                          \n",
      "0.8076831168385995                                                                   \n",
      "mean_score:                                                                          \n",
      "0.8079644018103687                                                                   \n",
      "mean_score:                                                                          \n",
      "0.8066054761431112                                                                  \n",
      "mean_score:                                                                         \n",
      "0.7770397977740123                                                                  \n",
      "mean_score:                                                                         \n",
      "0.8123713598648524                                                                  \n",
      "mean_score:                                                                         \n",
      "0.7945883193697235                                                                  \n",
      "mean_score:                                                                         \n",
      "0.8034539501058863                                                                  \n",
      "mean_score:                                                                         \n",
      "0.8099336566719398                                                                  \n",
      "mean_score:                                                                         \n",
      "0.8100141858572184                                                                  \n",
      "mean_score:                                                                         \n",
      "0.8074517582775107                                                                  \n",
      "mean_score:                                                                         \n",
      "0.8105556389946518                                                                  \n",
      "mean_score:                                                                         \n",
      "0.8081429312048835                                                                  \n",
      "mean_score:                                                                         \n",
      "0.8098004915069128                                                                  \n",
      "mean_score:                                                                         \n",
      "0.8021519204355599                                                                  \n",
      "mean_score:                                                                         \n",
      "0.8088254255856235                                                                  \n",
      "mean_score:                                                                         \n",
      "0.8092407054350685                                                                  \n",
      "mean_score:                                                                         \n",
      "0.799679158787286                                                                   \n",
      "mean_score:                                                                           \n",
      "0.8073686953727099                                                                    \n",
      "mean_score:                                                                           \n",
      "0.8103896568367926                                                                  \n",
      "mean_score:                                                                         \n",
      "0.7997507072619224                                                                    \n",
      "mean_score:                                                                           \n",
      "0.7928708835354892                                                                    \n",
      "mean_score:                                                                           \n",
      "0.8037713808280998                                                                    \n",
      "mean_score:                                                                           \n",
      "0.8062719638560327                                                                    \n",
      "mean_score:                                                                           \n",
      "0.8054047457185837                                                                    \n",
      "mean_score:                                                                           \n",
      "0.8117115327383311                                                                    \n",
      "mean_score:                                                                           \n",
      "0.8097395559239204                                                                    \n",
      "mean_score:                                                                           \n",
      "0.7918250270263416                                                                    \n",
      "mean_score:                                                                           \n",
      "0.8102166109760234                                                                    \n",
      "mean_score:                                                                           \n",
      "0.806738467935346                                                                     \n",
      "mean_score:                                                                           \n",
      "0.8058223091353791                                                                    \n",
      "mean_score:                                                                           \n",
      "0.8013265495366687                                                                    \n",
      "mean_score:                                                                           \n",
      "0.8080062886769932                                                                    \n",
      "mean_score:                                                                           \n",
      "0.8084895554285696                                                                    \n",
      "mean_score:                                                                           \n",
      "0.8091711358870188                                                                    \n",
      "mean_score:                                                                           \n",
      "0.8043803304703376                                                                    \n",
      "mean_score:                                                                           \n",
      "0.7760176289418037                                                                    \n",
      "mean_score:                                                                           \n",
      "0.8091405851242578                                                                    \n",
      "mean_score:                                                                           \n",
      "0.8039206820465835                                                                    \n",
      "mean_score:                                                                           \n",
      "0.8078818293028948                                                                    \n",
      "mean_score:                                                                           \n",
      "0.8077917051719382                                                                    \n",
      "mean_score:                                                                           \n",
      "0.8022142207101033                                                                    \n",
      "mean_score:                                                                           \n",
      "0.8058905783874863                                                                    \n",
      "mean_score:                                                                           \n",
      "0.8081272137228824                                                                    \n",
      "mean_score:                                                                           \n",
      "0.8054114106640712                                                                    \n",
      "mean_score:                                                                           \n",
      "0.7895344777060421                                                                    \n",
      "mean_score:                                                                           \n",
      "0.773705276754493                                                                     \n",
      "mean_score:                                                                           \n",
      "0.7972895665442423                                                                    \n",
      "mean_score:                                                                           \n",
      "0.8109107114268324                                                                    \n",
      "mean_score:                                                                           \n",
      "0.8109936282031366                                                                    \n",
      "mean_score:                                                                           \n",
      "0.8102728159585395                                                                    \n",
      "mean_score:                                                                           \n",
      "0.810342831322341                                                                     \n",
      "mean_score:                                                                           \n",
      "0.8094569409351591                                                                    \n",
      "mean_score:                                                                           \n",
      "0.8113232891374714                                                                    \n",
      "mean_score:                                                                           \n",
      "0.8097223424823972                                                                    \n",
      "mean_score:                                                                           \n",
      "0.8112853700310367                                                                    \n",
      "mean_score:                                                                           \n",
      "0.8076249601737928                                                                    \n",
      "mean_score:                                                                           \n",
      "0.8076492274112094                                                                    \n",
      "mean_score:                                                                           \n",
      "0.8111714814437615                                                                    \n",
      "mean_score:                                                                           \n",
      "0.811023198171244                                                                     \n",
      "mean_score:                                                                           \n",
      "0.8095402366548523                                                                    \n",
      "mean_score:                                                                           \n",
      "0.8067160557868073                                                                    \n",
      "mean_score:                                                                           \n",
      "0.8088058022622872                                                                    \n",
      "mean_score:                                                                           \n",
      "0.8094490945779294                                                                    \n",
      "mean_score:                                                                           \n",
      "0.8070040849601977                                                                    \n",
      "mean_score:                                                                           \n",
      "0.8067477062284226                                                                    \n",
      "mean_score:                                                                           \n",
      "0.81059296120333                                                                      \n",
      "mean_score:                                                                           \n",
      "0.8093483129737536                                                                    \n",
      "mean_score:                                                                           \n",
      "0.8112794604955728                                                                    \n",
      "mean_score:                                                                           \n",
      "0.8094285548555477                                                                    \n",
      "mean_score:                                                                           \n",
      "0.8097180948489854                                                                    \n",
      "mean_score:                                                                           \n",
      "0.8108435344233165                                                                    \n",
      "mean_score:                                                                           \n",
      "0.8102318801655186                                                                    \n",
      "mean_score:                                                                           \n",
      "0.8014326140575019                                                                    \n",
      "mean_score:                                                                           \n",
      "0.8091854391423852                                                                    \n",
      "mean_score:                                                                           \n",
      "0.8061220335419883                                                                    \n",
      "mean_score:                                                                           \n",
      "0.8081560901998206                                                                    \n",
      "mean_score:                                                                           \n",
      "0.8021504888716464                                                                    \n",
      "mean_score:                                                                           \n",
      "0.8046650457466403                                                                    \n",
      "mean_score:                                                                           \n",
      "0.8085701762537527                                                                    \n",
      "mean_score:                                                                           \n",
      "0.8082284089450057                                                                    \n",
      "mean_score:                                                                           \n",
      "0.8080405397104932                                                                    \n",
      "mean_score:                                                                           \n",
      "0.8029333041802855                                                                    \n",
      "mean_score:                                                                           \n",
      "0.8086541481273362                                                                    \n",
      "mean_score:                                                                           \n",
      "0.8054479180206257                                                                    \n",
      "mean_score:                                                                           \n",
      "0.8086733999375462                                                                    \n",
      "mean_score:                                                                           \n",
      "0.8098784448678483                                                                    \n",
      "mean_score:                                                                           \n",
      "0.8119345396843387                                                                    \n",
      "mean_score:                                                                           \n",
      "0.8111479448488268                                                                    \n",
      "mean_score:                                                                           \n",
      "0.7986261692261114                                                                    \n",
      "mean_score:                                                                           \n",
      "0.803697702344872                                                                     \n",
      "mean_score:                                                                           \n",
      "0.8062842312194666                                                                    \n",
      "mean_score:                                                                           \n",
      "0.781454171230499                                                                     \n",
      "mean_score:                                                                           \n",
      "0.8087770298090243                                                                    \n",
      "mean_score:                                                                           \n",
      "0.8090623890414129                                                                    \n",
      "mean_score:                                                                           \n",
      "0.8082316312021887                                                                    \n",
      "mean_score:                                                                           \n",
      "0.8064193901716054                                                                    \n",
      "mean_score:                                                                           \n",
      "0.7788362990318071                                                                    \n",
      "mean_score:                                                                           \n",
      "0.8081634734040193                                                                    \n",
      "mean_score:                                                                           \n",
      "0.7958407569911836                                                                    \n",
      "mean_score:                                                                           \n",
      "0.8082650599533023                                                                    \n",
      "mean_score:                                                                           \n",
      "0.7996915648489537                                                                    \n",
      "mean_score:                                                                           \n",
      "0.790938524880878                                                                     \n",
      "100%|██████████| 200/200 [1:35:20<00:00, 28.60s/trial, best loss: 0.18762864013514757]\n"
     ]
    }
   ],
   "source": [
    "# инициализация объекта trials\n",
    "trials_lgbm = Trials()\n",
    "\n",
    "# Запуск алгоритма подбора гиперпараметров\n",
    "best_hyperparams_lgbm = fmin(fn=objective_lgbm, \n",
    "                        space=space_lgbm, \n",
    "                        algo=tpe.suggest, \n",
    "                        max_evals=200,\n",
    "                        trials=trials_lgbm)"
   ]
  },
  {
   "cell_type": "markdown",
   "id": "c7d22862",
   "metadata": {},
   "source": [
    "Гиперпараметры max_depth и num_leaves приводим к целочисленному типу:"
   ]
  },
  {
   "cell_type": "code",
   "execution_count": 46,
   "id": "b2ecf1db",
   "metadata": {},
   "outputs": [],
   "source": [
    "best_hyperparams_lgbm['max_depth'] = int(best_hyperparams_lgbm['max_depth'])\n",
    "best_hyperparams_lgbm['num_leaves'] = int(best_hyperparams_lgbm['num_leaves'])"
   ]
  },
  {
   "cell_type": "markdown",
   "id": "8f77e313",
   "metadata": {},
   "source": [
    "Результат подбора гиперпараметров:"
   ]
  },
  {
   "cell_type": "code",
   "execution_count": 47,
   "id": "d742f0cb",
   "metadata": {},
   "outputs": [
    {
     "name": "stdout",
     "output_type": "stream",
     "text": [
      "colsample_bynode 0.6064058213775632\n",
      "learning_rate 0.02723950848121342\n",
      "max_depth 10\n",
      "min_child_weight 5.30230652055225\n",
      "num_leaves 22\n",
      "reg_alpha 9.980275920326584\n",
      "reg_lambda 7.64028956336519\n",
      "subsample 0.7178706784228773\n"
     ]
    }
   ],
   "source": [
    "for i, k in best_hyperparams_lgbm.items():\n",
    "    print(i, k)"
   ]
  },
  {
   "cell_type": "markdown",
   "id": "9f160493",
   "metadata": {},
   "source": [
    "[К содержанию](#start)"
   ]
  },
  {
   "cell_type": "markdown",
   "id": "04f57acb",
   "metadata": {},
   "source": [
    "## Обучение модели\n",
    "<a id=\"#section_5\"></a>"
   ]
  },
  {
   "cell_type": "markdown",
   "id": "a0197ce1",
   "metadata": {},
   "source": [
    "Задаем параметры кросс-валидации:"
   ]
  },
  {
   "cell_type": "code",
   "execution_count": 48,
   "id": "b5042fe3",
   "metadata": {},
   "outputs": [],
   "source": [
    "cv = StratifiedGroupKFold(n_splits=5, shuffle=True, random_state=RS)"
   ]
  },
  {
   "cell_type": "markdown",
   "id": "d3fbc93c",
   "metadata": {},
   "source": [
    "Обучаем модели:"
   ]
  },
  {
   "cell_type": "code",
   "execution_count": 49,
   "id": "c639c66c",
   "metadata": {
    "scrolled": true
   },
   "outputs": [
    {
     "name": "stdout",
     "output_type": "stream",
     "text": [
      "Learning rate set to 0.049211\n"
     ]
    },
    {
     "name": "stderr",
     "output_type": "stream",
     "text": [
      "Default metric period is 5 because AUC is/are not implemented for GPU\n"
     ]
    },
    {
     "name": "stdout",
     "output_type": "stream",
     "text": [
      "0:\ttest: 0.6738892\tbest: 0.6738892 (0)\ttotal: 159ms\tremaining: 2m 38s\n",
      "300:\ttest: 0.8080694\tbest: 0.8080694 (300)\ttotal: 2m 22s\tremaining: 5m 30s\n",
      "600:\ttest: 0.8136439\tbest: 0.8136439 (600)\ttotal: 3m 56s\tremaining: 2m 37s\n",
      "900:\ttest: 0.8163020\tbest: 0.8163020 (900)\ttotal: 5m\tremaining: 33s\n",
      "999:\ttest: 0.8171448\tbest: 0.8173051 (950)\ttotal: 5m 23s\tremaining: 0us\n",
      "bestTest = 0.8173051476\n",
      "bestIteration = 950\n",
      "Shrink model to first 951 iterations.\n",
      "Training until validation scores don't improve for 100 rounds\n",
      "[200]\tvalid_0's auc: 0.806855\n",
      "[400]\tvalid_0's auc: 0.818001\n",
      "[600]\tvalid_0's auc: 0.821474\n",
      "[800]\tvalid_0's auc: 0.822386\n",
      "[1000]\tvalid_0's auc: 0.823008\n",
      "Early stopping, best iteration is:\n",
      "[1007]\tvalid_0's auc: 0.823126\n",
      "Learning rate set to 0.049307\n"
     ]
    },
    {
     "name": "stderr",
     "output_type": "stream",
     "text": [
      "Default metric period is 5 because AUC is/are not implemented for GPU\n"
     ]
    },
    {
     "name": "stdout",
     "output_type": "stream",
     "text": [
      "0:\ttest: 0.6829605\tbest: 0.6829605 (0)\ttotal: 225ms\tremaining: 3m 44s\n",
      "300:\ttest: 0.8207096\tbest: 0.8207096 (300)\ttotal: 31.4s\tremaining: 1m 12s\n",
      "600:\ttest: 0.8253355\tbest: 0.8253475 (555)\ttotal: 1m 2s\tremaining: 41.2s\n",
      "900:\ttest: 0.8264244\tbest: 0.8264605 (890)\ttotal: 1m 32s\tremaining: 10.2s\n",
      "999:\ttest: 0.8270983\tbest: 0.8270983 (999)\ttotal: 1m 43s\tremaining: 0us\n",
      "bestTest = 0.8270983398\n",
      "bestIteration = 999\n",
      "Training until validation scores don't improve for 100 rounds\n",
      "[200]\tvalid_0's auc: 0.820419\n",
      "[400]\tvalid_0's auc: 0.828626\n",
      "[600]\tvalid_0's auc: 0.82989\n",
      "Early stopping, best iteration is:\n",
      "[643]\tvalid_0's auc: 0.830128\n",
      "Learning rate set to 0.049012\n"
     ]
    },
    {
     "name": "stderr",
     "output_type": "stream",
     "text": [
      "Default metric period is 5 because AUC is/are not implemented for GPU\n"
     ]
    },
    {
     "name": "stdout",
     "output_type": "stream",
     "text": [
      "0:\ttest: 0.6864943\tbest: 0.6864943 (0)\ttotal: 1.42s\tremaining: 23m 34s\n",
      "300:\ttest: 0.8214554\tbest: 0.8214554 (300)\ttotal: 1m 9s\tremaining: 2m 41s\n",
      "600:\ttest: 0.8258816\tbest: 0.8259363 (595)\ttotal: 2m 18s\tremaining: 1m 32s\n",
      "900:\ttest: 0.8286920\tbest: 0.8287841 (895)\ttotal: 3m\tremaining: 19.8s\n",
      "999:\ttest: 0.8297274\tbest: 0.8299409 (990)\ttotal: 3m 10s\tremaining: 0us\n",
      "bestTest = 0.8299408853\n",
      "bestIteration = 990\n",
      "Shrink model to first 991 iterations.\n",
      "Training until validation scores don't improve for 100 rounds\n",
      "[200]\tvalid_0's auc: 0.81862\n",
      "[400]\tvalid_0's auc: 0.827135\n",
      "[600]\tvalid_0's auc: 0.830519\n",
      "[800]\tvalid_0's auc: 0.831549\n",
      "[1000]\tvalid_0's auc: 0.83263\n",
      "[1200]\tvalid_0's auc: 0.832766\n",
      "Early stopping, best iteration is:\n",
      "[1114]\tvalid_0's auc: 0.832891\n",
      "Learning rate set to 0.049147\n"
     ]
    },
    {
     "name": "stderr",
     "output_type": "stream",
     "text": [
      "Default metric period is 5 because AUC is/are not implemented for GPU\n"
     ]
    },
    {
     "name": "stdout",
     "output_type": "stream",
     "text": [
      "0:\ttest: 0.6895542\tbest: 0.6895542 (0)\ttotal: 304ms\tremaining: 5m 3s\n",
      "300:\ttest: 0.8240511\tbest: 0.8240511 (300)\ttotal: 31.4s\tremaining: 1m 13s\n",
      "600:\ttest: 0.8266777\tbest: 0.8266900 (565)\ttotal: 1m 3s\tremaining: 42s\n",
      "900:\ttest: 0.8282424\tbest: 0.8283554 (865)\ttotal: 1m 34s\tremaining: 10.3s\n",
      "999:\ttest: 0.8278233\tbest: 0.8283554 (865)\ttotal: 1m 44s\tremaining: 0us\n",
      "bestTest = 0.8283554316\n",
      "bestIteration = 865\n",
      "Shrink model to first 866 iterations.\n",
      "Training until validation scores don't improve for 100 rounds\n",
      "[200]\tvalid_0's auc: 0.824063\n",
      "[400]\tvalid_0's auc: 0.829737\n",
      "[600]\tvalid_0's auc: 0.83059\n",
      "Early stopping, best iteration is:\n",
      "[514]\tvalid_0's auc: 0.830708\n",
      "Learning rate set to 0.049015\n"
     ]
    },
    {
     "name": "stderr",
     "output_type": "stream",
     "text": [
      "Default metric period is 5 because AUC is/are not implemented for GPU\n"
     ]
    },
    {
     "name": "stdout",
     "output_type": "stream",
     "text": [
      "0:\ttest: 0.6758666\tbest: 0.6758666 (0)\ttotal: 362ms\tremaining: 6m 2s\n",
      "300:\ttest: 0.8159730\tbest: 0.8159730 (300)\ttotal: 32s\tremaining: 1m 14s\n",
      "600:\ttest: 0.8219531\tbest: 0.8219531 (600)\ttotal: 1m 3s\tremaining: 42s\n",
      "900:\ttest: 0.8241993\tbest: 0.8242862 (880)\ttotal: 1m 35s\tremaining: 10.5s\n",
      "999:\ttest: 0.8248239\tbest: 0.8248239 (999)\ttotal: 1m 45s\tremaining: 0us\n",
      "bestTest = 0.824823916\n",
      "bestIteration = 999\n",
      "Training until validation scores don't improve for 100 rounds\n",
      "[200]\tvalid_0's auc: 0.810647\n",
      "[400]\tvalid_0's auc: 0.821917\n",
      "[600]\tvalid_0's auc: 0.825653\n",
      "[800]\tvalid_0's auc: 0.827465\n",
      "Early stopping, best iteration is:\n",
      "[851]\tvalid_0's auc: 0.827917\n",
      "Значения ROC-AUC: [0.8173051292211265, 0.8270983034454346, 0.8299408154949589, 0.8283552691295272, 0.8248237693330366]\n",
      "Максимальное значение ROC-AUC: 0.8299408154949589\n",
      "начения ROC-AUC: [0.8231257602668934, 0.8301283569495286, 0.8328905739995649, 0.830708299295029, 0.8279172958112506]\n",
      "Максимальное значение ROC-AUC: 0.8328905739995649\n",
      "CPU times: total: 29min 33s\n",
      "Wall time: 15min 13s\n"
     ]
    }
   ],
   "source": [
    "%%time\n",
    "\n",
    "fitted_models_cat = []\n",
    "fitted_models_lgb = []\n",
    "\n",
    "cv_scores_cat = []\n",
    "cv_scores_lgb = []\n",
    "\n",
    "# разделение выборки на обучающую и валидационную с группировкой по признаку WEEK_NUM\n",
    "for idx_train, idx_valid in cv.split(df_train, y, groups=weeks):\n",
    "    X_train, y_train = df_train.iloc[idx_train],y.iloc[idx_train]\n",
    "    X_valid, y_valid = df_train.iloc[idx_valid], y.iloc[idx_valid]\n",
    "    \n",
    "    X_train = X_train.reset_index(drop=True)\n",
    "    X_valid = X_valid.reset_index(drop=True)\n",
    "    \n",
    "    # обучение модели catboost\n",
    "    train_pool = Pool(X_train, y_train,cat_features=cat_cols)\n",
    "    val_pool = Pool(X_valid, y_valid,cat_features=cat_cols)\n",
    "    clf = CatBoostClassifier(\n",
    "    eval_metric='AUC',\n",
    "    task_type='GPU',\n",
    "    # learning_rate=0.03,\n",
    "    iterations=1000,\n",
    "    random_state=RS)\n",
    "    clf.fit(train_pool, eval_set=val_pool,verbose=300)\n",
    "    fitted_models_cat.append(clf)\n",
    "    y_pred_valid = clf.predict_proba(X_valid)[:,1]\n",
    "    auc_score = roc_auc_score(y_valid, y_pred_valid)\n",
    "    cv_scores_cat.append(auc_score)\n",
    "\n",
    "\n",
    "\n",
    "    # обучение модели LGBMClassifier\n",
    "    X_train[cat_cols] = X_train[cat_cols].astype(\"category\")\n",
    "    X_valid[cat_cols] = X_valid[cat_cols].astype(\"category\")\n",
    "    model = lgb.LGBMClassifier(**best_hyperparams_lgbm,\n",
    "                               boosting_type = 'gbdt',\n",
    "                                objective = 'binary',\n",
    "                                metric = 'auc',\n",
    "                                n_estimators = 3000,\n",
    "                                extra_trees = True,\n",
    "                                device = 'gpu',\n",
    "                                verbose = -1,\n",
    "                               seed=RS)\n",
    "    \n",
    "    model.fit(\n",
    "        X_train, y_train,\n",
    "        eval_set = [(X_valid, y_valid)],\n",
    "        callbacks = [lgb.log_evaluation(200), lgb.early_stopping(100)] )\n",
    "    \n",
    "    fitted_models_lgb.append(model)\n",
    "    y_pred_valid = model.predict_proba(X_valid)[:,1]\n",
    "    auc_score = roc_auc_score(y_valid, y_pred_valid)\n",
    "    cv_scores_lgb.append(auc_score)\n",
    "    \n",
    "    \n",
    "print('Значения ROC-AUC: {}'.format(cv_scores_cat))\n",
    "print('Максимальное значение ROC-AUC: {}'.format(max(cv_scores_cat)))\n",
    "\n",
    "\n",
    "print('Значения ROC-AUC: {}'.format(cv_scores_lgb))\n",
    "print('Максимальное значение ROC-AUC: {}'.format(max(cv_scores_lgb)))"
   ]
  },
  {
   "cell_type": "markdown",
   "id": "142d312b",
   "metadata": {},
   "source": [
    "[К содержанию](#start)"
   ]
  },
  {
   "cell_type": "markdown",
   "id": "2b85d095",
   "metadata": {},
   "source": [
    "## Расчет метрик\n",
    "<a id=\"#section_6\"></a>"
   ]
  },
  {
   "cell_type": "markdown",
   "id": "8292e41a",
   "metadata": {},
   "source": [
    "Рассчитываем stability metric:  \n",
    "stability metric = mean(gini) + 88,0 ⋅ min(0, a) − 0,5 ⋅ std(residuals)\n",
    "\n",
    "Показатель gini рассчитывается для прогнозов, соответствующих каждому WEEK_NUM:\n",
    "gini = 2 ⋅ AUC − 1\n",
    "\n",
    "Линейная регрессия, а ⋅ х + b, проходит через недельные показатели gini, и a falling_rate рассчитывается как min(0, а).\n",
    "\n",
    "Изменчивость прогнозов рассчитывается путем взятия стандартного отклонения остатков из приведенной выше линейной регрессии с применением штрафа к изменчивости модели."
   ]
  },
  {
   "cell_type": "markdown",
   "id": "620a9d3e",
   "metadata": {},
   "source": [
    "Рассчитываем среднее значение ROC-AUC для каждого наблюдения по всем моделям:"
   ]
  },
  {
   "cell_type": "code",
   "execution_count": 50,
   "id": "b83b005f",
   "metadata": {},
   "outputs": [],
   "source": [
    "class VotingModel(BaseEstimator, RegressorMixin):\n",
    "    \n",
    "    def __init__(self, estimators):\n",
    "        super().__init__()\n",
    "        self.estimators = estimators\n",
    "        \n",
    "    def fit(self, X, y=None):\n",
    "        return self\n",
    "    \n",
    "    def predict_proba(self, X):\n",
    "        \n",
    "        y_preds = [estimator.predict_proba(X) for estimator in self.estimators[:5]]\n",
    "        \n",
    "        X[cat_cols] = X[cat_cols].astype(\"category\")\n",
    "        y_preds += [estimator.predict_proba(X) for estimator in self.estimators[5:]]\n",
    "        \n",
    "        return np.mean(y_preds, axis=0)\n",
    "\n",
    "model = VotingModel(fitted_models_cat+fitted_models_lgb)"
   ]
  },
  {
   "cell_type": "code",
   "execution_count": 51,
   "id": "7f74eb79",
   "metadata": {},
   "outputs": [],
   "source": [
    "y_train_pred = pd.Series(model.predict_proba(df_train)[:, 1], index=df_train.index)\n",
    "y_test_pred = pd.Series(model.predict_proba(df_test)[:, 1], index=df_test.index)"
   ]
  },
  {
   "cell_type": "markdown",
   "id": "aafe845c",
   "metadata": {},
   "source": [
    "Для расчёта итоговой метрики добавляем в выборки признаки WEEK_NUM, target, score:"
   ]
  },
  {
   "cell_type": "code",
   "execution_count": 52,
   "id": "8ff0812f",
   "metadata": {},
   "outputs": [],
   "source": [
    "df_train = df_train_sync.join(df_train, how='left', on='case_id')\n",
    "df_train['score'] = y_train_pred.tolist()\n",
    "df_test = df_test_sync.join(df_test, how='left', on='case_id')\n",
    "df_test['score'] = y_test_pred.tolist()"
   ]
  },
  {
   "cell_type": "code",
   "execution_count": 53,
   "id": "3471b21a",
   "metadata": {},
   "outputs": [],
   "source": [
    "def gini_stability(base, w_fallingrate=88.0, w_resstd=-0.5):\n",
    "    '''функция расчета итоговой метрики'''\n",
    "\n",
    "    # расчет gini\n",
    "    gini_in_time = base.loc[:, [\"WEEK_NUM\", \"target\", \"score\"]]\\\n",
    "        .sort_values(\"WEEK_NUM\")\\\n",
    "        .groupby(\"WEEK_NUM\")[[\"target\", \"score\"]]\\\n",
    "        .apply(lambda x: 2*roc_auc_score(x[\"target\"], x[\"score\"])-1).tolist()\n",
    "    \n",
    "    x = np.arange(len(gini_in_time))\n",
    "    y = gini_in_time\n",
    "    a, b = np.polyfit(x, y, 1)\n",
    "    y_hat = a*x + b\n",
    "    residuals = y - y_hat\n",
    "    res_std = np.std(residuals)\n",
    "    avg_gini = np.mean(gini_in_time)\n",
    "    return avg_gini + w_fallingrate * min(0, a) + w_resstd * res_std"
   ]
  },
  {
   "cell_type": "code",
   "execution_count": 54,
   "id": "e5ed9714",
   "metadata": {
    "scrolled": true
   },
   "outputs": [
    {
     "name": "stdout",
     "output_type": "stream",
     "text": [
      "Stability metric на обучающей выборке: 0.7753\n",
      "Stability metric на тестовой выборке: 0.6193\n"
     ]
    }
   ],
   "source": [
    "gini_stability_train = gini_stability(df_train)\n",
    "gini_stability_test = gini_stability(df_test)\n",
    "print('Stability metric на обучающей выборке: {:.4f}'.format(gini_stability_train))\n",
    "print('Stability metric на тестовой выборке: {:.4f}'.format(gini_stability_test))"
   ]
  },
  {
   "cell_type": "markdown",
   "id": "3609d848",
   "metadata": {},
   "source": [
    "[К содержанию](#start)"
   ]
  },
  {
   "cell_type": "markdown",
   "id": "181c6964",
   "metadata": {},
   "source": [
    "## Submission\n",
    "<a id=\"#section_7\"></a>"
   ]
  },
  {
   "cell_type": "markdown",
   "id": "06a9b0fe",
   "metadata": {},
   "source": [
    "Создаем файл submission для выгрузки в kaggle:"
   ]
  },
  {
   "cell_type": "code",
   "execution_count": 55,
   "id": "a68f6ddf",
   "metadata": {
    "scrolled": true
   },
   "outputs": [
    {
     "data": {
      "text/html": [
       "<div>\n",
       "<style scoped>\n",
       "    .dataframe tbody tr th:only-of-type {\n",
       "        vertical-align: middle;\n",
       "    }\n",
       "\n",
       "    .dataframe tbody tr th {\n",
       "        vertical-align: top;\n",
       "    }\n",
       "\n",
       "    .dataframe thead th {\n",
       "        text-align: right;\n",
       "    }\n",
       "</style>\n",
       "<table border=\"1\" class=\"dataframe\">\n",
       "  <thead>\n",
       "    <tr style=\"text-align: right;\">\n",
       "      <th></th>\n",
       "      <th>score</th>\n",
       "    </tr>\n",
       "    <tr>\n",
       "      <th>case_id</th>\n",
       "      <th></th>\n",
       "    </tr>\n",
       "  </thead>\n",
       "  <tbody>\n",
       "    <tr>\n",
       "      <th>57543</th>\n",
       "      <td>0.004946</td>\n",
       "    </tr>\n",
       "    <tr>\n",
       "      <th>57549</th>\n",
       "      <td>0.033609</td>\n",
       "    </tr>\n",
       "    <tr>\n",
       "      <th>57551</th>\n",
       "      <td>0.004570</td>\n",
       "    </tr>\n",
       "    <tr>\n",
       "      <th>57552</th>\n",
       "      <td>0.015644</td>\n",
       "    </tr>\n",
       "    <tr>\n",
       "      <th>57569</th>\n",
       "      <td>0.105471</td>\n",
       "    </tr>\n",
       "    <tr>\n",
       "      <th>57630</th>\n",
       "      <td>0.011335</td>\n",
       "    </tr>\n",
       "    <tr>\n",
       "      <th>57631</th>\n",
       "      <td>0.019822</td>\n",
       "    </tr>\n",
       "    <tr>\n",
       "      <th>57632</th>\n",
       "      <td>0.008067</td>\n",
       "    </tr>\n",
       "    <tr>\n",
       "      <th>57633</th>\n",
       "      <td>0.030141</td>\n",
       "    </tr>\n",
       "    <tr>\n",
       "      <th>57634</th>\n",
       "      <td>0.016820</td>\n",
       "    </tr>\n",
       "  </tbody>\n",
       "</table>\n",
       "</div>"
      ],
      "text/plain": [
       "            score\n",
       "case_id          \n",
       "57543    0.004946\n",
       "57549    0.033609\n",
       "57551    0.004570\n",
       "57552    0.015644\n",
       "57569    0.105471\n",
       "57630    0.011335\n",
       "57631    0.019822\n",
       "57632    0.008067\n",
       "57633    0.030141\n",
       "57634    0.016820"
      ]
     },
     "execution_count": 55,
     "metadata": {},
     "output_type": "execute_result"
    }
   ],
   "source": [
    "df_test_kaggle.index = df_test_kaggle_sync['case_id']\n",
    "y_pred = pd.Series(model.predict_proba(df_test_kaggle)[:, 1], index=df_test_kaggle.index)\n",
    "df_subm = pd.read_csv(ROOT / \"sample_submission.csv\")\n",
    "df_subm = df_subm.set_index(\"case_id\")\n",
    "df_subm[\"score\"] = y_pred\n",
    "df_subm.to_csv(\"submission.csv\")\n",
    "df_subm"
   ]
  },
  {
   "cell_type": "markdown",
   "id": "46e71891",
   "metadata": {},
   "source": [
    "## Общий вывод\n",
    "<a id=\"#section_8\"></a>"
   ]
  },
  {
   "cell_type": "markdown",
   "id": "3d249856",
   "metadata": {},
   "source": [
    "1. Получены 3 выборки:\n",
    "   - обучающая - df_train;\n",
    "   - тестовая - df_test;\n",
    "   - тестовая для выгрузки в kaggle -df_test_kaggle.\n",
    "\n",
    "2. Выполнена следующая предобработка:\n",
    "   - получение агрегированных признаков (min, max, mean, first, last) для каждого значения case_id;\n",
    "   - заполнение пропусков нечисловых признаков значением 'unknown';\n",
    "   - преобразование типов данных;\n",
    "   - генерация новых признаков из дат;\n",
    "   - фильтрация признаков по порогу количества пропущенных значений и количеству уникальных значений;\n",
    "   - фильтрация признаков по пороговому значению корреляции.\n",
    "\n",
    "3. По результатам предобработки выборки имеют следующее количество признаков:\n",
    "   - количество категориальных признаков: 38;\n",
    "   - количество числовых признаков: 137;\n",
    "   - общее количество признаков: 175.\n",
    "\n",
    "4. Подобраны гиперпараметры модели LGBMClassifier.\n",
    "  \n",
    "5. Обучены модели CatBoostClassifier (с гиперпараметрами по умолчанию) и LGBMClassifier.\n",
    "\n",
    "6. Значения stability metric на:\n",
    "   - обучающей выборке: 0.7674;\n",
    "   - тестовой выборке: 0.6131."
   ]
  },
  {
   "cell_type": "markdown",
   "id": "2ed56764",
   "metadata": {},
   "source": [
    "[К содержанию](#start)"
   ]
  }
 ],
 "metadata": {
  "kaggle": {
   "accelerator": "nvidiaTeslaT4",
   "dataSources": [
    {
     "databundleVersionId": 7921029,
     "sourceId": 50160,
     "sourceType": "competition"
    }
   ],
   "dockerImageVersionId": 30747,
   "isGpuEnabled": true,
   "isInternetEnabled": false,
   "language": "python",
   "sourceType": "notebook"
  },
  "kernelspec": {
   "display_name": "Python 3 (ipykernel)",
   "language": "python",
   "name": "python3"
  },
  "language_info": {
   "codemirror_mode": {
    "name": "ipython",
    "version": 3
   },
   "file_extension": ".py",
   "mimetype": "text/x-python",
   "name": "python",
   "nbconvert_exporter": "python",
   "pygments_lexer": "ipython3",
   "version": "3.12.4"
  }
 },
 "nbformat": 4,
 "nbformat_minor": 5
}
