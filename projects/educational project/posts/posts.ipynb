{
 "cells": [
  {
   "cell_type": "markdown",
   "metadata": {},
   "source": [
    "Автор:     Шестаков Михаил Сергеевич  \n",
    "Telegram:  https://t.me/mshestakov1  \n",
    "Телефон:   +7(950)035-55-38  \n",
    "email:     mikhail-shestakov-2022@bk.ru  "
   ]
  },
  {
   "cell_type": "markdown",
   "metadata": {},
   "source": [
    "# Анализ постов на сервисе StackOverflow за 2008 год"
   ]
  },
  {
   "cell_type": "markdown",
   "metadata": {},
   "source": [
    "**Содержание:**  \n",
    "1. [подключения к базе данных](#section_1)  \n",
    "2. [Задание 1](#section_2)  \n",
    "3. [Задание 1](#section_3)   \n",
    "4. [Задание 1](#section_4)  \n",
    "5. [Задание 1](#section_5)  \n",
    "6. [Задание 1](#section_6)   \n",
    "7. [Задание 1](#section_7)  \n",
    "8. [Задание 1](#section_8)  \n",
    "9. [Задание 1](#section_9)   \n",
    "10. [Задание 1](#section_10)  "
   ]
  },
  {
   "cell_type": "code",
   "execution_count": 1,
   "metadata": {
    "id": "nlZBlglMDWKe"
   },
   "outputs": [],
   "source": [
    "import pandas as pd\n",
    "import matplotlib.pyplot as plt\n",
    "import seaborn as sns\n",
    "from sqlalchemy import create_engine"
   ]
  },
  {
   "cell_type": "markdown",
   "metadata": {
    "id": "XnOE3n28DWKg"
   },
   "source": [
    "### Конфигурация для подключения к базе данных `data-analyst-advanced-sql`\n",
    "Эта база данных содержит схему `stackoverflow`, с которой вы будете работать в проекте"
   ]
  },
  {
   "cell_type": "code",
   "execution_count": 2,
   "metadata": {
    "id": "6p-yGp7qDWKg"
   },
   "outputs": [],
   "source": [
    "db_config = {\n",
    "    'user': 'praktikum_student', # имя пользователя\n",
    "    'pwd': 'Sdf4$2;d-d30pp', # пароль\n",
    "    'host': 'rc1b-wcoijxj3yxfsf3fs.mdb.yandexcloud.net',\n",
    "    'port': 6432, # порт подключения\n",
    "    'db': 'data-analyst-advanced-sql' # название базы данных\n",
    "}  \n",
    "\n",
    "connection_string = 'postgresql://{}:{}@{}:{}/{}'.format(\n",
    "    db_config['user'],\n",
    "    db_config['pwd'],\n",
    "    db_config['host'],\n",
    "    db_config['port'],\n",
    "    db_config['db'],\n",
    ")"
   ]
  },
  {
   "cell_type": "markdown",
   "metadata": {
    "id": "2Rg8ZpS0DWKh"
   },
   "source": [
    "Создание подключения"
   ]
  },
  {
   "cell_type": "code",
   "execution_count": 3,
   "metadata": {
    "id": "DamCUTR6DWKi"
   },
   "outputs": [],
   "source": [
    "engine = create_engine(connection_string) "
   ]
  },
  {
   "cell_type": "markdown",
   "metadata": {
    "id": "bel8XeSlDWKj"
   },
   "source": [
    "Пример запроса к базе данных\n",
    "\n",
    "`sample_df` является pandas-датафреймом."
   ]
  },
  {
   "cell_type": "code",
   "execution_count": 4,
   "metadata": {
    "id": "6Z_fw0yLDWKk"
   },
   "outputs": [],
   "source": [
    "query = '''\n",
    "SELECT *\n",
    "FROM stackoverflow.users\n",
    "LIMIT 10;\n",
    "'''\n",
    "\n",
    "sample_df = pd.read_sql_query(query, con=engine) "
   ]
  },
  {
   "cell_type": "code",
   "execution_count": 5,
   "metadata": {
    "id": "ZpuZ290oDWKk",
    "outputId": "22785a0a-e2bc-4559-ec3c-4879c4b377eb"
   },
   "outputs": [
    {
     "data": {
      "text/html": [
       "<div>\n",
       "<style scoped>\n",
       "    .dataframe tbody tr th:only-of-type {\n",
       "        vertical-align: middle;\n",
       "    }\n",
       "\n",
       "    .dataframe tbody tr th {\n",
       "        vertical-align: top;\n",
       "    }\n",
       "\n",
       "    .dataframe thead th {\n",
       "        text-align: right;\n",
       "    }\n",
       "</style>\n",
       "<table border=\"1\" class=\"dataframe\">\n",
       "  <thead>\n",
       "    <tr style=\"text-align: right;\">\n",
       "      <th></th>\n",
       "      <th>id</th>\n",
       "      <th>creation_date</th>\n",
       "      <th>display_name</th>\n",
       "      <th>last_access_date</th>\n",
       "      <th>location</th>\n",
       "      <th>reputation</th>\n",
       "      <th>views</th>\n",
       "    </tr>\n",
       "  </thead>\n",
       "  <tbody>\n",
       "    <tr>\n",
       "      <th>0</th>\n",
       "      <td>1</td>\n",
       "      <td>2008-07-31 14:22:31</td>\n",
       "      <td>Jeff Atwood</td>\n",
       "      <td>2018-08-29 02:34:23</td>\n",
       "      <td>El Cerrito, CA</td>\n",
       "      <td>44300</td>\n",
       "      <td>408587</td>\n",
       "    </tr>\n",
       "    <tr>\n",
       "      <th>1</th>\n",
       "      <td>2</td>\n",
       "      <td>2008-07-31 14:22:31</td>\n",
       "      <td>Geoff Dalgas</td>\n",
       "      <td>2018-08-23 17:31:56</td>\n",
       "      <td>Corvallis, OR</td>\n",
       "      <td>3491</td>\n",
       "      <td>23966</td>\n",
       "    </tr>\n",
       "    <tr>\n",
       "      <th>2</th>\n",
       "      <td>3</td>\n",
       "      <td>2008-07-31 14:22:31</td>\n",
       "      <td>Jarrod Dixon</td>\n",
       "      <td>2018-08-30 20:56:24</td>\n",
       "      <td>Raleigh, NC, United States</td>\n",
       "      <td>13418</td>\n",
       "      <td>24396</td>\n",
       "    </tr>\n",
       "    <tr>\n",
       "      <th>3</th>\n",
       "      <td>4</td>\n",
       "      <td>2008-07-31 14:22:31</td>\n",
       "      <td>Joel Spolsky</td>\n",
       "      <td>2018-08-14 22:18:15</td>\n",
       "      <td>New York, NY</td>\n",
       "      <td>28768</td>\n",
       "      <td>73755</td>\n",
       "    </tr>\n",
       "    <tr>\n",
       "      <th>4</th>\n",
       "      <td>5</td>\n",
       "      <td>2008-07-31 14:22:31</td>\n",
       "      <td>Jon Galloway</td>\n",
       "      <td>2018-08-29 16:48:36</td>\n",
       "      <td>San Diego, CA</td>\n",
       "      <td>39172</td>\n",
       "      <td>11700</td>\n",
       "    </tr>\n",
       "    <tr>\n",
       "      <th>5</th>\n",
       "      <td>8</td>\n",
       "      <td>2008-07-31 21:33:24</td>\n",
       "      <td>Eggs McLaren</td>\n",
       "      <td>2018-04-09 02:04:56</td>\n",
       "      <td>None</td>\n",
       "      <td>942</td>\n",
       "      <td>6372</td>\n",
       "    </tr>\n",
       "    <tr>\n",
       "      <th>6</th>\n",
       "      <td>9</td>\n",
       "      <td>2008-07-31 21:35:27</td>\n",
       "      <td>Kevin Dente</td>\n",
       "      <td>2018-08-30 18:18:03</td>\n",
       "      <td>Oakland, CA</td>\n",
       "      <td>14337</td>\n",
       "      <td>4949</td>\n",
       "    </tr>\n",
       "    <tr>\n",
       "      <th>7</th>\n",
       "      <td>11</td>\n",
       "      <td>2008-08-01 00:59:11</td>\n",
       "      <td>Anonymous User</td>\n",
       "      <td>2008-08-01 00:59:11</td>\n",
       "      <td>None</td>\n",
       "      <td>1890</td>\n",
       "      <td>2123</td>\n",
       "    </tr>\n",
       "    <tr>\n",
       "      <th>8</th>\n",
       "      <td>13</td>\n",
       "      <td>2008-08-01 04:18:05</td>\n",
       "      <td>Chris Jester-Young</td>\n",
       "      <td>2018-08-30 02:47:23</td>\n",
       "      <td>Raleigh, NC, United States</td>\n",
       "      <td>177138</td>\n",
       "      <td>35414</td>\n",
       "    </tr>\n",
       "    <tr>\n",
       "      <th>9</th>\n",
       "      <td>17</td>\n",
       "      <td>2008-08-01 12:02:22</td>\n",
       "      <td>Nick Berardi</td>\n",
       "      <td>2018-01-22 01:35:38</td>\n",
       "      <td>Issaquah, WA</td>\n",
       "      <td>44443</td>\n",
       "      <td>4786</td>\n",
       "    </tr>\n",
       "  </tbody>\n",
       "</table>\n",
       "</div>"
      ],
      "text/plain": [
       "   id       creation_date        display_name    last_access_date  \\\n",
       "0   1 2008-07-31 14:22:31         Jeff Atwood 2018-08-29 02:34:23   \n",
       "1   2 2008-07-31 14:22:31        Geoff Dalgas 2018-08-23 17:31:56   \n",
       "2   3 2008-07-31 14:22:31        Jarrod Dixon 2018-08-30 20:56:24   \n",
       "3   4 2008-07-31 14:22:31        Joel Spolsky 2018-08-14 22:18:15   \n",
       "4   5 2008-07-31 14:22:31        Jon Galloway 2018-08-29 16:48:36   \n",
       "5   8 2008-07-31 21:33:24        Eggs McLaren 2018-04-09 02:04:56   \n",
       "6   9 2008-07-31 21:35:27         Kevin Dente 2018-08-30 18:18:03   \n",
       "7  11 2008-08-01 00:59:11      Anonymous User 2008-08-01 00:59:11   \n",
       "8  13 2008-08-01 04:18:05  Chris Jester-Young 2018-08-30 02:47:23   \n",
       "9  17 2008-08-01 12:02:22        Nick Berardi 2018-01-22 01:35:38   \n",
       "\n",
       "                     location  reputation   views  \n",
       "0              El Cerrito, CA       44300  408587  \n",
       "1               Corvallis, OR        3491   23966  \n",
       "2  Raleigh, NC, United States       13418   24396  \n",
       "3                New York, NY       28768   73755  \n",
       "4               San Diego, CA       39172   11700  \n",
       "5                        None         942    6372  \n",
       "6                 Oakland, CA       14337    4949  \n",
       "7                        None        1890    2123  \n",
       "8  Raleigh, NC, United States      177138   35414  \n",
       "9                Issaquah, WA       44443    4786  "
      ]
     },
     "execution_count": 5,
     "metadata": {},
     "output_type": "execute_result"
    }
   ],
   "source": [
    "sample_df"
   ]
  },
  {
   "cell_type": "markdown",
   "metadata": {
    "id": "gnBMXkDBDWKm"
   },
   "source": [
    "# Задание 1"
   ]
  },
  {
   "cell_type": "markdown",
   "metadata": {
    "id": "vHsfOrrNDWKn"
   },
   "source": [
    "Выведите общую сумму просмотров постов за каждый месяц 2008 года. Если данных за какой-либо месяц в базе нет, такой месяц можно пропустить. Результат отсортируйте по убыванию общего количества просмотров."
   ]
  },
  {
   "cell_type": "markdown",
   "metadata": {
    "id": "N5rTgGNmDWKn"
   },
   "source": [
    "| month_date  | total_views |\n",
    "| ------------- | ------------- |\n",
    "| 2008-09-01  | 452928568  |\n",
    "| 2008-10-01  | 365400138  |\n",
    "| ...         | ... |"
   ]
  },
  {
   "cell_type": "markdown",
   "metadata": {},
   "source": [
    "Создаем запрос:"
   ]
  },
  {
   "cell_type": "code",
   "execution_count": 6,
   "metadata": {
    "id": "eWvykcXTDWKo"
   },
   "outputs": [],
   "source": [
    "# напишите запрос\n",
    "query = '''\n",
    "SELECT DISTINCT DATE_TRUNC('MONTH', creation_date)::date AS month_date,\n",
    "       SUM(views_count) AS total_views\n",
    "  FROM stackoverflow.posts\n",
    " WHERE EXTRACT('YEAR' FROM creation_date) = 2008\n",
    " GROUP BY DATE_TRUNC('MONTH', creation_date)::date\n",
    " ORDER BY total_views DESC\n",
    "'''\n",
    "\n",
    "# выполните запрос\n",
    "df_1 = pd.read_sql_query(query, con=engine)"
   ]
  },
  {
   "cell_type": "code",
   "execution_count": 7,
   "metadata": {
    "scrolled": true
   },
   "outputs": [
    {
     "data": {
      "text/html": [
       "<div>\n",
       "<style scoped>\n",
       "    .dataframe tbody tr th:only-of-type {\n",
       "        vertical-align: middle;\n",
       "    }\n",
       "\n",
       "    .dataframe tbody tr th {\n",
       "        vertical-align: top;\n",
       "    }\n",
       "\n",
       "    .dataframe thead th {\n",
       "        text-align: right;\n",
       "    }\n",
       "</style>\n",
       "<table border=\"1\" class=\"dataframe\">\n",
       "  <thead>\n",
       "    <tr style=\"text-align: right;\">\n",
       "      <th></th>\n",
       "      <th>month_date</th>\n",
       "      <th>total_views</th>\n",
       "    </tr>\n",
       "  </thead>\n",
       "  <tbody>\n",
       "    <tr>\n",
       "      <th>0</th>\n",
       "      <td>2008-09-01</td>\n",
       "      <td>452928568</td>\n",
       "    </tr>\n",
       "    <tr>\n",
       "      <th>1</th>\n",
       "      <td>2008-10-01</td>\n",
       "      <td>365400138</td>\n",
       "    </tr>\n",
       "    <tr>\n",
       "      <th>2</th>\n",
       "      <td>2008-11-01</td>\n",
       "      <td>221759651</td>\n",
       "    </tr>\n",
       "    <tr>\n",
       "      <th>3</th>\n",
       "      <td>2008-12-01</td>\n",
       "      <td>197792841</td>\n",
       "    </tr>\n",
       "    <tr>\n",
       "      <th>4</th>\n",
       "      <td>2008-08-01</td>\n",
       "      <td>131367083</td>\n",
       "    </tr>\n",
       "    <tr>\n",
       "      <th>5</th>\n",
       "      <td>2008-07-01</td>\n",
       "      <td>669895</td>\n",
       "    </tr>\n",
       "  </tbody>\n",
       "</table>\n",
       "</div>"
      ],
      "text/plain": [
       "   month_date  total_views\n",
       "0  2008-09-01    452928568\n",
       "1  2008-10-01    365400138\n",
       "2  2008-11-01    221759651\n",
       "3  2008-12-01    197792841\n",
       "4  2008-08-01    131367083\n",
       "5  2008-07-01       669895"
      ]
     },
     "execution_count": 7,
     "metadata": {},
     "output_type": "execute_result"
    }
   ],
   "source": [
    "df_1"
   ]
  },
  {
   "cell_type": "markdown",
   "metadata": {},
   "source": [
    "Строим график распределения просмотров по месяцам:"
   ]
  },
  {
   "cell_type": "code",
   "execution_count": 8,
   "metadata": {
    "scrolled": true
   },
   "outputs": [
    {
     "data": {
      "image/png": "[encoded data removed]",
      "text/plain": [
       "<Figure size 1000x1000 with 1 Axes>"
      ]
     },
     "metadata": {},
     "output_type": "display_data"
    }
   ],
   "source": [
    "df_1_sort = df_1.sort_values('month_date')\n",
    "plt.figure(figsize=(10,10))\n",
    "ax = plt.plot(df_1_sort['month_date'], df_1_sort['total_views'])\n",
    "plt.title('Пик просмотров - сентябрь')\n",
    "plt.ylabel('Просмотров, 10\\u00B2 млн')\n",
    "plt.xlabel('Месяц')\n",
    "plt.show()"
   ]
  },
  {
   "cell_type": "markdown",
   "metadata": {
    "id": "luxSj17oDWKq"
   },
   "source": [
    "Сервис stackoverflow запущен в июле 2008 года: 31 июля 2008 года Джефф Этвуд, один из основателей сервиса, разослал приглашения своим подписчикам принять участие в закрытом бета-тестировании нового веб-сайта, ограничив его использование теми, кто желает протестировать новое программное обеспечение. В июле - сентябре количество просмотров возрастает с 0.67 до 452.92 млн: в сентябре сервис стал общедоступным.  \n",
    "С сентября по декабрь, при работе сервиса в \"боевом\" режиме, количество просмотров снижается до 197.79 млн."
   ]
  },
  {
   "cell_type": "markdown",
   "metadata": {
    "id": "FziIXkn5DWKr"
   },
   "source": [
    "# Задание 2"
   ]
  },
  {
   "cell_type": "markdown",
   "metadata": {
    "id": "fTGESZvYDWKr"
   },
   "source": [
    "Выведите имена самых активных пользователей, которые в первый месяц после регистрации (включая день регистрации) дали больше 100 ответов. Вопросы, которые задавали пользователи, не учитывайте. Для каждого имени пользователя выведите количество уникальных значений `user_id`. Отсортируйте результат по полю с именами в лексикографическом порядке."
   ]
  },
  {
   "cell_type": "markdown",
   "metadata": {
    "id": "W5-tv6Y3DWKs"
   },
   "source": [
    "| display_name | count |\n",
    "| ------------ | ----- |\n",
    "| 1800 INFORMATION | 1 |\n",
    "| Adam Bellaire | 1 |\n",
    "| Adam Davis | 1 |\n",
    "| ... | ... |"
   ]
  },
  {
   "cell_type": "markdown",
   "metadata": {},
   "source": [
    "Создаем запрос:"
   ]
  },
  {
   "cell_type": "code",
   "execution_count": 9,
   "metadata": {
    "id": "fIO-y-YjDWKt"
   },
   "outputs": [],
   "source": [
    "# напишите запрос\n",
    "query = '''\n",
    "SELECT u.display_name,\n",
    "       COUNT(DISTINCT u.id)\n",
    "  FROM stackoverflow.users AS u\n",
    "       JOIN stackoverflow.posts AS p ON u.id=p.user_id\n",
    "       JOIN stackoverflow.post_types AS t ON p.post_type_id=t.id\n",
    " WHERE CAST(p.creation_date AS DATE) BETWEEN CAST(u.creation_date AS DATE) AND CAST(u.creation_date AS DATE) + INTERVAL '1 MONTH'\n",
    "   AND t.type = 'Answer'\n",
    " GROUP BY u.display_name\n",
    "HAVING COUNT(p.parent_id) > 100\n",
    " ORDER BY display_name\n",
    "'''\n",
    "\n",
    "# выполните запрос\n",
    "df_2 = pd.read_sql_query(query, con=engine)"
   ]
  },
  {
   "cell_type": "code",
   "execution_count": 10,
   "metadata": {
    "scrolled": false
   },
   "outputs": [
    {
     "data": {
      "text/html": [
       "<div>\n",
       "<style scoped>\n",
       "    .dataframe tbody tr th:only-of-type {\n",
       "        vertical-align: middle;\n",
       "    }\n",
       "\n",
       "    .dataframe tbody tr th {\n",
       "        vertical-align: top;\n",
       "    }\n",
       "\n",
       "    .dataframe thead th {\n",
       "        text-align: right;\n",
       "    }\n",
       "</style>\n",
       "<table border=\"1\" class=\"dataframe\">\n",
       "  <thead>\n",
       "    <tr style=\"text-align: right;\">\n",
       "      <th></th>\n",
       "      <th>display_name</th>\n",
       "      <th>count</th>\n",
       "    </tr>\n",
       "  </thead>\n",
       "  <tbody>\n",
       "    <tr>\n",
       "      <th>0</th>\n",
       "      <td>1800 INFORMATION</td>\n",
       "      <td>1</td>\n",
       "    </tr>\n",
       "    <tr>\n",
       "      <th>1</th>\n",
       "      <td>Adam Bellaire</td>\n",
       "      <td>1</td>\n",
       "    </tr>\n",
       "    <tr>\n",
       "      <th>2</th>\n",
       "      <td>Adam Davis</td>\n",
       "      <td>1</td>\n",
       "    </tr>\n",
       "    <tr>\n",
       "      <th>3</th>\n",
       "      <td>Adam Liss</td>\n",
       "      <td>1</td>\n",
       "    </tr>\n",
       "    <tr>\n",
       "      <th>4</th>\n",
       "      <td>Alan</td>\n",
       "      <td>8</td>\n",
       "    </tr>\n",
       "    <tr>\n",
       "      <th>...</th>\n",
       "      <td>...</td>\n",
       "      <td>...</td>\n",
       "    </tr>\n",
       "    <tr>\n",
       "      <th>74</th>\n",
       "      <td>lomaxx</td>\n",
       "      <td>1</td>\n",
       "    </tr>\n",
       "    <tr>\n",
       "      <th>75</th>\n",
       "      <td>mattlant</td>\n",
       "      <td>1</td>\n",
       "    </tr>\n",
       "    <tr>\n",
       "      <th>76</th>\n",
       "      <td>paxdiablo</td>\n",
       "      <td>1</td>\n",
       "    </tr>\n",
       "    <tr>\n",
       "      <th>77</th>\n",
       "      <td>tvanfosson</td>\n",
       "      <td>1</td>\n",
       "    </tr>\n",
       "    <tr>\n",
       "      <th>78</th>\n",
       "      <td>tzot</td>\n",
       "      <td>1</td>\n",
       "    </tr>\n",
       "  </tbody>\n",
       "</table>\n",
       "<p>79 rows × 2 columns</p>\n",
       "</div>"
      ],
      "text/plain": [
       "        display_name  count\n",
       "0   1800 INFORMATION      1\n",
       "1      Adam Bellaire      1\n",
       "2         Adam Davis      1\n",
       "3          Adam Liss      1\n",
       "4               Alan      8\n",
       "..               ...    ...\n",
       "74            lomaxx      1\n",
       "75          mattlant      1\n",
       "76         paxdiablo      1\n",
       "77        tvanfosson      1\n",
       "78              tzot      1\n",
       "\n",
       "[79 rows x 2 columns]"
      ]
     },
     "execution_count": 10,
     "metadata": {},
     "output_type": "execute_result"
    }
   ],
   "source": [
    "df_2"
   ]
  },
  {
   "cell_type": "markdown",
   "metadata": {},
   "source": [
    "Проверяем, какое число пользователей из выбранных, имеют дублирующиеся имена (display_name):"
   ]
  },
  {
   "cell_type": "code",
   "execution_count": 11,
   "metadata": {},
   "outputs": [
    {
     "name": "stdout",
     "output_type": "stream",
     "text": [
      "Количество пользователей с дублирующимися именами: 19 (24.05%).\n"
     ]
    }
   ],
   "source": [
    "df2_double = df_2.loc[df_2['count'] > 1].shape[0]\n",
    "df2_all = df_2.shape[0]\n",
    "print('Количество пользователей с дублирующимися именами: {} ({:.2%}).'.format(df2_double, 1 - (df2_all - df2_double) / df2_all))"
   ]
  },
  {
   "cell_type": "markdown",
   "metadata": {
    "id": "JhM2xXj5DWKu"
   },
   "source": [
    "# Задание 3"
   ]
  },
  {
   "cell_type": "markdown",
   "metadata": {
    "id": "IS6xPqyyDWKu"
   },
   "source": [
    "Выведите количество постов за 2008 год по месяцам. Отберите посты от пользователей, которые зарегистрировались в сентябре 2008 года и сделали хотя бы один пост в декабре того же года. Отсортируйте таблицу по значению месяца по убыванию."
   ]
  },
  {
   "cell_type": "markdown",
   "metadata": {
    "id": "WmjhjV2xDWKv"
   },
   "source": [
    "| month | count |\n",
    "| ------|------ |\n",
    "| 2008-12-01 | 17641 |\n",
    "| 2008-11-01 | 18294 |\n",
    "| ... | ... |"
   ]
  },
  {
   "cell_type": "markdown",
   "metadata": {},
   "source": [
    "Создаем запрос:"
   ]
  },
  {
   "cell_type": "code",
   "execution_count": 12,
   "metadata": {
    "id": "kVu0FB8WDWKv"
   },
   "outputs": [],
   "source": [
    "# напишите запрос\n",
    "query = '''\n",
    "WITH profile AS (\n",
    "SELECT DISTINCT user_id\n",
    "  FROM stackoverflow.posts\n",
    " WHERE CAST(DATE_TRUNC('MONTH', creation_date) AS DATE) = '2008-12-01'\n",
    "   AND user_id IN (SELECT DISTINCT id\n",
    "                     FROM stackoverflow.users\n",
    "                    WHERE CAST(DATE_TRUNC('MONTH', creation_date) AS DATE) = '2008-09-01'\n",
    "                    )\n",
    " )\n",
    "    \n",
    "SELECT DISTINCT\n",
    "       CAST(DATE_TRUNC('MONTH', creation_date) AS DATE) AS month,\n",
    "       COUNT(*) OVER (PARTITION BY CAST(DATE_TRUNC('MONTH', creation_date) AS DATE)) AS count\n",
    "  FROM stackoverflow.posts AS p\n",
    "       JOIN profile AS pr ON pr.user_id = p.user_id\n",
    " ORDER BY CAST(DATE_TRUNC('MONTH', creation_date) AS DATE) DESC\n",
    "'''\n",
    "\n",
    "# выполните запрос\n",
    "df_3 = pd.read_sql_query(query, con=engine)"
   ]
  },
  {
   "cell_type": "code",
   "execution_count": 13,
   "metadata": {
    "scrolled": false
   },
   "outputs": [
    {
     "data": {
      "text/html": [
       "<div>\n",
       "<style scoped>\n",
       "    .dataframe tbody tr th:only-of-type {\n",
       "        vertical-align: middle;\n",
       "    }\n",
       "\n",
       "    .dataframe tbody tr th {\n",
       "        vertical-align: top;\n",
       "    }\n",
       "\n",
       "    .dataframe thead th {\n",
       "        text-align: right;\n",
       "    }\n",
       "</style>\n",
       "<table border=\"1\" class=\"dataframe\">\n",
       "  <thead>\n",
       "    <tr style=\"text-align: right;\">\n",
       "      <th></th>\n",
       "      <th>month</th>\n",
       "      <th>count</th>\n",
       "    </tr>\n",
       "  </thead>\n",
       "  <tbody>\n",
       "    <tr>\n",
       "      <th>0</th>\n",
       "      <td>2008-12-01</td>\n",
       "      <td>17641</td>\n",
       "    </tr>\n",
       "    <tr>\n",
       "      <th>1</th>\n",
       "      <td>2008-11-01</td>\n",
       "      <td>18294</td>\n",
       "    </tr>\n",
       "    <tr>\n",
       "      <th>2</th>\n",
       "      <td>2008-10-01</td>\n",
       "      <td>27171</td>\n",
       "    </tr>\n",
       "    <tr>\n",
       "      <th>3</th>\n",
       "      <td>2008-09-01</td>\n",
       "      <td>24870</td>\n",
       "    </tr>\n",
       "    <tr>\n",
       "      <th>4</th>\n",
       "      <td>2008-08-01</td>\n",
       "      <td>32</td>\n",
       "    </tr>\n",
       "  </tbody>\n",
       "</table>\n",
       "</div>"
      ],
      "text/plain": [
       "        month  count\n",
       "0  2008-12-01  17641\n",
       "1  2008-11-01  18294\n",
       "2  2008-10-01  27171\n",
       "3  2008-09-01  24870\n",
       "4  2008-08-01     32"
      ]
     },
     "execution_count": 13,
     "metadata": {},
     "output_type": "execute_result"
    }
   ],
   "source": [
    "df_3"
   ]
  },
  {
   "cell_type": "markdown",
   "metadata": {},
   "source": [
    "Строим график распределения постов по месяцам:"
   ]
  },
  {
   "cell_type": "code",
   "execution_count": 14,
   "metadata": {},
   "outputs": [
    {
     "data": {
      "image/png": "[encoded data removed]",
      "text/plain": [
       "<Figure size 1000x1000 with 1 Axes>"
      ]
     },
     "metadata": {},
     "output_type": "display_data"
    }
   ],
   "source": [
    "plt.figure(figsize=(10,10))\n",
    "ax = plt.plot(df_3['month'], df_3['count'])\n",
    "plt.title('Максимум постов - в октябрь')\n",
    "plt.ylabel('Количество постов')\n",
    "plt.xlabel('Месяц')\n",
    "plt.xticks(rotation = 45)\n",
    "plt.show()"
   ]
  },
  {
   "cell_type": "markdown",
   "metadata": {
    "id": "MMVIz4yMlKpN"
   },
   "source": [
    "У пользователей, зарегистрированных в сентябре, есть комментарии за август. Это может быть результатом сбоя при переходе сервиса из закрытого бета-тестирования в общедоступный рабочий режим в сентябре 2008 года."
   ]
  },
  {
   "cell_type": "markdown",
   "metadata": {
    "id": "5Pcizm0DDWKz"
   },
   "source": [
    "# Задание 4"
   ]
  },
  {
   "cell_type": "markdown",
   "metadata": {
    "id": "KUZPF6vHDWKz"
   },
   "source": [
    "Используя данные о постах, выведите несколько полей:\n",
    "\n",
    "- идентификатор пользователя, который написал пост;\n",
    "- дата создания поста;\n",
    "- количество просмотров у текущего поста;\n",
    "- сумму просмотров постов автора с накоплением.\n",
    "\n",
    "Данные в таблице должны быть отсортированы по возрастанию идентификаторов пользователей, а данные об одном и том же пользователе — по возрастанию даты создания поста."
   ]
  },
  {
   "cell_type": "markdown",
   "metadata": {
    "id": "ZpsTUVDYDWK0"
   },
   "source": [
    "| user_id | creation_date | views_count | cumulative_count |\n",
    "| ------ | -------------- | ----------- | ---------------- |\n",
    "| 1 | 2008-07-31 23:41:00  | 480476   | 480476  |\n",
    "| 1 | 2008-07-31 23:55:38  | 136033 | 616509  | \n",
    "| 1 | 2008-07-31 23:56:41  | 0 |  616509  |\n",
    "| ... | ... | ... | ... |\n",
    "| 2 | 2008-07-31 23:56:41 | 79087  | 79087 |\n",
    "| 2 | 2008-08-01 05:09:56 | 65443 | 144530 |\n",
    "| ... | ...  | ...  | ...  |"
   ]
  },
  {
   "cell_type": "markdown",
   "metadata": {},
   "source": [
    "Создаем запрос:"
   ]
  },
  {
   "cell_type": "code",
   "execution_count": 15,
   "metadata": {
    "id": "hDoJhMzfDWK0"
   },
   "outputs": [],
   "source": [
    "# напишите запрос\n",
    "query = '''\n",
    "SELECT DISTINCT\n",
    "       user_id,\n",
    "       creation_date,\n",
    "       views_count,\n",
    "       SUM(views_count) OVER (PARTITION BY user_id ORDER BY creation_date)\n",
    "  FROM stackoverflow.posts\n",
    "'''\n",
    "# выполните запрос\n",
    "df_4 = pd.read_sql_query(query, con=engine)"
   ]
  },
  {
   "cell_type": "code",
   "execution_count": 16,
   "metadata": {},
   "outputs": [
    {
     "data": {
      "text/html": [
       "<div>\n",
       "<style scoped>\n",
       "    .dataframe tbody tr th:only-of-type {\n",
       "        vertical-align: middle;\n",
       "    }\n",
       "\n",
       "    .dataframe tbody tr th {\n",
       "        vertical-align: top;\n",
       "    }\n",
       "\n",
       "    .dataframe thead th {\n",
       "        text-align: right;\n",
       "    }\n",
       "</style>\n",
       "<table border=\"1\" class=\"dataframe\">\n",
       "  <thead>\n",
       "    <tr style=\"text-align: right;\">\n",
       "      <th></th>\n",
       "      <th>user_id</th>\n",
       "      <th>creation_date</th>\n",
       "      <th>views_count</th>\n",
       "      <th>sum</th>\n",
       "    </tr>\n",
       "  </thead>\n",
       "  <tbody>\n",
       "    <tr>\n",
       "      <th>0</th>\n",
       "      <td>574</td>\n",
       "      <td>2008-08-07 16:39:36</td>\n",
       "      <td>0</td>\n",
       "      <td>0</td>\n",
       "    </tr>\n",
       "    <tr>\n",
       "      <th>1</th>\n",
       "      <td>122</td>\n",
       "      <td>2008-08-11 03:31:52</td>\n",
       "      <td>0</td>\n",
       "      <td>205195</td>\n",
       "    </tr>\n",
       "    <tr>\n",
       "      <th>2</th>\n",
       "      <td>20</td>\n",
       "      <td>2008-10-06 22:08:51</td>\n",
       "      <td>0</td>\n",
       "      <td>3010</td>\n",
       "    </tr>\n",
       "    <tr>\n",
       "      <th>3</th>\n",
       "      <td>936</td>\n",
       "      <td>2008-12-08 23:10:29</td>\n",
       "      <td>0</td>\n",
       "      <td>39945</td>\n",
       "    </tr>\n",
       "    <tr>\n",
       "      <th>4</th>\n",
       "      <td>71</td>\n",
       "      <td>2008-10-28 22:36:05</td>\n",
       "      <td>0</td>\n",
       "      <td>299727</td>\n",
       "    </tr>\n",
       "    <tr>\n",
       "      <th>...</th>\n",
       "      <td>...</td>\n",
       "      <td>...</td>\n",
       "      <td>...</td>\n",
       "      <td>...</td>\n",
       "    </tr>\n",
       "    <tr>\n",
       "      <th>243791</th>\n",
       "      <td>39603</td>\n",
       "      <td>2008-11-24 14:34:18</td>\n",
       "      <td>0</td>\n",
       "      <td>0</td>\n",
       "    </tr>\n",
       "    <tr>\n",
       "      <th>243792</th>\n",
       "      <td>12039</td>\n",
       "      <td>2008-11-05 12:33:03</td>\n",
       "      <td>0</td>\n",
       "      <td>3154</td>\n",
       "    </tr>\n",
       "    <tr>\n",
       "      <th>243793</th>\n",
       "      <td>5619</td>\n",
       "      <td>2008-10-24 22:13:56</td>\n",
       "      <td>0</td>\n",
       "      <td>2342784</td>\n",
       "    </tr>\n",
       "    <tr>\n",
       "      <th>243794</th>\n",
       "      <td>38265</td>\n",
       "      <td>2008-11-21 23:03:40</td>\n",
       "      <td>0</td>\n",
       "      <td>0</td>\n",
       "    </tr>\n",
       "    <tr>\n",
       "      <th>243795</th>\n",
       "      <td>10248</td>\n",
       "      <td>2008-12-29 13:05:54</td>\n",
       "      <td>0</td>\n",
       "      <td>5200</td>\n",
       "    </tr>\n",
       "  </tbody>\n",
       "</table>\n",
       "<p>243796 rows × 4 columns</p>\n",
       "</div>"
      ],
      "text/plain": [
       "        user_id       creation_date  views_count      sum\n",
       "0           574 2008-08-07 16:39:36            0        0\n",
       "1           122 2008-08-11 03:31:52            0   205195\n",
       "2            20 2008-10-06 22:08:51            0     3010\n",
       "3           936 2008-12-08 23:10:29            0    39945\n",
       "4            71 2008-10-28 22:36:05            0   299727\n",
       "...         ...                 ...          ...      ...\n",
       "243791    39603 2008-11-24 14:34:18            0        0\n",
       "243792    12039 2008-11-05 12:33:03            0     3154\n",
       "243793     5619 2008-10-24 22:13:56            0  2342784\n",
       "243794    38265 2008-11-21 23:03:40            0        0\n",
       "243795    10248 2008-12-29 13:05:54            0     5200\n",
       "\n",
       "[243796 rows x 4 columns]"
      ]
     },
     "execution_count": 16,
     "metadata": {},
     "output_type": "execute_result"
    }
   ],
   "source": [
    "df_4"
   ]
  },
  {
   "cell_type": "markdown",
   "metadata": {
    "id": "N0kHRHvIDWK2"
   },
   "source": [
    "# Задание 5"
   ]
  },
  {
   "cell_type": "markdown",
   "metadata": {
    "id": "gBgvmPtODWK2"
   },
   "source": [
    "Найдите среднее количество постов пользователей в день за август 2008 года. Отберите данные о пользователях, которые опубликовали больше 120 постов за август. Дни без публикаций не учитывайте. \n",
    "\n",
    "Отсортируйте результат по возрастанию среднего количества постов. Значения можно не округлять."
   ]
  },
  {
   "cell_type": "markdown",
   "metadata": {
    "id": "nfzR08BODWK3"
   },
   "source": [
    "| user_id | avg_daily |\n",
    "| ------- | --------- |\n",
    "| 116     | 4.777778  |\n",
    "| 234     | 5.208333  |\n",
    "| ...     | ... |"
   ]
  },
  {
   "cell_type": "markdown",
   "metadata": {},
   "source": [
    "Создаем запрос:"
   ]
  },
  {
   "cell_type": "code",
   "execution_count": 17,
   "metadata": {
    "id": "YFyPNz5GDWK3"
   },
   "outputs": [],
   "source": [
    "# напишите запрос\n",
    "query = '''\n",
    "WITH profile AS (\n",
    "SELECT DISTINCT\n",
    "       user_id,\n",
    "       CAST(p.creation_date AS DATE),\n",
    "       COUNT(*) OVER (PARTITION BY user_id, CAST(p.creation_date AS DATE)) AS posts_cnt\n",
    "  FROM stackoverflow.users AS u\n",
    "       JOIN stackoverflow.posts AS p ON u.id = p.user_id\n",
    " WHERE CAST(DATE_TRUNC('MONTH', p.creation_date) AS DATE) = '2008-08-01'\n",
    " )\n",
    "  \n",
    "SELECT user_id,\n",
    "       SUM(posts_cnt) / COUNT(*) AS avg_daily\n",
    "  FROM profile\n",
    " GROUP BY user_id\n",
    "HAVING SUM(posts_cnt) > 120\n",
    " ORDER BY avg_daily\n",
    "'''\n",
    "\n",
    "# выполните запрос\n",
    "df_5 = pd.read_sql_query(query, con=engine)"
   ]
  },
  {
   "cell_type": "code",
   "execution_count": 18,
   "metadata": {},
   "outputs": [
    {
     "data": {
      "text/html": [
       "<div>\n",
       "<style scoped>\n",
       "    .dataframe tbody tr th:only-of-type {\n",
       "        vertical-align: middle;\n",
       "    }\n",
       "\n",
       "    .dataframe tbody tr th {\n",
       "        vertical-align: top;\n",
       "    }\n",
       "\n",
       "    .dataframe thead th {\n",
       "        text-align: right;\n",
       "    }\n",
       "</style>\n",
       "<table border=\"1\" class=\"dataframe\">\n",
       "  <thead>\n",
       "    <tr style=\"text-align: right;\">\n",
       "      <th></th>\n",
       "      <th>user_id</th>\n",
       "      <th>avg_daily</th>\n",
       "    </tr>\n",
       "  </thead>\n",
       "  <tbody>\n",
       "    <tr>\n",
       "      <th>0</th>\n",
       "      <td>116</td>\n",
       "      <td>4.777778</td>\n",
       "    </tr>\n",
       "    <tr>\n",
       "      <th>1</th>\n",
       "      <td>234</td>\n",
       "      <td>5.208333</td>\n",
       "    </tr>\n",
       "    <tr>\n",
       "      <th>2</th>\n",
       "      <td>91</td>\n",
       "      <td>5.681818</td>\n",
       "    </tr>\n",
       "    <tr>\n",
       "      <th>3</th>\n",
       "      <td>905</td>\n",
       "      <td>7.000000</td>\n",
       "    </tr>\n",
       "    <tr>\n",
       "      <th>4</th>\n",
       "      <td>383</td>\n",
       "      <td>7.277778</td>\n",
       "    </tr>\n",
       "  </tbody>\n",
       "</table>\n",
       "</div>"
      ],
      "text/plain": [
       "   user_id  avg_daily\n",
       "0      116   4.777778\n",
       "1      234   5.208333\n",
       "2       91   5.681818\n",
       "3      905   7.000000\n",
       "4      383   7.277778"
      ]
     },
     "execution_count": 18,
     "metadata": {},
     "output_type": "execute_result"
    }
   ],
   "source": [
    "df_5"
   ]
  },
  {
   "cell_type": "markdown",
   "metadata": {
    "id": "5Gs8kiJvDWK4"
   },
   "source": [
    "<details>\n",
    "\n",
    "<summary>Подсказка</summary>\n",
    "Сначала найдите идентификаторы пользователей, которые написали более 120 постов за август. Используя этот запрос в качестве подзапроса для среза, найдите и сохраните во временную таблицу идентификаторы нужных пользователей, дни августа и количество постов в день. В основном запросе сгруппируйте данные по пользователям и найдите для каждого из них среднее количество постов.\n",
    "</details>"
   ]
  },
  {
   "cell_type": "markdown",
   "metadata": {
    "id": "EQ0dcFH4DWK5"
   },
   "source": [
    "# Задание 6"
   ]
  },
  {
   "cell_type": "markdown",
   "metadata": {
    "id": "c7flfg_hDWK5"
   },
   "source": [
    "Сколько в среднем дней в период с 1 по 7 декабря 2008 года пользователи взаимодействовали с платформой? Для каждого пользователя отберите дни, в которые он или она опубликовали хотя бы один пост. Нужно получить одно целое число — не забудьте округлить результат. "
   ]
  },
  {
   "cell_type": "markdown",
   "metadata": {
    "id": "RC1Ibzm9DWK6"
   },
   "source": [
    "| result |\n",
    "| -----  |\n",
    "| <целое число> |"
   ]
  },
  {
   "cell_type": "markdown",
   "metadata": {},
   "source": [
    "Создаем запрос:"
   ]
  },
  {
   "cell_type": "code",
   "execution_count": 19,
   "metadata": {
    "id": "kZ7LXTr6DWK6"
   },
   "outputs": [],
   "source": [
    "# напишите запрос\n",
    "query = '''\n",
    "WITH posted AS (\n",
    "SELECT DISTINCT user_id,\n",
    "       COUNT(*) OVER (PARTITION BY user_id) AS days_cnt\n",
    "  FROM stackoverflow.posts\n",
    " WHERE CAST(creation_date AS DATE) BETWEEN '2008-12-01' AND '2008-12-07'\n",
    " GROUP BY user_id, CAST(creation_date AS DATE)\n",
    " )\n",
    "\n",
    "SELECT CAST(AVG(days_cnt) AS integer) AS result\n",
    "  FROM posted\n",
    "'''\n",
    "\n",
    "# выполните запрос\n",
    "df_6 = pd.read_sql_query(query, con=engine)"
   ]
  },
  {
   "cell_type": "code",
   "execution_count": 20,
   "metadata": {},
   "outputs": [
    {
     "data": {
      "text/html": [
       "<div>\n",
       "<style scoped>\n",
       "    .dataframe tbody tr th:only-of-type {\n",
       "        vertical-align: middle;\n",
       "    }\n",
       "\n",
       "    .dataframe tbody tr th {\n",
       "        vertical-align: top;\n",
       "    }\n",
       "\n",
       "    .dataframe thead th {\n",
       "        text-align: right;\n",
       "    }\n",
       "</style>\n",
       "<table border=\"1\" class=\"dataframe\">\n",
       "  <thead>\n",
       "    <tr style=\"text-align: right;\">\n",
       "      <th></th>\n",
       "      <th>result</th>\n",
       "    </tr>\n",
       "  </thead>\n",
       "  <tbody>\n",
       "    <tr>\n",
       "      <th>0</th>\n",
       "      <td>2</td>\n",
       "    </tr>\n",
       "  </tbody>\n",
       "</table>\n",
       "</div>"
      ],
      "text/plain": [
       "   result\n",
       "0       2"
      ]
     },
     "execution_count": 20,
     "metadata": {},
     "output_type": "execute_result"
    }
   ],
   "source": [
    "df_6"
   ]
  },
  {
   "cell_type": "markdown",
   "metadata": {
    "id": "LfUuYz-1DWK8"
   },
   "source": [
    "На начало декабря в среднем за неделю пользователь публикует 2 поста."
   ]
  },
  {
   "cell_type": "markdown",
   "metadata": {
    "id": "wfOmqmfLDWK8"
   },
   "source": [
    "# Задание 7"
   ]
  },
  {
   "cell_type": "markdown",
   "metadata": {
    "id": "X4ARQimADWK9"
   },
   "source": [
    "Выведите историю активности каждого пользователя в таком виде: идентификатор пользователя, дата публикации поста. Отсортируйте вывод по возрастанию идентификаторов пользователей, а для каждого пользователя — по возрастанию даты публикации.\n",
    "\n",
    "Добавьте в таблицу новое поле: для каждого поста в нём будет указано название месяца предпоследней публикации пользователя относительно текущей. Если такой публикации нет, укажите `NULL`.  Python автоматически поменяет `NULL` на `None`, но дополнительно преобразовывать значения `None` вам не нужно.\n",
    "\n",
    "Посмотрите внимательно на образец таблицы: для первых двух постов предпоследней публикации нет, но, начиная с третьего поста, в новое поле входит нужный месяц. Для следующего пользователя в первые две записи поля `second_last_month` тоже войдёт `NULL`."
   ]
  },
  {
   "cell_type": "markdown",
   "metadata": {
    "id": "IGPjRP01DWK9"
   },
   "source": [
    "| user_id | creation_date | second_last_month |\n",
    "| ------- | ------------- | ----------------- |\n",
    "| 1       | 2008-07-31 23:41:00 | None |\n",
    "| 1       | 2008-07-31 23:55:38 | None |\n",
    "| 1       | 2008-07-31 23:56:41 | July |\n",
    "| 1       | 2008-08-04 02:45:08 | July |\n",
    "| 1       | 2008-08-04 04:31:03 | July |\n",
    "| 1       | 2008-08-04 08:04:42 | August |\n",
    "| ... | ... | ... |"
   ]
  },
  {
   "cell_type": "markdown",
   "metadata": {},
   "source": [
    "Создаем запрос:"
   ]
  },
  {
   "cell_type": "code",
   "execution_count": 21,
   "metadata": {},
   "outputs": [],
   "source": [
    "# напишите запрос\n",
    "query = '''\n",
    "SELECT user_id,\n",
    "       creation_date,\n",
    "       LAG(to_char(creation_date, 'Month'), 2) OVER (PARTITION BY user_id ORDER BY creation_date) AS second_last_month\n",
    "  FROM stackoverflow.posts\n",
    " GROUP BY user_id,\n",
    "          creation_date\n",
    "'''\n",
    "\n",
    "# выполните запрос\n",
    "df_7 = pd.read_sql_query(query, con=engine)"
   ]
  },
  {
   "cell_type": "code",
   "execution_count": 22,
   "metadata": {},
   "outputs": [
    {
     "data": {
      "text/html": [
       "<div>\n",
       "<style scoped>\n",
       "    .dataframe tbody tr th:only-of-type {\n",
       "        vertical-align: middle;\n",
       "    }\n",
       "\n",
       "    .dataframe tbody tr th {\n",
       "        vertical-align: top;\n",
       "    }\n",
       "\n",
       "    .dataframe thead th {\n",
       "        text-align: right;\n",
       "    }\n",
       "</style>\n",
       "<table border=\"1\" class=\"dataframe\">\n",
       "  <thead>\n",
       "    <tr style=\"text-align: right;\">\n",
       "      <th></th>\n",
       "      <th>user_id</th>\n",
       "      <th>creation_date</th>\n",
       "      <th>second_last_month</th>\n",
       "    </tr>\n",
       "  </thead>\n",
       "  <tbody>\n",
       "    <tr>\n",
       "      <th>0</th>\n",
       "      <td>1</td>\n",
       "      <td>2008-07-31 23:41:00</td>\n",
       "      <td>None</td>\n",
       "    </tr>\n",
       "    <tr>\n",
       "      <th>1</th>\n",
       "      <td>1</td>\n",
       "      <td>2008-07-31 23:55:38</td>\n",
       "      <td>None</td>\n",
       "    </tr>\n",
       "    <tr>\n",
       "      <th>2</th>\n",
       "      <td>1</td>\n",
       "      <td>2008-07-31 23:56:41</td>\n",
       "      <td>July</td>\n",
       "    </tr>\n",
       "    <tr>\n",
       "      <th>3</th>\n",
       "      <td>1</td>\n",
       "      <td>2008-08-04 02:45:08</td>\n",
       "      <td>July</td>\n",
       "    </tr>\n",
       "    <tr>\n",
       "      <th>4</th>\n",
       "      <td>1</td>\n",
       "      <td>2008-08-04 04:31:03</td>\n",
       "      <td>July</td>\n",
       "    </tr>\n",
       "    <tr>\n",
       "      <th>...</th>\n",
       "      <td>...</td>\n",
       "      <td>...</td>\n",
       "      <td>...</td>\n",
       "    </tr>\n",
       "    <tr>\n",
       "      <th>243791</th>\n",
       "      <td>5696608</td>\n",
       "      <td>2008-12-23 16:00:37</td>\n",
       "      <td>December</td>\n",
       "    </tr>\n",
       "    <tr>\n",
       "      <th>243792</th>\n",
       "      <td>5696608</td>\n",
       "      <td>2008-12-23 17:35:09</td>\n",
       "      <td>December</td>\n",
       "    </tr>\n",
       "    <tr>\n",
       "      <th>243793</th>\n",
       "      <td>5696608</td>\n",
       "      <td>2008-12-24 01:02:48</td>\n",
       "      <td>December</td>\n",
       "    </tr>\n",
       "    <tr>\n",
       "      <th>243794</th>\n",
       "      <td>5696608</td>\n",
       "      <td>2008-12-30 14:34:45</td>\n",
       "      <td>December</td>\n",
       "    </tr>\n",
       "    <tr>\n",
       "      <th>243795</th>\n",
       "      <td>5696608</td>\n",
       "      <td>2008-12-30 16:32:12</td>\n",
       "      <td>December</td>\n",
       "    </tr>\n",
       "  </tbody>\n",
       "</table>\n",
       "<p>243796 rows × 3 columns</p>\n",
       "</div>"
      ],
      "text/plain": [
       "        user_id       creation_date second_last_month\n",
       "0             1 2008-07-31 23:41:00              None\n",
       "1             1 2008-07-31 23:55:38              None\n",
       "2             1 2008-07-31 23:56:41         July     \n",
       "3             1 2008-08-04 02:45:08         July     \n",
       "4             1 2008-08-04 04:31:03         July     \n",
       "...         ...                 ...               ...\n",
       "243791  5696608 2008-12-23 16:00:37         December \n",
       "243792  5696608 2008-12-23 17:35:09         December \n",
       "243793  5696608 2008-12-24 01:02:48         December \n",
       "243794  5696608 2008-12-30 14:34:45         December \n",
       "243795  5696608 2008-12-30 16:32:12         December \n",
       "\n",
       "[243796 rows x 3 columns]"
      ]
     },
     "execution_count": 22,
     "metadata": {},
     "output_type": "execute_result"
    }
   ],
   "source": [
    "df_7"
   ]
  },
  {
   "cell_type": "markdown",
   "metadata": {
    "id": "tf9qq2yzDWK_"
   },
   "source": [
    "# Задание 8"
   ]
  },
  {
   "cell_type": "markdown",
   "metadata": {
    "id": "gfwLVXBYDWLA"
   },
   "source": [
    "Рассчитайте аналог Retention Rate по месяцам для пользователей StackOverflow. Объедините пользователей в когорты по месяцу их первого поста. Возвращение определяйте по наличию поста в текущем месяце. "
   ]
  },
  {
   "cell_type": "markdown",
   "metadata": {
    "id": "kN2ic39WlKpl"
   },
   "source": [
    "| cohort_dt | session_date | users_cnt | cohort_users_cnt | retention_rate |\n",
    "| --- | --- | --- | --- | --- |\n",
    "| 2008-07-01 00:00:00 | 2008-07-01 00:00:00 | 3 | 3 | 100 |\n",
    "| 2008-07-01 00:00:00 | 2008-08-01 00:00:00 | 2 | 3 | 66,67 |\n",
    "| 2008-07-01 00:00:00 | 2008-09-01 00:00:00 | 1 | 3 | 33,33 |\n",
    "| 2008-07-01 00:00:00 | 2008-10-01 00:00:00 | 2 | 3 | 66,67 |\n",
    "| 2008-07-01 00:00:00 | 2008-11-01 00:00:00 | 1 | 3 | 33,33 |\n",
    "| 2008-07-01 00:00:00 | 2008-12-01 00:00:00 | 2 | 3 | 66,67 |\n",
    "| 2008-08-01 00:00:00 | 2008-08-01 00:00:00 | 2151 | 2151 | 100 |\n",
    "| ... | ... | ... | ... | ... |"
   ]
  },
  {
   "cell_type": "markdown",
   "metadata": {},
   "source": [
    "Создаем запрос:"
   ]
  },
  {
   "cell_type": "code",
   "execution_count": 23,
   "metadata": {
    "id": "LUgFmwmTDWLB"
   },
   "outputs": [],
   "source": [
    "# напишите запрос\n",
    "query = '''\n",
    "WITH profile AS (\n",
    "SELECT user_id,\n",
    "       DATE_TRUNC('MONTH', creation_date) AS session_date,\n",
    "       MIN(DATE_TRUNC('MONTH', creation_date)) OVER (PARTITION BY user_id) AS cohort_dt\n",
    "  FROM stackoverflow.posts\n",
    "  ),\n",
    "    \n",
    "cohort AS (\n",
    "SELECT cohort_dt,\n",
    "       session_date,\n",
    "       COUNT(DISTINCT user_id) AS users_cnt,\n",
    "       FIRST_VALUE(COUNT(DISTINCT user_id)) OVER (PARTITION BY cohort_dt ORDER BY session_date) AS cohort_users_cnt\n",
    "  FROM profile\n",
    " GROUP BY cohort_dt, session_date\n",
    " ORDER BY cohort_dt, session_date\n",
    " )\n",
    "\n",
    "SELECT *,\n",
    "       ROUND(100 * CAST(users_cnt AS numeric) / cohort_users_cnt, 2) AS retention_rate\n",
    " FROM cohort\n",
    "'''\n",
    "\n",
    "# выполните запрос\n",
    "df_8 = pd.read_sql_query(query, con=engine)"
   ]
  },
  {
   "cell_type": "code",
   "execution_count": 24,
   "metadata": {},
   "outputs": [
    {
     "data": {
      "text/html": [
       "<div>\n",
       "<style scoped>\n",
       "    .dataframe tbody tr th:only-of-type {\n",
       "        vertical-align: middle;\n",
       "    }\n",
       "\n",
       "    .dataframe tbody tr th {\n",
       "        vertical-align: top;\n",
       "    }\n",
       "\n",
       "    .dataframe thead th {\n",
       "        text-align: right;\n",
       "    }\n",
       "</style>\n",
       "<table border=\"1\" class=\"dataframe\">\n",
       "  <thead>\n",
       "    <tr style=\"text-align: right;\">\n",
       "      <th></th>\n",
       "      <th>cohort_dt</th>\n",
       "      <th>session_date</th>\n",
       "      <th>users_cnt</th>\n",
       "      <th>cohort_users_cnt</th>\n",
       "      <th>retention_rate</th>\n",
       "    </tr>\n",
       "  </thead>\n",
       "  <tbody>\n",
       "    <tr>\n",
       "      <th>0</th>\n",
       "      <td>2008-07-01</td>\n",
       "      <td>2008-07-01</td>\n",
       "      <td>3</td>\n",
       "      <td>3</td>\n",
       "      <td>100.00</td>\n",
       "    </tr>\n",
       "    <tr>\n",
       "      <th>1</th>\n",
       "      <td>2008-07-01</td>\n",
       "      <td>2008-08-01</td>\n",
       "      <td>2</td>\n",
       "      <td>3</td>\n",
       "      <td>66.67</td>\n",
       "    </tr>\n",
       "    <tr>\n",
       "      <th>2</th>\n",
       "      <td>2008-07-01</td>\n",
       "      <td>2008-09-01</td>\n",
       "      <td>1</td>\n",
       "      <td>3</td>\n",
       "      <td>33.33</td>\n",
       "    </tr>\n",
       "    <tr>\n",
       "      <th>3</th>\n",
       "      <td>2008-07-01</td>\n",
       "      <td>2008-10-01</td>\n",
       "      <td>2</td>\n",
       "      <td>3</td>\n",
       "      <td>66.67</td>\n",
       "    </tr>\n",
       "    <tr>\n",
       "      <th>4</th>\n",
       "      <td>2008-07-01</td>\n",
       "      <td>2008-11-01</td>\n",
       "      <td>1</td>\n",
       "      <td>3</td>\n",
       "      <td>33.33</td>\n",
       "    </tr>\n",
       "    <tr>\n",
       "      <th>5</th>\n",
       "      <td>2008-07-01</td>\n",
       "      <td>2008-12-01</td>\n",
       "      <td>2</td>\n",
       "      <td>3</td>\n",
       "      <td>66.67</td>\n",
       "    </tr>\n",
       "    <tr>\n",
       "      <th>6</th>\n",
       "      <td>2008-08-01</td>\n",
       "      <td>2008-08-01</td>\n",
       "      <td>2151</td>\n",
       "      <td>2151</td>\n",
       "      <td>100.00</td>\n",
       "    </tr>\n",
       "    <tr>\n",
       "      <th>7</th>\n",
       "      <td>2008-08-01</td>\n",
       "      <td>2008-09-01</td>\n",
       "      <td>1571</td>\n",
       "      <td>2151</td>\n",
       "      <td>73.04</td>\n",
       "    </tr>\n",
       "    <tr>\n",
       "      <th>8</th>\n",
       "      <td>2008-08-01</td>\n",
       "      <td>2008-10-01</td>\n",
       "      <td>1275</td>\n",
       "      <td>2151</td>\n",
       "      <td>59.27</td>\n",
       "    </tr>\n",
       "    <tr>\n",
       "      <th>9</th>\n",
       "      <td>2008-08-01</td>\n",
       "      <td>2008-11-01</td>\n",
       "      <td>1050</td>\n",
       "      <td>2151</td>\n",
       "      <td>48.81</td>\n",
       "    </tr>\n",
       "    <tr>\n",
       "      <th>10</th>\n",
       "      <td>2008-08-01</td>\n",
       "      <td>2008-12-01</td>\n",
       "      <td>894</td>\n",
       "      <td>2151</td>\n",
       "      <td>41.56</td>\n",
       "    </tr>\n",
       "    <tr>\n",
       "      <th>11</th>\n",
       "      <td>2008-09-01</td>\n",
       "      <td>2008-09-01</td>\n",
       "      <td>7678</td>\n",
       "      <td>7678</td>\n",
       "      <td>100.00</td>\n",
       "    </tr>\n",
       "    <tr>\n",
       "      <th>12</th>\n",
       "      <td>2008-09-01</td>\n",
       "      <td>2008-10-01</td>\n",
       "      <td>4132</td>\n",
       "      <td>7678</td>\n",
       "      <td>53.82</td>\n",
       "    </tr>\n",
       "    <tr>\n",
       "      <th>13</th>\n",
       "      <td>2008-09-01</td>\n",
       "      <td>2008-11-01</td>\n",
       "      <td>2966</td>\n",
       "      <td>7678</td>\n",
       "      <td>38.63</td>\n",
       "    </tr>\n",
       "    <tr>\n",
       "      <th>14</th>\n",
       "      <td>2008-09-01</td>\n",
       "      <td>2008-12-01</td>\n",
       "      <td>2500</td>\n",
       "      <td>7678</td>\n",
       "      <td>32.56</td>\n",
       "    </tr>\n",
       "    <tr>\n",
       "      <th>15</th>\n",
       "      <td>2008-10-01</td>\n",
       "      <td>2008-10-01</td>\n",
       "      <td>3629</td>\n",
       "      <td>3629</td>\n",
       "      <td>100.00</td>\n",
       "    </tr>\n",
       "    <tr>\n",
       "      <th>16</th>\n",
       "      <td>2008-10-01</td>\n",
       "      <td>2008-11-01</td>\n",
       "      <td>1640</td>\n",
       "      <td>3629</td>\n",
       "      <td>45.19</td>\n",
       "    </tr>\n",
       "    <tr>\n",
       "      <th>17</th>\n",
       "      <td>2008-10-01</td>\n",
       "      <td>2008-12-01</td>\n",
       "      <td>1221</td>\n",
       "      <td>3629</td>\n",
       "      <td>33.65</td>\n",
       "    </tr>\n",
       "    <tr>\n",
       "      <th>18</th>\n",
       "      <td>2008-11-01</td>\n",
       "      <td>2008-11-01</td>\n",
       "      <td>2852</td>\n",
       "      <td>2852</td>\n",
       "      <td>100.00</td>\n",
       "    </tr>\n",
       "    <tr>\n",
       "      <th>19</th>\n",
       "      <td>2008-11-01</td>\n",
       "      <td>2008-12-01</td>\n",
       "      <td>1151</td>\n",
       "      <td>2852</td>\n",
       "      <td>40.36</td>\n",
       "    </tr>\n",
       "    <tr>\n",
       "      <th>20</th>\n",
       "      <td>2008-12-01</td>\n",
       "      <td>2008-12-01</td>\n",
       "      <td>2536</td>\n",
       "      <td>2536</td>\n",
       "      <td>100.00</td>\n",
       "    </tr>\n",
       "  </tbody>\n",
       "</table>\n",
       "</div>"
      ],
      "text/plain": [
       "    cohort_dt session_date  users_cnt  cohort_users_cnt  retention_rate\n",
       "0  2008-07-01   2008-07-01          3                 3          100.00\n",
       "1  2008-07-01   2008-08-01          2                 3           66.67\n",
       "2  2008-07-01   2008-09-01          1                 3           33.33\n",
       "3  2008-07-01   2008-10-01          2                 3           66.67\n",
       "4  2008-07-01   2008-11-01          1                 3           33.33\n",
       "5  2008-07-01   2008-12-01          2                 3           66.67\n",
       "6  2008-08-01   2008-08-01       2151              2151          100.00\n",
       "7  2008-08-01   2008-09-01       1571              2151           73.04\n",
       "8  2008-08-01   2008-10-01       1275              2151           59.27\n",
       "9  2008-08-01   2008-11-01       1050              2151           48.81\n",
       "10 2008-08-01   2008-12-01        894              2151           41.56\n",
       "11 2008-09-01   2008-09-01       7678              7678          100.00\n",
       "12 2008-09-01   2008-10-01       4132              7678           53.82\n",
       "13 2008-09-01   2008-11-01       2966              7678           38.63\n",
       "14 2008-09-01   2008-12-01       2500              7678           32.56\n",
       "15 2008-10-01   2008-10-01       3629              3629          100.00\n",
       "16 2008-10-01   2008-11-01       1640              3629           45.19\n",
       "17 2008-10-01   2008-12-01       1221              3629           33.65\n",
       "18 2008-11-01   2008-11-01       2852              2852          100.00\n",
       "19 2008-11-01   2008-12-01       1151              2852           40.36\n",
       "20 2008-12-01   2008-12-01       2536              2536          100.00"
      ]
     },
     "execution_count": 24,
     "metadata": {},
     "output_type": "execute_result"
    }
   ],
   "source": [
    "df_8"
   ]
  },
  {
   "cell_type": "markdown",
   "metadata": {},
   "source": [
    "Строим тепловую карту Retention Rate:"
   ]
  },
  {
   "cell_type": "code",
   "execution_count": 25,
   "metadata": {
    "id": "qAEJc8H1DWLC"
   },
   "outputs": [
    {
     "name": "stderr",
     "output_type": "stream",
     "text": [
      "C:\\Users\\bond_\\AppData\\Local\\Temp\\ipykernel_29296\\1773228465.py:2: FutureWarning: In a future version of pandas all arguments of DataFrame.pivot will be keyword-only.\n",
      "  retention = df_8.pivot('cohort_dt', 'session_date', 'retention_rate')\n"
     ]
    },
    {
     "data": {
      "image/png": "[encoded data removed]",
      "text/plain": [
       "<Figure size 1000x1000 with 2 Axes>"
      ]
     },
     "metadata": {},
     "output_type": "display_data"
    }
   ],
   "source": [
    "# строим хитмэп\n",
    "retention = df_8.pivot('cohort_dt', 'session_date', 'retention_rate')\n",
    "retention.index = [str(x)[0:10] for x in retention.index]\n",
    "retention.columns = [str(x)[0:10] for x in retention.columns]\n",
    "\n",
    "\n",
    "plt.figure(figsize=(10, 10)) # задаём размер графика\n",
    "sns.heatmap(retention, # датафрейм с данными\n",
    "            annot=True, # добавляем подписи\n",
    "            fmt='',\n",
    "            cmap=\"YlGn\") # задаём исходный формат\n",
    "plt.title('Тепловая карта') # название графика\n",
    "plt.show() "
   ]
  },
  {
   "cell_type": "markdown",
   "metadata": {
    "id": "EgOfIsI4DWLC"
   },
   "source": [
    "В когорте за июль 2008 всего три пользователя - данные по ней не показательны.\n",
    "Для остальных когорт Retention Rate стабильно снижается как от когорты к когорте, так и в течение лайфтайма.\n",
    "Для августовской когорты Retention Rate наибольшее: пользователи, учувствовавшие в тестировании, активней пользуются сервисом — это изначально заинтересованная в сервисе аудитория. С сентября, по окончании тестового периода, происходит формирование \"ядра\" пользователей, отсеивается нецелевая аудитория, о чем свидетельствует снижение Retention Rate. К декабрю, судя по стабилизации количества публикаций и просмотров, \"ядро\" можно считать сформированным."
   ]
  },
  {
   "cell_type": "markdown",
   "metadata": {
    "id": "1k7oPWt5DWLK"
   },
   "source": [
    "# Задание 9\n"
   ]
  },
  {
   "cell_type": "markdown",
   "metadata": {
    "id": "ALsYVSyRDWLM"
   },
   "source": [
    "На сколько процентов менялось количество постов ежемесячно с 1 сентября по 31 декабря 2008 года? Отобразите таблицу со следующими полями:\n",
    "\n",
    "- номер месяца;\n",
    "- количество постов за месяц;\n",
    "- процент, который показывает, насколько изменилось количество постов в текущем месяце по сравнению с предыдущим.\n",
    "\n",
    "Если постов стало меньше, значение процента должно быть отрицательным, если больше — положительным. Округлите значение процента до двух знаков после запятой.\n",
    "\n",
    "Напомним, что при делении одного целого числа на другое в PostgreSQL в результате получится целое число, округлённое до ближайшего целого вниз. Чтобы этого избежать, переведите делимое в тип `numeric`."
   ]
  },
  {
   "cell_type": "markdown",
   "metadata": {
    "id": "u4E2zF8DDWLM"
   },
   "source": [
    "| creation_month | posts_count | percentage |\n",
    "| -------------- | ----------- | ---------- |\n",
    "| 9 | 70731 | Nan |\n",
    "| 10 | 63102 | -10.33 |\n",
    "| ... | ... | ... |"
   ]
  },
  {
   "cell_type": "code",
   "execution_count": 26,
   "metadata": {
    "id": "Mb5pShStDWLN"
   },
   "outputs": [],
   "source": [
    "# напишите запрос\n",
    "query = '''\n",
    "WITH post_distr AS (\n",
    "SELECT CAST(EXTRACT(MONTH FROM creation_date) AS integer) AS creation_month,\n",
    "       COUNT(*) AS posts_count\n",
    "  FROM stackoverflow.posts\n",
    " WHERE CAST(DATE_TRUNC('MONTH', creation_date) AS DATE) BETWEEN '2008-09-01' AND '2008-12-01'\n",
    " GROUP BY EXTRACT(MONTH FROM creation_date)\n",
    " )\n",
    "    \n",
    "SELECT creation_month,\n",
    "       posts_count,\n",
    "       ROUND(100 * (CAST(posts_count AS numeric) / LAG(posts_count) OVER (ORDER BY creation_month) - 1), 2) AS percentage\n",
    "  FROM post_distr\n",
    "'''\n",
    "\n",
    "# выполните запрос\n",
    "df_9 = pd.read_sql_query(query, con=engine)"
   ]
  },
  {
   "cell_type": "code",
   "execution_count": 27,
   "metadata": {},
   "outputs": [
    {
     "data": {
      "text/html": [
       "<div>\n",
       "<style scoped>\n",
       "    .dataframe tbody tr th:only-of-type {\n",
       "        vertical-align: middle;\n",
       "    }\n",
       "\n",
       "    .dataframe tbody tr th {\n",
       "        vertical-align: top;\n",
       "    }\n",
       "\n",
       "    .dataframe thead th {\n",
       "        text-align: right;\n",
       "    }\n",
       "</style>\n",
       "<table border=\"1\" class=\"dataframe\">\n",
       "  <thead>\n",
       "    <tr style=\"text-align: right;\">\n",
       "      <th></th>\n",
       "      <th>creation_month</th>\n",
       "      <th>posts_count</th>\n",
       "      <th>percentage</th>\n",
       "    </tr>\n",
       "  </thead>\n",
       "  <tbody>\n",
       "    <tr>\n",
       "      <th>0</th>\n",
       "      <td>9</td>\n",
       "      <td>70371</td>\n",
       "      <td>NaN</td>\n",
       "    </tr>\n",
       "    <tr>\n",
       "      <th>1</th>\n",
       "      <td>10</td>\n",
       "      <td>63102</td>\n",
       "      <td>-10.33</td>\n",
       "    </tr>\n",
       "    <tr>\n",
       "      <th>2</th>\n",
       "      <td>11</td>\n",
       "      <td>46975</td>\n",
       "      <td>-25.56</td>\n",
       "    </tr>\n",
       "    <tr>\n",
       "      <th>3</th>\n",
       "      <td>12</td>\n",
       "      <td>44592</td>\n",
       "      <td>-5.07</td>\n",
       "    </tr>\n",
       "  </tbody>\n",
       "</table>\n",
       "</div>"
      ],
      "text/plain": [
       "   creation_month  posts_count  percentage\n",
       "0               9        70371         NaN\n",
       "1              10        63102      -10.33\n",
       "2              11        46975      -25.56\n",
       "3              12        44592       -5.07"
      ]
     },
     "execution_count": 27,
     "metadata": {},
     "output_type": "execute_result"
    }
   ],
   "source": [
    "df_9"
   ]
  },
  {
   "cell_type": "markdown",
   "metadata": {
    "id": "9NQE2y_MDWLP"
   },
   "source": [
    "Строим круговую диаграмму с количеством постов по месяцам."
   ]
  },
  {
   "cell_type": "code",
   "execution_count": 28,
   "metadata": {
    "id": "377ABjiVDWLP"
   },
   "outputs": [
    {
     "data": {
      "image/png": "[encoded data removed]",
      "text/plain": [
       "<Figure size 800x600 with 1 Axes>"
      ]
     },
     "metadata": {},
     "output_type": "display_data"
    }
   ],
   "source": [
    "# постройте круговую диаграмму с количеством постов по месяцам\n",
    "plt.figure(figsize = (8,6))\n",
    "plt.pie(df_9['posts_count'], labels=df_9['creation_month'], autopct='%1.1f%%')\n",
    "plt.title(label = 'Наибольшее количество постов - в сентябре')\n",
    "plt.show()"
   ]
  },
  {
   "cell_type": "markdown",
   "metadata": {
    "id": "uw7qMtafDWLP"
   },
   "source": [
    "# Задание 10"
   ]
  },
  {
   "cell_type": "markdown",
   "metadata": {
    "id": "oRBpWKx3DWLQ"
   },
   "source": [
    "Выгрузите данные активности пользователя, который опубликовал больше всего постов за всё время. Выведите данные за октябрь 2008 года в таком виде:\n",
    "\n",
    "- номер недели;\n",
    "- дата и время последнего поста, опубликованного на этой неделе."
   ]
  },
  {
   "cell_type": "markdown",
   "metadata": {
    "id": "XjAWSn_3DWLQ"
   },
   "source": [
    "| week_creation | creation_date |\n",
    "| ------------- | ------------- |\n",
    "| 40 | 2008-10-05 09:00:58 |\n",
    "| 41 | 2008-10-12 21:22:23 |\n",
    "| ... | ... |"
   ]
  },
  {
   "cell_type": "markdown",
   "metadata": {},
   "source": [
    "Создаем запрос:"
   ]
  },
  {
   "cell_type": "code",
   "execution_count": 29,
   "metadata": {},
   "outputs": [],
   "source": [
    "# напишите запрос\n",
    "query = '''\n",
    "WITH post_cnt AS (\n",
    "SELECT user_id,\n",
    "       COUNT(*) AS cnt\n",
    "  FROM stackoverflow.posts\n",
    " GROUP BY user_id\n",
    " ORDER BY cnt DESC\n",
    " LIMIT 1\n",
    " )\n",
    "    \n",
    "SELECT DISTINCT\n",
    "       CAST(EXTRACT(WEEK FROM p.creation_date) AS integer) AS week_creation,\n",
    "       MAX(p.creation_date) OVER (PARTITION BY EXTRACT(WEEK FROM p.creation_date)) AS creation_date\n",
    "  FROM stackoverflow.posts AS p\n",
    "       JOIN post_cnt AS pc ON p.user_id=pc.user_id\n",
    " WHERE CAST(DATE_TRUNC('MONTH', p.creation_date) AS DATE) = '2008-10-01'\n",
    "'''\n",
    "\n",
    "# выполните запрос\n",
    "df_10 = pd.read_sql_query(query, con=engine)"
   ]
  },
  {
   "cell_type": "code",
   "execution_count": 30,
   "metadata": {},
   "outputs": [
    {
     "data": {
      "text/html": [
       "<div>\n",
       "<style scoped>\n",
       "    .dataframe tbody tr th:only-of-type {\n",
       "        vertical-align: middle;\n",
       "    }\n",
       "\n",
       "    .dataframe tbody tr th {\n",
       "        vertical-align: top;\n",
       "    }\n",
       "\n",
       "    .dataframe thead th {\n",
       "        text-align: right;\n",
       "    }\n",
       "</style>\n",
       "<table border=\"1\" class=\"dataframe\">\n",
       "  <thead>\n",
       "    <tr style=\"text-align: right;\">\n",
       "      <th></th>\n",
       "      <th>week_creation</th>\n",
       "      <th>creation_date</th>\n",
       "    </tr>\n",
       "  </thead>\n",
       "  <tbody>\n",
       "    <tr>\n",
       "      <th>0</th>\n",
       "      <td>40</td>\n",
       "      <td>2008-10-05 09:00:58</td>\n",
       "    </tr>\n",
       "    <tr>\n",
       "      <th>1</th>\n",
       "      <td>41</td>\n",
       "      <td>2008-10-12 21:22:23</td>\n",
       "    </tr>\n",
       "    <tr>\n",
       "      <th>2</th>\n",
       "      <td>42</td>\n",
       "      <td>2008-10-19 06:49:30</td>\n",
       "    </tr>\n",
       "    <tr>\n",
       "      <th>3</th>\n",
       "      <td>43</td>\n",
       "      <td>2008-10-26 21:44:36</td>\n",
       "    </tr>\n",
       "    <tr>\n",
       "      <th>4</th>\n",
       "      <td>44</td>\n",
       "      <td>2008-10-31 22:16:01</td>\n",
       "    </tr>\n",
       "  </tbody>\n",
       "</table>\n",
       "</div>"
      ],
      "text/plain": [
       "   week_creation       creation_date\n",
       "0             40 2008-10-05 09:00:58\n",
       "1             41 2008-10-12 21:22:23\n",
       "2             42 2008-10-19 06:49:30\n",
       "3             43 2008-10-26 21:44:36\n",
       "4             44 2008-10-31 22:16:01"
      ]
     },
     "execution_count": 30,
     "metadata": {},
     "output_type": "execute_result"
    }
   ],
   "source": [
    "df_10"
   ]
  }
 ],
 "metadata": {
  "ExecuteTimeLog": [
   {
    "duration": 1323,
    "start_time": "2023-06-11T15:32:42.764Z"
   },
   {
    "duration": 14,
    "start_time": "2023-06-11T15:32:44.505Z"
   },
   {
    "duration": 9070,
    "start_time": "2023-06-11T15:32:45.984Z"
   },
   {
    "duration": 37,
    "start_time": "2023-06-11T15:32:55.056Z"
   },
   {
    "duration": 14,
    "start_time": "2023-06-11T15:32:55.095Z"
   },
   {
    "duration": 3,
    "start_time": "2023-06-11T15:35:44.784Z"
   },
   {
    "duration": 214,
    "start_time": "2023-06-11T15:36:03.384Z"
   },
   {
    "duration": 99,
    "start_time": "2023-06-11T15:37:19.784Z"
   },
   {
    "duration": 124,
    "start_time": "2023-06-11T15:37:40.055Z"
   },
   {
    "duration": 224,
    "start_time": "2023-06-11T15:38:05.604Z"
   },
   {
    "duration": 877,
    "start_time": "2023-06-11T15:38:33.634Z"
   },
   {
    "duration": 94,
    "start_time": "2023-06-11T15:38:43.524Z"
   },
   {
    "duration": 1675,
    "start_time": "2023-06-11T15:38:59.855Z"
   },
   {
    "duration": 11,
    "start_time": "2023-06-11T15:39:17.174Z"
   },
   {
    "duration": 834,
    "start_time": "2023-06-11T15:40:01.144Z"
   },
   {
    "duration": 7,
    "start_time": "2023-06-11T15:40:01.981Z"
   },
   {
    "duration": 115,
    "start_time": "2023-06-11T15:40:22.696Z"
   },
   {
    "duration": 12,
    "start_time": "2023-06-11T15:40:23.260Z"
   },
   {
    "duration": 226,
    "start_time": "2023-06-11T15:40:29.115Z"
   },
   {
    "duration": 7,
    "start_time": "2023-06-11T15:40:30.935Z"
   },
   {
    "duration": 218,
    "start_time": "2023-06-11T15:42:55.315Z"
   },
   {
    "duration": 7,
    "start_time": "2023-06-11T15:42:56.115Z"
   },
   {
    "duration": 215,
    "start_time": "2023-06-11T15:43:57.875Z"
   },
   {
    "duration": 10,
    "start_time": "2023-06-11T15:43:58.145Z"
   },
   {
    "duration": 220,
    "start_time": "2023-06-11T15:44:03.325Z"
   },
   {
    "duration": 8,
    "start_time": "2023-06-11T15:44:03.746Z"
   },
   {
    "duration": 215,
    "start_time": "2023-06-11T15:44:48.997Z"
   },
   {
    "duration": 8,
    "start_time": "2023-06-11T15:44:49.286Z"
   },
   {
    "duration": 272,
    "start_time": "2023-06-11T15:45:37.714Z"
   },
   {
    "duration": 136,
    "start_time": "2023-06-11T15:48:49.005Z"
   },
   {
    "duration": 11,
    "start_time": "2023-06-11T15:48:59.344Z"
   },
   {
    "duration": 9,
    "start_time": "2023-06-11T15:51:21.896Z"
   },
   {
    "duration": 6,
    "start_time": "2023-06-11T15:52:03.376Z"
   },
   {
    "duration": 6,
    "start_time": "2023-06-11T15:55:12.218Z"
   },
   {
    "duration": 6,
    "start_time": "2023-06-11T15:57:48.965Z"
   },
   {
    "duration": 6,
    "start_time": "2023-06-11T15:58:46.345Z"
   },
   {
    "duration": 6,
    "start_time": "2023-06-11T15:59:06.055Z"
   },
   {
    "duration": 161,
    "start_time": "2023-06-11T16:00:25.517Z"
   },
   {
    "duration": 7,
    "start_time": "2023-06-11T16:00:26.365Z"
   },
   {
    "duration": 214,
    "start_time": "2023-06-11T16:01:25.235Z"
   },
   {
    "duration": 217,
    "start_time": "2023-06-11T16:02:40.375Z"
   },
   {
    "duration": 1244,
    "start_time": "2023-06-11T16:04:38.495Z"
   },
   {
    "duration": 12,
    "start_time": "2023-06-11T16:04:45.535Z"
   },
   {
    "duration": 10,
    "start_time": "2023-06-11T16:06:40.315Z"
   },
   {
    "duration": 56,
    "start_time": "2023-06-11T16:06:41.965Z"
   },
   {
    "duration": 8,
    "start_time": "2023-06-11T16:06:42.595Z"
   },
   {
    "duration": 30,
    "start_time": "2023-06-11T16:07:55.815Z"
   },
   {
    "duration": 8,
    "start_time": "2023-06-11T16:07:56.205Z"
   },
   {
    "duration": 1202,
    "start_time": "2023-06-11T16:10:20.446Z"
   },
   {
    "duration": 11,
    "start_time": "2023-06-11T16:10:22.574Z"
   },
   {
    "duration": 394,
    "start_time": "2023-06-11T16:12:01.496Z"
   },
   {
    "duration": 12,
    "start_time": "2023-06-11T16:12:01.905Z"
   },
   {
    "duration": 400,
    "start_time": "2023-06-11T16:12:55.425Z"
   },
   {
    "duration": 398,
    "start_time": "2023-06-11T16:14:03.736Z"
   },
   {
    "duration": 67,
    "start_time": "2023-06-11T16:17:03.025Z"
   },
   {
    "duration": 8,
    "start_time": "2023-06-11T16:17:03.695Z"
   },
   {
    "duration": 94,
    "start_time": "2023-06-11T16:17:59.095Z"
   },
   {
    "duration": 106,
    "start_time": "2023-06-11T16:18:58.517Z"
   },
   {
    "duration": 108,
    "start_time": "2023-06-11T16:19:15.896Z"
   },
   {
    "duration": 8,
    "start_time": "2023-06-11T16:19:16.316Z"
   },
   {
    "duration": 1261,
    "start_time": "2023-06-11T16:19:36.796Z"
   },
   {
    "duration": 5,
    "start_time": "2023-06-11T16:19:38.059Z"
   },
   {
    "duration": 7963,
    "start_time": "2023-06-11T16:19:38.066Z"
   },
   {
    "duration": 76,
    "start_time": "2023-06-11T16:19:46.032Z"
   },
   {
    "duration": 16,
    "start_time": "2023-06-11T16:19:46.109Z"
   },
   {
    "duration": 214,
    "start_time": "2023-06-11T16:19:46.126Z"
   },
   {
    "duration": 7,
    "start_time": "2023-06-11T16:19:46.342Z"
   },
   {
    "duration": 252,
    "start_time": "2023-06-11T16:19:46.351Z"
   },
   {
    "duration": 132,
    "start_time": "2023-06-11T16:19:46.605Z"
   },
   {
    "duration": 10,
    "start_time": "2023-06-11T16:19:46.740Z"
   },
   {
    "duration": 8,
    "start_time": "2023-06-11T16:19:46.752Z"
   },
   {
    "duration": 75,
    "start_time": "2023-06-11T16:19:46.762Z"
   },
   {
    "duration": 0,
    "start_time": "2023-06-11T16:19:46.839Z"
   },
   {
    "duration": 0,
    "start_time": "2023-06-11T16:19:46.841Z"
   },
   {
    "duration": 0,
    "start_time": "2023-06-11T16:19:46.842Z"
   },
   {
    "duration": 0,
    "start_time": "2023-06-11T16:19:46.843Z"
   },
   {
    "duration": 0,
    "start_time": "2023-06-11T16:19:46.845Z"
   },
   {
    "duration": 0,
    "start_time": "2023-06-11T16:19:46.846Z"
   },
   {
    "duration": 0,
    "start_time": "2023-06-11T16:19:46.847Z"
   },
   {
    "duration": 0,
    "start_time": "2023-06-11T16:19:46.848Z"
   },
   {
    "duration": 0,
    "start_time": "2023-06-11T16:19:46.849Z"
   },
   {
    "duration": 0,
    "start_time": "2023-06-11T16:19:46.850Z"
   },
   {
    "duration": 0,
    "start_time": "2023-06-11T16:19:46.851Z"
   },
   {
    "duration": 0,
    "start_time": "2023-06-11T16:19:46.852Z"
   },
   {
    "duration": 0,
    "start_time": "2023-06-11T16:19:46.853Z"
   },
   {
    "duration": 0,
    "start_time": "2023-06-11T16:19:46.853Z"
   },
   {
    "duration": 0,
    "start_time": "2023-06-11T16:19:46.854Z"
   },
   {
    "duration": 0,
    "start_time": "2023-06-11T16:19:46.855Z"
   },
   {
    "duration": 0,
    "start_time": "2023-06-11T16:19:46.857Z"
   },
   {
    "duration": 0,
    "start_time": "2023-06-11T16:19:46.858Z"
   },
   {
    "duration": 0,
    "start_time": "2023-06-11T16:19:46.859Z"
   },
   {
    "duration": 1306,
    "start_time": "2023-06-11T16:20:07.816Z"
   },
   {
    "duration": 4,
    "start_time": "2023-06-11T16:20:09.124Z"
   },
   {
    "duration": 7972,
    "start_time": "2023-06-11T16:20:09.129Z"
   },
   {
    "duration": 37,
    "start_time": "2023-06-11T16:20:17.103Z"
   },
   {
    "duration": 16,
    "start_time": "2023-06-11T16:20:17.142Z"
   },
   {
    "duration": 227,
    "start_time": "2023-06-11T16:20:17.160Z"
   },
   {
    "duration": 7,
    "start_time": "2023-06-11T16:20:17.389Z"
   },
   {
    "duration": 277,
    "start_time": "2023-06-11T16:20:17.398Z"
   },
   {
    "duration": 134,
    "start_time": "2023-06-11T16:20:17.677Z"
   },
   {
    "duration": 10,
    "start_time": "2023-06-11T16:20:17.814Z"
   },
   {
    "duration": 21,
    "start_time": "2023-06-11T16:20:17.826Z"
   },
   {
    "duration": 165,
    "start_time": "2023-06-11T16:20:17.849Z"
   },
   {
    "duration": 6,
    "start_time": "2023-06-11T16:20:18.016Z"
   },
   {
    "duration": 230,
    "start_time": "2023-06-11T16:20:18.024Z"
   },
   {
    "duration": 1514,
    "start_time": "2023-06-11T16:20:18.256Z"
   },
   {
    "duration": 12,
    "start_time": "2023-06-11T16:20:19.772Z"
   },
   {
    "duration": 70,
    "start_time": "2023-06-11T16:20:19.785Z"
   },
   {
    "duration": 7,
    "start_time": "2023-06-11T16:20:19.857Z"
   },
   {
    "duration": 33,
    "start_time": "2023-06-11T16:20:19.866Z"
   },
   {
    "duration": 6,
    "start_time": "2023-06-11T16:20:19.900Z"
   },
   {
    "duration": 1335,
    "start_time": "2023-06-11T16:20:19.907Z"
   },
   {
    "duration": 17,
    "start_time": "2023-06-11T16:20:21.244Z"
   },
   {
    "duration": 392,
    "start_time": "2023-06-11T16:20:21.263Z"
   },
   {
    "duration": 14,
    "start_time": "2023-06-11T16:20:21.659Z"
   },
   {
    "duration": 381,
    "start_time": "2023-06-11T16:20:21.675Z"
   },
   {
    "duration": 69,
    "start_time": "2023-06-11T16:20:22.058Z"
   },
   {
    "duration": 7,
    "start_time": "2023-06-11T16:20:22.129Z"
   },
   {
    "duration": 105,
    "start_time": "2023-06-11T16:20:22.140Z"
   },
   {
    "duration": 107,
    "start_time": "2023-06-11T16:20:22.247Z"
   },
   {
    "duration": 6,
    "start_time": "2023-06-11T16:20:22.356Z"
   },
   {
    "duration": 1495,
    "start_time": "2023-06-11T20:58:39.719Z"
   },
   {
    "duration": 9,
    "start_time": "2023-06-11T20:58:41.216Z"
   },
   {
    "duration": 14902,
    "start_time": "2023-06-11T20:58:41.227Z"
   },
   {
    "duration": 397,
    "start_time": "2023-06-11T20:58:56.132Z"
   },
   {
    "duration": 20,
    "start_time": "2023-06-11T20:58:56.536Z"
   },
   {
    "duration": 297,
    "start_time": "2023-06-11T20:58:56.558Z"
   },
   {
    "duration": 8,
    "start_time": "2023-06-11T20:58:56.857Z"
   },
   {
    "duration": 416,
    "start_time": "2023-06-11T20:58:56.867Z"
   },
   {
    "duration": 182,
    "start_time": "2023-06-11T20:58:57.292Z"
   },
   {
    "duration": 19,
    "start_time": "2023-06-11T20:58:57.475Z"
   },
   {
    "duration": 60,
    "start_time": "2023-06-11T20:58:57.496Z"
   },
   {
    "duration": 197,
    "start_time": "2023-06-11T20:58:57.558Z"
   },
   {
    "duration": 9,
    "start_time": "2023-06-11T20:58:57.756Z"
   },
   {
    "duration": 257,
    "start_time": "2023-06-11T20:58:57.769Z"
   },
   {
    "duration": 1715,
    "start_time": "2023-06-11T20:58:58.027Z"
   },
   {
    "duration": 15,
    "start_time": "2023-06-11T20:58:59.744Z"
   },
   {
    "duration": 94,
    "start_time": "2023-06-11T20:58:59.762Z"
   },
   {
    "duration": 8,
    "start_time": "2023-06-11T20:58:59.858Z"
   },
   {
    "duration": 94,
    "start_time": "2023-06-11T20:58:59.868Z"
   },
   {
    "duration": 6,
    "start_time": "2023-06-11T20:58:59.964Z"
   },
   {
    "duration": 1459,
    "start_time": "2023-06-11T20:58:59.972Z"
   },
   {
    "duration": 22,
    "start_time": "2023-06-11T20:59:01.440Z"
   },
   {
    "duration": 505,
    "start_time": "2023-06-11T20:59:01.465Z"
   },
   {
    "duration": 22,
    "start_time": "2023-06-11T20:59:01.972Z"
   },
   {
    "duration": 683,
    "start_time": "2023-06-11T20:59:01.995Z"
   },
   {
    "duration": 131,
    "start_time": "2023-06-11T20:59:02.680Z"
   },
   {
    "duration": 17,
    "start_time": "2023-06-11T20:59:02.813Z"
   },
   {
    "duration": 148,
    "start_time": "2023-06-11T20:59:02.835Z"
   },
   {
    "duration": 162,
    "start_time": "2023-06-11T20:59:02.993Z"
   },
   {
    "duration": 8,
    "start_time": "2023-06-11T20:59:03.157Z"
   },
   {
    "duration": 3,
    "start_time": "2023-06-12T14:01:35.938Z"
   },
   {
    "duration": 4,
    "start_time": "2023-06-12T14:01:36.382Z"
   },
   {
    "duration": 4,
    "start_time": "2023-06-12T14:01:37.451Z"
   },
   {
    "duration": 45,
    "start_time": "2023-06-12T14:01:37.902Z"
   },
   {
    "duration": 11,
    "start_time": "2023-06-12T14:01:38.092Z"
   },
   {
    "duration": 67,
    "start_time": "2023-06-12T14:01:41.012Z"
   },
   {
    "duration": 8,
    "start_time": "2023-06-12T14:01:47.691Z"
   },
   {
    "duration": 65,
    "start_time": "2023-06-12T14:02:13.342Z"
   },
   {
    "duration": 8,
    "start_time": "2023-06-12T14:02:13.961Z"
   },
   {
    "duration": 8,
    "start_time": "2023-06-12T14:02:20.871Z"
   },
   {
    "duration": 5,
    "start_time": "2023-06-12T14:07:10.291Z"
   },
   {
    "duration": 381,
    "start_time": "2023-06-12T14:08:35.092Z"
   },
   {
    "duration": 1288,
    "start_time": "2023-06-12T14:08:48.740Z"
   },
   {
    "duration": 10,
    "start_time": "2023-06-12T14:08:50.030Z"
   },
   {
    "duration": 222,
    "start_time": "2023-06-12T14:09:31.832Z"
   },
   {
    "duration": 104,
    "start_time": "2023-06-12T14:10:00.761Z"
   },
   {
    "duration": 1266,
    "start_time": "2023-06-12T14:10:24.942Z"
   },
   {
    "duration": 16,
    "start_time": "2023-06-12T14:10:27.042Z"
   },
   {
    "duration": 1334,
    "start_time": "2023-06-12T14:12:06.472Z"
   },
   {
    "duration": 15,
    "start_time": "2023-06-12T14:12:08.422Z"
   },
   {
    "duration": 1057,
    "start_time": "2023-06-12T14:12:30.642Z"
   },
   {
    "duration": 11,
    "start_time": "2023-06-12T14:12:31.701Z"
   },
   {
    "duration": 3688,
    "start_time": "2023-06-12T14:12:48.862Z"
   },
   {
    "duration": 11,
    "start_time": "2023-06-12T14:12:52.555Z"
   },
   {
    "duration": 67,
    "start_time": "2023-06-12T14:15:04.022Z"
   },
   {
    "duration": 9,
    "start_time": "2023-06-12T14:15:05.141Z"
   },
   {
    "duration": 66,
    "start_time": "2023-06-12T14:15:13.892Z"
   },
   {
    "duration": 9,
    "start_time": "2023-06-12T14:15:14.381Z"
   },
   {
    "duration": 67,
    "start_time": "2023-06-12T14:15:20.301Z"
   },
   {
    "duration": 7,
    "start_time": "2023-06-12T14:15:21.002Z"
   },
   {
    "duration": 67,
    "start_time": "2023-06-12T14:15:55.042Z"
   },
   {
    "duration": 7,
    "start_time": "2023-06-12T14:15:55.312Z"
   },
   {
    "duration": 67,
    "start_time": "2023-06-12T14:16:04.936Z"
   },
   {
    "duration": 9,
    "start_time": "2023-06-12T14:16:05.441Z"
   },
   {
    "duration": 66,
    "start_time": "2023-06-12T14:16:09.651Z"
   },
   {
    "duration": 7,
    "start_time": "2023-06-12T14:16:09.952Z"
   },
   {
    "duration": 65,
    "start_time": "2023-06-12T14:19:45.751Z"
   },
   {
    "duration": 63,
    "start_time": "2023-06-12T14:19:46.721Z"
   },
   {
    "duration": 7,
    "start_time": "2023-06-12T14:19:47.891Z"
   },
   {
    "duration": 99,
    "start_time": "2023-06-12T14:20:50.611Z"
   },
   {
    "duration": 8,
    "start_time": "2023-06-12T14:20:59.501Z"
   },
   {
    "duration": 104,
    "start_time": "2023-06-12T14:21:44.842Z"
   },
   {
    "duration": 1413,
    "start_time": "2023-06-12T14:21:57.743Z"
   },
   {
    "duration": 3,
    "start_time": "2023-06-12T14:21:59.158Z"
   },
   {
    "duration": 8158,
    "start_time": "2023-06-12T14:21:59.163Z"
   },
   {
    "duration": 50,
    "start_time": "2023-06-12T14:22:07.323Z"
   },
   {
    "duration": 16,
    "start_time": "2023-06-12T14:22:07.376Z"
   },
   {
    "duration": 67,
    "start_time": "2023-06-12T14:22:07.394Z"
   },
   {
    "duration": 7,
    "start_time": "2023-06-12T14:22:07.463Z"
   },
   {
    "duration": 256,
    "start_time": "2023-06-12T14:22:07.472Z"
   },
   {
    "duration": 136,
    "start_time": "2023-06-12T14:22:07.731Z"
   },
   {
    "duration": 10,
    "start_time": "2023-06-12T14:22:07.869Z"
   },
   {
    "duration": 13,
    "start_time": "2023-06-12T14:22:07.880Z"
   },
   {
    "duration": 168,
    "start_time": "2023-06-12T14:22:07.895Z"
   },
   {
    "duration": 7,
    "start_time": "2023-06-12T14:22:08.065Z"
   },
   {
    "duration": 217,
    "start_time": "2023-06-12T14:22:08.074Z"
   },
   {
    "duration": 1424,
    "start_time": "2023-06-12T14:22:08.293Z"
   },
   {
    "duration": 12,
    "start_time": "2023-06-12T14:22:09.718Z"
   },
   {
    "duration": 55,
    "start_time": "2023-06-12T14:22:09.731Z"
   },
   {
    "duration": 7,
    "start_time": "2023-06-12T14:22:09.788Z"
   },
   {
    "duration": 31,
    "start_time": "2023-06-12T14:22:09.797Z"
   },
   {
    "duration": 5,
    "start_time": "2023-06-12T14:22:09.830Z"
   },
   {
    "duration": 1281,
    "start_time": "2023-06-12T14:22:09.837Z"
   },
   {
    "duration": 14,
    "start_time": "2023-06-12T14:22:11.120Z"
   },
   {
    "duration": 392,
    "start_time": "2023-06-12T14:22:11.136Z"
   },
   {
    "duration": 12,
    "start_time": "2023-06-12T14:22:11.530Z"
   },
   {
    "duration": 398,
    "start_time": "2023-06-12T14:22:11.544Z"
   },
   {
    "duration": 68,
    "start_time": "2023-06-12T14:22:11.944Z"
   },
   {
    "duration": 7,
    "start_time": "2023-06-12T14:22:12.014Z"
   },
   {
    "duration": 93,
    "start_time": "2023-06-12T14:22:12.023Z"
   },
   {
    "duration": 97,
    "start_time": "2023-06-12T14:22:12.118Z"
   },
   {
    "duration": 6,
    "start_time": "2023-06-12T14:22:12.217Z"
   },
   {
    "duration": 194,
    "start_time": "2023-06-12T14:24:21.193Z"
   },
   {
    "duration": 94,
    "start_time": "2023-06-12T14:24:28.022Z"
   },
   {
    "duration": 67,
    "start_time": "2023-06-12T14:24:31.453Z"
   },
   {
    "duration": 7,
    "start_time": "2023-06-12T14:24:33.503Z"
   },
   {
    "duration": 1273,
    "start_time": "2023-06-12T14:28:36.194Z"
   },
   {
    "duration": 3,
    "start_time": "2023-06-12T14:28:37.470Z"
   },
   {
    "duration": 7915,
    "start_time": "2023-06-12T14:28:37.475Z"
   },
   {
    "duration": 38,
    "start_time": "2023-06-12T14:28:45.392Z"
   },
   {
    "duration": 14,
    "start_time": "2023-06-12T14:28:45.432Z"
   },
   {
    "duration": 87,
    "start_time": "2023-06-12T14:28:45.448Z"
   },
   {
    "duration": 9,
    "start_time": "2023-06-12T14:28:45.537Z"
   },
   {
    "duration": 259,
    "start_time": "2023-06-12T14:28:45.548Z"
   },
   {
    "duration": 135,
    "start_time": "2023-06-12T14:28:45.809Z"
   },
   {
    "duration": 9,
    "start_time": "2023-06-12T14:28:45.946Z"
   },
   {
    "duration": 8,
    "start_time": "2023-06-12T14:28:45.957Z"
   },
   {
    "duration": 164,
    "start_time": "2023-06-12T14:28:45.967Z"
   },
   {
    "duration": 7,
    "start_time": "2023-06-12T14:28:46.133Z"
   },
   {
    "duration": 205,
    "start_time": "2023-06-12T14:28:46.141Z"
   },
   {
    "duration": 1380,
    "start_time": "2023-06-12T14:28:46.355Z"
   },
   {
    "duration": 20,
    "start_time": "2023-06-12T14:28:47.737Z"
   },
   {
    "duration": 54,
    "start_time": "2023-06-12T14:28:47.759Z"
   },
   {
    "duration": 10,
    "start_time": "2023-06-12T14:28:47.815Z"
   },
   {
    "duration": 39,
    "start_time": "2023-06-12T14:28:47.827Z"
   },
   {
    "duration": 7,
    "start_time": "2023-06-12T14:28:47.868Z"
   },
   {
    "duration": 1399,
    "start_time": "2023-06-12T14:28:47.877Z"
   },
   {
    "duration": 13,
    "start_time": "2023-06-12T14:28:49.277Z"
   },
   {
    "duration": 381,
    "start_time": "2023-06-12T14:28:49.293Z"
   },
   {
    "duration": 11,
    "start_time": "2023-06-12T14:28:49.676Z"
   },
   {
    "duration": 370,
    "start_time": "2023-06-12T14:28:49.689Z"
   },
   {
    "duration": 68,
    "start_time": "2023-06-12T14:28:50.062Z"
   },
   {
    "duration": 8,
    "start_time": "2023-06-12T14:28:50.132Z"
   },
   {
    "duration": 101,
    "start_time": "2023-06-12T14:28:50.143Z"
   },
   {
    "duration": 99,
    "start_time": "2023-06-12T14:28:50.245Z"
   },
   {
    "duration": 7,
    "start_time": "2023-06-12T14:28:50.345Z"
   },
   {
    "duration": 1347,
    "start_time": "2023-06-12T14:29:23.152Z"
   },
   {
    "duration": 4,
    "start_time": "2023-06-12T14:29:24.501Z"
   },
   {
    "duration": 7937,
    "start_time": "2023-06-12T14:29:24.506Z"
   },
   {
    "duration": 36,
    "start_time": "2023-06-12T14:29:32.446Z"
   },
   {
    "duration": 16,
    "start_time": "2023-06-12T14:29:32.484Z"
   },
   {
    "duration": 66,
    "start_time": "2023-06-12T14:29:32.502Z"
   },
   {
    "duration": 7,
    "start_time": "2023-06-12T14:29:32.570Z"
   },
   {
    "duration": 243,
    "start_time": "2023-06-12T14:29:32.579Z"
   },
   {
    "duration": 136,
    "start_time": "2023-06-12T14:29:32.824Z"
   },
   {
    "duration": 10,
    "start_time": "2023-06-12T14:29:32.963Z"
   },
   {
    "duration": 23,
    "start_time": "2023-06-12T14:29:32.975Z"
   },
   {
    "duration": 157,
    "start_time": "2023-06-12T14:29:32.999Z"
   },
   {
    "duration": 7,
    "start_time": "2023-06-12T14:29:33.158Z"
   },
   {
    "duration": 227,
    "start_time": "2023-06-12T14:29:33.166Z"
   },
   {
    "duration": 1373,
    "start_time": "2023-06-12T14:29:33.395Z"
   },
   {
    "duration": 12,
    "start_time": "2023-06-12T14:29:34.770Z"
   },
   {
    "duration": 60,
    "start_time": "2023-06-12T14:29:34.784Z"
   },
   {
    "duration": 7,
    "start_time": "2023-06-12T14:29:34.846Z"
   },
   {
    "duration": 37,
    "start_time": "2023-06-12T14:29:34.854Z"
   },
   {
    "duration": 6,
    "start_time": "2023-06-12T14:29:34.893Z"
   },
   {
    "duration": 1279,
    "start_time": "2023-06-12T14:29:34.901Z"
   },
   {
    "duration": 11,
    "start_time": "2023-06-12T14:29:36.182Z"
   },
   {
    "duration": 390,
    "start_time": "2023-06-12T14:29:36.195Z"
   },
   {
    "duration": 12,
    "start_time": "2023-06-12T14:29:36.587Z"
   },
   {
    "duration": 373,
    "start_time": "2023-06-12T14:29:36.601Z"
   },
   {
    "duration": 66,
    "start_time": "2023-06-12T14:29:36.976Z"
   },
   {
    "duration": 7,
    "start_time": "2023-06-12T14:29:37.044Z"
   },
   {
    "duration": 88,
    "start_time": "2023-06-12T14:29:37.053Z"
   },
   {
    "duration": 105,
    "start_time": "2023-06-12T14:29:37.143Z"
   },
   {
    "duration": 7,
    "start_time": "2023-06-12T14:29:37.250Z"
   }
  ],
  "colab": {
   "provenance": []
  },
  "kernelspec": {
   "display_name": "Python 3 (ipykernel)",
   "language": "python",
   "name": "python3"
  },
  "language_info": {
   "codemirror_mode": {
    "name": "ipython",
    "version": 3
   },
   "file_extension": ".py",
   "mimetype": "text/x-python",
   "name": "python",
   "nbconvert_exporter": "python",
   "pygments_lexer": "ipython3",
   "version": "3.11.4"
  },
  "toc": {
   "base_numbering": 1,
   "nav_menu": {},
   "number_sections": false,
   "sideBar": true,
   "skip_h1_title": false,
   "title_cell": "Table of Contents",
   "title_sidebar": "Contents",
   "toc_cell": false,
   "toc_position": {
    "height": "calc(100% - 180px)",
    "left": "10px",
    "top": "150px",
    "width": "256.264px"
   },
   "toc_section_display": true,
   "toc_window_display": true
  }
 },
 "nbformat": 4,
 "nbformat_minor": 1
}
