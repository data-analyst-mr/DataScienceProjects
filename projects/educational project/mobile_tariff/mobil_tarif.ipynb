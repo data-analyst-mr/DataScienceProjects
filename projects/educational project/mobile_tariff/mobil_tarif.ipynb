{
 "cells": [
  {
   "cell_type": "markdown",
   "metadata": {},
   "source": [
    "# Модель подбора оптимального тарифа"
   ]
  },
  {
   "cell_type": "markdown",
   "metadata": {},
   "source": [
    "**Содержание:**   \n",
    "<a id=\"start\"></a>\n",
    "1. [Загрузка данных и общая информация](#section_1)  \n",
    "\n",
    "2. [Исследовательский анализ данных](#section_2)  \n",
    "\n",
    "3. [Разделение данных на выборки](#section_3)   \n",
    "    \n",
    "4. [Исследование моделей](#section_4)  \n",
    " 4.1. [Функции построения моделей](#section_4_1)  \n",
    " 4.2. [Модель LogisticRegression](#section_4_2)  \n",
    " 4.3. [Модель DecisionTreeClassifier](#section_4_3)  \n",
    " 4.4. [Модель RandomForestClassifier](#section_4_4)  \n",
    " 4.5. [Модель CatBoostClassifier](#section_4_5)\n",
    " \n",
    "5. [Тестирование лучшей модели](#section_5)  \n",
    "    \n",
    "6. [Общий вывод](#section_6)  "
   ]
  },
  {
   "cell_type": "markdown",
   "metadata": {},
   "source": [
    "**Заказчик исследования:** оператор мобильной связи.\n",
    "\n",
    "**Цель исследования:** создание модели прогнозирования, способной по поведению пользователя определить максимально подходящий ему тариф: «Смарт» или «Ультра».\n",
    "\n",
    "**Требования к модели:**  метрика accuracy не должна быть менее 0.75.\n",
    "\n",
    "**Описание данных**\n",
    "\n",
    "Исходные данные содержатся в следующих файле \"users_behavior.csv\":\n",
    " - \"сalls\" — количество звонков,\n",
    " - \"minutes\" — суммарная длительность звонков в минутах,\n",
    " - \"messages\" — количество sms-сообщений,\n",
    " - \"mb_used\" — израсходованный интернет-трафик в Мб,\n",
    " - \"is_ultra\" — каким тарифом пользовался в течение месяца («Ультра» — 1, «Смарт» — 0).  \n",
    " \n",
    "Целевой признак - is_ultra;  \n",
    "Исходные данные уже предобработаны.  "
   ]
  },
  {
   "cell_type": "markdown",
   "metadata": {},
   "source": [
    "## Загрузка данных и общая информация\n",
    "<a id=\"section_1\"></a>"
   ]
  },
  {
   "cell_type": "markdown",
   "metadata": {},
   "source": [
    "**Импорт библиотек**"
   ]
  },
  {
   "cell_type": "code",
   "execution_count": 1,
   "metadata": {},
   "outputs": [],
   "source": [
    "import math\n",
    "import timeit\n",
    "\n",
    "import matplotlib.pyplot as plt\n",
    "import numpy as np\n",
    "import optuna\n",
    "import pandas as pd\n",
    "import seaborn as sns\n",
    "import warnings\n",
    "\n",
    "from catboost import CatBoostClassifier\n",
    "from imblearn.pipeline import Pipeline, make_pipeline\n",
    "from numpy import sqrt\n",
    "from numpy import argmax\n",
    "from optuna.distributions import IntDistribution as intd\n",
    "from optuna.integration import OptunaSearchCV\n",
    "from sklearn.base import BaseEstimator, TransformerMixin\n",
    "from sklearn.dummy import DummyClassifier\n",
    "from sklearn.ensemble import RandomForestClassifier\n",
    "from sklearn.linear_model import LogisticRegression \n",
    "from sklearn.metrics import confusion_matrix, ConfusionMatrixDisplay, f1_score, recall_score\n",
    "from sklearn.metrics import roc_auc_score, roc_curve, accuracy_score\n",
    "from sklearn.model_selection import train_test_split\n",
    "from sklearn.preprocessing import StandardScaler\n",
    "from sklearn.tree import DecisionTreeClassifier"
   ]
  },
  {
   "cell_type": "markdown",
   "metadata": {},
   "source": [
    "Создаем датафрейм:"
   ]
  },
  {
   "cell_type": "code",
   "execution_count": 2,
   "metadata": {},
   "outputs": [],
   "source": [
    "df = pd.read_csv('users_behavior.csv')"
   ]
  },
  {
   "cell_type": "markdown",
   "metadata": {},
   "source": [
    "Выводим общую информацию по датафрейму:"
   ]
  },
  {
   "cell_type": "code",
   "execution_count": 3,
   "metadata": {},
   "outputs": [
    {
     "name": "stdout",
     "output_type": "stream",
     "text": [
      "Размер датафрейма:\n",
      "(3214, 5)\n",
      "__________________________________________________\n",
      "\n",
      "Общая информация о датафрейме:\n",
      "<class 'pandas.core.frame.DataFrame'>\n",
      "RangeIndex: 3214 entries, 0 to 3213\n",
      "Data columns (total 5 columns):\n",
      " #   Column    Non-Null Count  Dtype  \n",
      "---  ------    --------------  -----  \n",
      " 0   calls     3214 non-null   float64\n",
      " 1   minutes   3214 non-null   float64\n",
      " 2   messages  3214 non-null   float64\n",
      " 3   mb_used   3214 non-null   float64\n",
      " 4   is_ultra  3214 non-null   int64  \n",
      "dtypes: float64(4), int64(1)\n",
      "memory usage: 125.7 KB\n",
      "None\n",
      "__________________________________________________\n",
      "\n",
      "Несколько строк датафрейма:\n"
     ]
    },
    {
     "data": {
      "text/html": [
       "<div>\n",
       "<style scoped>\n",
       "    .dataframe tbody tr th:only-of-type {\n",
       "        vertical-align: middle;\n",
       "    }\n",
       "\n",
       "    .dataframe tbody tr th {\n",
       "        vertical-align: top;\n",
       "    }\n",
       "\n",
       "    .dataframe thead th {\n",
       "        text-align: right;\n",
       "    }\n",
       "</style>\n",
       "<table border=\"1\" class=\"dataframe\">\n",
       "  <thead>\n",
       "    <tr style=\"text-align: right;\">\n",
       "      <th></th>\n",
       "      <th>calls</th>\n",
       "      <th>minutes</th>\n",
       "      <th>messages</th>\n",
       "      <th>mb_used</th>\n",
       "      <th>is_ultra</th>\n",
       "    </tr>\n",
       "  </thead>\n",
       "  <tbody>\n",
       "    <tr>\n",
       "      <th>2568</th>\n",
       "      <td>82.0</td>\n",
       "      <td>580.09</td>\n",
       "      <td>96.0</td>\n",
       "      <td>21463.80</td>\n",
       "      <td>0</td>\n",
       "    </tr>\n",
       "    <tr>\n",
       "      <th>2200</th>\n",
       "      <td>29.0</td>\n",
       "      <td>217.15</td>\n",
       "      <td>46.0</td>\n",
       "      <td>16933.72</td>\n",
       "      <td>0</td>\n",
       "    </tr>\n",
       "    <tr>\n",
       "      <th>306</th>\n",
       "      <td>36.0</td>\n",
       "      <td>250.88</td>\n",
       "      <td>49.0</td>\n",
       "      <td>18965.02</td>\n",
       "      <td>0</td>\n",
       "    </tr>\n",
       "    <tr>\n",
       "      <th>831</th>\n",
       "      <td>133.0</td>\n",
       "      <td>972.70</td>\n",
       "      <td>83.0</td>\n",
       "      <td>38552.62</td>\n",
       "      <td>0</td>\n",
       "    </tr>\n",
       "    <tr>\n",
       "      <th>2781</th>\n",
       "      <td>25.0</td>\n",
       "      <td>155.55</td>\n",
       "      <td>98.0</td>\n",
       "      <td>17856.19</td>\n",
       "      <td>0</td>\n",
       "    </tr>\n",
       "  </tbody>\n",
       "</table>\n",
       "</div>"
      ],
      "text/plain": [
       "      calls  minutes  messages   mb_used  is_ultra\n",
       "2568   82.0   580.09      96.0  21463.80         0\n",
       "2200   29.0   217.15      46.0  16933.72         0\n",
       "306    36.0   250.88      49.0  18965.02         0\n",
       "831   133.0   972.70      83.0  38552.62         0\n",
       "2781   25.0   155.55      98.0  17856.19         0"
      ]
     },
     "metadata": {},
     "output_type": "display_data"
    },
    {
     "name": "stdout",
     "output_type": "stream",
     "text": [
      "__________________________________________________\n",
      "\n",
      "Количество дубликатов:\n",
      "0\n",
      "__________________________________________________\n",
      "\n",
      "Описательная статистика числовых значений:\n"
     ]
    },
    {
     "data": {
      "text/html": [
       "<div>\n",
       "<style scoped>\n",
       "    .dataframe tbody tr th:only-of-type {\n",
       "        vertical-align: middle;\n",
       "    }\n",
       "\n",
       "    .dataframe tbody tr th {\n",
       "        vertical-align: top;\n",
       "    }\n",
       "\n",
       "    .dataframe thead th {\n",
       "        text-align: right;\n",
       "    }\n",
       "</style>\n",
       "<table border=\"1\" class=\"dataframe\">\n",
       "  <thead>\n",
       "    <tr style=\"text-align: right;\">\n",
       "      <th></th>\n",
       "      <th>count</th>\n",
       "      <th>mean</th>\n",
       "      <th>std</th>\n",
       "      <th>min</th>\n",
       "      <th>25%</th>\n",
       "      <th>50%</th>\n",
       "      <th>75%</th>\n",
       "      <th>max</th>\n",
       "    </tr>\n",
       "  </thead>\n",
       "  <tbody>\n",
       "    <tr>\n",
       "      <th>calls</th>\n",
       "      <td>3214.0</td>\n",
       "      <td>63.038892</td>\n",
       "      <td>33.236368</td>\n",
       "      <td>0.0</td>\n",
       "      <td>40.0000</td>\n",
       "      <td>62.000</td>\n",
       "      <td>82.0000</td>\n",
       "      <td>244.00</td>\n",
       "    </tr>\n",
       "    <tr>\n",
       "      <th>minutes</th>\n",
       "      <td>3214.0</td>\n",
       "      <td>438.208787</td>\n",
       "      <td>234.569872</td>\n",
       "      <td>0.0</td>\n",
       "      <td>274.5750</td>\n",
       "      <td>430.600</td>\n",
       "      <td>571.9275</td>\n",
       "      <td>1632.06</td>\n",
       "    </tr>\n",
       "    <tr>\n",
       "      <th>messages</th>\n",
       "      <td>3214.0</td>\n",
       "      <td>38.281269</td>\n",
       "      <td>36.148326</td>\n",
       "      <td>0.0</td>\n",
       "      <td>9.0000</td>\n",
       "      <td>30.000</td>\n",
       "      <td>57.0000</td>\n",
       "      <td>224.00</td>\n",
       "    </tr>\n",
       "    <tr>\n",
       "      <th>mb_used</th>\n",
       "      <td>3214.0</td>\n",
       "      <td>17207.673836</td>\n",
       "      <td>7570.968246</td>\n",
       "      <td>0.0</td>\n",
       "      <td>12491.9025</td>\n",
       "      <td>16943.235</td>\n",
       "      <td>21424.7000</td>\n",
       "      <td>49745.73</td>\n",
       "    </tr>\n",
       "    <tr>\n",
       "      <th>is_ultra</th>\n",
       "      <td>3214.0</td>\n",
       "      <td>0.306472</td>\n",
       "      <td>0.461100</td>\n",
       "      <td>0.0</td>\n",
       "      <td>0.0000</td>\n",
       "      <td>0.000</td>\n",
       "      <td>1.0000</td>\n",
       "      <td>1.00</td>\n",
       "    </tr>\n",
       "  </tbody>\n",
       "</table>\n",
       "</div>"
      ],
      "text/plain": [
       "           count          mean          std  min         25%        50%  \\\n",
       "calls     3214.0     63.038892    33.236368  0.0     40.0000     62.000   \n",
       "minutes   3214.0    438.208787   234.569872  0.0    274.5750    430.600   \n",
       "messages  3214.0     38.281269    36.148326  0.0      9.0000     30.000   \n",
       "mb_used   3214.0  17207.673836  7570.968246  0.0  12491.9025  16943.235   \n",
       "is_ultra  3214.0      0.306472     0.461100  0.0      0.0000      0.000   \n",
       "\n",
       "                 75%       max  \n",
       "calls        82.0000    244.00  \n",
       "minutes     571.9275   1632.06  \n",
       "messages     57.0000    224.00  \n",
       "mb_used   21424.7000  49745.73  \n",
       "is_ultra      1.0000      1.00  "
      ]
     },
     "metadata": {},
     "output_type": "display_data"
    },
    {
     "name": "stdout",
     "output_type": "stream",
     "text": [
      "__________________________________________________\n",
      "\n",
      "Количество пропусков:\n",
      "calls       0\n",
      "minutes     0\n",
      "messages    0\n",
      "mb_used     0\n",
      "is_ultra    0\n",
      "dtype: int64\n",
      "\n",
      "Количество пропусков в процентах:\n",
      "calls       0.0\n",
      "minutes     0.0\n",
      "messages    0.0\n",
      "mb_used     0.0\n",
      "is_ultra    0.0\n",
      "dtype: float64\n"
     ]
    }
   ],
   "source": [
    "print('Размер датафрейма:')\n",
    "print(df.shape)\n",
    "print('_' * 50)\n",
    "print()\n",
    "print('Общая информация о датафрейме:')\n",
    "print(df.info(memory_usage='deep'))\n",
    "print('_' * 50)\n",
    "print()\n",
    "print('Несколько строк датафрейма:')\n",
    "display(df.sample(random_state=0, n=5))\n",
    "print('_' * 50)\n",
    "print()\n",
    "print('Количество дубликатов:')\n",
    "print(df.duplicated().sum())\n",
    "print('_' * 50)  \n",
    "print()\n",
    "print('Описательная статистика числовых значений:')\n",
    "display(df.describe().T)\n",
    "print('_' * 50)\n",
    "print()\n",
    "print('Количество пропусков:')\n",
    "print(df.isna().sum())\n",
    "print()\n",
    "print('Количество пропусков в процентах:')\n",
    "print(df.isna().mean()*100)  "
   ]
  },
  {
   "cell_type": "markdown",
   "metadata": {},
   "source": [
    "Проверяем датафрейм на дисбаланс классов:"
   ]
  },
  {
   "cell_type": "code",
   "execution_count": 4,
   "metadata": {},
   "outputs": [
    {
     "data": {
      "image/png": "[encoded data removed]",
      "text/plain": [
       "<Figure size 1600x1000 with 1 Axes>"
      ]
     },
     "metadata": {},
     "output_type": "display_data"
    }
   ],
   "source": [
    "df_all_size = df.groupby('is_ultra')['calls'].count()\n",
    "fig = plt.figure(figsize=(16,10))\n",
    "ax = df_all_size.plot.bar()\n",
    "plt.title('Классы не сбалансированы', fontsize=16)\n",
    "plt.ylabel('Количество')\n",
    "plt.xticks(rotation=0)\n",
    "plt.show()"
   ]
  },
  {
   "cell_type": "markdown",
   "metadata": {},
   "source": [
    "**Вывод:**  \n",
    "1. В датафрейме содержатся 3214 строк и 5 столбцов. Объем датафрейма - 125.7 KB.\n",
    "2. Параметры \"calls\", \"minutes\", \"messages\", \"mb_used\" имеют тип \"float64\", а \"is_ultra\" - \"int64\".\n",
    "3. Пропущенные значения отсутствуют.\n",
    "4. Пользователей тарифа \"Ультра\" от общего количества представленных в датафрейме пользователей - 30.6%."
   ]
  },
  {
   "cell_type": "markdown",
   "metadata": {},
   "source": [
    "[Вернуться к содержанию](#start) "
   ]
  },
  {
   "cell_type": "markdown",
   "metadata": {},
   "source": [
    "## Исследовательский анализ данных\n",
    "<a id=\"section_2\"></a>"
   ]
  },
  {
   "cell_type": "markdown",
   "metadata": {},
   "source": [
    "Проверяем данные на выбросы:"
   ]
  },
  {
   "cell_type": "code",
   "execution_count": 5,
   "metadata": {},
   "outputs": [],
   "source": [
    "def anomaly(df):\n",
    "    '''функция диаграммы размаха'''\n",
    "    \n",
    "    for i in df.drop(['is_ultra'], axis=1).columns:\n",
    "        plt.figure(figsize=(12,10))\n",
    "        sns.boxplot(y=i, x='is_ultra', data=df)\n",
    "        plt.show()"
   ]
  },
  {
   "cell_type": "code",
   "execution_count": 6,
   "metadata": {
    "scrolled": false
   },
   "outputs": [
    {
     "data": {
      "image/png": "[encoded data removed]",
      "text/plain": [
       "<Figure size 1200x1000 with 1 Axes>"
      ]
     },
     "metadata": {},
     "output_type": "display_data"
    },
    {
     "data": {
      "image/png": "[encoded data removed]",
      "text/plain": [
       "<Figure size 1200x1000 with 1 Axes>"
      ]
     },
     "metadata": {},
     "output_type": "display_data"
    },
    {
     "data": {
      "image/png": "[encoded data removed]",
      "text/plain": [
       "<Figure size 1200x1000 with 1 Axes>"
      ]
     },
     "metadata": {},
     "output_type": "display_data"
    },
    {
     "data": {
      "image/png": "[encoded data removed]",
      "text/plain": [
       "<Figure size 1200x1000 with 1 Axes>"
      ]
     },
     "metadata": {},
     "output_type": "display_data"
    }
   ],
   "source": [
    "anomaly(df)"
   ]
  },
  {
   "cell_type": "markdown",
   "metadata": {},
   "source": [
    "У тарифа \"Ультра\" больше и диапазон распределения значений и медианы признаков.  \n",
    "У обоих тарифов присутствуют выбросы значений признаков за первый и третий квантили. Но если тарифы предусматривают возможность пользования услугами в таких объемах, считать эти выбросы аномальными значениями нельзя."
   ]
  },
  {
   "cell_type": "markdown",
   "metadata": {},
   "source": [
    "Строим гистограммы распределения признаков:"
   ]
  },
  {
   "cell_type": "code",
   "execution_count": 7,
   "metadata": {},
   "outputs": [],
   "source": [
    "def distribution(analysis):\n",
    "    for i in df.drop(['is_ultra'], axis=1).columns:\n",
    "        fig = plt.figure(figsize=(16,10))\n",
    "        ax = sns.histplot(x=i, data=df, hue='is_ultra', bins=20)\n",
    "        label = 'Quantity'\n",
    "        plt.title('Распределение признака {}'.format(i), fontsize=16)\n",
    "        plt.ylabel(label)\n",
    "        plt.show()"
   ]
  },
  {
   "cell_type": "code",
   "execution_count": 8,
   "metadata": {},
   "outputs": [
    {
     "data": {
      "image/png": "[encoded data removed]",
      "text/plain": [
       "<Figure size 1600x1000 with 1 Axes>"
      ]
     },
     "metadata": {},
     "output_type": "display_data"
    },
    {
     "data": {
      "image/png": "[encoded data removed]",
      "text/plain": [
       "<Figure size 1600x1000 with 1 Axes>"
      ]
     },
     "metadata": {},
     "output_type": "display_data"
    },
    {
     "data": {
      "image/png": "[encoded data removed]",
      "text/plain": [
       "<Figure size 1600x1000 with 1 Axes>"
      ]
     },
     "metadata": {},
     "output_type": "display_data"
    },
    {
     "data": {
      "image/png": "[encoded data removed]",
      "text/plain": [
       "<Figure size 1600x1000 with 1 Axes>"
      ]
     },
     "metadata": {},
     "output_type": "display_data"
    }
   ],
   "source": [
    "distribution(df)"
   ]
  },
  {
   "cell_type": "markdown",
   "metadata": {},
   "source": [
    "Распределения признаков имеют положительную асимметрию.  \n",
    "Тариф \"Ультра\" имеет более пологое распределение признаков.  \n",
    "У тарифа смарт наблюдаются ярковыраженные пики:  \n",
    "- calls: 25-100;\n",
    "- minutes: 190-700;\n",
    "- mb_used: 10000-25000."
   ]
  },
  {
   "cell_type": "markdown",
   "metadata": {},
   "source": [
    "Проверяем признаки на корреляцию:"
   ]
  },
  {
   "cell_type": "code",
   "execution_count": 9,
   "metadata": {},
   "outputs": [
    {
     "data": {
      "image/png": "[encoded data removed]",
      "text/plain": [
       "<Figure size 1200x1200 with 2 Axes>"
      ]
     },
     "metadata": {},
     "output_type": "display_data"
    }
   ],
   "source": [
    "fig = plt.subplots(figsize=(12, 12))\n",
    "sns.heatmap(df.drop(['is_ultra'], axis=1).corr(method = 'spearman'), annot = True, cmap = 'Greens')\n",
    "plt.title('Корреляция числовых значений (коэффициент Спирмена)', fontsize=16)\n",
    "plt.show()"
   ]
  },
  {
   "cell_type": "markdown",
   "metadata": {},
   "source": [
    "Высокий уровень корреляции наблюдается у признаков \"calls\" и \"minutes\". На этом основании исключаем признак \"calls\" из исследования:"
   ]
  },
  {
   "cell_type": "code",
   "execution_count": 11,
   "metadata": {},
   "outputs": [],
   "source": [
    "df = df.drop(['calls'], axis=1)"
   ]
  },
  {
   "cell_type": "markdown",
   "metadata": {},
   "source": [
    "**Вывод:**  \n",
    "1. У тарифа \"Ультра\" больше и диапазон распределения значений и медианы признаков.  \n",
    "У обоих тарифов присутствуют выбросы значений признаков за первый и третий квантили. Но если тарифы предусматривают возможность пользования услугами в таких объемах, считать эти выбросы аномальными значениями нельзя.\n",
    "2. Распределения признаков имеют положительную асимметрию.  \n",
    "Тариф \"Ультра\" имеет более пологое распределение признаков.  \n",
    "У тарифа смарт наблюдаются ярковыраженные пики:  \n",
    "- calls: 25-100;\n",
    "- minutes: 190-700;\n",
    "- mb_used: 10000-25000.\n",
    "3. Высокий уровень корреляции наблюдается у признаков \"calls\" и \"minutes\". На основании этого признак \"calls\" исключен из исследования."
   ]
  },
  {
   "cell_type": "markdown",
   "metadata": {},
   "source": [
    "[Вернуться к содержанию](#start) "
   ]
  },
  {
   "cell_type": "markdown",
   "metadata": {},
   "source": [
    "## Разделение данных на выборки\n",
    "<a id=\"section_3\"></a>"
   ]
  },
  {
   "cell_type": "markdown",
   "metadata": {},
   "source": [
    "Задаем значение параметра random_state:"
   ]
  },
  {
   "cell_type": "code",
   "execution_count": 12,
   "metadata": {},
   "outputs": [],
   "source": [
    "RS = 42"
   ]
  },
  {
   "cell_type": "markdown",
   "metadata": {},
   "source": [
    "Создаем переменные для признаков и целевого признака:"
   ]
  },
  {
   "cell_type": "code",
   "execution_count": 13,
   "metadata": {},
   "outputs": [],
   "source": [
    "X = df.drop(['is_ultra'], axis=1)\n",
    "y = df['is_ultra']"
   ]
  },
  {
   "cell_type": "markdown",
   "metadata": {},
   "source": [
    "Разделяем данные на обучающую и тестовую выборки в пропорциях 70%-30%:"
   ]
  },
  {
   "cell_type": "code",
   "execution_count": 14,
   "metadata": {},
   "outputs": [
    {
     "name": "stdout",
     "output_type": "stream",
     "text": [
      "Размер обучающей выборки: 2249\n",
      "Размер тестовой выборки: 965\n"
     ]
    }
   ],
   "source": [
    "X_train, X_test, y_train, y_test = train_test_split(\n",
    "    X, y, test_size=0.3, stratify=y, random_state=RS)\n",
    "print(f'Размер обучающей выборки: {X_train.shape[0]}')\n",
    "print(f'Размер тестовой выборки: {X_test.shape[0]}')"
   ]
  },
  {
   "cell_type": "markdown",
   "metadata": {},
   "source": [
    "Для моделей LogisticRegression, DecisionTreeClassifier и RandomForestClassifier масштабируем числовые признаки. Для модели CatBoostClassifier будут использоваться немасштабированные данные."
   ]
  },
  {
   "cell_type": "code",
   "execution_count": 15,
   "metadata": {},
   "outputs": [],
   "source": [
    "class ScalerTransformation(BaseEstimator, TransformerMixin):\n",
    "    '''класс обучения и трансформации для масштабирования числовых признаков'''\n",
    "    scaler = StandardScaler()\n",
    "    \n",
    "    def fit(self, X, y=None):\n",
    "        X = X.copy()                                                     # делаем копию матрицы признаков\n",
    "        self.scaler.fit(X)                           # обучаем scaler на числовых данных обучающей выборки\n",
    "        return self\n",
    "    \n",
    "    def transform(self, X, y=None):\n",
    "        X = X.copy()                                                           # делаем копию матрицы признаков\n",
    "        X = self.scaler.transform(X)   # масштабируем числовые значения\n",
    "        return X"
   ]
  },
  {
   "cell_type": "markdown",
   "metadata": {},
   "source": [
    "## Исследование моделей\n",
    "<a id=\"section_4\"></a>"
   ]
  },
  {
   "cell_type": "markdown",
   "metadata": {},
   "source": [
    "Гиперпараметры подбираются с помощью OptunaSearchCV.  \n",
    "Лучшую модель определяем по метрике ROC-AUC. Поскольку метрика не восприимчива к дисбалансу классов, балансировку не проводим. Вместо балансировки классов находим оптимальный порог и производим предсказание с учетом его.  \n",
    "В целях определения качества определения каждого из классов дополнительно рассчитываем метрики F1 и Recall."
   ]
  },
  {
   "cell_type": "markdown",
   "metadata": {},
   "source": [
    "### Функции построения моделей\n",
    "<a id=\"section_4_1\"></a>"
   ]
  },
  {
   "cell_type": "code",
   "execution_count": 16,
   "metadata": {},
   "outputs": [],
   "source": [
    "def metrics(model, params, model_name):\n",
    "    '''функция обучения моделей и расчёта метрик'''\n",
    "    \n",
    "    optuna.logging.set_verbosity(optuna.logging.WARNING)                               # отключаем логгирование\n",
    "    model = OptunaSearchCV(model, params, scoring='roc_auc', cv=5)                     # передаем данные в OptunaSearchCV\n",
    "    start_time = timeit.default_timer()                                                # начальное время обучения\n",
    "    model.fit(X_train, y_train)                                                        # обучаем модель\n",
    "    time_fit = timeit.default_timer() - start_time                                     # длительность обучения\n",
    "    start_time = timeit.default_timer()                                                # начальное время предсказания\n",
    "    \n",
    "    probs = model.predict_proba(X_test)\n",
    "    probs = probs[:, 1]\n",
    "    \n",
    "    \n",
    "    roc_auc = model.best_score_                                                        # метрика roc_auc\n",
    "    y_pred = model.best_estimator_.predict(X_train)                                    # делаем предсказание\n",
    "    time_pred = timeit.default_timer() - start_time                                    # длительность предсказания\n",
    "    \n",
    "    recall = recall_score(y_train, y_pred).round(3)                                    # метрика recall\n",
    "    f1 = f1_score(y_train, y_pred).round(3)                                            # метрика f1\n",
    "    accuracy = accuracy_score(y_train, y_pred).round(3) \n",
    "    \n",
    "    print('Roc_Auc: {}'.format(roc_auc))                                               # выводим метрику roc_auc\n",
    "    print('Recall: {}'.format(recall))                                                 # выводим метрику recall\n",
    "    print('F1: {}'.format(f1))                                                         # выводим метрику f1\n",
    "    print('Accuracy: {}'.format(accuracy))                                             # выводим метрику accuracy\n",
    "    \n",
    "    return model, accuracy, recall, roc_auc, f1, time_fit, time_pred"
   ]
  },
  {
   "cell_type": "markdown",
   "metadata": {},
   "source": [
    "### Модель LogisticRegression\n",
    "<a id=\"section_4_2\"></a>"
   ]
  },
  {
   "cell_type": "markdown",
   "metadata": {},
   "source": [
    "Подбираемый гиперпараметр - \"C\". Классы сбалансированы методом взвешивания классов."
   ]
  },
  {
   "cell_type": "code",
   "execution_count": 17,
   "metadata": {},
   "outputs": [],
   "source": [
    "params_lr = {'C': intd(1, 10, False, 1)}                                     # значения гиперпараметров модели для подбора\n",
    "new_params_lr = {'logisticregression__' + key: params_lr[key] for key in params_lr}\n",
    "model_lr = LogisticRegression(max_iter=1000, random_state=RS)        # создаем модель"
   ]
  },
  {
   "cell_type": "code",
   "execution_count": 18,
   "metadata": {},
   "outputs": [],
   "source": [
    "pipeline_lr = make_pipeline(ScalerTransformation(),\n",
    "                            model_lr)"
   ]
  },
  {
   "cell_type": "code",
   "execution_count": 19,
   "metadata": {
    "scrolled": true
   },
   "outputs": [
    {
     "name": "stderr",
     "output_type": "stream",
     "text": [
      "C:\\Users\\bond_\\AppData\\Local\\Temp\\ipykernel_4604\\484775733.py:5: ExperimentalWarning: OptunaSearchCV is experimental (supported from v0.17.0). The interface can change in the future.\n",
      "  model = OptunaSearchCV(model, params, scoring='roc_auc', cv=5)                     # передаем данные в OptunaSearchCV\n"
     ]
    },
    {
     "name": "stdout",
     "output_type": "stream",
     "text": [
      "Roc_Auc: 0.6530958493708414\n",
      "Recall: 0.215\n",
      "F1: 0.34\n",
      "Accuracy: 0.744\n"
     ]
    }
   ],
   "source": [
    "best_model_lr, accuracy_lr, recall_lr, roc_auc_lr, f1_lr, time_fit_lr, time_pred_lr = metrics(pipeline_lr,\n",
    "                                                                                              new_params_lr,\n",
    "                                                                                              'LogisticRegression')"
   ]
  },
  {
   "cell_type": "markdown",
   "metadata": {},
   "source": [
    "### Модель DecisionTreeClassifier\n",
    "<a id=\"section_4_3\"></a>"
   ]
  },
  {
   "cell_type": "markdown",
   "metadata": {},
   "source": [
    "Подбираемый гиперпараметры:  \n",
    " - min_samples_leaf;\n",
    " - min_samples_split;\n",
    " - max_depth.  \n",
    " \n",
    "Классы сбалансированы методом взвешивания классов."
   ]
  },
  {
   "cell_type": "code",
   "execution_count": 20,
   "metadata": {},
   "outputs": [],
   "source": [
    "params_dtc = {'min_samples_leaf' : intd(1, 10, False, 1),         # значения гиперпараметров модели для подбора\n",
    "              'min_samples_split' : intd(2, 10, False, 1),\n",
    "              'max_depth' : intd(1, 10, False, 1)}\n",
    "new_params_dtc = {'decisiontreeclassifier__' + key: params_dtc[key] for key in params_dtc}\n",
    "model_dtc = DecisionTreeClassifier(random_state=RS)               # создаем модель"
   ]
  },
  {
   "cell_type": "code",
   "execution_count": 21,
   "metadata": {},
   "outputs": [],
   "source": [
    "pipeline_dtc = make_pipeline(ScalerTransformation(),\n",
    "                             model_dtc)"
   ]
  },
  {
   "cell_type": "code",
   "execution_count": 22,
   "metadata": {
    "scrolled": true
   },
   "outputs": [
    {
     "name": "stderr",
     "output_type": "stream",
     "text": [
      "C:\\Users\\bond_\\AppData\\Local\\Temp\\ipykernel_4604\\484775733.py:5: ExperimentalWarning: OptunaSearchCV is experimental (supported from v0.17.0). The interface can change in the future.\n",
      "  model = OptunaSearchCV(model, params, scoring='roc_auc', cv=5)                     # передаем данные в OptunaSearchCV\n"
     ]
    },
    {
     "name": "stdout",
     "output_type": "stream",
     "text": [
      "Roc_Auc: 0.7793857498772605\n",
      "Recall: 0.599\n",
      "F1: 0.702\n",
      "Accuracy: 0.844\n"
     ]
    }
   ],
   "source": [
    "best_model_dtc, accuracy_dtc, recall_dtc, roc_auc_dtc, f1_dtc, time_fit_dtc, time_pred_dtc = metrics(pipeline_dtc,\n",
    "                                                                                                     new_params_dtc,\n",
    "                                                                                                     'DecisionTreeClassifier')"
   ]
  },
  {
   "cell_type": "markdown",
   "metadata": {},
   "source": [
    "### Модель RandomForestClassifier\n",
    "<a id=\"section_4_4\"></a>"
   ]
  },
  {
   "cell_type": "markdown",
   "metadata": {},
   "source": [
    "Подбираемый гиперпараметры:  \n",
    " - min_samples_leaf;\n",
    " - min_samples_split;\n",
    " - max_depth;  \n",
    " - n_estimators.  \n",
    "    \n",
    "Классы сбалансированы методом взвешивания классов."
   ]
  },
  {
   "cell_type": "code",
   "execution_count": 23,
   "metadata": {},
   "outputs": [],
   "source": [
    "params_rfc = {'min_samples_leaf' : intd(1, 10, False, 1),                     # значения гиперпараметров модели для подбора\n",
    "              'min_samples_split' : intd(2, 10, False, 1),\n",
    "              'max_depth' : intd(1, 10, False, 1),\n",
    "              'n_estimators' : intd(100, 150, False, 10)}\n",
    "new_params_rfc = {'randomforestclassifier__' + key: params_rfc[key] for key in params_rfc}\n",
    "model_rfc = RandomForestClassifier(random_state=RS)                   # создаем модель"
   ]
  },
  {
   "cell_type": "code",
   "execution_count": 24,
   "metadata": {},
   "outputs": [],
   "source": [
    "pipeline_rfc = make_pipeline(ScalerTransformation(),\n",
    "                             model_rfc)"
   ]
  },
  {
   "cell_type": "code",
   "execution_count": 25,
   "metadata": {
    "scrolled": false
   },
   "outputs": [
    {
     "name": "stderr",
     "output_type": "stream",
     "text": [
      "C:\\Users\\bond_\\AppData\\Local\\Temp\\ipykernel_4604\\484775733.py:5: ExperimentalWarning: OptunaSearchCV is experimental (supported from v0.17.0). The interface can change in the future.\n",
      "  model = OptunaSearchCV(model, params, scoring='roc_auc', cv=5)                     # передаем данные в OptunaSearchCV\n"
     ]
    },
    {
     "name": "stdout",
     "output_type": "stream",
     "text": [
      "Roc_Auc: 0.8136186585726415\n",
      "Recall: 0.57\n",
      "F1: 0.693\n",
      "Accuracy: 0.845\n"
     ]
    }
   ],
   "source": [
    "best_model_rfc, accuracy_rfc, recall_rfc, roc_auc_rfc, f1_rfc, time_fit_rfc, time_pred_rfc = metrics(pipeline_rfc,\n",
    "                                                                                                     new_params_rfc,\n",
    "                                                                                                     'RandomForestClassifier')"
   ]
  },
  {
   "cell_type": "markdown",
   "metadata": {},
   "source": [
    "### Модель CatBoostClassifier\n",
    "<a id=\"section_4_5\"></a>"
   ]
  },
  {
   "cell_type": "markdown",
   "metadata": {},
   "source": [
    "Подбираемый гиперпараметры:  \n",
    " - learning_rate;\n",
    " - depth;  \n",
    " - l2_leaf_reg.  \n",
    "    \n",
    "Классы сбалансированы методом взвешивания классов."
   ]
  },
  {
   "cell_type": "code",
   "execution_count": 26,
   "metadata": {},
   "outputs": [],
   "source": [
    "params_cb = {                                                         # значения гиперпараметров модели для подбора\n",
    "    'depth' : intd(5, 10, False, 1),\n",
    "}\n",
    "model_cb = CatBoostClassifier(verbose=False,                          # создаем модель\n",
    "                              iterations = 1000,\n",
    "                              random_state=RS)"
   ]
  },
  {
   "cell_type": "code",
   "execution_count": 27,
   "metadata": {},
   "outputs": [
    {
     "name": "stderr",
     "output_type": "stream",
     "text": [
      "C:\\Users\\bond_\\AppData\\Local\\Temp\\ipykernel_4604\\484775733.py:5: ExperimentalWarning: OptunaSearchCV is experimental (supported from v0.17.0). The interface can change in the future.\n",
      "  model = OptunaSearchCV(model, params, scoring='roc_auc', cv=5)                     # передаем данные в OptunaSearchCV\n"
     ]
    },
    {
     "name": "stdout",
     "output_type": "stream",
     "text": [
      "Roc_Auc: 0.8138316895735175\n",
      "Recall: 0.634\n",
      "F1: 0.746\n",
      "Accuracy: 0.868\n"
     ]
    }
   ],
   "source": [
    "best_model_cb, accuracy_cb, recall_cb, roc_auc_cb, f1_cb, time_fit_cb, time_pred_cb = metrics(model_cb,\n",
    "                                                                                              params_cb,\n",
    "                                                                                              'CatBoostClassifier')"
   ]
  },
  {
   "cell_type": "markdown",
   "metadata": {},
   "source": [
    "**Сравнение моделей**"
   ]
  },
  {
   "cell_type": "markdown",
   "metadata": {},
   "source": [
    "Сравнительная таблица:"
   ]
  },
  {
   "cell_type": "code",
   "execution_count": 28,
   "metadata": {
    "scrolled": true
   },
   "outputs": [
    {
     "data": {
      "text/html": [
       "<div>\n",
       "<style scoped>\n",
       "    .dataframe tbody tr th:only-of-type {\n",
       "        vertical-align: middle;\n",
       "    }\n",
       "\n",
       "    .dataframe tbody tr th {\n",
       "        vertical-align: top;\n",
       "    }\n",
       "\n",
       "    .dataframe thead th {\n",
       "        text-align: right;\n",
       "    }\n",
       "</style>\n",
       "<table border=\"1\" class=\"dataframe\">\n",
       "  <thead>\n",
       "    <tr style=\"text-align: right;\">\n",
       "      <th></th>\n",
       "      <th>model</th>\n",
       "      <th>accuracy</th>\n",
       "      <th>recall</th>\n",
       "      <th>f1</th>\n",
       "      <th>roc_auc</th>\n",
       "      <th>time_fit</th>\n",
       "      <th>time_pred</th>\n",
       "    </tr>\n",
       "  </thead>\n",
       "  <tbody>\n",
       "    <tr>\n",
       "      <th>0</th>\n",
       "      <td>LogisticRegression</td>\n",
       "      <td>0.744</td>\n",
       "      <td>0.215</td>\n",
       "      <td>0.340</td>\n",
       "      <td>0.653096</td>\n",
       "      <td>0.279661</td>\n",
       "      <td>0.001575</td>\n",
       "    </tr>\n",
       "    <tr>\n",
       "      <th>1</th>\n",
       "      <td>DecisionTreeClassifier</td>\n",
       "      <td>0.844</td>\n",
       "      <td>0.599</td>\n",
       "      <td>0.702</td>\n",
       "      <td>0.779386</td>\n",
       "      <td>0.314695</td>\n",
       "      <td>0.001726</td>\n",
       "    </tr>\n",
       "    <tr>\n",
       "      <th>2</th>\n",
       "      <td>RandomForestClassifier</td>\n",
       "      <td>0.845</td>\n",
       "      <td>0.570</td>\n",
       "      <td>0.693</td>\n",
       "      <td>0.813619</td>\n",
       "      <td>10.557184</td>\n",
       "      <td>0.042815</td>\n",
       "    </tr>\n",
       "    <tr>\n",
       "      <th>3</th>\n",
       "      <td>CatBoostClassifier</td>\n",
       "      <td>0.868</td>\n",
       "      <td>0.634</td>\n",
       "      <td>0.746</td>\n",
       "      <td>0.813832</td>\n",
       "      <td>404.301824</td>\n",
       "      <td>0.002958</td>\n",
       "    </tr>\n",
       "  </tbody>\n",
       "</table>\n",
       "</div>"
      ],
      "text/plain": [
       "                    model  accuracy  recall     f1   roc_auc    time_fit  \\\n",
       "0      LogisticRegression     0.744   0.215  0.340  0.653096    0.279661   \n",
       "1  DecisionTreeClassifier     0.844   0.599  0.702  0.779386    0.314695   \n",
       "2  RandomForestClassifier     0.845   0.570  0.693  0.813619   10.557184   \n",
       "3      CatBoostClassifier     0.868   0.634  0.746  0.813832  404.301824   \n",
       "\n",
       "   time_pred  \n",
       "0   0.001575  \n",
       "1   0.001726  \n",
       "2   0.042815  \n",
       "3   0.002958  "
      ]
     },
     "execution_count": 28,
     "metadata": {},
     "output_type": "execute_result"
    }
   ],
   "source": [
    "# собираем таблицу\n",
    "df_best_model = pd.DataFrame({'model' : ['LogisticRegression', 'DecisionTreeClassifier', 'RandomForestClassifier', 'CatBoostClassifier'],\n",
    "                              'accuracy' : [accuracy_lr, accuracy_dtc, accuracy_rfc, accuracy_cb],\n",
    "                              'recall' : [recall_lr, recall_dtc, recall_rfc, recall_cb],\n",
    "                              'f1' : [f1_lr, f1_dtc, f1_rfc, f1_cb],\n",
    "                              'roc_auc' : [roc_auc_lr, roc_auc_dtc, roc_auc_rfc, roc_auc_cb],\n",
    "                              'time_fit' : [time_fit_lr, time_fit_dtc, time_fit_rfc, time_fit_cb],\n",
    "                              'time_pred' : [time_pred_lr, time_pred_dtc, time_pred_rfc, time_pred_cb],\n",
    "                              'best_model' : [best_model_lr, best_model_dtc, best_model_rfc, best_model_cb]})\n",
    "df_best_model[['model', 'accuracy', 'recall', 'f1', 'roc_auc', 'time_fit', 'time_pred']]                # выводим таблицу"
   ]
  },
  {
   "cell_type": "markdown",
   "metadata": {},
   "source": [
    "Выделяем из таблицы модель с наибольшим ROC-AUC:"
   ]
  },
  {
   "cell_type": "code",
   "execution_count": 29,
   "metadata": {},
   "outputs": [],
   "source": [
    "best_model_row = df_best_model.loc[df_best_model['roc_auc'] == df_best_model['roc_auc'].max()]\n",
    "best_model = best_model_row.iloc[0, 7]\n",
    "best_model_name = best_model_row.iloc[0, 0]\n",
    "best_model_params = best_model_row.iloc[0, 7].best_params_"
   ]
  },
  {
   "cell_type": "code",
   "execution_count": 30,
   "metadata": {},
   "outputs": [
    {
     "name": "stdout",
     "output_type": "stream",
     "text": [
      "Лучшая модель: CatBoostClassifier\n",
      "Параметры лучшей модели: {'depth': 6}\n"
     ]
    }
   ],
   "source": [
    "print('Лучшая модель: {}'.format(best_model_name))\n",
    "print('Параметры лучшей модели: {}'.format(best_model_params))"
   ]
  },
  {
   "cell_type": "markdown",
   "metadata": {},
   "source": [
    "**Важность основных факторов**"
   ]
  },
  {
   "cell_type": "markdown",
   "metadata": {},
   "source": [
    "Выбираем формат входных признаков в зависимости от лучшей модели:"
   ]
  },
  {
   "cell_type": "code",
   "execution_count": 31,
   "metadata": {},
   "outputs": [
    {
     "data": {
      "image/png": "[encoded data removed]",
      "text/plain": [
       "<Figure size 1200x1000 with 1 Axes>"
      ]
     },
     "metadata": {},
     "output_type": "display_data"
    }
   ],
   "source": [
    "if best_model_name == 'CatBoostClassifier':\n",
    "    importance = best_model.best_estimator_.feature_importances_           # получаем коэффициенты важности признаков\n",
    "elif best_model_name == 'LogisticRegression':\n",
    "    importance = best_model_lr.best_estimator_._final_estimator.coef_[0]   # получаем коэффициенты важности признаков\n",
    "else:\n",
    "    # получаем коэффициенты важности признаков\n",
    "    importance = best_model_rfc.best_estimator_._final_estimator.feature_importances_\n",
    "# создаем датафрейм из 10 важнейших признаков\n",
    "importance_features = pd.Series(importance, index=X_train.columns).sort_values(ascending=True).tail(10)\n",
    "plt.figure(figsize=(12,10))                                                # задаем размер окна диаграммы\n",
    "importance_features.plot(kind='barh',title = 'Feature Importance')         # визуализируем диаграмму\n",
    "plt.show()"
   ]
  },
  {
   "cell_type": "markdown",
   "metadata": {},
   "source": [
    "Наиболее важный признак - израсходованный интернет-трафик."
   ]
  },
  {
   "cell_type": "markdown",
   "metadata": {},
   "source": [
    "**Вывод:**  \n",
    "Рассмотрены модели LogisticRegression, DecisionTreeClassifier, RandomForestClassifier и CatBoostClassifier.  \n",
    "Модель с наибольшим значением Accuracy - CatBoostClassifier.  \n",
    "Метрики лучшей модели:  \n",
    " - accuracy: 0.868;  \n",
    " - recall: 0.634;  \n",
    " - f1: 0.746;  \n",
    " - roc_auc: 0.814;  \n",
    " - время обучения (секунд): 404.30;  \n",
    " - время предсказания (секунд): 0.002.  \n",
    " \n",
    "Параметры лучшей модели:  \n",
    " - depth - 6.  \n",
    " \n",
    "Наиболее важный признак - израсходованный интернет-трафик."
   ]
  },
  {
   "cell_type": "markdown",
   "metadata": {},
   "source": [
    "[Вернуться к содержанию](#start) "
   ]
  },
  {
   "cell_type": "markdown",
   "metadata": {},
   "source": [
    "## Тестирование лучшей модели\n",
    "<a id=\"section_5\"></a>"
   ]
  },
  {
   "cell_type": "markdown",
   "metadata": {},
   "source": [
    "**Расчёт метрик лучшей модели на тестовой выборке**"
   ]
  },
  {
   "cell_type": "markdown",
   "metadata": {},
   "source": [
    "Находим оптимальный порог и визуализируем ROC Curve:"
   ]
  },
  {
   "cell_type": "code",
   "execution_count": 37,
   "metadata": {
    "scrolled": true
   },
   "outputs": [
    {
     "name": "stdout",
     "output_type": "stream",
     "text": [
      "Best Threshold=0.352321, G-Mean=0.745\n"
     ]
    },
    {
     "data": {
      "image/png": "[encoded data removed]",
      "text/plain": [
       "<Figure size 1200x1000 with 1 Axes>"
      ]
     },
     "metadata": {},
     "output_type": "display_data"
    }
   ],
   "source": [
    "yhat = best_model.predict_proba(X_test)\n",
    "yhat = yhat[:, 1]\n",
    "fpr, tpr, thresholds = roc_curve(y_test, yhat)\n",
    "gmeans = sqrt(tpr * (1-fpr))\n",
    "ix = argmax(gmeans)\n",
    "print('Best Threshold=%f, G-Mean=%.3f' % (thresholds[ix], gmeans[ix]))\n",
    "plt.figure(figsize=(12,10)) \n",
    "plt.plot([0,1], [0,1], linestyle='--', label='No Skill')\n",
    "plt.plot(fpr, tpr, marker='.', label=best_model_name)\n",
    "plt.scatter(fpr[ix], tpr[ix], marker='o', color='black', label='Best')\n",
    "plt.xlabel('False Positive Rate')\n",
    "plt.ylabel('True Positive Rate')\n",
    "plt.legend()\n",
    "plt.show()"
   ]
  },
  {
   "cell_type": "markdown",
   "metadata": {},
   "source": [
    "Получаем предсказанния целевой переменной с учетом оптимального порога:"
   ]
  },
  {
   "cell_type": "code",
   "execution_count": 33,
   "metadata": {},
   "outputs": [],
   "source": [
    "y_pred_optimal = np.where(yhat < thresholds[ix], 0, 1)"
   ]
  },
  {
   "cell_type": "markdown",
   "metadata": {},
   "source": [
    "Рассчитываем метрики на тестовой выборке:"
   ]
  },
  {
   "cell_type": "code",
   "execution_count": 34,
   "metadata": {
    "scrolled": true
   },
   "outputs": [
    {
     "name": "stdout",
     "output_type": "stream",
     "text": [
      "Roc-Auc: 0.756\n",
      "Recall: 0.628\n",
      "F1: 0.664\n",
      "Accuracy: 0.805\n"
     ]
    }
   ],
   "source": [
    "roc_auc = roc_auc_score(y_test, y_pred_optimal)\n",
    "recall = recall_score(y_test, y_pred_optimal)\n",
    "f1 = f1_score(y_test, y_pred_optimal)\n",
    "accuracy = accuracy_score(y_test, y_pred_optimal)\n",
    "print('Roc-Auc: {:.3f}'.format(roc_auc))\n",
    "print('Recall: {:.3f}'.format(recall))\n",
    "print('F1: {:.3f}'.format(f1))\n",
    "print('Accuracy: {:.3f}'.format(accuracy))"
   ]
  },
  {
   "cell_type": "markdown",
   "metadata": {},
   "source": [
    "**Матрица ошибок**"
   ]
  },
  {
   "cell_type": "code",
   "execution_count": 35,
   "metadata": {},
   "outputs": [
    {
     "data": {
      "image/png": "[encoded data removed]",
      "text/plain": [
       "<Figure size 640x480 with 2 Axes>"
      ]
     },
     "metadata": {},
     "output_type": "display_data"
    }
   ],
   "source": [
    "cm = confusion_matrix(y_test, y_pred_optimal)                                   # рассчитываем матрицу ошибок\n",
    "disp = ConfusionMatrixDisplay(confusion_matrix=cm)                              \n",
    "disp.plot()                                                                     # визуализируем матрицу ошибок\n",
    "plt.show()"
   ]
  },
  {
   "cell_type": "markdown",
   "metadata": {},
   "source": [
    "**Проверка модели на адекватность**"
   ]
  },
  {
   "cell_type": "code",
   "execution_count": 36,
   "metadata": {},
   "outputs": [
    {
     "name": "stdout",
     "output_type": "stream",
     "text": [
      "Accuracy для выбранной модели (0.805) выше, чем accuracy для \"наивного\" алгоритма (0.726). Модель можно считать адекватной.\n"
     ]
    }
   ],
   "source": [
    "dummy_clf = DummyClassifier(strategy=\"most_frequent\", random_state=RS)\n",
    "dummy_clf.fit(X_test, y_pred_optimal)\n",
    "dummy_accuracy = dummy_clf.score(X_test, y_pred_optimal)\n",
    "if accuracy > dummy_accuracy:\n",
    "    print('Accuracy для выбранной модели ({:.3f}) выше, чем accuracy для \"наивного\" алгоритма ({:.3f}). Модель можно считать адекватной.'\n",
    "          .format(accuracy, dummy_accuracy))\n",
    "else:\n",
    "    print('Accuracy для выбранной модели ({:.3f}) не выше, чем accuracy для \"наивного\" алгоритма ({:.3f}).\\n Модель нельзя считать адекватной.'\n",
    "          .format(accuracy, dummy_accuracy))"
   ]
  },
  {
   "cell_type": "markdown",
   "metadata": {},
   "source": [
    "**Вывод:**  \n",
    "1. Метрики лучшей модели на тестовой выборке:  \n",
    " - Roc-Auc: 0.756;\n",
    " - Recall: 0.628;\n",
    " - F1: 0.664;\n",
    " - Accuracy: 0.805.  \n",
    "\n",
    "2. Accuracy для выбранной модели (0.762) выше, чем accuracy для \"наивного\" алгоритма (0.726), модель можно считать адекватной.  "
   ]
  },
  {
   "cell_type": "markdown",
   "metadata": {},
   "source": [
    "[Вернуться к содержанию](#start) "
   ]
  },
  {
   "cell_type": "markdown",
   "metadata": {},
   "source": [
    "## Общий вывод\n",
    "<a id=\"section_6\"></a>"
   ]
  },
  {
   "cell_type": "markdown",
   "metadata": {},
   "source": [
    "**Загрузка данных и общая информация**  \n",
    "\n",
    "1. В датафрейме содержатся 3214 строк и 5 столбцов. Объем датафрейма - 125.7 KB.\n",
    "2. Параметры \"calls\", \"minutes\", \"messages\", \"mb_used\" имеют тип \"float64\", а \"is_ultra\" - \"int64\".\n",
    "3. Пропущенные значения отсутствуют.\n",
    "4. Пользователей тарифа \"Ультра\" от общего количества представленных в датафрейме пользователей - 30.6%.\n",
    "\n",
    "\n",
    "**Исследовательский анализ данных**\n",
    "\n",
    "1. У тарифа \"Ультра\" больше и диапазон распределения значений и медианы признаков.  \n",
    "У обоих тарифов присутствуют выбросы значений признаков за первый и третий квантили. Но если тарифы предусматривают возможность пользования услугами в таких объемах, считать эти выбросы аномальными значениями нельзя.\n",
    "2. Распределения признаков имеют положительную асимметрию.  \n",
    "Тариф \"Ультра\" имеет более пологое распределение признаков.  \n",
    "У тарифа смарт наблюдаются ярковыраженные пики:  \n",
    "- calls: 25-100;\n",
    "- minutes: 190-700;\n",
    "- mb_used: 10000-25000.\n",
    "3. Высокий уровень корреляции наблюдается у признаков \"calls\" и \"minutes\". На основании этого признак \"calls\" исключен из исследования.\n",
    "\n",
    "\n",
    "**Исследование моделей**  \n",
    "\n",
    "Рассмотрены модели LogisticRegression, DecisionTreeClassifier, RandomForestClassifier и CatBoostClassifier.  \n",
    "Модель с наибольшим значением Accuracy - CatBoostClassifier.  \n",
    "Метрики лучшей модели:  \n",
    " - accuracy: 0.868;  \n",
    " - recall: 0.634;  \n",
    " - f1: 0.746;  \n",
    " - roc_auc: 0.814;  \n",
    " - время обучения (секунд): 404.30;  \n",
    " - время предсказания (секунд): 0.002.  \n",
    " \n",
    "Параметры лучшей модели:  \n",
    " - depth - 6.  \n",
    " \n",
    "Наиболее важный признак - израсходованный интернет-трафик. \n",
    "\n",
    " \n",
    "**Проверка лучшей модели**  \n",
    "\n",
    "1. Метрики лучшей модели на тестовой выборке:  \n",
    " - Roc-Auc: 0.756;\n",
    " - Recall: 0.628;\n",
    " - F1: 0.664;\n",
    " - Accuracy: 0.805.  \n",
    "\n",
    "2. Accuracy для выбранной модели (0.762) выше, чем accuracy для \"наивного\" алгоритма (0.726), модель можно считать адекватной.    "
   ]
  },
  {
   "cell_type": "markdown",
   "metadata": {},
   "source": [
    "[Вернуться к содержанию](#start) "
   ]
  }
 ],
 "metadata": {
  "ExecuteTimeLog": [
   {
    "duration": 1119,
    "start_time": "2022-11-19T18:39:38.084Z"
   },
   {
    "duration": 51,
    "start_time": "2022-11-19T18:39:39.205Z"
   },
   {
    "duration": 57,
    "start_time": "2022-11-19T18:39:39.257Z"
   },
   {
    "duration": 3,
    "start_time": "2022-11-19T18:39:39.316Z"
   },
   {
    "duration": 9,
    "start_time": "2022-11-19T18:39:39.320Z"
   },
   {
    "duration": 3,
    "start_time": "2022-11-19T18:39:39.331Z"
   },
   {
    "duration": 1485,
    "start_time": "2022-11-19T18:39:39.335Z"
   },
   {
    "duration": 3438,
    "start_time": "2022-11-19T18:39:40.821Z"
   },
   {
    "duration": 83337,
    "start_time": "2022-11-19T18:39:44.261Z"
   },
   {
    "duration": 4,
    "start_time": "2022-11-19T18:41:07.600Z"
   },
   {
    "duration": 13,
    "start_time": "2022-11-19T18:41:07.606Z"
   },
   {
    "duration": 15,
    "start_time": "2022-11-19T18:41:07.621Z"
   },
   {
    "duration": 1119,
    "start_time": "2022-11-19T18:48:49.607Z"
   },
   {
    "duration": 72,
    "start_time": "2022-11-19T18:48:50.727Z"
   },
   {
    "duration": 55,
    "start_time": "2022-11-19T18:48:50.800Z"
   },
   {
    "duration": 3,
    "start_time": "2022-11-19T18:48:50.857Z"
   },
   {
    "duration": 9,
    "start_time": "2022-11-19T18:48:50.861Z"
   },
   {
    "duration": 21,
    "start_time": "2022-11-19T18:48:50.871Z"
   },
   {
    "duration": 1744,
    "start_time": "2022-11-19T18:48:50.894Z"
   },
   {
    "duration": 3724,
    "start_time": "2022-11-19T18:48:52.639Z"
   },
   {
    "duration": 86416,
    "start_time": "2022-11-19T18:48:56.364Z"
   },
   {
    "duration": 5,
    "start_time": "2022-11-19T18:50:22.789Z"
   },
   {
    "duration": 10,
    "start_time": "2022-11-19T18:50:22.795Z"
   },
   {
    "duration": 14,
    "start_time": "2022-11-19T18:50:22.806Z"
   },
   {
    "duration": 1448,
    "start_time": "2022-11-19T19:05:41.665Z"
   },
   {
    "duration": 41,
    "start_time": "2022-11-19T19:05:43.115Z"
   },
   {
    "duration": 56,
    "start_time": "2022-11-19T19:05:43.157Z"
   },
   {
    "duration": 3,
    "start_time": "2022-11-19T19:05:43.215Z"
   },
   {
    "duration": 10,
    "start_time": "2022-11-19T19:05:43.220Z"
   },
   {
    "duration": 4,
    "start_time": "2022-11-19T19:05:43.231Z"
   },
   {
    "duration": 1621,
    "start_time": "2022-11-19T19:05:43.237Z"
   },
   {
    "duration": 5400,
    "start_time": "2022-11-19T19:05:44.860Z"
   },
   {
    "duration": 91242,
    "start_time": "2022-11-19T19:05:50.261Z"
   },
   {
    "duration": 9,
    "start_time": "2022-11-19T19:07:21.506Z"
   },
   {
    "duration": 26,
    "start_time": "2022-11-19T19:07:21.517Z"
   },
   {
    "duration": 22,
    "start_time": "2022-11-19T19:07:21.545Z"
   },
   {
    "duration": 1179,
    "start_time": "2022-11-19T22:08:09.239Z"
   },
   {
    "duration": 45,
    "start_time": "2022-11-19T22:08:10.548Z"
   },
   {
    "duration": 69,
    "start_time": "2022-11-19T22:08:11.758Z"
   },
   {
    "duration": 4,
    "start_time": "2022-11-19T22:08:17.339Z"
   },
   {
    "duration": 108,
    "start_time": "2022-11-19T22:08:19.950Z"
   },
   {
    "duration": 15,
    "start_time": "2022-11-19T22:08:38.919Z"
   },
   {
    "duration": 8,
    "start_time": "2022-11-19T22:09:56.930Z"
   },
   {
    "duration": 9,
    "start_time": "2022-11-19T22:14:48.528Z"
   },
   {
    "duration": 9,
    "start_time": "2022-11-19T22:15:53.359Z"
   },
   {
    "duration": 3,
    "start_time": "2022-11-19T22:18:10.659Z"
   },
   {
    "duration": 50,
    "start_time": "2022-11-19T22:18:11.292Z"
   },
   {
    "duration": 55,
    "start_time": "2022-11-19T22:18:11.749Z"
   },
   {
    "duration": 4,
    "start_time": "2022-11-19T22:18:13.128Z"
   },
   {
    "duration": 9,
    "start_time": "2022-11-19T22:18:16.659Z"
   },
   {
    "duration": 2,
    "start_time": "2022-11-19T22:18:19.549Z"
   },
   {
    "duration": 2563,
    "start_time": "2022-11-19T22:18:20.991Z"
   },
   {
    "duration": 2534,
    "start_time": "2022-11-19T22:18:28.159Z"
   },
   {
    "duration": 2530,
    "start_time": "2022-11-19T22:18:36.948Z"
   },
   {
    "duration": 1760,
    "start_time": "2022-11-19T22:18:48.190Z"
   },
   {
    "duration": 1760,
    "start_time": "2022-11-19T22:19:03.930Z"
   },
   {
    "duration": 1779,
    "start_time": "2022-11-19T22:19:17.290Z"
   },
   {
    "duration": 3453,
    "start_time": "2022-11-19T22:19:31.339Z"
   },
   {
    "duration": 2898,
    "start_time": "2022-11-19T22:19:35.969Z"
   },
   {
    "duration": 2640,
    "start_time": "2022-11-19T22:19:44.994Z"
   },
   {
    "duration": 2238,
    "start_time": "2022-11-19T22:19:53.959Z"
   },
   {
    "duration": 1839,
    "start_time": "2022-11-19T22:24:53.909Z"
   },
   {
    "duration": 15772,
    "start_time": "2022-11-19T22:25:06.499Z"
   },
   {
    "duration": 3,
    "start_time": "2022-11-19T22:25:33.659Z"
   },
   {
    "duration": 63,
    "start_time": "2022-11-19T22:25:34.328Z"
   },
   {
    "duration": 51,
    "start_time": "2022-11-19T22:25:34.718Z"
   },
   {
    "duration": 1140,
    "start_time": "2022-11-19T22:25:43.590Z"
   },
   {
    "duration": 48,
    "start_time": "2022-11-19T22:25:44.732Z"
   },
   {
    "duration": 64,
    "start_time": "2022-11-19T22:25:44.820Z"
   },
   {
    "duration": 4,
    "start_time": "2022-11-19T22:25:46.189Z"
   },
   {
    "duration": 11,
    "start_time": "2022-11-19T22:25:46.939Z"
   },
   {
    "duration": 3,
    "start_time": "2022-11-19T22:25:50.219Z"
   },
   {
    "duration": 131,
    "start_time": "2022-11-19T22:25:51.959Z"
   },
   {
    "duration": 16310,
    "start_time": "2022-11-19T22:26:32.949Z"
   },
   {
    "duration": 23,
    "start_time": "2022-11-19T22:27:01.979Z"
   },
   {
    "duration": 10,
    "start_time": "2022-11-19T22:27:08.759Z"
   },
   {
    "duration": 16126,
    "start_time": "2022-11-19T22:27:20.020Z"
   },
   {
    "duration": 314,
    "start_time": "2022-11-19T22:28:54.799Z"
   },
   {
    "duration": 177,
    "start_time": "2022-11-19T22:29:04.431Z"
   },
   {
    "duration": 3535,
    "start_time": "2022-11-19T22:29:24.409Z"
   },
   {
    "duration": 266,
    "start_time": "2022-11-19T22:29:30.420Z"
   },
   {
    "duration": 40,
    "start_time": "2022-11-19T22:31:02.878Z"
   },
   {
    "duration": 37,
    "start_time": "2022-11-19T22:31:14.759Z"
   },
   {
    "duration": 14,
    "start_time": "2022-11-19T22:33:04.930Z"
   },
   {
    "duration": 93,
    "start_time": "2022-11-19T22:33:14.960Z"
   },
   {
    "duration": 299,
    "start_time": "2022-11-19T22:33:24.830Z"
   },
   {
    "duration": 319,
    "start_time": "2022-11-19T22:33:41.399Z"
   },
   {
    "duration": 292,
    "start_time": "2022-11-19T22:33:48.400Z"
   },
   {
    "duration": 293,
    "start_time": "2022-11-19T22:33:53.040Z"
   },
   {
    "duration": 2778,
    "start_time": "2022-11-19T22:34:59.068Z"
   },
   {
    "duration": 2484,
    "start_time": "2022-11-19T22:35:21.189Z"
   },
   {
    "duration": 2421,
    "start_time": "2022-11-19T22:35:26.310Z"
   },
   {
    "duration": 329,
    "start_time": "2022-11-19T22:35:31.359Z"
   },
   {
    "duration": 562,
    "start_time": "2022-11-19T22:35:39.140Z"
   },
   {
    "duration": 3334,
    "start_time": "2022-11-19T22:38:37.709Z"
   },
   {
    "duration": 364,
    "start_time": "2022-11-19T22:38:45.109Z"
   },
   {
    "duration": 405,
    "start_time": "2022-11-19T22:38:56.730Z"
   },
   {
    "duration": 348,
    "start_time": "2022-11-19T22:39:11.229Z"
   },
   {
    "duration": 368,
    "start_time": "2022-11-19T22:39:51.489Z"
   },
   {
    "duration": 1122,
    "start_time": "2022-11-19T22:40:07.499Z"
   },
   {
    "duration": 53,
    "start_time": "2022-11-19T22:40:08.623Z"
   },
   {
    "duration": 61,
    "start_time": "2022-11-19T22:40:08.794Z"
   },
   {
    "duration": 4,
    "start_time": "2022-11-19T22:40:10.548Z"
   },
   {
    "duration": 10,
    "start_time": "2022-11-19T22:40:11.079Z"
   },
   {
    "duration": 3,
    "start_time": "2022-11-19T22:40:13.118Z"
   },
   {
    "duration": 426,
    "start_time": "2022-11-19T22:40:14.417Z"
   },
   {
    "duration": 376,
    "start_time": "2022-11-19T22:40:42.568Z"
   },
   {
    "duration": 319,
    "start_time": "2022-11-19T22:41:06.390Z"
   },
   {
    "duration": 648,
    "start_time": "2022-11-19T22:41:12.798Z"
   },
   {
    "duration": 3493,
    "start_time": "2022-11-19T22:41:32.658Z"
   },
   {
    "duration": 3649,
    "start_time": "2022-11-19T22:45:15.791Z"
   },
   {
    "duration": 3803,
    "start_time": "2022-11-19T22:45:34.224Z"
   },
   {
    "duration": 3694,
    "start_time": "2022-11-19T22:45:58.499Z"
   },
   {
    "duration": 10392,
    "start_time": "2022-11-19T22:46:15.379Z"
   },
   {
    "duration": 3,
    "start_time": "2022-11-19T22:46:44.498Z"
   },
   {
    "duration": 70,
    "start_time": "2022-11-19T22:46:45.179Z"
   },
   {
    "duration": 47,
    "start_time": "2022-11-19T22:46:45.658Z"
   },
   {
    "duration": 4,
    "start_time": "2022-11-19T22:46:50.448Z"
   },
   {
    "duration": 11,
    "start_time": "2022-11-19T22:46:51.059Z"
   },
   {
    "duration": 2,
    "start_time": "2022-11-19T22:47:04.228Z"
   },
   {
    "duration": 10267,
    "start_time": "2022-11-19T22:47:05.138Z"
   },
   {
    "duration": 1047,
    "start_time": "2022-11-19T22:47:43.557Z"
   },
   {
    "duration": 56,
    "start_time": "2022-11-19T22:47:44.606Z"
   },
   {
    "duration": 58,
    "start_time": "2022-11-19T22:47:44.667Z"
   },
   {
    "duration": 3,
    "start_time": "2022-11-19T22:47:46.769Z"
   },
   {
    "duration": 9,
    "start_time": "2022-11-19T22:47:47.378Z"
   },
   {
    "duration": 2,
    "start_time": "2022-11-19T22:47:49.928Z"
   },
   {
    "duration": 10241,
    "start_time": "2022-11-19T22:47:51.328Z"
   },
   {
    "duration": 1073,
    "start_time": "2022-11-19T22:48:30.469Z"
   },
   {
    "duration": 63,
    "start_time": "2022-11-19T22:48:31.545Z"
   },
   {
    "duration": 94,
    "start_time": "2022-11-19T22:48:31.610Z"
   },
   {
    "duration": 4,
    "start_time": "2022-11-19T22:48:32.859Z"
   },
   {
    "duration": 10,
    "start_time": "2022-11-19T22:48:33.469Z"
   },
   {
    "duration": 3,
    "start_time": "2022-11-19T22:48:35.839Z"
   },
   {
    "duration": 3505,
    "start_time": "2022-11-19T22:48:37.319Z"
   },
   {
    "duration": 2858,
    "start_time": "2022-11-19T22:49:10.499Z"
   },
   {
    "duration": 3722,
    "start_time": "2022-11-19T22:49:26.239Z"
   },
   {
    "duration": 3511,
    "start_time": "2022-11-19T22:49:31.469Z"
   },
   {
    "duration": 3547,
    "start_time": "2022-11-19T22:49:45.280Z"
   },
   {
    "duration": 2938,
    "start_time": "2022-11-19T22:50:05.129Z"
   },
   {
    "duration": 3,
    "start_time": "2022-11-19T22:50:22.270Z"
   },
   {
    "duration": 42,
    "start_time": "2022-11-19T22:50:23.070Z"
   },
   {
    "duration": 72,
    "start_time": "2022-11-19T22:50:23.600Z"
   },
   {
    "duration": 4,
    "start_time": "2022-11-19T22:50:24.990Z"
   },
   {
    "duration": 15,
    "start_time": "2022-11-19T22:50:25.529Z"
   },
   {
    "duration": 2,
    "start_time": "2022-11-19T22:50:27.380Z"
   },
   {
    "duration": 2903,
    "start_time": "2022-11-19T22:50:28.220Z"
   },
   {
    "duration": 3422,
    "start_time": "2022-11-19T22:50:55.199Z"
   },
   {
    "duration": 108,
    "start_time": "2022-11-19T22:51:29.429Z"
   },
   {
    "duration": 274,
    "start_time": "2022-11-19T22:52:07.080Z"
   },
   {
    "duration": 1117,
    "start_time": "2022-11-19T22:55:47.159Z"
   },
   {
    "duration": 69,
    "start_time": "2022-11-19T22:55:48.278Z"
   },
   {
    "duration": 62,
    "start_time": "2022-11-19T22:55:48.349Z"
   },
   {
    "duration": 3,
    "start_time": "2022-11-19T22:55:48.413Z"
   },
   {
    "duration": 12,
    "start_time": "2022-11-19T22:55:48.419Z"
   },
   {
    "duration": 3,
    "start_time": "2022-11-19T22:55:48.433Z"
   },
   {
    "duration": 312,
    "start_time": "2022-11-19T22:55:48.438Z"
   },
   {
    "duration": 3865,
    "start_time": "2022-11-19T22:55:48.752Z"
   },
   {
    "duration": 1215,
    "start_time": "2022-11-19T23:02:38.548Z"
   },
   {
    "duration": 63,
    "start_time": "2022-11-19T23:02:39.766Z"
   },
   {
    "duration": 61,
    "start_time": "2022-11-19T23:02:39.831Z"
   },
   {
    "duration": 4,
    "start_time": "2022-11-19T23:02:39.893Z"
   },
   {
    "duration": 31,
    "start_time": "2022-11-19T23:02:39.912Z"
   },
   {
    "duration": 2,
    "start_time": "2022-11-19T23:02:39.945Z"
   },
   {
    "duration": 301,
    "start_time": "2022-11-19T23:02:39.949Z"
   },
   {
    "duration": 3815,
    "start_time": "2022-11-19T23:02:40.252Z"
   },
   {
    "duration": 1145,
    "start_time": "2022-11-19T23:06:58.499Z"
   },
   {
    "duration": 45,
    "start_time": "2022-11-19T23:06:59.647Z"
   },
   {
    "duration": 64,
    "start_time": "2022-11-19T23:06:59.694Z"
   },
   {
    "duration": 4,
    "start_time": "2022-11-19T23:06:59.760Z"
   },
   {
    "duration": 15,
    "start_time": "2022-11-19T23:06:59.766Z"
   },
   {
    "duration": 5,
    "start_time": "2022-11-19T23:06:59.783Z"
   },
   {
    "duration": 293,
    "start_time": "2022-11-19T23:06:59.790Z"
   },
   {
    "duration": 3883,
    "start_time": "2022-11-19T23:07:00.085Z"
   },
   {
    "duration": 167055,
    "start_time": "2022-11-19T23:07:03.969Z"
   },
   {
    "duration": 4,
    "start_time": "2022-11-19T23:09:51.026Z"
   },
   {
    "duration": 61,
    "start_time": "2022-11-19T23:09:51.032Z"
   },
   {
    "duration": 19,
    "start_time": "2022-11-19T23:09:51.095Z"
   },
   {
    "duration": 1079,
    "start_time": "2022-11-19T23:10:37.150Z"
   },
   {
    "duration": 45,
    "start_time": "2022-11-19T23:10:38.231Z"
   },
   {
    "duration": 62,
    "start_time": "2022-11-19T23:10:38.277Z"
   },
   {
    "duration": 4,
    "start_time": "2022-11-19T23:10:38.340Z"
   },
   {
    "duration": 15,
    "start_time": "2022-11-19T23:10:38.347Z"
   },
   {
    "duration": 3,
    "start_time": "2022-11-19T23:10:38.364Z"
   },
   {
    "duration": 315,
    "start_time": "2022-11-19T23:10:38.369Z"
   },
   {
    "duration": 3826,
    "start_time": "2022-11-19T23:10:38.686Z"
   },
   {
    "duration": 1143,
    "start_time": "2022-11-20T06:11:56.484Z"
   },
   {
    "duration": 57,
    "start_time": "2022-11-20T06:11:57.629Z"
   },
   {
    "duration": 74,
    "start_time": "2022-11-20T06:11:57.688Z"
   },
   {
    "duration": 4,
    "start_time": "2022-11-20T06:11:57.764Z"
   },
   {
    "duration": 16,
    "start_time": "2022-11-20T06:11:57.771Z"
   },
   {
    "duration": 2,
    "start_time": "2022-11-20T06:11:57.789Z"
   },
   {
    "duration": 333,
    "start_time": "2022-11-20T06:11:57.793Z"
   },
   {
    "duration": 3977,
    "start_time": "2022-11-20T06:11:58.128Z"
   },
   {
    "duration": 1125,
    "start_time": "2022-11-20T06:18:48.244Z"
   },
   {
    "duration": 54,
    "start_time": "2022-11-20T06:18:49.371Z"
   },
   {
    "duration": 58,
    "start_time": "2022-11-20T06:18:49.427Z"
   },
   {
    "duration": 3,
    "start_time": "2022-11-20T06:18:49.487Z"
   },
   {
    "duration": 27,
    "start_time": "2022-11-20T06:18:49.492Z"
   },
   {
    "duration": 4,
    "start_time": "2022-11-20T06:18:49.521Z"
   },
   {
    "duration": 332,
    "start_time": "2022-11-20T06:18:49.527Z"
   },
   {
    "duration": 3837,
    "start_time": "2022-11-20T06:18:49.861Z"
   },
   {
    "duration": 28888,
    "start_time": "2022-11-20T06:18:53.699Z"
   },
   {
    "duration": 5,
    "start_time": "2022-11-20T06:19:22.588Z"
   },
   {
    "duration": 18,
    "start_time": "2022-11-20T06:19:22.594Z"
   },
   {
    "duration": 4,
    "start_time": "2022-11-20T06:19:22.614Z"
   },
   {
    "duration": 1131,
    "start_time": "2022-11-20T06:20:28.682Z"
   },
   {
    "duration": 102,
    "start_time": "2022-11-20T06:20:29.815Z"
   },
   {
    "duration": 57,
    "start_time": "2022-11-20T06:20:29.918Z"
   },
   {
    "duration": 4,
    "start_time": "2022-11-20T06:20:29.977Z"
   },
   {
    "duration": 29,
    "start_time": "2022-11-20T06:20:29.983Z"
   },
   {
    "duration": 13,
    "start_time": "2022-11-20T06:20:30.014Z"
   },
   {
    "duration": 326,
    "start_time": "2022-11-20T06:20:30.028Z"
   },
   {
    "duration": 3745,
    "start_time": "2022-11-20T06:20:30.356Z"
   },
   {
    "duration": 1098,
    "start_time": "2022-11-20T06:23:13.323Z"
   },
   {
    "duration": 50,
    "start_time": "2022-11-20T06:23:14.424Z"
   },
   {
    "duration": 57,
    "start_time": "2022-11-20T06:23:14.475Z"
   },
   {
    "duration": 3,
    "start_time": "2022-11-20T06:23:14.533Z"
   },
   {
    "duration": 10,
    "start_time": "2022-11-20T06:23:14.538Z"
   },
   {
    "duration": 3,
    "start_time": "2022-11-20T06:23:14.549Z"
   },
   {
    "duration": 307,
    "start_time": "2022-11-20T06:23:14.553Z"
   },
   {
    "duration": 3883,
    "start_time": "2022-11-20T06:23:14.862Z"
   },
   {
    "duration": 81669,
    "start_time": "2022-11-20T06:23:18.747Z"
   },
   {
    "duration": 5,
    "start_time": "2022-11-20T06:24:40.418Z"
   },
   {
    "duration": 7,
    "start_time": "2022-11-20T06:24:40.425Z"
   },
   {
    "duration": 9,
    "start_time": "2022-11-20T06:24:40.434Z"
   },
   {
    "duration": 1061,
    "start_time": "2022-11-20T06:27:24.633Z"
   },
   {
    "duration": 48,
    "start_time": "2022-11-20T06:27:25.697Z"
   },
   {
    "duration": 56,
    "start_time": "2022-11-20T06:27:25.746Z"
   },
   {
    "duration": 3,
    "start_time": "2022-11-20T06:27:25.804Z"
   },
   {
    "duration": 10,
    "start_time": "2022-11-20T06:27:25.809Z"
   },
   {
    "duration": 3,
    "start_time": "2022-11-20T06:27:25.821Z"
   },
   {
    "duration": 280,
    "start_time": "2022-11-20T06:27:25.826Z"
   },
   {
    "duration": 3677,
    "start_time": "2022-11-20T06:27:26.107Z"
   },
   {
    "duration": 126157,
    "start_time": "2022-11-20T06:27:29.786Z"
   },
   {
    "duration": 4,
    "start_time": "2022-11-20T06:29:35.944Z"
   },
   {
    "duration": 32,
    "start_time": "2022-11-20T06:29:35.949Z"
   },
   {
    "duration": 4,
    "start_time": "2022-11-20T06:29:35.983Z"
   },
   {
    "duration": 97,
    "start_time": "2022-11-20T06:42:37.083Z"
   },
   {
    "duration": 13,
    "start_time": "2022-11-20T06:42:50.204Z"
   },
   {
    "duration": 11,
    "start_time": "2022-11-20T06:44:21.033Z"
   },
   {
    "duration": 25,
    "start_time": "2022-11-20T06:44:26.752Z"
   },
   {
    "duration": 1158,
    "start_time": "2022-11-20T06:45:09.793Z"
   },
   {
    "duration": 54,
    "start_time": "2022-11-20T06:45:10.953Z"
   },
   {
    "duration": 64,
    "start_time": "2022-11-20T06:45:11.009Z"
   },
   {
    "duration": 4,
    "start_time": "2022-11-20T06:45:11.075Z"
   },
   {
    "duration": 12,
    "start_time": "2022-11-20T06:45:11.081Z"
   },
   {
    "duration": 3,
    "start_time": "2022-11-20T06:45:11.111Z"
   },
   {
    "duration": 298,
    "start_time": "2022-11-20T06:45:11.116Z"
   },
   {
    "duration": 3793,
    "start_time": "2022-11-20T06:45:11.415Z"
   },
   {
    "duration": 130419,
    "start_time": "2022-11-20T06:45:15.209Z"
   },
   {
    "duration": 4,
    "start_time": "2022-11-20T06:47:25.631Z"
   },
   {
    "duration": 401,
    "start_time": "2022-11-20T06:47:25.636Z"
   },
   {
    "duration": 4,
    "start_time": "2022-11-20T06:47:26.039Z"
   },
   {
    "duration": 112,
    "start_time": "2022-11-20T06:51:15.024Z"
   },
   {
    "duration": 4,
    "start_time": "2022-11-20T06:51:21.472Z"
   },
   {
    "duration": 2,
    "start_time": "2022-11-20T06:51:26.803Z"
   },
   {
    "duration": 6,
    "start_time": "2022-11-20T06:52:44.303Z"
   },
   {
    "duration": 8,
    "start_time": "2022-11-20T06:53:28.763Z"
   },
   {
    "duration": 55,
    "start_time": "2022-11-20T06:54:51.483Z"
   },
   {
    "duration": 8,
    "start_time": "2022-11-20T06:54:56.543Z"
   },
   {
    "duration": 6,
    "start_time": "2022-11-20T06:59:28.353Z"
   },
   {
    "duration": 6,
    "start_time": "2022-11-20T07:00:04.302Z"
   },
   {
    "duration": 7,
    "start_time": "2022-11-20T07:00:09.283Z"
   },
   {
    "duration": 6,
    "start_time": "2022-11-20T07:00:20.953Z"
   },
   {
    "duration": 7,
    "start_time": "2022-11-20T07:00:28.553Z"
   },
   {
    "duration": 8,
    "start_time": "2022-11-20T07:01:36.514Z"
   },
   {
    "duration": 6,
    "start_time": "2022-11-20T07:02:20.684Z"
   },
   {
    "duration": 6,
    "start_time": "2022-11-20T07:02:29.563Z"
   },
   {
    "duration": 20,
    "start_time": "2022-11-20T12:29:51.367Z"
   },
   {
    "duration": 10,
    "start_time": "2022-11-20T12:29:58.106Z"
   },
   {
    "duration": 7473,
    "start_time": "2022-11-20T12:30:45.179Z"
   },
   {
    "duration": 48,
    "start_time": "2022-11-20T12:30:55.025Z"
   },
   {
    "duration": 118,
    "start_time": "2022-11-20T12:31:22.836Z"
   },
   {
    "duration": 15,
    "start_time": "2022-11-20T12:31:32.886Z"
   },
   {
    "duration": 42,
    "start_time": "2022-11-20T12:32:08.856Z"
   },
   {
    "duration": 15,
    "start_time": "2022-11-20T12:32:15.386Z"
   },
   {
    "duration": 403,
    "start_time": "2022-11-20T12:32:45.585Z"
   },
   {
    "duration": 53,
    "start_time": "2022-11-20T12:33:46.097Z"
   },
   {
    "duration": 5,
    "start_time": "2022-11-20T12:43:37.047Z"
   },
   {
    "duration": 17,
    "start_time": "2022-11-20T12:43:43.476Z"
   },
   {
    "duration": 4,
    "start_time": "2022-11-20T12:43:48.877Z"
   },
   {
    "duration": 18,
    "start_time": "2022-11-20T12:43:54.847Z"
   },
   {
    "duration": 3,
    "start_time": "2022-11-20T12:53:55.927Z"
   },
   {
    "duration": 15,
    "start_time": "2022-11-20T13:17:38.986Z"
   },
   {
    "duration": 3,
    "start_time": "2022-11-20T13:27:25.370Z"
   },
   {
    "duration": 4,
    "start_time": "2022-11-20T13:34:03.027Z"
   },
   {
    "duration": 116,
    "start_time": "2022-11-20T13:44:41.717Z"
   },
   {
    "duration": 4677,
    "start_time": "2022-11-20T13:59:02.746Z"
   },
   {
    "duration": 44,
    "start_time": "2022-11-20T14:00:20.777Z"
   },
   {
    "duration": 56,
    "start_time": "2022-11-20T14:01:36.117Z"
   },
   {
    "duration": 989,
    "start_time": "2022-11-20T14:01:58.097Z"
   },
   {
    "duration": 49,
    "start_time": "2022-11-20T14:01:59.088Z"
   },
   {
    "duration": 60,
    "start_time": "2022-11-20T14:01:59.139Z"
   },
   {
    "duration": 4,
    "start_time": "2022-11-20T14:01:59.201Z"
   },
   {
    "duration": 9,
    "start_time": "2022-11-20T14:01:59.212Z"
   },
   {
    "duration": 2,
    "start_time": "2022-11-20T14:01:59.223Z"
   },
   {
    "duration": 260,
    "start_time": "2022-11-20T14:01:59.227Z"
   },
   {
    "duration": 4032,
    "start_time": "2022-11-20T14:01:59.489Z"
   },
   {
    "duration": 134276,
    "start_time": "2022-11-20T14:02:03.524Z"
   },
   {
    "duration": 4,
    "start_time": "2022-11-20T14:04:17.803Z"
   },
   {
    "duration": 412,
    "start_time": "2022-11-20T14:04:17.812Z"
   },
   {
    "duration": 7,
    "start_time": "2022-11-20T14:04:18.226Z"
   },
   {
    "duration": 2760,
    "start_time": "2022-11-20T14:05:15.572Z"
   },
   {
    "duration": 5,
    "start_time": "2022-11-20T14:07:51.037Z"
   },
   {
    "duration": 1011,
    "start_time": "2022-11-20T15:50:25.888Z"
   },
   {
    "duration": 113,
    "start_time": "2022-11-20T15:50:26.901Z"
   },
   {
    "duration": 91,
    "start_time": "2022-11-20T15:50:27.023Z"
   },
   {
    "duration": 5,
    "start_time": "2022-11-20T15:50:27.118Z"
   },
   {
    "duration": 22,
    "start_time": "2022-11-20T15:50:27.128Z"
   },
   {
    "duration": 8,
    "start_time": "2022-11-20T15:50:27.152Z"
   },
   {
    "duration": 260,
    "start_time": "2022-11-20T15:50:27.162Z"
   },
   {
    "duration": 3995,
    "start_time": "2022-11-20T15:50:27.424Z"
   },
   {
    "duration": 136946,
    "start_time": "2022-11-20T15:50:31.421Z"
   },
   {
    "duration": 5,
    "start_time": "2022-11-20T15:52:48.369Z"
   },
   {
    "duration": 426,
    "start_time": "2022-11-20T15:52:48.375Z"
   },
   {
    "duration": 25,
    "start_time": "2022-11-20T15:52:48.803Z"
   },
   {
    "duration": 973,
    "start_time": "2022-11-20T15:54:30.808Z"
   },
   {
    "duration": 60,
    "start_time": "2022-11-20T15:54:31.783Z"
   },
   {
    "duration": 64,
    "start_time": "2022-11-20T15:54:31.844Z"
   },
   {
    "duration": 6,
    "start_time": "2022-11-20T15:54:31.910Z"
   },
   {
    "duration": 19,
    "start_time": "2022-11-20T15:54:31.921Z"
   },
   {
    "duration": 7,
    "start_time": "2022-11-20T15:54:31.942Z"
   },
   {
    "duration": 238,
    "start_time": "2022-11-20T15:54:31.950Z"
   },
   {
    "duration": 4102,
    "start_time": "2022-11-20T15:54:32.190Z"
   },
   {
    "duration": 137276,
    "start_time": "2022-11-20T15:54:36.295Z"
   },
   {
    "duration": 4,
    "start_time": "2022-11-20T15:56:53.573Z"
   },
   {
    "duration": 449,
    "start_time": "2022-11-20T15:56:53.579Z"
   },
   {
    "duration": 8,
    "start_time": "2022-11-20T15:56:54.030Z"
   }
  ],
  "kernelspec": {
   "display_name": "Python 3 (ipykernel)",
   "language": "python",
   "name": "python3"
  },
  "language_info": {
   "codemirror_mode": {
    "name": "ipython",
    "version": 3
   },
   "file_extension": ".py",
   "mimetype": "text/x-python",
   "name": "python",
   "nbconvert_exporter": "python",
   "pygments_lexer": "ipython3",
   "version": "3.11.5"
  },
  "toc": {
   "base_numbering": 1,
   "nav_menu": {},
   "number_sections": true,
   "sideBar": true,
   "skip_h1_title": true,
   "title_cell": "Table of Contents",
   "title_sidebar": "Contents",
   "toc_cell": false,
   "toc_position": {},
   "toc_section_display": true,
   "toc_window_display": false
  }
 },
 "nbformat": 4,
 "nbformat_minor": 4
}
