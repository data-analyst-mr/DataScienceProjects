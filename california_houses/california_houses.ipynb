{
 "cells": [
  {
   "cell_type": "markdown",
   "id": "624cdc71",
   "metadata": {},
   "source": [
    "# Стоимость жилья в Калифорнии. "
   ]
  },
  {
   "cell_type": "markdown",
   "id": "f1f07180",
   "metadata": {},
   "source": [
    "**Содержание:**  \n",
    "1. [Импорт данных и общая информация](#load_and_info)  \n",
    " 1.1. [Импорт библиотек](#import)  \n",
    " 1.2. [Импорт данных](#read)  \n",
    " 1.3. [Общая информация](#info)  \n",
    "    \n",
    "    \n",
    "2. [Предобработка данных](#preparation)  \n",
    " \n",
    " \n",
    "3. [Построение моделей прогнозирования](#modeling)  \n",
    "\n",
    " \n",
    "4. [Проверка гипотезы о сопоставимости качества предсказаний моделей](#hip)  \n",
    "\n",
    "\n",
    "5. [Общий вывод](#final)  "
   ]
  },
  {
   "cell_type": "markdown",
   "id": "ec7399e1",
   "metadata": {},
   "source": [
    "**Цель исследования:** предсказать медианную стоимость дома в жилом массиве.\n",
    "\n",
    "**Задачи:**  \n",
    "1. Обучить модель и сделать предсказания на тестовой выборке.\n",
    "2. Оценить качество моделей с помощью метрик R2, RMSE и MAE.\n",
    "\n",
    "**Исходные данные:**  \n",
    "Исходные данные представлены в датасете housing.csv - данные о жилье в Калифорнии в 1990 году.\n",
    "\n",
    "В датасете содержатся следующие признаки:  \n",
    "- longitude — широта;\n",
    "- latitude — долгота;\n",
    "- housing_median_age — медианный возраст жителей жилого массива;\n",
    "- total_rooms — общее количество комнат в домах жилого массива;\n",
    "- total_bedrooms — общее количество спален в домах жилого массива;\n",
    "- population — количество человек, которые проживают в жилом массиве;\n",
    "- households — количество домовладений в жилом массиве;\n",
    "- median_income — медианный доход жителей жилого массива;\n",
    "- median_house_value — медианная стоимость дома в жилом массиве;\n",
    "- ocean_proximity — близость к океану."
   ]
  },
  {
   "cell_type": "markdown",
   "id": "cfa2c793",
   "metadata": {},
   "source": [
    "## Импорт данных и общая информация\n",
    "<a id=\"load_and_info\"></a>"
   ]
  },
  {
   "cell_type": "markdown",
   "id": "8c21d7b7",
   "metadata": {},
   "source": [
    "### Импорт библиотек\n",
    "<a id=\"import\"></a>"
   ]
  },
  {
   "cell_type": "code",
   "execution_count": 1,
   "id": "4a34ec44",
   "metadata": {
    "scrolled": true
   },
   "outputs": [],
   "source": [
    "import pandas as pd \n",
    "import numpy as np\n",
    "import warnings\n",
    "\n",
    "import pyspark\n",
    "from pyspark.sql import SparkSession\n",
    "from pyspark.sql.types import *\n",
    "import pyspark.sql.functions as F\n",
    "\n",
    "from pyspark.ml.feature import StringIndexer, VectorAssembler, StandardScaler, Imputer\n",
    "from pyspark.ml.regression import LinearRegression\n",
    "from pyspark.mllib.evaluation import RegressionMetrics\n",
    "from pyspark.ml.evaluation import RegressionEvaluator\n",
    "\n",
    "pyspark_version = pyspark.__version__\n",
    "if int(pyspark_version[:1]) == 3:\n",
    "    from pyspark.ml.feature import OneHotEncoder         as OHE\n",
    "elif int(pyspark_version[:1]) == 2:\n",
    "    from pyspark.ml.feature import OneHotEncodeEstimator as OHE\n",
    "    \n",
    "from scipy.stats import levene\n",
    "from scipy import stats as st\n",
    "    \n",
    "warnings.filterwarnings(\"ignore\")"
   ]
  },
  {
   "cell_type": "markdown",
   "id": "11481e88",
   "metadata": {},
   "source": [
    "### Импорт данных\n",
    "<a id=\"read\"></a>"
   ]
  },
  {
   "cell_type": "code",
   "execution_count": 4,
   "id": "15640a6e",
   "metadata": {},
   "outputs": [
    {
     "name": "stderr",
     "output_type": "stream",
     "text": [
      "                                                                                \r"
     ]
    }
   ],
   "source": [
    "RANDOM_SEED = 2022\n",
    "\n",
    "spark = SparkSession.builder \\\n",
    "                    .master(\"local\") \\\n",
    "                    .appName(\"Titanic - Linear regression\") \\\n",
    "                    .getOrCreate()\n",
    "\n",
    "df = spark.read.option('header', 'true').csv('/datasets/housing.csv', inferSchema = True)"
   ]
  },
  {
   "cell_type": "markdown",
   "id": "00ff610b",
   "metadata": {},
   "source": [
    "### Общая информация\n",
    "<a id=\"info\"></a>"
   ]
  },
  {
   "cell_type": "markdown",
   "id": "c528fd40",
   "metadata": {},
   "source": [
    "Выводим схему таблицы:"
   ]
  },
  {
   "cell_type": "code",
   "execution_count": 5,
   "id": "ae64c4b6",
   "metadata": {
    "scrolled": true
   },
   "outputs": [
    {
     "name": "stdout",
     "output_type": "stream",
     "text": [
      "root\n",
      " |-- longitude: double (nullable = true)\n",
      " |-- latitude: double (nullable = true)\n",
      " |-- housing_median_age: double (nullable = true)\n",
      " |-- total_rooms: double (nullable = true)\n",
      " |-- total_bedrooms: double (nullable = true)\n",
      " |-- population: double (nullable = true)\n",
      " |-- households: double (nullable = true)\n",
      " |-- median_income: double (nullable = true)\n",
      " |-- median_house_value: double (nullable = true)\n",
      " |-- ocean_proximity: string (nullable = true)\n",
      "\n"
     ]
    }
   ],
   "source": [
    "df.printSchema()"
   ]
  },
  {
   "cell_type": "markdown",
   "id": "4a07791b",
   "metadata": {},
   "source": [
    "Определяем количество строк в датафрейме:"
   ]
  },
  {
   "cell_type": "code",
   "execution_count": 6,
   "id": "4ffa4c33",
   "metadata": {},
   "outputs": [
    {
     "name": "stdout",
     "output_type": "stream",
     "text": [
      "Количество строк в датафрейме: 20640\n"
     ]
    }
   ],
   "source": [
    "print('Количество строк в датафрейме:', df.count())"
   ]
  },
  {
   "cell_type": "markdown",
   "id": "a092835d",
   "metadata": {},
   "source": [
    "Подсчитываем количество пропущенных значений:"
   ]
  },
  {
   "cell_type": "code",
   "execution_count": 7,
   "id": "bae93d26",
   "metadata": {
    "scrolled": true
   },
   "outputs": [
    {
     "data": {
      "text/plain": [
       "{'longitude': 0,\n",
       " 'latitude': 0,\n",
       " 'housing_median_age': 0,\n",
       " 'total_rooms': 0,\n",
       " 'total_bedrooms': 207,\n",
       " 'population': 0,\n",
       " 'households': 0,\n",
       " 'median_income': 0,\n",
       " 'median_house_value': 0,\n",
       " 'ocean_proximity': 0}"
      ]
     },
     "execution_count": 7,
     "metadata": {},
     "output_type": "execute_result"
    }
   ],
   "source": [
    "Dict_Null = {col:df.filter(df[col].isNull()).count() for col in df.columns}\n",
    "Dict_Null"
   ]
  },
  {
   "cell_type": "code",
   "execution_count": 8,
   "id": "49660936",
   "metadata": {},
   "outputs": [
    {
     "name": "stdout",
     "output_type": "stream",
     "text": [
      "Максимальный процент строк с пропущенными значениями: 1.00%\n"
     ]
    }
   ],
   "source": [
    "sum_nan = 0\n",
    "subset = []\n",
    "for key, value in Dict_Null.items():\n",
    "    sum_nan += value\n",
    "    if value != 0:\n",
    "        subset.append(key)\n",
    "print('Максимальный процент строк с пропущенными значениями: {:.2%}'.format(sum_nan/df.toPandas().shape[0]))"
   ]
  },
  {
   "cell_type": "markdown",
   "id": "86973480",
   "metadata": {},
   "source": [
    "Процент строк с пропущенными значениями невелик - 1% (все для признака \"total_bedrooms\")."
   ]
  },
  {
   "cell_type": "markdown",
   "id": "5fe8d563",
   "metadata": {},
   "source": [
    "**Вывод:**  \n",
    "1. Датафрейм состоит из 20640 строк и 10 признаков.  \n",
    "2. В датафрейме 207 пропущенных значений.  \n",
    "3. Cледующие признаки имеют тип double:  \n",
    " - longitude;  \n",
    " - latitude;  \n",
    " - housing_median_age;  \n",
    " - total_rooms;  \n",
    " - total_bedrooms;  \n",
    " - population;  \n",
    " - households;  \n",
    " - median_income;  \n",
    " - median_house_value.  \n",
    "\n",
    " Cледующие признаки имеют тип string:  \n",
    " - ocean_proximity."
   ]
  },
  {
   "cell_type": "markdown",
   "id": "492dcc67",
   "metadata": {},
   "source": [
    "## Предобработка данных\n",
    "<a id=\"preparation\"></a>  "
   ]
  },
  {
   "cell_type": "markdown",
   "id": "834f2cb3",
   "metadata": {},
   "source": [
    "Разбиваем категориальные, числовые данные и целевой признак на соответствующие списки:"
   ]
  },
  {
   "cell_type": "code",
   "execution_count": 9,
   "id": "147584be",
   "metadata": {},
   "outputs": [],
   "source": [
    "categorical_cols = ['ocean_proximity']\n",
    "numerical_cols  = ['longitude', 'latitude', 'housing_median_age', 'total_rooms', \n",
    "                  'total_bedrooms','population', 'households', 'median_income']\n",
    "target = 'median_house_value'"
   ]
  },
  {
   "cell_type": "markdown",
   "id": "54c517c1",
   "metadata": {},
   "source": [
    "Заменяем пропущенные значения числовых признаков на медианные значения, а текстовых - \"no available\":"
   ]
  },
  {
   "cell_type": "code",
   "execution_count": 10,
   "id": "54b06294",
   "metadata": {},
   "outputs": [
    {
     "name": "stderr",
     "output_type": "stream",
     "text": [
      "                                                                                \r"
     ]
    },
    {
     "data": {
      "text/html": [
       "<div>\n",
       "<style scoped>\n",
       "    .dataframe tbody tr th:only-of-type {\n",
       "        vertical-align: middle;\n",
       "    }\n",
       "\n",
       "    .dataframe tbody tr th {\n",
       "        vertical-align: top;\n",
       "    }\n",
       "\n",
       "    .dataframe thead th {\n",
       "        text-align: right;\n",
       "    }\n",
       "</style>\n",
       "<table border=\"1\" class=\"dataframe\">\n",
       "  <thead>\n",
       "    <tr style=\"text-align: right;\">\n",
       "      <th></th>\n",
       "      <th>summary</th>\n",
       "      <th>longitude</th>\n",
       "      <th>latitude</th>\n",
       "      <th>housing_median_age</th>\n",
       "      <th>total_rooms</th>\n",
       "      <th>total_bedrooms</th>\n",
       "      <th>population</th>\n",
       "      <th>households</th>\n",
       "      <th>median_income</th>\n",
       "      <th>median_house_value</th>\n",
       "      <th>ocean_proximity</th>\n",
       "    </tr>\n",
       "  </thead>\n",
       "  <tbody>\n",
       "    <tr>\n",
       "      <th>0</th>\n",
       "      <td>count</td>\n",
       "      <td>20640</td>\n",
       "      <td>20640</td>\n",
       "      <td>20640</td>\n",
       "      <td>20640</td>\n",
       "      <td>20640</td>\n",
       "      <td>20640</td>\n",
       "      <td>20640</td>\n",
       "      <td>20640</td>\n",
       "      <td>20640</td>\n",
       "      <td>20640</td>\n",
       "    </tr>\n",
       "    <tr>\n",
       "      <th>1</th>\n",
       "      <td>mean</td>\n",
       "      <td>-119.56970445736148</td>\n",
       "      <td>35.6318614341087</td>\n",
       "      <td>28.639486434108527</td>\n",
       "      <td>2635.7630813953488</td>\n",
       "      <td>536.8388565891473</td>\n",
       "      <td>1425.4767441860465</td>\n",
       "      <td>499.5396802325581</td>\n",
       "      <td>3.8706710029070246</td>\n",
       "      <td>206855.81690891474</td>\n",
       "      <td>None</td>\n",
       "    </tr>\n",
       "    <tr>\n",
       "      <th>2</th>\n",
       "      <td>stddev</td>\n",
       "      <td>2.003531723502584</td>\n",
       "      <td>2.135952397457101</td>\n",
       "      <td>12.58555761211163</td>\n",
       "      <td>2181.6152515827944</td>\n",
       "      <td>419.39187792168866</td>\n",
       "      <td>1132.46212176534</td>\n",
       "      <td>382.3297528316098</td>\n",
       "      <td>1.899821717945263</td>\n",
       "      <td>115395.61587441359</td>\n",
       "      <td>None</td>\n",
       "    </tr>\n",
       "    <tr>\n",
       "      <th>3</th>\n",
       "      <td>min</td>\n",
       "      <td>-124.35</td>\n",
       "      <td>32.54</td>\n",
       "      <td>1.0</td>\n",
       "      <td>2.0</td>\n",
       "      <td>1.0</td>\n",
       "      <td>3.0</td>\n",
       "      <td>1.0</td>\n",
       "      <td>0.4999</td>\n",
       "      <td>14999.0</td>\n",
       "      <td>&lt;1H OCEAN</td>\n",
       "    </tr>\n",
       "    <tr>\n",
       "      <th>4</th>\n",
       "      <td>max</td>\n",
       "      <td>-114.31</td>\n",
       "      <td>41.95</td>\n",
       "      <td>52.0</td>\n",
       "      <td>39320.0</td>\n",
       "      <td>6445.0</td>\n",
       "      <td>35682.0</td>\n",
       "      <td>6082.0</td>\n",
       "      <td>15.0001</td>\n",
       "      <td>500001.0</td>\n",
       "      <td>NEAR OCEAN</td>\n",
       "    </tr>\n",
       "  </tbody>\n",
       "</table>\n",
       "</div>"
      ],
      "text/plain": [
       "  summary            longitude           latitude  housing_median_age  \\\n",
       "0   count                20640              20640               20640   \n",
       "1    mean  -119.56970445736148   35.6318614341087  28.639486434108527   \n",
       "2  stddev    2.003531723502584  2.135952397457101   12.58555761211163   \n",
       "3     min              -124.35              32.54                 1.0   \n",
       "4     max              -114.31              41.95                52.0   \n",
       "\n",
       "          total_rooms      total_bedrooms          population  \\\n",
       "0               20640               20640               20640   \n",
       "1  2635.7630813953488   536.8388565891473  1425.4767441860465   \n",
       "2  2181.6152515827944  419.39187792168866    1132.46212176534   \n",
       "3                 2.0                 1.0                 3.0   \n",
       "4             39320.0              6445.0             35682.0   \n",
       "\n",
       "          households       median_income  median_house_value ocean_proximity  \n",
       "0              20640               20640               20640           20640  \n",
       "1  499.5396802325581  3.8706710029070246  206855.81690891474            None  \n",
       "2  382.3297528316098   1.899821717945263  115395.61587441359            None  \n",
       "3                1.0              0.4999             14999.0       <1H OCEAN  \n",
       "4             6082.0             15.0001            500001.0      NEAR OCEAN  "
      ]
     },
     "execution_count": 10,
     "metadata": {},
     "output_type": "execute_result"
    }
   ],
   "source": [
    "for i in numerical_cols:\n",
    "    df = df.na.fill(df.agg(F.expr('percentile(' + i + ', 0.5)')).collect()[0][0], i)\n",
    "    \n",
    "for i in categorical_cols:\n",
    "    df = df.na.fill('no available', i)\n",
    "    \n",
    "df.describe().toPandas()"
   ]
  },
  {
   "cell_type": "markdown",
   "id": "254a073d",
   "metadata": {},
   "source": [
    "**Вывод**  \n",
    "1. Удалены пропущенные значения;  \n",
    "2. Категориальные, числовые данные и целевой признак разбили на соответствующие списки."
   ]
  },
  {
   "cell_type": "markdown",
   "id": "ab47155f",
   "metadata": {},
   "source": [
    "## Построение моделей прогнозирования\n",
    "<a id=\"modeling\"></a>"
   ]
  },
  {
   "cell_type": "markdown",
   "id": "3e2c4ba8",
   "metadata": {},
   "source": [
    "Функуия построения моделей прогнозирования и рассчета метрик:"
   ]
  },
  {
   "cell_type": "code",
   "execution_count": 11,
   "id": "80ec5934",
   "metadata": {},
   "outputs": [],
   "source": [
    "def modern(df_tmp, numerical_cols, categorical_cols=[]):\n",
    " \n",
    "    \n",
    "    # Разделяем датафрейм на обучающую и тестовую выборки\n",
    "    train_data, test_data = df_tmp.randomSplit([.8,.2], seed=RANDOM_SEED)\n",
    "    data_list = [train_data, test_data]\n",
    "    \n",
    "    if categorical_cols != []:\n",
    "        # трансформируем категориальные признаки - переводим текстовые категории в числовое представление.\n",
    "        indexer = StringIndexer(inputCols=categorical_cols, \n",
    "                            outputCols=[c+'_idx' for c in categorical_cols])\n",
    "        indexer_tmp = indexer.setHandleInvalid(\"skip\").fit(train_data)\n",
    "        train_data = indexer_tmp.transform(train_data)\n",
    "        test_data = indexer_tmp.transform(test_data)\n",
    "        for i in data_list:\n",
    "            cols = [c for c in i.columns for j in categorical_cols if (c.startswith(j))]\n",
    "    \n",
    "    \n",
    "        #Производим OHE-кодирование для категориальных признаков\n",
    "        encoder = OHE(inputCols=[c+'_idx' for c in categorical_cols],\n",
    "                                outputCols=[c+'_ohe' for c in categorical_cols])\n",
    "        encoder_tmp = encoder.fit(train_data)\n",
    "        train_data = encoder_tmp.transform(train_data)\n",
    "        test_data = encoder_tmp.transform(test_data)\n",
    "        for i in data_list:\n",
    "            cols = [c for c in i.columns for j in categorical_cols if (c.startswith(j))]\n",
    "        \n",
    "        \n",
    "        # Объединяем категориальные признаки в один вектор\n",
    "        categorical_assembler = VectorAssembler(inputCols=[c+'_ohe' for c in categorical_cols],\n",
    "                                                outputCol=\"categorical_features\")\n",
    "        train_data = categorical_assembler.transform(train_data)\n",
    "        test_data = categorical_assembler.transform(test_data)\n",
    "    \n",
    "    \n",
    "    # Объединяем числовые признаки в один вектор\n",
    "    numerical_assembler = VectorAssembler(inputCols=numerical_cols,\n",
    "                                          outputCol=\"numerical_features\")\n",
    "    train_data = numerical_assembler.transform(train_data)\n",
    "    test_data = numerical_assembler.transform(test_data)\n",
    "    \n",
    "    \n",
    "    # Масштабируем числовые признаки\n",
    "    standardScaler = StandardScaler(inputCol='numerical_features',\n",
    "                                    outputCol=\"numerical_features_scaled\")\n",
    "    standardScaler_tmp = standardScaler.fit(train_data)\n",
    "    train_data = standardScaler_tmp.transform(train_data)\n",
    "    test_data = standardScaler_tmp.transform(test_data)\n",
    "    \n",
    "    \n",
    "    # собраем трансформированные категорийные и числовые в один вектор\n",
    "    if categorical_cols != []:\n",
    "        all_features = ['categorical_features','numerical_features_scaled']\n",
    "    else:\n",
    "        all_features = ['numerical_features_scaled']\n",
    "    final_assembler = VectorAssembler(inputCols=all_features, \n",
    "                                      outputCol=\"features\") \n",
    "    train_data = final_assembler.transform(train_data)\n",
    "    test_data = final_assembler.transform(test_data)\n",
    "    \n",
    "    \n",
    "    # Обучаем модель LinearRegression\n",
    "    lr = LinearRegression(labelCol=target, featuresCol='features')\n",
    "    model = lr.fit(train_data) \n",
    "    \n",
    "    \n",
    "    # Осуществляем предсказание целевого признака\n",
    "    predictions = model.transform(test_data)\n",
    "    predictedLabes = predictions.select(\"median_house_value\", \"prediction\")\n",
    "    \n",
    "    \n",
    "    # Рассчитываем метрику R2\n",
    "    r2_metric = RegressionEvaluator(predictionCol=\"prediction\", labelCol=\"median_house_value\",metricName=\"r2\")\n",
    "    print('R2: {:.3f}'.format(r2_metric.evaluate(predictions)))\n",
    "    \n",
    "    \n",
    "    # Рассчитываем метрику RMSE\n",
    "    rmse_metric = RegressionEvaluator(predictionCol=\"prediction\", \\\n",
    "                 labelCol=\"median_house_value\",metricName=\"rmse\")\n",
    "    print('RMSE: {:.3f}'.format(rmse_metric.evaluate(predictions)))\n",
    "    \n",
    "    # Рассчитываем метрику MAE\n",
    "    mae_metric = RegressionEvaluator(predictionCol=\"prediction\", \\\n",
    "                 labelCol=\"median_house_value\",metricName=\"mae\")\n",
    "    print('MAE: {:.3f}'.format(mae_metric.evaluate(predictions)))\n",
    "    \n",
    "    return predictedLabes.toPandas()"
   ]
  },
  {
   "cell_type": "markdown",
   "id": "76b899ef",
   "metadata": {},
   "source": [
    "Метрики R2, RMSE и MAE для модели, построенной по всем данным:"
   ]
  },
  {
   "cell_type": "code",
   "execution_count": 12,
   "id": "2c87bca1",
   "metadata": {
    "scrolled": true
   },
   "outputs": [
    {
     "name": "stderr",
     "output_type": "stream",
     "text": [
      "23/09/30 11:43:44 WARN Instrumentation: [17f7464f] regParam is zero, which might cause numerical instability and overfitting.\n",
      "23/09/30 11:43:44 WARN BLAS: Failed to load implementation from: com.github.fommil.netlib.NativeSystemBLAS\n",
      "23/09/30 11:43:44 WARN BLAS: Failed to load implementation from: com.github.fommil.netlib.NativeRefBLAS\n",
      "23/09/30 11:43:45 WARN LAPACK: Failed to load implementation from: com.github.fommil.netlib.NativeSystemLAPACK\n",
      "23/09/30 11:43:45 WARN LAPACK: Failed to load implementation from: com.github.fommil.netlib.NativeRefLAPACK\n",
      "                                                                                \r"
     ]
    },
    {
     "name": "stdout",
     "output_type": "stream",
     "text": [
      "R2: 0.656\n",
      "RMSE: 68223.129\n",
      "MAE: 49725.965\n"
     ]
    }
   ],
   "source": [
    "predict_all = modern(df, numerical_cols, categorical_cols)"
   ]
  },
  {
   "cell_type": "markdown",
   "id": "fc33d35e",
   "metadata": {},
   "source": [
    "Метрики R2, RMSE и MAE для модели, построенной по числовым данным:"
   ]
  },
  {
   "cell_type": "code",
   "execution_count": 13,
   "id": "ba22a1b7",
   "metadata": {},
   "outputs": [
    {
     "name": "stderr",
     "output_type": "stream",
     "text": [
      "23/09/30 11:43:51 WARN Instrumentation: [1c974f1f] regParam is zero, which might cause numerical instability and overfitting.\n"
     ]
    },
    {
     "name": "stdout",
     "output_type": "stream",
     "text": [
      "R2: 0.646\n",
      "RMSE: 69212.861\n",
      "MAE: 50866.560\n"
     ]
    }
   ],
   "source": [
    "predict_num = modern(df, numerical_cols)"
   ]
  },
  {
   "cell_type": "markdown",
   "id": "929da16a",
   "metadata": {},
   "source": [
    "Останавливать сессию spark:"
   ]
  },
  {
   "cell_type": "code",
   "execution_count": 14,
   "id": "6ee91f96",
   "metadata": {},
   "outputs": [],
   "source": [
    "spark.stop()"
   ]
  },
  {
   "cell_type": "markdown",
   "id": "65d0229e",
   "metadata": {},
   "source": [
    "**Вывод:**  \n",
    "1. Модель LinearRegression обучена как на всех признаках, так и только на числовых.  \n",
    "2. Метрики модели, обученной на всех данных:  \n",
    " - R2:  0.656;  \n",
    " - RMSE:  68223.129;  \n",
    " - MAE:  49725.965;  \n",
    " \n",
    " Метрики модели, обученной на числовых данных:  \n",
    " - R2:  0.646;  \n",
    " - RMSE:  69212.861;  \n",
    " - MAE:  50866.560;  \n",
    " \n",
    " \n",
    " Метрики обоих моделей сопоставимы. При этом значение R2 выше у модели,  обученной на всех данных, а RMSE и  MAE - у модели, обученной только на числовых значениях."
   ]
  },
  {
   "cell_type": "markdown",
   "id": "fd77c0a6",
   "metadata": {},
   "source": [
    "## Общий вывод\n",
    "<a id=\"final\"></a>"
   ]
  },
  {
   "cell_type": "markdown",
   "id": "64a05692",
   "metadata": {},
   "source": [
    "**Импорт данных и общая информация**  \n",
    "1. Датафрейм состоит из 20640 строк и 10 признаков.  \n",
    "2. В датафрейме 207 пропущенных значений.  \n",
    "3. Cледующие признаки имеют тип double:  \n",
    " - longitude;  \n",
    " - latitude;  \n",
    " - housing_median_age;  \n",
    " - total_rooms;  \n",
    " - total_bedrooms;  \n",
    " - population;  \n",
    " - households;  \n",
    " - median_income;  \n",
    " - median_house_value.  \n",
    "\n",
    " Cледующие признаки имеют тип string:  \n",
    " - ocean_proximity.\n",
    " \n",
    "\n",
    "**Подготовка данных**  \n",
    "1. Удалены пропущенные значения;  \n",
    "2. Категориальные, числовые данные и целевой признак разбили на соответствующие списки.  \n",
    "\n",
    "\n",
    "**Построение моделей прогнозирования**  \n",
    "1. Модель LinearRegression обучена как на всех признаках, так и только на числовых.  \n",
    "2. Метрики модели, обученной на всех данных:  \n",
    " - R2:  0.656;  \n",
    " - RMSE:  68223.129;  \n",
    " - MAE:  49725.965;  \n",
    " \n",
    " Метрики модели, обученной на числовых данных:  \n",
    " - R2:  0.646;  \n",
    " - RMSE:  69212.861;  \n",
    " - MAE:  50866.560;  \n",
    " \n",
    " \n",
    " Метрики обоих моделей сопоставимы. При этом значение R2 выше у модели,  обученной на всех данных, а RMSE и  MAE - у модели, обученной только на числовых значениях. "
   ]
  }
 ],
 "metadata": {
  "ExecuteTimeLog": [
   {
    "duration": 23213,
    "start_time": "2023-04-08T17:48:08.673Z"
   },
   {
    "duration": 293,
    "start_time": "2023-04-08T17:48:31.888Z"
   },
   {
    "duration": 4021,
    "start_time": "2023-04-08T17:48:40.484Z"
   },
   {
    "duration": 111,
    "start_time": "2023-04-08T17:51:53.393Z"
   },
   {
    "duration": 1312,
    "start_time": "2023-04-08T17:52:11.974Z"
   },
   {
    "duration": 79,
    "start_time": "2023-04-08T17:52:35.003Z"
   },
   {
    "duration": 1219,
    "start_time": "2023-04-08T17:52:50.363Z"
   },
   {
    "duration": 925,
    "start_time": "2023-04-08T17:53:39.983Z"
   },
   {
    "duration": 3,
    "start_time": "2023-04-08T17:55:02.313Z"
   },
   {
    "duration": 2,
    "start_time": "2023-04-08T17:56:10.034Z"
   },
   {
    "duration": 1647,
    "start_time": "2023-04-08T17:56:11.285Z"
   },
   {
    "duration": 538,
    "start_time": "2023-04-08T17:56:20.453Z"
   },
   {
    "duration": 44,
    "start_time": "2023-04-08T17:56:44.804Z"
   },
   {
    "duration": 27,
    "start_time": "2023-04-08T17:56:55.164Z"
   },
   {
    "duration": 1095,
    "start_time": "2023-04-08T17:57:05.883Z"
   },
   {
    "duration": 5,
    "start_time": "2023-04-08T17:57:16.984Z"
   },
   {
    "duration": 335,
    "start_time": "2023-04-08T17:57:41.583Z"
   },
   {
    "duration": 2662,
    "start_time": "2023-04-08T17:57:57.133Z"
   },
   {
    "duration": 22531,
    "start_time": "2023-04-08T18:12:57.358Z"
   },
   {
    "duration": 4306,
    "start_time": "2023-04-08T18:13:19.892Z"
   },
   {
    "duration": 1296,
    "start_time": "2023-04-08T18:13:24.199Z"
   },
   {
    "duration": 4,
    "start_time": "2023-04-08T18:13:25.497Z"
   },
   {
    "duration": 2184,
    "start_time": "2023-04-08T18:13:25.503Z"
   },
   {
    "duration": 706,
    "start_time": "2023-04-08T18:13:27.689Z"
   },
   {
    "duration": 108,
    "start_time": "2023-04-08T18:13:28.396Z"
   },
   {
    "duration": 97,
    "start_time": "2023-04-08T18:13:28.506Z"
   },
   {
    "duration": 1288,
    "start_time": "2023-04-08T18:13:28.605Z"
   },
   {
    "duration": 5,
    "start_time": "2023-04-08T18:13:29.896Z"
   },
   {
    "duration": 472,
    "start_time": "2023-04-08T18:13:29.903Z"
   },
   {
    "duration": 3410,
    "start_time": "2023-04-08T18:13:30.377Z"
   },
   {
    "duration": 23526,
    "start_time": "2023-04-08T19:06:03.079Z"
   },
   {
    "duration": 4578,
    "start_time": "2023-04-08T19:06:26.608Z"
   },
   {
    "duration": 491,
    "start_time": "2023-04-08T19:06:31.187Z"
   },
   {
    "duration": 99,
    "start_time": "2023-04-08T19:08:15.399Z"
   },
   {
    "duration": 7,
    "start_time": "2023-04-08T19:08:23.439Z"
   },
   {
    "duration": 704,
    "start_time": "2023-04-08T19:08:25.710Z"
   },
   {
    "duration": 1496,
    "start_time": "2023-04-08T19:08:26.416Z"
   },
   {
    "duration": 211,
    "start_time": "2023-04-08T19:08:27.971Z"
   },
   {
    "duration": 3,
    "start_time": "2023-04-08T19:08:36.229Z"
   },
   {
    "duration": 6,
    "start_time": "2023-04-08T19:08:48.449Z"
   },
   {
    "duration": 613,
    "start_time": "2023-04-08T19:09:12.659Z"
   },
   {
    "duration": 1524,
    "start_time": "2023-04-08T19:09:13.275Z"
   },
   {
    "duration": 274,
    "start_time": "2023-04-08T19:09:14.800Z"
   },
   {
    "duration": 10,
    "start_time": "2023-04-08T19:09:15.076Z"
   },
   {
    "duration": 75,
    "start_time": "2023-04-08T19:15:55.490Z"
   },
   {
    "duration": 7,
    "start_time": "2023-04-08T19:23:50.729Z"
   },
   {
    "duration": 730,
    "start_time": "2023-04-08T19:23:55.350Z"
   },
   {
    "duration": 1217,
    "start_time": "2023-04-08T19:23:56.083Z"
   },
   {
    "duration": 232,
    "start_time": "2023-04-08T19:23:57.302Z"
   },
   {
    "duration": 8,
    "start_time": "2023-04-08T19:24:11.609Z"
   },
   {
    "duration": 645,
    "start_time": "2023-04-08T19:24:16.539Z"
   },
   {
    "duration": 808,
    "start_time": "2023-04-08T19:24:17.186Z"
   },
   {
    "duration": 182,
    "start_time": "2023-04-08T19:24:17.996Z"
   },
   {
    "duration": 3,
    "start_time": "2023-04-08T19:24:25.389Z"
   },
   {
    "duration": 47,
    "start_time": "2023-04-08T19:24:25.600Z"
   },
   {
    "duration": 33,
    "start_time": "2023-04-08T19:24:25.810Z"
   },
   {
    "duration": 408,
    "start_time": "2023-04-08T19:24:35.190Z"
   },
   {
    "duration": 880,
    "start_time": "2023-04-08T19:24:35.601Z"
   },
   {
    "duration": 158,
    "start_time": "2023-04-08T19:24:36.483Z"
   },
   {
    "duration": 3,
    "start_time": "2023-04-08T19:24:36.642Z"
   },
   {
    "duration": 36,
    "start_time": "2023-04-08T19:24:36.647Z"
   },
   {
    "duration": 0,
    "start_time": "2023-04-08T19:24:36.684Z"
   },
   {
    "duration": 402,
    "start_time": "2023-04-08T19:24:44.189Z"
   },
   {
    "duration": 808,
    "start_time": "2023-04-08T19:24:44.593Z"
   },
   {
    "duration": 2,
    "start_time": "2023-04-08T19:24:45.404Z"
   },
   {
    "duration": 6,
    "start_time": "2023-04-08T19:24:45.408Z"
   },
   {
    "duration": 1815,
    "start_time": "2023-04-08T19:24:45.769Z"
   },
   {
    "duration": 328,
    "start_time": "2023-04-08T19:25:04.849Z"
   },
   {
    "duration": 795,
    "start_time": "2023-04-08T19:25:05.178Z"
   },
   {
    "duration": 204,
    "start_time": "2023-04-08T19:25:05.975Z"
   },
   {
    "duration": 3,
    "start_time": "2023-04-08T19:25:06.182Z"
   },
   {
    "duration": 19,
    "start_time": "2023-04-08T19:25:07.039Z"
   },
   {
    "duration": 17,
    "start_time": "2023-04-08T19:25:08.129Z"
   },
   {
    "duration": 344,
    "start_time": "2023-04-08T19:28:31.729Z"
   },
   {
    "duration": 644,
    "start_time": "2023-04-08T19:28:32.075Z"
   },
   {
    "duration": 482,
    "start_time": "2023-04-08T19:28:33.940Z"
   },
   {
    "duration": 289,
    "start_time": "2023-04-08T19:29:16.719Z"
   },
   {
    "duration": 705,
    "start_time": "2023-04-08T19:29:17.011Z"
   },
   {
    "duration": 612,
    "start_time": "2023-04-08T19:29:17.773Z"
   },
   {
    "duration": 557,
    "start_time": "2023-04-08T19:29:23.649Z"
   },
   {
    "duration": 21,
    "start_time": "2023-04-08T19:29:24.752Z"
   },
   {
    "duration": 9,
    "start_time": "2023-04-08T19:29:54.809Z"
   },
   {
    "duration": 53,
    "start_time": "2023-04-08T19:35:32.779Z"
   },
   {
    "duration": 7,
    "start_time": "2023-04-08T19:35:39.558Z"
   },
   {
    "duration": 2,
    "start_time": "2023-04-08T19:35:41.979Z"
   },
   {
    "duration": 1435,
    "start_time": "2023-04-08T19:35:42.948Z"
   },
   {
    "duration": 248,
    "start_time": "2023-04-08T19:35:44.385Z"
   },
   {
    "duration": 368,
    "start_time": "2023-04-08T19:35:54.869Z"
   },
   {
    "duration": 868,
    "start_time": "2023-04-08T19:35:55.239Z"
   },
   {
    "duration": 575,
    "start_time": "2023-04-08T19:35:56.110Z"
   },
   {
    "duration": 42,
    "start_time": "2023-04-08T19:35:56.688Z"
   },
   {
    "duration": 5,
    "start_time": "2023-04-08T19:35:58.299Z"
   },
   {
    "duration": 3,
    "start_time": "2023-04-08T19:35:59.489Z"
   },
   {
    "duration": 416,
    "start_time": "2023-04-08T19:35:59.879Z"
   },
   {
    "duration": 101,
    "start_time": "2023-04-08T19:36:01.419Z"
   },
   {
    "duration": 111,
    "start_time": "2023-04-08T19:36:06.069Z"
   },
   {
    "duration": 351,
    "start_time": "2023-04-08T19:36:19.159Z"
   },
   {
    "duration": 679,
    "start_time": "2023-04-08T19:36:19.512Z"
   },
   {
    "duration": 500,
    "start_time": "2023-04-08T19:36:20.193Z"
   },
   {
    "duration": 82,
    "start_time": "2023-04-08T19:36:20.694Z"
   },
   {
    "duration": 5,
    "start_time": "2023-04-08T19:36:20.778Z"
   },
   {
    "duration": 4,
    "start_time": "2023-04-08T19:36:31.389Z"
   },
   {
    "duration": 364,
    "start_time": "2023-04-08T19:36:32.019Z"
   },
   {
    "duration": 512,
    "start_time": "2023-04-08T19:36:35.690Z"
   },
   {
    "duration": 28,
    "start_time": "2023-04-08T19:36:38.059Z"
   },
   {
    "duration": 29,
    "start_time": "2023-04-08T19:36:39.239Z"
   },
   {
    "duration": 708,
    "start_time": "2023-04-08T19:36:39.868Z"
   },
   {
    "duration": 4,
    "start_time": "2023-04-08T19:36:41.949Z"
   },
   {
    "duration": 192,
    "start_time": "2023-04-08T19:36:42.799Z"
   },
   {
    "duration": 1323,
    "start_time": "2023-04-08T19:36:45.149Z"
   },
   {
    "duration": 23970,
    "start_time": "2023-04-08T19:37:56.118Z"
   },
   {
    "duration": 4685,
    "start_time": "2023-04-08T19:38:20.091Z"
   },
   {
    "duration": 995,
    "start_time": "2023-04-08T19:38:24.778Z"
   },
   {
    "duration": 321,
    "start_time": "2023-04-08T19:38:25.776Z"
   },
   {
    "duration": 194,
    "start_time": "2023-04-08T19:38:26.100Z"
   },
   {
    "duration": 4,
    "start_time": "2023-04-08T19:38:26.295Z"
   },
   {
    "duration": 2489,
    "start_time": "2023-04-08T19:38:26.300Z"
   },
   {
    "duration": 594,
    "start_time": "2023-04-08T19:38:28.791Z"
   },
   {
    "duration": 101,
    "start_time": "2023-04-08T19:38:29.387Z"
   },
   {
    "duration": 99,
    "start_time": "2023-04-08T19:38:29.491Z"
   },
   {
    "duration": 899,
    "start_time": "2023-04-08T19:38:29.592Z"
   },
   {
    "duration": 6,
    "start_time": "2023-04-08T19:38:30.492Z"
   },
   {
    "duration": 475,
    "start_time": "2023-04-08T19:38:30.499Z"
   },
   {
    "duration": 1628,
    "start_time": "2023-04-08T19:38:30.976Z"
   },
   {
    "duration": 717,
    "start_time": "2023-04-08T19:38:32.672Z"
   },
   {
    "duration": 550,
    "start_time": "2023-04-08T19:38:56.748Z"
   },
   {
    "duration": 1375,
    "start_time": "2023-04-08T19:38:57.301Z"
   },
   {
    "duration": 745,
    "start_time": "2023-04-08T19:38:58.678Z"
   },
   {
    "duration": 48,
    "start_time": "2023-04-08T19:38:59.424Z"
   },
   {
    "duration": 5,
    "start_time": "2023-04-08T19:38:59.475Z"
   },
   {
    "duration": 3,
    "start_time": "2023-04-08T19:39:01.828Z"
   },
   {
    "duration": 450,
    "start_time": "2023-04-08T19:39:02.228Z"
   },
   {
    "duration": 158,
    "start_time": "2023-04-08T19:39:03.059Z"
   },
   {
    "duration": 456,
    "start_time": "2023-04-08T19:39:10.659Z"
   },
   {
    "duration": 1162,
    "start_time": "2023-04-08T19:39:11.117Z"
   },
   {
    "duration": 520,
    "start_time": "2023-04-08T19:39:12.281Z"
   },
   {
    "duration": 86,
    "start_time": "2023-04-08T19:39:12.802Z"
   },
   {
    "duration": 6,
    "start_time": "2023-04-08T19:39:12.890Z"
   },
   {
    "duration": 3,
    "start_time": "2023-04-08T19:39:13.328Z"
   },
   {
    "duration": 391,
    "start_time": "2023-04-08T19:39:13.788Z"
   },
   {
    "duration": 111,
    "start_time": "2023-04-08T19:39:14.388Z"
   },
   {
    "duration": 439,
    "start_time": "2023-04-08T19:39:23.868Z"
   },
   {
    "duration": 1192,
    "start_time": "2023-04-08T19:39:24.309Z"
   },
   {
    "duration": 572,
    "start_time": "2023-04-08T19:39:25.503Z"
   },
   {
    "duration": 64,
    "start_time": "2023-04-08T19:39:26.199Z"
   },
   {
    "duration": 7,
    "start_time": "2023-04-08T19:39:26.599Z"
   },
   {
    "duration": 3,
    "start_time": "2023-04-08T19:39:27.378Z"
   },
   {
    "duration": 362,
    "start_time": "2023-04-08T19:39:27.618Z"
   },
   {
    "duration": 87,
    "start_time": "2023-04-08T19:39:28.148Z"
   },
   {
    "duration": 386,
    "start_time": "2023-04-08T19:39:37.888Z"
   },
   {
    "duration": 919,
    "start_time": "2023-04-08T19:39:38.276Z"
   },
   {
    "duration": 414,
    "start_time": "2023-04-08T19:39:39.196Z"
   },
   {
    "duration": 69,
    "start_time": "2023-04-08T19:39:39.612Z"
   },
   {
    "duration": 4,
    "start_time": "2023-04-08T19:39:39.684Z"
   },
   {
    "duration": 3,
    "start_time": "2023-04-08T19:39:39.758Z"
   },
   {
    "duration": 359,
    "start_time": "2023-04-08T19:39:40.018Z"
   },
   {
    "duration": 176,
    "start_time": "2023-04-08T19:39:40.408Z"
   },
   {
    "duration": 17,
    "start_time": "2023-04-08T19:39:42.278Z"
   },
   {
    "duration": 19,
    "start_time": "2023-04-08T19:39:42.808Z"
   },
   {
    "duration": 166,
    "start_time": "2023-04-08T19:39:43.228Z"
   },
   {
    "duration": 3,
    "start_time": "2023-04-08T19:39:43.598Z"
   },
   {
    "duration": 80,
    "start_time": "2023-04-08T19:39:43.918Z"
   },
   {
    "duration": 525,
    "start_time": "2023-04-08T19:39:44.178Z"
   },
   {
    "duration": 278,
    "start_time": "2023-04-08T19:39:45.138Z"
   },
   {
    "duration": 457528,
    "start_time": "2023-04-08T19:39:48.948Z"
   },
   {
    "duration": 7273,
    "start_time": "2023-04-08T23:25:31.499Z"
   },
   {
    "duration": 3,
    "start_time": "2023-04-08T23:28:38.239Z"
   },
   {
    "duration": 9,
    "start_time": "2023-04-08T23:32:05.868Z"
   },
   {
    "duration": 7,
    "start_time": "2023-04-08T23:32:11.629Z"
   },
   {
    "duration": 13,
    "start_time": "2023-04-08T23:32:14.798Z"
   },
   {
    "duration": 287,
    "start_time": "2023-04-08T23:40:26.268Z"
   },
   {
    "duration": 119,
    "start_time": "2023-04-08T23:42:47.918Z"
   },
   {
    "duration": 893,
    "start_time": "2023-04-08T23:42:54.488Z"
   },
   {
    "duration": 3767,
    "start_time": "2023-04-08T23:43:07.018Z"
   },
   {
    "duration": 3,
    "start_time": "2023-04-08T23:43:45.287Z"
   },
   {
    "duration": 2185,
    "start_time": "2023-04-08T23:43:55.898Z"
   },
   {
    "duration": 80,
    "start_time": "2023-04-08T23:56:54.738Z"
   },
   {
    "duration": 22347,
    "start_time": "2023-04-08T23:57:03.639Z"
   },
   {
    "duration": 3789,
    "start_time": "2023-04-08T23:57:25.990Z"
   },
   {
    "duration": 3,
    "start_time": "2023-04-08T23:57:29.780Z"
   },
   {
    "duration": 1501,
    "start_time": "2023-04-08T23:57:29.784Z"
   },
   {
    "duration": 309,
    "start_time": "2023-04-08T23:57:53.189Z"
   },
   {
    "duration": 583,
    "start_time": "2023-04-08T23:58:06.600Z"
   },
   {
    "duration": 365,
    "start_time": "2023-04-08T23:58:16.609Z"
   },
   {
    "duration": 284,
    "start_time": "2023-04-08T23:58:36.499Z"
   },
   {
    "duration": 11,
    "start_time": "2023-04-08T23:59:07.129Z"
   },
   {
    "duration": 31,
    "start_time": "2023-04-08T23:59:19.959Z"
   },
   {
    "duration": 49,
    "start_time": "2023-04-08T23:59:44.158Z"
   },
   {
    "duration": 29,
    "start_time": "2023-04-08T23:59:52.379Z"
   },
   {
    "duration": 894,
    "start_time": "2023-04-09T00:00:00.609Z"
   },
   {
    "duration": 516,
    "start_time": "2023-04-09T00:00:10.080Z"
   },
   {
    "duration": 96,
    "start_time": "2023-04-09T00:00:16.409Z"
   },
   {
    "duration": 23399,
    "start_time": "2023-04-09T00:01:01.079Z"
   },
   {
    "duration": 4232,
    "start_time": "2023-04-09T00:01:24.480Z"
   },
   {
    "duration": 59,
    "start_time": "2023-04-09T00:01:28.714Z"
   },
   {
    "duration": 1536,
    "start_time": "2023-04-09T00:01:28.775Z"
   },
   {
    "duration": 461,
    "start_time": "2023-04-09T00:01:30.312Z"
   },
   {
    "duration": 106,
    "start_time": "2023-04-09T00:01:30.775Z"
   },
   {
    "duration": 102,
    "start_time": "2023-04-09T00:01:30.883Z"
   },
   {
    "duration": 1317,
    "start_time": "2023-04-09T00:01:30.987Z"
   },
   {
    "duration": 26,
    "start_time": "2023-04-09T00:01:32.371Z"
   },
   {
    "duration": 98,
    "start_time": "2023-04-09T00:01:32.399Z"
   },
   {
    "duration": 178,
    "start_time": "2023-04-09T00:01:32.498Z"
   },
   {
    "duration": 1961,
    "start_time": "2023-04-09T00:02:06.878Z"
   },
   {
    "duration": 12,
    "start_time": "2023-04-09T00:50:59.060Z"
   },
   {
    "duration": 532,
    "start_time": "2023-04-09T00:51:14.268Z"
   },
   {
    "duration": 481,
    "start_time": "2023-04-09T00:51:26.417Z"
   },
   {
    "duration": 436,
    "start_time": "2023-04-09T00:55:43.738Z"
   },
   {
    "duration": 1590,
    "start_time": "2023-04-09T00:55:44.997Z"
   },
   {
    "duration": 816,
    "start_time": "2023-04-09T00:55:46.589Z"
   },
   {
    "duration": 69,
    "start_time": "2023-04-09T00:55:47.407Z"
   },
   {
    "duration": 1023,
    "start_time": "2023-04-09T00:55:47.478Z"
   },
   {
    "duration": 4,
    "start_time": "2023-04-09T00:55:48.503Z"
   },
   {
    "duration": 3,
    "start_time": "2023-04-09T00:55:48.508Z"
   },
   {
    "duration": 1463,
    "start_time": "2023-04-09T00:55:48.513Z"
   },
   {
    "duration": 501,
    "start_time": "2023-04-09T00:55:49.978Z"
   },
   {
    "duration": 16,
    "start_time": "2023-04-09T00:55:50.480Z"
   },
   {
    "duration": 95,
    "start_time": "2023-04-09T00:55:50.498Z"
   },
   {
    "duration": 506,
    "start_time": "2023-04-09T00:55:51.087Z"
   },
   {
    "duration": 8,
    "start_time": "2023-04-09T00:55:51.857Z"
   },
   {
    "duration": 182,
    "start_time": "2023-04-09T00:55:53.027Z"
   },
   {
    "duration": 2555,
    "start_time": "2023-04-09T00:55:54.147Z"
   },
   {
    "duration": 23089,
    "start_time": "2023-04-09T00:58:08.098Z"
   },
   {
    "duration": 4223,
    "start_time": "2023-04-09T00:58:31.189Z"
   },
   {
    "duration": 966,
    "start_time": "2023-04-09T00:58:35.414Z"
   },
   {
    "duration": 19,
    "start_time": "2023-04-09T00:58:36.383Z"
   },
   {
    "duration": 969,
    "start_time": "2023-04-09T00:58:36.404Z"
   },
   {
    "duration": 4,
    "start_time": "2023-04-09T00:58:37.375Z"
   },
   {
    "duration": 3,
    "start_time": "2023-04-09T00:58:37.381Z"
   },
   {
    "duration": 2794,
    "start_time": "2023-04-09T00:58:37.386Z"
   },
   {
    "duration": 715,
    "start_time": "2023-04-09T00:58:40.181Z"
   },
   {
    "duration": 106,
    "start_time": "2023-04-09T00:58:40.899Z"
   },
   {
    "duration": 91,
    "start_time": "2023-04-09T00:58:41.007Z"
   },
   {
    "duration": 1277,
    "start_time": "2023-04-09T00:58:41.100Z"
   },
   {
    "duration": 4,
    "start_time": "2023-04-09T00:58:42.379Z"
   },
   {
    "duration": 494,
    "start_time": "2023-04-09T00:58:42.385Z"
   },
   {
    "duration": 2992,
    "start_time": "2023-04-09T00:58:42.881Z"
   },
   {
    "duration": 22987,
    "start_time": "2023-04-09T01:01:39.598Z"
   },
   {
    "duration": 1090,
    "start_time": "2023-04-09T01:02:02.587Z"
   },
   {
    "duration": 835,
    "start_time": "2023-04-09T01:02:04.978Z"
   },
   {
    "duration": 4799,
    "start_time": "2023-04-09T01:02:09.207Z"
   },
   {
    "duration": 5,
    "start_time": "2023-04-09T01:02:28.108Z"
   },
   {
    "duration": 3,
    "start_time": "2023-04-09T01:02:35.157Z"
   },
   {
    "duration": 1819,
    "start_time": "2023-04-09T01:02:35.678Z"
   },
   {
    "duration": 862,
    "start_time": "2023-04-09T01:36:44.011Z"
   },
   {
    "duration": 3906,
    "start_time": "2023-04-09T01:36:48.701Z"
   },
   {
    "duration": 3,
    "start_time": "2023-04-09T01:36:56.882Z"
   },
   {
    "duration": 1692,
    "start_time": "2023-04-09T01:36:58.182Z"
   },
   {
    "duration": 515,
    "start_time": "2023-04-09T01:36:59.876Z"
   },
   {
    "duration": 116,
    "start_time": "2023-04-09T01:37:00.393Z"
   },
   {
    "duration": 35,
    "start_time": "2023-04-09T01:37:01.572Z"
   },
   {
    "duration": 1202,
    "start_time": "2023-04-09T01:37:02.371Z"
   },
   {
    "duration": 100,
    "start_time": "2023-04-09T01:37:03.574Z"
   },
   {
    "duration": 20,
    "start_time": "2023-04-09T01:37:04.911Z"
   },
   {
    "duration": 47,
    "start_time": "2023-04-09T01:37:05.621Z"
   },
   {
    "duration": 1176,
    "start_time": "2023-04-09T01:37:08.342Z"
   },
   {
    "duration": 886,
    "start_time": "2023-04-09T15:16:04.810Z"
   },
   {
    "duration": 24199,
    "start_time": "2023-04-09T15:16:05.698Z"
   },
   {
    "duration": 82,
    "start_time": "2023-04-09T15:16:29.899Z"
   },
   {
    "duration": 1128,
    "start_time": "2023-04-09T15:16:29.987Z"
   },
   {
    "duration": 5153,
    "start_time": "2023-04-09T15:16:31.120Z"
   },
   {
    "duration": 1035,
    "start_time": "2023-04-09T15:16:36.275Z"
   },
   {
    "duration": 3670,
    "start_time": "2023-04-09T15:16:37.311Z"
   },
   {
    "duration": 4,
    "start_time": "2023-04-09T15:16:40.989Z"
   },
   {
    "duration": 10,
    "start_time": "2023-04-09T15:16:40.995Z"
   },
   {
    "duration": 14670,
    "start_time": "2023-04-09T15:16:41.007Z"
   },
   {
    "duration": 9356,
    "start_time": "2023-04-09T15:16:55.679Z"
   },
   {
    "duration": 20,
    "start_time": "2023-04-09T15:17:05.078Z"
   },
   {
    "duration": 30,
    "start_time": "2023-04-09T15:17:05.100Z"
   },
   {
    "duration": 10,
    "start_time": "2023-04-09T15:17:05.131Z"
   },
   {
    "duration": 42,
    "start_time": "2023-04-09T15:17:05.143Z"
   },
   {
    "duration": 1053,
    "start_time": "2023-04-10T12:45:09.284Z"
   },
   {
    "duration": 25042,
    "start_time": "2023-04-10T12:45:14.614Z"
   },
   {
    "duration": 16,
    "start_time": "2023-04-10T12:45:39.658Z"
   },
   {
    "duration": 1192,
    "start_time": "2023-04-10T12:45:39.676Z"
   },
   {
    "duration": 4280,
    "start_time": "2023-04-10T12:45:40.870Z"
   },
   {
    "duration": 1035,
    "start_time": "2023-04-10T12:45:45.151Z"
   },
   {
    "duration": 198,
    "start_time": "2023-04-10T12:54:11.093Z"
   },
   {
    "duration": 1604,
    "start_time": "2023-04-10T12:56:27.469Z"
   },
   {
    "duration": 2613,
    "start_time": "2023-04-10T12:56:50.544Z"
   },
   {
    "duration": 279,
    "start_time": "2023-04-10T12:59:25.360Z"
   },
   {
    "duration": 94,
    "start_time": "2023-04-10T12:59:45.785Z"
   },
   {
    "duration": 793,
    "start_time": "2023-04-10T13:00:10.385Z"
   },
   {
    "duration": 2271,
    "start_time": "2023-04-10T13:00:16.656Z"
   },
   {
    "duration": 250,
    "start_time": "2023-04-10T13:02:18.218Z"
   },
   {
    "duration": 8,
    "start_time": "2023-04-10T13:02:24.098Z"
   },
   {
    "duration": 10,
    "start_time": "2023-04-10T13:02:57.977Z"
   },
   {
    "duration": 527,
    "start_time": "2023-04-10T13:02:59.042Z"
   },
   {
    "duration": 4,
    "start_time": "2023-04-10T13:02:59.913Z"
   },
   {
    "duration": 143,
    "start_time": "2023-04-10T13:03:00.913Z"
   },
   {
    "duration": 2038,
    "start_time": "2023-04-10T13:03:01.446Z"
   },
   {
    "duration": 491,
    "start_time": "2023-04-10T13:03:03.486Z"
   },
   {
    "duration": 581,
    "start_time": "2023-04-10T13:03:03.979Z"
   },
   {
    "duration": 7,
    "start_time": "2023-04-10T13:03:06.378Z"
   },
   {
    "duration": 21,
    "start_time": "2023-04-10T13:03:13.434Z"
   },
   {
    "duration": 8,
    "start_time": "2023-04-10T13:03:19.997Z"
   },
   {
    "duration": 454,
    "start_time": "2023-04-10T13:03:20.128Z"
   },
   {
    "duration": 3,
    "start_time": "2023-04-10T13:03:20.585Z"
   },
   {
    "duration": 167,
    "start_time": "2023-04-10T13:03:20.590Z"
   },
   {
    "duration": 1748,
    "start_time": "2023-04-10T13:03:20.759Z"
   },
   {
    "duration": 389,
    "start_time": "2023-04-10T13:03:22.509Z"
   },
   {
    "duration": 316,
    "start_time": "2023-04-10T13:03:23.257Z"
   },
   {
    "duration": 1929,
    "start_time": "2023-04-10T13:03:24.594Z"
   },
   {
    "duration": 7,
    "start_time": "2023-04-10T13:05:21.113Z"
   },
   {
    "duration": 290,
    "start_time": "2023-04-10T13:05:21.636Z"
   },
   {
    "duration": 4,
    "start_time": "2023-04-10T13:05:22.197Z"
   },
   {
    "duration": 86,
    "start_time": "2023-04-10T13:05:22.295Z"
   },
   {
    "duration": 1794,
    "start_time": "2023-04-10T13:05:23.220Z"
   },
   {
    "duration": 538,
    "start_time": "2023-04-10T13:05:25.050Z"
   },
   {
    "duration": 301,
    "start_time": "2023-04-10T13:05:25.589Z"
   },
   {
    "duration": 1610,
    "start_time": "2023-04-10T13:05:25.893Z"
   },
   {
    "duration": 10,
    "start_time": "2023-04-10T13:05:31.476Z"
   },
   {
    "duration": 1780,
    "start_time": "2023-04-10T13:05:50.450Z"
   },
   {
    "duration": 8,
    "start_time": "2023-04-10T13:14:20.553Z"
   },
   {
    "duration": 119,
    "start_time": "2023-04-10T13:14:26.688Z"
   },
   {
    "duration": 136,
    "start_time": "2023-04-10T13:15:30.852Z"
   },
   {
    "duration": 9,
    "start_time": "2023-04-10T13:15:44.456Z"
   },
   {
    "duration": 295,
    "start_time": "2023-04-10T13:15:45.662Z"
   },
   {
    "duration": 4,
    "start_time": "2023-04-10T13:15:47.017Z"
   },
   {
    "duration": 114,
    "start_time": "2023-04-10T13:15:48.496Z"
   },
   {
    "duration": 1425,
    "start_time": "2023-04-10T13:15:49.425Z"
   },
   {
    "duration": 372,
    "start_time": "2023-04-10T13:15:51.184Z"
   },
   {
    "duration": 191,
    "start_time": "2023-04-10T13:15:59.353Z"
   },
   {
    "duration": 440,
    "start_time": "2023-04-10T13:16:28.020Z"
   },
   {
    "duration": 1752,
    "start_time": "2023-04-10T13:16:29.929Z"
   },
   {
    "duration": 1666,
    "start_time": "2023-04-10T13:16:46.207Z"
   },
   {
    "duration": 22,
    "start_time": "2023-04-10T13:17:08.655Z"
   },
   {
    "duration": 1105,
    "start_time": "2023-04-10T13:24:41.144Z"
   },
   {
    "duration": 25569,
    "start_time": "2023-04-10T13:24:42.494Z"
   },
   {
    "duration": 85,
    "start_time": "2023-04-10T13:25:08.065Z"
   },
   {
    "duration": 1397,
    "start_time": "2023-04-10T13:25:08.152Z"
   },
   {
    "duration": 4915,
    "start_time": "2023-04-10T13:25:09.552Z"
   },
   {
    "duration": 1214,
    "start_time": "2023-04-10T13:25:14.468Z"
   },
   {
    "duration": 274,
    "start_time": "2023-04-10T13:25:15.684Z"
   },
   {
    "duration": 0,
    "start_time": "2023-04-10T13:25:15.960Z"
   },
   {
    "duration": 89,
    "start_time": "2023-04-10T13:25:25.720Z"
   },
   {
    "duration": 3,
    "start_time": "2023-04-10T13:26:29.905Z"
   },
   {
    "duration": 223,
    "start_time": "2023-04-10T13:26:31.094Z"
   },
   {
    "duration": 638,
    "start_time": "2023-04-10T13:26:54.849Z"
   },
   {
    "duration": 1562,
    "start_time": "2023-04-10T13:26:56.753Z"
   },
   {
    "duration": 5,
    "start_time": "2023-04-10T13:33:15.067Z"
   },
   {
    "duration": 563,
    "start_time": "2023-04-10T13:33:16.899Z"
   },
   {
    "duration": 3,
    "start_time": "2023-04-10T13:33:17.563Z"
   },
   {
    "duration": 202,
    "start_time": "2023-04-10T13:33:18.267Z"
   },
   {
    "duration": 2595,
    "start_time": "2023-04-10T13:33:18.659Z"
   },
   {
    "duration": 514,
    "start_time": "2023-04-10T13:33:21.256Z"
   },
   {
    "duration": 3020,
    "start_time": "2023-04-10T13:33:21.772Z"
   },
   {
    "duration": 3,
    "start_time": "2023-04-10T13:34:21.460Z"
   },
   {
    "duration": 9,
    "start_time": "2023-04-10T13:34:22.797Z"
   },
   {
    "duration": 15074,
    "start_time": "2023-04-10T13:34:24.180Z"
   },
   {
    "duration": 8013,
    "start_time": "2023-04-10T13:34:39.256Z"
   },
   {
    "duration": 2375,
    "start_time": "2023-04-10T13:41:14.467Z"
   },
   {
    "duration": 4,
    "start_time": "2023-04-10T13:42:09.196Z"
   },
   {
    "duration": 9,
    "start_time": "2023-04-10T13:46:35.207Z"
   },
   {
    "duration": 1596,
    "start_time": "2023-04-10T13:47:19.775Z"
   },
   {
    "duration": 15,
    "start_time": "2023-04-10T13:54:49.705Z"
   },
   {
    "duration": 14,
    "start_time": "2023-04-10T13:54:56.180Z"
   },
   {
    "duration": 15,
    "start_time": "2023-04-10T13:55:43.698Z"
   },
   {
    "duration": 7,
    "start_time": "2023-04-10T17:51:47.915Z"
   },
   {
    "duration": 752,
    "start_time": "2023-04-10T17:51:54.434Z"
   },
   {
    "duration": 9,
    "start_time": "2023-04-10T17:51:55.274Z"
   },
   {
    "duration": 160,
    "start_time": "2023-04-10T17:51:56.075Z"
   },
   {
    "duration": 1790,
    "start_time": "2023-04-10T17:51:56.584Z"
   },
   {
    "duration": 517,
    "start_time": "2023-04-10T17:51:58.376Z"
   },
   {
    "duration": 14,
    "start_time": "2023-04-10T17:52:01.794Z"
   },
   {
    "duration": 454,
    "start_time": "2023-04-10T18:10:27.695Z"
   },
   {
    "duration": 7,
    "start_time": "2023-04-10T18:11:10.776Z"
   },
   {
    "duration": 19,
    "start_time": "2023-04-10T18:11:11.284Z"
   },
   {
    "duration": 139,
    "start_time": "2023-04-10T18:15:31.625Z"
   },
   {
    "duration": 51,
    "start_time": "2023-04-10T18:16:06.436Z"
   },
   {
    "duration": 9,
    "start_time": "2023-04-10T18:16:15.325Z"
   },
   {
    "duration": 165,
    "start_time": "2023-04-10T18:20:04.426Z"
   },
   {
    "duration": 11,
    "start_time": "2023-04-10T18:20:19.769Z"
   },
   {
    "duration": 24,
    "start_time": "2023-04-10T18:22:56.969Z"
   },
   {
    "duration": 146,
    "start_time": "2023-04-10T18:25:03.976Z"
   },
   {
    "duration": 2428,
    "start_time": "2023-04-10T18:25:14.964Z"
   },
   {
    "duration": 9225,
    "start_time": "2023-04-10T18:25:47.846Z"
   },
   {
    "duration": 461,
    "start_time": "2023-04-10T18:26:15.705Z"
   },
   {
    "duration": 23,
    "start_time": "2023-04-10T18:26:38.146Z"
   },
   {
    "duration": 17,
    "start_time": "2023-04-10T18:26:41.905Z"
   },
   {
    "duration": 305,
    "start_time": "2023-04-10T18:26:54.676Z"
   },
   {
    "duration": 19,
    "start_time": "2023-04-10T18:27:15.595Z"
   },
   {
    "duration": 282,
    "start_time": "2023-04-10T18:27:20.785Z"
   },
   {
    "duration": 468,
    "start_time": "2023-04-10T18:27:36.405Z"
   },
   {
    "duration": 7,
    "start_time": "2023-04-10T18:27:39.436Z"
   },
   {
    "duration": 249,
    "start_time": "2023-04-10T18:27:56.626Z"
   },
   {
    "duration": 6,
    "start_time": "2023-04-10T18:27:57.186Z"
   },
   {
    "duration": 107,
    "start_time": "2023-04-10T18:28:12.105Z"
   },
   {
    "duration": 91,
    "start_time": "2023-04-10T18:28:17.795Z"
   },
   {
    "duration": 292,
    "start_time": "2023-04-10T18:28:22.995Z"
   },
   {
    "duration": 25,
    "start_time": "2023-04-10T18:28:31.468Z"
   },
   {
    "duration": 132,
    "start_time": "2023-04-10T18:28:54.505Z"
   },
   {
    "duration": 32,
    "start_time": "2023-04-10T18:29:00.515Z"
   },
   {
    "duration": 16,
    "start_time": "2023-04-10T18:29:51.407Z"
   },
   {
    "duration": 265,
    "start_time": "2023-04-10T18:30:10.706Z"
   },
   {
    "duration": 17,
    "start_time": "2023-04-10T18:30:12.246Z"
   },
   {
    "duration": 1174,
    "start_time": "2023-04-10T18:30:21.196Z"
   },
   {
    "duration": 83,
    "start_time": "2023-04-10T18:32:04.276Z"
   },
   {
    "duration": 50,
    "start_time": "2023-04-10T18:32:08.795Z"
   },
   {
    "duration": 217,
    "start_time": "2023-04-10T18:32:33.846Z"
   },
   {
    "duration": 209,
    "start_time": "2023-04-10T18:33:16.276Z"
   },
   {
    "duration": 8,
    "start_time": "2023-04-10T18:34:52.236Z"
   },
   {
    "duration": 338,
    "start_time": "2023-04-10T18:34:53.246Z"
   },
   {
    "duration": 4,
    "start_time": "2023-04-10T18:34:53.919Z"
   },
   {
    "duration": 121,
    "start_time": "2023-04-10T18:34:54.546Z"
   },
   {
    "duration": 1599,
    "start_time": "2023-04-10T18:34:54.987Z"
   },
   {
    "duration": 391,
    "start_time": "2023-04-10T18:34:56.588Z"
   },
   {
    "duration": 204,
    "start_time": "2023-04-10T18:34:58.397Z"
   },
   {
    "duration": 880,
    "start_time": "2023-04-10T18:35:00.026Z"
   },
   {
    "duration": 84,
    "start_time": "2023-04-10T18:37:37.347Z"
   },
   {
    "duration": 249,
    "start_time": "2023-04-10T18:39:48.445Z"
   },
   {
    "duration": 183,
    "start_time": "2023-04-10T18:40:06.166Z"
   },
   {
    "duration": 1203,
    "start_time": "2023-04-10T18:42:18.066Z"
   },
   {
    "duration": 1023,
    "start_time": "2023-04-10T18:42:29.146Z"
   },
   {
    "duration": 1022,
    "start_time": "2023-04-10T18:44:55.036Z"
   },
   {
    "duration": 3,
    "start_time": "2023-04-10T18:45:00.306Z"
   },
   {
    "duration": 5,
    "start_time": "2023-04-10T18:49:43.267Z"
   },
   {
    "duration": 936,
    "start_time": "2023-04-10T18:49:52.546Z"
   },
   {
    "duration": 525,
    "start_time": "2023-04-10T18:50:26.336Z"
   },
   {
    "duration": 11,
    "start_time": "2023-04-10T18:50:58.196Z"
   },
   {
    "duration": 21,
    "start_time": "2023-04-10T18:50:58.947Z"
   },
   {
    "duration": 6,
    "start_time": "2023-04-10T18:51:08.566Z"
   },
   {
    "duration": 485,
    "start_time": "2023-04-10T18:51:09.187Z"
   },
   {
    "duration": 5,
    "start_time": "2023-04-10T18:51:16.227Z"
   },
   {
    "duration": 581,
    "start_time": "2023-04-10T18:51:20.056Z"
   },
   {
    "duration": 5,
    "start_time": "2023-04-10T18:52:26.906Z"
   },
   {
    "duration": 311,
    "start_time": "2023-04-10T18:52:27.466Z"
   },
   {
    "duration": 5,
    "start_time": "2023-04-10T18:52:40.687Z"
   },
   {
    "duration": 377,
    "start_time": "2023-04-10T18:52:41.296Z"
   },
   {
    "duration": 5,
    "start_time": "2023-04-10T18:53:16.977Z"
   },
   {
    "duration": 390,
    "start_time": "2023-04-10T18:53:17.566Z"
   },
   {
    "duration": 6,
    "start_time": "2023-04-10T18:54:09.427Z"
   },
   {
    "duration": 410,
    "start_time": "2023-04-10T18:54:10.127Z"
   },
   {
    "duration": 5,
    "start_time": "2023-04-10T18:55:13.577Z"
   },
   {
    "duration": 419,
    "start_time": "2023-04-10T18:55:14.276Z"
   },
   {
    "duration": 11,
    "start_time": "2023-04-10T18:55:21.277Z"
   },
   {
    "duration": 329,
    "start_time": "2023-04-10T18:55:21.826Z"
   },
   {
    "duration": 13,
    "start_time": "2023-04-10T18:58:45.887Z"
   },
   {
    "duration": 408,
    "start_time": "2023-04-10T18:58:46.567Z"
   },
   {
    "duration": 13,
    "start_time": "2023-04-10T19:00:15.177Z"
   },
   {
    "duration": 494,
    "start_time": "2023-04-10T19:00:15.857Z"
   },
   {
    "duration": 5,
    "start_time": "2023-04-10T19:03:02.026Z"
   },
   {
    "duration": 343,
    "start_time": "2023-04-10T19:03:03.117Z"
   },
   {
    "duration": 3,
    "start_time": "2023-04-10T19:03:03.462Z"
   },
   {
    "duration": 147,
    "start_time": "2023-04-10T19:03:03.466Z"
   },
   {
    "duration": 1446,
    "start_time": "2023-04-10T19:03:03.616Z"
   },
   {
    "duration": 552,
    "start_time": "2023-04-10T19:03:05.064Z"
   },
   {
    "duration": 1953,
    "start_time": "2023-04-10T19:03:05.619Z"
   },
   {
    "duration": 4,
    "start_time": "2023-04-10T19:03:07.574Z"
   },
   {
    "duration": 73,
    "start_time": "2023-04-10T19:03:07.580Z"
   },
   {
    "duration": 23,
    "start_time": "2023-04-10T19:03:07.654Z"
   },
   {
    "duration": 73,
    "start_time": "2023-04-10T19:03:07.680Z"
   },
   {
    "duration": 10,
    "start_time": "2023-04-10T19:03:07.756Z"
   },
   {
    "duration": 4,
    "start_time": "2023-04-10T19:03:07.767Z"
   },
   {
    "duration": 11,
    "start_time": "2023-04-10T19:03:07.772Z"
   },
   {
    "duration": 0,
    "start_time": "2023-04-10T19:03:07.784Z"
   },
   {
    "duration": 0,
    "start_time": "2023-04-10T19:03:07.785Z"
   },
   {
    "duration": 6,
    "start_time": "2023-04-10T19:08:07.336Z"
   },
   {
    "duration": 477,
    "start_time": "2023-04-10T19:08:08.197Z"
   },
   {
    "duration": 7,
    "start_time": "2023-04-10T19:11:10.246Z"
   },
   {
    "duration": 391,
    "start_time": "2023-04-10T19:11:11.087Z"
   },
   {
    "duration": 9,
    "start_time": "2023-04-10T19:12:37.537Z"
   },
   {
    "duration": 436,
    "start_time": "2023-04-10T19:12:38.217Z"
   },
   {
    "duration": 10,
    "start_time": "2023-04-10T19:13:16.517Z"
   },
   {
    "duration": 478,
    "start_time": "2023-04-10T19:13:17.096Z"
   },
   {
    "duration": 14,
    "start_time": "2023-04-10T19:16:10.287Z"
   },
   {
    "duration": 1077,
    "start_time": "2023-04-10T19:16:10.897Z"
   },
   {
    "duration": 11,
    "start_time": "2023-04-10T19:17:50.537Z"
   },
   {
    "duration": 852,
    "start_time": "2023-04-10T19:17:51.216Z"
   },
   {
    "duration": 12,
    "start_time": "2023-04-10T19:20:22.037Z"
   },
   {
    "duration": 3347,
    "start_time": "2023-04-10T19:20:22.637Z"
   },
   {
    "duration": 9,
    "start_time": "2023-04-10T19:20:41.777Z"
   },
   {
    "duration": 2882,
    "start_time": "2023-04-10T19:20:43.666Z"
   },
   {
    "duration": 14,
    "start_time": "2023-04-10T19:21:10.597Z"
   },
   {
    "duration": 2525,
    "start_time": "2023-04-10T19:21:12.487Z"
   },
   {
    "duration": 10,
    "start_time": "2023-04-10T19:21:20.657Z"
   },
   {
    "duration": 1892,
    "start_time": "2023-04-10T19:21:21.077Z"
   },
   {
    "duration": 10,
    "start_time": "2023-04-10T19:21:29.137Z"
   },
   {
    "duration": 2197,
    "start_time": "2023-04-10T19:21:29.647Z"
   },
   {
    "duration": 6,
    "start_time": "2023-04-10T19:23:36.426Z"
   },
   {
    "duration": 230,
    "start_time": "2023-04-10T19:23:36.563Z"
   },
   {
    "duration": 9,
    "start_time": "2023-04-10T19:23:36.795Z"
   },
   {
    "duration": 119,
    "start_time": "2023-04-10T19:23:36.805Z"
   },
   {
    "duration": 1330,
    "start_time": "2023-04-10T19:23:36.949Z"
   },
   {
    "duration": 383,
    "start_time": "2023-04-10T19:23:38.281Z"
   },
   {
    "duration": 1089,
    "start_time": "2023-04-10T19:23:38.666Z"
   },
   {
    "duration": 3,
    "start_time": "2023-04-10T19:23:39.756Z"
   },
   {
    "duration": 15,
    "start_time": "2023-04-10T19:23:39.761Z"
   },
   {
    "duration": 2118,
    "start_time": "2023-04-10T19:23:39.778Z"
   },
   {
    "duration": 0,
    "start_time": "2023-04-10T19:23:41.898Z"
   },
   {
    "duration": 0,
    "start_time": "2023-04-10T19:23:41.899Z"
   },
   {
    "duration": 10,
    "start_time": "2023-04-10T19:24:28.307Z"
   },
   {
    "duration": 1562,
    "start_time": "2023-04-10T19:24:28.897Z"
   },
   {
    "duration": 9,
    "start_time": "2023-04-10T19:25:01.527Z"
   },
   {
    "duration": 1832,
    "start_time": "2023-04-10T19:25:02.057Z"
   },
   {
    "duration": 10,
    "start_time": "2023-04-10T19:25:42.978Z"
   },
   {
    "duration": 1809,
    "start_time": "2023-04-10T19:25:43.601Z"
   },
   {
    "duration": 10,
    "start_time": "2023-04-10T19:26:07.427Z"
   },
   {
    "duration": 2071,
    "start_time": "2023-04-10T19:26:08.877Z"
   },
   {
    "duration": 16,
    "start_time": "2023-04-10T19:35:57.657Z"
   },
   {
    "duration": 1776,
    "start_time": "2023-04-10T19:35:58.807Z"
   },
   {
    "duration": 11,
    "start_time": "2023-04-10T19:36:17.957Z"
   },
   {
    "duration": 2493,
    "start_time": "2023-04-10T19:36:18.807Z"
   },
   {
    "duration": 10,
    "start_time": "2023-04-10T19:39:42.918Z"
   },
   {
    "duration": 2301,
    "start_time": "2023-04-10T19:39:43.667Z"
   },
   {
    "duration": 12,
    "start_time": "2023-04-10T19:40:11.908Z"
   },
   {
    "duration": 2049,
    "start_time": "2023-04-10T19:40:12.327Z"
   },
   {
    "duration": 896,
    "start_time": "2023-04-10T19:40:45.583Z"
   },
   {
    "duration": 25668,
    "start_time": "2023-04-10T19:40:46.481Z"
   },
   {
    "duration": 16,
    "start_time": "2023-04-10T19:41:12.152Z"
   },
   {
    "duration": 1220,
    "start_time": "2023-04-10T19:41:12.171Z"
   },
   {
    "duration": 4802,
    "start_time": "2023-04-10T19:41:13.450Z"
   },
   {
    "duration": 1428,
    "start_time": "2023-04-10T19:41:18.254Z"
   },
   {
    "duration": 4981,
    "start_time": "2023-04-10T19:41:19.684Z"
   },
   {
    "duration": 4,
    "start_time": "2023-04-10T19:41:24.667Z"
   },
   {
    "duration": 20,
    "start_time": "2023-04-10T19:41:24.672Z"
   },
   {
    "duration": 9969,
    "start_time": "2023-04-10T19:41:24.695Z"
   },
   {
    "duration": 0,
    "start_time": "2023-04-10T19:41:34.667Z"
   },
   {
    "duration": 0,
    "start_time": "2023-04-10T19:41:34.669Z"
   },
   {
    "duration": 0,
    "start_time": "2023-04-10T19:41:34.671Z"
   },
   {
    "duration": 0,
    "start_time": "2023-04-10T19:41:34.672Z"
   },
   {
    "duration": 0,
    "start_time": "2023-04-10T19:41:34.673Z"
   },
   {
    "duration": 0,
    "start_time": "2023-04-10T19:41:34.674Z"
   },
   {
    "duration": 12,
    "start_time": "2023-04-10T19:42:15.143Z"
   },
   {
    "duration": 4324,
    "start_time": "2023-04-10T19:42:15.563Z"
   },
   {
    "duration": 11,
    "start_time": "2023-04-10T19:42:32.443Z"
   },
   {
    "duration": 4688,
    "start_time": "2023-04-10T19:42:32.873Z"
   },
   {
    "duration": 12,
    "start_time": "2023-04-10T19:42:49.213Z"
   },
   {
    "duration": 3702,
    "start_time": "2023-04-10T19:42:49.773Z"
   },
   {
    "duration": 10,
    "start_time": "2023-04-10T19:49:55.383Z"
   },
   {
    "duration": 3078,
    "start_time": "2023-04-10T19:49:55.993Z"
   },
   {
    "duration": 11,
    "start_time": "2023-04-10T19:54:54.998Z"
   },
   {
    "duration": 2787,
    "start_time": "2023-04-10T19:54:55.487Z"
   },
   {
    "duration": 9,
    "start_time": "2023-04-10T19:59:47.669Z"
   },
   {
    "duration": 990,
    "start_time": "2023-04-10T19:59:48.098Z"
   },
   {
    "duration": 560,
    "start_time": "2023-04-10T20:00:03.608Z"
   },
   {
    "duration": 394,
    "start_time": "2023-04-10T20:00:19.509Z"
   },
   {
    "duration": 4185,
    "start_time": "2023-04-10T20:01:35.094Z"
   },
   {
    "duration": 2857,
    "start_time": "2023-04-10T20:01:46.861Z"
   },
   {
    "duration": 574,
    "start_time": "2023-04-10T20:02:13.218Z"
   },
   {
    "duration": 310,
    "start_time": "2023-04-10T20:02:27.265Z"
   },
   {
    "duration": 268,
    "start_time": "2023-04-10T20:02:44.118Z"
   },
   {
    "duration": 326,
    "start_time": "2023-04-10T20:02:52.439Z"
   },
   {
    "duration": 345,
    "start_time": "2023-04-10T20:03:23.718Z"
   },
   {
    "duration": 383,
    "start_time": "2023-04-10T20:03:33.080Z"
   },
   {
    "duration": 46,
    "start_time": "2023-04-10T20:03:44.539Z"
   },
   {
    "duration": 5,
    "start_time": "2023-04-10T20:04:18.462Z"
   },
   {
    "duration": 6,
    "start_time": "2023-04-10T20:04:32.878Z"
   },
   {
    "duration": 7,
    "start_time": "2023-04-10T20:05:04.510Z"
   },
   {
    "duration": 562,
    "start_time": "2023-04-10T20:05:04.630Z"
   },
   {
    "duration": 77,
    "start_time": "2023-04-10T20:05:05.194Z"
   },
   {
    "duration": 152,
    "start_time": "2023-04-10T20:05:05.273Z"
   },
   {
    "duration": 2066,
    "start_time": "2023-04-10T20:05:05.427Z"
   },
   {
    "duration": 430,
    "start_time": "2023-04-10T20:05:07.494Z"
   },
   {
    "duration": 1671,
    "start_time": "2023-04-10T20:05:07.925Z"
   },
   {
    "duration": 4,
    "start_time": "2023-04-10T20:05:09.598Z"
   },
   {
    "duration": 21,
    "start_time": "2023-04-10T20:05:09.650Z"
   },
   {
    "duration": 1138,
    "start_time": "2023-04-10T20:05:09.673Z"
   },
   {
    "duration": 2507,
    "start_time": "2023-04-10T20:05:10.856Z"
   },
   {
    "duration": 5,
    "start_time": "2023-04-10T20:05:13.365Z"
   },
   {
    "duration": 6,
    "start_time": "2023-04-10T20:05:14.699Z"
   },
   {
    "duration": 334,
    "start_time": "2023-04-10T20:05:15.439Z"
   },
   {
    "duration": 26,
    "start_time": "2023-04-10T20:06:00.550Z"
   },
   {
    "duration": 945,
    "start_time": "2023-04-10T20:06:00.929Z"
   },
   {
    "duration": 2080,
    "start_time": "2023-04-10T20:06:02.263Z"
   },
   {
    "duration": 7,
    "start_time": "2023-04-10T20:06:04.349Z"
   },
   {
    "duration": 19,
    "start_time": "2023-04-10T20:06:04.358Z"
   },
   {
    "duration": 493,
    "start_time": "2023-04-10T20:06:04.379Z"
   },
   {
    "duration": 292,
    "start_time": "2023-04-10T20:06:09.579Z"
   },
   {
    "duration": 10,
    "start_time": "2023-04-10T20:06:16.519Z"
   },
   {
    "duration": 748,
    "start_time": "2023-04-10T20:06:16.820Z"
   },
   {
    "duration": 1742,
    "start_time": "2023-04-10T20:06:17.571Z"
   },
   {
    "duration": 6,
    "start_time": "2023-04-10T20:06:19.314Z"
   },
   {
    "duration": 41,
    "start_time": "2023-04-10T20:06:19.322Z"
   },
   {
    "duration": 602,
    "start_time": "2023-04-10T20:06:19.365Z"
   },
   {
    "duration": 12,
    "start_time": "2023-04-10T20:06:30.552Z"
   },
   {
    "duration": 18,
    "start_time": "2023-04-10T20:06:31.069Z"
   },
   {
    "duration": 920,
    "start_time": "2023-04-10T20:06:31.457Z"
   },
   {
    "duration": 4,
    "start_time": "2023-04-10T20:06:32.379Z"
   },
   {
    "duration": 72,
    "start_time": "2023-04-10T20:06:32.385Z"
   },
   {
    "duration": 501,
    "start_time": "2023-04-10T20:06:33.080Z"
   },
   {
    "duration": 292,
    "start_time": "2023-04-10T20:06:49.279Z"
   },
   {
    "duration": 14,
    "start_time": "2023-04-10T20:07:05.949Z"
   },
   {
    "duration": 368,
    "start_time": "2023-04-10T20:07:06.229Z"
   },
   {
    "duration": 604,
    "start_time": "2023-04-10T20:07:06.599Z"
   },
   {
    "duration": 4,
    "start_time": "2023-04-10T20:07:07.205Z"
   },
   {
    "duration": 6,
    "start_time": "2023-04-10T20:07:07.439Z"
   },
   {
    "duration": 485,
    "start_time": "2023-04-10T20:07:08.119Z"
   },
   {
    "duration": 6,
    "start_time": "2023-04-10T20:07:32.389Z"
   },
   {
    "duration": 463,
    "start_time": "2023-04-10T20:07:32.899Z"
   },
   {
    "duration": 558,
    "start_time": "2023-04-10T20:07:33.365Z"
   },
   {
    "duration": 5,
    "start_time": "2023-04-10T20:07:33.924Z"
   },
   {
    "duration": 6,
    "start_time": "2023-04-10T20:07:34.068Z"
   },
   {
    "duration": 255,
    "start_time": "2023-04-10T20:07:34.649Z"
   },
   {
    "duration": 8,
    "start_time": "2023-04-10T20:08:13.652Z"
   },
   {
    "duration": 489,
    "start_time": "2023-04-10T20:08:13.780Z"
   },
   {
    "duration": 0,
    "start_time": "2023-04-10T20:08:14.271Z"
   },
   {
    "duration": 5,
    "start_time": "2023-04-10T20:08:14.710Z"
   },
   {
    "duration": 8,
    "start_time": "2023-04-10T20:08:19.619Z"
   },
   {
    "duration": 437,
    "start_time": "2023-04-10T20:08:20.140Z"
   },
   {
    "duration": 6,
    "start_time": "2023-04-10T20:08:45.879Z"
   },
   {
    "duration": 326,
    "start_time": "2023-04-10T20:08:46.329Z"
   },
   {
    "duration": 448,
    "start_time": "2023-04-10T20:08:47.448Z"
   },
   {
    "duration": 5,
    "start_time": "2023-04-10T20:08:48.519Z"
   },
   {
    "duration": 6,
    "start_time": "2023-04-10T20:08:49.519Z"
   },
   {
    "duration": 261,
    "start_time": "2023-04-10T20:08:50.409Z"
   },
   {
    "duration": 17,
    "start_time": "2023-04-10T20:09:29.250Z"
   },
   {
    "duration": 779,
    "start_time": "2023-04-10T20:09:29.802Z"
   },
   {
    "duration": 0,
    "start_time": "2023-04-10T20:09:30.583Z"
   },
   {
    "duration": 5,
    "start_time": "2023-04-10T20:09:30.599Z"
   },
   {
    "duration": 7,
    "start_time": "2023-04-10T20:09:50.856Z"
   },
   {
    "duration": 687,
    "start_time": "2023-04-10T20:09:51.279Z"
   },
   {
    "duration": 11,
    "start_time": "2023-04-10T20:10:16.299Z"
   },
   {
    "duration": 598,
    "start_time": "2023-04-10T20:10:16.680Z"
   },
   {
    "duration": 453,
    "start_time": "2023-04-10T20:10:17.819Z"
   },
   {
    "duration": 6,
    "start_time": "2023-04-10T20:10:18.699Z"
   },
   {
    "duration": 5,
    "start_time": "2023-04-10T20:10:19.469Z"
   },
   {
    "duration": 291,
    "start_time": "2023-04-10T20:10:19.868Z"
   },
   {
    "duration": 6,
    "start_time": "2023-04-10T20:10:37.729Z"
   },
   {
    "duration": 971,
    "start_time": "2023-04-10T20:10:38.009Z"
   },
   {
    "duration": 892,
    "start_time": "2023-04-10T20:10:38.983Z"
   },
   {
    "duration": 8,
    "start_time": "2023-04-10T20:10:39.877Z"
   },
   {
    "duration": 67,
    "start_time": "2023-04-10T20:10:39.888Z"
   },
   {
    "duration": 250,
    "start_time": "2023-04-10T20:10:42.749Z"
   },
   {
    "duration": 11,
    "start_time": "2023-04-10T20:17:26.355Z"
   },
   {
    "duration": 324,
    "start_time": "2023-04-10T20:17:27.170Z"
   },
   {
    "duration": 5,
    "start_time": "2023-04-10T20:17:27.880Z"
   },
   {
    "duration": 131,
    "start_time": "2023-04-10T20:17:28.700Z"
   },
   {
    "duration": 1481,
    "start_time": "2023-04-10T20:17:29.320Z"
   },
   {
    "duration": 387,
    "start_time": "2023-04-10T20:17:30.804Z"
   },
   {
    "duration": 1568,
    "start_time": "2023-04-10T20:17:32.220Z"
   },
   {
    "duration": 3,
    "start_time": "2023-04-10T20:17:33.790Z"
   },
   {
    "duration": 8,
    "start_time": "2023-04-10T20:17:35.670Z"
   },
   {
    "duration": 13,
    "start_time": "2023-04-10T20:17:42.200Z"
   },
   {
    "duration": 136,
    "start_time": "2023-04-10T20:17:49.640Z"
   },
   {
    "duration": 5,
    "start_time": "2023-04-10T20:18:06.920Z"
   },
   {
    "duration": 295,
    "start_time": "2023-04-10T20:18:07.470Z"
   },
   {
    "duration": 7,
    "start_time": "2023-04-10T20:19:11.740Z"
   },
   {
    "duration": 29,
    "start_time": "2023-04-10T20:19:12.155Z"
   },
   {
    "duration": 8,
    "start_time": "2023-04-10T20:20:50.420Z"
   },
   {
    "duration": 364,
    "start_time": "2023-04-10T20:20:50.740Z"
   },
   {
    "duration": 400,
    "start_time": "2023-04-10T20:20:51.239Z"
   },
   {
    "duration": 303,
    "start_time": "2023-04-10T20:20:52.620Z"
   },
   {
    "duration": 217,
    "start_time": "2023-04-10T20:20:54.269Z"
   },
   {
    "duration": 6,
    "start_time": "2023-04-10T20:23:27.030Z"
   },
   {
    "duration": 269,
    "start_time": "2023-04-10T20:23:27.609Z"
   },
   {
    "duration": 8,
    "start_time": "2023-04-10T20:23:36.530Z"
   },
   {
    "duration": 506,
    "start_time": "2023-04-10T20:23:36.961Z"
   },
   {
    "duration": 310,
    "start_time": "2023-04-10T20:23:39.840Z"
   },
   {
    "duration": 369,
    "start_time": "2023-04-10T20:23:40.339Z"
   },
   {
    "duration": 294,
    "start_time": "2023-04-10T20:23:43.269Z"
   },
   {
    "duration": 3196,
    "start_time": "2023-04-10T20:33:52.381Z"
   },
   {
    "duration": 5,
    "start_time": "2023-04-10T20:34:55.440Z"
   },
   {
    "duration": 1447,
    "start_time": "2023-04-10T20:36:17.540Z"
   },
   {
    "duration": 5,
    "start_time": "2023-04-10T20:36:19.823Z"
   },
   {
    "duration": 4,
    "start_time": "2023-04-10T20:36:34.472Z"
   },
   {
    "duration": 22,
    "start_time": "2023-04-10T20:36:35.141Z"
   },
   {
    "duration": 393,
    "start_time": "2023-04-10T20:36:35.180Z"
   },
   {
    "duration": 634,
    "start_time": "2023-04-10T20:36:35.576Z"
   },
   {
    "duration": 566,
    "start_time": "2023-04-10T20:36:36.213Z"
   },
   {
    "duration": 423,
    "start_time": "2023-04-10T20:36:36.781Z"
   },
   {
    "duration": 0,
    "start_time": "2023-04-10T20:36:37.206Z"
   },
   {
    "duration": 4424,
    "start_time": "2023-04-10T20:41:33.874Z"
   },
   {
    "duration": 4,
    "start_time": "2023-04-10T20:41:40.709Z"
   },
   {
    "duration": 4759,
    "start_time": "2023-04-10T20:42:19.300Z"
   },
   {
    "duration": 4,
    "start_time": "2023-04-10T20:42:38.619Z"
   },
   {
    "duration": 3,
    "start_time": "2023-04-10T20:42:41.541Z"
   },
   {
    "duration": 7,
    "start_time": "2023-04-10T20:42:42.761Z"
   },
   {
    "duration": 778,
    "start_time": "2023-04-10T20:42:42.990Z"
   },
   {
    "duration": 887,
    "start_time": "2023-04-10T20:42:43.771Z"
   },
   {
    "duration": 520,
    "start_time": "2023-04-10T20:42:44.660Z"
   },
   {
    "duration": 375,
    "start_time": "2023-04-10T20:42:45.410Z"
   },
   {
    "duration": 317,
    "start_time": "2023-04-10T20:42:52.549Z"
   },
   {
    "duration": 224,
    "start_time": "2023-04-10T20:47:08.700Z"
   },
   {
    "duration": 4,
    "start_time": "2023-04-10T20:47:11.010Z"
   },
   {
    "duration": 3,
    "start_time": "2023-04-10T20:47:14.420Z"
   },
   {
    "duration": 9,
    "start_time": "2023-04-10T20:47:16.511Z"
   },
   {
    "duration": 2463,
    "start_time": "2023-04-10T20:47:16.801Z"
   },
   {
    "duration": 1231,
    "start_time": "2023-04-10T20:47:19.267Z"
   },
   {
    "duration": 850,
    "start_time": "2023-04-10T20:47:20.500Z"
   },
   {
    "duration": 921,
    "start_time": "2023-04-10T20:47:21.353Z"
   },
   {
    "duration": 1424,
    "start_time": "2023-04-10T20:48:14.180Z"
   },
   {
    "duration": 56,
    "start_time": "2023-04-10T20:48:17.310Z"
   },
   {
    "duration": 3,
    "start_time": "2023-04-10T20:48:18.801Z"
   },
   {
    "duration": 4,
    "start_time": "2023-04-10T20:48:20.680Z"
   },
   {
    "duration": 6,
    "start_time": "2023-04-10T20:48:22.022Z"
   },
   {
    "duration": 1178,
    "start_time": "2023-04-10T20:48:22.090Z"
   },
   {
    "duration": 1410,
    "start_time": "2023-04-10T20:48:23.270Z"
   },
   {
    "duration": 1800,
    "start_time": "2023-04-10T20:48:24.682Z"
   },
   {
    "duration": 1211,
    "start_time": "2023-04-10T20:48:26.484Z"
   },
   {
    "duration": 2257,
    "start_time": "2023-04-10T20:48:42.900Z"
   },
   {
    "duration": 126,
    "start_time": "2023-04-10T20:48:45.160Z"
   },
   {
    "duration": 4,
    "start_time": "2023-04-10T20:48:45.288Z"
   },
   {
    "duration": 4,
    "start_time": "2023-04-10T20:48:45.480Z"
   },
   {
    "duration": 6,
    "start_time": "2023-04-10T20:48:46.720Z"
   },
   {
    "duration": 1614,
    "start_time": "2023-04-10T20:48:46.965Z"
   },
   {
    "duration": 1714,
    "start_time": "2023-04-10T20:48:48.582Z"
   },
   {
    "duration": 1587,
    "start_time": "2023-04-10T20:48:50.299Z"
   },
   {
    "duration": 1998,
    "start_time": "2023-04-10T20:48:51.889Z"
   },
   {
    "duration": 2312,
    "start_time": "2023-04-10T20:49:20.361Z"
   },
   {
    "duration": 36,
    "start_time": "2023-04-10T20:49:22.675Z"
   },
   {
    "duration": 5,
    "start_time": "2023-04-10T20:49:22.750Z"
   },
   {
    "duration": 3,
    "start_time": "2023-04-10T20:49:22.840Z"
   },
   {
    "duration": 7,
    "start_time": "2023-04-10T20:49:24.180Z"
   },
   {
    "duration": 2306,
    "start_time": "2023-04-10T20:49:24.481Z"
   },
   {
    "duration": 2315,
    "start_time": "2023-04-10T20:49:26.789Z"
   },
   {
    "duration": 2388,
    "start_time": "2023-04-10T20:49:29.106Z"
   },
   {
    "duration": 2069,
    "start_time": "2023-04-10T20:49:31.496Z"
   },
   {
    "duration": 10,
    "start_time": "2023-04-10T20:51:00.331Z"
   },
   {
    "duration": 48,
    "start_time": "2023-04-10T20:51:01.458Z"
   },
   {
    "duration": 5,
    "start_time": "2023-04-10T20:51:01.610Z"
   },
   {
    "duration": 3,
    "start_time": "2023-04-10T20:51:02.430Z"
   },
   {
    "duration": 6,
    "start_time": "2023-04-10T20:51:03.431Z"
   },
   {
    "duration": 2779,
    "start_time": "2023-04-10T20:51:03.680Z"
   },
   {
    "duration": 2448,
    "start_time": "2023-04-10T20:51:06.463Z"
   },
   {
    "duration": 2592,
    "start_time": "2023-04-10T20:51:08.913Z"
   },
   {
    "duration": 2847,
    "start_time": "2023-04-10T20:51:11.507Z"
   },
   {
    "duration": 25,
    "start_time": "2023-04-10T20:52:18.741Z"
   },
   {
    "duration": 51,
    "start_time": "2023-04-10T20:52:19.665Z"
   },
   {
    "duration": 4,
    "start_time": "2023-04-10T20:52:25.130Z"
   },
   {
    "duration": 3,
    "start_time": "2023-04-10T20:52:26.111Z"
   },
   {
    "duration": 5,
    "start_time": "2023-04-10T20:52:27.165Z"
   },
   {
    "duration": 2793,
    "start_time": "2023-04-10T20:52:27.381Z"
   },
   {
    "duration": 2992,
    "start_time": "2023-04-10T20:52:30.176Z"
   },
   {
    "duration": 2693,
    "start_time": "2023-04-10T20:52:33.169Z"
   },
   {
    "duration": 2605,
    "start_time": "2023-04-10T20:52:35.864Z"
   },
   {
    "duration": 0,
    "start_time": "2023-04-10T20:52:38.470Z"
   },
   {
    "duration": 9,
    "start_time": "2023-04-10T20:54:08.870Z"
   },
   {
    "duration": 5,
    "start_time": "2023-04-10T20:54:13.941Z"
   },
   {
    "duration": 309,
    "start_time": "2023-04-10T20:54:14.970Z"
   },
   {
    "duration": 4,
    "start_time": "2023-04-10T20:54:16.691Z"
   },
   {
    "duration": 101,
    "start_time": "2023-04-10T20:54:17.890Z"
   },
   {
    "duration": 1295,
    "start_time": "2023-04-10T20:54:18.790Z"
   },
   {
    "duration": 2866,
    "start_time": "2023-04-10T20:54:21.490Z"
   },
   {
    "duration": 15,
    "start_time": "2023-04-10T20:54:27.280Z"
   },
   {
    "duration": 61,
    "start_time": "2023-04-10T20:54:28.631Z"
   },
   {
    "duration": 3,
    "start_time": "2023-04-10T20:54:29.611Z"
   },
   {
    "duration": 3,
    "start_time": "2023-04-10T20:54:30.864Z"
   },
   {
    "duration": 5,
    "start_time": "2023-04-10T20:54:32.365Z"
   },
   {
    "duration": 886,
    "start_time": "2023-04-10T20:54:33.730Z"
   },
   {
    "duration": 676,
    "start_time": "2023-04-10T20:54:35.820Z"
   },
   {
    "duration": 768,
    "start_time": "2023-04-10T20:54:36.700Z"
   },
   {
    "duration": 533,
    "start_time": "2023-04-10T20:54:38.840Z"
   },
   {
    "duration": 975,
    "start_time": "2023-04-10T20:57:10.340Z"
   },
   {
    "duration": 26302,
    "start_time": "2023-04-10T20:57:11.653Z"
   },
   {
    "duration": 21,
    "start_time": "2023-04-10T20:57:37.957Z"
   },
   {
    "duration": 1202,
    "start_time": "2023-04-10T20:57:37.980Z"
   },
   {
    "duration": 4473,
    "start_time": "2023-04-10T20:57:39.184Z"
   },
   {
    "duration": 1304,
    "start_time": "2023-04-10T20:57:43.660Z"
   },
   {
    "duration": 456,
    "start_time": "2023-04-10T20:57:58.430Z"
   },
   {
    "duration": 333,
    "start_time": "2023-04-10T20:58:01.351Z"
   },
   {
    "duration": 3,
    "start_time": "2023-04-10T20:58:06.800Z"
   },
   {
    "duration": 4,
    "start_time": "2023-04-10T20:58:10.460Z"
   },
   {
    "duration": 8,
    "start_time": "2023-04-10T20:58:11.721Z"
   },
   {
    "duration": 4546,
    "start_time": "2023-04-10T20:58:11.930Z"
   },
   {
    "duration": 1891,
    "start_time": "2023-04-10T20:58:16.478Z"
   },
   {
    "duration": 1196,
    "start_time": "2023-04-10T20:58:18.371Z"
   },
   {
    "duration": 1310,
    "start_time": "2023-04-10T20:58:19.569Z"
   },
   {
    "duration": 5,
    "start_time": "2023-04-10T20:58:54.370Z"
   },
   {
    "duration": 561,
    "start_time": "2023-04-10T20:58:55.190Z"
   },
   {
    "duration": 4,
    "start_time": "2023-04-10T20:58:55.803Z"
   },
   {
    "duration": 194,
    "start_time": "2023-04-10T20:58:56.470Z"
   },
   {
    "duration": 2560,
    "start_time": "2023-04-10T20:58:56.930Z"
   },
   {
    "duration": 473,
    "start_time": "2023-04-10T20:59:01.565Z"
   },
   {
    "duration": 26,
    "start_time": "2023-04-10T20:59:03.708Z"
   },
   {
    "duration": 3,
    "start_time": "2023-04-10T20:59:12.020Z"
   },
   {
    "duration": 3,
    "start_time": "2023-04-10T20:59:19.840Z"
   },
   {
    "duration": 6,
    "start_time": "2023-04-10T20:59:21.000Z"
   },
   {
    "duration": 978,
    "start_time": "2023-04-10T20:59:22.099Z"
   },
   {
    "duration": 907,
    "start_time": "2023-04-10T20:59:23.080Z"
   },
   {
    "duration": 591,
    "start_time": "2023-04-10T20:59:23.989Z"
   },
   {
    "duration": 505,
    "start_time": "2023-04-10T20:59:24.581Z"
   },
   {
    "duration": 696,
    "start_time": "2023-04-10T21:00:27.180Z"
   },
   {
    "duration": 457,
    "start_time": "2023-04-10T21:02:31.930Z"
   },
   {
    "duration": 3,
    "start_time": "2023-04-10T21:03:39.560Z"
   },
   {
    "duration": 10,
    "start_time": "2023-04-10T21:03:55.261Z"
   },
   {
    "duration": 3,
    "start_time": "2023-04-10T21:03:59.470Z"
   },
   {
    "duration": 9,
    "start_time": "2023-04-10T21:03:59.951Z"
   },
   {
    "duration": 6,
    "start_time": "2023-04-10T21:04:24.170Z"
   },
   {
    "duration": 310,
    "start_time": "2023-04-10T21:04:25.400Z"
   },
   {
    "duration": 4,
    "start_time": "2023-04-10T21:04:26.400Z"
   },
   {
    "duration": 122,
    "start_time": "2023-04-10T21:04:27.450Z"
   },
   {
    "duration": 1999,
    "start_time": "2023-04-10T21:04:28.350Z"
   },
   {
    "duration": 435,
    "start_time": "2023-04-10T21:04:30.351Z"
   },
   {
    "duration": 3,
    "start_time": "2023-04-10T21:04:31.550Z"
   },
   {
    "duration": 382,
    "start_time": "2023-04-10T21:04:32.020Z"
   },
   {
    "duration": 10,
    "start_time": "2023-04-10T21:14:38.740Z"
   },
   {
    "duration": 4,
    "start_time": "2023-04-10T21:15:06.191Z"
   },
   {
    "duration": 259,
    "start_time": "2023-04-10T21:15:06.981Z"
   },
   {
    "duration": 4,
    "start_time": "2023-04-10T21:15:07.571Z"
   },
   {
    "duration": 169,
    "start_time": "2023-04-10T21:15:08.161Z"
   },
   {
    "duration": 1802,
    "start_time": "2023-04-10T21:15:08.565Z"
   },
   {
    "duration": 353,
    "start_time": "2023-04-10T21:15:10.369Z"
   },
   {
    "duration": 3,
    "start_time": "2023-04-10T21:15:12.581Z"
   },
   {
    "duration": 352,
    "start_time": "2023-04-10T21:15:13.361Z"
   },
   {
    "duration": 7,
    "start_time": "2023-04-10T21:15:33.981Z"
   },
   {
    "duration": 291,
    "start_time": "2023-04-10T21:15:34.791Z"
   },
   {
    "duration": 3,
    "start_time": "2023-04-10T21:15:35.911Z"
   },
   {
    "duration": 126,
    "start_time": "2023-04-10T21:15:38.761Z"
   },
   {
    "duration": 1739,
    "start_time": "2023-04-10T21:15:39.241Z"
   },
   {
    "duration": 378,
    "start_time": "2023-04-10T21:15:40.981Z"
   },
   {
    "duration": 2,
    "start_time": "2023-04-10T21:15:41.971Z"
   },
   {
    "duration": 351,
    "start_time": "2023-04-10T21:15:42.510Z"
   },
   {
    "duration": 9,
    "start_time": "2023-04-10T21:17:11.601Z"
   },
   {
    "duration": 6,
    "start_time": "2023-04-10T21:17:17.661Z"
   },
   {
    "duration": 269,
    "start_time": "2023-04-10T21:17:18.601Z"
   },
   {
    "duration": 4,
    "start_time": "2023-04-10T21:17:19.471Z"
   },
   {
    "duration": 102,
    "start_time": "2023-04-10T21:17:20.350Z"
   },
   {
    "duration": 1452,
    "start_time": "2023-04-10T21:17:20.930Z"
   },
   {
    "duration": 374,
    "start_time": "2023-04-10T21:17:22.384Z"
   },
   {
    "duration": 3,
    "start_time": "2023-04-10T21:17:24.721Z"
   },
   {
    "duration": 287,
    "start_time": "2023-04-10T21:17:25.321Z"
   },
   {
    "duration": 5,
    "start_time": "2023-04-10T21:17:43.081Z"
   },
   {
    "duration": 244,
    "start_time": "2023-04-10T21:17:43.961Z"
   },
   {
    "duration": 3,
    "start_time": "2023-04-10T21:17:44.701Z"
   },
   {
    "duration": 112,
    "start_time": "2023-04-10T21:17:45.400Z"
   },
   {
    "duration": 1304,
    "start_time": "2023-04-10T21:17:45.851Z"
   },
   {
    "duration": 333,
    "start_time": "2023-04-10T21:17:47.157Z"
   },
   {
    "duration": 3,
    "start_time": "2023-04-10T21:17:49.760Z"
   },
   {
    "duration": 1201,
    "start_time": "2023-04-10T21:17:50.280Z"
   },
   {
    "duration": 3,
    "start_time": "2023-04-10T21:17:56.221Z"
   },
   {
    "duration": 3,
    "start_time": "2023-04-10T21:18:05.391Z"
   },
   {
    "duration": 6,
    "start_time": "2023-04-10T21:18:06.681Z"
   },
   {
    "duration": 658,
    "start_time": "2023-04-10T21:18:07.011Z"
   },
   {
    "duration": 809,
    "start_time": "2023-04-10T21:18:07.670Z"
   },
   {
    "duration": 614,
    "start_time": "2023-04-10T21:18:08.481Z"
   },
   {
    "duration": 266,
    "start_time": "2023-04-10T21:18:12.521Z"
   },
   {
    "duration": 5,
    "start_time": "2023-04-10T21:22:33.151Z"
   },
   {
    "duration": 243,
    "start_time": "2023-04-10T21:22:33.991Z"
   },
   {
    "duration": 4,
    "start_time": "2023-04-10T21:22:34.650Z"
   },
   {
    "duration": 110,
    "start_time": "2023-04-10T21:22:35.321Z"
   },
   {
    "duration": 1356,
    "start_time": "2023-04-10T21:22:35.771Z"
   },
   {
    "duration": 281,
    "start_time": "2023-04-10T21:22:37.129Z"
   },
   {
    "duration": 2,
    "start_time": "2023-04-10T21:22:39.441Z"
   },
   {
    "duration": 39,
    "start_time": "2023-04-10T21:22:39.971Z"
   },
   {
    "duration": 4,
    "start_time": "2023-04-10T21:22:43.140Z"
   },
   {
    "duration": 3,
    "start_time": "2023-04-10T21:22:44.300Z"
   },
   {
    "duration": 6,
    "start_time": "2023-04-10T21:22:45.581Z"
   },
   {
    "duration": 687,
    "start_time": "2023-04-10T21:22:46.471Z"
   },
   {
    "duration": 640,
    "start_time": "2023-04-10T21:22:47.161Z"
   },
   {
    "duration": 372,
    "start_time": "2023-04-10T21:22:47.803Z"
   },
   {
    "duration": 344,
    "start_time": "2023-04-10T21:22:48.177Z"
   },
   {
    "duration": 2566,
    "start_time": "2023-04-10T21:23:12.391Z"
   },
   {
    "duration": 8,
    "start_time": "2023-04-10T21:24:18.671Z"
   },
   {
    "duration": 438,
    "start_time": "2023-04-10T21:24:20.431Z"
   },
   {
    "duration": 209,
    "start_time": "2023-04-10T21:24:42.461Z"
   },
   {
    "duration": 48,
    "start_time": "2023-04-10T21:25:19.701Z"
   },
   {
    "duration": 33,
    "start_time": "2023-04-10T21:25:46.481Z"
   },
   {
    "duration": 1118,
    "start_time": "2023-04-10T21:26:11.764Z"
   },
   {
    "duration": 28,
    "start_time": "2023-04-10T21:26:32.621Z"
   },
   {
    "duration": 3152,
    "start_time": "2023-04-10T21:27:02.101Z"
   },
   {
    "duration": 25,
    "start_time": "2023-04-10T21:27:27.351Z"
   },
   {
    "duration": 49,
    "start_time": "2023-04-10T21:28:02.899Z"
   },
   {
    "duration": 709,
    "start_time": "2023-04-10T21:28:13.491Z"
   },
   {
    "duration": 5,
    "start_time": "2023-04-10T21:30:53.321Z"
   },
   {
    "duration": 370,
    "start_time": "2023-04-10T21:30:53.381Z"
   },
   {
    "duration": 4,
    "start_time": "2023-04-10T21:30:53.752Z"
   },
   {
    "duration": 120,
    "start_time": "2023-04-10T21:30:53.757Z"
   },
   {
    "duration": 1652,
    "start_time": "2023-04-10T21:30:53.879Z"
   },
   {
    "duration": 284,
    "start_time": "2023-04-10T21:30:55.533Z"
   },
   {
    "duration": 2145,
    "start_time": "2023-04-10T21:30:55.818Z"
   },
   {
    "duration": 4,
    "start_time": "2023-04-10T21:30:57.964Z"
   },
   {
    "duration": 20,
    "start_time": "2023-04-10T21:30:57.969Z"
   },
   {
    "duration": 62,
    "start_time": "2023-04-10T21:30:57.991Z"
   },
   {
    "duration": 26,
    "start_time": "2023-04-10T21:30:58.055Z"
   },
   {
    "duration": 2,
    "start_time": "2023-04-10T21:30:58.293Z"
   },
   {
    "duration": 18,
    "start_time": "2023-04-10T21:31:00.151Z"
   },
   {
    "duration": 86,
    "start_time": "2023-04-10T21:31:19.931Z"
   },
   {
    "duration": 473,
    "start_time": "2023-04-10T21:31:30.590Z"
   },
   {
    "duration": 75,
    "start_time": "2023-04-10T21:31:49.471Z"
   },
   {
    "duration": 5,
    "start_time": "2023-04-10T21:35:51.651Z"
   },
   {
    "duration": 236,
    "start_time": "2023-04-10T21:35:51.801Z"
   },
   {
    "duration": 3,
    "start_time": "2023-04-10T21:35:52.039Z"
   },
   {
    "duration": 81,
    "start_time": "2023-04-10T21:35:52.141Z"
   },
   {
    "duration": 1319,
    "start_time": "2023-04-10T21:35:52.261Z"
   },
   {
    "duration": 574,
    "start_time": "2023-04-10T21:35:53.582Z"
   },
   {
    "duration": 1311,
    "start_time": "2023-04-10T21:35:54.158Z"
   },
   {
    "duration": 4,
    "start_time": "2023-04-10T21:35:55.471Z"
   },
   {
    "duration": 14,
    "start_time": "2023-04-10T21:35:55.476Z"
   },
   {
    "duration": 459,
    "start_time": "2023-04-10T21:35:55.491Z"
   },
   {
    "duration": 42,
    "start_time": "2023-04-10T21:35:55.952Z"
   },
   {
    "duration": 24,
    "start_time": "2023-04-10T21:35:56.051Z"
   },
   {
    "duration": 73,
    "start_time": "2023-04-10T21:35:56.076Z"
   },
   {
    "duration": 608,
    "start_time": "2023-04-10T21:35:56.151Z"
   },
   {
    "duration": 26,
    "start_time": "2023-04-10T21:35:56.760Z"
   },
   {
    "duration": 1725,
    "start_time": "2023-04-10T21:35:56.788Z"
   },
   {
    "duration": 57,
    "start_time": "2023-04-10T21:35:58.514Z"
   },
   {
    "duration": 691,
    "start_time": "2023-04-10T21:35:58.573Z"
   },
   {
    "duration": 0,
    "start_time": "2023-04-10T21:35:59.266Z"
   },
   {
    "duration": 0,
    "start_time": "2023-04-10T21:35:59.267Z"
   },
   {
    "duration": 0,
    "start_time": "2023-04-10T21:35:59.268Z"
   },
   {
    "duration": 5,
    "start_time": "2023-04-10T21:38:57.901Z"
   },
   {
    "duration": 345,
    "start_time": "2023-04-10T21:38:58.821Z"
   },
   {
    "duration": 10,
    "start_time": "2023-04-10T21:38:59.521Z"
   },
   {
    "duration": 100,
    "start_time": "2023-04-10T21:39:00.211Z"
   },
   {
    "duration": 1340,
    "start_time": "2023-04-10T21:39:00.744Z"
   },
   {
    "duration": 269,
    "start_time": "2023-04-10T21:39:02.086Z"
   },
   {
    "duration": 1077,
    "start_time": "2023-04-10T21:39:02.801Z"
   },
   {
    "duration": 3,
    "start_time": "2023-04-10T21:39:03.881Z"
   },
   {
    "duration": 8,
    "start_time": "2023-04-10T21:39:04.342Z"
   },
   {
    "duration": 393,
    "start_time": "2023-04-10T21:39:04.562Z"
   },
   {
    "duration": 92,
    "start_time": "2023-04-10T21:39:04.957Z"
   },
   {
    "duration": 34,
    "start_time": "2023-04-10T21:39:05.491Z"
   },
   {
    "duration": 28,
    "start_time": "2023-04-10T21:39:05.527Z"
   },
   {
    "duration": 354,
    "start_time": "2023-04-10T21:39:05.611Z"
   },
   {
    "duration": 91,
    "start_time": "2023-04-10T21:39:05.967Z"
   },
   {
    "duration": 1260,
    "start_time": "2023-04-10T21:39:06.791Z"
   },
   {
    "duration": 29,
    "start_time": "2023-04-10T21:39:08.054Z"
   },
   {
    "duration": 351,
    "start_time": "2023-04-10T21:48:08.141Z"
   },
   {
    "duration": 485,
    "start_time": "2023-04-10T21:48:14.382Z"
   },
   {
    "duration": 299,
    "start_time": "2023-04-10T21:48:25.163Z"
   },
   {
    "duration": 3099,
    "start_time": "2023-04-10T21:48:42.471Z"
   },
   {
    "duration": 268,
    "start_time": "2023-04-10T21:48:57.801Z"
   },
   {
    "duration": 934,
    "start_time": "2023-04-10T21:54:02.752Z"
   },
   {
    "duration": 6,
    "start_time": "2023-04-10T21:54:11.492Z"
   },
   {
    "duration": 246,
    "start_time": "2023-04-10T21:54:12.302Z"
   },
   {
    "duration": 3,
    "start_time": "2023-04-10T21:54:12.882Z"
   },
   {
    "duration": 95,
    "start_time": "2023-04-10T21:54:13.542Z"
   },
   {
    "duration": 1206,
    "start_time": "2023-04-10T21:54:13.882Z"
   },
   {
    "duration": 466,
    "start_time": "2023-04-10T21:54:15.150Z"
   },
   {
    "duration": 736,
    "start_time": "2023-04-10T21:54:16.251Z"
   },
   {
    "duration": 2,
    "start_time": "2023-04-10T21:54:17.112Z"
   },
   {
    "duration": 9,
    "start_time": "2023-04-10T21:54:18.492Z"
   },
   {
    "duration": 628,
    "start_time": "2023-04-10T21:54:18.722Z"
   },
   {
    "duration": 402,
    "start_time": "2023-04-10T21:54:19.352Z"
   },
   {
    "duration": 407,
    "start_time": "2023-04-10T21:54:19.757Z"
   },
   {
    "duration": 5,
    "start_time": "2023-04-11T03:30:19.552Z"
   },
   {
    "duration": 367,
    "start_time": "2023-04-11T03:30:20.702Z"
   },
   {
    "duration": 5,
    "start_time": "2023-04-11T03:30:21.482Z"
   },
   {
    "duration": 114,
    "start_time": "2023-04-11T03:30:22.152Z"
   },
   {
    "duration": 1068,
    "start_time": "2023-04-11T03:30:22.602Z"
   },
   {
    "duration": 315,
    "start_time": "2023-04-11T03:30:23.671Z"
   },
   {
    "duration": 699,
    "start_time": "2023-04-11T03:30:24.651Z"
   },
   {
    "duration": 3,
    "start_time": "2023-04-11T03:30:25.351Z"
   },
   {
    "duration": 8,
    "start_time": "2023-04-11T03:30:26.191Z"
   },
   {
    "duration": 347,
    "start_time": "2023-04-11T03:30:26.431Z"
   },
   {
    "duration": 292,
    "start_time": "2023-04-11T03:30:26.780Z"
   },
   {
    "duration": 218,
    "start_time": "2023-04-11T03:30:28.082Z"
   },
   {
    "duration": 123,
    "start_time": "2023-04-11T03:33:06.272Z"
   },
   {
    "duration": 5,
    "start_time": "2023-04-11T03:35:05.492Z"
   },
   {
    "duration": 221,
    "start_time": "2023-04-11T03:35:06.312Z"
   },
   {
    "duration": 4,
    "start_time": "2023-04-11T03:35:06.992Z"
   },
   {
    "duration": 102,
    "start_time": "2023-04-11T03:35:07.682Z"
   },
   {
    "duration": 1004,
    "start_time": "2023-04-11T03:35:08.092Z"
   },
   {
    "duration": 478,
    "start_time": "2023-04-11T03:35:09.098Z"
   },
   {
    "duration": 517,
    "start_time": "2023-04-11T03:35:10.332Z"
   },
   {
    "duration": 3,
    "start_time": "2023-04-11T03:35:10.992Z"
   },
   {
    "duration": 830,
    "start_time": "2023-04-11T03:35:12.042Z"
   },
   {
    "duration": 0,
    "start_time": "2023-04-11T03:35:12.875Z"
   },
   {
    "duration": 0,
    "start_time": "2023-04-11T03:35:12.876Z"
   },
   {
    "duration": 198,
    "start_time": "2023-04-11T03:35:16.482Z"
   },
   {
    "duration": 188,
    "start_time": "2023-04-11T03:35:16.972Z"
   },
   {
    "duration": 928,
    "start_time": "2023-04-11T03:35:45.372Z"
   },
   {
    "duration": 23363,
    "start_time": "2023-04-11T03:35:46.302Z"
   },
   {
    "duration": 14,
    "start_time": "2023-04-11T03:36:09.667Z"
   },
   {
    "duration": 1011,
    "start_time": "2023-04-11T03:36:09.682Z"
   },
   {
    "duration": 4074,
    "start_time": "2023-04-11T03:36:10.696Z"
   },
   {
    "duration": 1095,
    "start_time": "2023-04-11T03:36:14.772Z"
   },
   {
    "duration": 3126,
    "start_time": "2023-04-11T03:36:15.868Z"
   },
   {
    "duration": 4,
    "start_time": "2023-04-11T03:37:42.892Z"
   },
   {
    "duration": 526,
    "start_time": "2023-04-11T03:37:44.543Z"
   },
   {
    "duration": 4,
    "start_time": "2023-04-11T03:37:46.532Z"
   },
   {
    "duration": 221,
    "start_time": "2023-04-11T03:37:49.652Z"
   },
   {
    "duration": 2445,
    "start_time": "2023-04-11T03:37:50.072Z"
   },
   {
    "duration": 539,
    "start_time": "2023-04-11T03:37:52.518Z"
   },
   {
    "duration": 2327,
    "start_time": "2023-04-11T03:38:07.922Z"
   },
   {
    "duration": 2,
    "start_time": "2023-04-11T03:38:11.472Z"
   },
   {
    "duration": 1217,
    "start_time": "2023-04-11T03:38:12.832Z"
   },
   {
    "duration": 19,
    "start_time": "2023-04-11T03:38:16.882Z"
   },
   {
    "duration": 2,
    "start_time": "2023-04-11T03:38:18.582Z"
   },
   {
    "duration": 975,
    "start_time": "2023-04-11T03:38:19.311Z"
   },
   {
    "duration": 457,
    "start_time": "2023-04-11T03:38:21.122Z"
   },
   {
    "duration": 317,
    "start_time": "2023-04-11T03:38:31.132Z"
   },
   {
    "duration": 65,
    "start_time": "2023-04-11T03:38:32.192Z"
   },
   {
    "duration": 42,
    "start_time": "2023-04-11T03:38:32.751Z"
   },
   {
    "duration": 1103,
    "start_time": "2023-04-11T03:38:36.372Z"
   },
   {
    "duration": 35,
    "start_time": "2023-04-11T03:38:41.811Z"
   },
   {
    "duration": 4290,
    "start_time": "2023-04-11T03:38:42.991Z"
   },
   {
    "duration": 26,
    "start_time": "2023-04-11T03:38:48.402Z"
   },
   {
    "duration": 548,
    "start_time": "2023-04-11T03:38:49.441Z"
   },
   {
    "duration": 10,
    "start_time": "2023-04-11T17:50:47.300Z"
   },
   {
    "duration": 8,
    "start_time": "2023-04-11T17:50:58.105Z"
   },
   {
    "duration": 20,
    "start_time": "2023-04-11T17:53:01.470Z"
   },
   {
    "duration": 144,
    "start_time": "2023-04-11T17:55:23.833Z"
   },
   {
    "duration": 4,
    "start_time": "2023-04-11T17:55:50.624Z"
   },
   {
    "duration": 15,
    "start_time": "2023-04-11T17:55:55.304Z"
   },
   {
    "duration": 5609,
    "start_time": "2023-04-11T17:56:34.755Z"
   },
   {
    "duration": 956,
    "start_time": "2023-04-11T17:58:10.881Z"
   },
   {
    "duration": 27285,
    "start_time": "2023-04-11T17:58:11.899Z"
   },
   {
    "duration": 93,
    "start_time": "2023-04-11T17:58:39.187Z"
   },
   {
    "duration": 1290,
    "start_time": "2023-04-11T17:58:39.285Z"
   },
   {
    "duration": 5586,
    "start_time": "2023-04-11T17:58:40.577Z"
   },
   {
    "duration": 1527,
    "start_time": "2023-04-11T17:58:46.165Z"
   },
   {
    "duration": 5858,
    "start_time": "2023-04-11T17:58:47.693Z"
   },
   {
    "duration": 3,
    "start_time": "2023-04-11T17:58:53.553Z"
   },
   {
    "duration": 72,
    "start_time": "2023-04-11T17:58:53.558Z"
   },
   {
    "duration": 127,
    "start_time": "2023-04-11T17:58:53.633Z"
   },
   {
    "duration": 9896,
    "start_time": "2023-04-11T17:58:53.763Z"
   },
   {
    "duration": 175,
    "start_time": "2023-04-11T17:59:13.119Z"
   },
   {
    "duration": 12,
    "start_time": "2023-04-11T18:00:05.118Z"
   },
   {
    "duration": 767,
    "start_time": "2023-04-11T18:00:23.598Z"
   },
   {
    "duration": 975,
    "start_time": "2023-04-11T18:03:29.641Z"
   },
   {
    "duration": 28306,
    "start_time": "2023-04-11T18:03:30.790Z"
   },
   {
    "duration": 60,
    "start_time": "2023-04-11T18:03:59.098Z"
   },
   {
    "duration": 1353,
    "start_time": "2023-04-11T18:03:59.160Z"
   },
   {
    "duration": 5232,
    "start_time": "2023-04-11T18:04:00.556Z"
   },
   {
    "duration": 1385,
    "start_time": "2023-04-11T18:04:05.790Z"
   },
   {
    "duration": 6028,
    "start_time": "2023-04-11T18:04:07.177Z"
   },
   {
    "duration": 42,
    "start_time": "2023-04-11T18:04:13.207Z"
   },
   {
    "duration": 148,
    "start_time": "2023-04-11T18:04:13.252Z"
   },
   {
    "duration": 173,
    "start_time": "2023-04-11T18:04:13.402Z"
   },
   {
    "duration": 8791,
    "start_time": "2023-04-11T18:04:13.579Z"
   },
   {
    "duration": 288,
    "start_time": "2023-04-11T18:04:22.371Z"
   },
   {
    "duration": 14,
    "start_time": "2023-04-11T18:04:22.671Z"
   },
   {
    "duration": 682,
    "start_time": "2023-04-11T18:04:22.686Z"
   },
   {
    "duration": 581,
    "start_time": "2023-04-11T18:04:23.369Z"
   },
   {
    "duration": 3,
    "start_time": "2023-04-11T18:04:23.952Z"
   },
   {
    "duration": 961,
    "start_time": "2023-04-11T18:05:47.869Z"
   },
   {
    "duration": 27421,
    "start_time": "2023-04-11T18:05:48.832Z"
   },
   {
    "duration": 39,
    "start_time": "2023-04-11T18:06:16.256Z"
   },
   {
    "duration": 1335,
    "start_time": "2023-04-11T18:06:16.349Z"
   },
   {
    "duration": 5600,
    "start_time": "2023-04-11T18:06:17.686Z"
   },
   {
    "duration": 1336,
    "start_time": "2023-04-11T18:06:23.288Z"
   },
   {
    "duration": 6231,
    "start_time": "2023-04-11T18:06:24.627Z"
   },
   {
    "duration": 7,
    "start_time": "2023-04-11T18:06:30.861Z"
   },
   {
    "duration": 124,
    "start_time": "2023-04-11T18:06:30.872Z"
   },
   {
    "duration": 113,
    "start_time": "2023-04-11T18:06:30.999Z"
   },
   {
    "duration": 8598,
    "start_time": "2023-04-11T18:06:31.114Z"
   },
   {
    "duration": 348,
    "start_time": "2023-04-11T18:06:39.714Z"
   },
   {
    "duration": 28,
    "start_time": "2023-04-11T18:06:40.064Z"
   },
   {
    "duration": 661,
    "start_time": "2023-04-11T18:06:40.094Z"
   },
   {
    "duration": 514,
    "start_time": "2023-04-11T18:06:40.757Z"
   },
   {
    "duration": 599,
    "start_time": "2023-04-11T18:06:41.272Z"
   },
   {
    "duration": 693,
    "start_time": "2023-04-11T18:06:41.873Z"
   },
   {
    "duration": 606,
    "start_time": "2023-04-11T18:06:42.574Z"
   },
   {
    "duration": 67,
    "start_time": "2023-04-11T18:06:43.182Z"
   },
   {
    "duration": 8,
    "start_time": "2023-04-11T18:06:43.251Z"
   },
   {
    "duration": 1022,
    "start_time": "2023-04-11T18:06:43.261Z"
   },
   {
    "duration": 978,
    "start_time": "2023-04-11T18:06:44.285Z"
   },
   {
    "duration": 219,
    "start_time": "2023-04-11T18:06:45.267Z"
   },
   {
    "duration": 161,
    "start_time": "2023-04-11T18:06:45.487Z"
   },
   {
    "duration": 130,
    "start_time": "2023-04-11T18:06:45.653Z"
   },
   {
    "duration": 1168,
    "start_time": "2023-04-11T18:06:45.785Z"
   },
   {
    "duration": 123,
    "start_time": "2023-04-11T18:06:46.954Z"
   },
   {
    "duration": 3794,
    "start_time": "2023-04-11T18:06:47.082Z"
   },
   {
    "duration": 117,
    "start_time": "2023-04-11T18:06:50.878Z"
   },
   {
    "duration": 592,
    "start_time": "2023-04-11T18:06:50.997Z"
   },
   {
    "duration": 1037,
    "start_time": "2023-04-11T18:08:30.289Z"
   },
   {
    "duration": 27329,
    "start_time": "2023-04-11T18:08:31.328Z"
   },
   {
    "duration": 36,
    "start_time": "2023-04-11T18:08:58.659Z"
   },
   {
    "duration": 1435,
    "start_time": "2023-04-11T18:08:58.757Z"
   },
   {
    "duration": 6259,
    "start_time": "2023-04-11T18:09:00.193Z"
   },
   {
    "duration": 1434,
    "start_time": "2023-04-11T18:09:06.454Z"
   },
   {
    "duration": 6173,
    "start_time": "2023-04-11T18:09:07.890Z"
   },
   {
    "duration": 7,
    "start_time": "2023-04-11T18:09:14.068Z"
   },
   {
    "duration": 118,
    "start_time": "2023-04-11T18:09:14.077Z"
   },
   {
    "duration": 214,
    "start_time": "2023-04-11T18:09:14.198Z"
   },
   {
    "duration": 8280,
    "start_time": "2023-04-11T18:09:14.414Z"
   },
   {
    "duration": 274,
    "start_time": "2023-04-11T18:09:22.696Z"
   },
   {
    "duration": 14,
    "start_time": "2023-04-11T18:09:22.972Z"
   },
   {
    "duration": 1183,
    "start_time": "2023-04-11T18:09:22.988Z"
   },
   {
    "duration": 731,
    "start_time": "2023-04-11T18:09:24.172Z"
   },
   {
    "duration": 646,
    "start_time": "2023-04-11T18:09:24.949Z"
   },
   {
    "duration": 811,
    "start_time": "2023-04-11T18:09:25.649Z"
   },
   {
    "duration": 972,
    "start_time": "2023-04-11T18:10:37.539Z"
   },
   {
    "duration": 26869,
    "start_time": "2023-04-11T18:10:38.513Z"
   },
   {
    "duration": 17,
    "start_time": "2023-04-11T18:11:05.385Z"
   },
   {
    "duration": 1303,
    "start_time": "2023-04-11T18:11:05.453Z"
   },
   {
    "duration": 4951,
    "start_time": "2023-04-11T18:11:06.758Z"
   },
   {
    "duration": 1293,
    "start_time": "2023-04-11T18:11:11.711Z"
   },
   {
    "duration": 5803,
    "start_time": "2023-04-11T18:11:13.006Z"
   },
   {
    "duration": 4,
    "start_time": "2023-04-11T18:11:18.856Z"
   },
   {
    "duration": 131,
    "start_time": "2023-04-11T18:11:18.862Z"
   },
   {
    "duration": 105,
    "start_time": "2023-04-11T18:11:18.996Z"
   },
   {
    "duration": 8465,
    "start_time": "2023-04-11T18:11:19.103Z"
   },
   {
    "duration": 287,
    "start_time": "2023-04-11T18:11:27.570Z"
   },
   {
    "duration": 30,
    "start_time": "2023-04-11T18:11:27.858Z"
   },
   {
    "duration": 1069,
    "start_time": "2023-04-11T18:11:27.890Z"
   },
   {
    "duration": 795,
    "start_time": "2023-04-11T18:11:28.960Z"
   },
   {
    "duration": 826,
    "start_time": "2023-04-11T18:11:29.756Z"
   },
   {
    "duration": 819,
    "start_time": "2023-04-11T18:11:30.584Z"
   },
   {
    "duration": 989,
    "start_time": "2023-04-11T18:13:33.930Z"
   },
   {
    "duration": 26839,
    "start_time": "2023-04-11T18:13:34.921Z"
   },
   {
    "duration": 94,
    "start_time": "2023-04-11T18:14:01.762Z"
   },
   {
    "duration": 1338,
    "start_time": "2023-04-11T18:14:01.859Z"
   },
   {
    "duration": 4912,
    "start_time": "2023-04-11T18:14:03.253Z"
   },
   {
    "duration": 1232,
    "start_time": "2023-04-11T18:14:08.167Z"
   },
   {
    "duration": 5787,
    "start_time": "2023-04-11T18:14:09.401Z"
   },
   {
    "duration": 65,
    "start_time": "2023-04-11T18:14:15.190Z"
   },
   {
    "duration": 1530,
    "start_time": "2023-04-11T18:14:15.258Z"
   },
   {
    "duration": 33,
    "start_time": "2023-04-11T18:14:16.852Z"
   },
   {
    "duration": 24,
    "start_time": "2023-04-11T18:14:16.887Z"
   },
   {
    "duration": 1231,
    "start_time": "2023-04-11T18:14:16.957Z"
   },
   {
    "duration": 697,
    "start_time": "2023-04-11T18:14:18.190Z"
   },
   {
    "duration": 469,
    "start_time": "2023-04-11T18:14:18.888Z"
   },
   {
    "duration": 200,
    "start_time": "2023-04-11T18:14:19.358Z"
   },
   {
    "duration": 121,
    "start_time": "2023-04-11T18:14:19.560Z"
   },
   {
    "duration": 1679,
    "start_time": "2023-04-11T18:14:19.682Z"
   },
   {
    "duration": 107,
    "start_time": "2023-04-11T18:14:21.364Z"
   },
   {
    "duration": 5387,
    "start_time": "2023-04-11T18:14:21.473Z"
   },
   {
    "duration": 125,
    "start_time": "2023-04-11T18:14:26.863Z"
   },
   {
    "duration": 886,
    "start_time": "2023-04-11T18:14:26.990Z"
   },
   {
    "duration": 907,
    "start_time": "2023-04-11T18:14:27.878Z"
   },
   {
    "duration": 4,
    "start_time": "2023-04-11T18:15:21.990Z"
   },
   {
    "duration": 633,
    "start_time": "2023-04-11T18:15:22.130Z"
   },
   {
    "duration": 13,
    "start_time": "2023-04-11T18:15:22.767Z"
   },
   {
    "duration": 284,
    "start_time": "2023-04-11T18:15:22.783Z"
   },
   {
    "duration": 2907,
    "start_time": "2023-04-11T18:15:23.070Z"
   },
   {
    "duration": 541,
    "start_time": "2023-04-11T18:15:25.979Z"
   },
   {
    "duration": 2234,
    "start_time": "2023-04-11T18:15:26.522Z"
   },
   {
    "duration": 4,
    "start_time": "2023-04-11T18:15:28.758Z"
   },
   {
    "duration": 100,
    "start_time": "2023-04-11T18:15:28.764Z"
   },
   {
    "duration": 19,
    "start_time": "2023-04-11T18:15:28.872Z"
   },
   {
    "duration": 4964,
    "start_time": "2023-04-11T18:15:28.893Z"
   },
   {
    "duration": 221,
    "start_time": "2023-04-11T18:15:33.860Z"
   },
   {
    "duration": 12,
    "start_time": "2023-04-11T18:15:34.083Z"
   },
   {
    "duration": 710,
    "start_time": "2023-04-11T18:15:34.096Z"
   },
   {
    "duration": 722,
    "start_time": "2023-04-11T18:15:34.849Z"
   },
   {
    "duration": 892,
    "start_time": "2023-04-11T18:15:35.572Z"
   },
   {
    "duration": 910,
    "start_time": "2023-04-11T18:15:36.466Z"
   },
   {
    "duration": 471,
    "start_time": "2023-04-11T18:15:37.378Z"
   },
   {
    "duration": 25,
    "start_time": "2023-04-11T18:15:37.851Z"
   },
   {
    "duration": 5,
    "start_time": "2023-04-11T18:17:56.790Z"
   },
   {
    "duration": 358,
    "start_time": "2023-04-11T18:17:57.655Z"
   },
   {
    "duration": 6,
    "start_time": "2023-04-11T18:17:58.363Z"
   },
   {
    "duration": 189,
    "start_time": "2023-04-11T18:17:58.929Z"
   },
   {
    "duration": 2150,
    "start_time": "2023-04-11T18:17:59.329Z"
   },
   {
    "duration": 372,
    "start_time": "2023-04-11T18:18:01.481Z"
   },
   {
    "duration": 1991,
    "start_time": "2023-04-11T18:18:03.189Z"
   },
   {
    "duration": 3,
    "start_time": "2023-04-11T18:18:05.182Z"
   },
   {
    "duration": 356,
    "start_time": "2023-04-11T18:18:09.241Z"
   },
   {
    "duration": 60,
    "start_time": "2023-04-11T18:18:09.599Z"
   },
   {
    "duration": 3,
    "start_time": "2023-04-11T18:18:09.774Z"
   },
   {
    "duration": 295,
    "start_time": "2023-04-11T18:18:09.974Z"
   },
   {
    "duration": 423,
    "start_time": "2023-04-11T18:18:10.271Z"
   },
   {
    "duration": 63,
    "start_time": "2023-04-11T18:18:10.817Z"
   },
   {
    "duration": 32,
    "start_time": "2023-04-11T18:18:11.176Z"
   },
   {
    "duration": 35,
    "start_time": "2023-04-11T18:18:11.503Z"
   },
   {
    "duration": 525,
    "start_time": "2023-04-11T18:18:11.772Z"
   },
   {
    "duration": 93,
    "start_time": "2023-04-11T18:18:12.299Z"
   },
   {
    "duration": 2054,
    "start_time": "2023-04-11T18:18:12.396Z"
   },
   {
    "duration": 48,
    "start_time": "2023-04-11T18:18:14.453Z"
   },
   {
    "duration": 523,
    "start_time": "2023-04-11T18:18:14.502Z"
   },
   {
    "duration": 4168,
    "start_time": "2023-04-11T18:18:15.054Z"
   },
   {
    "duration": 1767,
    "start_time": "2023-04-11T18:18:19.224Z"
   },
   {
    "duration": 501,
    "start_time": "2023-04-11T18:18:20.995Z"
   },
   {
    "duration": 8,
    "start_time": "2023-04-11T18:19:17.100Z"
   },
   {
    "duration": 459,
    "start_time": "2023-04-11T18:19:17.910Z"
   },
   {
    "duration": 4,
    "start_time": "2023-04-11T18:19:18.609Z"
   },
   {
    "duration": 128,
    "start_time": "2023-04-11T18:19:19.204Z"
   },
   {
    "duration": 1564,
    "start_time": "2023-04-11T18:19:19.589Z"
   },
   {
    "duration": 566,
    "start_time": "2023-04-11T18:19:21.155Z"
   },
   {
    "duration": 1183,
    "start_time": "2023-04-11T18:19:21.723Z"
   },
   {
    "duration": 3,
    "start_time": "2023-04-11T18:19:22.908Z"
   },
   {
    "duration": 21,
    "start_time": "2023-04-11T18:19:22.989Z"
   },
   {
    "duration": 15,
    "start_time": "2023-04-11T18:19:23.199Z"
   },
   {
    "duration": 3590,
    "start_time": "2023-04-11T18:19:23.689Z"
   },
   {
    "duration": 187,
    "start_time": "2023-04-11T18:19:27.280Z"
   },
   {
    "duration": 13,
    "start_time": "2023-04-11T18:19:27.469Z"
   },
   {
    "duration": 512,
    "start_time": "2023-04-11T18:19:27.484Z"
   },
   {
    "duration": 665,
    "start_time": "2023-04-11T18:19:27.999Z"
   },
   {
    "duration": 497,
    "start_time": "2023-04-11T18:19:28.666Z"
   },
   {
    "duration": 597,
    "start_time": "2023-04-11T18:19:29.164Z"
   },
   {
    "duration": 616,
    "start_time": "2023-04-11T18:19:29.763Z"
   },
   {
    "duration": 483,
    "start_time": "2023-04-11T18:19:30.381Z"
   },
   {
    "duration": 26416,
    "start_time": "2023-04-11T18:21:10.735Z"
   },
   {
    "duration": 23,
    "start_time": "2023-04-11T18:21:37.154Z"
   },
   {
    "duration": 1207,
    "start_time": "2023-04-11T18:21:37.178Z"
   },
   {
    "duration": 5274,
    "start_time": "2023-04-11T18:21:38.387Z"
   },
   {
    "duration": 919,
    "start_time": "2023-04-11T18:22:23.015Z"
   },
   {
    "duration": 26071,
    "start_time": "2023-04-11T18:22:24.485Z"
   },
   {
    "duration": 16,
    "start_time": "2023-04-11T18:22:52.115Z"
   },
   {
    "duration": 1089,
    "start_time": "2023-04-11T18:22:53.563Z"
   },
   {
    "duration": 5044,
    "start_time": "2023-04-11T18:23:02.363Z"
   },
   {
    "duration": 1276,
    "start_time": "2023-04-11T18:23:07.448Z"
   },
   {
    "duration": 5462,
    "start_time": "2023-04-11T18:23:20.515Z"
   },
   {
    "duration": 4,
    "start_time": "2023-04-11T18:23:25.978Z"
   },
   {
    "duration": 95,
    "start_time": "2023-04-11T18:23:25.983Z"
   },
   {
    "duration": 115,
    "start_time": "2023-04-11T18:23:26.080Z"
   },
   {
    "duration": 8932,
    "start_time": "2023-04-11T18:23:26.248Z"
   },
   {
    "duration": 292,
    "start_time": "2023-04-11T18:23:35.182Z"
   },
   {
    "duration": 11,
    "start_time": "2023-04-11T18:23:35.476Z"
   },
   {
    "duration": 828,
    "start_time": "2023-04-11T18:23:35.550Z"
   },
   {
    "duration": 610,
    "start_time": "2023-04-11T18:23:36.381Z"
   },
   {
    "duration": 595,
    "start_time": "2023-04-11T18:23:36.992Z"
   },
   {
    "duration": 926,
    "start_time": "2023-04-11T18:23:37.649Z"
   },
   {
    "duration": 690,
    "start_time": "2023-04-11T18:23:38.578Z"
   },
   {
    "duration": 802,
    "start_time": "2023-04-11T18:23:39.270Z"
   },
   {
    "duration": 1040,
    "start_time": "2023-04-11T18:31:33.435Z"
   },
   {
    "duration": 26776,
    "start_time": "2023-04-11T18:31:34.486Z"
   },
   {
    "duration": 24,
    "start_time": "2023-04-11T18:32:01.264Z"
   },
   {
    "duration": 1209,
    "start_time": "2023-04-11T18:32:01.351Z"
   },
   {
    "duration": 5207,
    "start_time": "2023-04-11T18:32:02.562Z"
   },
   {
    "duration": 1317,
    "start_time": "2023-04-11T18:32:07.771Z"
   },
   {
    "duration": 5279,
    "start_time": "2023-04-11T18:32:09.090Z"
   },
   {
    "duration": 4,
    "start_time": "2023-04-11T18:32:14.371Z"
   },
   {
    "duration": 71,
    "start_time": "2023-04-11T18:32:14.378Z"
   },
   {
    "duration": 12520,
    "start_time": "2023-04-11T18:32:14.453Z"
   },
   {
    "duration": 6877,
    "start_time": "2023-04-11T18:32:26.975Z"
   },
   {
    "duration": 397,
    "start_time": "2023-04-11T18:38:32.295Z"
   },
   {
    "duration": 942,
    "start_time": "2023-04-11T18:39:48.681Z"
   },
   {
    "duration": 26071,
    "start_time": "2023-04-11T18:39:49.626Z"
   },
   {
    "duration": 32,
    "start_time": "2023-04-11T18:40:15.748Z"
   },
   {
    "duration": 1172,
    "start_time": "2023-04-11T18:40:15.782Z"
   },
   {
    "duration": 5331,
    "start_time": "2023-04-11T18:40:16.956Z"
   },
   {
    "duration": 1280,
    "start_time": "2023-04-11T18:40:22.288Z"
   },
   {
    "duration": 5409,
    "start_time": "2023-04-11T18:40:23.576Z"
   },
   {
    "duration": 4,
    "start_time": "2023-04-11T18:40:28.986Z"
   },
   {
    "duration": 85,
    "start_time": "2023-04-11T18:40:28.992Z"
   },
   {
    "duration": 14497,
    "start_time": "2023-04-11T18:40:29.078Z"
   },
   {
    "duration": 6781,
    "start_time": "2023-04-11T18:40:43.578Z"
   },
   {
    "duration": 314,
    "start_time": "2023-04-11T18:40:50.367Z"
   },
   {
    "duration": 2,
    "start_time": "2023-04-11T18:40:50.682Z"
   },
   {
    "duration": 32,
    "start_time": "2023-04-11T18:40:50.687Z"
   },
   {
    "duration": 29,
    "start_time": "2023-04-11T18:40:50.721Z"
   },
   {
    "duration": 46,
    "start_time": "2023-04-11T18:40:50.752Z"
   },
   {
    "duration": 4,
    "start_time": "2023-04-11T18:48:50.080Z"
   },
   {
    "duration": 1188,
    "start_time": "2023-04-11T18:51:09.511Z"
   },
   {
    "duration": 28181,
    "start_time": "2023-04-11T18:51:10.701Z"
   },
   {
    "duration": 72,
    "start_time": "2023-04-11T18:51:38.885Z"
   },
   {
    "duration": 1521,
    "start_time": "2023-04-11T18:51:38.958Z"
   },
   {
    "duration": 5002,
    "start_time": "2023-04-11T18:51:40.482Z"
   },
   {
    "duration": 1303,
    "start_time": "2023-04-11T18:51:45.487Z"
   },
   {
    "duration": 20,
    "start_time": "2023-04-11T18:51:46.856Z"
   },
   {
    "duration": 5285,
    "start_time": "2023-04-11T18:51:46.878Z"
   },
   {
    "duration": 1773,
    "start_time": "2023-04-11T18:52:16.914Z"
   },
   {
    "duration": 914,
    "start_time": "2023-04-11T18:53:02.005Z"
   },
   {
    "duration": 25957,
    "start_time": "2023-04-11T18:53:02.921Z"
   },
   {
    "duration": 29,
    "start_time": "2023-04-11T18:53:28.880Z"
   },
   {
    "duration": 1457,
    "start_time": "2023-04-11T18:53:28.912Z"
   },
   {
    "duration": 5628,
    "start_time": "2023-04-11T18:53:30.371Z"
   },
   {
    "duration": 1460,
    "start_time": "2023-04-11T18:53:36.001Z"
   },
   {
    "duration": 4,
    "start_time": "2023-04-11T18:53:37.463Z"
   },
   {
    "duration": 5582,
    "start_time": "2023-04-11T18:53:37.469Z"
   },
   {
    "duration": 2018,
    "start_time": "2023-04-11T18:53:43.057Z"
   },
   {
    "duration": 952,
    "start_time": "2023-04-11T18:58:45.676Z"
   },
   {
    "duration": 27623,
    "start_time": "2023-04-11T18:58:46.630Z"
   },
   {
    "duration": 30,
    "start_time": "2023-04-11T18:59:14.255Z"
   },
   {
    "duration": 1209,
    "start_time": "2023-04-11T18:59:14.287Z"
   },
   {
    "duration": 5491,
    "start_time": "2023-04-11T18:59:15.499Z"
   },
   {
    "duration": 1359,
    "start_time": "2023-04-11T18:59:20.991Z"
   },
   {
    "duration": 3,
    "start_time": "2023-04-11T18:59:22.353Z"
   },
   {
    "duration": 9124,
    "start_time": "2023-04-11T18:59:22.358Z"
   },
   {
    "duration": 73,
    "start_time": "2023-04-11T18:59:31.484Z"
   },
   {
    "duration": 13713,
    "start_time": "2023-04-11T18:59:31.559Z"
   },
   {
    "duration": 6623,
    "start_time": "2023-04-11T18:59:45.275Z"
   },
   {
    "duration": 474,
    "start_time": "2023-04-11T18:59:51.899Z"
   },
   {
    "duration": 3,
    "start_time": "2023-04-11T18:59:52.376Z"
   },
   {
    "duration": 30,
    "start_time": "2023-04-11T18:59:52.381Z"
   },
   {
    "duration": 65,
    "start_time": "2023-04-11T18:59:52.412Z"
   },
   {
    "duration": 12,
    "start_time": "2023-04-11T18:59:52.479Z"
   },
   {
    "duration": 3,
    "start_time": "2023-04-11T19:00:55.074Z"
   },
   {
    "duration": 3,
    "start_time": "2023-04-11T19:01:04.312Z"
   },
   {
    "duration": 3,
    "start_time": "2023-04-11T19:01:12.511Z"
   },
   {
    "duration": 2,
    "start_time": "2023-04-11T19:01:19.433Z"
   },
   {
    "duration": 8,
    "start_time": "2023-04-11T19:14:01.878Z"
   },
   {
    "duration": 1025,
    "start_time": "2023-04-11T19:16:12.578Z"
   },
   {
    "duration": 27452,
    "start_time": "2023-04-11T19:16:13.605Z"
   },
   {
    "duration": 39,
    "start_time": "2023-04-11T19:16:41.059Z"
   },
   {
    "duration": 1564,
    "start_time": "2023-04-11T19:16:41.099Z"
   },
   {
    "duration": 5893,
    "start_time": "2023-04-11T19:16:42.665Z"
   },
   {
    "duration": 1519,
    "start_time": "2023-04-11T19:16:48.561Z"
   },
   {
    "duration": 3,
    "start_time": "2023-04-11T19:16:50.083Z"
   },
   {
    "duration": 10093,
    "start_time": "2023-04-11T19:16:50.088Z"
   },
   {
    "duration": 11,
    "start_time": "2023-04-11T19:17:00.183Z"
   },
   {
    "duration": 14281,
    "start_time": "2023-04-11T19:17:00.197Z"
   },
   {
    "duration": 7604,
    "start_time": "2023-04-11T19:17:14.484Z"
   },
   {
    "duration": 507,
    "start_time": "2023-04-11T19:17:22.089Z"
   },
   {
    "duration": 7,
    "start_time": "2023-04-11T19:18:52.246Z"
   },
   {
    "duration": 5,
    "start_time": "2023-04-12T11:29:07.228Z"
   },
   {
    "duration": 802,
    "start_time": "2023-04-12T11:29:07.374Z"
   },
   {
    "duration": 3,
    "start_time": "2023-04-12T11:29:08.178Z"
   },
   {
    "duration": 220,
    "start_time": "2023-04-12T11:29:08.183Z"
   },
   {
    "duration": 1935,
    "start_time": "2023-04-12T11:29:08.737Z"
   },
   {
    "duration": 506,
    "start_time": "2023-04-12T11:29:10.673Z"
   },
   {
    "duration": 3,
    "start_time": "2023-04-12T11:29:11.562Z"
   },
   {
    "duration": 3177,
    "start_time": "2023-04-12T11:29:12.097Z"
   },
   {
    "duration": 11,
    "start_time": "2023-04-12T11:29:15.442Z"
   },
   {
    "duration": 4,
    "start_time": "2023-04-12T11:29:17.138Z"
   },
   {
    "duration": 5,
    "start_time": "2023-04-12T11:30:42.194Z"
   },
   {
    "duration": 325,
    "start_time": "2023-04-12T11:30:42.353Z"
   },
   {
    "duration": 4,
    "start_time": "2023-04-12T11:30:42.680Z"
   },
   {
    "duration": 166,
    "start_time": "2023-04-12T11:30:42.685Z"
   },
   {
    "duration": 1569,
    "start_time": "2023-04-12T11:30:42.853Z"
   },
   {
    "duration": 378,
    "start_time": "2023-04-12T11:30:44.424Z"
   },
   {
    "duration": 3,
    "start_time": "2023-04-12T11:30:44.805Z"
   },
   {
    "duration": 2751,
    "start_time": "2023-04-12T11:30:45.234Z"
   },
   {
    "duration": 66,
    "start_time": "2023-04-12T11:30:47.987Z"
   },
   {
    "duration": 4,
    "start_time": "2023-04-12T11:30:48.875Z"
   },
   {
    "duration": 125,
    "start_time": "2023-04-12T11:30:52.434Z"
   },
   {
    "duration": 10,
    "start_time": "2023-04-12T11:31:18.160Z"
   },
   {
    "duration": 4,
    "start_time": "2023-04-12T11:31:19.614Z"
   },
   {
    "duration": 26,
    "start_time": "2023-04-12T11:31:19.994Z"
   },
   {
    "duration": 28,
    "start_time": "2023-04-12T11:31:20.058Z"
   },
   {
    "duration": 10,
    "start_time": "2023-04-12T11:35:31.439Z"
   },
   {
    "duration": 5,
    "start_time": "2023-04-12T11:35:32.774Z"
   },
   {
    "duration": 5899,
    "start_time": "2023-04-12T11:35:35.086Z"
   },
   {
    "duration": 164,
    "start_time": "2023-04-12T11:36:13.911Z"
   },
   {
    "duration": 606,
    "start_time": "2023-04-12T11:36:59.062Z"
   },
   {
    "duration": 12,
    "start_time": "2023-04-12T11:37:18.424Z"
   },
   {
    "duration": 4441,
    "start_time": "2023-04-12T11:37:20.222Z"
   },
   {
    "duration": 521,
    "start_time": "2023-04-12T11:37:24.667Z"
   },
   {
    "duration": 18,
    "start_time": "2023-04-12T11:38:38.313Z"
   },
   {
    "duration": 3941,
    "start_time": "2023-04-12T11:38:38.767Z"
   },
   {
    "duration": 0,
    "start_time": "2023-04-12T11:38:42.710Z"
   },
   {
    "duration": 6,
    "start_time": "2023-04-12T11:39:12.370Z"
   },
   {
    "duration": 329,
    "start_time": "2023-04-12T11:39:12.535Z"
   },
   {
    "duration": 4,
    "start_time": "2023-04-12T11:39:12.866Z"
   },
   {
    "duration": 101,
    "start_time": "2023-04-12T11:39:12.872Z"
   },
   {
    "duration": 1602,
    "start_time": "2023-04-12T11:39:12.976Z"
   },
   {
    "duration": 510,
    "start_time": "2023-04-12T11:39:14.581Z"
   },
   {
    "duration": 6,
    "start_time": "2023-04-12T11:39:15.093Z"
   },
   {
    "duration": 2572,
    "start_time": "2023-04-12T11:39:15.100Z"
   },
   {
    "duration": 324,
    "start_time": "2023-04-12T11:39:17.674Z"
   },
   {
    "duration": 0,
    "start_time": "2023-04-12T11:39:18.000Z"
   },
   {
    "duration": 13,
    "start_time": "2023-04-12T11:39:33.337Z"
   },
   {
    "duration": 9,
    "start_time": "2023-04-12T11:39:39.232Z"
   },
   {
    "duration": 3391,
    "start_time": "2023-04-12T11:39:39.809Z"
   },
   {
    "duration": 18,
    "start_time": "2023-04-12T11:40:05.497Z"
   },
   {
    "duration": 28,
    "start_time": "2023-04-12T11:40:05.809Z"
   },
   {
    "duration": 15,
    "start_time": "2023-04-12T11:40:19.345Z"
   },
   {
    "duration": 4160,
    "start_time": "2023-04-12T11:40:20.224Z"
   },
   {
    "duration": 411,
    "start_time": "2023-04-12T11:40:25.856Z"
   },
   {
    "duration": 11,
    "start_time": "2023-04-12T11:40:42.409Z"
   },
   {
    "duration": 3595,
    "start_time": "2023-04-12T11:40:42.858Z"
   },
   {
    "duration": 523,
    "start_time": "2023-04-12T11:40:46.454Z"
   },
   {
    "duration": 13,
    "start_time": "2023-04-12T11:41:07.618Z"
   },
   {
    "duration": 3681,
    "start_time": "2023-04-12T11:41:07.891Z"
   },
   {
    "duration": 495,
    "start_time": "2023-04-12T11:41:11.574Z"
   },
   {
    "duration": 9,
    "start_time": "2023-04-12T11:43:52.772Z"
   },
   {
    "duration": 343,
    "start_time": "2023-04-12T11:43:55.731Z"
   },
   {
    "duration": 646,
    "start_time": "2023-04-12T11:43:57.004Z"
   },
   {
    "duration": 500,
    "start_time": "2023-04-12T11:43:59.250Z"
   },
   {
    "duration": 6,
    "start_time": "2023-04-12T11:44:14.150Z"
   },
   {
    "duration": 350,
    "start_time": "2023-04-12T11:44:15.138Z"
   },
   {
    "duration": 733,
    "start_time": "2023-04-12T11:44:15.523Z"
   },
   {
    "duration": 340,
    "start_time": "2023-04-12T11:44:16.916Z"
   },
   {
    "duration": 11,
    "start_time": "2023-04-12T11:44:27.477Z"
   },
   {
    "duration": 379,
    "start_time": "2023-04-12T11:44:27.901Z"
   },
   {
    "duration": 1589,
    "start_time": "2023-04-12T11:44:28.348Z"
   },
   {
    "duration": 556,
    "start_time": "2023-04-12T11:44:30.800Z"
   },
   {
    "duration": 8,
    "start_time": "2023-04-12T11:44:49.468Z"
   },
   {
    "duration": 405,
    "start_time": "2023-04-12T11:44:49.845Z"
   },
   {
    "duration": 1343,
    "start_time": "2023-04-12T11:44:50.252Z"
   },
   {
    "duration": 653,
    "start_time": "2023-04-12T11:44:51.597Z"
   },
   {
    "duration": 10,
    "start_time": "2023-04-12T11:45:01.533Z"
   },
   {
    "duration": 2374,
    "start_time": "2023-04-12T11:45:02.019Z"
   },
   {
    "duration": 3150,
    "start_time": "2023-04-12T11:45:04.450Z"
   },
   {
    "duration": 1278,
    "start_time": "2023-04-12T11:45:07.602Z"
   },
   {
    "duration": 3586,
    "start_time": "2023-04-12T11:46:18.984Z"
   },
   {
    "duration": 13,
    "start_time": "2023-04-12T11:47:05.805Z"
   },
   {
    "duration": 10,
    "start_time": "2023-04-12T11:47:14.973Z"
   },
   {
    "duration": 462,
    "start_time": "2023-04-12T11:47:16.002Z"
   },
   {
    "duration": 2289,
    "start_time": "2023-04-12T11:47:16.468Z"
   },
   {
    "duration": 8,
    "start_time": "2023-04-12T11:47:59.527Z"
   },
   {
    "duration": 654,
    "start_time": "2023-04-12T11:47:59.811Z"
   },
   {
    "duration": 8,
    "start_time": "2023-04-12T11:48:10.911Z"
   },
   {
    "duration": 336,
    "start_time": "2023-04-12T11:48:11.149Z"
   },
   {
    "duration": 8,
    "start_time": "2023-04-12T11:48:19.918Z"
   },
   {
    "duration": 1124,
    "start_time": "2023-04-12T11:48:21.096Z"
   },
   {
    "duration": 0,
    "start_time": "2023-04-12T11:48:22.222Z"
   },
   {
    "duration": 9,
    "start_time": "2023-04-12T11:48:54.150Z"
   },
   {
    "duration": 621,
    "start_time": "2023-04-12T11:48:54.454Z"
   },
   {
    "duration": 9,
    "start_time": "2023-04-12T11:49:10.292Z"
   },
   {
    "duration": 388,
    "start_time": "2023-04-12T11:49:12.162Z"
   },
   {
    "duration": 492,
    "start_time": "2023-04-12T11:49:13.511Z"
   },
   {
    "duration": 260,
    "start_time": "2023-04-12T11:49:14.005Z"
   },
   {
    "duration": 901,
    "start_time": "2023-04-12T11:49:15.749Z"
   },
   {
    "duration": 329,
    "start_time": "2023-04-12T11:49:21.574Z"
   },
   {
    "duration": 11,
    "start_time": "2023-04-12T11:56:21.398Z"
   },
   {
    "duration": 601,
    "start_time": "2023-04-12T11:56:21.879Z"
   },
   {
    "duration": 0,
    "start_time": "2023-04-12T11:56:22.482Z"
   },
   {
    "duration": 6,
    "start_time": "2023-04-12T11:56:27.723Z"
   },
   {
    "duration": 275,
    "start_time": "2023-04-12T11:56:28.515Z"
   },
   {
    "duration": 6,
    "start_time": "2023-04-12T11:56:51.716Z"
   },
   {
    "duration": 306,
    "start_time": "2023-04-12T11:56:52.266Z"
   },
   {
    "duration": 449,
    "start_time": "2023-04-12T11:56:52.651Z"
   },
   {
    "duration": 12,
    "start_time": "2023-04-12T11:57:06.148Z"
   },
   {
    "duration": 459,
    "start_time": "2023-04-12T11:57:06.681Z"
   },
   {
    "duration": 13,
    "start_time": "2023-04-12T11:58:28.221Z"
   },
   {
    "duration": 590,
    "start_time": "2023-04-12T11:58:29.028Z"
   },
   {
    "duration": 17,
    "start_time": "2023-04-12T11:58:49.053Z"
   },
   {
    "duration": 508,
    "start_time": "2023-04-12T11:58:49.697Z"
   },
   {
    "duration": 8,
    "start_time": "2023-04-12T11:58:58.661Z"
   },
   {
    "duration": 228,
    "start_time": "2023-04-12T11:58:58.823Z"
   },
   {
    "duration": 4,
    "start_time": "2023-04-12T11:58:59.052Z"
   },
   {
    "duration": 136,
    "start_time": "2023-04-12T11:58:59.063Z"
   },
   {
    "duration": 1410,
    "start_time": "2023-04-12T11:58:59.202Z"
   },
   {
    "duration": 291,
    "start_time": "2023-04-12T11:59:00.614Z"
   },
   {
    "duration": 3,
    "start_time": "2023-04-12T11:59:00.907Z"
   },
   {
    "duration": 2384,
    "start_time": "2023-04-12T11:59:00.911Z"
   },
   {
    "duration": 19,
    "start_time": "2023-04-12T11:59:03.298Z"
   },
   {
    "duration": 52,
    "start_time": "2023-04-12T11:59:03.319Z"
   },
   {
    "duration": 454,
    "start_time": "2023-04-12T11:59:03.374Z"
   },
   {
    "duration": 0,
    "start_time": "2023-04-12T11:59:03.830Z"
   },
   {
    "duration": 15,
    "start_time": "2023-04-12T11:59:47.030Z"
   },
   {
    "duration": 3145,
    "start_time": "2023-04-12T11:59:48.157Z"
   },
   {
    "duration": 2078,
    "start_time": "2023-04-12T11:59:52.508Z"
   },
   {
    "duration": 901,
    "start_time": "2023-04-12T11:59:57.262Z"
   },
   {
    "duration": 2559,
    "start_time": "2023-04-12T12:00:00.703Z"
   },
   {
    "duration": 3085,
    "start_time": "2023-04-12T12:00:04.836Z"
   },
   {
    "duration": 297,
    "start_time": "2023-04-12T12:00:19.374Z"
   },
   {
    "duration": 898,
    "start_time": "2023-04-12T12:09:55.444Z"
   },
   {
    "duration": 12,
    "start_time": "2023-04-12T12:10:45.765Z"
   },
   {
    "duration": 1190,
    "start_time": "2023-04-12T12:10:46.283Z"
   },
   {
    "duration": 15,
    "start_time": "2023-04-12T12:11:00.237Z"
   },
   {
    "duration": 2340,
    "start_time": "2023-04-12T12:11:01.196Z"
   },
   {
    "duration": 2326,
    "start_time": "2023-04-12T12:11:13.700Z"
   },
   {
    "duration": 950,
    "start_time": "2023-04-12T12:11:16.028Z"
   },
   {
    "duration": 2221,
    "start_time": "2023-04-12T12:11:20.099Z"
   },
   {
    "duration": 2702,
    "start_time": "2023-04-12T12:11:24.715Z"
   },
   {
    "duration": 234,
    "start_time": "2023-04-12T12:11:31.373Z"
   },
   {
    "duration": 11,
    "start_time": "2023-04-12T12:11:56.139Z"
   },
   {
    "duration": 373,
    "start_time": "2023-04-12T12:11:56.301Z"
   },
   {
    "duration": 5,
    "start_time": "2023-04-12T12:11:57.372Z"
   },
   {
    "duration": 112,
    "start_time": "2023-04-12T12:11:57.931Z"
   },
   {
    "duration": 1105,
    "start_time": "2023-04-12T12:11:58.045Z"
   },
   {
    "duration": 305,
    "start_time": "2023-04-12T12:11:59.152Z"
   },
   {
    "duration": 2,
    "start_time": "2023-04-12T12:11:59.459Z"
   },
   {
    "duration": 1934,
    "start_time": "2023-04-12T12:12:00.232Z"
   },
   {
    "duration": 13,
    "start_time": "2023-04-12T12:12:02.169Z"
   },
   {
    "duration": 17,
    "start_time": "2023-04-12T12:12:04.669Z"
   },
   {
    "duration": 2260,
    "start_time": "2023-04-12T12:12:05.268Z"
   },
   {
    "duration": 2459,
    "start_time": "2023-04-12T12:12:07.530Z"
   },
   {
    "duration": 624,
    "start_time": "2023-04-12T12:12:09.990Z"
   },
   {
    "duration": 1940,
    "start_time": "2023-04-12T12:12:10.617Z"
   },
   {
    "duration": 3,
    "start_time": "2023-04-12T12:12:12.558Z"
   },
   {
    "duration": 303,
    "start_time": "2023-04-12T12:12:12.562Z"
   },
   {
    "duration": 17,
    "start_time": "2023-04-12T12:13:44.543Z"
   },
   {
    "duration": 258,
    "start_time": "2023-04-12T12:13:46.221Z"
   },
   {
    "duration": 14,
    "start_time": "2023-04-12T12:13:58.846Z"
   },
   {
    "duration": 294,
    "start_time": "2023-04-12T12:14:00.219Z"
   },
   {
    "duration": 2361,
    "start_time": "2023-04-12T12:14:10.798Z"
   },
   {
    "duration": 10,
    "start_time": "2023-04-12T12:16:06.489Z"
   },
   {
    "duration": 2429,
    "start_time": "2023-04-12T12:16:19.576Z"
   },
   {
    "duration": 2,
    "start_time": "2023-04-12T12:16:22.007Z"
   },
   {
    "duration": 12,
    "start_time": "2023-04-12T12:16:29.929Z"
   },
   {
    "duration": 2032,
    "start_time": "2023-04-12T12:16:30.503Z"
   },
   {
    "duration": 351,
    "start_time": "2023-04-12T12:16:42.772Z"
   },
   {
    "duration": 23,
    "start_time": "2023-04-12T12:17:39.792Z"
   },
   {
    "duration": 1839,
    "start_time": "2023-04-12T12:17:40.455Z"
   },
   {
    "duration": 267,
    "start_time": "2023-04-12T12:17:43.192Z"
   },
   {
    "duration": 17,
    "start_time": "2023-04-12T12:18:26.817Z"
   },
   {
    "duration": 2049,
    "start_time": "2023-04-12T12:18:27.201Z"
   },
   {
    "duration": 227,
    "start_time": "2023-04-12T12:18:32.161Z"
   },
   {
    "duration": 8,
    "start_time": "2023-04-12T12:23:48.103Z"
   },
   {
    "duration": 208,
    "start_time": "2023-04-12T12:23:48.261Z"
   },
   {
    "duration": 4,
    "start_time": "2023-04-12T12:23:49.214Z"
   },
   {
    "duration": 112,
    "start_time": "2023-04-12T12:23:49.311Z"
   },
   {
    "duration": 1030,
    "start_time": "2023-04-12T12:23:49.425Z"
   },
   {
    "duration": 243,
    "start_time": "2023-04-12T12:23:50.456Z"
   },
   {
    "duration": 3,
    "start_time": "2023-04-12T12:23:51.397Z"
   },
   {
    "duration": 2742,
    "start_time": "2023-04-12T12:23:51.908Z"
   },
   {
    "duration": 19,
    "start_time": "2023-04-12T12:23:54.653Z"
   },
   {
    "duration": 12,
    "start_time": "2023-04-12T12:23:57.540Z"
   },
   {
    "duration": 226,
    "start_time": "2023-04-12T12:23:59.349Z"
   },
   {
    "duration": 1781,
    "start_time": "2023-04-12T12:44:28.811Z"
   },
   {
    "duration": 240,
    "start_time": "2023-04-12T12:44:40.632Z"
   },
   {
    "duration": 894,
    "start_time": "2023-04-12T12:45:26.406Z"
   },
   {
    "duration": 24661,
    "start_time": "2023-04-12T12:45:27.301Z"
   },
   {
    "duration": 15,
    "start_time": "2023-04-12T12:45:51.964Z"
   },
   {
    "duration": 1073,
    "start_time": "2023-04-12T12:45:51.981Z"
   },
   {
    "duration": 4511,
    "start_time": "2023-04-12T12:45:53.056Z"
   },
   {
    "duration": 1010,
    "start_time": "2023-04-12T12:45:57.569Z"
   },
   {
    "duration": 2,
    "start_time": "2023-04-12T12:45:58.581Z"
   },
   {
    "duration": 7374,
    "start_time": "2023-04-12T12:45:58.585Z"
   },
   {
    "duration": 12,
    "start_time": "2023-04-12T12:46:05.961Z"
   },
   {
    "duration": 74,
    "start_time": "2023-04-12T12:46:05.976Z"
   },
   {
    "duration": 1846,
    "start_time": "2023-04-12T12:46:06.051Z"
   },
   {
    "duration": 10,
    "start_time": "2023-04-12T12:46:44.026Z"
   },
   {
    "duration": 56,
    "start_time": "2023-04-12T12:46:46.401Z"
   },
   {
    "duration": 6,
    "start_time": "2023-04-12T12:47:08.883Z"
   },
   {
    "duration": 702,
    "start_time": "2023-04-12T12:47:11.473Z"
   },
   {
    "duration": 290,
    "start_time": "2023-04-12T12:56:29.025Z"
   },
   {
    "duration": 9,
    "start_time": "2023-04-12T12:56:49.185Z"
   },
   {
    "duration": 9326,
    "start_time": "2023-04-12T12:56:50.543Z"
   },
   {
    "duration": 878,
    "start_time": "2023-04-12T12:57:01.411Z"
   },
   {
    "duration": 12,
    "start_time": "2023-04-12T12:58:46.899Z"
   },
   {
    "duration": 5093,
    "start_time": "2023-04-12T12:58:47.561Z"
   },
   {
    "duration": 4250,
    "start_time": "2023-04-12T12:58:54.623Z"
   },
   {
    "duration": 955,
    "start_time": "2023-04-12T13:00:30.063Z"
   },
   {
    "duration": 23650,
    "start_time": "2023-04-12T13:00:31.020Z"
   },
   {
    "duration": 79,
    "start_time": "2023-04-12T13:00:54.672Z"
   },
   {
    "duration": 1025,
    "start_time": "2023-04-12T13:00:54.754Z"
   },
   {
    "duration": 4476,
    "start_time": "2023-04-12T13:00:55.781Z"
   },
   {
    "duration": 1198,
    "start_time": "2023-04-12T13:01:00.259Z"
   },
   {
    "duration": 3,
    "start_time": "2023-04-12T13:01:01.459Z"
   },
   {
    "duration": 7129,
    "start_time": "2023-04-12T13:01:01.463Z"
   },
   {
    "duration": 13,
    "start_time": "2023-04-12T13:01:08.650Z"
   },
   {
    "duration": 10298,
    "start_time": "2023-04-12T13:01:08.666Z"
   },
   {
    "duration": 4999,
    "start_time": "2023-04-12T13:01:18.965Z"
   },
   {
    "duration": 424,
    "start_time": "2023-04-12T13:01:23.966Z"
   },
   {
    "duration": 986,
    "start_time": "2023-04-12T13:01:48.622Z"
   },
   {
    "duration": 23640,
    "start_time": "2023-04-12T13:01:49.610Z"
   },
   {
    "duration": 14,
    "start_time": "2023-04-12T13:02:13.252Z"
   },
   {
    "duration": 1116,
    "start_time": "2023-04-12T13:02:13.268Z"
   },
   {
    "duration": 4568,
    "start_time": "2023-04-12T13:02:14.386Z"
   },
   {
    "duration": 1134,
    "start_time": "2023-04-12T13:02:18.955Z"
   },
   {
    "duration": 59,
    "start_time": "2023-04-12T13:02:20.091Z"
   },
   {
    "duration": 7302,
    "start_time": "2023-04-12T13:02:20.152Z"
   },
   {
    "duration": 14,
    "start_time": "2023-04-12T13:02:27.456Z"
   },
   {
    "duration": 10190,
    "start_time": "2023-04-12T13:02:27.472Z"
   },
   {
    "duration": 4814,
    "start_time": "2023-04-12T13:02:37.664Z"
   },
   {
    "duration": 598,
    "start_time": "2023-04-12T13:02:42.480Z"
   },
   {
    "duration": 11,
    "start_time": "2023-04-12T13:04:11.660Z"
   },
   {
    "duration": 119,
    "start_time": "2023-04-12T13:04:14.196Z"
   },
   {
    "duration": 5,
    "start_time": "2023-04-12T13:04:30.624Z"
   },
   {
    "duration": 793,
    "start_time": "2023-04-12T13:04:30.789Z"
   },
   {
    "duration": 4,
    "start_time": "2023-04-12T13:04:31.584Z"
   },
   {
    "duration": 194,
    "start_time": "2023-04-12T13:04:31.589Z"
   },
   {
    "duration": 1895,
    "start_time": "2023-04-12T13:04:31.887Z"
   },
   {
    "duration": 372,
    "start_time": "2023-04-12T13:04:33.784Z"
   },
   {
    "duration": 3,
    "start_time": "2023-04-12T13:04:34.158Z"
   },
   {
    "duration": 3337,
    "start_time": "2023-04-12T13:04:34.452Z"
   },
   {
    "duration": 71,
    "start_time": "2023-04-12T13:04:37.792Z"
   },
   {
    "duration": 4730,
    "start_time": "2023-04-12T13:04:39.742Z"
   },
   {
    "duration": 3404,
    "start_time": "2023-04-12T13:05:26.261Z"
   },
   {
    "duration": 960,
    "start_time": "2023-04-12T13:08:08.830Z"
   },
   {
    "duration": 23286,
    "start_time": "2023-04-12T13:08:10.894Z"
   },
   {
    "duration": 71,
    "start_time": "2023-04-12T13:08:34.182Z"
   },
   {
    "duration": 1101,
    "start_time": "2023-04-12T13:08:34.255Z"
   },
   {
    "duration": 4298,
    "start_time": "2023-04-12T13:08:35.359Z"
   },
   {
    "duration": 1105,
    "start_time": "2023-04-12T13:08:39.658Z"
   },
   {
    "duration": 3,
    "start_time": "2023-04-12T13:08:40.765Z"
   },
   {
    "duration": 7185,
    "start_time": "2023-04-12T13:08:40.770Z"
   },
   {
    "duration": 11,
    "start_time": "2023-04-12T13:08:47.957Z"
   },
   {
    "duration": 2258,
    "start_time": "2023-04-12T13:08:47.970Z"
   },
   {
    "duration": 0,
    "start_time": "2023-04-12T13:08:50.231Z"
   },
   {
    "duration": 11,
    "start_time": "2023-04-12T13:09:19.688Z"
   },
   {
    "duration": 9380,
    "start_time": "2023-04-12T13:09:21.870Z"
   },
   {
    "duration": 5266,
    "start_time": "2023-04-12T13:09:33.111Z"
   },
   {
    "duration": 10,
    "start_time": "2023-04-12T13:10:08.744Z"
   },
   {
    "duration": 5,
    "start_time": "2023-04-12T13:12:39.320Z"
   },
   {
    "duration": 452,
    "start_time": "2023-04-12T13:12:43.121Z"
   },
   {
    "duration": 3,
    "start_time": "2023-04-12T13:12:43.575Z"
   },
   {
    "duration": 177,
    "start_time": "2023-04-12T13:12:43.580Z"
   },
   {
    "duration": 2014,
    "start_time": "2023-04-12T13:12:43.759Z"
   },
   {
    "duration": 419,
    "start_time": "2023-04-12T13:12:45.774Z"
   },
   {
    "duration": 3,
    "start_time": "2023-04-12T13:12:46.195Z"
   },
   {
    "duration": 3181,
    "start_time": "2023-04-12T13:12:46.199Z"
   },
   {
    "duration": 79,
    "start_time": "2023-04-12T13:12:49.382Z"
   },
   {
    "duration": 4821,
    "start_time": "2023-04-12T13:12:49.463Z"
   },
   {
    "duration": 10,
    "start_time": "2023-04-12T13:13:22.954Z"
   },
   {
    "duration": 4438,
    "start_time": "2023-04-12T13:13:24.816Z"
   },
   {
    "duration": 10,
    "start_time": "2023-04-12T13:13:45.427Z"
   },
   {
    "duration": 3794,
    "start_time": "2023-04-12T13:13:51.657Z"
   },
   {
    "duration": 10,
    "start_time": "2023-04-12T13:14:04.899Z"
   },
   {
    "duration": 3421,
    "start_time": "2023-04-12T13:14:06.937Z"
   },
   {
    "duration": 11,
    "start_time": "2023-04-12T13:14:28.525Z"
   },
   {
    "duration": 3559,
    "start_time": "2023-04-12T13:14:30.546Z"
   },
   {
    "duration": 2966,
    "start_time": "2023-04-12T13:14:34.106Z"
   },
   {
    "duration": 10,
    "start_time": "2023-04-12T13:15:02.259Z"
   },
   {
    "duration": 3402,
    "start_time": "2023-04-12T13:15:04.170Z"
   },
   {
    "duration": 2887,
    "start_time": "2023-04-12T13:15:07.574Z"
   },
   {
    "duration": 868,
    "start_time": "2023-04-12T13:17:08.501Z"
   },
   {
    "duration": 23499,
    "start_time": "2023-04-12T13:17:09.371Z"
   },
   {
    "duration": 85,
    "start_time": "2023-04-12T13:17:32.872Z"
   },
   {
    "duration": 1117,
    "start_time": "2023-04-12T13:17:32.959Z"
   },
   {
    "duration": 4994,
    "start_time": "2023-04-12T13:17:34.078Z"
   },
   {
    "duration": 1021,
    "start_time": "2023-04-12T13:17:39.073Z"
   },
   {
    "duration": 3,
    "start_time": "2023-04-12T13:17:40.096Z"
   },
   {
    "duration": 7666,
    "start_time": "2023-04-12T13:17:40.101Z"
   },
   {
    "duration": 11,
    "start_time": "2023-04-12T13:17:47.768Z"
   },
   {
    "duration": 10674,
    "start_time": "2023-04-12T13:17:47.781Z"
   },
   {
    "duration": 4815,
    "start_time": "2023-04-12T13:17:58.457Z"
   },
   {
    "duration": 407,
    "start_time": "2023-04-12T13:18:03.274Z"
   },
   {
    "duration": 891,
    "start_time": "2023-04-12T13:22:51.471Z"
   },
   {
    "duration": 22798,
    "start_time": "2023-04-12T13:22:52.364Z"
   },
   {
    "duration": 17,
    "start_time": "2023-04-12T13:23:15.165Z"
   },
   {
    "duration": 1097,
    "start_time": "2023-04-12T13:23:15.184Z"
   },
   {
    "duration": 4175,
    "start_time": "2023-04-12T13:23:16.283Z"
   },
   {
    "duration": 1099,
    "start_time": "2023-04-12T13:23:20.460Z"
   },
   {
    "duration": 3,
    "start_time": "2023-04-12T13:23:21.561Z"
   },
   {
    "duration": 6895,
    "start_time": "2023-04-12T13:23:21.566Z"
   },
   {
    "duration": 12,
    "start_time": "2023-04-12T13:23:28.464Z"
   },
   {
    "duration": 10494,
    "start_time": "2023-04-12T13:23:28.477Z"
   },
   {
    "duration": 5409,
    "start_time": "2023-04-12T13:23:38.973Z"
   },
   {
    "duration": 382,
    "start_time": "2023-04-12T13:23:44.383Z"
   },
   {
    "duration": 909,
    "start_time": "2023-04-12T13:24:30.917Z"
   },
   {
    "duration": 24040,
    "start_time": "2023-04-12T13:24:31.828Z"
   },
   {
    "duration": 80,
    "start_time": "2023-04-12T13:24:55.869Z"
   },
   {
    "duration": 1025,
    "start_time": "2023-04-12T13:24:55.951Z"
   },
   {
    "duration": 4599,
    "start_time": "2023-04-12T13:24:56.978Z"
   },
   {
    "duration": 1098,
    "start_time": "2023-04-12T13:25:01.578Z"
   },
   {
    "duration": 4,
    "start_time": "2023-04-12T13:25:02.679Z"
   },
   {
    "duration": 7471,
    "start_time": "2023-04-12T13:25:02.685Z"
   },
   {
    "duration": 10,
    "start_time": "2023-04-12T13:25:10.157Z"
   },
   {
    "duration": 10486,
    "start_time": "2023-04-12T13:25:10.169Z"
   },
   {
    "duration": 4728,
    "start_time": "2023-04-12T13:25:20.657Z"
   },
   {
    "duration": 488,
    "start_time": "2023-04-12T13:25:25.386Z"
   },
   {
    "duration": 732,
    "start_time": "2023-04-13T06:03:10.009Z"
   },
   {
    "duration": 246,
    "start_time": "2023-04-13T06:03:19.237Z"
   },
   {
    "duration": 16,
    "start_time": "2023-04-13T06:03:27.735Z"
   },
   {
    "duration": 123,
    "start_time": "2023-04-13T06:03:50.766Z"
   },
   {
    "duration": 6,
    "start_time": "2023-04-13T06:03:53.453Z"
   },
   {
    "duration": 6,
    "start_time": "2023-04-13T06:04:47.143Z"
   },
   {
    "duration": 3,
    "start_time": "2023-04-13T06:04:56.263Z"
   },
   {
    "duration": 3,
    "start_time": "2023-04-13T06:40:10.972Z"
   },
   {
    "duration": 4,
    "start_time": "2023-04-13T06:40:21.980Z"
   },
   {
    "duration": 71,
    "start_time": "2023-04-13T06:40:31.378Z"
   },
   {
    "duration": 4,
    "start_time": "2023-04-13T06:41:18.285Z"
   },
   {
    "duration": 7,
    "start_time": "2023-04-13T06:41:18.972Z"
   },
   {
    "duration": 4,
    "start_time": "2023-04-13T06:41:32.277Z"
   },
   {
    "duration": 7,
    "start_time": "2023-04-13T06:41:32.699Z"
   },
   {
    "duration": 3,
    "start_time": "2023-04-13T06:44:29.312Z"
   },
   {
    "duration": 198,
    "start_time": "2023-04-13T06:44:29.734Z"
   },
   {
    "duration": 10,
    "start_time": "2023-04-13T06:44:30.623Z"
   },
   {
    "duration": 12,
    "start_time": "2023-04-13T06:45:00.342Z"
   },
   {
    "duration": 13,
    "start_time": "2023-04-13T06:45:08.102Z"
   },
   {
    "duration": 30,
    "start_time": "2023-04-13T06:45:52.072Z"
   },
   {
    "duration": 24,
    "start_time": "2023-04-13T06:45:57.600Z"
   },
   {
    "duration": 8,
    "start_time": "2023-04-13T06:46:16.752Z"
   },
   {
    "duration": 14,
    "start_time": "2023-04-13T06:46:21.783Z"
   },
   {
    "duration": 12,
    "start_time": "2023-04-13T06:46:34.543Z"
   },
   {
    "duration": 12,
    "start_time": "2023-04-13T06:46:38.903Z"
   },
   {
    "duration": 3,
    "start_time": "2023-04-13T06:46:42.848Z"
   },
   {
    "duration": 214,
    "start_time": "2023-04-13T06:46:43.150Z"
   },
   {
    "duration": 12,
    "start_time": "2023-04-13T06:46:43.864Z"
   },
   {
    "duration": 9,
    "start_time": "2023-04-13T06:46:44.143Z"
   },
   {
    "duration": 10,
    "start_time": "2023-04-13T06:46:45.527Z"
   },
   {
    "duration": 5,
    "start_time": "2023-04-13T06:49:53.611Z"
   },
   {
    "duration": 5,
    "start_time": "2023-04-13T06:50:06.371Z"
   },
   {
    "duration": 3,
    "start_time": "2023-04-13T06:51:25.356Z"
   },
   {
    "duration": 254,
    "start_time": "2023-04-13T06:51:25.826Z"
   },
   {
    "duration": 8,
    "start_time": "2023-04-13T06:51:26.083Z"
   },
   {
    "duration": 6,
    "start_time": "2023-04-13T06:51:26.317Z"
   },
   {
    "duration": 10,
    "start_time": "2023-04-13T06:51:26.682Z"
   },
   {
    "duration": 3,
    "start_time": "2023-04-13T06:52:57.772Z"
   },
   {
    "duration": 199,
    "start_time": "2023-04-13T06:52:58.130Z"
   },
   {
    "duration": 8,
    "start_time": "2023-04-13T06:52:58.475Z"
   },
   {
    "duration": 359,
    "start_time": "2023-04-13T06:52:58.954Z"
   },
   {
    "duration": 1720,
    "start_time": "2023-04-13T06:52:59.555Z"
   },
   {
    "duration": 5,
    "start_time": "2023-04-13T06:53:03.939Z"
   },
   {
    "duration": 2498,
    "start_time": "2023-04-13T06:53:06.187Z"
   },
   {
    "duration": 1947,
    "start_time": "2023-04-13T06:53:15.787Z"
   },
   {
    "duration": 111,
    "start_time": "2023-04-13T06:53:32.197Z"
   },
   {
    "duration": 14,
    "start_time": "2023-04-13T06:53:36.883Z"
   },
   {
    "duration": 17,
    "start_time": "2023-04-13T06:53:46.756Z"
   },
   {
    "duration": 3,
    "start_time": "2023-04-13T07:06:41.453Z"
   },
   {
    "duration": 472,
    "start_time": "2023-04-13T07:06:41.667Z"
   },
   {
    "duration": 13,
    "start_time": "2023-04-13T07:06:42.141Z"
   },
   {
    "duration": 7,
    "start_time": "2023-04-13T07:06:42.226Z"
   },
   {
    "duration": 105,
    "start_time": "2023-04-13T07:06:42.458Z"
   },
   {
    "duration": 16,
    "start_time": "2023-04-13T07:06:42.684Z"
   },
   {
    "duration": 2,
    "start_time": "2023-04-13T07:06:43.091Z"
   },
   {
    "duration": 3,
    "start_time": "2023-04-13T07:10:11.138Z"
   },
   {
    "duration": 4651,
    "start_time": "2023-04-13T07:10:11.373Z"
   },
   {
    "duration": 14,
    "start_time": "2023-04-13T07:10:16.026Z"
   },
   {
    "duration": 5,
    "start_time": "2023-04-13T07:10:16.042Z"
   },
   {
    "duration": 139,
    "start_time": "2023-04-13T07:10:16.049Z"
   },
   {
    "duration": 16,
    "start_time": "2023-04-13T07:10:16.190Z"
   },
   {
    "duration": 13,
    "start_time": "2023-04-13T07:10:16.208Z"
   },
   {
    "duration": 3,
    "start_time": "2023-04-13T07:10:54.494Z"
   },
   {
    "duration": 1676,
    "start_time": "2023-04-13T07:10:54.814Z"
   },
   {
    "duration": 13,
    "start_time": "2023-04-13T07:10:56.492Z"
   },
   {
    "duration": 6,
    "start_time": "2023-04-13T07:10:56.507Z"
   },
   {
    "duration": 129,
    "start_time": "2023-04-13T07:10:56.515Z"
   },
   {
    "duration": 3,
    "start_time": "2023-04-13T07:11:15.215Z"
   },
   {
    "duration": 1777,
    "start_time": "2023-04-13T07:11:15.445Z"
   },
   {
    "duration": 12,
    "start_time": "2023-04-13T07:11:17.224Z"
   },
   {
    "duration": 5,
    "start_time": "2023-04-13T07:11:17.430Z"
   },
   {
    "duration": 104,
    "start_time": "2023-04-13T07:11:17.789Z"
   },
   {
    "duration": 27,
    "start_time": "2023-04-13T07:11:18.263Z"
   },
   {
    "duration": 2,
    "start_time": "2023-04-13T07:11:29.776Z"
   },
   {
    "duration": 622,
    "start_time": "2023-04-13T07:11:30.085Z"
   },
   {
    "duration": 10,
    "start_time": "2023-04-13T07:11:30.710Z"
   },
   {
    "duration": 31,
    "start_time": "2023-04-13T07:11:30.722Z"
   },
   {
    "duration": 123,
    "start_time": "2023-04-13T07:11:31.094Z"
   },
   {
    "duration": 27,
    "start_time": "2023-04-13T07:11:31.324Z"
   },
   {
    "duration": 2,
    "start_time": "2023-04-13T07:11:31.926Z"
   },
   {
    "duration": 2,
    "start_time": "2023-04-13T07:14:31.096Z"
   },
   {
    "duration": 533,
    "start_time": "2023-04-13T07:14:32.135Z"
   },
   {
    "duration": 14,
    "start_time": "2023-04-13T07:14:32.670Z"
   },
   {
    "duration": 6,
    "start_time": "2023-04-13T07:14:33.231Z"
   },
   {
    "duration": 111,
    "start_time": "2023-04-13T07:14:33.697Z"
   },
   {
    "duration": 23,
    "start_time": "2023-04-13T07:14:34.032Z"
   },
   {
    "duration": 3,
    "start_time": "2023-04-13T07:14:34.520Z"
   },
   {
    "duration": 3,
    "start_time": "2023-04-13T09:04:16.875Z"
   },
   {
    "duration": 1062,
    "start_time": "2023-04-13T09:04:17.170Z"
   },
   {
    "duration": 20,
    "start_time": "2023-04-13T09:04:18.235Z"
   },
   {
    "duration": 23,
    "start_time": "2023-04-13T09:04:18.257Z"
   },
   {
    "duration": 193,
    "start_time": "2023-04-13T09:04:18.282Z"
   },
   {
    "duration": 37,
    "start_time": "2023-04-13T09:04:18.477Z"
   },
   {
    "duration": 14,
    "start_time": "2023-04-13T09:04:18.800Z"
   },
   {
    "duration": 10,
    "start_time": "2023-04-13T09:04:19.129Z"
   },
   {
    "duration": 3,
    "start_time": "2023-04-13T09:04:19.458Z"
   },
   {
    "duration": 7,
    "start_time": "2023-04-13T09:04:20.167Z"
   },
   {
    "duration": 3,
    "start_time": "2023-04-13T09:04:33.844Z"
   },
   {
    "duration": 15,
    "start_time": "2023-04-13T09:04:34.215Z"
   },
   {
    "duration": 1064,
    "start_time": "2023-04-13T09:05:16.275Z"
   },
   {
    "duration": 574,
    "start_time": "2023-04-13T09:05:17.341Z"
   },
   {
    "duration": 13,
    "start_time": "2023-04-13T09:05:17.917Z"
   },
   {
    "duration": 9,
    "start_time": "2023-04-13T09:05:17.932Z"
   },
   {
    "duration": 154,
    "start_time": "2023-04-13T09:05:17.942Z"
   },
   {
    "duration": 20,
    "start_time": "2023-04-13T09:05:18.102Z"
   },
   {
    "duration": 13,
    "start_time": "2023-04-13T09:05:18.125Z"
   },
   {
    "duration": 61,
    "start_time": "2023-04-13T09:05:18.285Z"
   },
   {
    "duration": 3,
    "start_time": "2023-04-13T09:08:15.028Z"
   },
   {
    "duration": 1403,
    "start_time": "2023-04-13T09:08:15.323Z"
   },
   {
    "duration": 12,
    "start_time": "2023-04-13T09:08:16.728Z"
   },
   {
    "duration": 8,
    "start_time": "2023-04-13T09:08:16.742Z"
   },
   {
    "duration": 137,
    "start_time": "2023-04-13T09:08:16.752Z"
   },
   {
    "duration": 24,
    "start_time": "2023-04-13T09:08:16.891Z"
   },
   {
    "duration": 3,
    "start_time": "2023-04-13T09:08:16.917Z"
   },
   {
    "duration": 28,
    "start_time": "2023-04-13T09:08:18.072Z"
   },
   {
    "duration": 13,
    "start_time": "2023-04-13T09:08:39.406Z"
   },
   {
    "duration": 13,
    "start_time": "2023-04-13T09:08:46.957Z"
   },
   {
    "duration": 7,
    "start_time": "2023-04-13T09:08:56.759Z"
   },
   {
    "duration": 8,
    "start_time": "2023-04-13T09:09:24.231Z"
   },
   {
    "duration": 9,
    "start_time": "2023-04-13T09:09:27.712Z"
   },
   {
    "duration": 4,
    "start_time": "2023-04-13T09:09:32.070Z"
   },
   {
    "duration": 18,
    "start_time": "2023-04-13T09:09:56.647Z"
   },
   {
    "duration": 4,
    "start_time": "2023-04-13T09:09:59.048Z"
   },
   {
    "duration": 21224,
    "start_time": "2023-04-13T09:09:59.710Z"
   },
   {
    "duration": 3,
    "start_time": "2023-04-13T09:36:14.662Z"
   },
   {
    "duration": 133,
    "start_time": "2023-04-13T09:38:12.600Z"
   },
   {
    "duration": 84,
    "start_time": "2023-04-13T09:38:33.892Z"
   },
   {
    "duration": 5,
    "start_time": "2023-04-13T09:39:04.373Z"
   },
   {
    "duration": 10,
    "start_time": "2023-04-13T09:39:18.408Z"
   },
   {
    "duration": 8,
    "start_time": "2023-04-13T09:39:28.590Z"
   },
   {
    "duration": 14,
    "start_time": "2023-04-13T09:39:45.039Z"
   },
   {
    "duration": 10,
    "start_time": "2023-04-13T09:40:00.613Z"
   },
   {
    "duration": 6,
    "start_time": "2023-04-13T09:40:57.874Z"
   },
   {
    "duration": 4281,
    "start_time": "2023-04-13T09:40:58.470Z"
   },
   {
    "duration": 3,
    "start_time": "2023-04-13T09:42:48.339Z"
   },
   {
    "duration": 9457,
    "start_time": "2023-04-13T09:42:48.910Z"
   },
   {
    "duration": 5,
    "start_time": "2023-04-13T09:43:15.075Z"
   },
   {
    "duration": 17,
    "start_time": "2023-04-13T09:43:26.805Z"
   },
   {
    "duration": 8629,
    "start_time": "2023-04-13T09:43:27.442Z"
   },
   {
    "duration": 11,
    "start_time": "2023-04-13T09:45:29.504Z"
   },
   {
    "duration": 7,
    "start_time": "2023-04-13T09:45:35.782Z"
   },
   {
    "duration": 9455,
    "start_time": "2023-04-13T09:45:36.596Z"
   },
   {
    "duration": 9,
    "start_time": "2023-04-13T09:47:21.309Z"
   },
   {
    "duration": 2839,
    "start_time": "2023-04-13T09:47:22.489Z"
   },
   {
    "duration": 18,
    "start_time": "2023-04-13T09:47:42.706Z"
   },
   {
    "duration": 4,
    "start_time": "2023-04-13T09:48:26.673Z"
   },
   {
    "duration": 7666,
    "start_time": "2023-04-13T09:48:27.341Z"
   },
   {
    "duration": 18,
    "start_time": "2023-04-13T09:50:03.591Z"
   },
   {
    "duration": 24,
    "start_time": "2023-04-13T09:50:04.011Z"
   },
   {
    "duration": 12,
    "start_time": "2023-04-13T09:50:55.898Z"
   },
   {
    "duration": 20,
    "start_time": "2023-04-13T09:50:56.218Z"
   },
   {
    "duration": 8,
    "start_time": "2023-04-13T09:50:56.485Z"
   },
   {
    "duration": 7124,
    "start_time": "2023-04-13T09:50:56.758Z"
   },
   {
    "duration": 141,
    "start_time": "2023-04-13T09:51:03.884Z"
   },
   {
    "duration": 363,
    "start_time": "2023-04-13T09:51:13.282Z"
   },
   {
    "duration": 0,
    "start_time": "2023-04-13T09:51:13.647Z"
   },
   {
    "duration": 6,
    "start_time": "2023-04-13T09:51:22.543Z"
   },
   {
    "duration": 15623,
    "start_time": "2023-04-13T09:51:23.239Z"
   },
   {
    "duration": 8,
    "start_time": "2023-04-13T09:51:38.864Z"
   },
   {
    "duration": 3,
    "start_time": "2023-04-13T09:53:13.258Z"
   },
   {
    "duration": 13101,
    "start_time": "2023-04-13T09:53:14.153Z"
   },
   {
    "duration": 7,
    "start_time": "2023-04-13T09:53:27.256Z"
   },
   {
    "duration": 8,
    "start_time": "2023-04-13T10:14:23.097Z"
   },
   {
    "duration": 13068,
    "start_time": "2023-04-13T10:14:26.843Z"
   },
   {
    "duration": 7,
    "start_time": "2023-04-13T10:14:39.913Z"
   },
   {
    "duration": 20,
    "start_time": "2023-04-13T10:58:59.891Z"
   },
   {
    "duration": 16,
    "start_time": "2023-04-13T10:59:19.559Z"
   },
   {
    "duration": 15,
    "start_time": "2023-04-13T11:15:54.659Z"
   },
   {
    "duration": 34,
    "start_time": "2023-04-13T11:19:11.155Z"
   },
   {
    "duration": 25,
    "start_time": "2023-04-13T11:19:24.224Z"
   },
   {
    "duration": 16,
    "start_time": "2023-04-13T11:19:42.503Z"
   },
   {
    "duration": 15,
    "start_time": "2023-04-13T11:19:47.173Z"
   },
   {
    "duration": 12,
    "start_time": "2023-04-13T11:19:50.966Z"
   },
   {
    "duration": 38,
    "start_time": "2023-04-13T11:20:17.569Z"
   },
   {
    "duration": 29,
    "start_time": "2023-04-13T11:20:26.704Z"
   },
   {
    "duration": 27,
    "start_time": "2023-04-13T11:20:33.674Z"
   },
   {
    "duration": 68,
    "start_time": "2023-04-13T11:20:52.208Z"
   },
   {
    "duration": 8,
    "start_time": "2023-04-13T11:47:12.612Z"
   },
   {
    "duration": 3,
    "start_time": "2023-04-13T11:51:12.264Z"
   },
   {
    "duration": 13,
    "start_time": "2023-04-13T11:51:26.973Z"
   },
   {
    "duration": 58,
    "start_time": "2023-04-13T11:51:35.639Z"
   },
   {
    "duration": 3,
    "start_time": "2023-04-13T11:51:35.924Z"
   },
   {
    "duration": 11,
    "start_time": "2023-04-13T11:51:36.412Z"
   },
   {
    "duration": 3508,
    "start_time": "2023-04-13T11:52:02.026Z"
   },
   {
    "duration": 5164,
    "start_time": "2023-04-13T11:52:44.446Z"
   },
   {
    "duration": 7,
    "start_time": "2023-04-13T11:54:49.897Z"
   },
   {
    "duration": 928,
    "start_time": "2023-04-13T11:54:50.300Z"
   },
   {
    "duration": 8,
    "start_time": "2023-04-13T11:54:51.230Z"
   },
   {
    "duration": 15,
    "start_time": "2023-04-13T11:54:51.240Z"
   },
   {
    "duration": 122,
    "start_time": "2023-04-13T11:54:51.258Z"
   },
   {
    "duration": 28,
    "start_time": "2023-04-13T11:54:51.382Z"
   },
   {
    "duration": 3,
    "start_time": "2023-04-13T11:54:51.412Z"
   },
   {
    "duration": 22,
    "start_time": "2023-04-13T11:54:51.417Z"
   },
   {
    "duration": 30,
    "start_time": "2023-04-13T11:54:51.440Z"
   },
   {
    "duration": 2,
    "start_time": "2023-04-13T11:54:51.472Z"
   },
   {
    "duration": 7025,
    "start_time": "2023-04-13T11:54:51.477Z"
   },
   {
    "duration": 5,
    "start_time": "2023-04-13T11:54:58.504Z"
   },
   {
    "duration": 9,
    "start_time": "2023-04-13T11:54:58.511Z"
   },
   {
    "duration": 13741,
    "start_time": "2023-04-13T11:54:58.522Z"
   },
   {
    "duration": 6,
    "start_time": "2023-04-13T11:55:12.265Z"
   },
   {
    "duration": 36,
    "start_time": "2023-04-13T11:55:12.273Z"
   },
   {
    "duration": 12849,
    "start_time": "2023-04-13T11:55:12.311Z"
   },
   {
    "duration": 5,
    "start_time": "2023-04-13T11:55:25.161Z"
   },
   {
    "duration": 64,
    "start_time": "2023-04-13T11:55:25.169Z"
   },
   {
    "duration": 9,
    "start_time": "2023-04-13T11:55:25.235Z"
   },
   {
    "duration": 14,
    "start_time": "2023-04-13T11:55:25.246Z"
   },
   {
    "duration": 0,
    "start_time": "2023-04-13T11:55:25.261Z"
   },
   {
    "duration": 3,
    "start_time": "2023-04-13T11:56:03.552Z"
   },
   {
    "duration": 14234,
    "start_time": "2023-04-13T11:56:03.999Z"
   },
   {
    "duration": 10,
    "start_time": "2023-04-13T11:56:28.522Z"
   },
   {
    "duration": 239,
    "start_time": "2023-04-13T11:58:27.483Z"
   },
   {
    "duration": 3,
    "start_time": "2023-04-13T11:59:04.556Z"
   },
   {
    "duration": 874,
    "start_time": "2023-04-13T11:59:04.737Z"
   },
   {
    "duration": 9,
    "start_time": "2023-04-13T11:59:05.612Z"
   },
   {
    "duration": 6,
    "start_time": "2023-04-13T11:59:05.741Z"
   },
   {
    "duration": 112,
    "start_time": "2023-04-13T11:59:05.961Z"
   },
   {
    "duration": 19,
    "start_time": "2023-04-13T11:59:06.468Z"
   },
   {
    "duration": 3,
    "start_time": "2023-04-13T11:59:06.498Z"
   },
   {
    "duration": 7,
    "start_time": "2023-04-13T11:59:06.529Z"
   },
   {
    "duration": 26,
    "start_time": "2023-04-13T11:59:06.562Z"
   },
   {
    "duration": 21,
    "start_time": "2023-04-13T11:59:06.596Z"
   },
   {
    "duration": 6980,
    "start_time": "2023-04-13T11:59:06.628Z"
   },
   {
    "duration": 105,
    "start_time": "2023-04-13T11:59:13.609Z"
   },
   {
    "duration": 7,
    "start_time": "2023-04-13T11:59:13.715Z"
   },
   {
    "duration": 23,
    "start_time": "2023-04-13T11:59:13.724Z"
   },
   {
    "duration": 12410,
    "start_time": "2023-04-13T11:59:13.749Z"
   },
   {
    "duration": 251,
    "start_time": "2023-04-13T11:59:26.161Z"
   },
   {
    "duration": 6,
    "start_time": "2023-04-13T11:59:26.414Z"
   },
   {
    "duration": 4,
    "start_time": "2023-04-13T11:59:26.422Z"
   },
   {
    "duration": 11448,
    "start_time": "2023-04-13T11:59:26.427Z"
   },
   {
    "duration": 155,
    "start_time": "2023-04-13T11:59:37.877Z"
   },
   {
    "duration": 7,
    "start_time": "2023-04-13T11:59:38.033Z"
   },
   {
    "duration": 66,
    "start_time": "2023-04-13T11:59:38.041Z"
   },
   {
    "duration": 14,
    "start_time": "2023-04-13T11:59:38.108Z"
   },
   {
    "duration": 12118,
    "start_time": "2023-04-13T11:59:38.123Z"
   },
   {
    "duration": 223,
    "start_time": "2023-04-13T11:59:50.244Z"
   },
   {
    "duration": 6,
    "start_time": "2023-04-13T11:59:50.468Z"
   },
   {
    "duration": 3,
    "start_time": "2023-04-13T12:08:28.256Z"
   },
   {
    "duration": 8,
    "start_time": "2023-04-13T12:11:37.027Z"
   },
   {
    "duration": 8,
    "start_time": "2023-04-13T12:12:34.738Z"
   },
   {
    "duration": 2,
    "start_time": "2023-04-13T12:12:39.322Z"
   },
   {
    "duration": 11,
    "start_time": "2023-04-13T12:12:39.802Z"
   },
   {
    "duration": 10,
    "start_time": "2023-04-13T12:12:46.777Z"
   },
   {
    "duration": 3,
    "start_time": "2023-04-13T12:12:50.353Z"
   },
   {
    "duration": 3,
    "start_time": "2023-04-13T12:13:16.037Z"
   },
   {
    "duration": 3,
    "start_time": "2023-04-13T12:13:16.361Z"
   },
   {
    "duration": 15,
    "start_time": "2023-04-13T12:13:16.722Z"
   },
   {
    "duration": 4,
    "start_time": "2023-04-13T12:15:34.499Z"
   },
   {
    "duration": 4,
    "start_time": "2023-04-13T12:15:59.214Z"
   },
   {
    "duration": 3,
    "start_time": "2023-04-13T12:15:59.715Z"
   },
   {
    "duration": 22,
    "start_time": "2023-04-13T12:16:00.622Z"
   },
   {
    "duration": 43,
    "start_time": "2023-04-13T12:23:03.129Z"
   },
   {
    "duration": 4,
    "start_time": "2023-04-13T12:23:26.905Z"
   },
   {
    "duration": 4,
    "start_time": "2023-04-13T12:23:27.292Z"
   },
   {
    "duration": 35,
    "start_time": "2023-04-13T12:23:27.720Z"
   },
   {
    "duration": 3,
    "start_time": "2023-04-13T12:24:54.057Z"
   },
   {
    "duration": 3,
    "start_time": "2023-04-13T12:24:54.496Z"
   },
   {
    "duration": 52,
    "start_time": "2023-04-13T12:24:54.865Z"
   },
   {
    "duration": 3,
    "start_time": "2023-04-13T12:25:07.185Z"
   },
   {
    "duration": 3,
    "start_time": "2023-04-13T12:25:07.665Z"
   },
   {
    "duration": 38,
    "start_time": "2023-04-13T12:25:08.088Z"
   },
   {
    "duration": 3,
    "start_time": "2023-04-13T12:25:38.820Z"
   },
   {
    "duration": 4,
    "start_time": "2023-04-13T12:25:39.239Z"
   },
   {
    "duration": 38,
    "start_time": "2023-04-13T12:25:39.920Z"
   },
   {
    "duration": 4,
    "start_time": "2023-04-13T12:26:06.145Z"
   },
   {
    "duration": 2358,
    "start_time": "2023-04-13T12:26:06.648Z"
   },
   {
    "duration": 9,
    "start_time": "2023-04-13T12:26:09.008Z"
   },
   {
    "duration": 12,
    "start_time": "2023-04-13T12:26:09.020Z"
   },
   {
    "duration": 154,
    "start_time": "2023-04-13T12:26:09.035Z"
   },
   {
    "duration": 22,
    "start_time": "2023-04-13T12:26:09.191Z"
   },
   {
    "duration": 6,
    "start_time": "2023-04-13T12:26:09.215Z"
   },
   {
    "duration": 13,
    "start_time": "2023-04-13T12:26:09.223Z"
   },
   {
    "duration": 25,
    "start_time": "2023-04-13T12:26:09.238Z"
   },
   {
    "duration": 3,
    "start_time": "2023-04-13T12:26:09.265Z"
   },
   {
    "duration": 14473,
    "start_time": "2023-04-13T12:26:09.285Z"
   },
   {
    "duration": 109,
    "start_time": "2023-04-13T12:26:23.760Z"
   },
   {
    "duration": 14,
    "start_time": "2023-04-13T12:26:23.870Z"
   },
   {
    "duration": 23,
    "start_time": "2023-04-13T12:26:23.886Z"
   },
   {
    "duration": 19276,
    "start_time": "2023-04-13T12:26:23.911Z"
   },
   {
    "duration": 278,
    "start_time": "2023-04-13T12:26:43.189Z"
   },
   {
    "duration": 7,
    "start_time": "2023-04-13T12:26:43.469Z"
   },
   {
    "duration": 16,
    "start_time": "2023-04-13T12:26:43.484Z"
   },
   {
    "duration": 13042,
    "start_time": "2023-04-13T12:26:43.503Z"
   },
   {
    "duration": 160,
    "start_time": "2023-04-13T12:26:56.547Z"
   },
   {
    "duration": 7,
    "start_time": "2023-04-13T12:26:56.709Z"
   },
   {
    "duration": 4,
    "start_time": "2023-04-13T12:26:56.717Z"
   },
   {
    "duration": 5,
    "start_time": "2023-04-13T12:26:56.723Z"
   },
   {
    "duration": 12,
    "start_time": "2023-04-13T12:26:56.729Z"
   },
   {
    "duration": 8,
    "start_time": "2023-04-13T12:26:56.743Z"
   },
   {
    "duration": 8,
    "start_time": "2023-04-13T12:26:56.752Z"
   },
   {
    "duration": 19,
    "start_time": "2023-04-13T12:26:56.762Z"
   },
   {
    "duration": 17,
    "start_time": "2023-04-13T12:26:56.782Z"
   },
   {
    "duration": 42,
    "start_time": "2023-04-13T12:26:56.802Z"
   },
   {
    "duration": 0,
    "start_time": "2023-04-13T12:26:56.846Z"
   },
   {
    "duration": 3,
    "start_time": "2023-04-13T12:27:52.932Z"
   },
   {
    "duration": 11258,
    "start_time": "2023-04-13T12:27:53.282Z"
   },
   {
    "duration": 3,
    "start_time": "2023-04-13T12:28:04.542Z"
   },
   {
    "duration": 6,
    "start_time": "2023-04-13T12:28:04.546Z"
   },
   {
    "duration": 3,
    "start_time": "2023-04-13T12:28:16.739Z"
   },
   {
    "duration": 2,
    "start_time": "2023-04-13T12:28:17.076Z"
   },
   {
    "duration": 2,
    "start_time": "2023-04-13T12:28:17.669Z"
   },
   {
    "duration": 46,
    "start_time": "2023-04-13T12:28:18.107Z"
   },
   {
    "duration": 3,
    "start_time": "2023-04-13T12:29:29.135Z"
   },
   {
    "duration": 3,
    "start_time": "2023-04-13T12:29:29.748Z"
   },
   {
    "duration": 2,
    "start_time": "2023-04-13T12:29:30.156Z"
   },
   {
    "duration": 10,
    "start_time": "2023-04-13T12:29:30.749Z"
   },
   {
    "duration": 21,
    "start_time": "2023-04-13T12:29:41.599Z"
   },
   {
    "duration": 4,
    "start_time": "2023-04-13T12:29:46.620Z"
   },
   {
    "duration": 3,
    "start_time": "2023-04-13T12:29:58.094Z"
   },
   {
    "duration": 2,
    "start_time": "2023-04-13T12:29:59.053Z"
   },
   {
    "duration": 3,
    "start_time": "2023-04-13T12:30:00.318Z"
   },
   {
    "duration": 12,
    "start_time": "2023-04-13T12:30:00.926Z"
   },
   {
    "duration": 1516,
    "start_time": "2023-04-13T12:30:18.778Z"
   },
   {
    "duration": 111,
    "start_time": "2023-04-13T12:30:20.295Z"
   },
   {
    "duration": 0,
    "start_time": "2023-04-13T12:30:20.409Z"
   },
   {
    "duration": 0,
    "start_time": "2023-04-13T12:30:20.410Z"
   },
   {
    "duration": 0,
    "start_time": "2023-04-13T12:30:20.413Z"
   },
   {
    "duration": 0,
    "start_time": "2023-04-13T12:30:20.415Z"
   },
   {
    "duration": 0,
    "start_time": "2023-04-13T12:30:20.416Z"
   },
   {
    "duration": 0,
    "start_time": "2023-04-13T12:30:20.416Z"
   },
   {
    "duration": 0,
    "start_time": "2023-04-13T12:30:20.419Z"
   },
   {
    "duration": 0,
    "start_time": "2023-04-13T12:30:20.420Z"
   },
   {
    "duration": 0,
    "start_time": "2023-04-13T12:30:20.421Z"
   },
   {
    "duration": 0,
    "start_time": "2023-04-13T12:30:20.422Z"
   },
   {
    "duration": 0,
    "start_time": "2023-04-13T12:30:20.422Z"
   },
   {
    "duration": 0,
    "start_time": "2023-04-13T12:30:20.423Z"
   },
   {
    "duration": 0,
    "start_time": "2023-04-13T12:30:20.425Z"
   },
   {
    "duration": 0,
    "start_time": "2023-04-13T12:30:20.426Z"
   },
   {
    "duration": 0,
    "start_time": "2023-04-13T12:30:20.428Z"
   },
   {
    "duration": 0,
    "start_time": "2023-04-13T12:30:20.429Z"
   },
   {
    "duration": 0,
    "start_time": "2023-04-13T12:30:20.430Z"
   },
   {
    "duration": 0,
    "start_time": "2023-04-13T12:30:20.431Z"
   },
   {
    "duration": 0,
    "start_time": "2023-04-13T12:30:20.432Z"
   },
   {
    "duration": 0,
    "start_time": "2023-04-13T12:30:20.433Z"
   },
   {
    "duration": 0,
    "start_time": "2023-04-13T12:30:20.435Z"
   },
   {
    "duration": 0,
    "start_time": "2023-04-13T12:30:20.484Z"
   },
   {
    "duration": 0,
    "start_time": "2023-04-13T12:30:20.485Z"
   },
   {
    "duration": 0,
    "start_time": "2023-04-13T12:30:20.486Z"
   },
   {
    "duration": 0,
    "start_time": "2023-04-13T12:30:20.487Z"
   },
   {
    "duration": 0,
    "start_time": "2023-04-13T12:30:20.489Z"
   },
   {
    "duration": 0,
    "start_time": "2023-04-13T12:30:20.490Z"
   },
   {
    "duration": 0,
    "start_time": "2023-04-13T12:30:20.491Z"
   },
   {
    "duration": 0,
    "start_time": "2023-04-13T12:30:20.492Z"
   },
   {
    "duration": 0,
    "start_time": "2023-04-13T12:30:20.494Z"
   },
   {
    "duration": 0,
    "start_time": "2023-04-13T12:30:20.495Z"
   },
   {
    "duration": 0,
    "start_time": "2023-04-13T12:30:20.496Z"
   },
   {
    "duration": 0,
    "start_time": "2023-04-13T12:30:20.497Z"
   },
   {
    "duration": 4,
    "start_time": "2023-04-13T12:30:41.141Z"
   },
   {
    "duration": 9,
    "start_time": "2023-04-13T12:30:41.678Z"
   },
   {
    "duration": 3,
    "start_time": "2023-04-13T12:30:56.703Z"
   },
   {
    "duration": 9,
    "start_time": "2023-04-13T12:30:57.039Z"
   },
   {
    "duration": 6,
    "start_time": "2023-04-13T12:31:31.017Z"
   },
   {
    "duration": 628,
    "start_time": "2023-04-13T12:31:31.463Z"
   },
   {
    "duration": 14,
    "start_time": "2023-04-13T12:31:32.984Z"
   },
   {
    "duration": 7,
    "start_time": "2023-04-13T12:31:33.239Z"
   },
   {
    "duration": 108,
    "start_time": "2023-04-13T12:31:33.487Z"
   },
   {
    "duration": 23,
    "start_time": "2023-04-13T12:31:33.823Z"
   },
   {
    "duration": 3,
    "start_time": "2023-04-13T12:31:34.393Z"
   },
   {
    "duration": 8,
    "start_time": "2023-04-13T12:31:34.888Z"
   },
   {
    "duration": 21,
    "start_time": "2023-04-13T12:31:34.917Z"
   },
   {
    "duration": 3,
    "start_time": "2023-04-13T12:31:34.950Z"
   },
   {
    "duration": 7932,
    "start_time": "2023-04-13T12:31:34.982Z"
   },
   {
    "duration": 109,
    "start_time": "2023-04-13T12:31:42.917Z"
   },
   {
    "duration": 7,
    "start_time": "2023-04-13T12:31:43.028Z"
   },
   {
    "duration": 6,
    "start_time": "2023-04-13T12:31:43.037Z"
   },
   {
    "duration": 13471,
    "start_time": "2023-04-13T12:31:43.045Z"
   },
   {
    "duration": 268,
    "start_time": "2023-04-13T12:31:56.517Z"
   },
   {
    "duration": 7,
    "start_time": "2023-04-13T12:31:56.786Z"
   },
   {
    "duration": 13,
    "start_time": "2023-04-13T12:31:56.794Z"
   },
   {
    "duration": 12308,
    "start_time": "2023-04-13T12:31:56.809Z"
   },
   {
    "duration": 171,
    "start_time": "2023-04-13T12:32:09.120Z"
   },
   {
    "duration": 8,
    "start_time": "2023-04-13T12:32:09.293Z"
   },
   {
    "duration": 20,
    "start_time": "2023-04-13T12:32:09.303Z"
   },
   {
    "duration": 10,
    "start_time": "2023-04-13T12:32:09.325Z"
   },
   {
    "duration": 13,
    "start_time": "2023-04-13T12:32:09.337Z"
   },
   {
    "duration": 9,
    "start_time": "2023-04-13T12:32:09.352Z"
   },
   {
    "duration": 6,
    "start_time": "2023-04-13T12:32:09.363Z"
   },
   {
    "duration": 7,
    "start_time": "2023-04-13T12:32:09.371Z"
   },
   {
    "duration": 16,
    "start_time": "2023-04-13T12:32:09.380Z"
   },
   {
    "duration": 23,
    "start_time": "2023-04-13T12:32:09.398Z"
   },
   {
    "duration": 27,
    "start_time": "2023-04-13T12:32:09.423Z"
   },
   {
    "duration": 14965,
    "start_time": "2023-04-13T12:32:39.667Z"
   },
   {
    "duration": 8,
    "start_time": "2023-04-13T12:32:54.633Z"
   },
   {
    "duration": 2,
    "start_time": "2023-04-13T12:33:08.538Z"
   },
   {
    "duration": 5,
    "start_time": "2023-04-13T12:33:08.542Z"
   },
   {
    "duration": 6,
    "start_time": "2023-04-13T12:33:08.549Z"
   },
   {
    "duration": 3,
    "start_time": "2023-04-13T12:34:23.842Z"
   },
   {
    "duration": 8,
    "start_time": "2023-04-13T12:34:23.846Z"
   },
   {
    "duration": 11,
    "start_time": "2023-04-13T12:34:23.855Z"
   },
   {
    "duration": 1375,
    "start_time": "2023-04-13T12:51:31.564Z"
   },
   {
    "duration": 731,
    "start_time": "2023-04-13T12:51:32.942Z"
   },
   {
    "duration": 20,
    "start_time": "2023-04-13T12:51:33.675Z"
   },
   {
    "duration": 11,
    "start_time": "2023-04-13T12:51:33.697Z"
   },
   {
    "duration": 124,
    "start_time": "2023-04-13T12:51:33.711Z"
   },
   {
    "duration": 23,
    "start_time": "2023-04-13T12:51:33.837Z"
   },
   {
    "duration": 4,
    "start_time": "2023-04-13T12:51:33.862Z"
   },
   {
    "duration": 28,
    "start_time": "2023-04-13T12:51:33.867Z"
   },
   {
    "duration": 18,
    "start_time": "2023-04-13T12:51:33.897Z"
   },
   {
    "duration": 3,
    "start_time": "2023-04-13T12:51:33.917Z"
   },
   {
    "duration": 7199,
    "start_time": "2023-04-13T12:51:33.922Z"
   },
   {
    "duration": 120,
    "start_time": "2023-04-13T12:51:41.123Z"
   },
   {
    "duration": 9,
    "start_time": "2023-04-13T12:51:41.244Z"
   },
   {
    "duration": 19,
    "start_time": "2023-04-13T12:51:41.256Z"
   },
   {
    "duration": 14332,
    "start_time": "2023-04-13T12:51:41.277Z"
   },
   {
    "duration": 234,
    "start_time": "2023-04-13T12:51:55.611Z"
   },
   {
    "duration": 7,
    "start_time": "2023-04-13T12:51:55.847Z"
   },
   {
    "duration": 10,
    "start_time": "2023-04-13T12:51:55.856Z"
   },
   {
    "duration": 12843,
    "start_time": "2023-04-13T12:51:55.868Z"
   },
   {
    "duration": 156,
    "start_time": "2023-04-13T12:52:08.713Z"
   },
   {
    "duration": 12,
    "start_time": "2023-04-13T12:52:08.871Z"
   },
   {
    "duration": 11,
    "start_time": "2023-04-13T12:52:08.884Z"
   },
   {
    "duration": 44,
    "start_time": "2023-04-13T12:52:08.896Z"
   },
   {
    "duration": 18,
    "start_time": "2023-04-13T12:52:08.941Z"
   },
   {
    "duration": 14,
    "start_time": "2023-04-13T12:52:08.961Z"
   },
   {
    "duration": 14,
    "start_time": "2023-04-13T12:52:08.976Z"
   },
   {
    "duration": 35,
    "start_time": "2023-04-13T12:52:08.992Z"
   },
   {
    "duration": 27,
    "start_time": "2023-04-13T12:52:09.028Z"
   },
   {
    "duration": 21,
    "start_time": "2023-04-13T12:52:09.057Z"
   },
   {
    "duration": 1854,
    "start_time": "2023-04-13T13:11:06.972Z"
   },
   {
    "duration": 3058,
    "start_time": "2023-04-13T13:11:08.828Z"
   },
   {
    "duration": 14,
    "start_time": "2023-04-13T13:11:11.887Z"
   },
   {
    "duration": 21,
    "start_time": "2023-04-13T13:11:11.903Z"
   },
   {
    "duration": 121,
    "start_time": "2023-04-13T13:11:11.926Z"
   },
   {
    "duration": 22,
    "start_time": "2023-04-13T13:11:12.049Z"
   },
   {
    "duration": 9,
    "start_time": "2023-04-13T13:11:12.072Z"
   },
   {
    "duration": 29,
    "start_time": "2023-04-13T13:11:12.083Z"
   },
   {
    "duration": 35,
    "start_time": "2023-04-13T13:11:12.113Z"
   },
   {
    "duration": 9,
    "start_time": "2023-04-13T13:11:12.150Z"
   },
   {
    "duration": 9132,
    "start_time": "2023-04-13T13:11:12.160Z"
   },
   {
    "duration": 104,
    "start_time": "2023-04-13T13:11:21.294Z"
   },
   {
    "duration": 7,
    "start_time": "2023-04-13T13:11:21.400Z"
   },
   {
    "duration": 16,
    "start_time": "2023-04-13T13:11:21.409Z"
   },
   {
    "duration": 24609,
    "start_time": "2023-04-13T13:11:21.427Z"
   },
   {
    "duration": 3,
    "start_time": "2023-04-13T13:12:57.436Z"
   },
   {
    "duration": 21156,
    "start_time": "2023-04-13T13:12:58.743Z"
   },
   {
    "duration": 3,
    "start_time": "2023-04-13T13:14:53.408Z"
   },
   {
    "duration": 2,
    "start_time": "2023-04-13T13:15:18.126Z"
   },
   {
    "duration": 2,
    "start_time": "2023-04-13T13:15:25.550Z"
   },
   {
    "duration": 98781,
    "start_time": "2023-04-13T13:15:26.013Z"
   },
   {
    "duration": 1596,
    "start_time": "2023-04-13T13:17:36.042Z"
   },
   {
    "duration": 2894,
    "start_time": "2023-04-13T13:17:37.640Z"
   },
   {
    "duration": 13,
    "start_time": "2023-04-13T13:17:40.535Z"
   },
   {
    "duration": 7,
    "start_time": "2023-04-13T13:17:40.550Z"
   },
   {
    "duration": 124,
    "start_time": "2023-04-13T13:17:40.559Z"
   },
   {
    "duration": 23,
    "start_time": "2023-04-13T13:17:40.685Z"
   },
   {
    "duration": 3,
    "start_time": "2023-04-13T13:17:40.710Z"
   },
   {
    "duration": 14,
    "start_time": "2023-04-13T13:17:40.715Z"
   },
   {
    "duration": 23,
    "start_time": "2023-04-13T13:17:40.731Z"
   },
   {
    "duration": 2,
    "start_time": "2023-04-13T13:17:40.756Z"
   },
   {
    "duration": 7919,
    "start_time": "2023-04-13T13:17:40.760Z"
   },
   {
    "duration": 108,
    "start_time": "2023-04-13T13:17:48.680Z"
   },
   {
    "duration": 9,
    "start_time": "2023-04-13T13:17:48.791Z"
   },
   {
    "duration": 13,
    "start_time": "2023-04-13T13:17:48.801Z"
   },
   {
    "duration": 107768,
    "start_time": "2023-04-13T13:17:48.816Z"
   },
   {
    "duration": 667,
    "start_time": "2023-04-13T13:19:36.586Z"
   },
   {
    "duration": 8,
    "start_time": "2023-04-13T13:19:37.255Z"
   },
   {
    "duration": 18,
    "start_time": "2023-04-13T13:19:37.264Z"
   },
   {
    "duration": 14964,
    "start_time": "2023-04-13T13:19:37.284Z"
   },
   {
    "duration": 161,
    "start_time": "2023-04-13T13:19:52.250Z"
   },
   {
    "duration": 7,
    "start_time": "2023-04-13T13:19:52.412Z"
   },
   {
    "duration": 20,
    "start_time": "2023-04-13T13:19:52.421Z"
   },
   {
    "duration": 70,
    "start_time": "2023-04-13T13:19:52.443Z"
   },
   {
    "duration": 28,
    "start_time": "2023-04-13T13:19:52.515Z"
   },
   {
    "duration": 22,
    "start_time": "2023-04-13T13:19:52.545Z"
   },
   {
    "duration": 28,
    "start_time": "2023-04-13T13:19:52.568Z"
   },
   {
    "duration": 11,
    "start_time": "2023-04-13T13:19:52.598Z"
   },
   {
    "duration": 5,
    "start_time": "2023-04-13T13:19:52.611Z"
   },
   {
    "duration": 10,
    "start_time": "2023-04-13T13:19:52.617Z"
   },
   {
    "duration": 1593,
    "start_time": "2023-04-13T13:30:21.437Z"
   },
   {
    "duration": 685,
    "start_time": "2023-04-13T13:30:23.031Z"
   },
   {
    "duration": 13,
    "start_time": "2023-04-13T13:30:23.718Z"
   },
   {
    "duration": 29,
    "start_time": "2023-04-13T13:30:23.733Z"
   },
   {
    "duration": 125,
    "start_time": "2023-04-13T13:30:23.763Z"
   },
   {
    "duration": 23,
    "start_time": "2023-04-13T13:30:23.890Z"
   },
   {
    "duration": 39,
    "start_time": "2023-04-13T13:30:23.915Z"
   },
   {
    "duration": 20,
    "start_time": "2023-04-13T13:30:23.956Z"
   },
   {
    "duration": 30,
    "start_time": "2023-04-13T13:30:23.978Z"
   },
   {
    "duration": 8,
    "start_time": "2023-04-13T13:30:24.010Z"
   },
   {
    "duration": 6893,
    "start_time": "2023-04-13T13:30:24.019Z"
   },
   {
    "duration": 100,
    "start_time": "2023-04-13T13:30:30.914Z"
   },
   {
    "duration": 8,
    "start_time": "2023-04-13T13:30:31.015Z"
   },
   {
    "duration": 45,
    "start_time": "2023-04-13T13:30:31.024Z"
   },
   {
    "duration": 92690,
    "start_time": "2023-04-13T13:30:31.071Z"
   },
   {
    "duration": 676,
    "start_time": "2023-04-13T13:32:03.763Z"
   },
   {
    "duration": 6,
    "start_time": "2023-04-13T13:32:04.441Z"
   },
   {
    "duration": 24,
    "start_time": "2023-04-13T13:32:04.448Z"
   },
   {
    "duration": 13103,
    "start_time": "2023-04-13T13:32:04.473Z"
   },
   {
    "duration": 187,
    "start_time": "2023-04-13T13:32:17.579Z"
   },
   {
    "duration": 7,
    "start_time": "2023-04-13T13:32:17.768Z"
   },
   {
    "duration": 3,
    "start_time": "2023-04-13T13:32:17.783Z"
   },
   {
    "duration": 6,
    "start_time": "2023-04-13T13:32:17.788Z"
   },
   {
    "duration": 6,
    "start_time": "2023-04-13T13:32:17.796Z"
   },
   {
    "duration": 28,
    "start_time": "2023-04-13T13:32:17.805Z"
   },
   {
    "duration": 9,
    "start_time": "2023-04-13T13:32:17.835Z"
   },
   {
    "duration": 120,
    "start_time": "2023-04-13T13:32:17.847Z"
   },
   {
    "duration": 0,
    "start_time": "2023-04-13T13:32:17.968Z"
   },
   {
    "duration": 0,
    "start_time": "2023-04-13T13:32:17.970Z"
   },
   {
    "duration": 0,
    "start_time": "2023-04-13T13:32:17.971Z"
   },
   {
    "duration": 0,
    "start_time": "2023-04-13T13:32:17.983Z"
   },
   {
    "duration": 4,
    "start_time": "2023-04-13T13:32:34.557Z"
   },
   {
    "duration": 2,
    "start_time": "2023-04-13T13:32:37.696Z"
   },
   {
    "duration": 3,
    "start_time": "2023-04-13T13:32:38.157Z"
   },
   {
    "duration": 1627,
    "start_time": "2023-04-13T13:50:03.073Z"
   },
   {
    "duration": 912,
    "start_time": "2023-04-13T13:50:04.703Z"
   },
   {
    "duration": 14,
    "start_time": "2023-04-13T13:50:05.617Z"
   },
   {
    "duration": 20,
    "start_time": "2023-04-13T13:50:05.634Z"
   },
   {
    "duration": 139,
    "start_time": "2023-04-13T13:50:05.656Z"
   },
   {
    "duration": 22,
    "start_time": "2023-04-13T13:50:05.797Z"
   },
   {
    "duration": 18,
    "start_time": "2023-04-13T13:50:05.821Z"
   },
   {
    "duration": 17,
    "start_time": "2023-04-13T13:50:05.841Z"
   },
   {
    "duration": 37,
    "start_time": "2023-04-13T13:50:05.860Z"
   },
   {
    "duration": 48,
    "start_time": "2023-04-13T13:50:05.900Z"
   },
   {
    "duration": 8219,
    "start_time": "2023-04-13T13:50:05.950Z"
   },
   {
    "duration": 98,
    "start_time": "2023-04-13T13:50:14.171Z"
   },
   {
    "duration": 17,
    "start_time": "2023-04-13T13:50:14.271Z"
   },
   {
    "duration": 25,
    "start_time": "2023-04-13T13:50:14.289Z"
   },
   {
    "duration": 92795,
    "start_time": "2023-04-13T13:50:14.315Z"
   },
   {
    "duration": 708,
    "start_time": "2023-04-13T13:51:47.111Z"
   },
   {
    "duration": 7,
    "start_time": "2023-04-13T13:51:47.820Z"
   },
   {
    "duration": 39,
    "start_time": "2023-04-13T13:51:47.829Z"
   },
   {
    "duration": 14863,
    "start_time": "2023-04-13T13:51:47.870Z"
   },
   {
    "duration": 162,
    "start_time": "2023-04-13T13:52:02.735Z"
   },
   {
    "duration": 7,
    "start_time": "2023-04-13T13:52:02.899Z"
   },
   {
    "duration": 29,
    "start_time": "2023-04-13T13:52:02.907Z"
   },
   {
    "duration": 40,
    "start_time": "2023-04-13T13:52:02.937Z"
   },
   {
    "duration": 45,
    "start_time": "2023-04-13T13:52:02.978Z"
   },
   {
    "duration": 64,
    "start_time": "2023-04-13T13:52:03.024Z"
   },
   {
    "duration": 29,
    "start_time": "2023-04-13T13:52:03.089Z"
   },
   {
    "duration": 39,
    "start_time": "2023-04-13T13:52:03.120Z"
   },
   {
    "duration": 48,
    "start_time": "2023-04-13T13:52:03.163Z"
   },
   {
    "duration": 52,
    "start_time": "2023-04-13T13:52:03.213Z"
   },
   {
    "duration": 83352,
    "start_time": "2023-04-13T13:52:03.267Z"
   },
   {
    "duration": 2181,
    "start_time": "2023-04-13T13:53:26.621Z"
   },
   {
    "duration": 4,
    "start_time": "2023-04-13T13:53:28.804Z"
   },
   {
    "duration": 56,
    "start_time": "2023-04-13T13:53:28.809Z"
   },
   {
    "duration": 36,
    "start_time": "2023-04-13T13:53:28.868Z"
   },
   {
    "duration": 23,
    "start_time": "2023-04-13T13:53:28.906Z"
   },
   {
    "duration": 96,
    "start_time": "2023-04-13T13:53:33.804Z"
   },
   {
    "duration": 3,
    "start_time": "2023-04-13T13:54:50.318Z"
   },
   {
    "duration": 2,
    "start_time": "2023-04-13T13:54:51.153Z"
   },
   {
    "duration": 3,
    "start_time": "2023-04-13T13:54:51.547Z"
   },
   {
    "duration": 3559,
    "start_time": "2023-04-13T13:54:59.026Z"
   },
   {
    "duration": 3,
    "start_time": "2023-04-13T13:55:08.621Z"
   },
   {
    "duration": 2,
    "start_time": "2023-04-13T13:55:09.019Z"
   },
   {
    "duration": 3,
    "start_time": "2023-04-13T13:55:09.442Z"
   },
   {
    "duration": 33812,
    "start_time": "2023-04-13T13:55:09.882Z"
   },
   {
    "duration": 3,
    "start_time": "2023-04-13T13:55:59.286Z"
   },
   {
    "duration": 4,
    "start_time": "2023-04-13T13:56:44.959Z"
   },
   {
    "duration": 4,
    "start_time": "2023-04-13T13:56:50.845Z"
   },
   {
    "duration": 1605,
    "start_time": "2023-04-13T14:06:13.918Z"
   },
   {
    "duration": 530,
    "start_time": "2023-04-13T14:06:15.525Z"
   },
   {
    "duration": 13,
    "start_time": "2023-04-13T14:06:16.057Z"
   },
   {
    "duration": 20,
    "start_time": "2023-04-13T14:06:16.073Z"
   },
   {
    "duration": 158,
    "start_time": "2023-04-13T14:06:16.095Z"
   },
   {
    "duration": 31,
    "start_time": "2023-04-13T14:06:16.255Z"
   },
   {
    "duration": 48,
    "start_time": "2023-04-13T14:06:16.288Z"
   },
   {
    "duration": 12,
    "start_time": "2023-04-13T14:06:16.337Z"
   },
   {
    "duration": 39,
    "start_time": "2023-04-13T14:06:16.351Z"
   },
   {
    "duration": 3,
    "start_time": "2023-04-13T14:06:16.394Z"
   },
   {
    "duration": 7130,
    "start_time": "2023-04-13T14:06:16.399Z"
   },
   {
    "duration": 109,
    "start_time": "2023-04-13T14:06:23.530Z"
   },
   {
    "duration": 10,
    "start_time": "2023-04-13T14:06:23.640Z"
   },
   {
    "duration": 12,
    "start_time": "2023-04-13T14:06:23.651Z"
   },
   {
    "duration": 1429,
    "start_time": "2023-04-13T14:07:28.342Z"
   },
   {
    "duration": 411,
    "start_time": "2023-04-13T14:07:29.772Z"
   },
   {
    "duration": 13,
    "start_time": "2023-04-13T14:07:30.184Z"
   },
   {
    "duration": 18,
    "start_time": "2023-04-13T14:07:30.198Z"
   },
   {
    "duration": 138,
    "start_time": "2023-04-13T14:07:30.218Z"
   },
   {
    "duration": 25,
    "start_time": "2023-04-13T14:07:30.358Z"
   },
   {
    "duration": 9,
    "start_time": "2023-04-13T14:07:30.385Z"
   },
   {
    "duration": 24,
    "start_time": "2023-04-13T14:07:30.396Z"
   },
   {
    "duration": 43,
    "start_time": "2023-04-13T14:07:30.421Z"
   },
   {
    "duration": 29,
    "start_time": "2023-04-13T14:07:30.465Z"
   },
   {
    "duration": 6414,
    "start_time": "2023-04-13T14:07:30.496Z"
   },
   {
    "duration": 98,
    "start_time": "2023-04-13T14:07:36.912Z"
   },
   {
    "duration": 8,
    "start_time": "2023-04-13T14:07:37.012Z"
   },
   {
    "duration": 13,
    "start_time": "2023-04-13T14:07:37.021Z"
   },
   {
    "duration": 1394,
    "start_time": "2023-04-13T14:07:52.556Z"
   },
   {
    "duration": 906,
    "start_time": "2023-04-13T14:07:53.952Z"
   },
   {
    "duration": 12,
    "start_time": "2023-04-13T14:07:54.860Z"
   },
   {
    "duration": 14,
    "start_time": "2023-04-13T14:07:54.874Z"
   },
   {
    "duration": 133,
    "start_time": "2023-04-13T14:07:54.889Z"
   },
   {
    "duration": 20,
    "start_time": "2023-04-13T14:07:55.024Z"
   },
   {
    "duration": 8,
    "start_time": "2023-04-13T14:07:55.046Z"
   },
   {
    "duration": 15,
    "start_time": "2023-04-13T14:07:55.056Z"
   },
   {
    "duration": 30,
    "start_time": "2023-04-13T14:07:55.073Z"
   },
   {
    "duration": 2,
    "start_time": "2023-04-13T14:07:55.106Z"
   },
   {
    "duration": 6723,
    "start_time": "2023-04-13T14:07:55.110Z"
   },
   {
    "duration": 98,
    "start_time": "2023-04-13T14:08:01.835Z"
   },
   {
    "duration": 7,
    "start_time": "2023-04-13T14:08:01.935Z"
   },
   {
    "duration": 27,
    "start_time": "2023-04-13T14:08:01.943Z"
   },
   {
    "duration": 70037,
    "start_time": "2023-04-13T14:08:01.972Z"
   },
   {
    "duration": 742,
    "start_time": "2023-04-13T14:09:12.011Z"
   },
   {
    "duration": 7,
    "start_time": "2023-04-13T14:09:12.755Z"
   },
   {
    "duration": 7,
    "start_time": "2023-04-13T14:09:12.764Z"
   },
   {
    "duration": 11500,
    "start_time": "2023-04-13T14:09:12.784Z"
   },
   {
    "duration": 157,
    "start_time": "2023-04-13T14:09:24.286Z"
   },
   {
    "duration": 6,
    "start_time": "2023-04-13T14:09:24.444Z"
   },
   {
    "duration": 9,
    "start_time": "2023-04-13T14:09:24.452Z"
   },
   {
    "duration": 9,
    "start_time": "2023-04-13T14:09:24.463Z"
   },
   {
    "duration": 9,
    "start_time": "2023-04-13T14:09:24.474Z"
   },
   {
    "duration": 8,
    "start_time": "2023-04-13T14:09:24.484Z"
   },
   {
    "duration": 10,
    "start_time": "2023-04-13T14:09:24.494Z"
   },
   {
    "duration": 6,
    "start_time": "2023-04-13T14:09:24.506Z"
   },
   {
    "duration": 6,
    "start_time": "2023-04-13T14:09:24.516Z"
   },
   {
    "duration": 12,
    "start_time": "2023-04-13T14:09:24.523Z"
   },
   {
    "duration": 25134,
    "start_time": "2023-04-13T14:09:24.537Z"
   },
   {
    "duration": 42,
    "start_time": "2023-04-13T14:09:49.673Z"
   },
   {
    "duration": 14,
    "start_time": "2023-04-13T14:09:49.716Z"
   },
   {
    "duration": 10,
    "start_time": "2023-04-13T14:09:49.731Z"
   },
   {
    "duration": 63,
    "start_time": "2023-04-13T14:09:49.743Z"
   },
   {
    "duration": 34,
    "start_time": "2023-04-13T14:09:49.808Z"
   },
   {
    "duration": 1805,
    "start_time": "2023-04-13T14:09:49.844Z"
   },
   {
    "duration": 5,
    "start_time": "2023-04-13T14:10:23.104Z"
   },
   {
    "duration": 4,
    "start_time": "2023-04-13T14:10:49.758Z"
   },
   {
    "duration": 3,
    "start_time": "2023-04-13T14:18:30.836Z"
   },
   {
    "duration": 2,
    "start_time": "2023-04-13T14:18:31.322Z"
   },
   {
    "duration": 3,
    "start_time": "2023-04-13T14:18:31.905Z"
   },
   {
    "duration": 83540,
    "start_time": "2023-04-13T14:18:32.722Z"
   },
   {
    "duration": 232,
    "start_time": "2023-04-13T14:20:03.140Z"
   },
   {
    "duration": 2,
    "start_time": "2023-04-13T14:20:03.547Z"
   },
   {
    "duration": 113,
    "start_time": "2023-04-13T14:20:08.076Z"
   },
   {
    "duration": 10,
    "start_time": "2023-04-13T14:20:14.755Z"
   },
   {
    "duration": 3,
    "start_time": "2023-04-13T14:20:21.660Z"
   },
   {
    "duration": 3,
    "start_time": "2023-04-13T14:20:22.499Z"
   },
   {
    "duration": 3,
    "start_time": "2023-04-13T14:20:22.963Z"
   },
   {
    "duration": 128919,
    "start_time": "2023-04-13T14:20:23.411Z"
   },
   {
    "duration": 3,
    "start_time": "2023-04-13T14:22:44.479Z"
   },
   {
    "duration": 789644,
    "start_time": "2023-04-13T14:22:46.550Z"
   },
   {
    "duration": 925,
    "start_time": "2023-09-30T11:42:34.262Z"
   },
   {
    "duration": 2872,
    "start_time": "2023-09-30T11:42:35.189Z"
   },
   {
    "duration": 15510,
    "start_time": "2023-09-30T11:42:38.064Z"
   },
   {
    "duration": 8035,
    "start_time": "2023-09-30T11:43:13.231Z"
   },
   {
    "duration": 14,
    "start_time": "2023-09-30T11:43:25.111Z"
   },
   {
    "duration": 911,
    "start_time": "2023-09-30T11:43:25.772Z"
   },
   {
    "duration": 3920,
    "start_time": "2023-09-30T11:43:26.745Z"
   },
   {
    "duration": 1002,
    "start_time": "2023-09-30T11:43:30.666Z"
   },
   {
    "duration": 2,
    "start_time": "2023-09-30T11:43:31.670Z"
   },
   {
    "duration": 7177,
    "start_time": "2023-09-30T11:43:31.673Z"
   },
   {
    "duration": 10,
    "start_time": "2023-09-30T11:43:38.851Z"
   },
   {
    "duration": 10905,
    "start_time": "2023-09-30T11:43:38.862Z"
   },
   {
    "duration": 4914,
    "start_time": "2023-09-30T11:43:49.768Z"
   },
   {
    "duration": 219,
    "start_time": "2023-09-30T11:43:54.743Z"
   }
  ],
  "colab": {
   "name": "PySparkSprint.ipynb",
   "provenance": []
  },
  "kernelspec": {
   "display_name": "Python 3 (ipykernel)",
   "language": "python",
   "name": "python3"
  },
  "language_info": {
   "codemirror_mode": {
    "name": "ipython",
    "version": 3
   },
   "file_extension": ".py",
   "mimetype": "text/x-python",
   "name": "python",
   "nbconvert_exporter": "python",
   "pygments_lexer": "ipython3",
   "version": "3.9.5"
  },
  "toc": {
   "base_numbering": 1,
   "nav_menu": {},
   "number_sections": true,
   "sideBar": true,
   "skip_h1_title": true,
   "title_cell": "Table of Contents",
   "title_sidebar": "Contents",
   "toc_cell": false,
   "toc_position": {},
   "toc_section_display": true,
   "toc_window_display": true
  }
 },
 "nbformat": 4,
 "nbformat_minor": 5
}
