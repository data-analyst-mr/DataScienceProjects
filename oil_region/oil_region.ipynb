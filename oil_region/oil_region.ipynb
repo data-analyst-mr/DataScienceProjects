{
 "cells": [
  {
   "cell_type": "markdown",
   "metadata": {},
   "source": [
    "# Выбор локации для скважины"
   ]
  },
  {
   "cell_type": "markdown",
   "metadata": {},
   "source": [
    "**Содержание:**  \n",
    "1. [Загрузка и подготовка данных](#load_and_info)  \n",
    " 1.1. [Импорт библиотек](#import)  \n",
    " 1.2. [Загрузка данных](#read)  \n",
    " 1.3. [Общая информация](#info)  \n",
    " 1.4. [Подготовка данных](#data_preparation)  \n",
    "    \n",
    "    \n",
    "2. [Обучение и проверка модели](#teach_and_check)  \n",
    " \n",
    " \n",
    "3. [Подготовка к расчёту прибыли](#profit_preparation)  \n",
    "\n",
    "\n",
    "4. [Расчёт прибыли и рисков](#profit)  \n",
    " 4.1. [Расчёт прибыли для двухсот лучших по прогнозам точек каждого региона](#profit_200_best)  \n",
    " 4.2. [Расчёт рисков и прибыли для каждого региона](#profit_200_from_500)  \n",
    "\n",
    "\n",
    " \n",
    "5. [Общий вывод](#final)  \n",
    "\n",
    "\n",
    "\n",
    "**Заказчик исследования:** добывающая компания «ГлавРосГосНефть».  \n",
    "**Цель исследования:** создание модели прогнозирования для определения региона, в котором добыча принесёт наибольшую прибыль.  \n",
    "\n",
    "**Условия исследования:**  \n",
    "- Для обучения модели подходит только линейная регрессия (остальные — недостаточно предсказуемые);  \n",
    "- При разведке региона исследуют 500 точек, из которых с помощью машинного обучения выбирают 200 лучших для разработки;  \n",
    "- Бюджет на разработку скважин в регионе — 10 млрд рублей;  \n",
    "- При нынешних ценах один баррель сырья приносит 450 рублей дохода. Доход с каждой единицы продукта составляет 450 тыс. рублей, поскольку объём указан в тысячах баррелей;  \n",
    "- После оценки рисков нужно оставить лишь те регионы, в которых вероятность убытков меньше 2.5%. Среди них выбирают регион с наибольшей средней прибылью.\n",
    "\n",
    "**Исходные данные:**  \n",
    "Исходные данные представлены в датасетах:  \n",
    "- \"geo_data_0.csv\" - данные по первому региону;  \n",
    "- \"geo_data_1.csv\" - данные по второму региону;  \n",
    "- \"geo_data_2.csv\" - данные по третьему региону;  \n",
    "\n",
    "В датасетах содержатся следующие данные:  \n",
    "- id — уникальный идентификатор скважины;  \n",
    "- f0, f1, f2 — три признака точек;  \n",
    "- product — объём запасов в скважине в тыс. баррелей (целевой признак).  "
   ]
  },
  {
   "cell_type": "markdown",
   "metadata": {},
   "source": [
    "## Загрузка и подготовка данных\n",
    "<a id=\"load_and_info\"></a>"
   ]
  },
  {
   "cell_type": "markdown",
   "metadata": {},
   "source": [
    "### Импорт библиотек\n",
    "<a id=\"import\"></a>"
   ]
  },
  {
   "cell_type": "code",
   "execution_count": 1,
   "metadata": {},
   "outputs": [],
   "source": [
    "import pandas as pd\n",
    "import numpy as np\n",
    "import seaborn as sns\n",
    "import matplotlib.pyplot as plt\n",
    "from sklearn.model_selection import train_test_split\n",
    "from sklearn.linear_model import LinearRegression\n",
    "from sklearn.model_selection import cross_val_score\n",
    "from sklearn.metrics import mean_squared_error\n",
    "from sklearn.preprocessing import StandardScaler\n",
    "from scipy import stats"
   ]
  },
  {
   "cell_type": "markdown",
   "metadata": {},
   "source": [
    "### Загрузка данных\n",
    "<a id=\"read\"></a>"
   ]
  },
  {
   "cell_type": "code",
   "execution_count": 2,
   "metadata": {},
   "outputs": [],
   "source": [
    "try:\n",
    "    df_geo_0 = pd.read_csv('/datasets/geo_data_0.csv')\n",
    "except:\n",
    "    df_geo_0 = pd.read_csv('https://code.s3.yandex.net/datasets/geo_data_0.csv')\n",
    "\n",
    "try:\n",
    "    df_geo_1 = pd.read_csv('/datasets/geo_data_1.csv')\n",
    "except:\n",
    "    df_geo_1 = pd.read_csv('https://code.s3.yandex.net/datasets/geo_data_1.csv')\n",
    "    \n",
    "try:\n",
    "    df_geo_2 = pd.read_csv('/datasets/geo_data_2.csv')\n",
    "except:\n",
    "    df_geo_2 = pd.read_csv('https://code.s3.yandex.net/datasets/geo_data_2.csv')"
   ]
  },
  {
   "cell_type": "markdown",
   "metadata": {},
   "source": [
    "### Общая информация\n",
    "<a id=\"info\"></a>"
   ]
  },
  {
   "cell_type": "markdown",
   "metadata": {},
   "source": [
    "Функция вывода общей инфомрации:"
   ]
  },
  {
   "cell_type": "code",
   "execution_count": 6,
   "metadata": {},
   "outputs": [],
   "source": [
    "def inf(df_info):\n",
    "    print()\n",
    "    print('Общая информация:')\n",
    "    display(df_info.info(memory_usage='deep'))\n",
    "    print('_' * 50)\n",
    "    print()\n",
    "    print('Описательная статистика строковых значений:')\n",
    "    display(df_info.describe(include='object').T)\n",
    "    print('_' * 50)\n",
    "    print()\n",
    "    print('Описательная статистика числовых значений:')\n",
    "    display(df_info.describe().T)\n",
    "    print('_' * 50)\n",
    "    print()\n",
    "    print('Процент пропущенных значений:')\n",
    "    display(df_info.isna().mean()*100)\n",
    "    print('_' * 50)\n",
    "    print()\n",
    "    print('Случайная выборка датафрейма:')\n",
    "    display(df_info.sample(n = 5, random_state = 0))\n",
    "    print('_' * 100)\n",
    "    print()\n",
    "    print('Проверка на выбросы:')\n",
    "    \n",
    "    fig = plt.figure(figsize=(14, 14))\n",
    "    ax1 = fig.add_subplot(2, 2, 1)\n",
    "    ax1 = sns.boxplot(x=df_info['f0'])\n",
    "    ax1 = plt.title('Распределение значений признака f0') \n",
    "\n",
    "    ax2 = fig.add_subplot(2, 2, 2)\n",
    "    ax2 = sns.boxplot(x=df_info['f1'])\n",
    "    ax2 = plt.title('Распределение значений признака f1')\n",
    "\n",
    "    ax3 = fig.add_subplot(2, 2, 3)\n",
    "    ax3 = sns.boxplot(x=df_info['f2'])\n",
    "    ax3 = plt.title('Распределение значений признака f2')\n",
    "\n",
    "    ax4 = fig.add_subplot(2, 2, 4)\n",
    "    ax4 = sns.boxplot(x=df_info['product'])\n",
    "    ax4 = plt.title('Распределение значений целевого признака (product)')\n",
    "\n",
    "    fig.tight_layout()\n",
    "    plt.show()"
   ]
  },
  {
   "cell_type": "markdown",
   "metadata": {},
   "source": [
    "Выводим информацию по первому региону:"
   ]
  },
  {
   "cell_type": "code",
   "execution_count": 7,
   "metadata": {},
   "outputs": [
    {
     "name": "stdout",
     "output_type": "stream",
     "text": [
      "\n",
      "Общая информация:\n",
      "<class 'pandas.core.frame.DataFrame'>\n",
      "RangeIndex: 100000 entries, 0 to 99999\n",
      "Data columns (total 5 columns):\n",
      " #   Column   Non-Null Count   Dtype  \n",
      "---  ------   --------------   -----  \n",
      " 0   id       100000 non-null  object \n",
      " 1   f0       100000 non-null  float64\n",
      " 2   f1       100000 non-null  float64\n",
      " 3   f2       100000 non-null  float64\n",
      " 4   product  100000 non-null  float64\n",
      "dtypes: float64(4), object(1)\n",
      "memory usage: 9.0 MB\n"
     ]
    },
    {
     "data": {
      "text/plain": [
       "None"
      ]
     },
     "metadata": {},
     "output_type": "display_data"
    },
    {
     "name": "stdout",
     "output_type": "stream",
     "text": [
      "__________________________________________________\n",
      "\n",
      "Описательная статистика строковых значений:\n"
     ]
    },
    {
     "data": {
      "text/html": [
       "<div>\n",
       "<style scoped>\n",
       "    .dataframe tbody tr th:only-of-type {\n",
       "        vertical-align: middle;\n",
       "    }\n",
       "\n",
       "    .dataframe tbody tr th {\n",
       "        vertical-align: top;\n",
       "    }\n",
       "\n",
       "    .dataframe thead th {\n",
       "        text-align: right;\n",
       "    }\n",
       "</style>\n",
       "<table border=\"1\" class=\"dataframe\">\n",
       "  <thead>\n",
       "    <tr style=\"text-align: right;\">\n",
       "      <th></th>\n",
       "      <th>count</th>\n",
       "      <th>unique</th>\n",
       "      <th>top</th>\n",
       "      <th>freq</th>\n",
       "    </tr>\n",
       "  </thead>\n",
       "  <tbody>\n",
       "    <tr>\n",
       "      <th>id</th>\n",
       "      <td>100000</td>\n",
       "      <td>99990</td>\n",
       "      <td>fiKDv</td>\n",
       "      <td>2</td>\n",
       "    </tr>\n",
       "  </tbody>\n",
       "</table>\n",
       "</div>"
      ],
      "text/plain": [
       "     count unique    top freq\n",
       "id  100000  99990  fiKDv    2"
      ]
     },
     "metadata": {},
     "output_type": "display_data"
    },
    {
     "name": "stdout",
     "output_type": "stream",
     "text": [
      "__________________________________________________\n",
      "\n",
      "Описательная статистика числовых значений:\n"
     ]
    },
    {
     "data": {
      "text/html": [
       "<div>\n",
       "<style scoped>\n",
       "    .dataframe tbody tr th:only-of-type {\n",
       "        vertical-align: middle;\n",
       "    }\n",
       "\n",
       "    .dataframe tbody tr th {\n",
       "        vertical-align: top;\n",
       "    }\n",
       "\n",
       "    .dataframe thead th {\n",
       "        text-align: right;\n",
       "    }\n",
       "</style>\n",
       "<table border=\"1\" class=\"dataframe\">\n",
       "  <thead>\n",
       "    <tr style=\"text-align: right;\">\n",
       "      <th></th>\n",
       "      <th>count</th>\n",
       "      <th>mean</th>\n",
       "      <th>std</th>\n",
       "      <th>min</th>\n",
       "      <th>25%</th>\n",
       "      <th>50%</th>\n",
       "      <th>75%</th>\n",
       "      <th>max</th>\n",
       "    </tr>\n",
       "  </thead>\n",
       "  <tbody>\n",
       "    <tr>\n",
       "      <th>f0</th>\n",
       "      <td>100000.0</td>\n",
       "      <td>0.500419</td>\n",
       "      <td>0.871832</td>\n",
       "      <td>-1.408605</td>\n",
       "      <td>-0.072580</td>\n",
       "      <td>0.502360</td>\n",
       "      <td>1.073581</td>\n",
       "      <td>2.362331</td>\n",
       "    </tr>\n",
       "    <tr>\n",
       "      <th>f1</th>\n",
       "      <td>100000.0</td>\n",
       "      <td>0.250143</td>\n",
       "      <td>0.504433</td>\n",
       "      <td>-0.848218</td>\n",
       "      <td>-0.200881</td>\n",
       "      <td>0.250252</td>\n",
       "      <td>0.700646</td>\n",
       "      <td>1.343769</td>\n",
       "    </tr>\n",
       "    <tr>\n",
       "      <th>f2</th>\n",
       "      <td>100000.0</td>\n",
       "      <td>2.502647</td>\n",
       "      <td>3.248248</td>\n",
       "      <td>-12.088328</td>\n",
       "      <td>0.287748</td>\n",
       "      <td>2.515969</td>\n",
       "      <td>4.715088</td>\n",
       "      <td>16.003790</td>\n",
       "    </tr>\n",
       "    <tr>\n",
       "      <th>product</th>\n",
       "      <td>100000.0</td>\n",
       "      <td>92.500000</td>\n",
       "      <td>44.288691</td>\n",
       "      <td>0.000000</td>\n",
       "      <td>56.497507</td>\n",
       "      <td>91.849972</td>\n",
       "      <td>128.564089</td>\n",
       "      <td>185.364347</td>\n",
       "    </tr>\n",
       "  </tbody>\n",
       "</table>\n",
       "</div>"
      ],
      "text/plain": [
       "            count       mean        std        min        25%        50%  \\\n",
       "f0       100000.0   0.500419   0.871832  -1.408605  -0.072580   0.502360   \n",
       "f1       100000.0   0.250143   0.504433  -0.848218  -0.200881   0.250252   \n",
       "f2       100000.0   2.502647   3.248248 -12.088328   0.287748   2.515969   \n",
       "product  100000.0  92.500000  44.288691   0.000000  56.497507  91.849972   \n",
       "\n",
       "                75%         max  \n",
       "f0         1.073581    2.362331  \n",
       "f1         0.700646    1.343769  \n",
       "f2         4.715088   16.003790  \n",
       "product  128.564089  185.364347  "
      ]
     },
     "metadata": {},
     "output_type": "display_data"
    },
    {
     "name": "stdout",
     "output_type": "stream",
     "text": [
      "__________________________________________________\n",
      "\n",
      "Процент пропущенных значений:\n"
     ]
    },
    {
     "data": {
      "text/plain": [
       "id         0.0\n",
       "f0         0.0\n",
       "f1         0.0\n",
       "f2         0.0\n",
       "product    0.0\n",
       "dtype: float64"
      ]
     },
     "metadata": {},
     "output_type": "display_data"
    },
    {
     "name": "stdout",
     "output_type": "stream",
     "text": [
      "__________________________________________________\n",
      "\n",
      "Случайная выборка датафрейма:\n"
     ]
    },
    {
     "data": {
      "text/html": [
       "<div>\n",
       "<style scoped>\n",
       "    .dataframe tbody tr th:only-of-type {\n",
       "        vertical-align: middle;\n",
       "    }\n",
       "\n",
       "    .dataframe tbody tr th {\n",
       "        vertical-align: top;\n",
       "    }\n",
       "\n",
       "    .dataframe thead th {\n",
       "        text-align: right;\n",
       "    }\n",
       "</style>\n",
       "<table border=\"1\" class=\"dataframe\">\n",
       "  <thead>\n",
       "    <tr style=\"text-align: right;\">\n",
       "      <th></th>\n",
       "      <th>id</th>\n",
       "      <th>f0</th>\n",
       "      <th>f1</th>\n",
       "      <th>f2</th>\n",
       "      <th>product</th>\n",
       "    </tr>\n",
       "  </thead>\n",
       "  <tbody>\n",
       "    <tr>\n",
       "      <th>3582</th>\n",
       "      <td>zMatX</td>\n",
       "      <td>0.881376</td>\n",
       "      <td>0.273600</td>\n",
       "      <td>2.770651</td>\n",
       "      <td>49.723143</td>\n",
       "    </tr>\n",
       "    <tr>\n",
       "      <th>60498</th>\n",
       "      <td>muBEx</td>\n",
       "      <td>-0.991020</td>\n",
       "      <td>0.010620</td>\n",
       "      <td>3.233630</td>\n",
       "      <td>10.583795</td>\n",
       "    </tr>\n",
       "    <tr>\n",
       "      <th>53227</th>\n",
       "      <td>DMAPr</td>\n",
       "      <td>-0.987623</td>\n",
       "      <td>0.017871</td>\n",
       "      <td>5.005426</td>\n",
       "      <td>139.110613</td>\n",
       "    </tr>\n",
       "    <tr>\n",
       "      <th>21333</th>\n",
       "      <td>fasrx</td>\n",
       "      <td>2.081966</td>\n",
       "      <td>0.426730</td>\n",
       "      <td>2.638579</td>\n",
       "      <td>85.109875</td>\n",
       "    </tr>\n",
       "    <tr>\n",
       "      <th>3885</th>\n",
       "      <td>0XaIy</td>\n",
       "      <td>0.850498</td>\n",
       "      <td>0.473509</td>\n",
       "      <td>3.575604</td>\n",
       "      <td>39.726827</td>\n",
       "    </tr>\n",
       "  </tbody>\n",
       "</table>\n",
       "</div>"
      ],
      "text/plain": [
       "          id        f0        f1        f2     product\n",
       "3582   zMatX  0.881376  0.273600  2.770651   49.723143\n",
       "60498  muBEx -0.991020  0.010620  3.233630   10.583795\n",
       "53227  DMAPr -0.987623  0.017871  5.005426  139.110613\n",
       "21333  fasrx  2.081966  0.426730  2.638579   85.109875\n",
       "3885   0XaIy  0.850498  0.473509  3.575604   39.726827"
      ]
     },
     "metadata": {},
     "output_type": "display_data"
    },
    {
     "name": "stdout",
     "output_type": "stream",
     "text": [
      "____________________________________________________________________________________________________\n",
      "\n",
      "Проверка на выбросы:\n"
     ]
    },
    {
     "data": {
      "image/png": "[encoded data removed]",
      "text/plain": [
       "<Figure size 1400x1400 with 4 Axes>"
      ]
     },
     "metadata": {},
     "output_type": "display_data"
    }
   ],
   "source": [
    "inf(df_geo_0)"
   ]
  },
  {
   "cell_type": "markdown",
   "metadata": {},
   "source": [
    "В датафрейме 100000 строк и 5 столбцов.  \n",
    "Данные поля \"id\" имеют тип \"object\", а \"f0\", \"f1\", \"f2\" и \"product\" - \"float64\".  \n",
    "Из 100000 значений \"id\" уникальных 99990: присутствуют дубликаты.  \n",
    "Присутствуют выбросы по признаку \"f2\". "
   ]
  },
  {
   "cell_type": "markdown",
   "metadata": {},
   "source": [
    "Выводим информацию по второму региону:"
   ]
  },
  {
   "cell_type": "code",
   "execution_count": 8,
   "metadata": {},
   "outputs": [
    {
     "name": "stdout",
     "output_type": "stream",
     "text": [
      "\n",
      "Общая информация:\n",
      "<class 'pandas.core.frame.DataFrame'>\n",
      "RangeIndex: 100000 entries, 0 to 99999\n",
      "Data columns (total 5 columns):\n",
      " #   Column   Non-Null Count   Dtype  \n",
      "---  ------   --------------   -----  \n",
      " 0   id       100000 non-null  object \n",
      " 1   f0       100000 non-null  float64\n",
      " 2   f1       100000 non-null  float64\n",
      " 3   f2       100000 non-null  float64\n",
      " 4   product  100000 non-null  float64\n",
      "dtypes: float64(4), object(1)\n",
      "memory usage: 9.0 MB\n"
     ]
    },
    {
     "data": {
      "text/plain": [
       "None"
      ]
     },
     "metadata": {},
     "output_type": "display_data"
    },
    {
     "name": "stdout",
     "output_type": "stream",
     "text": [
      "__________________________________________________\n",
      "\n",
      "Описательная статистика строковых значений:\n"
     ]
    },
    {
     "data": {
      "text/html": [
       "<div>\n",
       "<style scoped>\n",
       "    .dataframe tbody tr th:only-of-type {\n",
       "        vertical-align: middle;\n",
       "    }\n",
       "\n",
       "    .dataframe tbody tr th {\n",
       "        vertical-align: top;\n",
       "    }\n",
       "\n",
       "    .dataframe thead th {\n",
       "        text-align: right;\n",
       "    }\n",
       "</style>\n",
       "<table border=\"1\" class=\"dataframe\">\n",
       "  <thead>\n",
       "    <tr style=\"text-align: right;\">\n",
       "      <th></th>\n",
       "      <th>count</th>\n",
       "      <th>unique</th>\n",
       "      <th>top</th>\n",
       "      <th>freq</th>\n",
       "    </tr>\n",
       "  </thead>\n",
       "  <tbody>\n",
       "    <tr>\n",
       "      <th>id</th>\n",
       "      <td>100000</td>\n",
       "      <td>99996</td>\n",
       "      <td>wt4Uk</td>\n",
       "      <td>2</td>\n",
       "    </tr>\n",
       "  </tbody>\n",
       "</table>\n",
       "</div>"
      ],
      "text/plain": [
       "     count unique    top freq\n",
       "id  100000  99996  wt4Uk    2"
      ]
     },
     "metadata": {},
     "output_type": "display_data"
    },
    {
     "name": "stdout",
     "output_type": "stream",
     "text": [
      "__________________________________________________\n",
      "\n",
      "Описательная статистика числовых значений:\n"
     ]
    },
    {
     "data": {
      "text/html": [
       "<div>\n",
       "<style scoped>\n",
       "    .dataframe tbody tr th:only-of-type {\n",
       "        vertical-align: middle;\n",
       "    }\n",
       "\n",
       "    .dataframe tbody tr th {\n",
       "        vertical-align: top;\n",
       "    }\n",
       "\n",
       "    .dataframe thead th {\n",
       "        text-align: right;\n",
       "    }\n",
       "</style>\n",
       "<table border=\"1\" class=\"dataframe\">\n",
       "  <thead>\n",
       "    <tr style=\"text-align: right;\">\n",
       "      <th></th>\n",
       "      <th>count</th>\n",
       "      <th>mean</th>\n",
       "      <th>std</th>\n",
       "      <th>min</th>\n",
       "      <th>25%</th>\n",
       "      <th>50%</th>\n",
       "      <th>75%</th>\n",
       "      <th>max</th>\n",
       "    </tr>\n",
       "  </thead>\n",
       "  <tbody>\n",
       "    <tr>\n",
       "      <th>f0</th>\n",
       "      <td>100000.0</td>\n",
       "      <td>1.141296</td>\n",
       "      <td>8.965932</td>\n",
       "      <td>-31.609576</td>\n",
       "      <td>-6.298551</td>\n",
       "      <td>1.153055</td>\n",
       "      <td>8.621015</td>\n",
       "      <td>29.421755</td>\n",
       "    </tr>\n",
       "    <tr>\n",
       "      <th>f1</th>\n",
       "      <td>100000.0</td>\n",
       "      <td>-4.796579</td>\n",
       "      <td>5.119872</td>\n",
       "      <td>-26.358598</td>\n",
       "      <td>-8.267985</td>\n",
       "      <td>-4.813172</td>\n",
       "      <td>-1.332816</td>\n",
       "      <td>18.734063</td>\n",
       "    </tr>\n",
       "    <tr>\n",
       "      <th>f2</th>\n",
       "      <td>100000.0</td>\n",
       "      <td>2.494541</td>\n",
       "      <td>1.703572</td>\n",
       "      <td>-0.018144</td>\n",
       "      <td>1.000021</td>\n",
       "      <td>2.011479</td>\n",
       "      <td>3.999904</td>\n",
       "      <td>5.019721</td>\n",
       "    </tr>\n",
       "    <tr>\n",
       "      <th>product</th>\n",
       "      <td>100000.0</td>\n",
       "      <td>68.825000</td>\n",
       "      <td>45.944423</td>\n",
       "      <td>0.000000</td>\n",
       "      <td>26.953261</td>\n",
       "      <td>57.085625</td>\n",
       "      <td>107.813044</td>\n",
       "      <td>137.945408</td>\n",
       "    </tr>\n",
       "  </tbody>\n",
       "</table>\n",
       "</div>"
      ],
      "text/plain": [
       "            count       mean        std        min        25%        50%  \\\n",
       "f0       100000.0   1.141296   8.965932 -31.609576  -6.298551   1.153055   \n",
       "f1       100000.0  -4.796579   5.119872 -26.358598  -8.267985  -4.813172   \n",
       "f2       100000.0   2.494541   1.703572  -0.018144   1.000021   2.011479   \n",
       "product  100000.0  68.825000  45.944423   0.000000  26.953261  57.085625   \n",
       "\n",
       "                75%         max  \n",
       "f0         8.621015   29.421755  \n",
       "f1        -1.332816   18.734063  \n",
       "f2         3.999904    5.019721  \n",
       "product  107.813044  137.945408  "
      ]
     },
     "metadata": {},
     "output_type": "display_data"
    },
    {
     "name": "stdout",
     "output_type": "stream",
     "text": [
      "__________________________________________________\n",
      "\n",
      "Процент пропущенных значений:\n"
     ]
    },
    {
     "data": {
      "text/plain": [
       "id         0.0\n",
       "f0         0.0\n",
       "f1         0.0\n",
       "f2         0.0\n",
       "product    0.0\n",
       "dtype: float64"
      ]
     },
     "metadata": {},
     "output_type": "display_data"
    },
    {
     "name": "stdout",
     "output_type": "stream",
     "text": [
      "__________________________________________________\n",
      "\n",
      "Случайная выборка датафрейма:\n"
     ]
    },
    {
     "data": {
      "text/html": [
       "<div>\n",
       "<style scoped>\n",
       "    .dataframe tbody tr th:only-of-type {\n",
       "        vertical-align: middle;\n",
       "    }\n",
       "\n",
       "    .dataframe tbody tr th {\n",
       "        vertical-align: top;\n",
       "    }\n",
       "\n",
       "    .dataframe thead th {\n",
       "        text-align: right;\n",
       "    }\n",
       "</style>\n",
       "<table border=\"1\" class=\"dataframe\">\n",
       "  <thead>\n",
       "    <tr style=\"text-align: right;\">\n",
       "      <th></th>\n",
       "      <th>id</th>\n",
       "      <th>f0</th>\n",
       "      <th>f1</th>\n",
       "      <th>f2</th>\n",
       "      <th>product</th>\n",
       "    </tr>\n",
       "  </thead>\n",
       "  <tbody>\n",
       "    <tr>\n",
       "      <th>3582</th>\n",
       "      <td>gnvG6</td>\n",
       "      <td>13.682535</td>\n",
       "      <td>-1.577749</td>\n",
       "      <td>4.999462</td>\n",
       "      <td>134.766305</td>\n",
       "    </tr>\n",
       "    <tr>\n",
       "      <th>60498</th>\n",
       "      <td>KGfJ0</td>\n",
       "      <td>-4.834251</td>\n",
       "      <td>-0.349029</td>\n",
       "      <td>4.996602</td>\n",
       "      <td>137.945408</td>\n",
       "    </tr>\n",
       "    <tr>\n",
       "      <th>53227</th>\n",
       "      <td>Km7yX</td>\n",
       "      <td>-7.287642</td>\n",
       "      <td>-4.184750</td>\n",
       "      <td>0.001329</td>\n",
       "      <td>3.179103</td>\n",
       "    </tr>\n",
       "    <tr>\n",
       "      <th>21333</th>\n",
       "      <td>bGQtv</td>\n",
       "      <td>-10.041103</td>\n",
       "      <td>-16.919151</td>\n",
       "      <td>3.999895</td>\n",
       "      <td>110.992147</td>\n",
       "    </tr>\n",
       "    <tr>\n",
       "      <th>3885</th>\n",
       "      <td>CuYNo</td>\n",
       "      <td>-8.650003</td>\n",
       "      <td>-4.526214</td>\n",
       "      <td>5.012777</td>\n",
       "      <td>137.945408</td>\n",
       "    </tr>\n",
       "  </tbody>\n",
       "</table>\n",
       "</div>"
      ],
      "text/plain": [
       "          id         f0         f1        f2     product\n",
       "3582   gnvG6  13.682535  -1.577749  4.999462  134.766305\n",
       "60498  KGfJ0  -4.834251  -0.349029  4.996602  137.945408\n",
       "53227  Km7yX  -7.287642  -4.184750  0.001329    3.179103\n",
       "21333  bGQtv -10.041103 -16.919151  3.999895  110.992147\n",
       "3885   CuYNo  -8.650003  -4.526214  5.012777  137.945408"
      ]
     },
     "metadata": {},
     "output_type": "display_data"
    },
    {
     "name": "stdout",
     "output_type": "stream",
     "text": [
      "____________________________________________________________________________________________________\n",
      "\n",
      "Проверка на выбросы:\n"
     ]
    },
    {
     "data": {
      "image/png": "[encoded data removed]",
      "text/plain": [
       "<Figure size 1400x1400 with 4 Axes>"
      ]
     },
     "metadata": {},
     "output_type": "display_data"
    }
   ],
   "source": [
    "inf(df_geo_1)"
   ]
  },
  {
   "cell_type": "markdown",
   "metadata": {},
   "source": [
    "В датафрейме 100000 строк и 5 столбцов.  \n",
    "Данные поля \"id\" имеют тип \"object\", а \"f0\", \"f1\", \"f2\" и \"product\" - \"float64\".  \n",
    "Из 100000 значений \"id\" уникальных 99996: присутствуют дубликаты.  \n",
    "Присутствуют выбросы по признакам \"f0\" и \"f1\".  "
   ]
  },
  {
   "cell_type": "markdown",
   "metadata": {},
   "source": [
    "Выводим информацию по третьему региону:"
   ]
  },
  {
   "cell_type": "code",
   "execution_count": 9,
   "metadata": {},
   "outputs": [
    {
     "name": "stdout",
     "output_type": "stream",
     "text": [
      "\n",
      "Общая информация:\n",
      "<class 'pandas.core.frame.DataFrame'>\n",
      "RangeIndex: 100000 entries, 0 to 99999\n",
      "Data columns (total 5 columns):\n",
      " #   Column   Non-Null Count   Dtype  \n",
      "---  ------   --------------   -----  \n",
      " 0   id       100000 non-null  object \n",
      " 1   f0       100000 non-null  float64\n",
      " 2   f1       100000 non-null  float64\n",
      " 3   f2       100000 non-null  float64\n",
      " 4   product  100000 non-null  float64\n",
      "dtypes: float64(4), object(1)\n",
      "memory usage: 9.0 MB\n"
     ]
    },
    {
     "data": {
      "text/plain": [
       "None"
      ]
     },
     "metadata": {},
     "output_type": "display_data"
    },
    {
     "name": "stdout",
     "output_type": "stream",
     "text": [
      "__________________________________________________\n",
      "\n",
      "Описательная статистика строковых значений:\n"
     ]
    },
    {
     "data": {
      "text/html": [
       "<div>\n",
       "<style scoped>\n",
       "    .dataframe tbody tr th:only-of-type {\n",
       "        vertical-align: middle;\n",
       "    }\n",
       "\n",
       "    .dataframe tbody tr th {\n",
       "        vertical-align: top;\n",
       "    }\n",
       "\n",
       "    .dataframe thead th {\n",
       "        text-align: right;\n",
       "    }\n",
       "</style>\n",
       "<table border=\"1\" class=\"dataframe\">\n",
       "  <thead>\n",
       "    <tr style=\"text-align: right;\">\n",
       "      <th></th>\n",
       "      <th>count</th>\n",
       "      <th>unique</th>\n",
       "      <th>top</th>\n",
       "      <th>freq</th>\n",
       "    </tr>\n",
       "  </thead>\n",
       "  <tbody>\n",
       "    <tr>\n",
       "      <th>id</th>\n",
       "      <td>100000</td>\n",
       "      <td>99996</td>\n",
       "      <td>VF7Jo</td>\n",
       "      <td>2</td>\n",
       "    </tr>\n",
       "  </tbody>\n",
       "</table>\n",
       "</div>"
      ],
      "text/plain": [
       "     count unique    top freq\n",
       "id  100000  99996  VF7Jo    2"
      ]
     },
     "metadata": {},
     "output_type": "display_data"
    },
    {
     "name": "stdout",
     "output_type": "stream",
     "text": [
      "__________________________________________________\n",
      "\n",
      "Описательная статистика числовых значений:\n"
     ]
    },
    {
     "data": {
      "text/html": [
       "<div>\n",
       "<style scoped>\n",
       "    .dataframe tbody tr th:only-of-type {\n",
       "        vertical-align: middle;\n",
       "    }\n",
       "\n",
       "    .dataframe tbody tr th {\n",
       "        vertical-align: top;\n",
       "    }\n",
       "\n",
       "    .dataframe thead th {\n",
       "        text-align: right;\n",
       "    }\n",
       "</style>\n",
       "<table border=\"1\" class=\"dataframe\">\n",
       "  <thead>\n",
       "    <tr style=\"text-align: right;\">\n",
       "      <th></th>\n",
       "      <th>count</th>\n",
       "      <th>mean</th>\n",
       "      <th>std</th>\n",
       "      <th>min</th>\n",
       "      <th>25%</th>\n",
       "      <th>50%</th>\n",
       "      <th>75%</th>\n",
       "      <th>max</th>\n",
       "    </tr>\n",
       "  </thead>\n",
       "  <tbody>\n",
       "    <tr>\n",
       "      <th>f0</th>\n",
       "      <td>100000.0</td>\n",
       "      <td>0.002023</td>\n",
       "      <td>1.732045</td>\n",
       "      <td>-8.760004</td>\n",
       "      <td>-1.162288</td>\n",
       "      <td>0.009424</td>\n",
       "      <td>1.158535</td>\n",
       "      <td>7.238262</td>\n",
       "    </tr>\n",
       "    <tr>\n",
       "      <th>f1</th>\n",
       "      <td>100000.0</td>\n",
       "      <td>-0.002081</td>\n",
       "      <td>1.730417</td>\n",
       "      <td>-7.084020</td>\n",
       "      <td>-1.174820</td>\n",
       "      <td>-0.009482</td>\n",
       "      <td>1.163678</td>\n",
       "      <td>7.844801</td>\n",
       "    </tr>\n",
       "    <tr>\n",
       "      <th>f2</th>\n",
       "      <td>100000.0</td>\n",
       "      <td>2.495128</td>\n",
       "      <td>3.473445</td>\n",
       "      <td>-11.970335</td>\n",
       "      <td>0.130359</td>\n",
       "      <td>2.484236</td>\n",
       "      <td>4.858794</td>\n",
       "      <td>16.739402</td>\n",
       "    </tr>\n",
       "    <tr>\n",
       "      <th>product</th>\n",
       "      <td>100000.0</td>\n",
       "      <td>95.000000</td>\n",
       "      <td>44.749921</td>\n",
       "      <td>0.000000</td>\n",
       "      <td>59.450441</td>\n",
       "      <td>94.925613</td>\n",
       "      <td>130.595027</td>\n",
       "      <td>190.029838</td>\n",
       "    </tr>\n",
       "  </tbody>\n",
       "</table>\n",
       "</div>"
      ],
      "text/plain": [
       "            count       mean        std        min        25%        50%  \\\n",
       "f0       100000.0   0.002023   1.732045  -8.760004  -1.162288   0.009424   \n",
       "f1       100000.0  -0.002081   1.730417  -7.084020  -1.174820  -0.009482   \n",
       "f2       100000.0   2.495128   3.473445 -11.970335   0.130359   2.484236   \n",
       "product  100000.0  95.000000  44.749921   0.000000  59.450441  94.925613   \n",
       "\n",
       "                75%         max  \n",
       "f0         1.158535    7.238262  \n",
       "f1         1.163678    7.844801  \n",
       "f2         4.858794   16.739402  \n",
       "product  130.595027  190.029838  "
      ]
     },
     "metadata": {},
     "output_type": "display_data"
    },
    {
     "name": "stdout",
     "output_type": "stream",
     "text": [
      "__________________________________________________\n",
      "\n",
      "Процент пропущенных значений:\n"
     ]
    },
    {
     "data": {
      "text/plain": [
       "id         0.0\n",
       "f0         0.0\n",
       "f1         0.0\n",
       "f2         0.0\n",
       "product    0.0\n",
       "dtype: float64"
      ]
     },
     "metadata": {},
     "output_type": "display_data"
    },
    {
     "name": "stdout",
     "output_type": "stream",
     "text": [
      "__________________________________________________\n",
      "\n",
      "Случайная выборка датафрейма:\n"
     ]
    },
    {
     "data": {
      "text/html": [
       "<div>\n",
       "<style scoped>\n",
       "    .dataframe tbody tr th:only-of-type {\n",
       "        vertical-align: middle;\n",
       "    }\n",
       "\n",
       "    .dataframe tbody tr th {\n",
       "        vertical-align: top;\n",
       "    }\n",
       "\n",
       "    .dataframe thead th {\n",
       "        text-align: right;\n",
       "    }\n",
       "</style>\n",
       "<table border=\"1\" class=\"dataframe\">\n",
       "  <thead>\n",
       "    <tr style=\"text-align: right;\">\n",
       "      <th></th>\n",
       "      <th>id</th>\n",
       "      <th>f0</th>\n",
       "      <th>f1</th>\n",
       "      <th>f2</th>\n",
       "      <th>product</th>\n",
       "    </tr>\n",
       "  </thead>\n",
       "  <tbody>\n",
       "    <tr>\n",
       "      <th>3582</th>\n",
       "      <td>GdnWX</td>\n",
       "      <td>-0.838132</td>\n",
       "      <td>-0.968042</td>\n",
       "      <td>4.074363</td>\n",
       "      <td>129.102262</td>\n",
       "    </tr>\n",
       "    <tr>\n",
       "      <th>60498</th>\n",
       "      <td>z2rQ2</td>\n",
       "      <td>0.370981</td>\n",
       "      <td>-0.573846</td>\n",
       "      <td>-3.568113</td>\n",
       "      <td>61.285744</td>\n",
       "    </tr>\n",
       "    <tr>\n",
       "      <th>53227</th>\n",
       "      <td>vZROH</td>\n",
       "      <td>0.856767</td>\n",
       "      <td>1.441619</td>\n",
       "      <td>4.895820</td>\n",
       "      <td>65.026246</td>\n",
       "    </tr>\n",
       "    <tr>\n",
       "      <th>21333</th>\n",
       "      <td>6AgeD</td>\n",
       "      <td>1.989628</td>\n",
       "      <td>-1.343347</td>\n",
       "      <td>3.242798</td>\n",
       "      <td>62.334048</td>\n",
       "    </tr>\n",
       "    <tr>\n",
       "      <th>3885</th>\n",
       "      <td>nXQ8W</td>\n",
       "      <td>2.194257</td>\n",
       "      <td>-2.180922</td>\n",
       "      <td>1.699123</td>\n",
       "      <td>150.002134</td>\n",
       "    </tr>\n",
       "  </tbody>\n",
       "</table>\n",
       "</div>"
      ],
      "text/plain": [
       "          id        f0        f1        f2     product\n",
       "3582   GdnWX -0.838132 -0.968042  4.074363  129.102262\n",
       "60498  z2rQ2  0.370981 -0.573846 -3.568113   61.285744\n",
       "53227  vZROH  0.856767  1.441619  4.895820   65.026246\n",
       "21333  6AgeD  1.989628 -1.343347  3.242798   62.334048\n",
       "3885   nXQ8W  2.194257 -2.180922  1.699123  150.002134"
      ]
     },
     "metadata": {},
     "output_type": "display_data"
    },
    {
     "name": "stdout",
     "output_type": "stream",
     "text": [
      "____________________________________________________________________________________________________\n",
      "\n",
      "Проверка на выбросы:\n"
     ]
    },
    {
     "data": {
      "image/png": "[encoded data removed]",
      "text/plain": [
       "<Figure size 1400x1400 with 4 Axes>"
      ]
     },
     "metadata": {},
     "output_type": "display_data"
    }
   ],
   "source": [
    "inf(df_geo_2)"
   ]
  },
  {
   "cell_type": "markdown",
   "metadata": {},
   "source": [
    "В датафрейме 100000 строк и 5 столбцов.  \n",
    "Данные поля \"id\" имеют тип \"object\", а \"f0\", \"f1\", \"f2\" и \"product\" - \"float64\".  \n",
    "Из 100000 значений \"id\" уникальных 99996: присутствуют дубликаты.  \n",
    "Присутствуют выбросы по признакам \"f0\", \"f1\" и \"f2\".  "
   ]
  },
  {
   "cell_type": "markdown",
   "metadata": {},
   "source": [
    "**Вывод:**  \n",
    "1. В датафрейме df_geo_0 100000 строк и 5 столбцов.  \n",
    "Данные поля \"id\" имеют тип \"object\", а \"f0\", \"f1\", \"f2\" и \"product\" - \"float64\".  \n",
    "Из 100000 значений \"id\" уникальных 99990: присутствуют дубликаты.  \n",
    "Присутствуют выбросы по признаку \"f2\".  \n",
    "\n",
    "2. В датафрейме df_geo_1 100000 строк и 5 столбцов.  \n",
    "Данные поля \"id\" имеют тип \"object\", а \"f0\", \"f1\", \"f2\" и \"product\" - \"float64\".  \n",
    "Из 100000 значений \"id\" уникальных 99990: присутствуют дубликаты.  \n",
    "Присутствуют выбросы по признаку \"f2\".  \n",
    "\n",
    "3. В датафрейме df_geo_2 100000 строк и 5 столбцов.  \n",
    "Данные поля \"id\" имеют тип \"object\", а \"f0\", \"f1\", \"f2\" и \"product\" - \"float64\".  \n",
    "Из 100000 значений \"id\" уникальных 99996: присутствуют дубликаты.  \n",
    "Присутствуют выбросы по признакам \"f0\", \"f1\" и \"f2\".  "
   ]
  },
  {
   "cell_type": "markdown",
   "metadata": {},
   "source": [
    "### Подготовка данных\n",
    "<a id=\"data_preparation\"></a>"
   ]
  },
  {
   "cell_type": "markdown",
   "metadata": {},
   "source": [
    "Удаляем дубликаты по \"id\":"
   ]
  },
  {
   "cell_type": "code",
   "execution_count": 10,
   "metadata": {},
   "outputs": [],
   "source": [
    "def drop_dupl(df):\n",
    "    df = (\n",
    "        df\n",
    "        .sort_values(by='product', ascending=True)\n",
    "        .drop_duplicates(['id'])\n",
    "        .reset_index(drop=True)\n",
    "    )\n",
    "    return df"
   ]
  },
  {
   "cell_type": "code",
   "execution_count": 11,
   "metadata": {},
   "outputs": [],
   "source": [
    "df_geo_0 = drop_dupl(df_geo_0)\n",
    "df_geo_1 = drop_dupl(df_geo_1)\n",
    "df_geo_2 = drop_dupl(df_geo_2)"
   ]
  },
  {
   "cell_type": "code",
   "execution_count": 12,
   "metadata": {
    "scrolled": true
   },
   "outputs": [
    {
     "name": "stdout",
     "output_type": "stream",
     "text": [
      "Количество точек в первом регионе: 99990\n",
      "Количество точек во втором регионе: 99996\n",
      "Количество точек в третьем регионе: 99996\n"
     ]
    }
   ],
   "source": [
    "print('Количество точек в первом регионе: {}'.format(df_geo_0.shape[0]))\n",
    "print('Количество точек во втором регионе: {}'.format(df_geo_1.shape[0]))\n",
    "print('Количество точек в третьем регионе: {}'.format(df_geo_2.shape[0]))"
   ]
  },
  {
   "cell_type": "markdown",
   "metadata": {},
   "source": [
    "**Вывод:**\n",
    "1. В каждом датафрейме по 100000 строк и 5 столбцов.  \n",
    "2. Данные поля \"id\" имеют тип \"object\", а \"f0\", \"f1\", \"f2\" и \"product\" - \"float64\".  \n",
    "3. Удалены дубликаты по \"id\".  \n",
    "4. В результате обработки в датафреймах остались данный по количеству точек:  \n",
    "- в первом регионе - 99990;  \n",
    "- во втором регионе - 99996;  \n",
    "- в третьем регионе - 99996.  "
   ]
  },
  {
   "cell_type": "markdown",
   "metadata": {},
   "source": [
    "## Обучение и проверка модели\n",
    "<a id=\"teach_and_check\"></a>"
   ]
  },
  {
   "cell_type": "markdown",
   "metadata": {},
   "source": [
    "Задаем общее значение параметра \"random_state\":"
   ]
  },
  {
   "cell_type": "code",
   "execution_count": 13,
   "metadata": {},
   "outputs": [],
   "source": [
    "RS = np.random.RandomState(5)"
   ]
  },
  {
   "cell_type": "markdown",
   "metadata": {},
   "source": [
    "Функция обучения модели:"
   ]
  },
  {
   "cell_type": "code",
   "execution_count": 14,
   "metadata": {},
   "outputs": [],
   "source": [
    "def pred_rmse(df):\n",
    "    features = df.drop(['id', 'product'], axis=1)\n",
    "    target = df['product']\n",
    "    features_train, features_valid, tadget_train, target_valid = train_test_split(features, target, test_size=0.25, random_state=RS)\n",
    "    features_train = features_train.reset_index(drop=True)\n",
    "    features_valid = features_valid.reset_index(drop=True)\n",
    "    tadget_train = tadget_train.reset_index(drop=True)\n",
    "    target_valid = target_valid.reset_index(drop=True)\n",
    "    print('Количество объектов в обучающей выборке: {}'.format(features_train.shape[0]))\n",
    "    print('Количество объектов в валидационной выборке: {}'.format(features_valid.shape[0]))\n",
    "    print()\n",
    "    \n",
    "    # масштабирование\n",
    "    def normal(df_train, df_valid):\n",
    "        numeric = ['f0', 'f1', 'f2']\n",
    "        \n",
    "        scaler = StandardScaler()\n",
    "        scaler.fit(df_train[numeric])\n",
    "        df_train = df_train.reset_index(drop=True)\n",
    "        df_train[numeric] = scaler.transform(df_train[numeric])\n",
    "        df_valid[numeric] = scaler.transform(df_valid[numeric])\n",
    "        return df_train, df_valid\n",
    "    \n",
    "    # обучение\n",
    "    def learn(df_features_train, df_target_train, df_features_valid, df_target_valid):\n",
    "        model = LinearRegression()\n",
    "        model.fit(df_features_train, df_target_train)\n",
    "        scores = abs(cross_val_score(model, df_features_train, df_target_train, scoring=\"neg_mean_squared_error\", cv=5)) ** 0.5\n",
    "        final_score = sum(scores) / len(scores)\n",
    "        target_predict = model.predict(df_features_valid)\n",
    "        target_predict_mean = target_predict.mean()\n",
    "        rmse = mean_squared_error(df_target_valid, target_predict) ** 0.5\n",
    "        return target_predict_mean, rmse, final_score, target_predict\n",
    "    \n",
    "    features_train_norm, features_valid_norm = normal(features_train, features_valid)\n",
    "\n",
    "    target_predict_mean, rmse, final_score, target_predict = learn(\n",
    "        features_train_norm, tadget_train, features_valid_norm, target_valid)\n",
    "    print('Средняя оценка качества модели (RMSE) по результатам кросс-валидации: {:.2f}.'.format(final_score))\n",
    "    print('RMSE модели на валидационной выборке: {:.2f}.'.format(rmse))\n",
    "    print()\n",
    "    print('Средний фактический запас сырья: {:.3f}.'.format(target_valid.mean()))\n",
    "    print('Средний предсказанный запас сырья: {:.3f}.'.format(target_predict_mean))\n",
    "    \n",
    "    target_predict = pd.Series(target_predict, name='target_predict')\n",
    "    \n",
    "    df_valid = pd.merge(features_valid, target_valid, left_index=True, right_index=True)\n",
    "    df_valid = pd.merge(df_valid, target_predict, left_index=True, right_index=True)\n",
    "\n",
    "    return target_valid, target_predict, target_predict_mean"
   ]
  },
  {
   "cell_type": "markdown",
   "metadata": {},
   "source": [
    "Обучаем модель для первого региона:"
   ]
  },
  {
   "cell_type": "code",
   "execution_count": 15,
   "metadata": {},
   "outputs": [
    {
     "name": "stdout",
     "output_type": "stream",
     "text": [
      "Количество объектов в обучающей выборке: 74992\n",
      "Количество объектов в валидационной выборке: 24998\n",
      "\n",
      "Средняя оценка качества модели (RMSE) по результатам кросс-валидации: 37.71.\n",
      "RMSE модели на валидационной выборке: 37.63.\n",
      "\n",
      "Средний фактический запас сырья: 92.321.\n",
      "Средний предсказанный запас сырья: 92.420.\n"
     ]
    }
   ],
   "source": [
    "target_valid_geo_0, target_predict_geo_0, target_predict_mean_geo_0 = pred_rmse(df_geo_0)"
   ]
  },
  {
   "cell_type": "markdown",
   "metadata": {},
   "source": [
    "Обучаем модель для второго региона:"
   ]
  },
  {
   "cell_type": "code",
   "execution_count": 16,
   "metadata": {},
   "outputs": [
    {
     "name": "stdout",
     "output_type": "stream",
     "text": [
      "Количество объектов в обучающей выборке: 74997\n",
      "Количество объектов в валидационной выборке: 24999\n",
      "\n",
      "Средняя оценка качества модели (RMSE) по результатам кросс-валидации: 0.89.\n",
      "RMSE модели на валидационной выборке: 0.89.\n",
      "\n",
      "Средний фактический запас сырья: 69.010.\n",
      "Средний предсказанный запас сырья: 69.013.\n"
     ]
    }
   ],
   "source": [
    "target_valid_geo_1, target_predict_geo_1, target_predict_mean_geo_1 = pred_rmse(df_geo_1)"
   ]
  },
  {
   "cell_type": "markdown",
   "metadata": {},
   "source": [
    "Обучаем модель для третьего региона:"
   ]
  },
  {
   "cell_type": "code",
   "execution_count": 17,
   "metadata": {},
   "outputs": [
    {
     "name": "stdout",
     "output_type": "stream",
     "text": [
      "Количество объектов в обучающей выборке: 74997\n",
      "Количество объектов в валидационной выборке: 24999\n",
      "\n",
      "Средняя оценка качества модели (RMSE) по результатам кросс-валидации: 40.02.\n",
      "RMSE модели на валидационной выборке: 40.17.\n",
      "\n",
      "Средний фактический запас сырья: 95.166.\n",
      "Средний предсказанный запас сырья: 94.867.\n"
     ]
    }
   ],
   "source": [
    "target_valid_geo_2, target_predict_geo_2, target_predict_mean_geo_2 = pred_rmse(df_geo_2)"
   ]
  },
  {
   "cell_type": "markdown",
   "metadata": {},
   "source": [
    "**Вывод:**\n",
    "1. Значения RMSE на валидационной выборке: \n",
    "- первый регион - 37.57;\n",
    "- второй регион - 0.89;\n",
    "- третий регион - 40.00;  \n",
    "\n",
    "В данных по первому и третьему регионам прослеживается низкая линейная зависимость целевого признака от признаков: высокие значения RMSE.  \n",
    "\n",
    "2. Средние предсказанные запасы сырья:\n",
    "- первый регион - 92.260 тысяч тонн;\n",
    "- второй регион - 69.067 тысяч тонн;\n",
    "- третий регион - 95.039 тысяч тонн;"
   ]
  },
  {
   "cell_type": "markdown",
   "metadata": {},
   "source": [
    "## Подготовка к расчёту прибыли\n",
    "<a id=\"profit_preparation\"></a>"
   ]
  },
  {
   "cell_type": "markdown",
   "metadata": {},
   "source": [
    "Задаем параметры расчёта прибыли:"
   ]
  },
  {
   "cell_type": "code",
   "execution_count": 18,
   "metadata": {},
   "outputs": [],
   "source": [
    "BUDGET = 10 * 10**9                       # бюджет на разработку месторождений\n",
    "CHOOSE_WELLS = 500                        # количество рассматриваемых для выбора объектов\n",
    "NUMBER_OF_WELLS = 200                     # количество выбранных объектов\n",
    "BOOTSTRAP_CNT = 1000                      # количество итераций bootstrap\n",
    "PROFIT_PER_UNIT = 450000                  # доход с единицы продукта\n",
    "ALPHA = 0.025                             # нижняя граница доверительного интервала"
   ]
  },
  {
   "cell_type": "markdown",
   "metadata": {},
   "source": [
    "Рассчитываем объём сырья, достаточный для безубыточной разработки новой скважины:"
   ]
  },
  {
   "cell_type": "code",
   "execution_count": 19,
   "metadata": {},
   "outputs": [
    {
     "name": "stdout",
     "output_type": "stream",
     "text": [
      "Объём сырья, достаточный для безубыточной разработки новой скважины: 111.11 тысяч тонн.\n"
     ]
    }
   ],
   "source": [
    "required_volume = BUDGET / (NUMBER_OF_WELLS * PROFIT_PER_UNIT)\n",
    "print('Объём сырья, достаточный для безубыточной разработки новой скважины: {:.2f} тысяч тонн.'.format(required_volume))"
   ]
  },
  {
   "cell_type": "code",
   "execution_count": 20,
   "metadata": {
    "scrolled": false
   },
   "outputs": [
    {
     "name": "stdout",
     "output_type": "stream",
     "text": [
      "В первом регионе средний объем добычи составляет 83.2% от объема, необходимого для безубыточной разработки новой скважины.\n",
      "Во втором регионе средний объем добычи составляет 62.1% от объема, необходимого для безубыточной разработки новой скважины.\n",
      "В третьем регионе средний объем добычи составляет 85.4% от объема, необходимого для безубыточной разработки новой скважины.\n"
     ]
    }
   ],
   "source": [
    "print('В первом регионе средний объем добычи составляет {:.1%} от объема, необходимого для безубыточной разработки новой скважины.'\\\n",
    "      .format(target_predict_mean_geo_0 / required_volume))\n",
    "print('Во втором регионе средний объем добычи составляет {:.1%} от объема, необходимого для безубыточной разработки новой скважины.'\\\n",
    "      .format(target_predict_mean_geo_1 / required_volume))\n",
    "print('В третьем регионе средний объем добычи составляет {:.1%} от объема, необходимого для безубыточной разработки новой скважины.'\\\n",
    "      .format(target_predict_mean_geo_2 / required_volume))"
   ]
  },
  {
   "cell_type": "markdown",
   "metadata": {},
   "source": [
    "Функция расчёта прибыли по выбранным скважинам и предсказаниям модели:"
   ]
  },
  {
   "cell_type": "code",
   "execution_count": 21,
   "metadata": {},
   "outputs": [],
   "source": [
    "def profit_calculation(target, predict, count):\n",
    "    probs_sorted = predict.sort_values(ascending=False)\n",
    "    selected = target[probs_sorted.index][:NUMBER_OF_WELLS]\n",
    "    profit = (selected - required_volume).sum() * PROFIT_PER_UNIT\n",
    "    return profit"
   ]
  },
  {
   "cell_type": "markdown",
   "metadata": {},
   "source": [
    "## Расчёт прибыли и рисков \n",
    "<a id=\"profit\"></a>"
   ]
  },
  {
   "cell_type": "markdown",
   "metadata": {},
   "source": [
    "### Расчёт прибыли для двухсот лучших по прогнозам точек каждого региона\n",
    "<a id=\"profit_200_best\"></a>"
   ]
  },
  {
   "cell_type": "markdown",
   "metadata": {},
   "source": [
    "Рассчитываем прибыль с двухсот лучших по предсказаниям точек первого региона:"
   ]
  },
  {
   "cell_type": "code",
   "execution_count": 22,
   "metadata": {},
   "outputs": [
    {
     "name": "stdout",
     "output_type": "stream",
     "text": [
      "Прибыль с 200-от лучших по прогнозу скважин для первого региона: 3.24 млрд.\n"
     ]
    }
   ],
   "source": [
    "profit_geo_0 = profit_calculation(target_valid_geo_0, target_predict_geo_0, NUMBER_OF_WELLS)\n",
    "print('Прибыль с 200-от лучших по прогнозу скважин для первого региона: {:.2f} млрд.'.format(profit_geo_0 / 1000000000))"
   ]
  },
  {
   "cell_type": "markdown",
   "metadata": {},
   "source": [
    "Рассчитываем прибыль с двухсот лучших по предсказаниям точек второго региона:"
   ]
  },
  {
   "cell_type": "code",
   "execution_count": 23,
   "metadata": {},
   "outputs": [
    {
     "name": "stdout",
     "output_type": "stream",
     "text": [
      "Прибыль с 200-от лучших по прогнозу скважин для второго региона: 2.42 млрд.\n"
     ]
    }
   ],
   "source": [
    "profit_geo_1 = profit_calculation(target_valid_geo_1, target_predict_geo_1, NUMBER_OF_WELLS)\n",
    "print('Прибыль с 200-от лучших по прогнозу скважин для второго региона: {:.2f} млрд.'.format(profit_geo_1 / 1000000000))"
   ]
  },
  {
   "cell_type": "markdown",
   "metadata": {},
   "source": [
    "Рассчитываем прибыль с двухсот лучших по предсказаниям точек третьего региона:"
   ]
  },
  {
   "cell_type": "code",
   "execution_count": 24,
   "metadata": {},
   "outputs": [
    {
     "name": "stdout",
     "output_type": "stream",
     "text": [
      "Прибыль с 200-от лучших по прогнозу скважин для третьего региона: 2.60 млрд.\n"
     ]
    }
   ],
   "source": [
    "profit_geo_2 = profit_calculation(target_valid_geo_2, target_predict_geo_2, NUMBER_OF_WELLS)\n",
    "print('Прибыль с 200-от лучших по прогнозу скважин для третьего региона: {:.2f} млрд.'.format(profit_geo_2 / 1000000000))"
   ]
  },
  {
   "cell_type": "markdown",
   "metadata": {},
   "source": [
    "### Расчёт рисков и прибыли для каждого региона\n",
    "<a id=\"profit_200_from_500\"></a>"
   ]
  },
  {
   "cell_type": "markdown",
   "metadata": {},
   "source": [
    "Функция расчёта рисков и прибыли:"
   ]
  },
  {
   "cell_type": "code",
   "execution_count": 27,
   "metadata": {},
   "outputs": [],
   "source": [
    "def bootstrap(target, probabilities):\n",
    "    values = []\n",
    "    for i in range(BOOTSTRAP_CNT):\n",
    "        probabilities_sample = probabilities.sample(n=CHOOSE_WELLS, replace=True, random_state=RS)\n",
    "        target_sample = target[probabilities_sample.index]\n",
    "        values.append(profit_calculation(target_sample, probabilities_sample, CHOOSE_WELLS))\n",
    "    values = pd.Series(values, name='values')\n",
    "    \n",
    "    lower = values.quantile(ALPHA)\n",
    "    higher = values.quantile(1 - ALPHA)\n",
    "\n",
    "    print('Среднее значение прибыли: {:.1f} млн.'.format(values.mean() / 1000000))\n",
    "    print('Значение квантиля {}: {:.1f} млн.'.format(ALPHA, lower / 1000000))\n",
    "    print('Значение квантиля {}: {:.1f} млн.'.format(1 - ALPHA, higher / 1000000))\n",
    "    print('Вероятность убытков: {:.1%}'.format((values<0).mean()))\n",
    "    return None"
   ]
  },
  {
   "cell_type": "markdown",
   "metadata": {},
   "source": [
    "Рассчитываем риски и прибыль для первого региона:"
   ]
  },
  {
   "cell_type": "code",
   "execution_count": 28,
   "metadata": {},
   "outputs": [
    {
     "name": "stdout",
     "output_type": "stream",
     "text": [
      "Среднее значение прибыли: 427.0 млн.\n",
      "Значение квантиля 0.025: -127.7 млн.\n",
      "Значение квантиля 0.975: 969.1 млн.\n",
      "Вероятность убытков: 7.0%\n"
     ]
    }
   ],
   "source": [
    "bootstrap(target_valid_geo_0, target_predict_geo_0)"
   ]
  },
  {
   "cell_type": "markdown",
   "metadata": {},
   "source": [
    "Рассчитываем риски и прибыль для второго региона:"
   ]
  },
  {
   "cell_type": "code",
   "execution_count": 29,
   "metadata": {},
   "outputs": [
    {
     "name": "stdout",
     "output_type": "stream",
     "text": [
      "Среднее значение прибыли: 534.8 млн.\n",
      "Значение квантиля 0.025: 118.1 млн.\n",
      "Значение квантиля 0.975: 954.4 млн.\n",
      "Вероятность убытков: 0.8%\n"
     ]
    }
   ],
   "source": [
    "bootstrap(target_valid_geo_1, target_predict_geo_1)"
   ]
  },
  {
   "cell_type": "markdown",
   "metadata": {},
   "source": [
    "Рассчитываем риски и прибыль для третьего региона:"
   ]
  },
  {
   "cell_type": "code",
   "execution_count": 30,
   "metadata": {},
   "outputs": [
    {
     "name": "stdout",
     "output_type": "stream",
     "text": [
      "Среднее значение прибыли: 421.2 млн.\n",
      "Значение квантиля 0.025: -146.6 млн.\n",
      "Значение квантиля 0.975: 936.0 млн.\n",
      "Вероятность убытков: 7.7%\n"
     ]
    }
   ],
   "source": [
    "bootstrap(target_valid_geo_2, target_predict_geo_2)"
   ]
  },
  {
   "cell_type": "markdown",
   "metadata": {},
   "source": [
    "**Вывод:**\n",
    "1. Прибыль с 200-от лучших по прогнозу скважин для:  \n",
    "- первого региона - 3.39 млрд;  \n",
    "- второго региона - 2.42 млрд;  \n",
    "- третьего региона - 2.63 млрд;  \n",
    "2. Данные по прибыли с 200-от лучших по прогнозу скважин из 1000 выборок в 500 точек для первого региона:  \n",
    "- среднее значение прибыли: 452.9 млн;  \n",
    "- значение квантиля 0.025: -108.6 млн;  \n",
    "- значение квантиля 0.975: 956.2 млн;  \n",
    "- вероятность убытков: 5.2%.  \n",
    "3. Данные по прибыли с 200-от лучших по прогнозу скважин из 1000 выборок в 500 точек для второго региона:  \n",
    "- среднее значение прибыли: 530.8 млн;  \n",
    "- значение квантиля 0.025: 112.4 млн;  \n",
    "- значение квантиля 0.975: 956.6 млн;  \n",
    "- вероятность убытков: 0.6%.  \n",
    "4. Данные по прибыли с 200-от лучших по прогнозу скважин из 1000 выборок в 500 точек для третьего региона:  \n",
    "- среднее значение прибыли: 392.7 млн;  \n",
    "- значение квантиля 0.025: -143.0 млн;  \n",
    "- значение квантиля 0.975: 946.7 млн;  \n",
    "- вероятность убытков: 8.0%.  \n",
    "5. Второй регион является приоритетным для инвестирования: наибольшая средняя прибыль с двухсот лучших скважин из тысячи выборок в пятьсот точек и наименьший риск возникновения убытка."
   ]
  },
  {
   "cell_type": "markdown",
   "metadata": {},
   "source": [
    "## Общий вывод\n",
    "<a id=\"final\"></a>"
   ]
  },
  {
   "cell_type": "markdown",
   "metadata": {},
   "source": [
    "**Загрузка и подготовка данных**  \n",
    "1. В каждом датафрейме по 100000 строк и 5 столбцов.  \n",
    "2. Данные поля \"id\" имеют тип \"object\", а \"f0\", \"f1\", \"f2\" и \"product\" - \"float64\".  \n",
    "3. Удалены дубликаты по \"id\".  \n",
    "4. В результате обработки в датафреймах остались данный по количеству точек:  \n",
    "- в первом регионе - 99990;  \n",
    "- во втором регионе - 99996;  \n",
    "- в третьем регионе - 99996.  \n",
    "\n",
    "**Обучение и проверка модели**  \n",
    "1. Значения RMSE на валидационной выборке: \n",
    "- первый регион - 37.57;\n",
    "- второй регион - 0.89;\n",
    "- третий регион - 40.00;  \n",
    "\n",
    "В данных по первому и третьему регионам прослеживается низкая линейная зависимость целевого признака от признаков: высокие значения RMSE.  \n",
    "\n",
    "2. Средние предсказанные запасы сырья:\n",
    "- первый регион - 92.260 тысяч тонн;\n",
    "- второй регион - 69.067 тысяч тонн;\n",
    "- третий регион - 95.039 тысяч тонн;\n",
    "\n",
    "**Расчёт прибыли**  \n",
    "1. Прибыль с 200-от лучших по прогнозу скважин для:  \n",
    "- первого региона - 3.39 млрд;  \n",
    "- второго региона - 2.42 млрд;  \n",
    "- третьего региона - 2.63 млрд;  \n",
    "2. Данные по прибыли с 200-от лучших по прогнозу скважин из 1000 выборок в 500 точек для первого региона:  \n",
    "- среднее значение прибыли: 452.9 млн;  \n",
    "- значение квантиля 0.025: -108.6 млн;  \n",
    "- значение квантиля 0.975: 956.2 млн;  \n",
    "- вероятность убытков: 5.2%.  \n",
    "3. Данные по прибыли с 200-от лучших по прогнозу скважин из 1000 выборок в 500 точек для второго региона:  \n",
    "- среднее значение прибыли: 530.8 млн;  \n",
    "- значение квантиля 0.025: 112.4 млн;  \n",
    "- значение квантиля 0.975: 956.6 млн;  \n",
    "- вероятность убытков: 0.6%.  \n",
    "4. Данные по прибыли с 200-от лучших по прогнозу скважин из 1000 выборок в 500 точек для третьего региона:  \n",
    "- среднее значение прибыли: 392.7 млн;  \n",
    "- значение квантиля 0.025: -143.0 млн;  \n",
    "- значение квантиля 0.975: 946.7 млн;  \n",
    "- вероятность убытков: 8.0%.  \n",
    "5. Второй регион является приоритетным для инвестирования: наибольшая средняя прибыль с двухсот лучших скважин из тысячи выборок в пятьсот точек и наименьший риск возникновения убытка."
   ]
  }
 ],
 "metadata": {
  "ExecuteTimeLog": [
   {
    "duration": 1534,
    "start_time": "2023-01-04T20:46:39.282Z"
   },
   {
    "duration": 2010,
    "start_time": "2023-01-04T20:47:05.392Z"
   },
   {
    "duration": 10,
    "start_time": "2023-01-04T20:47:51.052Z"
   },
   {
    "duration": 64,
    "start_time": "2023-01-04T20:54:48.431Z"
   },
   {
    "duration": 76,
    "start_time": "2023-01-04T20:55:07.412Z"
   },
   {
    "duration": 70,
    "start_time": "2023-01-04T20:57:38.441Z"
   },
   {
    "duration": 3,
    "start_time": "2023-01-04T20:57:48.491Z"
   },
   {
    "duration": 366,
    "start_time": "2023-01-04T20:57:48.912Z"
   },
   {
    "duration": 7,
    "start_time": "2023-01-04T20:57:49.642Z"
   },
   {
    "duration": 666,
    "start_time": "2023-01-04T20:57:50.231Z"
   },
   {
    "duration": 662,
    "start_time": "2023-01-04T20:57:51.421Z"
   },
   {
    "duration": 778,
    "start_time": "2023-01-04T20:57:53.721Z"
   },
   {
    "duration": 50,
    "start_time": "2023-01-04T20:57:56.371Z"
   },
   {
    "duration": 66,
    "start_time": "2023-01-04T20:57:57.532Z"
   },
   {
    "duration": 4,
    "start_time": "2023-01-04T20:58:03.292Z"
   },
   {
    "duration": 192,
    "start_time": "2023-01-04T20:58:04.121Z"
   },
   {
    "duration": 4,
    "start_time": "2023-01-04T20:58:05.571Z"
   },
   {
    "duration": 1348,
    "start_time": "2023-01-04T21:06:22.872Z"
   },
   {
    "duration": 372,
    "start_time": "2023-01-04T21:06:24.223Z"
   },
   {
    "duration": 7,
    "start_time": "2023-01-04T21:06:24.597Z"
   },
   {
    "duration": 724,
    "start_time": "2023-01-04T21:06:24.605Z"
   },
   {
    "duration": 746,
    "start_time": "2023-01-04T21:06:25.331Z"
   },
   {
    "duration": 784,
    "start_time": "2023-01-04T21:06:26.079Z"
   },
   {
    "duration": 77,
    "start_time": "2023-01-04T21:06:26.865Z"
   },
   {
    "duration": 4,
    "start_time": "2023-01-04T21:06:26.943Z"
   },
   {
    "duration": 184,
    "start_time": "2023-01-04T21:06:26.948Z"
   },
   {
    "duration": 4,
    "start_time": "2023-01-04T21:06:27.134Z"
   },
   {
    "duration": 18,
    "start_time": "2023-01-04T21:06:27.140Z"
   },
   {
    "duration": 20,
    "start_time": "2023-01-04T21:06:27.159Z"
   },
   {
    "duration": 954,
    "start_time": "2023-01-04T21:06:27.181Z"
   },
   {
    "duration": 1502,
    "start_time": "2023-01-04T21:06:28.226Z"
   },
   {
    "duration": 1093,
    "start_time": "2023-01-04T21:06:29.730Z"
   },
   {
    "duration": 3,
    "start_time": "2023-01-04T21:10:06.322Z"
   },
   {
    "duration": 3,
    "start_time": "2023-01-04T21:10:35.371Z"
   },
   {
    "duration": 4,
    "start_time": "2023-01-04T21:10:55.932Z"
   },
   {
    "duration": 74,
    "start_time": "2023-01-04T21:13:00.809Z"
   },
   {
    "duration": 1346,
    "start_time": "2023-01-04T21:16:56.132Z"
   },
   {
    "duration": 348,
    "start_time": "2023-01-04T21:16:57.480Z"
   },
   {
    "duration": 8,
    "start_time": "2023-01-04T21:16:57.830Z"
   },
   {
    "duration": 719,
    "start_time": "2023-01-04T21:16:57.840Z"
   },
   {
    "duration": 637,
    "start_time": "2023-01-04T21:16:58.561Z"
   },
   {
    "duration": 747,
    "start_time": "2023-01-04T21:16:59.200Z"
   },
   {
    "duration": 73,
    "start_time": "2023-01-04T21:16:59.949Z"
   },
   {
    "duration": 3,
    "start_time": "2023-01-04T21:17:00.023Z"
   },
   {
    "duration": 181,
    "start_time": "2023-01-04T21:17:00.028Z"
   },
   {
    "duration": 4,
    "start_time": "2023-01-04T21:17:00.212Z"
   },
   {
    "duration": 5,
    "start_time": "2023-01-04T21:17:00.222Z"
   },
   {
    "duration": 13,
    "start_time": "2023-01-04T21:17:00.229Z"
   },
   {
    "duration": 977,
    "start_time": "2023-01-04T21:17:00.244Z"
   },
   {
    "duration": 1008,
    "start_time": "2023-01-04T21:17:01.225Z"
   },
   {
    "duration": 1194,
    "start_time": "2023-01-04T21:17:02.236Z"
   },
   {
    "duration": 91,
    "start_time": "2023-01-04T21:17:03.432Z"
   },
   {
    "duration": 105,
    "start_time": "2023-01-04T21:17:03.525Z"
   },
   {
    "duration": 6,
    "start_time": "2023-01-04T21:17:03.632Z"
   },
   {
    "duration": 6,
    "start_time": "2023-01-04T21:17:03.640Z"
   },
   {
    "duration": 12,
    "start_time": "2023-01-04T21:17:03.647Z"
   },
   {
    "duration": 8,
    "start_time": "2023-01-04T21:17:03.661Z"
   },
   {
    "duration": 8,
    "start_time": "2023-01-04T21:17:03.670Z"
   },
   {
    "duration": 6,
    "start_time": "2023-01-04T21:17:03.679Z"
   },
   {
    "duration": 126,
    "start_time": "2023-01-04T21:17:03.686Z"
   },
   {
    "duration": 0,
    "start_time": "2023-01-04T21:17:03.814Z"
   },
   {
    "duration": 0,
    "start_time": "2023-01-04T21:17:03.815Z"
   },
   {
    "duration": 1348,
    "start_time": "2023-01-04T21:17:27.784Z"
   },
   {
    "duration": 1368,
    "start_time": "2023-01-04T21:17:29.134Z"
   },
   {
    "duration": 1393,
    "start_time": "2023-01-04T21:17:30.504Z"
   },
   {
    "duration": 1264,
    "start_time": "2023-01-04T21:23:55.785Z"
   },
   {
    "duration": 351,
    "start_time": "2023-01-04T21:23:57.051Z"
   },
   {
    "duration": 6,
    "start_time": "2023-01-04T21:23:57.404Z"
   },
   {
    "duration": 684,
    "start_time": "2023-01-04T21:23:57.412Z"
   },
   {
    "duration": 652,
    "start_time": "2023-01-04T21:23:58.098Z"
   },
   {
    "duration": 718,
    "start_time": "2023-01-04T21:23:58.752Z"
   },
   {
    "duration": 74,
    "start_time": "2023-01-04T21:23:59.472Z"
   },
   {
    "duration": 3,
    "start_time": "2023-01-04T21:23:59.548Z"
   },
   {
    "duration": 161,
    "start_time": "2023-01-04T21:23:59.552Z"
   },
   {
    "duration": 6,
    "start_time": "2023-01-04T21:23:59.715Z"
   },
   {
    "duration": 3,
    "start_time": "2023-01-04T21:23:59.723Z"
   },
   {
    "duration": 11,
    "start_time": "2023-01-04T21:23:59.727Z"
   },
   {
    "duration": 893,
    "start_time": "2023-01-04T21:23:59.740Z"
   },
   {
    "duration": 1187,
    "start_time": "2023-01-04T21:24:00.636Z"
   },
   {
    "duration": 996,
    "start_time": "2023-01-04T21:24:01.834Z"
   },
   {
    "duration": 93,
    "start_time": "2023-01-04T21:24:02.832Z"
   },
   {
    "duration": 101,
    "start_time": "2023-01-04T21:24:02.930Z"
   },
   {
    "duration": 7,
    "start_time": "2023-01-04T21:24:03.032Z"
   },
   {
    "duration": 7,
    "start_time": "2023-01-04T21:24:03.040Z"
   },
   {
    "duration": 18,
    "start_time": "2023-01-04T21:24:03.048Z"
   },
   {
    "duration": 11,
    "start_time": "2023-01-04T21:24:03.067Z"
   },
   {
    "duration": 8,
    "start_time": "2023-01-04T21:24:03.080Z"
   },
   {
    "duration": 8,
    "start_time": "2023-01-04T21:24:03.089Z"
   },
   {
    "duration": 1407,
    "start_time": "2023-01-04T21:24:03.098Z"
   },
   {
    "duration": 1331,
    "start_time": "2023-01-04T21:24:04.506Z"
   },
   {
    "duration": 1340,
    "start_time": "2023-01-04T21:24:05.839Z"
   },
   {
    "duration": 3,
    "start_time": "2023-01-04T21:28:10.504Z"
   },
   {
    "duration": 1526,
    "start_time": "2023-01-08T21:18:59.839Z"
   },
   {
    "duration": 759,
    "start_time": "2023-01-08T21:19:01.367Z"
   },
   {
    "duration": 7,
    "start_time": "2023-01-08T21:19:02.128Z"
   },
   {
    "duration": 769,
    "start_time": "2023-01-08T21:19:02.136Z"
   },
   {
    "duration": 659,
    "start_time": "2023-01-08T21:19:02.908Z"
   },
   {
    "duration": 799,
    "start_time": "2023-01-08T21:19:03.569Z"
   },
   {
    "duration": 78,
    "start_time": "2023-01-08T21:19:04.371Z"
   },
   {
    "duration": 4,
    "start_time": "2023-01-08T21:19:04.451Z"
   },
   {
    "duration": 154,
    "start_time": "2023-01-08T21:19:04.456Z"
   },
   {
    "duration": 5,
    "start_time": "2023-01-08T21:19:04.612Z"
   },
   {
    "duration": 7,
    "start_time": "2023-01-08T21:19:04.619Z"
   },
   {
    "duration": 23,
    "start_time": "2023-01-08T21:19:04.627Z"
   },
   {
    "duration": 1265,
    "start_time": "2023-01-08T21:19:04.651Z"
   },
   {
    "duration": 1202,
    "start_time": "2023-01-08T21:19:05.920Z"
   },
   {
    "duration": 1003,
    "start_time": "2023-01-08T21:19:07.124Z"
   },
   {
    "duration": 87,
    "start_time": "2023-01-08T21:19:08.130Z"
   },
   {
    "duration": 102,
    "start_time": "2023-01-08T21:19:08.220Z"
   },
   {
    "duration": 9,
    "start_time": "2023-01-08T21:19:08.325Z"
   },
   {
    "duration": 6,
    "start_time": "2023-01-08T21:19:08.336Z"
   },
   {
    "duration": 12,
    "start_time": "2023-01-08T21:19:08.343Z"
   },
   {
    "duration": 111,
    "start_time": "2023-01-08T21:19:08.356Z"
   },
   {
    "duration": 0,
    "start_time": "2023-01-08T21:19:08.468Z"
   },
   {
    "duration": 0,
    "start_time": "2023-01-08T21:19:08.469Z"
   },
   {
    "duration": 0,
    "start_time": "2023-01-08T21:19:08.470Z"
   },
   {
    "duration": 0,
    "start_time": "2023-01-08T21:19:08.471Z"
   },
   {
    "duration": 0,
    "start_time": "2023-01-08T21:19:08.472Z"
   },
   {
    "duration": 1275,
    "start_time": "2023-01-08T21:21:08.379Z"
   },
   {
    "duration": 374,
    "start_time": "2023-01-08T21:21:09.656Z"
   },
   {
    "duration": 9,
    "start_time": "2023-01-08T21:21:10.031Z"
   },
   {
    "duration": 744,
    "start_time": "2023-01-08T21:21:10.042Z"
   },
   {
    "duration": 703,
    "start_time": "2023-01-08T21:21:10.788Z"
   },
   {
    "duration": 794,
    "start_time": "2023-01-08T21:21:11.493Z"
   },
   {
    "duration": 74,
    "start_time": "2023-01-08T21:21:12.289Z"
   },
   {
    "duration": 3,
    "start_time": "2023-01-08T21:21:12.364Z"
   },
   {
    "duration": 206,
    "start_time": "2023-01-08T21:21:12.369Z"
   },
   {
    "duration": 4,
    "start_time": "2023-01-08T21:21:12.578Z"
   },
   {
    "duration": 9,
    "start_time": "2023-01-08T21:21:12.584Z"
   },
   {
    "duration": 26,
    "start_time": "2023-01-08T21:21:12.594Z"
   },
   {
    "duration": 894,
    "start_time": "2023-01-08T21:21:12.622Z"
   },
   {
    "duration": 1300,
    "start_time": "2023-01-08T21:21:13.518Z"
   },
   {
    "duration": 1398,
    "start_time": "2023-01-08T21:21:14.820Z"
   },
   {
    "duration": 3,
    "start_time": "2023-01-08T21:21:16.220Z"
   },
   {
    "duration": 10,
    "start_time": "2023-01-08T21:21:16.224Z"
   },
   {
    "duration": 19,
    "start_time": "2023-01-08T21:21:16.235Z"
   },
   {
    "duration": 6,
    "start_time": "2023-01-08T21:21:16.256Z"
   },
   {
    "duration": 12,
    "start_time": "2023-01-08T21:21:16.263Z"
   },
   {
    "duration": 8,
    "start_time": "2023-01-08T21:21:16.277Z"
   },
   {
    "duration": 9,
    "start_time": "2023-01-08T21:21:16.287Z"
   },
   {
    "duration": 18,
    "start_time": "2023-01-08T21:21:16.297Z"
   },
   {
    "duration": 1426,
    "start_time": "2023-01-08T21:21:16.317Z"
   },
   {
    "duration": 1367,
    "start_time": "2023-01-08T21:21:17.744Z"
   },
   {
    "duration": 1349,
    "start_time": "2023-01-08T21:21:19.112Z"
   },
   {
    "duration": 1299,
    "start_time": "2023-01-08T21:22:28.328Z"
   },
   {
    "duration": 354,
    "start_time": "2023-01-08T21:22:29.629Z"
   },
   {
    "duration": 6,
    "start_time": "2023-01-08T21:22:29.985Z"
   },
   {
    "duration": 702,
    "start_time": "2023-01-08T21:22:29.993Z"
   },
   {
    "duration": 664,
    "start_time": "2023-01-08T21:22:30.698Z"
   },
   {
    "duration": 808,
    "start_time": "2023-01-08T21:22:31.364Z"
   },
   {
    "duration": 78,
    "start_time": "2023-01-08T21:22:32.174Z"
   },
   {
    "duration": 4,
    "start_time": "2023-01-08T21:22:32.253Z"
   },
   {
    "duration": 164,
    "start_time": "2023-01-08T21:22:32.258Z"
   },
   {
    "duration": 4,
    "start_time": "2023-01-08T21:22:32.425Z"
   },
   {
    "duration": 11,
    "start_time": "2023-01-08T21:22:32.431Z"
   },
   {
    "duration": 11,
    "start_time": "2023-01-08T21:22:32.444Z"
   },
   {
    "duration": 1259,
    "start_time": "2023-01-08T21:22:32.458Z"
   },
   {
    "duration": 1300,
    "start_time": "2023-01-08T21:22:33.719Z"
   },
   {
    "duration": 1298,
    "start_time": "2023-01-08T21:22:35.024Z"
   },
   {
    "duration": 93,
    "start_time": "2023-01-08T21:22:36.324Z"
   },
   {
    "duration": 16,
    "start_time": "2023-01-08T21:22:36.419Z"
   },
   {
    "duration": 13,
    "start_time": "2023-01-08T21:22:36.437Z"
   },
   {
    "duration": 8,
    "start_time": "2023-01-08T21:22:36.452Z"
   },
   {
    "duration": 12,
    "start_time": "2023-01-08T21:22:36.462Z"
   },
   {
    "duration": 7,
    "start_time": "2023-01-08T21:22:36.475Z"
   },
   {
    "duration": 7,
    "start_time": "2023-01-08T21:22:36.484Z"
   },
   {
    "duration": 5,
    "start_time": "2023-01-08T21:22:36.492Z"
   },
   {
    "duration": 1449,
    "start_time": "2023-01-08T21:22:36.498Z"
   },
   {
    "duration": 1468,
    "start_time": "2023-01-08T21:22:37.949Z"
   },
   {
    "duration": 1444,
    "start_time": "2023-01-08T21:22:39.419Z"
   },
   {
    "duration": 1448,
    "start_time": "2023-01-09T03:59:26.632Z"
   },
   {
    "duration": 1629,
    "start_time": "2023-01-09T03:59:28.082Z"
   },
   {
    "duration": 8,
    "start_time": "2023-01-09T03:59:29.712Z"
   },
   {
    "duration": 753,
    "start_time": "2023-01-09T03:59:29.721Z"
   },
   {
    "duration": 718,
    "start_time": "2023-01-09T03:59:30.476Z"
   },
   {
    "duration": 793,
    "start_time": "2023-01-09T03:59:31.196Z"
   },
   {
    "duration": 74,
    "start_time": "2023-01-09T03:59:31.990Z"
   },
   {
    "duration": 12,
    "start_time": "2023-01-09T03:59:32.066Z"
   },
   {
    "duration": 202,
    "start_time": "2023-01-09T03:59:32.079Z"
   },
   {
    "duration": 4,
    "start_time": "2023-01-09T03:59:32.283Z"
   },
   {
    "duration": 14,
    "start_time": "2023-01-09T03:59:32.289Z"
   },
   {
    "duration": 18,
    "start_time": "2023-01-09T03:59:32.304Z"
   },
   {
    "duration": 1154,
    "start_time": "2023-01-09T03:59:32.324Z"
   },
   {
    "duration": 1295,
    "start_time": "2023-01-09T03:59:33.483Z"
   },
   {
    "duration": 999,
    "start_time": "2023-01-09T03:59:34.780Z"
   },
   {
    "duration": 4,
    "start_time": "2023-01-09T03:59:35.785Z"
   },
   {
    "duration": 71,
    "start_time": "2023-01-09T03:59:35.879Z"
   },
   {
    "duration": 41,
    "start_time": "2023-01-09T03:59:35.952Z"
   },
   {
    "duration": 41,
    "start_time": "2023-01-09T03:59:35.995Z"
   },
   {
    "duration": 40,
    "start_time": "2023-01-09T03:59:36.038Z"
   },
   {
    "duration": 40,
    "start_time": "2023-01-09T03:59:36.080Z"
   },
   {
    "duration": 34,
    "start_time": "2023-01-09T03:59:36.121Z"
   },
   {
    "duration": 30,
    "start_time": "2023-01-09T03:59:36.157Z"
   },
   {
    "duration": 1500,
    "start_time": "2023-01-09T03:59:36.188Z"
   },
   {
    "duration": 1423,
    "start_time": "2023-01-09T03:59:37.690Z"
   },
   {
    "duration": 1400,
    "start_time": "2023-01-09T03:59:39.115Z"
   },
   {
    "duration": 1648,
    "start_time": "2023-01-10T17:27:45.287Z"
   },
   {
    "duration": 2033,
    "start_time": "2023-01-10T17:27:46.937Z"
   },
   {
    "duration": 8,
    "start_time": "2023-01-10T17:27:48.972Z"
   },
   {
    "duration": 833,
    "start_time": "2023-01-10T17:27:48.982Z"
   },
   {
    "duration": 794,
    "start_time": "2023-01-10T17:27:49.816Z"
   },
   {
    "duration": 818,
    "start_time": "2023-01-10T17:27:50.614Z"
   },
   {
    "duration": 3,
    "start_time": "2023-01-10T17:27:52.488Z"
   },
   {
    "duration": 162,
    "start_time": "2023-01-10T17:27:52.767Z"
   },
   {
    "duration": 3,
    "start_time": "2023-01-10T17:27:53.167Z"
   },
   {
    "duration": 3,
    "start_time": "2023-01-10T17:27:54.877Z"
   },
   {
    "duration": 9,
    "start_time": "2023-01-10T17:27:55.648Z"
   },
   {
    "duration": 142,
    "start_time": "2023-01-10T17:27:59.197Z"
   },
   {
    "duration": 11,
    "start_time": "2023-01-10T17:30:40.746Z"
   },
   {
    "duration": 48,
    "start_time": "2023-01-10T17:30:42.268Z"
   },
   {
    "duration": 10,
    "start_time": "2023-01-10T17:33:03.456Z"
   },
   {
    "duration": 53,
    "start_time": "2023-01-10T17:33:04.596Z"
   },
   {
    "duration": 10,
    "start_time": "2023-01-10T17:33:42.826Z"
   },
   {
    "duration": 47,
    "start_time": "2023-01-10T17:33:43.716Z"
   },
   {
    "duration": 11,
    "start_time": "2023-01-10T17:34:42.226Z"
   },
   {
    "duration": 49,
    "start_time": "2023-01-10T17:34:43.036Z"
   },
   {
    "duration": 11,
    "start_time": "2023-01-10T17:35:05.165Z"
   },
   {
    "duration": 884,
    "start_time": "2023-01-10T17:35:06.035Z"
   },
   {
    "duration": 9,
    "start_time": "2023-01-10T17:36:04.385Z"
   },
   {
    "duration": 514,
    "start_time": "2023-01-10T17:36:05.105Z"
   },
   {
    "duration": 8,
    "start_time": "2023-01-10T17:36:24.805Z"
   },
   {
    "duration": 359,
    "start_time": "2023-01-10T17:36:25.564Z"
   },
   {
    "duration": 389,
    "start_time": "2023-01-10T17:36:32.935Z"
   },
   {
    "duration": 441,
    "start_time": "2023-01-10T17:36:37.374Z"
   },
   {
    "duration": 9,
    "start_time": "2023-01-10T17:37:57.204Z"
   },
   {
    "duration": 347,
    "start_time": "2023-01-10T17:37:58.374Z"
   },
   {
    "duration": 10,
    "start_time": "2023-01-10T17:38:11.745Z"
   },
   {
    "duration": 964,
    "start_time": "2023-01-10T17:38:12.555Z"
   },
   {
    "duration": 9,
    "start_time": "2023-01-10T17:40:18.054Z"
   },
   {
    "duration": 611,
    "start_time": "2023-01-10T17:40:18.804Z"
   },
   {
    "duration": 9,
    "start_time": "2023-01-10T17:41:01.464Z"
   },
   {
    "duration": 568,
    "start_time": "2023-01-10T17:41:02.044Z"
   },
   {
    "duration": 11,
    "start_time": "2023-01-10T17:42:00.254Z"
   },
   {
    "duration": 441,
    "start_time": "2023-01-10T17:42:00.974Z"
   },
   {
    "duration": 10,
    "start_time": "2023-01-10T17:42:23.434Z"
   },
   {
    "duration": 439,
    "start_time": "2023-01-10T17:42:24.284Z"
   },
   {
    "duration": 450,
    "start_time": "2023-01-10T17:42:31.673Z"
   },
   {
    "duration": 9,
    "start_time": "2023-01-10T17:47:55.063Z"
   },
   {
    "duration": 38,
    "start_time": "2023-01-10T17:47:56.382Z"
   },
   {
    "duration": 9,
    "start_time": "2023-01-10T17:49:00.642Z"
   },
   {
    "duration": 419,
    "start_time": "2023-01-10T17:49:01.503Z"
   },
   {
    "duration": 430,
    "start_time": "2023-01-10T17:49:39.193Z"
   },
   {
    "duration": 491,
    "start_time": "2023-01-10T17:49:45.623Z"
   },
   {
    "duration": 1343,
    "start_time": "2023-01-10T17:49:56.771Z"
   },
   {
    "duration": 361,
    "start_time": "2023-01-10T17:49:58.116Z"
   },
   {
    "duration": 7,
    "start_time": "2023-01-10T17:49:58.478Z"
   },
   {
    "duration": 794,
    "start_time": "2023-01-10T17:49:58.488Z"
   },
   {
    "duration": 703,
    "start_time": "2023-01-10T17:49:59.284Z"
   },
   {
    "duration": 903,
    "start_time": "2023-01-10T17:49:59.988Z"
   },
   {
    "duration": 3,
    "start_time": "2023-01-10T17:50:00.893Z"
   },
   {
    "duration": 216,
    "start_time": "2023-01-10T17:50:00.897Z"
   },
   {
    "duration": 4,
    "start_time": "2023-01-10T17:50:01.115Z"
   },
   {
    "duration": 43,
    "start_time": "2023-01-10T17:50:01.122Z"
   },
   {
    "duration": 11,
    "start_time": "2023-01-10T17:50:01.167Z"
   },
   {
    "duration": 540,
    "start_time": "2023-01-10T17:50:01.180Z"
   },
   {
    "duration": 691,
    "start_time": "2023-01-10T17:50:01.722Z"
   },
   {
    "duration": 599,
    "start_time": "2023-01-10T17:50:02.415Z"
   },
   {
    "duration": 7,
    "start_time": "2023-01-10T17:50:03.016Z"
   },
   {
    "duration": 37,
    "start_time": "2023-01-10T17:50:03.113Z"
   },
   {
    "duration": 31,
    "start_time": "2023-01-10T17:50:03.151Z"
   },
   {
    "duration": 33,
    "start_time": "2023-01-10T17:50:03.184Z"
   },
   {
    "duration": 42,
    "start_time": "2023-01-10T17:50:03.218Z"
   },
   {
    "duration": 20,
    "start_time": "2023-01-10T17:50:03.261Z"
   },
   {
    "duration": 23,
    "start_time": "2023-01-10T17:50:03.283Z"
   },
   {
    "duration": 28,
    "start_time": "2023-01-10T17:50:03.308Z"
   },
   {
    "duration": 1571,
    "start_time": "2023-01-10T17:50:03.338Z"
   },
   {
    "duration": 1528,
    "start_time": "2023-01-10T17:50:04.911Z"
   },
   {
    "duration": 1520,
    "start_time": "2023-01-10T17:50:06.440Z"
   },
   {
    "duration": 82,
    "start_time": "2023-01-10T17:56:16.041Z"
   },
   {
    "duration": 95,
    "start_time": "2023-01-10T17:57:14.150Z"
   },
   {
    "duration": 82,
    "start_time": "2023-01-10T17:58:30.911Z"
   },
   {
    "duration": 6,
    "start_time": "2023-01-10T18:12:34.134Z"
   },
   {
    "duration": 183,
    "start_time": "2023-01-10T18:12:35.343Z"
   },
   {
    "duration": 1335,
    "start_time": "2023-01-10T18:12:47.154Z"
   },
   {
    "duration": 386,
    "start_time": "2023-01-10T18:12:48.491Z"
   },
   {
    "duration": 7,
    "start_time": "2023-01-10T18:12:48.879Z"
   },
   {
    "duration": 789,
    "start_time": "2023-01-10T18:12:48.888Z"
   },
   {
    "duration": 741,
    "start_time": "2023-01-10T18:12:49.679Z"
   },
   {
    "duration": 823,
    "start_time": "2023-01-10T18:12:50.422Z"
   },
   {
    "duration": 4,
    "start_time": "2023-01-10T18:12:51.246Z"
   },
   {
    "duration": 189,
    "start_time": "2023-01-10T18:12:51.251Z"
   },
   {
    "duration": 4,
    "start_time": "2023-01-10T18:12:51.442Z"
   },
   {
    "duration": 10,
    "start_time": "2023-01-10T18:12:51.448Z"
   },
   {
    "duration": 15,
    "start_time": "2023-01-10T18:12:51.460Z"
   },
   {
    "duration": 447,
    "start_time": "2023-01-10T18:12:51.476Z"
   },
   {
    "duration": 599,
    "start_time": "2023-01-10T18:12:52.017Z"
   },
   {
    "duration": 595,
    "start_time": "2023-01-10T18:12:52.618Z"
   },
   {
    "duration": 5,
    "start_time": "2023-01-10T18:12:53.215Z"
   },
   {
    "duration": 4,
    "start_time": "2023-01-10T18:12:53.312Z"
   },
   {
    "duration": 7,
    "start_time": "2023-01-10T18:12:53.318Z"
   },
   {
    "duration": 7,
    "start_time": "2023-01-10T18:12:53.326Z"
   },
   {
    "duration": 16,
    "start_time": "2023-01-10T18:12:53.334Z"
   },
   {
    "duration": 11,
    "start_time": "2023-01-10T18:12:53.352Z"
   },
   {
    "duration": 9,
    "start_time": "2023-01-10T18:12:53.364Z"
   },
   {
    "duration": 41,
    "start_time": "2023-01-10T18:12:53.374Z"
   },
   {
    "duration": 1518,
    "start_time": "2023-01-10T18:12:53.417Z"
   },
   {
    "duration": 1462,
    "start_time": "2023-01-10T18:12:54.937Z"
   },
   {
    "duration": 1454,
    "start_time": "2023-01-10T18:12:56.401Z"
   },
   {
    "duration": 5,
    "start_time": "2023-01-10T18:14:08.845Z"
   },
   {
    "duration": 1585,
    "start_time": "2023-01-10T18:14:10.230Z"
   },
   {
    "duration": 101,
    "start_time": "2023-01-10T18:14:59.994Z"
   },
   {
    "duration": 97,
    "start_time": "2023-01-10T18:15:08.545Z"
   },
   {
    "duration": 6,
    "start_time": "2023-01-10T18:15:25.554Z"
   },
   {
    "duration": 5,
    "start_time": "2023-01-10T18:15:38.955Z"
   },
   {
    "duration": 1487,
    "start_time": "2023-01-10T18:15:40.654Z"
   },
   {
    "duration": 1534,
    "start_time": "2023-01-10T18:15:45.796Z"
   },
   {
    "duration": 1555,
    "start_time": "2023-01-10T18:15:49.705Z"
   },
   {
    "duration": 5,
    "start_time": "2023-01-10T18:16:02.664Z"
   },
   {
    "duration": 1547,
    "start_time": "2023-01-10T18:16:03.655Z"
   },
   {
    "duration": 1419,
    "start_time": "2023-01-10T18:16:11.873Z"
   },
   {
    "duration": 361,
    "start_time": "2023-01-10T18:16:13.294Z"
   },
   {
    "duration": 6,
    "start_time": "2023-01-10T18:16:13.658Z"
   },
   {
    "duration": 779,
    "start_time": "2023-01-10T18:16:13.666Z"
   },
   {
    "duration": 754,
    "start_time": "2023-01-10T18:16:14.448Z"
   },
   {
    "duration": 916,
    "start_time": "2023-01-10T18:16:15.204Z"
   },
   {
    "duration": 3,
    "start_time": "2023-01-10T18:16:16.122Z"
   },
   {
    "duration": 232,
    "start_time": "2023-01-10T18:16:16.127Z"
   },
   {
    "duration": 5,
    "start_time": "2023-01-10T18:16:16.361Z"
   },
   {
    "duration": 26,
    "start_time": "2023-01-10T18:16:16.368Z"
   },
   {
    "duration": 16,
    "start_time": "2023-01-10T18:16:16.396Z"
   },
   {
    "duration": 412,
    "start_time": "2023-01-10T18:16:16.414Z"
   },
   {
    "duration": 508,
    "start_time": "2023-01-10T18:16:16.914Z"
   },
   {
    "duration": 501,
    "start_time": "2023-01-10T18:16:17.425Z"
   },
   {
    "duration": 5,
    "start_time": "2023-01-10T18:16:18.015Z"
   },
   {
    "duration": 98,
    "start_time": "2023-01-10T18:16:18.022Z"
   },
   {
    "duration": 8,
    "start_time": "2023-01-10T18:16:18.123Z"
   },
   {
    "duration": 19,
    "start_time": "2023-01-10T18:16:18.132Z"
   },
   {
    "duration": 16,
    "start_time": "2023-01-10T18:16:18.153Z"
   },
   {
    "duration": 11,
    "start_time": "2023-01-10T18:16:18.170Z"
   },
   {
    "duration": 11,
    "start_time": "2023-01-10T18:16:18.183Z"
   },
   {
    "duration": 19,
    "start_time": "2023-01-10T18:16:18.197Z"
   },
   {
    "duration": 1542,
    "start_time": "2023-01-10T18:16:18.218Z"
   },
   {
    "duration": 1563,
    "start_time": "2023-01-10T18:16:19.762Z"
   },
   {
    "duration": 1461,
    "start_time": "2023-01-10T18:16:21.327Z"
   },
   {
    "duration": 10,
    "start_time": "2023-01-10T18:29:06.144Z"
   },
   {
    "duration": 1421,
    "start_time": "2023-01-10T18:29:11.345Z"
   },
   {
    "duration": 381,
    "start_time": "2023-01-10T18:29:12.768Z"
   },
   {
    "duration": 8,
    "start_time": "2023-01-10T18:29:13.151Z"
   },
   {
    "duration": 923,
    "start_time": "2023-01-10T18:29:13.162Z"
   },
   {
    "duration": 898,
    "start_time": "2023-01-10T18:29:14.087Z"
   },
   {
    "duration": 884,
    "start_time": "2023-01-10T18:29:14.987Z"
   },
   {
    "duration": 4,
    "start_time": "2023-01-10T18:29:15.873Z"
   },
   {
    "duration": 233,
    "start_time": "2023-01-10T18:29:15.879Z"
   },
   {
    "duration": 4,
    "start_time": "2023-01-10T18:29:16.114Z"
   },
   {
    "duration": 7,
    "start_time": "2023-01-10T18:29:16.122Z"
   },
   {
    "duration": 13,
    "start_time": "2023-01-10T18:29:16.131Z"
   },
   {
    "duration": 367,
    "start_time": "2023-01-10T18:29:16.147Z"
   },
   {
    "duration": 397,
    "start_time": "2023-01-10T18:29:16.517Z"
   },
   {
    "duration": 320,
    "start_time": "2023-01-10T18:29:16.916Z"
   },
   {
    "duration": 11,
    "start_time": "2023-01-10T18:29:17.313Z"
   },
   {
    "duration": 84,
    "start_time": "2023-01-10T18:29:17.331Z"
   },
   {
    "duration": 18,
    "start_time": "2023-01-10T18:29:17.417Z"
   },
   {
    "duration": 9,
    "start_time": "2023-01-10T18:29:17.437Z"
   },
   {
    "duration": 28,
    "start_time": "2023-01-10T18:29:17.448Z"
   },
   {
    "duration": 18,
    "start_time": "2023-01-10T18:29:17.478Z"
   },
   {
    "duration": 12,
    "start_time": "2023-01-10T18:29:17.513Z"
   },
   {
    "duration": 17,
    "start_time": "2023-01-10T18:29:17.528Z"
   },
   {
    "duration": 1660,
    "start_time": "2023-01-10T18:29:17.547Z"
   },
   {
    "duration": 1645,
    "start_time": "2023-01-10T18:29:19.213Z"
   },
   {
    "duration": 1559,
    "start_time": "2023-01-10T18:29:20.861Z"
   },
   {
    "duration": 1446,
    "start_time": "2023-01-10T18:37:07.274Z"
   },
   {
    "duration": 373,
    "start_time": "2023-01-10T18:37:08.722Z"
   },
   {
    "duration": 7,
    "start_time": "2023-01-10T18:37:09.097Z"
   },
   {
    "duration": 778,
    "start_time": "2023-01-10T18:37:09.106Z"
   },
   {
    "duration": 788,
    "start_time": "2023-01-10T18:37:09.885Z"
   },
   {
    "duration": 847,
    "start_time": "2023-01-10T18:37:10.675Z"
   },
   {
    "duration": 3,
    "start_time": "2023-01-10T18:37:11.524Z"
   },
   {
    "duration": 184,
    "start_time": "2023-01-10T18:37:11.529Z"
   },
   {
    "duration": 4,
    "start_time": "2023-01-10T18:37:11.714Z"
   },
   {
    "duration": 8,
    "start_time": "2023-01-10T18:37:11.720Z"
   },
   {
    "duration": 9,
    "start_time": "2023-01-10T18:37:11.729Z"
   },
   {
    "duration": 673,
    "start_time": "2023-01-10T18:37:11.740Z"
   },
   {
    "duration": 910,
    "start_time": "2023-01-10T18:37:12.416Z"
   },
   {
    "duration": 593,
    "start_time": "2023-01-10T18:37:13.329Z"
   },
   {
    "duration": 90,
    "start_time": "2023-01-10T18:37:13.924Z"
   },
   {
    "duration": 104,
    "start_time": "2023-01-10T18:37:14.016Z"
   },
   {
    "duration": 9,
    "start_time": "2023-01-10T18:37:14.122Z"
   },
   {
    "duration": 11,
    "start_time": "2023-01-10T18:37:14.133Z"
   },
   {
    "duration": 15,
    "start_time": "2023-01-10T18:37:14.145Z"
   },
   {
    "duration": 9,
    "start_time": "2023-01-10T18:37:14.161Z"
   },
   {
    "duration": 9,
    "start_time": "2023-01-10T18:37:14.172Z"
   },
   {
    "duration": 5,
    "start_time": "2023-01-10T18:37:14.183Z"
   },
   {
    "duration": 1599,
    "start_time": "2023-01-10T18:37:14.190Z"
   },
   {
    "duration": 1522,
    "start_time": "2023-01-10T18:37:15.791Z"
   },
   {
    "duration": 1489,
    "start_time": "2023-01-10T18:37:17.315Z"
   },
   {
    "duration": 1353,
    "start_time": "2023-01-10T18:37:53.776Z"
   },
   {
    "duration": 358,
    "start_time": "2023-01-10T18:37:55.131Z"
   },
   {
    "duration": 8,
    "start_time": "2023-01-10T18:37:55.491Z"
   },
   {
    "duration": 751,
    "start_time": "2023-01-10T18:37:55.501Z"
   },
   {
    "duration": 748,
    "start_time": "2023-01-10T18:37:56.254Z"
   },
   {
    "duration": 801,
    "start_time": "2023-01-10T18:37:57.003Z"
   },
   {
    "duration": 3,
    "start_time": "2023-01-10T18:37:57.806Z"
   },
   {
    "duration": 197,
    "start_time": "2023-01-10T18:37:57.813Z"
   },
   {
    "duration": 3,
    "start_time": "2023-01-10T18:37:58.012Z"
   },
   {
    "duration": 24,
    "start_time": "2023-01-10T18:37:58.019Z"
   },
   {
    "duration": 14,
    "start_time": "2023-01-10T18:37:58.045Z"
   },
   {
    "duration": 553,
    "start_time": "2023-01-10T18:37:58.060Z"
   },
   {
    "duration": 508,
    "start_time": "2023-01-10T18:37:58.615Z"
   },
   {
    "duration": 508,
    "start_time": "2023-01-10T18:37:59.214Z"
   },
   {
    "duration": 4,
    "start_time": "2023-01-10T18:37:59.813Z"
   },
   {
    "duration": 103,
    "start_time": "2023-01-10T18:37:59.819Z"
   },
   {
    "duration": 10,
    "start_time": "2023-01-10T18:37:59.925Z"
   },
   {
    "duration": 5,
    "start_time": "2023-01-10T18:37:59.937Z"
   },
   {
    "duration": 14,
    "start_time": "2023-01-10T18:37:59.944Z"
   },
   {
    "duration": 8,
    "start_time": "2023-01-10T18:37:59.960Z"
   },
   {
    "duration": 7,
    "start_time": "2023-01-10T18:37:59.970Z"
   },
   {
    "duration": 34,
    "start_time": "2023-01-10T18:37:59.979Z"
   },
   {
    "duration": 1649,
    "start_time": "2023-01-10T18:38:00.015Z"
   },
   {
    "duration": 1534,
    "start_time": "2023-01-10T18:38:01.666Z"
   },
   {
    "duration": 1547,
    "start_time": "2023-01-10T18:38:03.201Z"
   }
  ],
  "kernelspec": {
   "display_name": "Python 3 (ipykernel)",
   "language": "python",
   "name": "python3"
  },
  "language_info": {
   "codemirror_mode": {
    "name": "ipython",
    "version": 3
   },
   "file_extension": ".py",
   "mimetype": "text/x-python",
   "name": "python",
   "nbconvert_exporter": "python",
   "pygments_lexer": "ipython3",
   "version": "3.10.9"
  },
  "toc": {
   "base_numbering": 1,
   "nav_menu": {},
   "number_sections": true,
   "sideBar": true,
   "skip_h1_title": true,
   "title_cell": "Table of Contents",
   "title_sidebar": "Contents",
   "toc_cell": false,
   "toc_position": {},
   "toc_section_display": true,
   "toc_window_display": false
  }
 },
 "nbformat": 4,
 "nbformat_minor": 2
}
