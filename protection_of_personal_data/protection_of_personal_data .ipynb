{
 "cells": [
  {
   "cell_type": "markdown",
   "metadata": {},
   "source": [
    "# Защита персональных данных клиентов"
   ]
  },
  {
   "cell_type": "markdown",
   "metadata": {
    "toc": true
   },
   "source": [
    "<h1>Содержание<span class=\"tocSkip\"></span></h1>\n",
    "<div class=\"toc\"><ul class=\"toc-item\"><li><span><a href=\"#Загрузка-данных\" data-toc-modified-id=\"Загрузка-данных-1\"><span class=\"toc-item-num\">1&nbsp;&nbsp;</span>Загрузка данных</a></span></li><li><span><a href=\"#Умножение-матриц\" data-toc-modified-id=\"Умножение-матриц-2\"><span class=\"toc-item-num\">2&nbsp;&nbsp;</span>Умножение матриц</a></span></li><li><span><a href=\"#Алгоритм-преобразования\" data-toc-modified-id=\"Алгоритм-преобразования-3\"><span class=\"toc-item-num\">3&nbsp;&nbsp;</span>Алгоритм преобразования</a></span></li><li><span><a href=\"#Проверка-алгоритма\" data-toc-modified-id=\"Проверка-алгоритма-4\"><span class=\"toc-item-num\">4&nbsp;&nbsp;</span>Проверка алгоритма</a></span></li><li><span><a href=\"#Общий-вывод\" data-toc-modified-id=\"Общий-вывод-5\"><span class=\"toc-item-num\">5&nbsp;&nbsp;</span>Общий вывод</a></span></li><li><span><a href=\"#Чек-лист-проверки\" data-toc-modified-id=\"Чек-лист-проверки-6\"><span class=\"toc-item-num\">6&nbsp;&nbsp;</span>Чек-лист проверки</a></span></li></ul></div>"
   ]
  },
  {
   "cell_type": "markdown",
   "metadata": {},
   "source": [
    "**Заказчик:** страховая компания «Хоть потоп».\n",
    "\n",
    "**Цель исследования:** защитить данные клиентов.\n",
    "\n",
    "**Задачи:**  \n",
    "1. Разработать метод шифрования данных, при котором качество моделей машинного обучения не ухудшится.\n",
    "2. Обосновать корректность работы данного метода.\n",
    "\n",
    "**Исходные данные:**  \n",
    "Исходные данные представлены в датасете insurance.csv - данные о клиентах компании.\n",
    "\n",
    "В датасете содержатся следующие признаки:  \n",
    "- Пол;\n",
    "- Возраст;\n",
    "- Зарплата;\n",
    "- Члены семьи;\n",
    "- Страховые выплаты."
   ]
  },
  {
   "cell_type": "markdown",
   "metadata": {},
   "source": [
    "**Условные обозначения:**\n",
    "\n",
    "$P$ - произвольная обратимая матрица;  \n",
    "$X$ - матрица признаков;  \n",
    "$X_p$ - модифицированная матрица признаков;  \n",
    "$w$ - вектор весов признаков;  \n",
    "$w_p$ - вектор весов признаков для модифицированной матрицы признаков;  \n",
    "$w0$ - вектор линейных смещений признаков;  \n",
    "$a$ - вектор предсказаний для исходной матрицы;  \n",
    "$a_p$ - вектор предсказаний для модифицированной матрицы;  \n",
    "$y$ - вектор целевого признака;  "
   ]
  },
  {
   "cell_type": "markdown",
   "metadata": {},
   "source": [
    "<div class=\"alert alert-success\">\n",
    "<font size=\"5\"><b>Комментарий ревьюера</b></font>\n",
    "\n",
    "Успех 👍:\n",
    "\n",
    "\n",
    "Вступление в работу очень важно, так человек, который смотрит твой проект (и на работе в том числе) будет сразу введен в курс дела.\n",
    "\n",
    "\n",
    "\n",
    "\n",
    "\n",
    "</div>"
   ]
  },
  {
   "cell_type": "markdown",
   "metadata": {},
   "source": [
    "## Загрузка данных"
   ]
  },
  {
   "cell_type": "markdown",
   "metadata": {},
   "source": [
    "Импортируем библиотеки:"
   ]
  },
  {
   "cell_type": "code",
   "execution_count": 1,
   "metadata": {},
   "outputs": [
    {
     "name": "stderr",
     "output_type": "stream",
     "text": [
      "D:\\Programs\\anaconda3\\Lib\\site-packages\\numba\\core\\decorators.py:262: NumbaDeprecationWarning: \u001b[1mnumba.generated_jit is deprecated. Please see the documentation at: https://numba.readthedocs.io/en/stable/reference/deprecation.html#deprecation-of-generated-jit for more information and advice on a suitable replacement.\u001b[0m\n",
      "  warnings.warn(msg, NumbaDeprecationWarning)\n",
      "C:\\Users\\bond_\\AppData\\Roaming\\Python\\Python311\\site-packages\\visions\\backends\\shared\\nan_handling.py:50: NumbaDeprecationWarning: \u001b[1mThe 'nopython' keyword argument was not supplied to the 'numba.jit' decorator. The implicit default value for this argument is currently False, but it will be changed to True in Numba 0.59.0. See https://numba.readthedocs.io/en/stable/reference/deprecation.html#deprecation-of-object-mode-fall-back-behaviour-when-using-jit for details.\u001b[0m\n",
      "  @nb.jit\n"
     ]
    }
   ],
   "source": [
    "import numpy as np\n",
    "import pandas as pd\n",
    "import ydata_profiling\n",
    "from scipy.spatial import distance\n",
    "from sklearn.model_selection import train_test_split\n",
    "from sklearn.metrics import mean_squared_error, r2_score"
   ]
  },
  {
   "cell_type": "markdown",
   "metadata": {},
   "source": [
    "Импортируем данные:"
   ]
  },
  {
   "cell_type": "code",
   "execution_count": 2,
   "metadata": {},
   "outputs": [],
   "source": [
    "try:\n",
    "    df = pd.read_csv('/datasets/insurance.csv')\n",
    "except:\n",
    "    df = pd.read_csv('https://code.s3.yandex.net/datasets/insurance.csv')"
   ]
  },
  {
   "cell_type": "markdown",
   "metadata": {},
   "source": [
    "Выводим информацию по датафрейму:"
   ]
  },
  {
   "cell_type": "code",
   "execution_count": 3,
   "metadata": {},
   "outputs": [
    {
     "data": {
      "text/html": [
       "<div>\n",
       "<style scoped>\n",
       "    .dataframe tbody tr th:only-of-type {\n",
       "        vertical-align: middle;\n",
       "    }\n",
       "\n",
       "    .dataframe tbody tr th {\n",
       "        vertical-align: top;\n",
       "    }\n",
       "\n",
       "    .dataframe thead th {\n",
       "        text-align: right;\n",
       "    }\n",
       "</style>\n",
       "<table border=\"1\" class=\"dataframe\">\n",
       "  <thead>\n",
       "    <tr style=\"text-align: right;\">\n",
       "      <th></th>\n",
       "      <th>Пол</th>\n",
       "      <th>Возраст</th>\n",
       "      <th>Зарплата</th>\n",
       "      <th>Члены семьи</th>\n",
       "      <th>Страховые выплаты</th>\n",
       "    </tr>\n",
       "  </thead>\n",
       "  <tbody>\n",
       "    <tr>\n",
       "      <th>0</th>\n",
       "      <td>1</td>\n",
       "      <td>41.0</td>\n",
       "      <td>49600.0</td>\n",
       "      <td>1</td>\n",
       "      <td>0</td>\n",
       "    </tr>\n",
       "    <tr>\n",
       "      <th>1</th>\n",
       "      <td>0</td>\n",
       "      <td>46.0</td>\n",
       "      <td>38000.0</td>\n",
       "      <td>1</td>\n",
       "      <td>1</td>\n",
       "    </tr>\n",
       "    <tr>\n",
       "      <th>2</th>\n",
       "      <td>0</td>\n",
       "      <td>29.0</td>\n",
       "      <td>21000.0</td>\n",
       "      <td>0</td>\n",
       "      <td>0</td>\n",
       "    </tr>\n",
       "    <tr>\n",
       "      <th>3</th>\n",
       "      <td>0</td>\n",
       "      <td>21.0</td>\n",
       "      <td>41700.0</td>\n",
       "      <td>2</td>\n",
       "      <td>0</td>\n",
       "    </tr>\n",
       "    <tr>\n",
       "      <th>4</th>\n",
       "      <td>1</td>\n",
       "      <td>28.0</td>\n",
       "      <td>26100.0</td>\n",
       "      <td>0</td>\n",
       "      <td>0</td>\n",
       "    </tr>\n",
       "  </tbody>\n",
       "</table>\n",
       "</div>"
      ],
      "text/plain": [
       "   Пол  Возраст  Зарплата  Члены семьи  Страховые выплаты\n",
       "0    1     41.0   49600.0            1                  0\n",
       "1    0     46.0   38000.0            1                  1\n",
       "2    0     29.0   21000.0            0                  0\n",
       "3    0     21.0   41700.0            2                  0\n",
       "4    1     28.0   26100.0            0                  0"
      ]
     },
     "execution_count": 3,
     "metadata": {},
     "output_type": "execute_result"
    }
   ],
   "source": [
    "df.head()"
   ]
  },
  {
   "cell_type": "code",
   "execution_count": 4,
   "metadata": {
    "scrolled": true
   },
   "outputs": [],
   "source": [
    "# df.profile_report()"
   ]
  },
  {
   "cell_type": "code",
   "execution_count": 5,
   "metadata": {},
   "outputs": [],
   "source": [
    "def inf(df_info):\n",
    "    print()\n",
    "    print('Общая информация:')\n",
    "    display(df_info.info(memory_usage='deep'))\n",
    "    print('_' * 50)\n",
    "    print()\n",
    "    print('Описательная статистика числовых значений:')\n",
    "    display(df_info.describe().T)\n",
    "    print('_' * 50)\n",
    "    print()\n",
    "    print('Процент пропущенных значений:')\n",
    "    display(df_info.isna().mean()*100)\n",
    "    print('_' * 50)\n",
    "    print()\n",
    "    print('Случайная выборка датафрейма:')\n",
    "    display(df_info.sample(n = 5, random_state = 0))\n",
    "    print('_' * 100)"
   ]
  },
  {
   "cell_type": "code",
   "execution_count": 6,
   "metadata": {},
   "outputs": [
    {
     "name": "stdout",
     "output_type": "stream",
     "text": [
      "\n",
      "Общая информация:\n",
      "<class 'pandas.core.frame.DataFrame'>\n",
      "RangeIndex: 5000 entries, 0 to 4999\n",
      "Data columns (total 5 columns):\n",
      " #   Column             Non-Null Count  Dtype  \n",
      "---  ------             --------------  -----  \n",
      " 0   Пол                5000 non-null   int64  \n",
      " 1   Возраст            5000 non-null   float64\n",
      " 2   Зарплата           5000 non-null   float64\n",
      " 3   Члены семьи        5000 non-null   int64  \n",
      " 4   Страховые выплаты  5000 non-null   int64  \n",
      "dtypes: float64(2), int64(3)\n",
      "memory usage: 195.4 KB\n"
     ]
    },
    {
     "data": {
      "text/plain": [
       "None"
      ]
     },
     "metadata": {},
     "output_type": "display_data"
    },
    {
     "name": "stdout",
     "output_type": "stream",
     "text": [
      "__________________________________________________\n",
      "\n",
      "Описательная статистика числовых значений:\n"
     ]
    },
    {
     "data": {
      "text/html": [
       "<div>\n",
       "<style scoped>\n",
       "    .dataframe tbody tr th:only-of-type {\n",
       "        vertical-align: middle;\n",
       "    }\n",
       "\n",
       "    .dataframe tbody tr th {\n",
       "        vertical-align: top;\n",
       "    }\n",
       "\n",
       "    .dataframe thead th {\n",
       "        text-align: right;\n",
       "    }\n",
       "</style>\n",
       "<table border=\"1\" class=\"dataframe\">\n",
       "  <thead>\n",
       "    <tr style=\"text-align: right;\">\n",
       "      <th></th>\n",
       "      <th>count</th>\n",
       "      <th>mean</th>\n",
       "      <th>std</th>\n",
       "      <th>min</th>\n",
       "      <th>25%</th>\n",
       "      <th>50%</th>\n",
       "      <th>75%</th>\n",
       "      <th>max</th>\n",
       "    </tr>\n",
       "  </thead>\n",
       "  <tbody>\n",
       "    <tr>\n",
       "      <th>Пол</th>\n",
       "      <td>5000.0</td>\n",
       "      <td>0.4990</td>\n",
       "      <td>0.500049</td>\n",
       "      <td>0.0</td>\n",
       "      <td>0.0</td>\n",
       "      <td>0.0</td>\n",
       "      <td>1.0</td>\n",
       "      <td>1.0</td>\n",
       "    </tr>\n",
       "    <tr>\n",
       "      <th>Возраст</th>\n",
       "      <td>5000.0</td>\n",
       "      <td>30.9528</td>\n",
       "      <td>8.440807</td>\n",
       "      <td>18.0</td>\n",
       "      <td>24.0</td>\n",
       "      <td>30.0</td>\n",
       "      <td>37.0</td>\n",
       "      <td>65.0</td>\n",
       "    </tr>\n",
       "    <tr>\n",
       "      <th>Зарплата</th>\n",
       "      <td>5000.0</td>\n",
       "      <td>39916.3600</td>\n",
       "      <td>9900.083569</td>\n",
       "      <td>5300.0</td>\n",
       "      <td>33300.0</td>\n",
       "      <td>40200.0</td>\n",
       "      <td>46600.0</td>\n",
       "      <td>79000.0</td>\n",
       "    </tr>\n",
       "    <tr>\n",
       "      <th>Члены семьи</th>\n",
       "      <td>5000.0</td>\n",
       "      <td>1.1942</td>\n",
       "      <td>1.091387</td>\n",
       "      <td>0.0</td>\n",
       "      <td>0.0</td>\n",
       "      <td>1.0</td>\n",
       "      <td>2.0</td>\n",
       "      <td>6.0</td>\n",
       "    </tr>\n",
       "    <tr>\n",
       "      <th>Страховые выплаты</th>\n",
       "      <td>5000.0</td>\n",
       "      <td>0.1480</td>\n",
       "      <td>0.463183</td>\n",
       "      <td>0.0</td>\n",
       "      <td>0.0</td>\n",
       "      <td>0.0</td>\n",
       "      <td>0.0</td>\n",
       "      <td>5.0</td>\n",
       "    </tr>\n",
       "  </tbody>\n",
       "</table>\n",
       "</div>"
      ],
      "text/plain": [
       "                    count        mean          std     min      25%      50%  \\\n",
       "Пол                5000.0      0.4990     0.500049     0.0      0.0      0.0   \n",
       "Возраст            5000.0     30.9528     8.440807    18.0     24.0     30.0   \n",
       "Зарплата           5000.0  39916.3600  9900.083569  5300.0  33300.0  40200.0   \n",
       "Члены семьи        5000.0      1.1942     1.091387     0.0      0.0      1.0   \n",
       "Страховые выплаты  5000.0      0.1480     0.463183     0.0      0.0      0.0   \n",
       "\n",
       "                       75%      max  \n",
       "Пол                    1.0      1.0  \n",
       "Возраст               37.0     65.0  \n",
       "Зарплата           46600.0  79000.0  \n",
       "Члены семьи            2.0      6.0  \n",
       "Страховые выплаты      0.0      5.0  "
      ]
     },
     "metadata": {},
     "output_type": "display_data"
    },
    {
     "name": "stdout",
     "output_type": "stream",
     "text": [
      "__________________________________________________\n",
      "\n",
      "Процент пропущенных значений:\n"
     ]
    },
    {
     "data": {
      "text/plain": [
       "Пол                  0.0\n",
       "Возраст              0.0\n",
       "Зарплата             0.0\n",
       "Члены семьи          0.0\n",
       "Страховые выплаты    0.0\n",
       "dtype: float64"
      ]
     },
     "metadata": {},
     "output_type": "display_data"
    },
    {
     "name": "stdout",
     "output_type": "stream",
     "text": [
      "__________________________________________________\n",
      "\n",
      "Случайная выборка датафрейма:\n"
     ]
    },
    {
     "data": {
      "text/html": [
       "<div>\n",
       "<style scoped>\n",
       "    .dataframe tbody tr th:only-of-type {\n",
       "        vertical-align: middle;\n",
       "    }\n",
       "\n",
       "    .dataframe tbody tr th {\n",
       "        vertical-align: top;\n",
       "    }\n",
       "\n",
       "    .dataframe thead th {\n",
       "        text-align: right;\n",
       "    }\n",
       "</style>\n",
       "<table border=\"1\" class=\"dataframe\">\n",
       "  <thead>\n",
       "    <tr style=\"text-align: right;\">\n",
       "      <th></th>\n",
       "      <th>Пол</th>\n",
       "      <th>Возраст</th>\n",
       "      <th>Зарплата</th>\n",
       "      <th>Члены семьи</th>\n",
       "      <th>Страховые выплаты</th>\n",
       "    </tr>\n",
       "  </thead>\n",
       "  <tbody>\n",
       "    <tr>\n",
       "      <th>398</th>\n",
       "      <td>0</td>\n",
       "      <td>30.0</td>\n",
       "      <td>37700.0</td>\n",
       "      <td>1</td>\n",
       "      <td>0</td>\n",
       "    </tr>\n",
       "    <tr>\n",
       "      <th>3833</th>\n",
       "      <td>1</td>\n",
       "      <td>29.0</td>\n",
       "      <td>43700.0</td>\n",
       "      <td>1</td>\n",
       "      <td>0</td>\n",
       "    </tr>\n",
       "    <tr>\n",
       "      <th>4836</th>\n",
       "      <td>1</td>\n",
       "      <td>38.0</td>\n",
       "      <td>43600.0</td>\n",
       "      <td>1</td>\n",
       "      <td>0</td>\n",
       "    </tr>\n",
       "    <tr>\n",
       "      <th>4572</th>\n",
       "      <td>1</td>\n",
       "      <td>27.0</td>\n",
       "      <td>43400.0</td>\n",
       "      <td>1</td>\n",
       "      <td>0</td>\n",
       "    </tr>\n",
       "    <tr>\n",
       "      <th>636</th>\n",
       "      <td>0</td>\n",
       "      <td>26.0</td>\n",
       "      <td>36100.0</td>\n",
       "      <td>1</td>\n",
       "      <td>0</td>\n",
       "    </tr>\n",
       "  </tbody>\n",
       "</table>\n",
       "</div>"
      ],
      "text/plain": [
       "      Пол  Возраст  Зарплата  Члены семьи  Страховые выплаты\n",
       "398     0     30.0   37700.0            1                  0\n",
       "3833    1     29.0   43700.0            1                  0\n",
       "4836    1     38.0   43600.0            1                  0\n",
       "4572    1     27.0   43400.0            1                  0\n",
       "636     0     26.0   36100.0            1                  0"
      ]
     },
     "metadata": {},
     "output_type": "display_data"
    },
    {
     "name": "stdout",
     "output_type": "stream",
     "text": [
      "____________________________________________________________________________________________________\n"
     ]
    }
   ],
   "source": [
    "inf(df)"
   ]
  },
  {
   "cell_type": "markdown",
   "metadata": {},
   "source": [
    "**Вывод:**\n",
    "1. В датафрейме 5000 строк и 5 столбцов. Один столбец содержит категориальные данные, четыре - числовые.\n",
    "2. Пропущенных значений нет.\n",
    "3. В датафрейме 147 (2.9%) дубликатов. Поскольку в датафрейме среди признаков отсутствует идентификатор клиента, нет оснований предполагать, что дублирующиеся строки относятся к одному и тому же клиенту. Дубликаты целесообразно оставить без изменений.\n",
    "4. Возраст имеет высокую корреляцию с количеством страховых выплат - 0.549.\n",
    "5. У 30.3% клиентов не указаны члены семьи.\n",
    "6.  Большинство клиентов - 4436 (88.7%) - не получали страховых выплат. "
   ]
  },
  {
   "cell_type": "markdown",
   "metadata": {},
   "source": [
    "## Умножение матриц"
   ]
  },
  {
   "cell_type": "markdown",
   "metadata": {},
   "source": [
    "Модифицированная матрица признаков - умножаем исходную матрицу признаков на обратимую матрицу:  \n",
    "\n",
    "$$\n",
    "X_p = X P\n",
    "$$\n",
    "\n",
    "Задача обучения - минимизировать функцию потерь $MSE$:\n",
    "\n",
    "$$\n",
    "w = \\arg\\min_w MSE(X w, y)\n",
    "$$\n",
    "\n",
    "$$\n",
    "w_p = \\arg\\min_w MSE(X_p w_p, y)\n",
    "$$\n",
    "\n",
    "Формулы предсказания для исходной и модифицированной матриц признаков:\n",
    "\n",
    "$$\n",
    "a = Xw + w0\n",
    "$$\n",
    "\n",
    "$$\n",
    "a_p = X_pw_p + w0_p\n",
    "$$\n",
    "\n",
    "Упрощенные формулы предсказания для исходной и модифицированной матриц признаков ($w0$ учтено в $w$):\n",
    "\n",
    "$$\n",
    "a = Xw\n",
    "$$\n",
    "\n",
    "$$\n",
    "a_p = X_pw_p\n",
    "$$\n",
    "\n",
    "\n",
    "Формулы обучения для исходной и модифицированной матриц признаков:\n",
    "\n",
    "$$\n",
    "w = (X^T X)^{-1} X^T y\n",
    "$$\n",
    "\n",
    "$$\n",
    "w_p = (X_p^T X_p)^{-1} X_p^T y\n",
    "$$\n",
    "\n",
    "\n",
    "В формулу $w_p$ вместо $X_p$ подставляем $X P$:  \n",
    "\n",
    "$$\n",
    "w_p = ((X P)^T X P)^{-1} (X P)^T y\n",
    "$$\n",
    "\n",
    "Раскрываем скобки $(X P)^T$:\n",
    "\n",
    "$$\n",
    "w_p = (P^T (X^T X) P)^{-1} P^T X^T y\n",
    "$$\n",
    "\n",
    "Раскрываем скобки $(P^T (X^T X) P)^{-1}$:\n",
    "\n",
    "$$\n",
    "w_p = P^{-1} (X^T X)^{-1} (P^T)^{-1} P^T X^T y = P^{-1} (X^T X)^{-1} E X^T y = P^{-1} (X^T X)^{-1} X^T y\n",
    "$$\n",
    "\n",
    "Из формулы выше видно $(X^T X)^{-1} X^T y = w$:\n",
    "\n",
    "$$\n",
    "w_p = P^{-1} w\n",
    "$$\n",
    "\n",
    "Подставляем $X_p$ и $w_p$ в формулу $a_p$:\n",
    "\n",
    "$$\n",
    "a_p = X_pw_p = X P P^{-1} w = X E w = X w = a\n",
    "$$"
   ]
  },
  {
   "cell_type": "markdown",
   "metadata": {},
   "source": [
    "**Вывод:**  \n",
    "Умножение матрицы признаков на произвольную обратимую матрицу не ведет к изменению качества модели линейной регрессии."
   ]
  },
  {
   "cell_type": "markdown",
   "metadata": {},
   "source": [
    "## Алгоритм преобразования "
   ]
  },
  {
   "cell_type": "markdown",
   "metadata": {},
   "source": [
    "1. Выделяемиз датафрейма целевой признак в отдельный вектор.\n",
    "\n",
    "2. Разделяем выборку на обучающую и тестовую в соотношении 75:25 методом train_test_split из библиотеки sklearn.\n",
    "\n",
    "3. Определяем размер произвольной квадратной матрицы.  \n",
    "\n",
    "Две матрицы можно перемножить только если количество столбцов у первой матрицы равно количеству строк второй.\n",
    "\n",
    "$$\n",
    "X_{(m×n)}⋅P_{(n×k)}=X_{p(m×k)}\n",
    "$$\n",
    "\n",
    "В исходном датафрейме 5 признаков, один которых - целевой. Следовательно, модель будет обучаться на векторе целевого признака и матрице, состоящей из 4 признаков. То есть матрица признаков будет иметь размер 5000x4. Из этого следует, произвольная обратимая матрица должна иметь размер 4x4:\n",
    "\n",
    "$$\n",
    "X_{(5000×4)}⋅P_{(4×4)}=X_{p(5000×4)}\n",
    "$$\n",
    "\n",
    "4. Создаем обратимую матрицу P методом random.rand из библиотеки numpy. Размеры данной матрицы - количество столбцов в матрице признаков.\n",
    "\n",
    "\n",
    "Модифицированная матрица будет выражаться через исходную согласно равенству:\n",
    "\n",
    "\n",
    "$$\n",
    "X_p = X P\n",
    "$$ \n",
    "\n",
    "5. Для исходной и модифицированной матриц признаков значения предсказаний рассчитываются по формулам:  \n",
    "\n",
    "$$\n",
    "a = X w + w0 $$\n",
    "$$\n",
    "a_p = X_p w_p + w0_p\n",
    "$$\n",
    "\n",
    "Для упрощения расчётов добавляем в матрицу $w$ нулевой столбец, заполненный единицами и соответствующий $w0$. Таким образом, формулы расчёта предсказаний приобретают следующий вид:  \n",
    "    \n",
    "$$\n",
    "a = X w\n",
    "$$\n",
    "\n",
    "$$\n",
    "a_p = X_p w_p\n",
    "$$ \n",
    "\n",
    "6. Определяем веса признаков, при которых функция потери $MSE$ имеет минимальное значение: \n",
    "\n",
    "$$\n",
    "w = (X^T X)^{-1} X^T y\n",
    "$$ \n",
    "\n",
    "$$\n",
    "w_m = (X_p^T X_p)^{-1} X_p^T y\n",
    "$$\n",
    "\n",
    "\n",
    "7. Из полученных матриц признаков выделяем первые столбцы, соответствующие $w0$ и $w0m$, и рассчитываем предсказания по исходным формулам:  \n",
    "\n",
    "$$\n",
    "a = X w + w0\n",
    "$$\n",
    "\n",
    "$$\n",
    "a_p = X_p w_p + w0_p\n",
    "$$ \n",
    "\n",
    "8. Рассчитываем метрики R2 и MSE на тестовых выборках."
   ]
  },
  {
   "cell_type": "markdown",
   "metadata": {},
   "source": [
    "## Проверка алгоритма"
   ]
  },
  {
   "cell_type": "markdown",
   "metadata": {},
   "source": [
    "Переименовываем и переводим в нижний регистр названия признаков:"
   ]
  },
  {
   "cell_type": "code",
   "execution_count": 7,
   "metadata": {},
   "outputs": [],
   "source": [
    "df = df.rename(columns = {'Пол':'sex',\n",
    "                          'Возраст':'age',\n",
    "                          'Зарплата':'salary',\n",
    "                          'Члены семьи':'family_member',\n",
    "                          'Страховые выплаты':'insurance'})"
   ]
  },
  {
   "cell_type": "markdown",
   "metadata": {},
   "source": [
    "Разделяет датафрейм на признаки и целевой признак:"
   ]
  },
  {
   "cell_type": "code",
   "execution_count": 8,
   "metadata": {},
   "outputs": [],
   "source": [
    "features = df.drop('insurance', axis=1)\n",
    "targets = df['insurance']"
   ]
  },
  {
   "cell_type": "markdown",
   "metadata": {},
   "source": [
    "Разделяем выборку на обучающую и тестовую:"
   ]
  },
  {
   "cell_type": "code",
   "execution_count": 9,
   "metadata": {},
   "outputs": [],
   "source": [
    "features_train, features_test, target_train, target_test = train_test_split(features, targets, test_size=0.25, random_state=42)\n",
    "features_train = features_train.reset_index(drop=True)\n",
    "features_test = features_test.reset_index(drop=True)\n",
    "target_train = target_train.reset_index(drop=True)\n",
    "target_test = target_test.reset_index(drop=True)"
   ]
  },
  {
   "cell_type": "markdown",
   "metadata": {},
   "source": [
    "Создаем матрицу и проверяем ее на обратимость:"
   ]
  },
  {
   "cell_type": "code",
   "execution_count": 10,
   "metadata": {},
   "outputs": [],
   "source": [
    "def get_rand_matrix(dim):\n",
    "    transform_matrix = np.random.rand(dim, dim)\n",
    "    try: \n",
    "        inv = np.linalg.inv(transform_matrix)\n",
    "        return transform_matrix\n",
    "    except:\n",
    "        func(dim) "
   ]
  },
  {
   "cell_type": "code",
   "execution_count": 11,
   "metadata": {},
   "outputs": [],
   "source": [
    "matrix = get_rand_matrix(features.shape[1])"
   ]
  },
  {
   "cell_type": "markdown",
   "metadata": {},
   "source": [
    "Умножаем признаки обучающей и тестовой выборок на матрицу \"matrix\":"
   ]
  },
  {
   "cell_type": "code",
   "execution_count": 12,
   "metadata": {},
   "outputs": [],
   "source": [
    "features_train_mod = pd.DataFrame(np.dot(features_train, matrix), columns=features_train.columns)\n",
    "features_test_mod = pd.DataFrame(np.dot(features_test, matrix), columns=features_test.columns)"
   ]
  },
  {
   "cell_type": "markdown",
   "metadata": {},
   "source": [
    "Класс линейной регрессии:"
   ]
  },
  {
   "cell_type": "code",
   "execution_count": 13,
   "metadata": {},
   "outputs": [],
   "source": [
    "class IsuranceRegression:\n",
    "    def fit(self, train_features, train_target):\n",
    "        '''Функция обучения'''\n",
    "        # создаем матрицу признаков (нулевой столбец состоит из единиц)\n",
    "        X = np.concatenate((np.ones((train_features.shape[0], 1)), train_features), axis=1) \n",
    "        y = train_target                                            # вектор целевого признака\n",
    "        w = (np.linalg.inv(X.T.dot(X))).dot(X.T).dot(y)             # вектор всех весов линейной регрессии\n",
    "        self.w = w[1:]                                              # вектор весов признаков\n",
    "        self.w0 = w[0]                                              # вектор веса линейного сдвига\n",
    "\n",
    "    def predict(self, test_features):\n",
    "        '''Функция предсказания и оценки'''\n",
    "        predictions = test_features.dot(self.w) + self.w0           # предсказания для каждого объекта на основе w и w0\n",
    "        r2 = r2_score(target_test, predictions).round(4)            # метрика r2\n",
    "        mse = mean_squared_error(target_test, predictions).round(4) # метрика mse\n",
    "        print('R2: {}'.format(r2))\n",
    "        print('MSE: {}'.format(mse))\n",
    "        return r2, mse "
   ]
  },
  {
   "cell_type": "markdown",
   "metadata": {},
   "source": [
    "Обучаем модель на исходной матрице признаков и оцениваем ее:"
   ]
  },
  {
   "cell_type": "code",
   "execution_count": 14,
   "metadata": {
    "scrolled": true
   },
   "outputs": [
    {
     "name": "stdout",
     "output_type": "stream",
     "text": [
      "R2: 0.4255\n",
      "MSE: 0.1386\n"
     ]
    }
   ],
   "source": [
    "model = IsuranceRegression()\n",
    "model.fit(features_train, target_train)\n",
    "r2, mse = model.predict(features_test)"
   ]
  },
  {
   "cell_type": "markdown",
   "metadata": {},
   "source": [
    "Обучаем модель на модифицированной матрице признаков и оцениваем ее:"
   ]
  },
  {
   "cell_type": "code",
   "execution_count": 15,
   "metadata": {},
   "outputs": [
    {
     "name": "stdout",
     "output_type": "stream",
     "text": [
      "R2: 0.4255\n",
      "MSE: 0.1386\n"
     ]
    }
   ],
   "source": [
    "model_mod = IsuranceRegression()\n",
    "model.fit(features_train_mod, target_train)\n",
    "r2_matrix, mse_matrix = model.predict(features_test_mod)"
   ]
  },
  {
   "cell_type": "markdown",
   "metadata": {},
   "source": [
    "Сравниваем метрики моделей:"
   ]
  },
  {
   "cell_type": "code",
   "execution_count": 16,
   "metadata": {
    "scrolled": true
   },
   "outputs": [
    {
     "data": {
      "text/html": [
       "<div>\n",
       "<style scoped>\n",
       "    .dataframe tbody tr th:only-of-type {\n",
       "        vertical-align: middle;\n",
       "    }\n",
       "\n",
       "    .dataframe tbody tr th {\n",
       "        vertical-align: top;\n",
       "    }\n",
       "\n",
       "    .dataframe thead th {\n",
       "        text-align: right;\n",
       "    }\n",
       "</style>\n",
       "<table border=\"1\" class=\"dataframe\">\n",
       "  <thead>\n",
       "    <tr style=\"text-align: right;\">\n",
       "      <th></th>\n",
       "      <th>Признаки</th>\n",
       "      <th>R2</th>\n",
       "      <th>MSE</th>\n",
       "    </tr>\n",
       "  </thead>\n",
       "  <tbody>\n",
       "    <tr>\n",
       "      <th>0</th>\n",
       "      <td>Исходные признаки</td>\n",
       "      <td>0.4255</td>\n",
       "      <td>0.1386</td>\n",
       "    </tr>\n",
       "    <tr>\n",
       "      <th>1</th>\n",
       "      <td>Модифицированные признаки</td>\n",
       "      <td>0.4255</td>\n",
       "      <td>0.1386</td>\n",
       "    </tr>\n",
       "  </tbody>\n",
       "</table>\n",
       "</div>"
      ],
      "text/plain": [
       "                    Признаки      R2     MSE\n",
       "0          Исходные признаки  0.4255  0.1386\n",
       "1  Модифицированные признаки  0.4255  0.1386"
      ]
     },
     "metadata": {},
     "output_type": "display_data"
    },
    {
     "name": "stdout",
     "output_type": "stream",
     "text": [
      "Умножение матрицы признаков на произвольную обратимую матрицу не влияет на качество модели линейной регрессии.\n"
     ]
    }
   ],
   "source": [
    "score_df = pd.DataFrame({'Признаки' : ['Исходные признаки', 'Модифицированные признаки'],\n",
    "                         'R2' : [r2, r2_matrix],\n",
    "                         'MSE' : [mse, mse_matrix]})\n",
    "display(score_df)\n",
    "\n",
    "if (r2 == r2_matrix) & (mse == mse_matrix):\n",
    "    print('Умножение матрицы признаков на произвольную обратимую матрицу не влияет на качество модели линейной регрессии.')\n",
    "else:\n",
    "    print('Умножение матрицы признаков на произвольную обратимую матрицу влияет на качестве модели линейной регрессии.')"
   ]
  },
  {
   "cell_type": "markdown",
   "metadata": {},
   "source": [
    "## Общий вывод"
   ]
  },
  {
   "cell_type": "markdown",
   "metadata": {},
   "source": [
    "**Информация по датафрейму**\n",
    "1. В датафрейме 5000 строк и 5 столбцов. Один столбец содержит категориальные данные, четыре - числовые.\n",
    "2. Пропущенных значений нет.\n",
    "3. В датафрейме 147 (2.9%) дубликатов. Поскольку в датафрейме среди признаков отсутствует идентификатор клиент, нет оснований предполагать, что дублирующиеся строки относятся к одному и тому же клиенту. Дубликаты целесообразно оставить без изменений.\n",
    "4. Возраст имеет высокую корреляцию с количеством страховых выплат - 0.549.\n",
    "5. У 30.3% клиентов не указаны члены семьи.\n",
    "6.  Большинство клиентов - 4436 (88.7%) - не получали страховых выплат. \n",
    "\n",
    "**Сравнение моделей**  \n",
    "Теоретический анализ показал, что качество модели линейной регрессии при умножении матрицы признаков на произвольную обратимую матрицу остается неизменным.  \n",
    "Проверка на исходном датафрейме подтвердила этот вывод - метрики моделей линейной регрессии, полученные на исходной и модифицируемой матрицах признаков, идентичны:  \n",
    "- R2: 0.4255;\n",
    "- MSE: 0.1386."
   ]
  }
 ],
 "metadata": {
  "ExecuteTimeLog": [
   {
    "duration": 364,
    "start_time": "2023-04-26T20:46:31.722Z"
   },
   {
    "duration": 763,
    "start_time": "2023-04-26T20:46:32.562Z"
   },
   {
    "duration": 14,
    "start_time": "2023-04-26T20:46:54.742Z"
   },
   {
    "duration": 12,
    "start_time": "2023-04-26T20:46:55.612Z"
   },
   {
    "duration": 4,
    "start_time": "2023-04-27T17:26:32.767Z"
   },
   {
    "duration": 4,
    "start_time": "2023-04-27T17:26:59.947Z"
   },
   {
    "duration": 2,
    "start_time": "2023-04-27T17:27:37.077Z"
   },
   {
    "duration": 3,
    "start_time": "2023-04-27T17:29:14.108Z"
   },
   {
    "duration": 4,
    "start_time": "2023-04-27T17:29:19.047Z"
   },
   {
    "duration": 64,
    "start_time": "2023-04-27T17:33:52.357Z"
   },
   {
    "duration": 3,
    "start_time": "2023-04-27T17:34:17.627Z"
   },
   {
    "duration": 7,
    "start_time": "2023-04-27T17:34:19.968Z"
   },
   {
    "duration": 3,
    "start_time": "2023-04-27T17:34:29.269Z"
   },
   {
    "duration": 124,
    "start_time": "2023-04-27T17:34:32.618Z"
   },
   {
    "duration": 2,
    "start_time": "2023-04-27T18:02:03.101Z"
   },
   {
    "duration": 8,
    "start_time": "2023-04-27T18:02:03.414Z"
   },
   {
    "duration": 660,
    "start_time": "2023-04-27T18:02:07.826Z"
   },
   {
    "duration": 39,
    "start_time": "2023-04-27T18:02:11.264Z"
   },
   {
    "duration": 6,
    "start_time": "2023-04-27T18:02:28.513Z"
   },
   {
    "duration": 8,
    "start_time": "2023-04-27T19:03:28.420Z"
   },
   {
    "duration": 24,
    "start_time": "2023-04-27T19:03:34.139Z"
   },
   {
    "duration": 11,
    "start_time": "2023-04-27T19:03:38.930Z"
   },
   {
    "duration": 2,
    "start_time": "2023-04-27T19:03:52.250Z"
   },
   {
    "duration": 7,
    "start_time": "2023-04-27T19:04:18.650Z"
   },
   {
    "duration": 5,
    "start_time": "2023-04-27T19:05:02.270Z"
   },
   {
    "duration": 5,
    "start_time": "2023-04-27T19:18:26.340Z"
   },
   {
    "duration": 6,
    "start_time": "2023-04-27T19:18:28.231Z"
   },
   {
    "duration": 4,
    "start_time": "2023-04-27T19:18:28.721Z"
   },
   {
    "duration": 2,
    "start_time": "2023-04-27T19:19:19.721Z"
   },
   {
    "duration": 5,
    "start_time": "2023-04-27T19:19:56.810Z"
   },
   {
    "duration": 3,
    "start_time": "2023-04-27T19:21:24.461Z"
   },
   {
    "duration": 5,
    "start_time": "2023-04-27T19:22:21.501Z"
   },
   {
    "duration": 2,
    "start_time": "2023-04-27T19:39:08.022Z"
   },
   {
    "duration": 43,
    "start_time": "2023-04-27T19:39:08.205Z"
   },
   {
    "duration": 8,
    "start_time": "2023-04-27T19:39:08.412Z"
   },
   {
    "duration": 11,
    "start_time": "2023-04-27T19:39:08.662Z"
   },
   {
    "duration": 3,
    "start_time": "2023-04-27T19:39:08.942Z"
   },
   {
    "duration": 4,
    "start_time": "2023-04-27T19:39:09.223Z"
   },
   {
    "duration": 2,
    "start_time": "2023-04-27T19:39:09.463Z"
   },
   {
    "duration": 3,
    "start_time": "2023-04-27T19:39:09.713Z"
   },
   {
    "duration": 5,
    "start_time": "2023-04-27T19:39:09.932Z"
   },
   {
    "duration": 2,
    "start_time": "2023-04-27T19:39:10.187Z"
   },
   {
    "duration": 3,
    "start_time": "2023-04-27T19:39:10.422Z"
   },
   {
    "duration": 8,
    "start_time": "2023-04-27T19:39:10.742Z"
   },
   {
    "duration": 2,
    "start_time": "2023-04-27T19:41:49.252Z"
   },
   {
    "duration": 3,
    "start_time": "2023-04-27T19:41:52.302Z"
   },
   {
    "duration": 3,
    "start_time": "2023-04-27T19:42:02.662Z"
   },
   {
    "duration": 3,
    "start_time": "2023-04-27T19:42:03.232Z"
   },
   {
    "duration": 3,
    "start_time": "2023-04-27T19:42:50.342Z"
   },
   {
    "duration": 4,
    "start_time": "2023-04-27T19:42:50.904Z"
   },
   {
    "duration": 2,
    "start_time": "2023-04-27T19:42:55.053Z"
   },
   {
    "duration": 4,
    "start_time": "2023-04-27T19:42:55.512Z"
   },
   {
    "duration": 2,
    "start_time": "2023-04-27T19:43:04.123Z"
   },
   {
    "duration": 4,
    "start_time": "2023-04-27T19:43:04.513Z"
   },
   {
    "duration": 2,
    "start_time": "2023-04-27T19:43:22.005Z"
   },
   {
    "duration": 3,
    "start_time": "2023-04-27T19:43:22.423Z"
   },
   {
    "duration": 87,
    "start_time": "2023-04-27T19:44:51.082Z"
   },
   {
    "duration": 10,
    "start_time": "2023-04-27T19:45:06.776Z"
   },
   {
    "duration": 7,
    "start_time": "2023-04-27T19:46:46.910Z"
   },
   {
    "duration": 10,
    "start_time": "2023-04-27T19:47:05.956Z"
   },
   {
    "duration": 4,
    "start_time": "2023-04-27T19:48:59.363Z"
   },
   {
    "duration": 3,
    "start_time": "2023-04-27T19:49:46.953Z"
   },
   {
    "duration": 4,
    "start_time": "2023-04-27T19:49:52.944Z"
   },
   {
    "duration": 4,
    "start_time": "2023-04-27T19:49:54.786Z"
   },
   {
    "duration": 5,
    "start_time": "2023-04-27T19:50:37.774Z"
   },
   {
    "duration": 4,
    "start_time": "2023-04-27T19:50:52.023Z"
   },
   {
    "duration": 3,
    "start_time": "2023-04-27T19:50:52.476Z"
   },
   {
    "duration": 4,
    "start_time": "2023-04-27T19:51:35.485Z"
   },
   {
    "duration": 3,
    "start_time": "2023-04-27T19:52:03.483Z"
   },
   {
    "duration": 5,
    "start_time": "2023-04-27T19:52:06.243Z"
   },
   {
    "duration": 5,
    "start_time": "2023-04-27T19:52:21.733Z"
   },
   {
    "duration": 4,
    "start_time": "2023-04-27T19:52:22.083Z"
   },
   {
    "duration": 4,
    "start_time": "2023-04-27T19:52:22.433Z"
   },
   {
    "duration": 5,
    "start_time": "2023-04-27T19:52:22.743Z"
   },
   {
    "duration": 4,
    "start_time": "2023-04-27T19:52:35.904Z"
   },
   {
    "duration": 3,
    "start_time": "2023-04-27T19:52:36.263Z"
   },
   {
    "duration": 3,
    "start_time": "2023-04-27T19:52:36.523Z"
   },
   {
    "duration": 4,
    "start_time": "2023-04-27T19:52:36.853Z"
   },
   {
    "duration": 3,
    "start_time": "2023-04-27T19:53:31.884Z"
   },
   {
    "duration": 4,
    "start_time": "2023-04-27T19:53:39.273Z"
   },
   {
    "duration": 4,
    "start_time": "2023-04-27T19:53:47.483Z"
   },
   {
    "duration": 11,
    "start_time": "2023-04-27T19:54:11.985Z"
   },
   {
    "duration": 8,
    "start_time": "2023-04-27T19:56:37.615Z"
   },
   {
    "duration": 11,
    "start_time": "2023-04-27T19:56:59.622Z"
   },
   {
    "duration": 12,
    "start_time": "2023-04-27T19:58:41.882Z"
   },
   {
    "duration": 12,
    "start_time": "2023-04-27T19:58:58.904Z"
   },
   {
    "duration": 3,
    "start_time": "2023-04-27T19:59:32.532Z"
   },
   {
    "duration": 4,
    "start_time": "2023-04-27T19:59:33.681Z"
   },
   {
    "duration": 4,
    "start_time": "2023-04-27T19:59:34.002Z"
   },
   {
    "duration": 4,
    "start_time": "2023-04-27T20:00:23.404Z"
   },
   {
    "duration": 7,
    "start_time": "2023-04-27T20:00:23.912Z"
   },
   {
    "duration": 4,
    "start_time": "2023-04-27T20:01:37.581Z"
   },
   {
    "duration": 14,
    "start_time": "2023-04-27T20:01:38.040Z"
   },
   {
    "duration": 3,
    "start_time": "2023-04-27T20:02:51.522Z"
   },
   {
    "duration": 9,
    "start_time": "2023-04-27T20:02:52.004Z"
   },
   {
    "duration": 3,
    "start_time": "2023-04-27T20:03:10.331Z"
   },
   {
    "duration": 8,
    "start_time": "2023-04-27T20:03:10.741Z"
   },
   {
    "duration": 3,
    "start_time": "2023-04-27T20:03:17.251Z"
   },
   {
    "duration": 7,
    "start_time": "2023-04-27T20:03:17.515Z"
   },
   {
    "duration": 4,
    "start_time": "2023-04-27T20:03:17.923Z"
   },
   {
    "duration": 3,
    "start_time": "2023-04-27T20:03:18.315Z"
   },
   {
    "duration": 5,
    "start_time": "2023-04-27T20:03:18.961Z"
   },
   {
    "duration": 8,
    "start_time": "2023-04-27T20:03:19.415Z"
   },
   {
    "duration": 3,
    "start_time": "2023-04-27T20:04:45.783Z"
   },
   {
    "duration": 7,
    "start_time": "2023-04-27T20:04:46.082Z"
   },
   {
    "duration": 4,
    "start_time": "2023-04-27T20:04:48.681Z"
   },
   {
    "duration": 3,
    "start_time": "2023-04-27T20:04:49.181Z"
   },
   {
    "duration": 4,
    "start_time": "2023-04-27T20:04:50.031Z"
   },
   {
    "duration": 7,
    "start_time": "2023-04-27T20:04:50.281Z"
   },
   {
    "duration": 7,
    "start_time": "2023-04-27T20:08:58.507Z"
   },
   {
    "duration": 8,
    "start_time": "2023-04-27T20:09:03.703Z"
   },
   {
    "duration": 3,
    "start_time": "2023-04-27T20:09:07.941Z"
   },
   {
    "duration": 4,
    "start_time": "2023-04-27T20:09:44.772Z"
   },
   {
    "duration": 4,
    "start_time": "2023-04-29T10:19:34.927Z"
   },
   {
    "duration": 61,
    "start_time": "2023-04-29T10:19:35.157Z"
   },
   {
    "duration": 13,
    "start_time": "2023-04-29T10:19:35.406Z"
   },
   {
    "duration": 10,
    "start_time": "2023-04-29T10:19:35.646Z"
   },
   {
    "duration": 6,
    "start_time": "2023-04-29T10:19:35.897Z"
   },
   {
    "duration": 1116,
    "start_time": "2023-04-29T10:19:43.546Z"
   },
   {
    "duration": 46,
    "start_time": "2023-04-29T10:19:44.663Z"
   },
   {
    "duration": 15,
    "start_time": "2023-04-29T10:19:44.710Z"
   },
   {
    "duration": 11,
    "start_time": "2023-04-29T10:19:44.727Z"
   },
   {
    "duration": 4,
    "start_time": "2023-04-29T10:19:44.739Z"
   },
   {
    "duration": 5,
    "start_time": "2023-04-29T10:19:44.745Z"
   },
   {
    "duration": 4,
    "start_time": "2023-04-29T10:19:44.751Z"
   },
   {
    "duration": 3,
    "start_time": "2023-04-29T10:19:44.867Z"
   },
   {
    "duration": 5,
    "start_time": "2023-04-29T10:19:45.357Z"
   },
   {
    "duration": 3,
    "start_time": "2023-04-29T10:19:45.677Z"
   },
   {
    "duration": 3,
    "start_time": "2023-04-29T10:19:46.047Z"
   },
   {
    "duration": 11,
    "start_time": "2023-04-29T10:19:46.297Z"
   },
   {
    "duration": 7,
    "start_time": "2023-04-29T10:19:46.807Z"
   },
   {
    "duration": 6,
    "start_time": "2023-04-29T10:19:47.237Z"
   },
   {
    "duration": 5,
    "start_time": "2023-04-29T10:19:47.827Z"
   },
   {
    "duration": 11,
    "start_time": "2023-04-29T10:19:48.117Z"
   },
   {
    "duration": 5,
    "start_time": "2023-04-29T10:19:48.498Z"
   },
   {
    "duration": 4,
    "start_time": "2023-04-29T10:31:25.047Z"
   },
   {
    "duration": 5,
    "start_time": "2023-04-29T10:31:25.376Z"
   },
   {
    "duration": 137,
    "start_time": "2023-04-29T10:31:25.887Z"
   },
   {
    "duration": 3,
    "start_time": "2023-04-29T10:32:33.857Z"
   },
   {
    "duration": 4,
    "start_time": "2023-04-29T10:32:34.089Z"
   },
   {
    "duration": 8,
    "start_time": "2023-04-29T10:32:34.347Z"
   },
   {
    "duration": 16,
    "start_time": "2023-04-29T10:33:27.837Z"
   },
   {
    "duration": 3,
    "start_time": "2023-04-29T10:34:08.087Z"
   },
   {
    "duration": 1233,
    "start_time": "2023-04-29T10:34:12.797Z"
   },
   {
    "duration": 3,
    "start_time": "2023-04-29T10:34:34.000Z"
   },
   {
    "duration": 1194,
    "start_time": "2023-04-29T10:34:38.817Z"
   },
   {
    "duration": 12,
    "start_time": "2023-04-29T10:34:57.640Z"
   },
   {
    "duration": 11,
    "start_time": "2023-04-29T10:35:09.187Z"
   },
   {
    "duration": 11,
    "start_time": "2023-04-29T10:35:57.387Z"
   },
   {
    "duration": 3,
    "start_time": "2023-04-29T10:37:25.674Z"
   },
   {
    "duration": 40,
    "start_time": "2023-04-29T10:37:25.837Z"
   },
   {
    "duration": 8,
    "start_time": "2023-04-29T10:37:26.007Z"
   },
   {
    "duration": 10,
    "start_time": "2023-04-29T10:37:26.207Z"
   },
   {
    "duration": 4,
    "start_time": "2023-04-29T10:37:26.457Z"
   },
   {
    "duration": 3,
    "start_time": "2023-04-29T10:37:26.907Z"
   },
   {
    "duration": 3,
    "start_time": "2023-04-29T10:37:27.187Z"
   },
   {
    "duration": 2,
    "start_time": "2023-04-29T10:37:27.457Z"
   },
   {
    "duration": 12,
    "start_time": "2023-04-29T10:37:27.676Z"
   },
   {
    "duration": 5,
    "start_time": "2023-04-29T10:37:41.957Z"
   },
   {
    "duration": 2,
    "start_time": "2023-04-29T10:37:42.787Z"
   },
   {
    "duration": 4,
    "start_time": "2023-04-29T10:37:43.087Z"
   },
   {
    "duration": 7,
    "start_time": "2023-04-29T10:37:43.457Z"
   },
   {
    "duration": 4,
    "start_time": "2023-04-29T10:37:43.827Z"
   },
   {
    "duration": 4,
    "start_time": "2023-04-29T10:37:44.207Z"
   },
   {
    "duration": 4,
    "start_time": "2023-04-29T10:37:44.617Z"
   },
   {
    "duration": 8,
    "start_time": "2023-04-29T10:37:44.917Z"
   },
   {
    "duration": 3,
    "start_time": "2023-04-29T10:37:45.187Z"
   },
   {
    "duration": 3,
    "start_time": "2023-04-29T10:37:47.707Z"
   },
   {
    "duration": 4,
    "start_time": "2023-04-29T10:37:48.176Z"
   },
   {
    "duration": 1047,
    "start_time": "2023-04-29T10:40:41.927Z"
   },
   {
    "duration": 63,
    "start_time": "2023-04-29T10:40:44.017Z"
   },
   {
    "duration": 14,
    "start_time": "2023-04-29T10:40:44.307Z"
   },
   {
    "duration": 11,
    "start_time": "2023-04-29T10:40:44.527Z"
   },
   {
    "duration": 3,
    "start_time": "2023-04-29T10:40:44.797Z"
   },
   {
    "duration": 4,
    "start_time": "2023-04-29T10:40:45.067Z"
   },
   {
    "duration": 3,
    "start_time": "2023-04-29T10:40:45.327Z"
   },
   {
    "duration": 3,
    "start_time": "2023-04-29T10:40:45.546Z"
   },
   {
    "duration": 6,
    "start_time": "2023-04-29T10:40:45.747Z"
   },
   {
    "duration": 2,
    "start_time": "2023-04-29T10:40:45.947Z"
   },
   {
    "duration": 3,
    "start_time": "2023-04-29T10:40:46.157Z"
   },
   {
    "duration": 9,
    "start_time": "2023-04-29T10:40:46.402Z"
   },
   {
    "duration": 4,
    "start_time": "2023-04-29T10:40:46.616Z"
   },
   {
    "duration": 3,
    "start_time": "2023-04-29T10:40:46.837Z"
   },
   {
    "duration": 4,
    "start_time": "2023-04-29T10:40:47.037Z"
   },
   {
    "duration": 9,
    "start_time": "2023-04-29T10:40:47.287Z"
   },
   {
    "duration": 3,
    "start_time": "2023-04-29T10:40:47.507Z"
   },
   {
    "duration": 3,
    "start_time": "2023-04-29T10:40:49.638Z"
   },
   {
    "duration": 4,
    "start_time": "2023-04-29T10:40:49.833Z"
   },
   {
    "duration": 553418,
    "start_time": "2023-04-29T10:40:50.408Z"
   },
   {
    "duration": 12,
    "start_time": "2023-04-29T10:50:03.829Z"
   },
   {
    "duration": 1094,
    "start_time": "2023-04-29T10:51:51.771Z"
   },
   {
    "duration": 52,
    "start_time": "2023-04-29T10:51:52.867Z"
   },
   {
    "duration": 15,
    "start_time": "2023-04-29T10:51:52.920Z"
   },
   {
    "duration": 12,
    "start_time": "2023-04-29T10:51:52.936Z"
   },
   {
    "duration": 19,
    "start_time": "2023-04-29T10:51:52.950Z"
   },
   {
    "duration": 9,
    "start_time": "2023-04-29T10:51:52.971Z"
   },
   {
    "duration": 4,
    "start_time": "2023-04-29T10:51:52.981Z"
   },
   {
    "duration": 4,
    "start_time": "2023-04-29T10:51:52.987Z"
   },
   {
    "duration": 7,
    "start_time": "2023-04-29T10:51:53.132Z"
   },
   {
    "duration": 2,
    "start_time": "2023-04-29T10:51:53.342Z"
   },
   {
    "duration": 4,
    "start_time": "2023-04-29T10:51:53.542Z"
   },
   {
    "duration": 8,
    "start_time": "2023-04-29T10:51:53.732Z"
   },
   {
    "duration": 8,
    "start_time": "2023-04-29T10:51:53.932Z"
   },
   {
    "duration": 5,
    "start_time": "2023-04-29T10:51:54.111Z"
   },
   {
    "duration": 6,
    "start_time": "2023-04-29T10:51:54.295Z"
   },
   {
    "duration": 11,
    "start_time": "2023-04-29T10:51:54.462Z"
   },
   {
    "duration": 5,
    "start_time": "2023-04-29T10:51:54.651Z"
   },
   {
    "duration": 4,
    "start_time": "2023-04-29T10:51:57.152Z"
   },
   {
    "duration": 4,
    "start_time": "2023-04-29T10:51:57.752Z"
   },
   {
    "duration": 90,
    "start_time": "2023-04-29T10:51:58.621Z"
   },
   {
    "duration": 19,
    "start_time": "2023-04-29T10:52:47.221Z"
   },
   {
    "duration": 9,
    "start_time": "2023-04-29T10:52:56.871Z"
   },
   {
    "duration": 6,
    "start_time": "2023-04-29T10:58:39.307Z"
   },
   {
    "duration": 8,
    "start_time": "2023-04-29T10:58:39.749Z"
   },
   {
    "duration": 1113,
    "start_time": "2023-04-29T10:58:49.497Z"
   },
   {
    "duration": 50,
    "start_time": "2023-04-29T10:58:50.612Z"
   },
   {
    "duration": 14,
    "start_time": "2023-04-29T10:58:50.664Z"
   },
   {
    "duration": 11,
    "start_time": "2023-04-29T10:58:50.680Z"
   },
   {
    "duration": 4,
    "start_time": "2023-04-29T10:58:50.692Z"
   },
   {
    "duration": 5,
    "start_time": "2023-04-29T10:58:50.697Z"
   },
   {
    "duration": 4,
    "start_time": "2023-04-29T10:58:50.703Z"
   },
   {
    "duration": 3,
    "start_time": "2023-04-29T10:58:50.708Z"
   },
   {
    "duration": 6,
    "start_time": "2023-04-29T10:58:50.867Z"
   },
   {
    "duration": 2,
    "start_time": "2023-04-29T10:58:51.027Z"
   },
   {
    "duration": 3,
    "start_time": "2023-04-29T10:58:51.207Z"
   },
   {
    "duration": 10,
    "start_time": "2023-04-29T10:58:51.397Z"
   },
   {
    "duration": 5,
    "start_time": "2023-04-29T10:58:51.566Z"
   },
   {
    "duration": 4,
    "start_time": "2023-04-29T10:58:51.737Z"
   },
   {
    "duration": 4,
    "start_time": "2023-04-29T10:58:51.927Z"
   },
   {
    "duration": 10,
    "start_time": "2023-04-29T10:58:52.150Z"
   },
   {
    "duration": 3,
    "start_time": "2023-04-29T10:58:52.327Z"
   },
   {
    "duration": 4,
    "start_time": "2023-04-29T10:58:54.306Z"
   },
   {
    "duration": 9,
    "start_time": "2023-04-29T10:58:54.727Z"
   },
   {
    "duration": 12,
    "start_time": "2023-04-29T10:58:55.281Z"
   },
   {
    "duration": 4,
    "start_time": "2023-04-29T10:59:15.109Z"
   },
   {
    "duration": 3,
    "start_time": "2023-04-29T10:59:15.426Z"
   },
   {
    "duration": 8,
    "start_time": "2023-04-29T10:59:24.817Z"
   },
   {
    "duration": 112,
    "start_time": "2023-04-29T11:00:15.117Z"
   },
   {
    "duration": 6,
    "start_time": "2023-04-29T11:01:01.776Z"
   },
   {
    "duration": 8,
    "start_time": "2023-04-29T11:01:02.327Z"
   },
   {
    "duration": 11,
    "start_time": "2023-04-29T11:01:47.276Z"
   },
   {
    "duration": 5,
    "start_time": "2023-04-29T11:01:54.748Z"
   },
   {
    "duration": 4,
    "start_time": "2023-04-29T11:04:56.267Z"
   },
   {
    "duration": 6,
    "start_time": "2023-04-29T11:04:56.896Z"
   },
   {
    "duration": 7,
    "start_time": "2023-04-29T11:04:58.247Z"
   },
   {
    "duration": 4,
    "start_time": "2023-04-29T11:05:12.506Z"
   },
   {
    "duration": 6,
    "start_time": "2023-04-29T11:05:12.976Z"
   },
   {
    "duration": 7,
    "start_time": "2023-04-29T11:05:13.286Z"
   },
   {
    "duration": 7,
    "start_time": "2023-04-29T11:05:37.136Z"
   },
   {
    "duration": 7,
    "start_time": "2023-04-29T11:05:41.926Z"
   },
   {
    "duration": 5,
    "start_time": "2023-04-29T11:06:50.887Z"
   },
   {
    "duration": 4,
    "start_time": "2023-04-29T11:07:23.906Z"
   },
   {
    "duration": 6,
    "start_time": "2023-04-29T11:07:24.356Z"
   },
   {
    "duration": 3,
    "start_time": "2023-04-29T11:07:34.457Z"
   },
   {
    "duration": 7,
    "start_time": "2023-04-29T11:07:34.746Z"
   },
   {
    "duration": 1073,
    "start_time": "2023-04-29T11:20:43.829Z"
   },
   {
    "duration": 88,
    "start_time": "2023-04-29T11:20:44.904Z"
   },
   {
    "duration": 15,
    "start_time": "2023-04-29T11:20:44.994Z"
   },
   {
    "duration": 25,
    "start_time": "2023-04-29T11:20:45.011Z"
   },
   {
    "duration": 11,
    "start_time": "2023-04-29T11:20:45.038Z"
   },
   {
    "duration": 5,
    "start_time": "2023-04-29T11:20:45.058Z"
   },
   {
    "duration": 3,
    "start_time": "2023-04-29T11:20:45.329Z"
   },
   {
    "duration": 3,
    "start_time": "2023-04-29T11:20:45.529Z"
   },
   {
    "duration": 6,
    "start_time": "2023-04-29T11:20:45.751Z"
   },
   {
    "duration": 3,
    "start_time": "2023-04-29T11:20:45.969Z"
   },
   {
    "duration": 3,
    "start_time": "2023-04-29T11:20:46.219Z"
   },
   {
    "duration": 11,
    "start_time": "2023-04-29T11:20:46.478Z"
   },
   {
    "duration": 5,
    "start_time": "2023-04-29T11:20:46.759Z"
   },
   {
    "duration": 3,
    "start_time": "2023-04-29T11:20:47.080Z"
   },
   {
    "duration": 5,
    "start_time": "2023-04-29T11:20:47.479Z"
   },
   {
    "duration": 8,
    "start_time": "2023-04-29T11:20:47.779Z"
   },
   {
    "duration": 4,
    "start_time": "2023-04-29T11:20:48.129Z"
   },
   {
    "duration": 4,
    "start_time": "2023-04-29T11:20:50.700Z"
   },
   {
    "duration": 8,
    "start_time": "2023-04-29T11:20:51.769Z"
   },
   {
    "duration": 5,
    "start_time": "2023-04-29T11:21:07.559Z"
   },
   {
    "duration": 7,
    "start_time": "2023-04-29T11:21:08.179Z"
   },
   {
    "duration": 4,
    "start_time": "2023-04-29T11:21:38.749Z"
   },
   {
    "duration": 6,
    "start_time": "2023-04-29T11:21:39.319Z"
   },
   {
    "duration": 6,
    "start_time": "2023-04-29T11:21:51.319Z"
   },
   {
    "duration": 6,
    "start_time": "2023-04-29T11:21:51.959Z"
   },
   {
    "duration": 4,
    "start_time": "2023-04-29T11:21:56.809Z"
   },
   {
    "duration": 7,
    "start_time": "2023-04-29T11:21:57.619Z"
   },
   {
    "duration": 241,
    "start_time": "2023-04-29T11:21:57.919Z"
   },
   {
    "duration": 5,
    "start_time": "2023-04-29T11:22:13.129Z"
   },
   {
    "duration": 10,
    "start_time": "2023-04-29T11:22:14.059Z"
   },
   {
    "duration": 6,
    "start_time": "2023-04-29T11:22:41.910Z"
   },
   {
    "duration": 7,
    "start_time": "2023-04-29T11:22:42.189Z"
   },
   {
    "duration": 18,
    "start_time": "2023-04-29T11:22:43.039Z"
   },
   {
    "duration": 6,
    "start_time": "2023-04-29T11:23:32.740Z"
   },
   {
    "duration": 6,
    "start_time": "2023-04-29T11:23:59.159Z"
   },
   {
    "duration": 10,
    "start_time": "2023-04-29T11:25:34.114Z"
   },
   {
    "duration": 8,
    "start_time": "2023-04-29T11:25:40.372Z"
   },
   {
    "duration": 74,
    "start_time": "2023-04-29T11:25:50.329Z"
   },
   {
    "duration": 3,
    "start_time": "2023-04-29T11:26:30.660Z"
   },
   {
    "duration": 5,
    "start_time": "2023-04-29T11:26:37.973Z"
   },
   {
    "duration": 3,
    "start_time": "2023-04-29T11:27:52.249Z"
   },
   {
    "duration": 4,
    "start_time": "2023-04-29T11:27:52.729Z"
   },
   {
    "duration": 4,
    "start_time": "2023-04-29T11:29:03.072Z"
   },
   {
    "duration": 5,
    "start_time": "2023-04-29T11:29:03.479Z"
   },
   {
    "duration": 11,
    "start_time": "2023-04-29T11:29:32.299Z"
   },
   {
    "duration": 75,
    "start_time": "2023-04-29T11:29:39.649Z"
   },
   {
    "duration": 74,
    "start_time": "2023-04-29T11:30:41.150Z"
   },
   {
    "duration": 81,
    "start_time": "2023-04-29T11:31:04.529Z"
   },
   {
    "duration": 4,
    "start_time": "2023-04-29T11:31:21.999Z"
   },
   {
    "duration": 6,
    "start_time": "2023-04-29T11:31:22.680Z"
   },
   {
    "duration": 74,
    "start_time": "2023-04-29T11:31:33.500Z"
   },
   {
    "duration": 4,
    "start_time": "2023-04-29T11:33:11.340Z"
   },
   {
    "duration": 8,
    "start_time": "2023-04-29T11:33:13.410Z"
   },
   {
    "duration": 10,
    "start_time": "2023-04-29T11:34:57.221Z"
   },
   {
    "duration": 6,
    "start_time": "2023-04-29T11:35:02.675Z"
   },
   {
    "duration": 6,
    "start_time": "2023-04-29T11:35:03.140Z"
   },
   {
    "duration": 79,
    "start_time": "2023-04-29T11:35:03.560Z"
   },
   {
    "duration": 5,
    "start_time": "2023-04-29T11:35:04.200Z"
   },
   {
    "duration": 8,
    "start_time": "2023-04-29T11:35:05.120Z"
   },
   {
    "duration": 5,
    "start_time": "2023-04-29T11:41:12.490Z"
   },
   {
    "duration": 129,
    "start_time": "2023-04-29T11:42:07.010Z"
   },
   {
    "duration": 9,
    "start_time": "2023-04-29T11:43:29.760Z"
   },
   {
    "duration": 10,
    "start_time": "2023-04-29T11:43:33.430Z"
   },
   {
    "duration": 12,
    "start_time": "2023-04-29T11:51:00.335Z"
   },
   {
    "duration": 10,
    "start_time": "2023-04-29T11:52:06.080Z"
   },
   {
    "duration": 13658,
    "start_time": "2023-04-29T11:52:59.943Z"
   },
   {
    "duration": 2436,
    "start_time": "2023-04-29T11:53:55.922Z"
   },
   {
    "duration": 142,
    "start_time": "2023-04-29T11:54:21.731Z"
   },
   {
    "duration": 30,
    "start_time": "2023-04-29T11:54:22.886Z"
   },
   {
    "duration": 6642,
    "start_time": "2023-04-29T11:54:23.660Z"
   },
   {
    "duration": 77,
    "start_time": "2023-04-29T12:40:23.014Z"
   },
   {
    "duration": 7,
    "start_time": "2023-04-29T12:40:33.013Z"
   },
   {
    "duration": 5,
    "start_time": "2023-04-29T12:47:04.043Z"
   },
   {
    "duration": 5,
    "start_time": "2023-04-29T12:47:22.976Z"
   },
   {
    "duration": 4,
    "start_time": "2023-04-29T12:48:50.579Z"
   },
   {
    "duration": 238,
    "start_time": "2023-04-29T12:49:42.976Z"
   },
   {
    "duration": 2137,
    "start_time": "2023-04-29T12:50:02.805Z"
   },
   {
    "duration": 28,
    "start_time": "2023-04-29T12:50:04.944Z"
   },
   {
    "duration": 6551,
    "start_time": "2023-04-29T12:50:04.974Z"
   },
   {
    "duration": 5,
    "start_time": "2023-04-29T12:50:11.528Z"
   },
   {
    "duration": 8,
    "start_time": "2023-04-29T12:50:11.534Z"
   },
   {
    "duration": 5,
    "start_time": "2023-04-29T12:50:11.543Z"
   },
   {
    "duration": 212,
    "start_time": "2023-04-29T12:50:11.549Z"
   },
   {
    "duration": 0,
    "start_time": "2023-04-29T12:50:11.763Z"
   },
   {
    "duration": 0,
    "start_time": "2023-04-29T12:50:11.764Z"
   },
   {
    "duration": 0,
    "start_time": "2023-04-29T12:50:11.765Z"
   },
   {
    "duration": 0,
    "start_time": "2023-04-29T12:50:11.766Z"
   },
   {
    "duration": 0,
    "start_time": "2023-04-29T12:50:11.767Z"
   },
   {
    "duration": 30,
    "start_time": "2023-04-29T12:50:11.780Z"
   },
   {
    "duration": 12,
    "start_time": "2023-04-29T12:50:56.125Z"
   },
   {
    "duration": 11,
    "start_time": "2023-04-29T12:51:45.635Z"
   },
   {
    "duration": 1976,
    "start_time": "2023-04-29T12:52:31.568Z"
   },
   {
    "duration": 27,
    "start_time": "2023-04-29T12:52:33.547Z"
   },
   {
    "duration": 6753,
    "start_time": "2023-04-29T12:52:33.575Z"
   },
   {
    "duration": 3,
    "start_time": "2023-04-29T12:52:56.534Z"
   },
   {
    "duration": 3,
    "start_time": "2023-04-29T12:52:57.614Z"
   },
   {
    "duration": 3,
    "start_time": "2023-04-29T12:52:57.924Z"
   },
   {
    "duration": 3,
    "start_time": "2023-04-29T12:53:12.710Z"
   },
   {
    "duration": 6,
    "start_time": "2023-04-29T12:53:13.364Z"
   },
   {
    "duration": 4,
    "start_time": "2023-04-29T12:53:14.536Z"
   },
   {
    "duration": 3,
    "start_time": "2023-04-29T12:53:14.981Z"
   },
   {
    "duration": 9,
    "start_time": "2023-04-29T12:53:15.453Z"
   },
   {
    "duration": 5,
    "start_time": "2023-04-29T12:53:16.253Z"
   },
   {
    "duration": 200,
    "start_time": "2023-04-29T12:53:25.808Z"
   },
   {
    "duration": 4,
    "start_time": "2023-04-29T12:53:38.814Z"
   },
   {
    "duration": 8,
    "start_time": "2023-04-29T12:53:39.515Z"
   },
   {
    "duration": 4,
    "start_time": "2023-04-29T12:54:04.888Z"
   },
   {
    "duration": 26,
    "start_time": "2023-04-29T12:54:05.264Z"
   },
   {
    "duration": 2017,
    "start_time": "2023-04-29T12:54:18.014Z"
   },
   {
    "duration": 27,
    "start_time": "2023-04-29T12:54:20.033Z"
   },
   {
    "duration": 6430,
    "start_time": "2023-04-29T12:54:20.062Z"
   },
   {
    "duration": 6,
    "start_time": "2023-04-29T12:54:26.494Z"
   },
   {
    "duration": 11,
    "start_time": "2023-04-29T12:54:26.502Z"
   },
   {
    "duration": 8,
    "start_time": "2023-04-29T12:54:26.515Z"
   },
   {
    "duration": 3,
    "start_time": "2023-04-29T12:54:26.524Z"
   },
   {
    "duration": 3,
    "start_time": "2023-04-29T12:54:26.529Z"
   },
   {
    "duration": 12,
    "start_time": "2023-04-29T12:54:26.534Z"
   },
   {
    "duration": 57,
    "start_time": "2023-04-29T12:54:26.548Z"
   },
   {
    "duration": 7,
    "start_time": "2023-04-29T12:54:26.607Z"
   },
   {
    "duration": 79,
    "start_time": "2023-04-29T12:54:26.616Z"
   },
   {
    "duration": 8,
    "start_time": "2023-04-29T12:54:26.698Z"
   },
   {
    "duration": 5,
    "start_time": "2023-04-29T14:23:14.615Z"
   },
   {
    "duration": 18,
    "start_time": "2023-04-29T14:23:15.484Z"
   },
   {
    "duration": 7,
    "start_time": "2023-04-29T14:23:54.054Z"
   },
   {
    "duration": 168,
    "start_time": "2023-04-29T14:23:54.534Z"
   },
   {
    "duration": 7,
    "start_time": "2023-04-29T14:28:28.655Z"
   },
   {
    "duration": 7,
    "start_time": "2023-04-29T14:28:29.009Z"
   },
   {
    "duration": 7,
    "start_time": "2023-04-29T14:28:30.034Z"
   },
   {
    "duration": 4,
    "start_time": "2023-04-29T14:28:31.313Z"
   },
   {
    "duration": 7,
    "start_time": "2023-04-29T14:28:32.573Z"
   },
   {
    "duration": 70,
    "start_time": "2023-04-29T14:29:38.714Z"
   },
   {
    "duration": 7,
    "start_time": "2023-04-29T14:30:08.254Z"
   },
   {
    "duration": 4,
    "start_time": "2023-04-29T14:30:09.374Z"
   },
   {
    "duration": 8,
    "start_time": "2023-04-29T14:30:09.704Z"
   },
   {
    "duration": 8,
    "start_time": "2023-04-29T14:30:36.144Z"
   },
   {
    "duration": 10,
    "start_time": "2023-04-29T14:30:59.884Z"
   },
   {
    "duration": 9,
    "start_time": "2023-04-29T14:32:03.565Z"
   },
   {
    "duration": 3,
    "start_time": "2023-04-29T14:32:50.616Z"
   },
   {
    "duration": 10,
    "start_time": "2023-04-29T14:32:57.474Z"
   },
   {
    "duration": 2086,
    "start_time": "2023-04-29T20:41:09.677Z"
   },
   {
    "duration": 43,
    "start_time": "2023-04-29T20:41:11.765Z"
   },
   {
    "duration": 6255,
    "start_time": "2023-04-29T20:41:11.809Z"
   },
   {
    "duration": 3,
    "start_time": "2023-04-29T20:41:25.193Z"
   },
   {
    "duration": 4,
    "start_time": "2023-04-29T20:41:26.776Z"
   },
   {
    "duration": 7,
    "start_time": "2023-04-29T20:41:28.141Z"
   },
   {
    "duration": 5,
    "start_time": "2023-04-29T20:41:29.302Z"
   },
   {
    "duration": 4,
    "start_time": "2023-04-29T20:41:30.784Z"
   },
   {
    "duration": 6,
    "start_time": "2023-04-29T20:41:32.121Z"
   },
   {
    "duration": 7,
    "start_time": "2023-04-29T20:41:33.299Z"
   },
   {
    "duration": 6,
    "start_time": "2023-04-29T20:41:36.211Z"
   },
   {
    "duration": 10,
    "start_time": "2023-04-29T20:41:37.441Z"
   },
   {
    "duration": 12,
    "start_time": "2023-04-29T20:54:48.622Z"
   },
   {
    "duration": 2263,
    "start_time": "2023-04-29T21:22:38.598Z"
   },
   {
    "duration": 1912,
    "start_time": "2023-04-29T21:22:40.864Z"
   },
   {
    "duration": 34,
    "start_time": "2023-04-29T21:22:42.778Z"
   },
   {
    "duration": 6082,
    "start_time": "2023-04-29T21:22:42.813Z"
   },
   {
    "duration": 6,
    "start_time": "2023-04-29T21:22:48.905Z"
   },
   {
    "duration": 18,
    "start_time": "2023-04-29T21:22:48.913Z"
   },
   {
    "duration": 13,
    "start_time": "2023-04-29T21:22:48.933Z"
   },
   {
    "duration": 4,
    "start_time": "2023-04-29T21:22:48.948Z"
   },
   {
    "duration": 46,
    "start_time": "2023-04-29T21:22:48.953Z"
   },
   {
    "duration": 13,
    "start_time": "2023-04-29T21:22:49.004Z"
   },
   {
    "duration": 84,
    "start_time": "2023-04-29T21:22:49.020Z"
   },
   {
    "duration": 6,
    "start_time": "2023-04-29T21:22:49.105Z"
   },
   {
    "duration": 89,
    "start_time": "2023-04-29T21:22:49.112Z"
   },
   {
    "duration": 2147,
    "start_time": "2023-04-29T21:58:19.795Z"
   },
   {
    "duration": 1764,
    "start_time": "2023-04-29T21:58:21.944Z"
   },
   {
    "duration": 27,
    "start_time": "2023-04-29T21:58:23.709Z"
   },
   {
    "duration": 5992,
    "start_time": "2023-04-29T21:58:23.738Z"
   },
   {
    "duration": 4,
    "start_time": "2023-04-29T21:58:29.732Z"
   },
   {
    "duration": 6,
    "start_time": "2023-04-29T21:58:29.737Z"
   },
   {
    "duration": 6,
    "start_time": "2023-04-29T21:58:29.745Z"
   },
   {
    "duration": 4,
    "start_time": "2023-04-29T21:58:29.753Z"
   },
   {
    "duration": 39,
    "start_time": "2023-04-29T21:58:29.758Z"
   },
   {
    "duration": 6,
    "start_time": "2023-04-29T21:58:29.799Z"
   },
   {
    "duration": 88,
    "start_time": "2023-04-29T21:58:29.807Z"
   },
   {
    "duration": 6,
    "start_time": "2023-04-29T21:58:29.897Z"
   },
   {
    "duration": 95,
    "start_time": "2023-04-29T21:58:29.905Z"
   },
   {
    "duration": 2343,
    "start_time": "2023-04-30T05:59:25.400Z"
   },
   {
    "duration": 1808,
    "start_time": "2023-04-30T05:59:27.746Z"
   },
   {
    "duration": 28,
    "start_time": "2023-04-30T05:59:29.556Z"
   },
   {
    "duration": 6080,
    "start_time": "2023-04-30T05:59:29.586Z"
   },
   {
    "duration": 4,
    "start_time": "2023-04-30T05:59:35.668Z"
   },
   {
    "duration": 8,
    "start_time": "2023-04-30T05:59:35.674Z"
   },
   {
    "duration": 12,
    "start_time": "2023-04-30T05:59:35.684Z"
   },
   {
    "duration": 6,
    "start_time": "2023-04-30T05:59:35.698Z"
   },
   {
    "duration": 7,
    "start_time": "2023-04-30T05:59:35.705Z"
   },
   {
    "duration": 83,
    "start_time": "2023-04-30T05:59:35.713Z"
   },
   {
    "duration": 13,
    "start_time": "2023-04-30T05:59:35.798Z"
   },
   {
    "duration": 86,
    "start_time": "2023-04-30T05:59:35.812Z"
   },
   {
    "duration": 96,
    "start_time": "2023-04-30T05:59:35.900Z"
   },
   {
    "duration": 14829,
    "start_time": "2023-05-01T02:28:37.639Z"
   },
   {
    "duration": 3541,
    "start_time": "2023-05-01T02:28:52.470Z"
   },
   {
    "duration": 87,
    "start_time": "2023-05-01T02:28:56.013Z"
   },
   {
    "duration": 6905,
    "start_time": "2023-05-01T02:28:56.102Z"
   },
   {
    "duration": 4,
    "start_time": "2023-05-01T02:29:03.009Z"
   },
   {
    "duration": 25,
    "start_time": "2023-05-01T02:29:03.015Z"
   },
   {
    "duration": 19,
    "start_time": "2023-05-01T02:29:03.042Z"
   },
   {
    "duration": 7,
    "start_time": "2023-05-01T02:29:03.063Z"
   },
   {
    "duration": 40,
    "start_time": "2023-05-01T02:29:03.071Z"
   },
   {
    "duration": 80,
    "start_time": "2023-05-01T02:29:03.114Z"
   },
   {
    "duration": 19,
    "start_time": "2023-05-01T02:29:03.197Z"
   },
   {
    "duration": 78,
    "start_time": "2023-05-01T02:29:03.221Z"
   },
   {
    "duration": 95,
    "start_time": "2023-05-01T02:29:03.301Z"
   },
   {
    "duration": 488,
    "start_time": "2023-05-01T08:31:25.638Z"
   },
   {
    "duration": 78,
    "start_time": "2023-05-01T08:31:26.230Z"
   },
   {
    "duration": 12,
    "start_time": "2023-05-01T08:31:27.237Z"
   },
   {
    "duration": 13711,
    "start_time": "2023-05-01T08:31:31.699Z"
   },
   {
    "duration": 1691,
    "start_time": "2023-05-01T08:31:45.412Z"
   },
   {
    "duration": 31,
    "start_time": "2023-05-01T08:31:47.104Z"
   },
   {
    "duration": 6580,
    "start_time": "2023-05-01T08:31:47.138Z"
   },
   {
    "duration": 4,
    "start_time": "2023-05-01T08:31:53.720Z"
   },
   {
    "duration": 15,
    "start_time": "2023-05-01T08:31:53.725Z"
   },
   {
    "duration": 11,
    "start_time": "2023-05-01T08:31:53.741Z"
   },
   {
    "duration": 6,
    "start_time": "2023-05-01T08:31:53.753Z"
   },
   {
    "duration": 5,
    "start_time": "2023-05-01T08:32:02.294Z"
   },
   {
    "duration": 6,
    "start_time": "2023-05-01T08:32:02.958Z"
   },
   {
    "duration": 9,
    "start_time": "2023-05-01T08:32:03.950Z"
   },
   {
    "duration": 8,
    "start_time": "2023-05-01T08:32:04.150Z"
   },
   {
    "duration": 13,
    "start_time": "2023-05-01T08:32:04.868Z"
   },
   {
    "duration": 3,
    "start_time": "2023-05-01T10:16:04.146Z"
   },
   {
    "duration": 120,
    "start_time": "2023-05-01T10:16:04.848Z"
   },
   {
    "duration": 10,
    "start_time": "2023-05-01T10:16:08.730Z"
   },
   {
    "duration": 8,
    "start_time": "2023-05-01T10:16:31.209Z"
   },
   {
    "duration": 3,
    "start_time": "2023-05-01T10:16:53.705Z"
   },
   {
    "duration": 6,
    "start_time": "2023-05-01T10:16:54.029Z"
   },
   {
    "duration": 3,
    "start_time": "2023-05-01T10:18:10.908Z"
   },
   {
    "duration": 4,
    "start_time": "2023-05-01T10:18:11.904Z"
   },
   {
    "duration": 5,
    "start_time": "2023-05-01T10:18:23.519Z"
   },
   {
    "duration": 5,
    "start_time": "2023-05-01T10:18:24.242Z"
   },
   {
    "duration": 7,
    "start_time": "2023-05-01T10:18:25.957Z"
   },
   {
    "duration": 7,
    "start_time": "2023-05-01T10:18:26.798Z"
   },
   {
    "duration": 11,
    "start_time": "2023-05-01T10:18:28.345Z"
   },
   {
    "duration": 3218,
    "start_time": "2023-05-01T10:27:01.380Z"
   },
   {
    "duration": 2348,
    "start_time": "2023-05-01T10:27:04.600Z"
   },
   {
    "duration": 32,
    "start_time": "2023-05-01T10:27:06.952Z"
   },
   {
    "duration": 7641,
    "start_time": "2023-05-01T10:27:06.987Z"
   },
   {
    "duration": 6,
    "start_time": "2023-05-01T10:27:14.632Z"
   },
   {
    "duration": 24,
    "start_time": "2023-05-01T10:27:14.640Z"
   },
   {
    "duration": 12,
    "start_time": "2023-05-01T10:27:14.666Z"
   },
   {
    "duration": 4,
    "start_time": "2023-05-01T10:27:14.680Z"
   },
   {
    "duration": 11,
    "start_time": "2023-05-01T10:27:14.685Z"
   },
   {
    "duration": 11,
    "start_time": "2023-05-01T10:27:14.737Z"
   },
   {
    "duration": 83,
    "start_time": "2023-05-01T10:27:14.752Z"
   },
   {
    "duration": 23,
    "start_time": "2023-05-01T10:27:14.837Z"
   },
   {
    "duration": 76,
    "start_time": "2023-05-01T10:27:14.863Z"
   },
   {
    "duration": 110,
    "start_time": "2023-05-01T10:27:14.942Z"
   },
   {
    "duration": 2724,
    "start_time": "2023-05-01T10:36:01.815Z"
   },
   {
    "duration": 1988,
    "start_time": "2023-05-01T10:36:04.541Z"
   },
   {
    "duration": 30,
    "start_time": "2023-05-01T10:36:06.531Z"
   },
   {
    "duration": 6761,
    "start_time": "2023-05-01T10:36:06.562Z"
   },
   {
    "duration": 3,
    "start_time": "2023-05-01T10:36:13.326Z"
   },
   {
    "duration": 13,
    "start_time": "2023-05-01T10:36:13.331Z"
   },
   {
    "duration": 14,
    "start_time": "2023-05-01T10:36:13.346Z"
   },
   {
    "duration": 11,
    "start_time": "2023-05-01T10:36:13.362Z"
   },
   {
    "duration": 7,
    "start_time": "2023-05-01T10:36:13.375Z"
   },
   {
    "duration": 51,
    "start_time": "2023-05-01T10:36:13.384Z"
   },
   {
    "duration": 9,
    "start_time": "2023-05-01T10:36:13.437Z"
   },
   {
    "duration": 89,
    "start_time": "2023-05-01T10:36:13.448Z"
   },
   {
    "duration": 7,
    "start_time": "2023-05-01T10:36:13.539Z"
   },
   {
    "duration": 98,
    "start_time": "2023-05-01T10:36:13.549Z"
   },
   {
    "duration": 2845,
    "start_time": "2023-05-01T10:36:34.113Z"
   },
   {
    "duration": 2105,
    "start_time": "2023-05-01T10:36:38.516Z"
   },
   {
    "duration": 31,
    "start_time": "2023-05-01T10:36:46.843Z"
   },
   {
    "duration": 6925,
    "start_time": "2023-05-01T10:36:48.242Z"
   },
   {
    "duration": 4,
    "start_time": "2023-05-01T10:37:08.952Z"
   },
   {
    "duration": 5,
    "start_time": "2023-05-01T10:37:10.310Z"
   },
   {
    "duration": 10,
    "start_time": "2023-05-01T10:37:10.913Z"
   },
   {
    "duration": 3,
    "start_time": "2023-05-01T10:37:11.518Z"
   },
   {
    "duration": 3,
    "start_time": "2023-05-01T10:37:11.843Z"
   },
   {
    "duration": 5,
    "start_time": "2023-05-01T10:37:13.284Z"
   },
   {
    "duration": 6,
    "start_time": "2023-05-01T10:37:13.983Z"
   },
   {
    "duration": 10,
    "start_time": "2023-05-01T10:37:14.653Z"
   },
   {
    "duration": 8,
    "start_time": "2023-05-01T10:37:15.243Z"
   },
   {
    "duration": 11,
    "start_time": "2023-05-01T10:37:15.852Z"
   },
   {
    "duration": 2599,
    "start_time": "2023-05-01T10:59:10.738Z"
   },
   {
    "duration": 1846,
    "start_time": "2023-05-01T10:59:13.340Z"
   },
   {
    "duration": 31,
    "start_time": "2023-05-01T10:59:15.188Z"
   },
   {
    "duration": 6043,
    "start_time": "2023-05-01T10:59:15.220Z"
   },
   {
    "duration": 4,
    "start_time": "2023-05-01T10:59:21.266Z"
   },
   {
    "duration": 7,
    "start_time": "2023-05-01T10:59:21.271Z"
   },
   {
    "duration": 13,
    "start_time": "2023-05-01T10:59:21.280Z"
   },
   {
    "duration": 11,
    "start_time": "2023-05-01T10:59:21.295Z"
   },
   {
    "duration": 23,
    "start_time": "2023-05-01T10:59:21.308Z"
   },
   {
    "duration": 10,
    "start_time": "2023-05-01T10:59:21.333Z"
   },
   {
    "duration": 90,
    "start_time": "2023-05-01T10:59:21.344Z"
   },
   {
    "duration": 6,
    "start_time": "2023-05-01T10:59:21.436Z"
   },
   {
    "duration": 93,
    "start_time": "2023-05-01T10:59:21.444Z"
   },
   {
    "duration": 101,
    "start_time": "2023-05-01T10:59:21.539Z"
   }
  ],
  "kernelspec": {
   "display_name": "Python 3 (ipykernel)",
   "language": "python",
   "name": "python3"
  },
  "language_info": {
   "codemirror_mode": {
    "name": "ipython",
    "version": 3
   },
   "file_extension": ".py",
   "mimetype": "text/x-python",
   "name": "python",
   "nbconvert_exporter": "python",
   "pygments_lexer": "ipython3",
   "version": "3.11.4"
  },
  "toc": {
   "base_numbering": 1,
   "nav_menu": {},
   "number_sections": true,
   "sideBar": true,
   "skip_h1_title": true,
   "title_cell": "Содержание",
   "title_sidebar": "Contents",
   "toc_cell": true,
   "toc_position": {},
   "toc_section_display": true,
   "toc_window_display": false
  }
 },
 "nbformat": 4,
 "nbformat_minor": 2
}
