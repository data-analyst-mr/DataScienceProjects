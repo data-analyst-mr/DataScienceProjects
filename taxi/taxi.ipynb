{
 "cells": [
  {
   "cell_type": "code",
   "execution_count": 1,
   "metadata": {},
   "outputs": [],
   "source": [
    "# !pip install optuna\n",
    "# !pip install imblearn"
   ]
  },
  {
   "cell_type": "markdown",
   "metadata": {},
   "source": [
    "# Прогнозирование заказов такси"
   ]
  },
  {
   "cell_type": "markdown",
   "metadata": {
    "toc": true
   },
   "source": [
    "<h1>Содержание<span class=\"tocSkip\"></span></h1>\n",
    "<div class=\"toc\"><ul class=\"toc-item\"><li><span><a href=\"#Загрузка-данных-и-общая-информация\" data-toc-modified-id=\"Загрузка-данных-и-общая-информация-1\"><span class=\"toc-item-num\">1&nbsp;&nbsp;</span>Загрузка данных и общая информация</a></span></li><li><span><a href=\"#Подготовка\" data-toc-modified-id=\"Подготовка-2\"><span class=\"toc-item-num\">2&nbsp;&nbsp;</span>Подготовка</a></span></li><li><span><a href=\"#Анализ\" data-toc-modified-id=\"Анализ-3\"><span class=\"toc-item-num\">3&nbsp;&nbsp;</span>Анализ</a></span></li><li><span><a href=\"#Обучение\" data-toc-modified-id=\"Обучение-4\"><span class=\"toc-item-num\">4&nbsp;&nbsp;</span>Обучение</a></span><ul class=\"toc-item\"><li><span><a href=\"#Подготовка-выборок\" data-toc-modified-id=\"Подготовка-выборок-4.1\"><span class=\"toc-item-num\">4.1&nbsp;&nbsp;</span>Подготовка выборок</a></span></li><li><span><a href=\"#Обучение-моделей\" data-toc-modified-id=\"Обучение-моделей-4.2\"><span class=\"toc-item-num\">4.2&nbsp;&nbsp;</span>Обучение моделей</a></span></li><li><span><a href=\"#Важность-основных-факторов\" data-toc-modified-id=\"Важность-основных-факторов-4.3\"><span class=\"toc-item-num\">4.3&nbsp;&nbsp;</span>Важность основных факторов</a></span></li></ul></li><li><span><a href=\"#Тестирование\" data-toc-modified-id=\"Тестирование-5\"><span class=\"toc-item-num\">5&nbsp;&nbsp;</span>Тестирование</a></span></li><li><span><a href=\"#Общий-вывод\" data-toc-modified-id=\"Общий-вывод-6\"><span class=\"toc-item-num\">6&nbsp;&nbsp;</span>Общий вывод</a></span></li><li><span><a href=\"#Чек-лист-проверки\" data-toc-modified-id=\"Чек-лист-проверки-7\"><span class=\"toc-item-num\">7&nbsp;&nbsp;</span>Чек-лист проверки</a></span></li></ul></div>"
   ]
  },
  {
   "cell_type": "markdown",
   "metadata": {},
   "source": [
    "**Заказчик исследования:** компания «Чётенькое такси».  \n",
    "**Цель исследования:** построить модель прогнозирования количества заказов такси в аэропортах на следующий час.\n",
    "\n",
    "**Особенности проекта:** Значение метрики RMSE на тестовой выборке должно быть не больше 48.\n",
    "\n",
    "**Исходные данные:**  \n",
    "Исходные данные представлены в датасете taxi.csv:  \n",
    "\n",
    "В датасете содержатся следующие признаки:  \n",
    "- datetime (дата и время);  \n",
    "- num_orders (количество заказов).\n",
    "\n",
    "**Превью:** в проекте рассмотрены модели LinearRegression, DecisionTreeRegressor, RandomForestRegressor, CatBoostRegressor."
   ]
  },
  {
   "cell_type": "markdown",
   "metadata": {},
   "source": [
    "**Используемые библиотеки:**"
   ]
  },
  {
   "cell_type": "code",
   "execution_count": 2,
   "metadata": {},
   "outputs": [],
   "source": [
    "import pandas as pd\n",
    "import numpy as np\n",
    "import matplotlib.pyplot as plt\n",
    "import math\n",
    "import optuna\n",
    "import timeit\n",
    "import statsmodels.api as sm\n",
    "\n",
    "from catboost import CatBoostRegressor\n",
    "from imblearn.pipeline import Pipeline, make_pipeline\n",
    "from optuna.distributions import FloatDistribution as floatd\n",
    "from optuna.distributions import IntDistribution as intd\n",
    "from optuna.integration import OptunaSearchCV\n",
    "from sklearn.base import BaseEstimator, TransformerMixin\n",
    "from sklearn.ensemble import RandomForestRegressor\n",
    "from sklearn.linear_model import LinearRegression\n",
    "from sklearn.metrics import mean_squared_error\n",
    "from sklearn.model_selection import TimeSeriesSplit, train_test_split\n",
    "from sklearn.pipeline import make_pipeline\n",
    "from sklearn.preprocessing import OneHotEncoder, OrdinalEncoder, StandardScaler\n",
    "from sklearn.tree import DecisionTreeRegressor\n",
    "from statsmodels.tsa.seasonal import seasonal_decompose\n",
    "from statsmodels.tsa.stattools import adfuller"
   ]
  },
  {
   "cell_type": "markdown",
   "metadata": {},
   "source": [
    "**Используемые константы:**"
   ]
  },
  {
   "cell_type": "code",
   "execution_count": 3,
   "metadata": {},
   "outputs": [],
   "source": [
    "ALPHA = 0.05                                          # уровень значимости (для проверки гипотезы о стационарности врем. ряда)\n",
    "MAX_LAG = 72                                          # количество отстающих значений (до трех суток)\n",
    "ROLLING_MEAN_SIZE = 15                                # размер окна\n",
    "STEP = 1                                              # шаг периода прогнозирования\n",
    "RS = 42                                               # значение random_state\n",
    "# RS = np.random.RandomState(5)"
   ]
  },
  {
   "cell_type": "markdown",
   "metadata": {},
   "source": [
    "## Загрузка данных и общая информация\n",
    "<a id=\"section_1\"></a>"
   ]
  },
  {
   "cell_type": "markdown",
   "metadata": {},
   "source": [
    "Загружаем датасет:"
   ]
  },
  {
   "cell_type": "code",
   "execution_count": 4,
   "metadata": {},
   "outputs": [],
   "source": [
    "try:\n",
    "    df = pd.read_csv('/datasets/taxi.csv', index_col=[0], parse_dates=[0])\n",
    "except:\n",
    "    df = pd.read_csv('https://code.s3.yandex.net/datasets/taxi.csv', index_col=[0], parse_dates=[0])"
   ]
  },
  {
   "cell_type": "code",
   "execution_count": 5,
   "metadata": {},
   "outputs": [],
   "source": [
    "def inf(df):\n",
    "    '''функция получения общей информации'''\n",
    "    print('Размер датафрейма:')\n",
    "    print(df.shape)\n",
    "    print('_' * 50)\n",
    "    print()\n",
    "    print('Общая информация о датафрейме:')\n",
    "    print(df.info(memory_usage='deep'))\n",
    "    print('_' * 50)\n",
    "    print()\n",
    "    print('Несколько строк датафрейма:')\n",
    "    display(df.sample(random_state=0, n=5))\n",
    "    print('_' * 50)\n",
    "    print()\n",
    "    print('Количество полных дубликатов:')\n",
    "    print(df.duplicated().sum())\n",
    "    print('_' * 50)  \n",
    "    try:\n",
    "        if ('id' in df.columns) & ('case_id' in df.columns):\n",
    "            print()\n",
    "            print('Количество дубликатов без учета полей идентификаторов:')\n",
    "            print(df.drop(columns=['id', 'case_id']).duplicated().sum())\n",
    "            print('_' * 50)\n",
    "        elif 'id' in df.columns:\n",
    "            print()\n",
    "            print('Количество дубликатов без учета полей идентификаторов:')\n",
    "            print(df.drop(columns=['id']).duplicated().sum())\n",
    "            print('_' * 50)\n",
    "        elif 'case_id' in df.columns:\n",
    "            print()\n",
    "            print('Количество дубликатов без учета полей идентификаторов:')\n",
    "            print(df.drop(columns=['case_id']).duplicated().sum())\n",
    "            print('_' * 50)\n",
    "    except:\n",
    "        pass           \n",
    "    print()\n",
    "    print('Описательная статистика числовых значений:')\n",
    "    display(df.describe().T)\n",
    "    print('_' * 50)\n",
    "    print()\n",
    "    print('Количество пропусков:')\n",
    "    print(df.isna().sum())\n",
    "    print()\n",
    "    print('Количество пропусков в процентах:')\n",
    "    print(df.isna().mean()*100) "
   ]
  },
  {
   "cell_type": "markdown",
   "metadata": {},
   "source": [
    "Выводим общую информацию по исходному датафрейму:"
   ]
  },
  {
   "cell_type": "code",
   "execution_count": 6,
   "metadata": {},
   "outputs": [
    {
     "name": "stdout",
     "output_type": "stream",
     "text": [
      "Размер датафрейма:\n",
      "(26496, 1)\n",
      "__________________________________________________\n",
      "\n",
      "Общая информация о датафрейме:\n",
      "<class 'pandas.core.frame.DataFrame'>\n",
      "DatetimeIndex: 26496 entries, 2018-03-01 00:00:00 to 2018-08-31 23:50:00\n",
      "Data columns (total 1 columns):\n",
      " #   Column      Non-Null Count  Dtype\n",
      "---  ------      --------------  -----\n",
      " 0   num_orders  26496 non-null  int64\n",
      "dtypes: int64(1)\n",
      "memory usage: 414.0 KB\n",
      "None\n",
      "__________________________________________________\n",
      "\n",
      "Несколько строк датафрейма:\n"
     ]
    },
    {
     "data": {
      "text/html": [
       "<div>\n",
       "<style scoped>\n",
       "    .dataframe tbody tr th:only-of-type {\n",
       "        vertical-align: middle;\n",
       "    }\n",
       "\n",
       "    .dataframe tbody tr th {\n",
       "        vertical-align: top;\n",
       "    }\n",
       "\n",
       "    .dataframe thead th {\n",
       "        text-align: right;\n",
       "    }\n",
       "</style>\n",
       "<table border=\"1\" class=\"dataframe\">\n",
       "  <thead>\n",
       "    <tr style=\"text-align: right;\">\n",
       "      <th></th>\n",
       "      <th>num_orders</th>\n",
       "    </tr>\n",
       "    <tr>\n",
       "      <th>datetime</th>\n",
       "      <th></th>\n",
       "    </tr>\n",
       "  </thead>\n",
       "  <tbody>\n",
       "    <tr>\n",
       "      <th>2018-07-30 06:00:00</th>\n",
       "      <td>4</td>\n",
       "    </tr>\n",
       "    <tr>\n",
       "      <th>2018-08-14 13:50:00</th>\n",
       "      <td>10</td>\n",
       "    </tr>\n",
       "    <tr>\n",
       "      <th>2018-04-07 10:10:00</th>\n",
       "      <td>6</td>\n",
       "    </tr>\n",
       "    <tr>\n",
       "      <th>2018-08-04 12:30:00</th>\n",
       "      <td>10</td>\n",
       "    </tr>\n",
       "    <tr>\n",
       "      <th>2018-05-27 02:30:00</th>\n",
       "      <td>15</td>\n",
       "    </tr>\n",
       "  </tbody>\n",
       "</table>\n",
       "</div>"
      ],
      "text/plain": [
       "                     num_orders\n",
       "datetime                       \n",
       "2018-07-30 06:00:00           4\n",
       "2018-08-14 13:50:00          10\n",
       "2018-04-07 10:10:00           6\n",
       "2018-08-04 12:30:00          10\n",
       "2018-05-27 02:30:00          15"
      ]
     },
     "metadata": {},
     "output_type": "display_data"
    },
    {
     "name": "stdout",
     "output_type": "stream",
     "text": [
      "__________________________________________________\n",
      "\n",
      "Количество полных дубликатов:\n",
      "26415\n",
      "__________________________________________________\n",
      "\n",
      "Описательная статистика числовых значений:\n"
     ]
    },
    {
     "data": {
      "text/html": [
       "<div>\n",
       "<style scoped>\n",
       "    .dataframe tbody tr th:only-of-type {\n",
       "        vertical-align: middle;\n",
       "    }\n",
       "\n",
       "    .dataframe tbody tr th {\n",
       "        vertical-align: top;\n",
       "    }\n",
       "\n",
       "    .dataframe thead th {\n",
       "        text-align: right;\n",
       "    }\n",
       "</style>\n",
       "<table border=\"1\" class=\"dataframe\">\n",
       "  <thead>\n",
       "    <tr style=\"text-align: right;\">\n",
       "      <th></th>\n",
       "      <th>count</th>\n",
       "      <th>mean</th>\n",
       "      <th>std</th>\n",
       "      <th>min</th>\n",
       "      <th>25%</th>\n",
       "      <th>50%</th>\n",
       "      <th>75%</th>\n",
       "      <th>max</th>\n",
       "    </tr>\n",
       "  </thead>\n",
       "  <tbody>\n",
       "    <tr>\n",
       "      <th>num_orders</th>\n",
       "      <td>26496.0</td>\n",
       "      <td>14.070463</td>\n",
       "      <td>9.21133</td>\n",
       "      <td>0.0</td>\n",
       "      <td>8.0</td>\n",
       "      <td>13.0</td>\n",
       "      <td>19.0</td>\n",
       "      <td>119.0</td>\n",
       "    </tr>\n",
       "  </tbody>\n",
       "</table>\n",
       "</div>"
      ],
      "text/plain": [
       "              count       mean      std  min  25%   50%   75%    max\n",
       "num_orders  26496.0  14.070463  9.21133  0.0  8.0  13.0  19.0  119.0"
      ]
     },
     "metadata": {},
     "output_type": "display_data"
    },
    {
     "name": "stdout",
     "output_type": "stream",
     "text": [
      "__________________________________________________\n",
      "\n",
      "Количество пропусков:\n",
      "num_orders    0\n",
      "dtype: int64\n",
      "\n",
      "Количество пропусков в процентах:\n",
      "num_orders    0.0\n",
      "dtype: float64\n"
     ]
    }
   ],
   "source": [
    "inf(df)"
   ]
  },
  {
   "cell_type": "markdown",
   "metadata": {},
   "source": [
    "**Вывод**  \n",
    "1. Исходный датафрейм состоит из 26496 строк и 1 столбец. В Индексе содержатся даты и время.\n",
    "2. Датафрейм содержит данные за период с 2018-03-01 00:00:00 по 2018-08-31 23:50:00.\n",
    "3. Пропуски отсутствуют.\n",
    "4. Минимальное количество заказов - 0, максимальное - 119, медиана - 13."
   ]
  },
  {
   "cell_type": "markdown",
   "metadata": {},
   "source": [
    "## Подготовка"
   ]
  },
  {
   "cell_type": "markdown",
   "metadata": {},
   "source": [
    "Производим ресемплинг временного ряда. Период - 1 час:"
   ]
  },
  {
   "cell_type": "code",
   "execution_count": 7,
   "metadata": {},
   "outputs": [],
   "source": [
    "df = df.resample('1H').sum().sort_index()"
   ]
  },
  {
   "cell_type": "markdown",
   "metadata": {},
   "source": [
    "**Дополнительные признаки**"
   ]
  },
  {
   "cell_type": "markdown",
   "metadata": {},
   "source": [
    "Создаем дополнительные признаки времени: месяц (month), неделя (week), день (day), день недели (dayofweek), час (hour). Признак года не включаем, так как он одинаков для всех событий.  "
   ]
  },
  {
   "cell_type": "code",
   "execution_count": 8,
   "metadata": {},
   "outputs": [],
   "source": [
    "df['month'] = df.index.month                                                    # получаем из индекса месяц\n",
    "df['day'] = df.index.day                                                        # получаем из индекса номер дня месяца \n",
    "df['dayofweek'] = df.index.dayofweek                                            # получаем из индекса номер дня недели \n",
    "df['hour'] = df.index.hour                                                      # получаем из индекса час"
   ]
  },
  {
   "cell_type": "markdown",
   "metadata": {},
   "source": [
    "Помимо признаков времени добавляем признаки отстающих значений по количеству вызовов:"
   ]
  },
  {
   "cell_type": "code",
   "execution_count": 9,
   "metadata": {},
   "outputs": [],
   "source": [
    "for lag in range(1, MAX_LAG + 1):                                       # циклом получаем количество отстающих значений\n",
    "    df['lag_{}'.format(lag)] = df['num_orders'].shift(lag)              # создаем признак по количеству отстающих значений"
   ]
  },
  {
   "cell_type": "markdown",
   "metadata": {},
   "source": [
    "Создаем признак скользящего среднего количества вызовов (rolling_mean), смещенного на один временной интервал:"
   ]
  },
  {
   "cell_type": "code",
   "execution_count": 10,
   "metadata": {},
   "outputs": [],
   "source": [
    "df['rolling_mean'] = df['num_orders'].shift(periods=STEP).rolling(ROLLING_MEAN_SIZE).mean()"
   ]
  },
  {
   "cell_type": "markdown",
   "metadata": {},
   "source": [
    "**Вывод:**  \n",
    "1. Произведен ресемплинг временного ряда. Период - 1 час.\n",
    "2. Добавлены дополнительные признаки:\n",
    " - month (месяц события);\n",
    " - day (день месяца события);\n",
    " - dayofweek (день недели события);\n",
    " - hour (час события);\n",
    " - признаки количества заказов по отстающим значениям;\n",
    " - rolling_mean (скользящего среднего количества вызовов)."
   ]
  },
  {
   "cell_type": "markdown",
   "metadata": {},
   "source": [
    "## Анализ"
   ]
  },
  {
   "cell_type": "markdown",
   "metadata": {},
   "source": [
    "Разложим временной период на тренд, сезонность и остаток декомпозиции. В качестве временных периодов для визуализации выбираем один день и один час."
   ]
  },
  {
   "cell_type": "markdown",
   "metadata": {},
   "source": [
    "Производим ресемплинг временного ряда. Период - 1 день:"
   ]
  },
  {
   "cell_type": "code",
   "execution_count": 11,
   "metadata": {},
   "outputs": [],
   "source": [
    "df_day_period = df.resample('1D').sum()"
   ]
  },
  {
   "cell_type": "markdown",
   "metadata": {},
   "source": [
    "Декомпанизуем временной ряд:"
   ]
  },
  {
   "cell_type": "code",
   "execution_count": 12,
   "metadata": {},
   "outputs": [],
   "source": [
    "decomposed_day_period = seasonal_decompose(df_day_period['num_orders'])              # декомпозиция с периодом 1 день\n",
    "decomposed = seasonal_decompose(df['num_orders'])                                    # декомпозиция с периодом 1 час"
   ]
  },
  {
   "cell_type": "markdown",
   "metadata": {},
   "source": [
    "**Тренд**"
   ]
  },
  {
   "cell_type": "markdown",
   "metadata": {},
   "source": [
    "Тренд строим по данным с периодом в один день: период в час слишком мал, на графике возникает много шумов."
   ]
  },
  {
   "cell_type": "code",
   "execution_count": 13,
   "metadata": {},
   "outputs": [
    {
     "data": {
      "image/png": "[encoded data removed]",
      "text/plain": [
       "<Figure size 864x720 with 1 Axes>"
      ]
     },
     "metadata": {
      "needs_background": "light"
     },
     "output_type": "display_data"
    }
   ],
   "source": [
    "plt.figure(figsize=(12,10))\n",
    "decomposed_day_period.trend.plot(ax=plt.gca())\n",
    "plt.title('Тренд')\n",
    "plt.xlabel('Дата')\n",
    "plt.show()"
   ]
  },
  {
   "cell_type": "markdown",
   "metadata": {},
   "source": [
    "**Сезонность**"
   ]
  },
  {
   "cell_type": "markdown",
   "metadata": {},
   "source": [
    "Определяем сезонность на данных с периодом в один день:"
   ]
  },
  {
   "cell_type": "code",
   "execution_count": 14,
   "metadata": {},
   "outputs": [
    {
     "data": {
      "image/png": "[encoded data removed]",
      "text/plain": [
       "<Figure size 864x720 with 1 Axes>"
      ]
     },
     "metadata": {
      "needs_background": "light"
     },
     "output_type": "display_data"
    }
   ],
   "source": [
    "plt.figure(figsize=(12,10))\n",
    "decomposed_day_period.seasonal.plot(ax=plt.gca())\n",
    "plt.title('Сезонность')\n",
    "plt.xlabel('Дата')\n",
    "plt.show()"
   ]
  },
  {
   "cell_type": "markdown",
   "metadata": {},
   "source": [
    "Определяем сезонность на данных с периодом в один час. График сезонности за весь период малоинформативен. Рассмотрим сезонность на меньшем масштабе - неделя:"
   ]
  },
  {
   "cell_type": "code",
   "execution_count": 15,
   "metadata": {
    "scrolled": false
   },
   "outputs": [
    {
     "data": {
      "image/png": "[encoded data removed]",
      "text/plain": [
       "<Figure size 864x720 with 1 Axes>"
      ]
     },
     "metadata": {
      "needs_background": "light"
     },
     "output_type": "display_data"
    }
   ],
   "source": [
    "plt.figure(figsize=(12,10))\n",
    "decomposed.seasonal['2018-07-01':'2018-07-07'].plot(ax=plt.gca())\n",
    "plt.title('Сезонность за неделю')\n",
    "plt.xlabel('Дата')\n",
    "plt.show()"
   ]
  },
  {
   "cell_type": "markdown",
   "metadata": {},
   "source": [
    "В данных присутствует недельная и дневная сезонности."
   ]
  },
  {
   "cell_type": "markdown",
   "metadata": {},
   "source": [
    "**Остаток декомпозиции**"
   ]
  },
  {
   "cell_type": "markdown",
   "metadata": {},
   "source": [
    "График остатка декомпозиции на данных с периодом в 1 день:"
   ]
  },
  {
   "cell_type": "code",
   "execution_count": 16,
   "metadata": {},
   "outputs": [
    {
     "data": {
      "image/png": "[encoded data removed]",
      "text/plain": [
       "<Figure size 864x720 with 1 Axes>"
      ]
     },
     "metadata": {
      "needs_background": "light"
     },
     "output_type": "display_data"
    }
   ],
   "source": [
    "plt.figure(figsize=(12,10))\n",
    "decomposed_day_period.resid.plot(ax=plt.gca())\n",
    "plt.title('Остаток декомпозиции')\n",
    "plt.xlabel('Дата')\n",
    "plt.ylabel('Количество')\n",
    "plt.show()"
   ]
  },
  {
   "cell_type": "markdown",
   "metadata": {},
   "source": [
    "**Гипотеза о стационарности временного ряда**"
   ]
  },
  {
   "cell_type": "markdown",
   "metadata": {},
   "source": [
    "Формулируем гипотезы H0 и H1:\n",
    "- Гипотеза H0: временной ряд стационарен\n",
    "- Гипотеза H1: временной ряд не стационарен."
   ]
  },
  {
   "cell_type": "markdown",
   "metadata": {},
   "source": [
    "Получаем результаты теста Дики-Фуллера по временному ряду:"
   ]
  },
  {
   "cell_type": "code",
   "execution_count": 17,
   "metadata": {
    "scrolled": true
   },
   "outputs": [
    {
     "name": "stdout",
     "output_type": "stream",
     "text": [
      "ADF Statistic: -3.0689242890279558\n",
      "p-value: 0.028940051402612906\n",
      "Critical Values: {'1%': -3.431842162413052, '5%': -2.8621993540813637, '10%': -2.567120978470452}\n"
     ]
    }
   ],
   "source": [
    "result = adfuller(df['num_orders'])\n",
    "print(\"ADF Statistic:\", result[0])\n",
    "print(\"p-value:\", result[1])\n",
    "print(\"Critical Values:\", result[4])"
   ]
  },
  {
   "cell_type": "code",
   "execution_count": 18,
   "metadata": {},
   "outputs": [
    {
     "name": "stdout",
     "output_type": "stream",
     "text": [
      "Значение p-value ниже уровеня значимости (0.05) - с высокой долей вероятности временной ряд - стационарный.\n"
     ]
    }
   ],
   "source": [
    "if result[1] < ALPHA:\n",
    "    print('Значение p-value ниже уровеня значимости ({}) - с высокой долей вероятности временной ряд - стационарный.'.format(ALPHA))\n",
    "else:\n",
    "    print('Значение p-value выше уровеня значимости ({}) - с высокой долей вероятности временной ряд - не стационарный.'.format(ALPHA))"
   ]
  },
  {
   "cell_type": "markdown",
   "metadata": {},
   "source": [
    "**Вывод:**  \n",
    "1. В данных присутствует недельная и дневная сезонности.\n",
    "2. Значение p-value (0.029) ниже уровеня значимости (0.05) - с высокой долей вероятности временной ряд - стационарный."
   ]
  },
  {
   "cell_type": "markdown",
   "metadata": {},
   "source": [
    "## Обучение"
   ]
  },
  {
   "cell_type": "markdown",
   "metadata": {},
   "source": [
    "### Подготовка выборок"
   ]
  },
  {
   "cell_type": "markdown",
   "metadata": {},
   "source": [
    "**Разделение выборок**"
   ]
  },
  {
   "cell_type": "markdown",
   "metadata": {},
   "source": [
    "Разделяем выборку на тестовую и обучающую в отношении 1:9."
   ]
  },
  {
   "cell_type": "code",
   "execution_count": 19,
   "metadata": {},
   "outputs": [],
   "source": [
    "train, test = train_test_split(df, shuffle=False, test_size=0.1)\n",
    "train = train.dropna()"
   ]
  },
  {
   "cell_type": "markdown",
   "metadata": {},
   "source": [
    "Выделяем целевой признак:"
   ]
  },
  {
   "cell_type": "code",
   "execution_count": 20,
   "metadata": {},
   "outputs": [],
   "source": [
    "def separation(df):\n",
    "    '''Функция разделения датафреймов на признаки и целевой признак'''\n",
    "    X = df.drop(['num_orders'], axis=1)\n",
    "    y = df['num_orders']\n",
    "    return X, y"
   ]
  },
  {
   "cell_type": "code",
   "execution_count": 21,
   "metadata": {},
   "outputs": [],
   "source": [
    "X_train, y_train = separation(train)\n",
    "X_test, y_test = separation(test)"
   ]
  },
  {
   "cell_type": "markdown",
   "metadata": {},
   "source": [
    "Проверяем размеры выборок:"
   ]
  },
  {
   "cell_type": "code",
   "execution_count": 22,
   "metadata": {
    "scrolled": true
   },
   "outputs": [
    {
     "name": "stdout",
     "output_type": "stream",
     "text": [
      "Колмчество наблюдений в обучающей выборке - 3902.\n",
      "Колмчество наблюдений в тестовой выборке - 442.\n",
      "Колмчество признаков в обучающей и тестовой выборках - 77.\n"
     ]
    }
   ],
   "source": [
    "print('Колмчество наблюдений в обучающей выборке - {}.'.format(X_train.shape[0]))\n",
    "print('Колмчество наблюдений в тестовой выборке - {}.'.format(X_test.shape[0]))\n",
    "print('Колмчество признаков в обучающей и тестовой выборках - {}.'.format(X_test.shape[1]))"
   ]
  },
  {
   "cell_type": "markdown",
   "metadata": {},
   "source": [
    "**Преобразование выборок**"
   ]
  },
  {
   "cell_type": "markdown",
   "metadata": {},
   "source": [
    "Для модели LinearRegression произведем масштабирование числовых признаков и кодирование (OHE) категориальных. Обработанные признаки для этой модели будут содержаться в датафреймах X_train_scaler_ohe и X_test_scaler_ohe.  \n",
    "Для моделей DecisionTreeRegressor, RandomForestRegressor масштабирование числовых признаков. Обработанные признаки для этих моделей будут содержаться в датафреймах X_train_scaler и X_test_scaler соответственно.  \n",
    "Для модели CatBoostRegressor будем использовать необработанные выборки X_train и X_test, так как у этой модели кодирование и масштабирование производится автоматически в процессе обучения."
   ]
  },
  {
   "cell_type": "markdown",
   "metadata": {},
   "source": [
    "Разделяем признаки на количественные и категориальные:"
   ]
  },
  {
   "cell_type": "code",
   "execution_count": 23,
   "metadata": {},
   "outputs": [],
   "source": [
    "categorical_features = ['month', 'month', 'day', 'dayofweek', 'hour']           # категориальные признаки\n",
    "numerical_features = ['rolling_mean']                                           # количественные признаки"
   ]
  },
  {
   "cell_type": "markdown",
   "metadata": {},
   "source": [
    "Классы масштабирования и кодирования признаков:"
   ]
  },
  {
   "cell_type": "code",
   "execution_count": 24,
   "metadata": {},
   "outputs": [],
   "source": [
    "class ScalerTransformation(BaseEstimator, TransformerMixin):\n",
    "    '''класс обучения и трансформации для масштабирования количественных признаков'''\n",
    "    scaler = StandardScaler()                                      \n",
    "    \n",
    "    def fit(self, X, y=None):\n",
    "        X = X.copy()                                               # делаем копию матрицы признаков\n",
    "        self.scaler.fit(X[numerical_features])                     # обучаем scaler на числовых данных обучающей выборки\n",
    "        return self\n",
    "    \n",
    "    def transform(self, X, y=None):\n",
    "        X = X.copy()                                                           # делаем копию матрицы признаков\n",
    "        X[numerical_features] = self.scaler.transform(X[numerical_features])   # масштабируем числовые значения\n",
    "        return X"
   ]
  },
  {
   "cell_type": "code",
   "execution_count": 25,
   "metadata": {},
   "outputs": [],
   "source": [
    "class OheEncoder(BaseEstimator, TransformerMixin): \n",
    "    '''класс обучения и трансформации для кодирования категориальных признаков'''\n",
    "    \n",
    "    encoder = OneHotEncoder(handle_unknown='ignore', drop='first')\n",
    "    \n",
    "    def fit(self, X, y=None):\n",
    "        X = X.copy()                                      # делаем копию матрицы признаков\n",
    "        self.encoder.fit(X[categorical_features])         # обучаем encoder на категориальных данных обучающей выборки\n",
    "        return self\n",
    "    \n",
    "    def transform(self, X):\n",
    "        X = X.copy()                                                         # делаем копию матрицы признаков\n",
    "        X = X.reset_index()                                                  # сбрасываем индексы и создаем признак datetime\n",
    "        feature_arr = self.encoder.transform(X[categorical_features]).toarray()      # кодируем категориальные значения\n",
    "        ohe_labels = self.encoder.get_feature_names_out(categorical_features)        # создаем список названий новых признаков\n",
    "        features = pd.DataFrame(                                             # собираем результаты в датафрейм\n",
    "               feature_arr,\n",
    "               columns=ohe_labels)\n",
    "        X = X.join(features)                                                 # добавляем результаты кодирования в исходную таблицу\n",
    "        X = X.drop(categorical_features, axis=1)                             # удаляем исходные категориальные столбцы\n",
    "        X.columns = map(str.lower, X.columns)                                # переводим названия столбцов в нижний регистр\n",
    "        X.index = X['datetime']                                              # назначаем индексам значения признака datetime\n",
    "        X = X.drop(['datetime'], axis=1)                                     # удаляем признак datetime\n",
    "        return X"
   ]
  },
  {
   "cell_type": "markdown",
   "metadata": {},
   "source": [
    "Создаем и обучаем пайплайн кодирования и масштабирования значений признаков для модели LinearRegression:"
   ]
  },
  {
   "cell_type": "code",
   "execution_count": 26,
   "metadata": {},
   "outputs": [
    {
     "data": {
      "text/html": [
       "<style>#sk-container-id-1 {color: black;}#sk-container-id-1 pre{padding: 0;}#sk-container-id-1 div.sk-toggleable {background-color: white;}#sk-container-id-1 label.sk-toggleable__label {cursor: pointer;display: block;width: 100%;margin-bottom: 0;padding: 0.3em;box-sizing: border-box;text-align: center;}#sk-container-id-1 label.sk-toggleable__label-arrow:before {content: \"▸\";float: left;margin-right: 0.25em;color: #696969;}#sk-container-id-1 label.sk-toggleable__label-arrow:hover:before {color: black;}#sk-container-id-1 div.sk-estimator:hover label.sk-toggleable__label-arrow:before {color: black;}#sk-container-id-1 div.sk-toggleable__content {max-height: 0;max-width: 0;overflow: hidden;text-align: left;background-color: #f0f8ff;}#sk-container-id-1 div.sk-toggleable__content pre {margin: 0.2em;color: black;border-radius: 0.25em;background-color: #f0f8ff;}#sk-container-id-1 input.sk-toggleable__control:checked~div.sk-toggleable__content {max-height: 200px;max-width: 100%;overflow: auto;}#sk-container-id-1 input.sk-toggleable__control:checked~label.sk-toggleable__label-arrow:before {content: \"▾\";}#sk-container-id-1 div.sk-estimator input.sk-toggleable__control:checked~label.sk-toggleable__label {background-color: #d4ebff;}#sk-container-id-1 div.sk-label input.sk-toggleable__control:checked~label.sk-toggleable__label {background-color: #d4ebff;}#sk-container-id-1 input.sk-hidden--visually {border: 0;clip: rect(1px 1px 1px 1px);clip: rect(1px, 1px, 1px, 1px);height: 1px;margin: -1px;overflow: hidden;padding: 0;position: absolute;width: 1px;}#sk-container-id-1 div.sk-estimator {font-family: monospace;background-color: #f0f8ff;border: 1px dotted black;border-radius: 0.25em;box-sizing: border-box;margin-bottom: 0.5em;}#sk-container-id-1 div.sk-estimator:hover {background-color: #d4ebff;}#sk-container-id-1 div.sk-parallel-item::after {content: \"\";width: 100%;border-bottom: 1px solid gray;flex-grow: 1;}#sk-container-id-1 div.sk-label:hover label.sk-toggleable__label {background-color: #d4ebff;}#sk-container-id-1 div.sk-serial::before {content: \"\";position: absolute;border-left: 1px solid gray;box-sizing: border-box;top: 0;bottom: 0;left: 50%;z-index: 0;}#sk-container-id-1 div.sk-serial {display: flex;flex-direction: column;align-items: center;background-color: white;padding-right: 0.2em;padding-left: 0.2em;position: relative;}#sk-container-id-1 div.sk-item {position: relative;z-index: 1;}#sk-container-id-1 div.sk-parallel {display: flex;align-items: stretch;justify-content: center;background-color: white;position: relative;}#sk-container-id-1 div.sk-item::before, #sk-container-id-1 div.sk-parallel-item::before {content: \"\";position: absolute;border-left: 1px solid gray;box-sizing: border-box;top: 0;bottom: 0;left: 50%;z-index: -1;}#sk-container-id-1 div.sk-parallel-item {display: flex;flex-direction: column;z-index: 1;position: relative;background-color: white;}#sk-container-id-1 div.sk-parallel-item:first-child::after {align-self: flex-end;width: 50%;}#sk-container-id-1 div.sk-parallel-item:last-child::after {align-self: flex-start;width: 50%;}#sk-container-id-1 div.sk-parallel-item:only-child::after {width: 0;}#sk-container-id-1 div.sk-dashed-wrapped {border: 1px dashed gray;margin: 0 0.4em 0.5em 0.4em;box-sizing: border-box;padding-bottom: 0.4em;background-color: white;}#sk-container-id-1 div.sk-label label {font-family: monospace;font-weight: bold;display: inline-block;line-height: 1.2em;}#sk-container-id-1 div.sk-label-container {text-align: center;}#sk-container-id-1 div.sk-container {/* jupyter's `normalize.less` sets `[hidden] { display: none; }` but bootstrap.min.css set `[hidden] { display: none !important; }` so we also need the `!important` here to be able to override the default hidden behavior on the sphinx rendered scikit-learn.org. See: https://github.com/scikit-learn/scikit-learn/issues/21755 */display: inline-block !important;position: relative;}#sk-container-id-1 div.sk-text-repr-fallback {display: none;}</style><div id=\"sk-container-id-1\" class=\"sk-top-container\"><div class=\"sk-text-repr-fallback\"><pre>Pipeline(steps=[(&#x27;scalertransformation&#x27;, ScalerTransformation()),\n",
       "                (&#x27;oheencoder&#x27;, OheEncoder())])</pre><b>In a Jupyter environment, please rerun this cell to show the HTML representation or trust the notebook. <br />On GitHub, the HTML representation is unable to render, please try loading this page with nbviewer.org.</b></div><div class=\"sk-container\" hidden><div class=\"sk-item sk-dashed-wrapped\"><div class=\"sk-label-container\"><div class=\"sk-label sk-toggleable\"><input class=\"sk-toggleable__control sk-hidden--visually\" id=\"sk-estimator-id-1\" type=\"checkbox\" ><label for=\"sk-estimator-id-1\" class=\"sk-toggleable__label sk-toggleable__label-arrow\">Pipeline</label><div class=\"sk-toggleable__content\"><pre>Pipeline(steps=[(&#x27;scalertransformation&#x27;, ScalerTransformation()),\n",
       "                (&#x27;oheencoder&#x27;, OheEncoder())])</pre></div></div></div><div class=\"sk-serial\"><div class=\"sk-item\"><div class=\"sk-estimator sk-toggleable\"><input class=\"sk-toggleable__control sk-hidden--visually\" id=\"sk-estimator-id-2\" type=\"checkbox\" ><label for=\"sk-estimator-id-2\" class=\"sk-toggleable__label sk-toggleable__label-arrow\">ScalerTransformation</label><div class=\"sk-toggleable__content\"><pre>ScalerTransformation()</pre></div></div></div><div class=\"sk-item\"><div class=\"sk-estimator sk-toggleable\"><input class=\"sk-toggleable__control sk-hidden--visually\" id=\"sk-estimator-id-3\" type=\"checkbox\" ><label for=\"sk-estimator-id-3\" class=\"sk-toggleable__label sk-toggleable__label-arrow\">OheEncoder</label><div class=\"sk-toggleable__content\"><pre>OheEncoder()</pre></div></div></div></div></div></div></div>"
      ],
      "text/plain": [
       "Pipeline(steps=[('scalertransformation', ScalerTransformation()),\n",
       "                ('oheencoder', OheEncoder())])"
      ]
     },
     "execution_count": 26,
     "metadata": {},
     "output_type": "execute_result"
    }
   ],
   "source": [
    "pipe_scaler_ohe = make_pipeline(ScalerTransformation(), OheEncoder())\n",
    "pipe_scaler_ohe.fit(X_train)"
   ]
  },
  {
   "cell_type": "markdown",
   "metadata": {},
   "source": [
    "Трансформируем признаки тестовой и обучающих выборок для модели LinearRegression:"
   ]
  },
  {
   "cell_type": "code",
   "execution_count": 27,
   "metadata": {},
   "outputs": [],
   "source": [
    "X_train_scaler_ohe = pipe_scaler_ohe.transform(X_train)\n",
    "X_test_scaler_ohe = pipe_scaler_ohe.transform(X_test)"
   ]
  },
  {
   "cell_type": "markdown",
   "metadata": {},
   "source": [
    "Определяем количество признаков после кодирования:"
   ]
  },
  {
   "cell_type": "code",
   "execution_count": 28,
   "metadata": {},
   "outputs": [
    {
     "name": "stdout",
     "output_type": "stream",
     "text": [
      "Колмчество признаков после кодирования (OHE) в обучающей и тестовой выборках - 142.\n"
     ]
    }
   ],
   "source": [
    "print('Колмчество признаков после кодирования (OHE) в обучающей и тестовой выборках - {}.'.format(X_train_scaler_ohe.shape[1]))"
   ]
  },
  {
   "cell_type": "markdown",
   "metadata": {},
   "source": [
    "Создаем и обучаем пайплайн кодирования и масштабирования значений признаков для моделей DecisionTreeRegressor, RandomForestRegressor:"
   ]
  },
  {
   "cell_type": "code",
   "execution_count": 29,
   "metadata": {},
   "outputs": [
    {
     "data": {
      "text/html": [
       "<style>#sk-container-id-2 {color: black;}#sk-container-id-2 pre{padding: 0;}#sk-container-id-2 div.sk-toggleable {background-color: white;}#sk-container-id-2 label.sk-toggleable__label {cursor: pointer;display: block;width: 100%;margin-bottom: 0;padding: 0.3em;box-sizing: border-box;text-align: center;}#sk-container-id-2 label.sk-toggleable__label-arrow:before {content: \"▸\";float: left;margin-right: 0.25em;color: #696969;}#sk-container-id-2 label.sk-toggleable__label-arrow:hover:before {color: black;}#sk-container-id-2 div.sk-estimator:hover label.sk-toggleable__label-arrow:before {color: black;}#sk-container-id-2 div.sk-toggleable__content {max-height: 0;max-width: 0;overflow: hidden;text-align: left;background-color: #f0f8ff;}#sk-container-id-2 div.sk-toggleable__content pre {margin: 0.2em;color: black;border-radius: 0.25em;background-color: #f0f8ff;}#sk-container-id-2 input.sk-toggleable__control:checked~div.sk-toggleable__content {max-height: 200px;max-width: 100%;overflow: auto;}#sk-container-id-2 input.sk-toggleable__control:checked~label.sk-toggleable__label-arrow:before {content: \"▾\";}#sk-container-id-2 div.sk-estimator input.sk-toggleable__control:checked~label.sk-toggleable__label {background-color: #d4ebff;}#sk-container-id-2 div.sk-label input.sk-toggleable__control:checked~label.sk-toggleable__label {background-color: #d4ebff;}#sk-container-id-2 input.sk-hidden--visually {border: 0;clip: rect(1px 1px 1px 1px);clip: rect(1px, 1px, 1px, 1px);height: 1px;margin: -1px;overflow: hidden;padding: 0;position: absolute;width: 1px;}#sk-container-id-2 div.sk-estimator {font-family: monospace;background-color: #f0f8ff;border: 1px dotted black;border-radius: 0.25em;box-sizing: border-box;margin-bottom: 0.5em;}#sk-container-id-2 div.sk-estimator:hover {background-color: #d4ebff;}#sk-container-id-2 div.sk-parallel-item::after {content: \"\";width: 100%;border-bottom: 1px solid gray;flex-grow: 1;}#sk-container-id-2 div.sk-label:hover label.sk-toggleable__label {background-color: #d4ebff;}#sk-container-id-2 div.sk-serial::before {content: \"\";position: absolute;border-left: 1px solid gray;box-sizing: border-box;top: 0;bottom: 0;left: 50%;z-index: 0;}#sk-container-id-2 div.sk-serial {display: flex;flex-direction: column;align-items: center;background-color: white;padding-right: 0.2em;padding-left: 0.2em;position: relative;}#sk-container-id-2 div.sk-item {position: relative;z-index: 1;}#sk-container-id-2 div.sk-parallel {display: flex;align-items: stretch;justify-content: center;background-color: white;position: relative;}#sk-container-id-2 div.sk-item::before, #sk-container-id-2 div.sk-parallel-item::before {content: \"\";position: absolute;border-left: 1px solid gray;box-sizing: border-box;top: 0;bottom: 0;left: 50%;z-index: -1;}#sk-container-id-2 div.sk-parallel-item {display: flex;flex-direction: column;z-index: 1;position: relative;background-color: white;}#sk-container-id-2 div.sk-parallel-item:first-child::after {align-self: flex-end;width: 50%;}#sk-container-id-2 div.sk-parallel-item:last-child::after {align-self: flex-start;width: 50%;}#sk-container-id-2 div.sk-parallel-item:only-child::after {width: 0;}#sk-container-id-2 div.sk-dashed-wrapped {border: 1px dashed gray;margin: 0 0.4em 0.5em 0.4em;box-sizing: border-box;padding-bottom: 0.4em;background-color: white;}#sk-container-id-2 div.sk-label label {font-family: monospace;font-weight: bold;display: inline-block;line-height: 1.2em;}#sk-container-id-2 div.sk-label-container {text-align: center;}#sk-container-id-2 div.sk-container {/* jupyter's `normalize.less` sets `[hidden] { display: none; }` but bootstrap.min.css set `[hidden] { display: none !important; }` so we also need the `!important` here to be able to override the default hidden behavior on the sphinx rendered scikit-learn.org. See: https://github.com/scikit-learn/scikit-learn/issues/21755 */display: inline-block !important;position: relative;}#sk-container-id-2 div.sk-text-repr-fallback {display: none;}</style><div id=\"sk-container-id-2\" class=\"sk-top-container\"><div class=\"sk-text-repr-fallback\"><pre>Pipeline(steps=[(&#x27;scalertransformation&#x27;, ScalerTransformation())])</pre><b>In a Jupyter environment, please rerun this cell to show the HTML representation or trust the notebook. <br />On GitHub, the HTML representation is unable to render, please try loading this page with nbviewer.org.</b></div><div class=\"sk-container\" hidden><div class=\"sk-item sk-dashed-wrapped\"><div class=\"sk-label-container\"><div class=\"sk-label sk-toggleable\"><input class=\"sk-toggleable__control sk-hidden--visually\" id=\"sk-estimator-id-4\" type=\"checkbox\" ><label for=\"sk-estimator-id-4\" class=\"sk-toggleable__label sk-toggleable__label-arrow\">Pipeline</label><div class=\"sk-toggleable__content\"><pre>Pipeline(steps=[(&#x27;scalertransformation&#x27;, ScalerTransformation())])</pre></div></div></div><div class=\"sk-serial\"><div class=\"sk-item\"><div class=\"sk-estimator sk-toggleable\"><input class=\"sk-toggleable__control sk-hidden--visually\" id=\"sk-estimator-id-5\" type=\"checkbox\" ><label for=\"sk-estimator-id-5\" class=\"sk-toggleable__label sk-toggleable__label-arrow\">ScalerTransformation</label><div class=\"sk-toggleable__content\"><pre>ScalerTransformation()</pre></div></div></div></div></div></div></div>"
      ],
      "text/plain": [
       "Pipeline(steps=[('scalertransformation', ScalerTransformation())])"
      ]
     },
     "execution_count": 29,
     "metadata": {},
     "output_type": "execute_result"
    }
   ],
   "source": [
    "pipe_scaler = make_pipeline(ScalerTransformation())\n",
    "pipe_scaler.fit(X_train)"
   ]
  },
  {
   "cell_type": "markdown",
   "metadata": {},
   "source": [
    "Трансформируем признаки тестовой и обучающих выборок для модели DecisionTreeRegressor, RandomForestRegressor:"
   ]
  },
  {
   "cell_type": "code",
   "execution_count": 30,
   "metadata": {},
   "outputs": [],
   "source": [
    "X_train_scaler = pipe_scaler.transform(X_train)\n",
    "X_test_scaler = pipe_scaler.transform(X_test)"
   ]
  },
  {
   "cell_type": "markdown",
   "metadata": {},
   "source": [
    "###  Обучение моделей"
   ]
  },
  {
   "cell_type": "markdown",
   "metadata": {},
   "source": [
    "Инициализируем TimeSeriesSplit для кросс валидации временных рядов:"
   ]
  },
  {
   "cell_type": "code",
   "execution_count": 31,
   "metadata": {},
   "outputs": [],
   "source": [
    "tscv = TimeSeriesSplit(n_splits=5)"
   ]
  },
  {
   "cell_type": "markdown",
   "metadata": {},
   "source": [
    "**Функции**"
   ]
  },
  {
   "cell_type": "code",
   "execution_count": 32,
   "metadata": {},
   "outputs": [],
   "source": [
    "def optuna_search(model, params, X_train = X_train_scaler):\n",
    "    '''Функция обучения модели'''\n",
    "    \n",
    "    optuna.logging.set_verbosity(optuna.logging.WARNING)                         # отключение логгирования\n",
    "    model = OptunaSearchCV(model, params, scoring = 'neg_mean_squared_error', cv=tscv, random_state=RS)                               # передача данных в OptunaSearchCV\n",
    "    start_time = timeit.default_timer()                                          # начальное время обучения\n",
    "    model.fit(X_train, y_train)                                                  # обучение модели\n",
    "    time_fit = timeit.default_timer() - start_time                               # длительность обучения\n",
    "    y_pred = model.best_estimator_.predict(X_train)                              # предсказание\n",
    "    rmse = np.sqrt(abs(model.score(X_train, y_train))).round(3)                          # метрика RMSE\n",
    "    print('RMSE: {}'.format(rmse))\n",
    "\n",
    "    return model, rmse, time_fit"
   ]
  },
  {
   "cell_type": "markdown",
   "metadata": {},
   "source": [
    "**LinearRegression**"
   ]
  },
  {
   "cell_type": "markdown",
   "metadata": {},
   "source": [
    "Передаем LinearRegression в функцию обучения модели без подбираемых гиперпараметров: для того только, чтобы получить RMSE на кросс валидации."
   ]
  },
  {
   "cell_type": "code",
   "execution_count": 33,
   "metadata": {
    "scrolled": false
   },
   "outputs": [
    {
     "name": "stderr",
     "output_type": "stream",
     "text": [
      "/tmp/ipykernel_516/1577475257.py:5: ExperimentalWarning: OptunaSearchCV is experimental (supported from v0.17.0). The interface can change in the future.\n",
      "  model = OptunaSearchCV(model, params, scoring = 'neg_mean_squared_error', cv=tscv, random_state=RS)                               # передача данных в OptunaSearchCV\n"
     ]
    },
    {
     "name": "stdout",
     "output_type": "stream",
     "text": [
      "RMSE: 21.544\n"
     ]
    }
   ],
   "source": [
    "params_lr = {}                                                           # словарь подбираемых гиперпараметров\n",
    "model_lr = LinearRegression()                                            # инициализация модели\n",
    "# вызов функции обучения модели\n",
    "best_model_lr, rmse_lr, time_fit_lr = optuna_search(model_lr, params_lr, X_train_scaler_ohe)"
   ]
  },
  {
   "cell_type": "markdown",
   "metadata": {},
   "source": [
    "**DecisionTreeRegressor**"
   ]
  },
  {
   "cell_type": "code",
   "execution_count": 34,
   "metadata": {},
   "outputs": [
    {
     "name": "stderr",
     "output_type": "stream",
     "text": [
      "/opt/conda/lib/python3.9/site-packages/optuna/distributions.py:700: UserWarning: The distribution is specified by [2, 10] and step=3, but the range is not divisible by `step`. It will be replaced by [2, 8].\n",
      "  warnings.warn(\n",
      "/tmp/ipykernel_516/1577475257.py:5: ExperimentalWarning: OptunaSearchCV is experimental (supported from v0.17.0). The interface can change in the future.\n",
      "  model = OptunaSearchCV(model, params, scoring = 'neg_mean_squared_error', cv=tscv, random_state=RS)                               # передача данных в OptunaSearchCV\n"
     ]
    },
    {
     "name": "stdout",
     "output_type": "stream",
     "text": [
      "RMSE: 25.069\n"
     ]
    }
   ],
   "source": [
    "params_dtc = {'min_samples_leaf' : intd(1, 10, False, 3),                 # словарь подбираемых гиперпараметров\n",
    "              'min_samples_split' : intd(2, 10, False, 3),\n",
    "              'max_depth' : intd(1, 10, False, 3)}    \n",
    "model_dtc = DecisionTreeRegressor(random_state=RS)                        # инициализация модели\n",
    "# вызов функции обучения модели\n",
    "best_model_dtc, rmse_dtc, time_fit_dtc = optuna_search(model_dtc, params_dtc)"
   ]
  },
  {
   "cell_type": "markdown",
   "metadata": {},
   "source": [
    "**RandomForestRegressor**"
   ]
  },
  {
   "cell_type": "code",
   "execution_count": 35,
   "metadata": {},
   "outputs": [
    {
     "name": "stderr",
     "output_type": "stream",
     "text": [
      "/opt/conda/lib/python3.9/site-packages/optuna/distributions.py:700: UserWarning: The distribution is specified by [2, 10] and step=3, but the range is not divisible by `step`. It will be replaced by [2, 8].\n",
      "  warnings.warn(\n",
      "/tmp/ipykernel_516/1577475257.py:5: ExperimentalWarning: OptunaSearchCV is experimental (supported from v0.17.0). The interface can change in the future.\n",
      "  model = OptunaSearchCV(model, params, scoring = 'neg_mean_squared_error', cv=tscv, random_state=RS)                               # передача данных в OptunaSearchCV\n"
     ]
    },
    {
     "name": "stdout",
     "output_type": "stream",
     "text": [
      "RMSE: 14.161\n"
     ]
    }
   ],
   "source": [
    "params_rfc = {'min_samples_leaf' : intd(1, 10, False, 3),                  # словарь подбираемых гиперпараметров\n",
    "              'min_samples_split' : intd(2, 10, False, 3),\n",
    "              'max_depth' : intd(1, 10, False, 3),\n",
    "              'n_estimators' : intd(100, 150, False, 10)\n",
    "             }\n",
    "model_rfc = RandomForestRegressor(random_state=RS)                         # инициализация модели\n",
    "# вызов функции обучения модели\n",
    "best_model_rfc, rmse_rfc, time_fit_rfc = optuna_search(model_rfc, params_rfc)"
   ]
  },
  {
   "cell_type": "markdown",
   "metadata": {},
   "source": [
    "**CatBoostRegressor**"
   ]
  },
  {
   "cell_type": "code",
   "execution_count": 36,
   "metadata": {},
   "outputs": [
    {
     "name": "stderr",
     "output_type": "stream",
     "text": [
      "/tmp/ipykernel_516/1577475257.py:5: ExperimentalWarning: OptunaSearchCV is experimental (supported from v0.17.0). The interface can change in the future.\n",
      "  model = OptunaSearchCV(model, params, scoring = 'neg_mean_squared_error', cv=tscv, random_state=RS)                               # передача данных в OptunaSearchCV\n"
     ]
    },
    {
     "name": "stdout",
     "output_type": "stream",
     "text": [
      "RMSE: 18.012\n"
     ]
    }
   ],
   "source": [
    "params_cb = {'learning_rate' : floatd(0.01, 0.91, False, 0.9),             # словарь подбираемых гиперпараметров\n",
    "             'l2_leaf_reg': intd(2, 4, False, 2)\n",
    "            }\n",
    "model_cb = CatBoostRegressor(verbose=False,                                # инициализация модели\n",
    "                            cat_features = categorical_features\n",
    "                            )\n",
    "# вызов функции обучения модели\n",
    "best_model_cb, rmse_cb, time_fit_cb = optuna_search(model_cb, params_cb, X_train)"
   ]
  },
  {
   "cell_type": "markdown",
   "metadata": {},
   "source": [
    "Создаем сводную таблицу результатов:"
   ]
  },
  {
   "cell_type": "code",
   "execution_count": 37,
   "metadata": {},
   "outputs": [
    {
     "data": {
      "text/html": [
       "<div>\n",
       "<style scoped>\n",
       "    .dataframe tbody tr th:only-of-type {\n",
       "        vertical-align: middle;\n",
       "    }\n",
       "\n",
       "    .dataframe tbody tr th {\n",
       "        vertical-align: top;\n",
       "    }\n",
       "\n",
       "    .dataframe thead th {\n",
       "        text-align: right;\n",
       "    }\n",
       "</style>\n",
       "<table border=\"1\" class=\"dataframe\">\n",
       "  <thead>\n",
       "    <tr style=\"text-align: right;\">\n",
       "      <th></th>\n",
       "      <th>model</th>\n",
       "      <th>rmse_train</th>\n",
       "      <th>time_fit</th>\n",
       "    </tr>\n",
       "  </thead>\n",
       "  <tbody>\n",
       "    <tr>\n",
       "      <th>0</th>\n",
       "      <td>LinearRegression</td>\n",
       "      <td>21.544</td>\n",
       "      <td>14.790400</td>\n",
       "    </tr>\n",
       "    <tr>\n",
       "      <th>1</th>\n",
       "      <td>DecisionRegressor</td>\n",
       "      <td>25.069</td>\n",
       "      <td>2.528233</td>\n",
       "    </tr>\n",
       "    <tr>\n",
       "      <th>2</th>\n",
       "      <td>RandomForestRegressor</td>\n",
       "      <td>14.161</td>\n",
       "      <td>171.279839</td>\n",
       "    </tr>\n",
       "    <tr>\n",
       "      <th>3</th>\n",
       "      <td>CatBoostRegressor</td>\n",
       "      <td>18.012</td>\n",
       "      <td>815.426827</td>\n",
       "    </tr>\n",
       "  </tbody>\n",
       "</table>\n",
       "</div>"
      ],
      "text/plain": [
       "                   model  rmse_train    time_fit\n",
       "0       LinearRegression      21.544   14.790400\n",
       "1      DecisionRegressor      25.069    2.528233\n",
       "2  RandomForestRegressor      14.161  171.279839\n",
       "3      CatBoostRegressor      18.012  815.426827"
      ]
     },
     "execution_count": 37,
     "metadata": {},
     "output_type": "execute_result"
    }
   ],
   "source": [
    "df_model = pd.DataFrame({'model' : ['LinearRegression', 'DecisionRegressor', 'RandomForestRegressor', 'CatBoostRegressor'],\n",
    "                         'rmse_train' : [rmse_lr, rmse_dtc, rmse_rfc, rmse_cb],\n",
    "                         'time_fit' : [time_fit_lr, time_fit_dtc, time_fit_rfc, time_fit_cb],\n",
    "                         'best_model' : [best_model_lr, best_model_dtc, best_model_rfc, best_model_cb],\n",
    "                         'x_test' : [X_test_scaler_ohe, X_test_scaler, X_test_scaler, X_test]})\n",
    "df_model[['model', 'rmse_train', 'time_fit']]"
   ]
  },
  {
   "cell_type": "markdown",
   "metadata": {},
   "source": [
    "Определяем наилучшую модель - с наименьшим значением RMSE:"
   ]
  },
  {
   "cell_type": "code",
   "execution_count": 38,
   "metadata": {},
   "outputs": [
    {
     "data": {
      "text/html": [
       "<div>\n",
       "<style scoped>\n",
       "    .dataframe tbody tr th:only-of-type {\n",
       "        vertical-align: middle;\n",
       "    }\n",
       "\n",
       "    .dataframe tbody tr th {\n",
       "        vertical-align: top;\n",
       "    }\n",
       "\n",
       "    .dataframe thead th {\n",
       "        text-align: right;\n",
       "    }\n",
       "</style>\n",
       "<table border=\"1\" class=\"dataframe\">\n",
       "  <thead>\n",
       "    <tr style=\"text-align: right;\">\n",
       "      <th></th>\n",
       "      <th>model</th>\n",
       "      <th>rmse_train</th>\n",
       "      <th>time_fit</th>\n",
       "    </tr>\n",
       "  </thead>\n",
       "  <tbody>\n",
       "    <tr>\n",
       "      <th>0</th>\n",
       "      <td>RandomForestRegressor</td>\n",
       "      <td>14.161</td>\n",
       "      <td>171.279839</td>\n",
       "    </tr>\n",
       "  </tbody>\n",
       "</table>\n",
       "</div>"
      ],
      "text/plain": [
       "                   model  rmse_train    time_fit\n",
       "0  RandomForestRegressor      14.161  171.279839"
      ]
     },
     "execution_count": 38,
     "metadata": {},
     "output_type": "execute_result"
    }
   ],
   "source": [
    "best_model_row = df_model.loc[df_model['rmse_train'] == df_model['rmse_train'].min()].reset_index(drop=True)\n",
    "best_model_row[['model', 'rmse_train', 'time_fit']]"
   ]
  },
  {
   "cell_type": "markdown",
   "metadata": {},
   "source": [
    "Параметры лучшей модели:"
   ]
  },
  {
   "cell_type": "code",
   "execution_count": 39,
   "metadata": {
    "scrolled": true
   },
   "outputs": [
    {
     "data": {
      "text/plain": [
       "{'min_samples_leaf': 4,\n",
       " 'min_samples_split': 8,\n",
       " 'max_depth': 10,\n",
       " 'n_estimators': 100}"
      ]
     },
     "execution_count": 39,
     "metadata": {},
     "output_type": "execute_result"
    }
   ],
   "source": [
    "best_model_row.iloc[0][3].best_params_"
   ]
  },
  {
   "cell_type": "markdown",
   "metadata": {},
   "source": [
    "### Важность основных факторов"
   ]
  },
  {
   "cell_type": "code",
   "execution_count": 40,
   "metadata": {
    "scrolled": false
   },
   "outputs": [
    {
     "data": {
      "image/png": "[encoded data removed]",
      "text/plain": [
       "<Figure size 864x720 with 1 Axes>"
      ]
     },
     "metadata": {
      "needs_background": "light"
     },
     "output_type": "display_data"
    }
   ],
   "source": [
    "if best_model_row.iloc[0, 0] == 'LinearRegression':\n",
    "    importance = best_model_lr.best_estimator_.coef_[0]      # получаем коэффициенты признаков для модели LogisticRegression\n",
    "    X_train = X_train_scaler_ohe                             # выбираем обучающую выборку\n",
    "else:\n",
    "    # получаем коэффициенты признаков для других моделей\n",
    "    importance = best_model_row.iloc[0, 3].best_estimator_.feature_importances_\n",
    "    if (best_model_row.iloc[0, 0] == 'DecisionRegressor') | (best_model_row.iloc[0, 0] == 'RandomForestRegressor'):\n",
    "        X_train = X_train_scaler                                                 # выбираем обучающую выборку\n",
    "# собираем признаки в серию\n",
    "importance_features = pd.Series(importance, index=X_train.columns).sort_values(ascending=True).tail(10)\n",
    "plt.figure(figsize=(12,10))                                           # задаем размер окна диаграммы\n",
    "importance_features.plot(kind='barh',title = 'Feature Importance')    # визуализируем диаграмму\n",
    "plt.show()"
   ]
  },
  {
   "cell_type": "markdown",
   "metadata": {},
   "source": [
    "Наиболее важные признаки для лучшей модели - значения, отстающее на 24, 48 и 72 часа."
   ]
  },
  {
   "cell_type": "markdown",
   "metadata": {},
   "source": [
    "**Вывод:**  \n",
    "1. Произведено масштабирование числовых признаков и кодировка категориальных методом OneHotEncoder для модели LinearRegression.\n",
    "2. Произведено масштабирование числовых признаков для моделей DecisionRegressor и RandomForestRegressor.\n",
    "3. Обучены следующие модели:\n",
    " - LinearRegression;\n",
    " - DecisionTreeRegressor;\n",
    " - RandomForestRegressor;\n",
    " - CatBoostRegressor.\n",
    " \n",
    " \n",
    "4. Наилучшая модель по метрике RMSE - RandomForestRegressor. Метрики лучшей модели на обучающей выборке:  \n",
    " - RMSE = 14.161;  \n",
    " - time_fit (время обучения) = 242.108375 сек.;\n",
    " \n",
    "   Параметры лучшей модели:\n",
    " - min_samples_leaf: 4;\n",
    " - min_samples_split: 8;\n",
    " - max_depth: 10;\n",
    " - n_estimators: 100.\n",
    " \n",
    " \n",
    "5. Наиболее важные признаки для лучшей модели - значения, отстающее на 24, 48 и 72 часа."
   ]
  },
  {
   "cell_type": "markdown",
   "metadata": {},
   "source": [
    "## Тестирование"
   ]
  },
  {
   "cell_type": "markdown",
   "metadata": {},
   "source": [
    "Получаем лучшую модель и соответствующую тестовую выборку признаков:"
   ]
  },
  {
   "cell_type": "code",
   "execution_count": 41,
   "metadata": {},
   "outputs": [],
   "source": [
    "best_model = best_model_row.iloc[0][3]                               # лучшая модель\n",
    "X_test_best = best_model_row.iloc[0][4]                              # признаки тестовой выборки"
   ]
  },
  {
   "cell_type": "markdown",
   "metadata": {},
   "source": [
    "Предсказываем на тестовой выборке:"
   ]
  },
  {
   "cell_type": "code",
   "execution_count": 42,
   "metadata": {},
   "outputs": [],
   "source": [
    "y_pred_test = best_model.predict(X_test_best)"
   ]
  },
  {
   "cell_type": "markdown",
   "metadata": {},
   "source": [
    "Рассчитываем RMSE на тестовой выборке:"
   ]
  },
  {
   "cell_type": "code",
   "execution_count": 43,
   "metadata": {},
   "outputs": [
    {
     "name": "stdout",
     "output_type": "stream",
     "text": [
      "RMSE на тестовой выборке: 40.039\n"
     ]
    }
   ],
   "source": [
    "rmse_test = np.sqrt(mean_squared_error(y_test, y_pred_test))\n",
    "print('RMSE на тестовой выборке: {:.3f}'.format(rmse_test))"
   ]
  },
  {
   "cell_type": "markdown",
   "metadata": {},
   "source": [
    "## Общий вывод"
   ]
  },
  {
   "cell_type": "markdown",
   "metadata": {},
   "source": [
    "**Загрузка данных и общая информация**  \n",
    "\n",
    "1. Исходный датафрейм состоит из 26496 строк и 1 столбец. В Индексе содержатся даты и время.\n",
    "2. Датафрейм содержит данные за период с 2018-03-01 00:00:00 по 2018-08-31 23:50:00.\n",
    "3. Пропуски отсутствуют.\n",
    "4. Минимальное количество заказов - 0, максимальное - 119, медиана - 13. \n",
    "\n",
    "\n",
    "**Подготовка**  \n",
    "\n",
    "1. Произведен ресемплинг временного ряда. Период - 1 час.  \n",
    "2. Добавлены дополнительные признаки:  \n",
    " - month (месяц события);  \n",
    " - day (день месяца события);  \n",
    " - dayofweek (день недели события);  \n",
    " - hour (час события);  \n",
    " - признаки количества заказов по отстающим значениям;  \n",
    " - rolling_mean (скользящего среднего количества вызовов).  \n",
    " \n",
    "**Анализ**  \n",
    "\n",
    "1. В данных присутствует недельная и дневная сезонности.\n",
    "2. Значение p-value (0.029) ниже уровеня значимости (0.05) - с высокой долей вероятности временной ряд - стационарный.\n",
    "\n",
    "**Обучение**  \n",
    "\n",
    "1. Произведено масштабирование числовых признаков и кодировка категориальных методом OneHotEncoder для модели LinearRegression.\n",
    "2. Произведено масштабирование числовых признаков для моделей DecisionRegressor и RandomForestRegressor.\n",
    "3. Обучены следующие модели:\n",
    " - LinearRegression;\n",
    " - DecisionTreeRegressor;\n",
    " - RandomForestRegressor;\n",
    " - CatBoostRegressor.\n",
    " \n",
    " \n",
    "4. Наилучшая модель по метрике RMSE - RandomForestRegressor. Метрики лучшей модели на обучающей выборке:  \n",
    " - RMSE = 14.161;  \n",
    " - time_fit (время обучения) = 242.108375 сек.;\n",
    " \n",
    "   Параметры лучшей модели:\n",
    " - min_samples_leaf: 4;\n",
    " - min_samples_split: 8;\n",
    " - max_depth: 10;\n",
    " - n_estimators: 100.\n",
    " \n",
    "\n",
    "**Тестирование**  \n",
    "\n",
    "RMSE на тестовой выборке - 40.039, что удовлетворяет требованию заказчика (не более 48)."
   ]
  }
 ],
 "metadata": {
  "ExecuteTimeLog": [
   {
    "duration": 984,
    "start_time": "2023-08-12T17:16:23.940Z"
   },
   {
    "duration": 4076,
    "start_time": "2023-08-12T17:16:42.931Z"
   },
   {
    "duration": 1782,
    "start_time": "2023-08-12T17:16:50.887Z"
   },
   {
    "duration": 7245,
    "start_time": "2023-08-12T17:17:07.610Z"
   },
   {
    "duration": 200,
    "start_time": "2023-08-12T17:17:17.446Z"
   },
   {
    "duration": 2,
    "start_time": "2023-08-12T17:17:35.331Z"
   },
   {
    "duration": 4,
    "start_time": "2023-08-12T17:41:05.879Z"
   },
   {
    "duration": 1778,
    "start_time": "2023-08-12T17:41:05.885Z"
   },
   {
    "duration": 158,
    "start_time": "2023-08-12T17:41:07.665Z"
   },
   {
    "duration": 9,
    "start_time": "2023-08-12T17:41:07.825Z"
   },
   {
    "duration": 55,
    "start_time": "2023-08-12T17:41:07.836Z"
   },
   {
    "duration": 11,
    "start_time": "2023-08-12T17:41:07.893Z"
   },
   {
    "duration": 9,
    "start_time": "2023-08-12T17:41:07.905Z"
   },
   {
    "duration": 13,
    "start_time": "2023-08-12T17:41:07.915Z"
   },
   {
    "duration": 103,
    "start_time": "2023-08-12T17:41:07.930Z"
   },
   {
    "duration": 4,
    "start_time": "2023-08-12T17:41:08.035Z"
   },
   {
    "duration": 28,
    "start_time": "2023-08-12T17:41:08.040Z"
   },
   {
    "duration": 315,
    "start_time": "2023-08-12T17:41:08.070Z"
   },
   {
    "duration": 455,
    "start_time": "2023-08-12T17:41:08.387Z"
   },
   {
    "duration": 253,
    "start_time": "2023-08-12T17:41:08.846Z"
   },
   {
    "duration": 297,
    "start_time": "2023-08-12T17:41:09.101Z"
   },
   {
    "duration": 19,
    "start_time": "2023-08-12T17:41:09.400Z"
   },
   {
    "duration": 21,
    "start_time": "2023-08-12T17:41:09.421Z"
   },
   {
    "duration": 16,
    "start_time": "2023-08-12T17:41:09.444Z"
   },
   {
    "duration": 3,
    "start_time": "2023-08-12T17:41:09.469Z"
   },
   {
    "duration": 7,
    "start_time": "2023-08-12T17:41:09.473Z"
   },
   {
    "duration": 5,
    "start_time": "2023-08-12T17:41:09.482Z"
   },
   {
    "duration": 32,
    "start_time": "2023-08-12T17:41:09.489Z"
   },
   {
    "duration": 62,
    "start_time": "2023-08-12T17:41:09.524Z"
   },
   {
    "duration": 3,
    "start_time": "2023-08-12T17:41:09.588Z"
   },
   {
    "duration": 8,
    "start_time": "2023-08-12T17:41:09.593Z"
   },
   {
    "duration": 5,
    "start_time": "2023-08-12T17:41:09.603Z"
   },
   {
    "duration": 6,
    "start_time": "2023-08-12T17:41:09.610Z"
   },
   {
    "duration": 51,
    "start_time": "2023-08-12T17:44:03.884Z"
   },
   {
    "duration": 3,
    "start_time": "2023-08-12T17:44:13.096Z"
   },
   {
    "duration": 1932,
    "start_time": "2023-08-12T17:44:14.263Z"
   },
   {
    "duration": 51,
    "start_time": "2023-08-12T17:44:16.197Z"
   },
   {
    "duration": 17,
    "start_time": "2023-08-12T17:44:16.250Z"
   },
   {
    "duration": 45,
    "start_time": "2023-08-12T17:44:16.273Z"
   },
   {
    "duration": 9,
    "start_time": "2023-08-12T17:44:16.320Z"
   },
   {
    "duration": 5,
    "start_time": "2023-08-12T17:44:16.973Z"
   },
   {
    "duration": 9,
    "start_time": "2023-08-12T17:44:17.580Z"
   },
   {
    "duration": 79,
    "start_time": "2023-08-12T17:44:18.118Z"
   },
   {
    "duration": 6,
    "start_time": "2023-08-12T17:44:18.710Z"
   },
   {
    "duration": 8,
    "start_time": "2023-08-12T17:44:19.790Z"
   },
   {
    "duration": 327,
    "start_time": "2023-08-12T17:44:20.582Z"
   },
   {
    "duration": 453,
    "start_time": "2023-08-12T17:44:22.355Z"
   },
   {
    "duration": 208,
    "start_time": "2023-08-12T17:44:23.675Z"
   },
   {
    "duration": 310,
    "start_time": "2023-08-12T17:44:27.790Z"
   },
   {
    "duration": 237,
    "start_time": "2023-08-12T17:44:43.786Z"
   },
   {
    "duration": 322,
    "start_time": "2023-08-12T17:44:45.330Z"
   },
   {
    "duration": 20,
    "start_time": "2023-08-12T17:44:47.220Z"
   },
   {
    "duration": 3,
    "start_time": "2023-08-12T17:44:47.899Z"
   },
   {
    "duration": 13,
    "start_time": "2023-08-12T17:44:48.455Z"
   },
   {
    "duration": 9,
    "start_time": "2023-08-12T17:44:50.458Z"
   },
   {
    "duration": 11,
    "start_time": "2023-08-12T17:44:51.252Z"
   },
   {
    "duration": 9,
    "start_time": "2023-08-12T17:44:51.731Z"
   },
   {
    "duration": 32,
    "start_time": "2023-08-12T17:44:52.790Z"
   },
   {
    "duration": 48,
    "start_time": "2023-08-12T17:44:53.699Z"
   },
   {
    "duration": 3,
    "start_time": "2023-08-12T17:44:55.030Z"
   },
   {
    "duration": 3,
    "start_time": "2023-08-12T17:44:56.409Z"
   },
   {
    "duration": 192,
    "start_time": "2023-08-12T17:45:39.574Z"
   },
   {
    "duration": 16,
    "start_time": "2023-08-12T17:45:50.249Z"
   },
   {
    "duration": 6,
    "start_time": "2023-08-12T17:45:50.856Z"
   },
   {
    "duration": 7,
    "start_time": "2023-08-12T17:45:51.182Z"
   },
   {
    "duration": 3,
    "start_time": "2023-08-12T17:45:52.805Z"
   },
   {
    "duration": 4,
    "start_time": "2023-08-12T17:45:54.798Z"
   },
   {
    "duration": 6,
    "start_time": "2023-08-12T17:45:55.046Z"
   },
   {
    "duration": 33,
    "start_time": "2023-08-12T17:45:55.749Z"
   },
   {
    "duration": 65,
    "start_time": "2023-08-12T17:45:56.446Z"
   },
   {
    "duration": 4,
    "start_time": "2023-08-12T17:45:57.456Z"
   },
   {
    "duration": 4,
    "start_time": "2023-08-12T17:45:58.049Z"
   },
   {
    "duration": 5,
    "start_time": "2023-08-12T17:45:58.719Z"
   },
   {
    "duration": 6,
    "start_time": "2023-08-12T17:45:59.818Z"
   },
   {
    "duration": 29991,
    "start_time": "2023-08-12T17:46:01.210Z"
   },
   {
    "duration": 3,
    "start_time": "2023-08-12T17:48:37.834Z"
   },
   {
    "duration": 1836,
    "start_time": "2023-08-12T17:48:37.840Z"
   },
   {
    "duration": 52,
    "start_time": "2023-08-12T17:48:39.678Z"
   },
   {
    "duration": 9,
    "start_time": "2023-08-12T17:48:39.732Z"
   },
   {
    "duration": 54,
    "start_time": "2023-08-12T17:48:39.742Z"
   },
   {
    "duration": 8,
    "start_time": "2023-08-12T17:48:39.798Z"
   },
   {
    "duration": 3,
    "start_time": "2023-08-12T17:48:39.808Z"
   },
   {
    "duration": 11,
    "start_time": "2023-08-12T17:48:39.813Z"
   },
   {
    "duration": 94,
    "start_time": "2023-08-12T17:48:39.826Z"
   },
   {
    "duration": 7,
    "start_time": "2023-08-12T17:48:39.922Z"
   },
   {
    "duration": 21,
    "start_time": "2023-08-12T17:48:39.931Z"
   },
   {
    "duration": 295,
    "start_time": "2023-08-12T17:48:39.954Z"
   },
   {
    "duration": 417,
    "start_time": "2023-08-12T17:48:40.253Z"
   },
   {
    "duration": 188,
    "start_time": "2023-08-12T17:48:40.672Z"
   },
   {
    "duration": 263,
    "start_time": "2023-08-12T17:48:40.869Z"
   },
   {
    "duration": 37,
    "start_time": "2023-08-12T17:48:41.133Z"
   },
   {
    "duration": 3,
    "start_time": "2023-08-12T17:48:41.172Z"
   },
   {
    "duration": 34,
    "start_time": "2023-08-12T17:48:41.177Z"
   },
   {
    "duration": 5,
    "start_time": "2023-08-12T17:48:41.213Z"
   },
   {
    "duration": 15,
    "start_time": "2023-08-12T17:48:41.220Z"
   },
   {
    "duration": 6,
    "start_time": "2023-08-12T17:48:41.237Z"
   },
   {
    "duration": 51,
    "start_time": "2023-08-12T17:48:41.245Z"
   },
   {
    "duration": 40,
    "start_time": "2023-08-12T17:48:41.298Z"
   },
   {
    "duration": 2,
    "start_time": "2023-08-12T17:48:41.340Z"
   },
   {
    "duration": 12,
    "start_time": "2023-08-12T17:48:41.344Z"
   },
   {
    "duration": 19,
    "start_time": "2023-08-12T17:48:41.358Z"
   },
   {
    "duration": 22,
    "start_time": "2023-08-12T17:48:41.379Z"
   },
   {
    "duration": 24097,
    "start_time": "2023-08-12T17:48:41.403Z"
   },
   {
    "duration": 3626,
    "start_time": "2023-08-12T17:49:05.502Z"
   },
   {
    "duration": 238337,
    "start_time": "2023-08-12T17:49:09.130Z"
   },
   {
    "duration": 4,
    "start_time": "2023-08-12T17:54:57.423Z"
   },
   {
    "duration": 2055,
    "start_time": "2023-08-12T17:54:57.435Z"
   },
   {
    "duration": 52,
    "start_time": "2023-08-12T17:54:59.492Z"
   },
   {
    "duration": 10,
    "start_time": "2023-08-12T17:54:59.546Z"
   },
   {
    "duration": 48,
    "start_time": "2023-08-12T17:54:59.559Z"
   },
   {
    "duration": 9,
    "start_time": "2023-08-12T17:54:59.608Z"
   },
   {
    "duration": 3,
    "start_time": "2023-08-12T17:54:59.619Z"
   },
   {
    "duration": 51,
    "start_time": "2023-08-12T17:54:59.624Z"
   },
   {
    "duration": 47,
    "start_time": "2023-08-12T17:54:59.677Z"
   },
   {
    "duration": 5,
    "start_time": "2023-08-12T17:54:59.726Z"
   },
   {
    "duration": 27,
    "start_time": "2023-08-12T17:54:59.734Z"
   },
   {
    "duration": 439,
    "start_time": "2023-08-12T17:54:59.764Z"
   },
   {
    "duration": 980,
    "start_time": "2023-08-12T17:55:00.205Z"
   },
   {
    "duration": 489,
    "start_time": "2023-08-12T17:55:01.187Z"
   },
   {
    "duration": 710,
    "start_time": "2023-08-12T17:55:01.677Z"
   },
   {
    "duration": 71,
    "start_time": "2023-08-12T17:55:02.389Z"
   },
   {
    "duration": 5,
    "start_time": "2023-08-12T17:55:02.462Z"
   },
   {
    "duration": 66,
    "start_time": "2023-08-12T17:55:02.472Z"
   },
   {
    "duration": 81,
    "start_time": "2023-08-12T17:55:02.557Z"
   },
   {
    "duration": 56,
    "start_time": "2023-08-12T17:55:02.640Z"
   },
   {
    "duration": 69,
    "start_time": "2023-08-12T17:55:02.698Z"
   },
   {
    "duration": 138,
    "start_time": "2023-08-12T17:55:02.769Z"
   },
   {
    "duration": 150,
    "start_time": "2023-08-12T17:55:02.910Z"
   },
   {
    "duration": 6,
    "start_time": "2023-08-12T17:55:03.065Z"
   },
   {
    "duration": 14,
    "start_time": "2023-08-12T17:55:03.073Z"
   },
   {
    "duration": 25,
    "start_time": "2023-08-12T17:55:03.089Z"
   },
   {
    "duration": 41,
    "start_time": "2023-08-12T17:55:03.116Z"
   },
   {
    "duration": 32900,
    "start_time": "2023-08-12T17:55:03.166Z"
   },
   {
    "duration": 169,
    "start_time": "2023-08-12T17:55:36.078Z"
   },
   {
    "duration": 0,
    "start_time": "2023-08-12T17:55:36.249Z"
   },
   {
    "duration": 0,
    "start_time": "2023-08-12T17:55:36.250Z"
   },
   {
    "duration": 0,
    "start_time": "2023-08-12T17:55:36.251Z"
   },
   {
    "duration": 0,
    "start_time": "2023-08-12T17:55:36.252Z"
   },
   {
    "duration": 0,
    "start_time": "2023-08-12T17:55:36.256Z"
   },
   {
    "duration": 0,
    "start_time": "2023-08-12T17:55:36.256Z"
   },
   {
    "duration": 0,
    "start_time": "2023-08-12T17:55:36.257Z"
   },
   {
    "duration": 0,
    "start_time": "2023-08-12T17:55:36.260Z"
   },
   {
    "duration": 0,
    "start_time": "2023-08-12T17:55:36.266Z"
   },
   {
    "duration": 0,
    "start_time": "2023-08-12T17:55:36.267Z"
   },
   {
    "duration": 5,
    "start_time": "2023-08-12T17:58:17.502Z"
   },
   {
    "duration": 12,
    "start_time": "2023-08-12T17:58:17.751Z"
   },
   {
    "duration": 64041,
    "start_time": "2023-08-12T17:58:18.779Z"
   },
   {
    "duration": 3,
    "start_time": "2023-08-12T18:01:12.850Z"
   },
   {
    "duration": 1884,
    "start_time": "2023-08-12T18:01:12.856Z"
   },
   {
    "duration": 53,
    "start_time": "2023-08-12T18:01:14.741Z"
   },
   {
    "duration": 9,
    "start_time": "2023-08-12T18:01:14.796Z"
   },
   {
    "duration": 43,
    "start_time": "2023-08-12T18:01:14.807Z"
   },
   {
    "duration": 9,
    "start_time": "2023-08-12T18:01:14.867Z"
   },
   {
    "duration": 3,
    "start_time": "2023-08-12T18:01:14.878Z"
   },
   {
    "duration": 14,
    "start_time": "2023-08-12T18:01:14.883Z"
   },
   {
    "duration": 49,
    "start_time": "2023-08-12T18:01:14.899Z"
   },
   {
    "duration": 15,
    "start_time": "2023-08-12T18:01:14.956Z"
   },
   {
    "duration": 19,
    "start_time": "2023-08-12T18:01:14.973Z"
   },
   {
    "duration": 355,
    "start_time": "2023-08-12T18:01:14.994Z"
   },
   {
    "duration": 433,
    "start_time": "2023-08-12T18:01:15.352Z"
   },
   {
    "duration": 203,
    "start_time": "2023-08-12T18:01:15.787Z"
   },
   {
    "duration": 283,
    "start_time": "2023-08-12T18:01:15.992Z"
   },
   {
    "duration": 16,
    "start_time": "2023-08-12T18:01:16.277Z"
   },
   {
    "duration": 4,
    "start_time": "2023-08-12T18:01:16.294Z"
   },
   {
    "duration": 8,
    "start_time": "2023-08-12T18:01:16.299Z"
   },
   {
    "duration": 24,
    "start_time": "2023-08-12T18:01:16.309Z"
   },
   {
    "duration": 7,
    "start_time": "2023-08-12T18:01:16.335Z"
   },
   {
    "duration": 23,
    "start_time": "2023-08-12T18:01:16.344Z"
   },
   {
    "duration": 33,
    "start_time": "2023-08-12T18:01:16.373Z"
   },
   {
    "duration": 57,
    "start_time": "2023-08-12T18:01:16.408Z"
   },
   {
    "duration": 3,
    "start_time": "2023-08-12T18:01:16.467Z"
   },
   {
    "duration": 4,
    "start_time": "2023-08-12T18:01:16.471Z"
   },
   {
    "duration": 7,
    "start_time": "2023-08-12T18:01:16.480Z"
   },
   {
    "duration": 7,
    "start_time": "2023-08-12T18:01:16.488Z"
   },
   {
    "duration": 24922,
    "start_time": "2023-08-12T18:01:16.497Z"
   },
   {
    "duration": 2966,
    "start_time": "2023-08-12T18:01:41.420Z"
   },
   {
    "duration": 252048,
    "start_time": "2023-08-12T18:01:44.388Z"
   },
   {
    "duration": 940993,
    "start_time": "2023-08-12T18:05:56.438Z"
   },
   {
    "duration": 50,
    "start_time": "2023-08-12T18:21:37.433Z"
   },
   {
    "duration": 12,
    "start_time": "2023-08-12T18:21:37.486Z"
   },
   {
    "duration": 6,
    "start_time": "2023-08-12T18:21:37.500Z"
   },
   {
    "duration": 11,
    "start_time": "2023-08-12T18:21:37.508Z"
   },
   {
    "duration": 40,
    "start_time": "2023-08-12T18:21:37.521Z"
   },
   {
    "duration": 13,
    "start_time": "2023-08-12T18:21:37.565Z"
   },
   {
    "duration": 206,
    "start_time": "2023-08-12T18:21:37.584Z"
   },
   {
    "duration": 198,
    "start_time": "2023-08-12T18:39:57.488Z"
   },
   {
    "duration": 5,
    "start_time": "2023-08-12T18:49:02.522Z"
   },
   {
    "duration": 3,
    "start_time": "2023-08-14T06:33:15.071Z"
   },
   {
    "duration": 3,
    "start_time": "2023-08-14T06:33:40.901Z"
   },
   {
    "duration": 4,
    "start_time": "2023-08-14T06:43:05.115Z"
   },
   {
    "duration": 1824,
    "start_time": "2023-08-14T06:43:05.120Z"
   },
   {
    "duration": 3,
    "start_time": "2023-08-14T06:43:06.946Z"
   },
   {
    "duration": 58,
    "start_time": "2023-08-14T06:43:06.956Z"
   },
   {
    "duration": 10,
    "start_time": "2023-08-14T06:43:07.016Z"
   },
   {
    "duration": 61,
    "start_time": "2023-08-14T06:43:07.027Z"
   },
   {
    "duration": 9,
    "start_time": "2023-08-14T06:43:07.090Z"
   },
   {
    "duration": 21,
    "start_time": "2023-08-14T06:43:07.100Z"
   },
   {
    "duration": 59,
    "start_time": "2023-08-14T06:43:07.124Z"
   },
   {
    "duration": 5,
    "start_time": "2023-08-14T06:43:07.185Z"
   },
   {
    "duration": 11,
    "start_time": "2023-08-14T06:43:07.191Z"
   },
   {
    "duration": 321,
    "start_time": "2023-08-14T06:43:07.204Z"
   },
   {
    "duration": 412,
    "start_time": "2023-08-14T06:43:07.527Z"
   },
   {
    "duration": 192,
    "start_time": "2023-08-14T06:43:07.941Z"
   },
   {
    "duration": 298,
    "start_time": "2023-08-14T06:43:08.135Z"
   },
   {
    "duration": 31,
    "start_time": "2023-08-14T06:43:08.435Z"
   },
   {
    "duration": 4,
    "start_time": "2023-08-14T06:43:08.468Z"
   },
   {
    "duration": 12,
    "start_time": "2023-08-14T06:43:08.474Z"
   },
   {
    "duration": 19,
    "start_time": "2023-08-14T06:43:08.488Z"
   },
   {
    "duration": 6,
    "start_time": "2023-08-14T06:43:08.509Z"
   },
   {
    "duration": 7,
    "start_time": "2023-08-14T06:43:08.517Z"
   },
   {
    "duration": 42,
    "start_time": "2023-08-14T06:43:08.526Z"
   },
   {
    "duration": 38,
    "start_time": "2023-08-14T06:43:08.570Z"
   },
   {
    "duration": 3,
    "start_time": "2023-08-14T06:43:08.611Z"
   },
   {
    "duration": 6,
    "start_time": "2023-08-14T06:43:08.615Z"
   },
   {
    "duration": 8,
    "start_time": "2023-08-14T06:43:08.622Z"
   },
   {
    "duration": 178,
    "start_time": "2023-08-14T06:43:08.632Z"
   },
   {
    "duration": 0,
    "start_time": "2023-08-14T06:43:08.812Z"
   },
   {
    "duration": 0,
    "start_time": "2023-08-14T06:43:08.814Z"
   },
   {
    "duration": 0,
    "start_time": "2023-08-14T06:43:08.816Z"
   },
   {
    "duration": 0,
    "start_time": "2023-08-14T06:43:08.818Z"
   },
   {
    "duration": 0,
    "start_time": "2023-08-14T06:43:08.819Z"
   },
   {
    "duration": 0,
    "start_time": "2023-08-14T06:43:08.821Z"
   },
   {
    "duration": 0,
    "start_time": "2023-08-14T06:43:08.823Z"
   },
   {
    "duration": 0,
    "start_time": "2023-08-14T06:43:08.824Z"
   },
   {
    "duration": 0,
    "start_time": "2023-08-14T06:43:08.826Z"
   },
   {
    "duration": 0,
    "start_time": "2023-08-14T06:43:08.827Z"
   },
   {
    "duration": 5,
    "start_time": "2023-08-14T06:44:56.504Z"
   },
   {
    "duration": 26,
    "start_time": "2023-08-14T06:44:57.876Z"
   },
   {
    "duration": 5,
    "start_time": "2023-08-14T06:45:55.530Z"
   },
   {
    "duration": 15461,
    "start_time": "2023-08-14T06:45:56.750Z"
   },
   {
    "duration": 7,
    "start_time": "2023-08-14T06:47:03.992Z"
   },
   {
    "duration": 15175,
    "start_time": "2023-08-14T06:47:06.407Z"
   },
   {
    "duration": 2,
    "start_time": "2023-08-14T18:06:15.950Z"
   },
   {
    "duration": 5,
    "start_time": "2023-08-14T18:06:17.133Z"
   },
   {
    "duration": 4,
    "start_time": "2023-08-14T18:06:17.673Z"
   },
   {
    "duration": 46,
    "start_time": "2023-08-14T18:06:43.313Z"
   },
   {
    "duration": 7,
    "start_time": "2023-08-14T18:06:44.423Z"
   },
   {
    "duration": 33,
    "start_time": "2023-08-14T18:06:45.153Z"
   },
   {
    "duration": 7,
    "start_time": "2023-08-14T18:06:46.794Z"
   },
   {
    "duration": 9,
    "start_time": "2023-08-14T18:06:48.113Z"
   },
   {
    "duration": 57,
    "start_time": "2023-08-14T18:06:48.874Z"
   },
   {
    "duration": 5,
    "start_time": "2023-08-14T18:06:49.426Z"
   },
   {
    "duration": 7,
    "start_time": "2023-08-14T18:06:51.213Z"
   },
   {
    "duration": 212,
    "start_time": "2023-08-14T18:06:51.973Z"
   },
   {
    "duration": 255,
    "start_time": "2023-08-14T18:06:54.354Z"
   },
   {
    "duration": 185,
    "start_time": "2023-08-14T18:07:08.333Z"
   },
   {
    "duration": 243,
    "start_time": "2023-08-14T18:07:20.349Z"
   },
   {
    "duration": 16,
    "start_time": "2023-08-14T18:09:37.103Z"
   },
   {
    "duration": 7,
    "start_time": "2023-08-14T18:09:38.703Z"
   },
   {
    "duration": 22,
    "start_time": "2023-08-14T18:09:39.782Z"
   },
   {
    "duration": 5,
    "start_time": "2023-08-14T18:09:40.522Z"
   },
   {
    "duration": 9,
    "start_time": "2023-08-14T18:09:42.554Z"
   },
   {
    "duration": 7,
    "start_time": "2023-08-14T18:09:53.782Z"
   },
   {
    "duration": 217,
    "start_time": "2023-08-14T18:09:55.163Z"
   },
   {
    "duration": 283,
    "start_time": "2023-08-14T18:10:07.225Z"
   },
   {
    "duration": 190,
    "start_time": "2023-08-14T18:10:09.053Z"
   },
   {
    "duration": 392,
    "start_time": "2023-08-14T18:11:08.433Z"
   },
   {
    "duration": 10,
    "start_time": "2023-08-14T18:26:37.702Z"
   },
   {
    "duration": 7,
    "start_time": "2023-08-14T18:26:38.692Z"
   },
   {
    "duration": 220,
    "start_time": "2023-08-14T18:26:39.422Z"
   },
   {
    "duration": 273,
    "start_time": "2023-08-14T18:26:42.366Z"
   },
   {
    "duration": 13,
    "start_time": "2023-08-14T18:31:20.172Z"
   },
   {
    "duration": 7,
    "start_time": "2023-08-14T18:31:20.659Z"
   },
   {
    "duration": 183,
    "start_time": "2023-08-14T18:38:34.757Z"
   },
   {
    "duration": 2,
    "start_time": "2023-08-14T18:39:50.730Z"
   },
   {
    "duration": 5,
    "start_time": "2023-08-14T18:39:51.763Z"
   },
   {
    "duration": 3,
    "start_time": "2023-08-14T18:39:52.168Z"
   },
   {
    "duration": 47,
    "start_time": "2023-08-14T18:39:53.316Z"
   },
   {
    "duration": 8,
    "start_time": "2023-08-14T18:39:54.217Z"
   },
   {
    "duration": 32,
    "start_time": "2023-08-14T18:39:54.964Z"
   },
   {
    "duration": 8,
    "start_time": "2023-08-14T18:39:56.586Z"
   },
   {
    "duration": 9,
    "start_time": "2023-08-14T18:39:58.036Z"
   },
   {
    "duration": 53,
    "start_time": "2023-08-14T18:39:58.817Z"
   },
   {
    "duration": 6,
    "start_time": "2023-08-14T18:39:59.326Z"
   },
   {
    "duration": 11,
    "start_time": "2023-08-14T18:40:00.996Z"
   },
   {
    "duration": 10,
    "start_time": "2023-08-14T18:40:01.596Z"
   },
   {
    "duration": 240,
    "start_time": "2023-08-14T18:40:02.469Z"
   },
   {
    "duration": 271,
    "start_time": "2023-08-14T18:40:04.363Z"
   },
   {
    "duration": 173,
    "start_time": "2023-08-14T18:40:05.967Z"
   },
   {
    "duration": 11,
    "start_time": "2023-08-14T18:41:51.337Z"
   },
   {
    "duration": 9,
    "start_time": "2023-08-14T18:41:52.460Z"
   },
   {
    "duration": 211,
    "start_time": "2023-08-14T18:42:14.088Z"
   },
   {
    "duration": 285,
    "start_time": "2023-08-14T18:42:18.767Z"
   },
   {
    "duration": 188,
    "start_time": "2023-08-14T18:42:40.227Z"
   },
   {
    "duration": 3,
    "start_time": "2023-08-14T18:47:57.639Z"
   },
   {
    "duration": 3,
    "start_time": "2023-08-14T18:48:17.498Z"
   },
   {
    "duration": 29,
    "start_time": "2023-08-14T18:48:18.208Z"
   },
   {
    "duration": 32,
    "start_time": "2023-08-14T18:48:25.088Z"
   },
   {
    "duration": 1258,
    "start_time": "2023-08-14T18:48:38.908Z"
   },
   {
    "duration": 1372,
    "start_time": "2023-08-14T18:48:43.988Z"
   },
   {
    "duration": 6,
    "start_time": "2023-08-14T18:50:46.618Z"
   },
   {
    "duration": 98,
    "start_time": "2023-08-14T18:57:27.820Z"
   },
   {
    "duration": 1514,
    "start_time": "2023-08-14T19:01:57.149Z"
   },
   {
    "duration": 12,
    "start_time": "2023-08-14T19:09:11.070Z"
   },
   {
    "duration": 3,
    "start_time": "2023-08-14T19:09:24.370Z"
   },
   {
    "duration": 46,
    "start_time": "2023-08-14T19:09:25.670Z"
   },
   {
    "duration": 7,
    "start_time": "2023-08-14T19:09:26.470Z"
   },
   {
    "duration": 32,
    "start_time": "2023-08-14T19:09:27.073Z"
   },
   {
    "duration": 8,
    "start_time": "2023-08-14T19:09:28.581Z"
   },
   {
    "duration": 9,
    "start_time": "2023-08-14T19:09:29.800Z"
   },
   {
    "duration": 46,
    "start_time": "2023-08-14T19:09:30.410Z"
   },
   {
    "duration": 6,
    "start_time": "2023-08-14T19:09:30.901Z"
   },
   {
    "duration": 18,
    "start_time": "2023-08-14T19:09:33.050Z"
   },
   {
    "duration": 9,
    "start_time": "2023-08-14T19:09:33.541Z"
   },
   {
    "duration": 230,
    "start_time": "2023-08-14T19:09:34.170Z"
   },
   {
    "duration": 271,
    "start_time": "2023-08-14T19:09:35.140Z"
   },
   {
    "duration": 178,
    "start_time": "2023-08-14T19:09:35.669Z"
   },
   {
    "duration": 445,
    "start_time": "2023-08-14T19:09:38.030Z"
   },
   {
    "duration": 224,
    "start_time": "2023-08-14T19:09:56.181Z"
   },
   {
    "duration": 2665,
    "start_time": "2023-08-14T19:10:05.396Z"
   },
   {
    "duration": 93,
    "start_time": "2023-08-14T19:10:08.074Z"
   },
   {
    "duration": 4,
    "start_time": "2023-08-14T19:11:32.461Z"
   },
   {
    "duration": 106,
    "start_time": "2023-08-14T19:12:52.531Z"
   },
   {
    "duration": 4,
    "start_time": "2023-08-14T19:18:14.282Z"
   },
   {
    "duration": 3,
    "start_time": "2023-08-14T19:18:27.682Z"
   },
   {
    "duration": 5,
    "start_time": "2023-08-14T19:18:57.422Z"
   },
   {
    "duration": 6,
    "start_time": "2023-08-14T19:19:17.412Z"
   },
   {
    "duration": 5,
    "start_time": "2023-08-14T19:20:19.153Z"
   },
   {
    "duration": 84,
    "start_time": "2023-08-14T19:22:48.053Z"
   },
   {
    "duration": 113,
    "start_time": "2023-08-14T19:33:06.764Z"
   },
   {
    "duration": 10,
    "start_time": "2023-08-14T19:36:57.865Z"
   },
   {
    "duration": 62,
    "start_time": "2023-08-14T19:36:59.584Z"
   },
   {
    "duration": 15,
    "start_time": "2023-08-14T19:37:12.704Z"
   },
   {
    "duration": 16,
    "start_time": "2023-08-14T19:37:22.055Z"
   },
   {
    "duration": 4,
    "start_time": "2023-08-14T19:37:24.554Z"
   },
   {
    "duration": 3,
    "start_time": "2023-08-14T19:38:42.614Z"
   },
   {
    "duration": 5,
    "start_time": "2023-08-14T19:38:43.465Z"
   },
   {
    "duration": 7,
    "start_time": "2023-08-14T19:38:45.484Z"
   },
   {
    "duration": 16,
    "start_time": "2023-08-14T19:38:47.545Z"
   },
   {
    "duration": 18,
    "start_time": "2023-08-14T19:39:02.185Z"
   },
   {
    "duration": 33,
    "start_time": "2023-08-14T19:39:05.831Z"
   },
   {
    "duration": 44,
    "start_time": "2023-08-14T19:39:06.995Z"
   },
   {
    "duration": 3,
    "start_time": "2023-08-14T19:39:19.879Z"
   },
   {
    "duration": 1823,
    "start_time": "2023-08-14T19:39:19.884Z"
   },
   {
    "duration": 2,
    "start_time": "2023-08-14T19:39:21.709Z"
   },
   {
    "duration": 64,
    "start_time": "2023-08-14T19:39:21.713Z"
   },
   {
    "duration": 8,
    "start_time": "2023-08-14T19:39:21.780Z"
   },
   {
    "duration": 67,
    "start_time": "2023-08-14T19:39:21.790Z"
   },
   {
    "duration": 10,
    "start_time": "2023-08-14T19:39:21.859Z"
   },
   {
    "duration": 9,
    "start_time": "2023-08-14T19:39:21.871Z"
   },
   {
    "duration": 47,
    "start_time": "2023-08-14T19:39:21.882Z"
   },
   {
    "duration": 30,
    "start_time": "2023-08-14T19:39:21.930Z"
   },
   {
    "duration": 14,
    "start_time": "2023-08-14T19:39:21.961Z"
   },
   {
    "duration": 8,
    "start_time": "2023-08-14T19:39:21.976Z"
   },
   {
    "duration": 257,
    "start_time": "2023-08-14T19:39:21.986Z"
   },
   {
    "duration": 271,
    "start_time": "2023-08-14T19:39:22.255Z"
   },
   {
    "duration": 214,
    "start_time": "2023-08-14T19:39:22.527Z"
   },
   {
    "duration": 363,
    "start_time": "2023-08-14T19:39:22.743Z"
   },
   {
    "duration": 1554,
    "start_time": "2023-08-14T19:39:23.107Z"
   },
   {
    "duration": 94,
    "start_time": "2023-08-14T19:39:24.663Z"
   },
   {
    "duration": 100,
    "start_time": "2023-08-14T19:39:24.759Z"
   },
   {
    "duration": 169,
    "start_time": "2023-08-14T19:39:24.861Z"
   },
   {
    "duration": 0,
    "start_time": "2023-08-14T19:39:25.032Z"
   },
   {
    "duration": 0,
    "start_time": "2023-08-14T19:39:25.033Z"
   },
   {
    "duration": 0,
    "start_time": "2023-08-14T19:39:25.034Z"
   },
   {
    "duration": 0,
    "start_time": "2023-08-14T19:39:25.036Z"
   },
   {
    "duration": 0,
    "start_time": "2023-08-14T19:39:25.037Z"
   },
   {
    "duration": 0,
    "start_time": "2023-08-14T19:39:25.038Z"
   },
   {
    "duration": 0,
    "start_time": "2023-08-14T19:39:25.039Z"
   },
   {
    "duration": 0,
    "start_time": "2023-08-14T19:39:25.039Z"
   },
   {
    "duration": 0,
    "start_time": "2023-08-14T19:39:25.056Z"
   },
   {
    "duration": 0,
    "start_time": "2023-08-14T19:39:25.057Z"
   },
   {
    "duration": 0,
    "start_time": "2023-08-14T19:39:25.058Z"
   },
   {
    "duration": 0,
    "start_time": "2023-08-14T19:39:25.059Z"
   },
   {
    "duration": 0,
    "start_time": "2023-08-14T19:39:25.061Z"
   },
   {
    "duration": 0,
    "start_time": "2023-08-14T19:39:25.062Z"
   },
   {
    "duration": 0,
    "start_time": "2023-08-14T19:39:25.063Z"
   },
   {
    "duration": 0,
    "start_time": "2023-08-14T19:39:25.064Z"
   },
   {
    "duration": 0,
    "start_time": "2023-08-14T19:39:25.065Z"
   },
   {
    "duration": 0,
    "start_time": "2023-08-14T19:39:25.066Z"
   },
   {
    "duration": 0,
    "start_time": "2023-08-14T19:39:25.067Z"
   },
   {
    "duration": 0,
    "start_time": "2023-08-14T19:39:25.068Z"
   },
   {
    "duration": 0,
    "start_time": "2023-08-14T19:39:25.069Z"
   },
   {
    "duration": 0,
    "start_time": "2023-08-14T19:39:25.069Z"
   },
   {
    "duration": 0,
    "start_time": "2023-08-14T19:39:25.071Z"
   },
   {
    "duration": 0,
    "start_time": "2023-08-14T19:39:25.071Z"
   },
   {
    "duration": 4,
    "start_time": "2023-08-14T19:40:21.368Z"
   },
   {
    "duration": 4,
    "start_time": "2023-08-14T19:40:31.194Z"
   },
   {
    "duration": 6,
    "start_time": "2023-08-14T19:40:32.968Z"
   },
   {
    "duration": 3,
    "start_time": "2023-08-14T19:40:35.978Z"
   },
   {
    "duration": 4,
    "start_time": "2023-08-14T19:40:37.212Z"
   },
   {
    "duration": 8,
    "start_time": "2023-08-14T19:40:38.369Z"
   },
   {
    "duration": 27,
    "start_time": "2023-08-14T19:40:44.309Z"
   },
   {
    "duration": 43,
    "start_time": "2023-08-14T19:40:45.491Z"
   },
   {
    "duration": 3,
    "start_time": "2023-08-14T19:43:20.309Z"
   },
   {
    "duration": 4,
    "start_time": "2023-08-14T19:45:25.009Z"
   },
   {
    "duration": 10,
    "start_time": "2023-08-14T19:46:52.479Z"
   },
   {
    "duration": 11,
    "start_time": "2023-08-14T19:46:53.800Z"
   },
   {
    "duration": 2,
    "start_time": "2023-08-14T19:46:56.479Z"
   },
   {
    "duration": 4,
    "start_time": "2023-08-14T19:46:57.479Z"
   },
   {
    "duration": 8,
    "start_time": "2023-08-14T19:46:58.860Z"
   },
   {
    "duration": 15427,
    "start_time": "2023-08-14T19:47:00.639Z"
   },
   {
    "duration": 6,
    "start_time": "2023-08-14T19:47:30.019Z"
   },
   {
    "duration": 15508,
    "start_time": "2023-08-14T19:47:31.109Z"
   },
   {
    "duration": 6,
    "start_time": "2023-08-14T19:49:26.569Z"
   },
   {
    "duration": 15769,
    "start_time": "2023-08-14T19:49:27.889Z"
   },
   {
    "duration": 6,
    "start_time": "2023-08-14T19:51:24.269Z"
   },
   {
    "duration": 15611,
    "start_time": "2023-08-14T19:51:25.949Z"
   },
   {
    "duration": 5,
    "start_time": "2023-08-14T19:52:16.300Z"
   },
   {
    "duration": 17935,
    "start_time": "2023-08-14T19:52:17.829Z"
   },
   {
    "duration": 2018,
    "start_time": "2023-08-14T19:56:55.649Z"
   },
   {
    "duration": 159642,
    "start_time": "2023-08-14T19:57:02.010Z"
   },
   {
    "duration": 3,
    "start_time": "2023-08-14T20:00:32.605Z"
   },
   {
    "duration": 1760,
    "start_time": "2023-08-14T20:00:32.609Z"
   },
   {
    "duration": 3,
    "start_time": "2023-08-14T20:00:34.371Z"
   },
   {
    "duration": 59,
    "start_time": "2023-08-14T20:00:34.375Z"
   },
   {
    "duration": 9,
    "start_time": "2023-08-14T20:00:34.436Z"
   },
   {
    "duration": 42,
    "start_time": "2023-08-14T20:00:34.447Z"
   },
   {
    "duration": 8,
    "start_time": "2023-08-14T20:00:34.490Z"
   },
   {
    "duration": 15,
    "start_time": "2023-08-14T20:00:34.500Z"
   },
   {
    "duration": 71,
    "start_time": "2023-08-14T20:00:34.517Z"
   },
   {
    "duration": 5,
    "start_time": "2023-08-14T20:00:34.589Z"
   },
   {
    "duration": 15,
    "start_time": "2023-08-14T20:00:34.596Z"
   },
   {
    "duration": 8,
    "start_time": "2023-08-14T20:00:34.613Z"
   },
   {
    "duration": 253,
    "start_time": "2023-08-14T20:00:34.622Z"
   },
   {
    "duration": 267,
    "start_time": "2023-08-14T20:00:34.877Z"
   },
   {
    "duration": 205,
    "start_time": "2023-08-14T20:00:35.146Z"
   },
   {
    "duration": 342,
    "start_time": "2023-08-14T20:00:35.356Z"
   },
   {
    "duration": 1563,
    "start_time": "2023-08-14T20:00:35.700Z"
   },
   {
    "duration": 99,
    "start_time": "2023-08-14T20:00:37.267Z"
   },
   {
    "duration": 16,
    "start_time": "2023-08-14T20:00:37.457Z"
   },
   {
    "duration": 16,
    "start_time": "2023-08-14T20:00:37.475Z"
   },
   {
    "duration": 35,
    "start_time": "2023-08-14T20:00:37.493Z"
   },
   {
    "duration": 8,
    "start_time": "2023-08-14T20:00:37.530Z"
   },
   {
    "duration": 19,
    "start_time": "2023-08-14T20:00:37.539Z"
   },
   {
    "duration": 6,
    "start_time": "2023-08-14T20:00:37.560Z"
   },
   {
    "duration": 8,
    "start_time": "2023-08-14T20:00:37.569Z"
   },
   {
    "duration": 30,
    "start_time": "2023-08-14T20:00:37.579Z"
   },
   {
    "duration": 77,
    "start_time": "2023-08-14T20:00:37.611Z"
   },
   {
    "duration": 4,
    "start_time": "2023-08-14T20:00:37.690Z"
   },
   {
    "duration": 16,
    "start_time": "2023-08-14T20:00:37.697Z"
   },
   {
    "duration": 10,
    "start_time": "2023-08-14T20:00:37.714Z"
   },
   {
    "duration": 31,
    "start_time": "2023-08-14T20:00:37.726Z"
   },
   {
    "duration": 5,
    "start_time": "2023-08-14T20:00:37.759Z"
   },
   {
    "duration": 16191,
    "start_time": "2023-08-14T20:00:37.766Z"
   },
   {
    "duration": 2085,
    "start_time": "2023-08-14T20:00:53.959Z"
   },
   {
    "duration": 178824,
    "start_time": "2023-08-14T20:00:56.046Z"
   },
   {
    "duration": 850053,
    "start_time": "2023-08-14T20:03:54.873Z"
   },
   {
    "duration": 146,
    "start_time": "2023-08-14T20:18:04.928Z"
   },
   {
    "duration": 0,
    "start_time": "2023-08-14T20:18:05.075Z"
   },
   {
    "duration": 0,
    "start_time": "2023-08-14T20:18:05.076Z"
   },
   {
    "duration": 0,
    "start_time": "2023-08-14T20:18:05.077Z"
   },
   {
    "duration": 0,
    "start_time": "2023-08-14T20:18:05.078Z"
   },
   {
    "duration": 0,
    "start_time": "2023-08-14T20:18:05.079Z"
   },
   {
    "duration": 0,
    "start_time": "2023-08-14T20:18:05.081Z"
   },
   {
    "duration": 23,
    "start_time": "2023-08-14T20:26:03.807Z"
   },
   {
    "duration": 14,
    "start_time": "2023-08-14T20:26:13.138Z"
   },
   {
    "duration": 5,
    "start_time": "2023-08-14T20:26:16.427Z"
   },
   {
    "duration": 16,
    "start_time": "2023-08-14T20:26:20.378Z"
   },
   {
    "duration": 5,
    "start_time": "2023-08-14T20:26:31.497Z"
   },
   {
    "duration": 76,
    "start_time": "2023-08-14T20:26:39.057Z"
   },
   {
    "duration": 5,
    "start_time": "2023-08-14T20:26:51.777Z"
   },
   {
    "duration": 14,
    "start_time": "2023-08-14T20:26:57.488Z"
   },
   {
    "duration": 14,
    "start_time": "2023-08-14T20:27:19.717Z"
   },
   {
    "duration": 4,
    "start_time": "2023-08-14T20:27:33.367Z"
   },
   {
    "duration": 71,
    "start_time": "2023-08-14T20:30:27.128Z"
   },
   {
    "duration": 5,
    "start_time": "2023-08-14T20:30:41.558Z"
   },
   {
    "duration": 22,
    "start_time": "2023-08-14T20:30:48.358Z"
   },
   {
    "duration": 177,
    "start_time": "2023-08-14T20:31:01.238Z"
   },
   {
    "duration": 16,
    "start_time": "2023-08-14T20:41:30.910Z"
   },
   {
    "duration": 4,
    "start_time": "2023-08-14T20:42:15.349Z"
   },
   {
    "duration": 21,
    "start_time": "2023-08-14T20:42:20.459Z"
   },
   {
    "duration": 17,
    "start_time": "2023-08-14T20:42:22.229Z"
   },
   {
    "duration": 5,
    "start_time": "2023-08-14T20:42:23.099Z"
   },
   {
    "duration": 7,
    "start_time": "2023-08-14T20:42:40.339Z"
   },
   {
    "duration": 181,
    "start_time": "2023-08-14T20:42:50.109Z"
   },
   {
    "duration": 25,
    "start_time": "2023-08-14T20:44:39.472Z"
   },
   {
    "duration": 18,
    "start_time": "2023-08-14T20:44:54.299Z"
   },
   {
    "duration": 11,
    "start_time": "2023-08-14T20:44:55.409Z"
   },
   {
    "duration": 5,
    "start_time": "2023-08-14T20:44:57.459Z"
   },
   {
    "duration": 32,
    "start_time": "2023-08-14T20:44:59.261Z"
   },
   {
    "duration": 186,
    "start_time": "2023-08-14T20:44:59.649Z"
   },
   {
    "duration": 15,
    "start_time": "2023-08-14T20:46:55.850Z"
   },
   {
    "duration": 3,
    "start_time": "2023-08-14T20:47:11.470Z"
   },
   {
    "duration": 12,
    "start_time": "2023-08-14T20:47:12.701Z"
   },
   {
    "duration": 6,
    "start_time": "2023-08-14T20:47:13.850Z"
   },
   {
    "duration": 4,
    "start_time": "2023-08-14T20:58:57.961Z"
   },
   {
    "duration": 1945,
    "start_time": "2023-08-14T20:58:57.967Z"
   },
   {
    "duration": 3,
    "start_time": "2023-08-14T20:58:59.914Z"
   },
   {
    "duration": 77,
    "start_time": "2023-08-14T20:58:59.920Z"
   },
   {
    "duration": 10,
    "start_time": "2023-08-14T20:58:59.999Z"
   },
   {
    "duration": 117,
    "start_time": "2023-08-14T20:59:00.011Z"
   },
   {
    "duration": 9,
    "start_time": "2023-08-14T20:59:00.130Z"
   },
   {
    "duration": 24,
    "start_time": "2023-08-14T20:59:00.141Z"
   },
   {
    "duration": 60,
    "start_time": "2023-08-14T20:59:00.167Z"
   },
   {
    "duration": 5,
    "start_time": "2023-08-14T20:59:00.229Z"
   },
   {
    "duration": 32,
    "start_time": "2023-08-14T20:59:00.235Z"
   },
   {
    "duration": 23,
    "start_time": "2023-08-14T20:59:00.269Z"
   },
   {
    "duration": 257,
    "start_time": "2023-08-14T20:59:00.294Z"
   },
   {
    "duration": 284,
    "start_time": "2023-08-14T20:59:00.557Z"
   },
   {
    "duration": 201,
    "start_time": "2023-08-14T20:59:00.843Z"
   },
   {
    "duration": 382,
    "start_time": "2023-08-14T20:59:01.046Z"
   },
   {
    "duration": 1725,
    "start_time": "2023-08-14T20:59:01.430Z"
   },
   {
    "duration": 4,
    "start_time": "2023-08-14T20:59:03.158Z"
   },
   {
    "duration": 114,
    "start_time": "2023-08-14T20:59:03.164Z"
   },
   {
    "duration": 6,
    "start_time": "2023-08-14T20:59:03.280Z"
   },
   {
    "duration": 13,
    "start_time": "2023-08-14T20:59:03.288Z"
   },
   {
    "duration": 18,
    "start_time": "2023-08-14T20:59:03.303Z"
   },
   {
    "duration": 30,
    "start_time": "2023-08-14T20:59:03.324Z"
   },
   {
    "duration": 23,
    "start_time": "2023-08-14T20:59:03.356Z"
   },
   {
    "duration": 38,
    "start_time": "2023-08-14T20:59:03.382Z"
   },
   {
    "duration": 82,
    "start_time": "2023-08-14T20:59:03.421Z"
   },
   {
    "duration": 42,
    "start_time": "2023-08-14T20:59:03.505Z"
   },
   {
    "duration": 3,
    "start_time": "2023-08-14T20:59:03.549Z"
   },
   {
    "duration": 28,
    "start_time": "2023-08-14T20:59:03.554Z"
   },
   {
    "duration": 21,
    "start_time": "2023-08-14T20:59:03.583Z"
   },
   {
    "duration": 20,
    "start_time": "2023-08-14T20:59:03.606Z"
   },
   {
    "duration": 35,
    "start_time": "2023-08-14T20:59:03.628Z"
   },
   {
    "duration": 17232,
    "start_time": "2023-08-14T20:59:03.665Z"
   },
   {
    "duration": 0,
    "start_time": "2023-08-14T20:59:20.898Z"
   },
   {
    "duration": 0,
    "start_time": "2023-08-14T20:59:20.900Z"
   },
   {
    "duration": 0,
    "start_time": "2023-08-14T20:59:20.901Z"
   },
   {
    "duration": 0,
    "start_time": "2023-08-14T20:59:20.902Z"
   },
   {
    "duration": 0,
    "start_time": "2023-08-14T20:59:20.903Z"
   },
   {
    "duration": 0,
    "start_time": "2023-08-14T20:59:20.904Z"
   },
   {
    "duration": 0,
    "start_time": "2023-08-14T20:59:20.906Z"
   },
   {
    "duration": 0,
    "start_time": "2023-08-14T20:59:20.907Z"
   },
   {
    "duration": 0,
    "start_time": "2023-08-14T20:59:20.908Z"
   },
   {
    "duration": 0,
    "start_time": "2023-08-14T20:59:20.909Z"
   },
   {
    "duration": 3,
    "start_time": "2023-08-14T21:00:31.953Z"
   },
   {
    "duration": 1776,
    "start_time": "2023-08-14T21:00:31.958Z"
   },
   {
    "duration": 4,
    "start_time": "2023-08-14T21:00:33.736Z"
   },
   {
    "duration": 68,
    "start_time": "2023-08-14T21:00:33.742Z"
   },
   {
    "duration": 10,
    "start_time": "2023-08-14T21:00:33.812Z"
   },
   {
    "duration": 55,
    "start_time": "2023-08-14T21:00:33.824Z"
   },
   {
    "duration": 9,
    "start_time": "2023-08-14T21:00:33.881Z"
   },
   {
    "duration": 40,
    "start_time": "2023-08-14T21:00:33.891Z"
   },
   {
    "duration": 73,
    "start_time": "2023-08-14T21:00:33.933Z"
   },
   {
    "duration": 6,
    "start_time": "2023-08-14T21:00:34.009Z"
   },
   {
    "duration": 18,
    "start_time": "2023-08-14T21:00:34.017Z"
   },
   {
    "duration": 26,
    "start_time": "2023-08-14T21:00:34.037Z"
   },
   {
    "duration": 261,
    "start_time": "2023-08-14T21:00:34.067Z"
   },
   {
    "duration": 278,
    "start_time": "2023-08-14T21:00:34.330Z"
   },
   {
    "duration": 194,
    "start_time": "2023-08-14T21:00:34.610Z"
   },
   {
    "duration": 373,
    "start_time": "2023-08-14T21:00:34.805Z"
   },
   {
    "duration": 1678,
    "start_time": "2023-08-14T21:00:35.180Z"
   },
   {
    "duration": 4,
    "start_time": "2023-08-14T21:00:36.860Z"
   },
   {
    "duration": 131,
    "start_time": "2023-08-14T21:00:36.866Z"
   },
   {
    "duration": 4,
    "start_time": "2023-08-14T21:00:36.999Z"
   },
   {
    "duration": 8,
    "start_time": "2023-08-14T21:00:37.005Z"
   },
   {
    "duration": 8,
    "start_time": "2023-08-14T21:00:37.014Z"
   },
   {
    "duration": 5,
    "start_time": "2023-08-14T21:00:37.024Z"
   },
   {
    "duration": 26,
    "start_time": "2023-08-14T21:00:37.031Z"
   },
   {
    "duration": 23,
    "start_time": "2023-08-14T21:00:37.059Z"
   },
   {
    "duration": 40,
    "start_time": "2023-08-14T21:00:37.084Z"
   },
   {
    "duration": 41,
    "start_time": "2023-08-14T21:00:37.126Z"
   },
   {
    "duration": 4,
    "start_time": "2023-08-14T21:00:37.169Z"
   },
   {
    "duration": 21,
    "start_time": "2023-08-14T21:00:37.174Z"
   },
   {
    "duration": 11,
    "start_time": "2023-08-14T21:00:37.197Z"
   },
   {
    "duration": 3,
    "start_time": "2023-08-14T21:00:37.212Z"
   },
   {
    "duration": 8,
    "start_time": "2023-08-14T21:00:37.217Z"
   },
   {
    "duration": 16811,
    "start_time": "2023-08-14T21:00:37.257Z"
   },
   {
    "duration": 2505,
    "start_time": "2023-08-14T21:00:54.160Z"
   },
   {
    "duration": 208790,
    "start_time": "2023-08-14T21:00:56.666Z"
   },
   {
    "duration": 834549,
    "start_time": "2023-08-14T21:04:25.458Z"
   },
   {
    "duration": 20,
    "start_time": "2023-08-14T21:18:20.010Z"
   },
   {
    "duration": 12,
    "start_time": "2023-08-14T21:18:20.032Z"
   },
   {
    "duration": 11,
    "start_time": "2023-08-14T21:18:20.046Z"
   },
   {
    "duration": 181,
    "start_time": "2023-08-14T21:18:20.059Z"
   },
   {
    "duration": 4,
    "start_time": "2023-08-14T21:18:20.241Z"
   },
   {
    "duration": 27,
    "start_time": "2023-08-14T21:18:20.246Z"
   },
   {
    "duration": 4,
    "start_time": "2023-08-14T21:18:20.275Z"
   },
   {
    "duration": 3,
    "start_time": "2023-08-14T21:29:12.444Z"
   },
   {
    "duration": 1786,
    "start_time": "2023-08-14T21:29:12.449Z"
   },
   {
    "duration": 4,
    "start_time": "2023-08-14T21:29:14.237Z"
   },
   {
    "duration": 65,
    "start_time": "2023-08-14T21:29:14.243Z"
   },
   {
    "duration": 11,
    "start_time": "2023-08-14T21:29:14.310Z"
   },
   {
    "duration": 53,
    "start_time": "2023-08-14T21:29:14.324Z"
   },
   {
    "duration": 9,
    "start_time": "2023-08-14T21:29:14.378Z"
   },
   {
    "duration": 20,
    "start_time": "2023-08-14T21:29:14.388Z"
   },
   {
    "duration": 68,
    "start_time": "2023-08-14T21:29:14.410Z"
   },
   {
    "duration": 4,
    "start_time": "2023-08-14T21:29:14.480Z"
   },
   {
    "duration": 30,
    "start_time": "2023-08-14T21:29:14.486Z"
   },
   {
    "duration": 17,
    "start_time": "2023-08-14T21:29:14.518Z"
   },
   {
    "duration": 250,
    "start_time": "2023-08-14T21:29:14.536Z"
   },
   {
    "duration": 273,
    "start_time": "2023-08-14T21:29:14.787Z"
   },
   {
    "duration": 191,
    "start_time": "2023-08-14T21:29:15.062Z"
   },
   {
    "duration": 348,
    "start_time": "2023-08-14T21:29:15.256Z"
   },
   {
    "duration": 1554,
    "start_time": "2023-08-14T21:29:15.606Z"
   },
   {
    "duration": 4,
    "start_time": "2023-08-14T21:29:17.162Z"
   },
   {
    "duration": 195,
    "start_time": "2023-08-14T21:29:17.168Z"
   },
   {
    "duration": 4,
    "start_time": "2023-08-14T21:29:17.368Z"
   },
   {
    "duration": 13,
    "start_time": "2023-08-14T21:29:17.374Z"
   },
   {
    "duration": 23,
    "start_time": "2023-08-14T21:29:17.389Z"
   },
   {
    "duration": 7,
    "start_time": "2023-08-14T21:29:17.414Z"
   },
   {
    "duration": 11,
    "start_time": "2023-08-14T21:29:17.423Z"
   },
   {
    "duration": 25,
    "start_time": "2023-08-14T21:29:17.436Z"
   },
   {
    "duration": 48,
    "start_time": "2023-08-14T21:29:17.463Z"
   },
   {
    "duration": 56,
    "start_time": "2023-08-14T21:29:17.513Z"
   },
   {
    "duration": 3,
    "start_time": "2023-08-14T21:29:17.571Z"
   },
   {
    "duration": 19,
    "start_time": "2023-08-14T21:29:17.578Z"
   },
   {
    "duration": 14,
    "start_time": "2023-08-14T21:29:17.599Z"
   },
   {
    "duration": 3,
    "start_time": "2023-08-14T21:29:17.614Z"
   },
   {
    "duration": 39,
    "start_time": "2023-08-14T21:29:17.619Z"
   },
   {
    "duration": 17799,
    "start_time": "2023-08-14T21:29:17.661Z"
   },
   {
    "duration": 2374,
    "start_time": "2023-08-14T21:29:35.461Z"
   },
   {
    "duration": 242257,
    "start_time": "2023-08-14T21:29:37.836Z"
   },
   {
    "duration": 818618,
    "start_time": "2023-08-14T21:33:40.094Z"
   },
   {
    "duration": 18,
    "start_time": "2023-08-14T21:47:18.713Z"
   },
   {
    "duration": 9,
    "start_time": "2023-08-14T21:47:18.733Z"
   },
   {
    "duration": 16,
    "start_time": "2023-08-14T21:47:18.744Z"
   },
   {
    "duration": 218,
    "start_time": "2023-08-14T21:47:18.761Z"
   },
   {
    "duration": 3,
    "start_time": "2023-08-14T21:47:18.981Z"
   },
   {
    "duration": 20,
    "start_time": "2023-08-14T21:47:18.986Z"
   },
   {
    "duration": 4,
    "start_time": "2023-08-14T21:47:19.007Z"
   },
   {
    "duration": 2,
    "start_time": "2023-08-14T21:52:35.070Z"
   },
   {
    "duration": 1710,
    "start_time": "2023-08-14T21:52:35.075Z"
   },
   {
    "duration": 3,
    "start_time": "2023-08-14T21:52:36.787Z"
   },
   {
    "duration": 55,
    "start_time": "2023-08-14T21:52:36.792Z"
   },
   {
    "duration": 9,
    "start_time": "2023-08-14T21:52:36.849Z"
   },
   {
    "duration": 43,
    "start_time": "2023-08-14T21:52:36.859Z"
   },
   {
    "duration": 9,
    "start_time": "2023-08-14T21:52:36.904Z"
   },
   {
    "duration": 42,
    "start_time": "2023-08-14T21:52:36.915Z"
   },
   {
    "duration": 50,
    "start_time": "2023-08-14T21:52:36.959Z"
   },
   {
    "duration": 5,
    "start_time": "2023-08-14T21:52:37.010Z"
   },
   {
    "duration": 42,
    "start_time": "2023-08-14T21:52:37.017Z"
   },
   {
    "duration": 8,
    "start_time": "2023-08-14T21:52:37.061Z"
   },
   {
    "duration": 233,
    "start_time": "2023-08-14T21:52:37.070Z"
   },
   {
    "duration": 273,
    "start_time": "2023-08-14T21:52:37.305Z"
   },
   {
    "duration": 187,
    "start_time": "2023-08-14T21:52:37.580Z"
   },
   {
    "duration": 349,
    "start_time": "2023-08-14T21:52:37.769Z"
   },
   {
    "duration": 1538,
    "start_time": "2023-08-14T21:52:38.120Z"
   },
   {
    "duration": 5,
    "start_time": "2023-08-14T21:52:39.660Z"
   },
   {
    "duration": 105,
    "start_time": "2023-08-14T21:52:39.667Z"
   },
   {
    "duration": 3,
    "start_time": "2023-08-14T21:52:39.774Z"
   },
   {
    "duration": 14,
    "start_time": "2023-08-14T21:52:39.779Z"
   },
   {
    "duration": 11,
    "start_time": "2023-08-14T21:52:39.795Z"
   },
   {
    "duration": 13,
    "start_time": "2023-08-14T21:52:39.808Z"
   },
   {
    "duration": 17,
    "start_time": "2023-08-14T21:52:39.824Z"
   },
   {
    "duration": 15,
    "start_time": "2023-08-14T21:52:39.843Z"
   },
   {
    "duration": 61,
    "start_time": "2023-08-14T21:52:39.859Z"
   },
   {
    "duration": 38,
    "start_time": "2023-08-14T21:52:39.922Z"
   },
   {
    "duration": 3,
    "start_time": "2023-08-14T21:52:39.962Z"
   },
   {
    "duration": 34,
    "start_time": "2023-08-14T21:52:39.967Z"
   },
   {
    "duration": 30,
    "start_time": "2023-08-14T21:52:40.003Z"
   },
   {
    "duration": 17,
    "start_time": "2023-08-14T21:52:40.035Z"
   },
   {
    "duration": 34,
    "start_time": "2023-08-14T21:52:40.054Z"
   },
   {
    "duration": 14573,
    "start_time": "2023-08-14T21:52:40.090Z"
   },
   {
    "duration": 2127,
    "start_time": "2023-08-14T21:52:54.665Z"
   },
   {
    "duration": 3,
    "start_time": "2023-08-14T21:54:36.089Z"
   },
   {
    "duration": 1702,
    "start_time": "2023-08-14T21:54:36.099Z"
   },
   {
    "duration": 2,
    "start_time": "2023-08-14T21:54:37.803Z"
   },
   {
    "duration": 55,
    "start_time": "2023-08-14T21:54:37.806Z"
   },
   {
    "duration": 8,
    "start_time": "2023-08-14T21:54:37.863Z"
   },
   {
    "duration": 43,
    "start_time": "2023-08-14T21:54:37.873Z"
   },
   {
    "duration": 8,
    "start_time": "2023-08-14T21:54:37.917Z"
   },
   {
    "duration": 8,
    "start_time": "2023-08-14T21:54:37.957Z"
   },
   {
    "duration": 43,
    "start_time": "2023-08-14T21:54:37.967Z"
   },
   {
    "duration": 5,
    "start_time": "2023-08-14T21:54:38.011Z"
   },
   {
    "duration": 44,
    "start_time": "2023-08-14T21:54:38.017Z"
   },
   {
    "duration": 10,
    "start_time": "2023-08-14T21:54:38.063Z"
   },
   {
    "duration": 242,
    "start_time": "2023-08-14T21:54:38.075Z"
   },
   {
    "duration": 297,
    "start_time": "2023-08-14T21:54:38.319Z"
   },
   {
    "duration": 214,
    "start_time": "2023-08-14T21:54:38.619Z"
   },
   {
    "duration": 407,
    "start_time": "2023-08-14T21:54:38.835Z"
   },
   {
    "duration": 1522,
    "start_time": "2023-08-14T21:54:39.244Z"
   },
   {
    "duration": 4,
    "start_time": "2023-08-14T21:54:40.858Z"
   },
   {
    "duration": 109,
    "start_time": "2023-08-14T21:54:40.863Z"
   },
   {
    "duration": 3,
    "start_time": "2023-08-14T21:54:40.973Z"
   },
   {
    "duration": 6,
    "start_time": "2023-08-14T21:54:40.977Z"
   },
   {
    "duration": 10,
    "start_time": "2023-08-14T21:54:40.985Z"
   },
   {
    "duration": 5,
    "start_time": "2023-08-14T21:54:40.996Z"
   },
   {
    "duration": 16,
    "start_time": "2023-08-14T21:54:41.002Z"
   },
   {
    "duration": 8,
    "start_time": "2023-08-14T21:54:41.019Z"
   },
   {
    "duration": 29,
    "start_time": "2023-08-14T21:54:41.056Z"
   },
   {
    "duration": 40,
    "start_time": "2023-08-14T21:54:41.086Z"
   },
   {
    "duration": 4,
    "start_time": "2023-08-14T21:54:41.127Z"
   },
   {
    "duration": 17,
    "start_time": "2023-08-14T21:54:41.157Z"
   },
   {
    "duration": 9,
    "start_time": "2023-08-14T21:54:41.176Z"
   },
   {
    "duration": 2,
    "start_time": "2023-08-14T21:54:41.186Z"
   },
   {
    "duration": 6,
    "start_time": "2023-08-14T21:54:41.190Z"
   },
   {
    "duration": 14565,
    "start_time": "2023-08-14T21:54:41.198Z"
   },
   {
    "duration": 2484,
    "start_time": "2023-08-14T21:54:55.765Z"
   },
   {
    "duration": 171663,
    "start_time": "2023-08-14T21:54:58.257Z"
   },
   {
    "duration": 816929,
    "start_time": "2023-08-14T21:57:49.922Z"
   },
   {
    "duration": 18,
    "start_time": "2023-08-14T22:11:26.853Z"
   },
   {
    "duration": 19,
    "start_time": "2023-08-14T22:11:26.873Z"
   },
   {
    "duration": 39,
    "start_time": "2023-08-14T22:11:26.894Z"
   },
   {
    "duration": 177,
    "start_time": "2023-08-14T22:11:26.936Z"
   },
   {
    "duration": 4,
    "start_time": "2023-08-14T22:11:27.115Z"
   },
   {
    "duration": 32,
    "start_time": "2023-08-14T22:11:27.124Z"
   },
   {
    "duration": 5,
    "start_time": "2023-08-14T22:11:27.158Z"
   },
   {
    "duration": 3,
    "start_time": "2023-08-14T22:17:06.879Z"
   },
   {
    "duration": 1795,
    "start_time": "2023-08-14T22:17:06.884Z"
   },
   {
    "duration": 3,
    "start_time": "2023-08-14T22:17:08.681Z"
   },
   {
    "duration": 59,
    "start_time": "2023-08-14T22:17:08.685Z"
   },
   {
    "duration": 10,
    "start_time": "2023-08-14T22:17:08.746Z"
   },
   {
    "duration": 46,
    "start_time": "2023-08-14T22:17:08.757Z"
   },
   {
    "duration": 8,
    "start_time": "2023-08-14T22:17:08.805Z"
   },
   {
    "duration": 41,
    "start_time": "2023-08-14T22:17:08.815Z"
   },
   {
    "duration": 56,
    "start_time": "2023-08-14T22:17:08.859Z"
   },
   {
    "duration": 6,
    "start_time": "2023-08-14T22:17:08.918Z"
   },
   {
    "duration": 39,
    "start_time": "2023-08-14T22:17:08.927Z"
   },
   {
    "duration": 8,
    "start_time": "2023-08-14T22:17:08.968Z"
   },
   {
    "duration": 237,
    "start_time": "2023-08-14T22:17:08.977Z"
   },
   {
    "duration": 272,
    "start_time": "2023-08-14T22:17:09.217Z"
   },
   {
    "duration": 195,
    "start_time": "2023-08-14T22:17:09.490Z"
   },
   {
    "duration": 353,
    "start_time": "2023-08-14T22:17:09.687Z"
   },
   {
    "duration": 1519,
    "start_time": "2023-08-14T22:17:10.041Z"
   },
   {
    "duration": 95,
    "start_time": "2023-08-14T22:17:11.562Z"
   },
   {
    "duration": 107,
    "start_time": "2023-08-14T22:17:11.659Z"
   },
   {
    "duration": 4,
    "start_time": "2023-08-14T22:17:11.768Z"
   },
   {
    "duration": 11,
    "start_time": "2023-08-14T22:17:11.774Z"
   },
   {
    "duration": 22,
    "start_time": "2023-08-14T22:17:11.787Z"
   },
   {
    "duration": 17,
    "start_time": "2023-08-14T22:17:11.811Z"
   },
   {
    "duration": 22,
    "start_time": "2023-08-14T22:17:11.830Z"
   },
   {
    "duration": 9,
    "start_time": "2023-08-14T22:17:11.854Z"
   },
   {
    "duration": 36,
    "start_time": "2023-08-14T22:17:11.865Z"
   },
   {
    "duration": 63,
    "start_time": "2023-08-14T22:17:11.903Z"
   },
   {
    "duration": 3,
    "start_time": "2023-08-14T22:17:11.968Z"
   },
   {
    "duration": 13,
    "start_time": "2023-08-14T22:17:11.976Z"
   },
   {
    "duration": 12,
    "start_time": "2023-08-14T22:17:11.991Z"
   },
   {
    "duration": 2,
    "start_time": "2023-08-14T22:17:12.005Z"
   },
   {
    "duration": 50,
    "start_time": "2023-08-14T22:17:12.009Z"
   },
   {
    "duration": 14900,
    "start_time": "2023-08-14T22:17:12.061Z"
   },
   {
    "duration": 2541,
    "start_time": "2023-08-14T22:17:26.962Z"
   },
   {
    "duration": 171387,
    "start_time": "2023-08-14T22:17:29.504Z"
   },
   {
    "duration": 815458,
    "start_time": "2023-08-14T22:20:20.893Z"
   },
   {
    "duration": 19,
    "start_time": "2023-08-14T22:33:56.352Z"
   },
   {
    "duration": 10,
    "start_time": "2023-08-14T22:33:56.373Z"
   },
   {
    "duration": 8,
    "start_time": "2023-08-14T22:33:56.384Z"
   },
   {
    "duration": 203,
    "start_time": "2023-08-14T22:33:56.394Z"
   },
   {
    "duration": 4,
    "start_time": "2023-08-14T22:33:56.599Z"
   },
   {
    "duration": 21,
    "start_time": "2023-08-14T22:33:56.604Z"
   },
   {
    "duration": 4,
    "start_time": "2023-08-14T22:33:56.627Z"
   }
  ],
  "kernelspec": {
   "display_name": "Python 3 (ipykernel)",
   "language": "python",
   "name": "python3"
  },
  "language_info": {
   "codemirror_mode": {
    "name": "ipython",
    "version": 3
   },
   "file_extension": ".py",
   "mimetype": "text/x-python",
   "name": "python",
   "nbconvert_exporter": "python",
   "pygments_lexer": "ipython3",
   "version": "3.11.5"
  },
  "toc": {
   "base_numbering": 1,
   "nav_menu": {},
   "number_sections": true,
   "sideBar": true,
   "skip_h1_title": true,
   "title_cell": "Содержание",
   "title_sidebar": "Contents",
   "toc_cell": true,
   "toc_position": {},
   "toc_section_display": true,
   "toc_window_display": true
  }
 },
 "nbformat": 4,
 "nbformat_minor": 2
}
